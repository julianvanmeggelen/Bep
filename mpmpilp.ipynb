{
 "cells": [
  {
   "cell_type": "code",
   "execution_count": 1,
   "metadata": {
    "cell_id": "115dfcfd-d755-4880-bad6-3327ad0adb95",
    "deepnote_cell_height": 225,
    "deepnote_cell_type": "code",
    "deepnote_to_be_reexecuted": false,
    "execution_millis": 2437,
    "execution_start": 1655329805068,
    "source_hash": "4a0d8f35",
    "tags": []
   },
   "outputs": [],
   "source": [
    "import pandas as pd\n",
    "import numpy as np\n",
    "import seaborn as sns\n",
    "import matplotlib.pyplot as plt\n",
    "from tqdm import tqdm\n",
    "from pulp import *\n",
    "import math\n",
    "import pulp as pl\n",
    "import gurobipy as gp\n",
    "sns.set()"
   ]
  },
  {
   "cell_type": "code",
   "execution_count": 2,
   "metadata": {
    "cell_id": "00001-be137c43-5d22-4704-abfb-e0504bf0b6be",
    "deepnote_cell_height": 657,
    "deepnote_cell_type": "code",
    "deepnote_to_be_reexecuted": false,
    "execution_millis": 98,
    "execution_start": 1655329930666,
    "source_hash": "5dce8540",
    "tags": []
   },
   "outputs": [],
   "source": [
    "production = pd.read_csv(\"production.csv\")\n",
    "purchasing = pd.read_csv(\"purchasing.csv\")\n",
    "bom = pd.read_csv('bom.csv')\n",
    "stock = pd.read_csv(\"stock.csv\")\n",
    "components = pd.read_csv('components.csv')\n",
    "articles = pd.read_csv(\"articles.csv\")\n",
    "\n",
    "purchasing['date'] = pd.to_datetime(purchasing['date'])\n",
    "production['date']  = pd.to_datetime(production['date'])\n",
    "stock['date'] = pd.to_datetime(stock['date'])\n",
    "\n",
    "#preprocess stock and purchasing to work with follow ups\n",
    "def processFollowUp(components, stock, purchasing, bom):\n",
    "    #replace new component numbers for old component numbers in stock, purchasing, bom\n",
    "    replaceDict = components[~np.isnan(components['follow_up_component'])][['component_number','follow_up_component']].astype('int').set_index('follow_up_component')['component_number'].to_dict()\n",
    "    purchasing['component_number'] = purchasing['component_number'].replace(replaceDict)\n",
    "    stock['component_number'] = stock['component_number'].replace(replaceDict)\n",
    "    bom['component_number'] = bom['component_number'].replace(replaceDict)\n",
    "    return stock, purchasing, bom\n",
    "\n",
    "stock, purchasing, bom = processFollowUp(components, stock, purchasing, bom)\n",
    "\n",
    "\n",
    "allComponents = set(bom['component_number']) | set(purchasing['component_number']) | set(stock['component_number'])\n",
    "\n",
    "productionDays = list(production['date'].sort_values(ascending=True).unique())\n",
    "purchasingDays = list(purchasing['date'].unique())\n",
    "allDays = sorted(productionDays + purchasingDays)\n",
    "allDays = list(dict.fromkeys(allDays))\n",
    "day0 = allDays[0] \n",
    "\n",
    "#drop duplicates in bom for now, later allow for bom changes\n",
    "bom = bom.drop_duplicates(subset=['article_number','component_number'])"
   ]
  },
  {
   "cell_type": "code",
   "execution_count": 3,
   "metadata": {
    "cell_id": "00002-b4eac3a9-8b79-49e4-82cf-1f2683776bf9",
    "deepnote_cell_height": 116.1875,
    "deepnote_cell_type": "code",
    "deepnote_to_be_reexecuted": false,
    "execution_millis": 7,
    "execution_start": 1655329933501,
    "source_hash": "e35e8b6a",
    "tags": []
   },
   "outputs": [
    {
     "name": "stdout",
     "output_type": "stream",
     "text": [
      "Total window for which production schedule is required: 2022-02-16 00:00:00 - 2022-08-15 00:00:00\n"
     ]
    }
   ],
   "source": [
    "print(f\"Total window for which production schedule is required: {production['date'].min()} - {production['date'].max()}\")"
   ]
  },
  {
   "cell_type": "code",
   "execution_count": 4,
   "metadata": {
    "cell_id": "00003-0d6a9bb2-e902-4550-9508-21dc5f586494",
    "deepnote_cell_height": 189,
    "deepnote_cell_type": "code",
    "deepnote_to_be_reexecuted": false,
    "execution_millis": 1,
    "execution_start": 1655329936259,
    "source_hash": "8a8b7a9c",
    "tags": []
   },
   "outputs": [],
   "source": [
    "#general cnfiguration\n",
    "class Config():\n",
    "    DAY_PRODUCTION_CAPACITY = 1184\n",
    "    X_CAT = 'Integer'\n",
    "    BATCH_SIZE = 16\n",
    "    DAY_BATCH_PRODUCTION_CAPACITY = (DAY_PRODUCTION_CAPACITY/BATCH_SIZE)\n",
    "    I_UPPER_BOUND = 100000000"
   ]
  },
  {
   "cell_type": "markdown",
   "metadata": {
    "cell_id": "00004-11b1a3ed-39a5-437a-af37-a07a877fedad",
    "deepnote_cell_height": 62,
    "deepnote_cell_type": "markdown",
    "tags": []
   },
   "source": [
    "### Pre processing"
   ]
  },
  {
   "cell_type": "markdown",
   "metadata": {
    "cell_id": "00005-b2d4adf4-efdd-4f82-ae6f-53570230e8f2",
    "deepnote_cell_height": 54,
    "deepnote_cell_type": "markdown",
    "tags": []
   },
   "source": [
    "##### Add beginning inventory as purchase on day 0, to make simpler"
   ]
  },
  {
   "cell_type": "code",
   "execution_count": 5,
   "metadata": {
    "cell_id": "00006-306c7bb4-db6f-42a4-a853-372eea69a9cb",
    "deepnote_cell_height": 261,
    "deepnote_cell_type": "code",
    "deepnote_to_be_reexecuted": false,
    "execution_millis": 6,
    "execution_start": 1655329939386,
    "source_hash": "9b0aaccd",
    "tags": []
   },
   "outputs": [],
   "source": [
    "def processNegativePurchasing(stock, purchasing):\n",
    "    purchasingProcessed = purchasing.copy()\n",
    "    purchasingProcessed = pd.concat([stock, purchasing])\n",
    "    purchasingProcessed = purchasingProcessed.groupby(by=[\"component_number\", \"date\"]).sum().reset_index().sort_values(by=['date','component_number'])\n",
    "\n",
    "    for componentNumber in tqdm(purchasing['component_number'].unique()):\n",
    "        stockOverTime = purchasingProcessed.loc[purchasingProcessed['component_number'] == componentNumber, \"quantity\"].cumsum()\n",
    "        stockOverTimeMonotonicallyIncreasing = pd.Series(index = stockOverTime.index, data = np.minimum.accumulate(stockOverTime[::-1]))\n",
    "        componentProcessedPurchasing = stockOverTimeMonotonicallyIncreasing - stockOverTimeMonotonicallyIncreasing.shift(1, fill_value=0)\n",
    "        purchasingProcessed.loc[purchasingProcessed['component_number'] == componentNumber, 'quantity'] = componentProcessedPurchasing.values\n",
    "    return purchasingProcessed"
   ]
  },
  {
   "cell_type": "code",
   "execution_count": 6,
   "metadata": {
    "cell_id": "00007-b5452093-a2ff-4c34-9e7b-d3741788233e",
    "deepnote_cell_height": 111.6875,
    "deepnote_cell_type": "code",
    "deepnote_to_be_reexecuted": false,
    "execution_millis": 2634,
    "execution_start": 1655329941026,
    "source_hash": "850ed8a0",
    "tags": []
   },
   "outputs": [
    {
     "name": "stderr",
     "output_type": "stream",
     "text": [
      "100%|██████████| 1335/1335 [00:05<00:00, 224.80it/s]\n"
     ]
    }
   ],
   "source": [
    "purchasingProcessed = processNegativePurchasing(stock, purchasing)"
   ]
  },
  {
   "cell_type": "code",
   "execution_count": 7,
   "metadata": {
    "cell_id": "00008-dcd12fce-c5b3-4abb-87c9-36820660301a",
    "deepnote_cell_height": 207,
    "deepnote_cell_type": "code",
    "deepnote_to_be_reexecuted": false,
    "execution_millis": 0,
    "execution_start": 1655329943659,
    "source_hash": "1aca49ba",
    "tags": []
   },
   "outputs": [],
   "source": [
    "def convertToBatchSize(bom, articles, batchSize):\n",
    "    # bom quantities * batchSize\n",
    "    # articles revenue * 16\n",
    "    bomProcessed = bom.copy()\n",
    "    articlesProcessed = articles.copy()\n",
    "    bomProcessed['quantity'] = bomProcessed['quantity'] * batchSize\n",
    "    articlesProcessed['revenue'] = articlesProcessed['revenue'] * batchSize\n",
    "    return bomProcessed, articlesProcessed"
   ]
  },
  {
   "cell_type": "code",
   "execution_count": 8,
   "metadata": {
    "cell_id": "00009-e64043ff-d7f8-4f5d-b438-7c6e3c26492b",
    "deepnote_cell_height": 81,
    "deepnote_cell_type": "code",
    "deepnote_to_be_reexecuted": false,
    "execution_millis": 5,
    "execution_start": 1655329952083,
    "source_hash": "92910d29",
    "tags": []
   },
   "outputs": [],
   "source": [
    "bomBatch, articlesBatch = convertToBatchSize(bom, articles, Config.BATCH_SIZE)"
   ]
  },
  {
   "cell_type": "markdown",
   "metadata": {
    "cell_id": "00010-6316e9df-082f-48c9-9224-e4425e0094c7",
    "deepnote_cell_height": 62,
    "deepnote_cell_type": "markdown",
    "tags": []
   },
   "source": [
    "### Some classes & methods"
   ]
  },
  {
   "cell_type": "code",
   "execution_count": 9,
   "metadata": {
    "cell_id": "00011-935e67f3-611b-4088-8f0c-b9fab2af0a26",
    "deepnote_cell_height": 891,
    "deepnote_cell_type": "code",
    "deepnote_to_be_reexecuted": false,
    "execution_millis": 2,
    "execution_start": 1655329955847,
    "source_hash": "29e93be9",
    "tags": []
   },
   "outputs": [],
   "source": [
    "class Inventory(object):\n",
    "    def __init__(self, purchasing: pd.DataFrame):\n",
    "        self.purchasing = purchasing\n",
    "\n",
    "    def purchasingForDay(self, date, componentNumber = None):\n",
    "        date = self.checkTimestamp(date)\n",
    "\n",
    "        if componentNumber is None:\n",
    "            #returns pd.Series with component_number as index & quantity\n",
    "            res =  self.purchasing[self.purchasing['date'] == date].groupby(by = 'component_number')['quantity'].sum().reindex(allComponents, fill_value=0)\n",
    "            res[res<0] = 0\n",
    "            return res\n",
    "        else:\n",
    "            #returns int with quantity\n",
    "            return self.purchasing[(self.purchasing['date'] == date) & (self.purchasing['component_number'] == componentNumber)]['quantity'].sum()\n",
    "\n",
    "    def purchasingForPeriod(self, beginDate, endDate, componentNumber = None, inclusive=True):\n",
    "\n",
    "        beginDate, endDate = self.checkTimestamp(beginDate), self.checkTimestamp(endDate)\n",
    "\n",
    "        if componentNumber is None:\n",
    "            #returns pd.Series with component_number as index & quantity\n",
    "            res = self.purchasing[self.purchasing['date'].between(beginDate, endDate, inclusive = inclusive)].groupby(by = 'component_number')['quantity'].sum().reindex(allComponents, fill_value=0)\n",
    "            res[res<0] = 0\n",
    "            return res \n",
    "            \n",
    "        else:\n",
    "            #returns int with quantity\n",
    "            return self.purchasing[(self.purchasing['date'].between(beginDate, endDate, inclusive = inclusive)) & (self.purchasing['component_number'] == componentNumber)]['quantity'].sum()\n",
    "\n",
    "    def checkTimestamp(self, date):\n",
    "        if type(date) is str:\n",
    "            return pd.Timestamp(date)\n",
    "        else:\n",
    "            return date\n",
    "\n",
    "    def add(self, begginingInv: pd.Series, date):\n",
    "        #add component inventory to first day (for residuals of previous period)\n",
    "        if begginingInv is not None:\n",
    "            begginingInvDf = begginingInv.reset_index()\n",
    "            begginingInvDf['date'] = date\n",
    "            self.purchasing = pd.concat([self.purchasing, begginingInvDf])\n",
    "        return self\n",
    "\n",
    "\n"
   ]
  },
  {
   "cell_type": "code",
   "execution_count": 10,
   "metadata": {
    "cell_id": "00012-fed2420a-457a-4ba9-8c2b-dbc0b17d3351",
    "deepnote_cell_height": 81,
    "deepnote_cell_type": "code",
    "deepnote_to_be_reexecuted": false,
    "execution_millis": 3,
    "execution_start": 1655329961145,
    "source_hash": "733b12f0",
    "tags": []
   },
   "outputs": [],
   "source": [
    "test = Inventory(purchasingProcessed)"
   ]
  },
  {
   "cell_type": "code",
   "execution_count": 11,
   "metadata": {
    "cell_id": "00013-4711a352-cc1b-44cd-bb8f-e72d432b502d",
    "deepnote_cell_height": 81,
    "deepnote_cell_type": "code",
    "deepnote_to_be_reexecuted": false,
    "execution_millis": 1,
    "execution_start": 1655329961758,
    "source_hash": "52ee59fc",
    "tags": []
   },
   "outputs": [],
   "source": [
    "remainingInventory = pd.Series(index = pd.Index(data=[0,1,2,3,4], name=\"component_number\"), data=[2,3,4,3,2], name='quantity')"
   ]
  },
  {
   "cell_type": "code",
   "execution_count": 12,
   "metadata": {
    "cell_id": "00014-57d162fd-7ab0-4ca1-b7cd-927a90cc9960",
    "deepnote_cell_height": 162.1875,
    "deepnote_cell_type": "code",
    "deepnote_table_loading": false,
    "deepnote_table_state": {
     "filters": [],
     "pageIndex": 6288,
     "pageSize": 10,
     "sortBy": []
    },
    "deepnote_to_be_reexecuted": false,
    "execution_millis": 14,
    "execution_start": 1655329975698,
    "source_hash": "c15e163d",
    "tags": []
   },
   "outputs": [
    {
     "ename": "TypeError",
     "evalue": "add() missing 1 required positional argument: 'date'",
     "output_type": "error",
     "traceback": [
      "\u001b[0;31m---------------------------------------------------------------------------\u001b[0m",
      "\u001b[0;31mTypeError\u001b[0m                                 Traceback (most recent call last)",
      "\u001b[0;32m<ipython-input-12-8dfb1b519010>\u001b[0m in \u001b[0;36m<module>\u001b[0;34m\u001b[0m\n\u001b[0;32m----> 1\u001b[0;31m \u001b[0mtest\u001b[0m \u001b[0;34m=\u001b[0m \u001b[0mtest\u001b[0m\u001b[0;34m.\u001b[0m\u001b[0madd\u001b[0m\u001b[0;34m(\u001b[0m\u001b[0mremainingInventory\u001b[0m\u001b[0;34m)\u001b[0m\u001b[0;34m\u001b[0m\u001b[0;34m\u001b[0m\u001b[0m\n\u001b[0m\u001b[1;32m      2\u001b[0m \u001b[0mtest\u001b[0m\u001b[0;34m.\u001b[0m\u001b[0mpurchasing\u001b[0m\u001b[0;34m\u001b[0m\u001b[0;34m\u001b[0m\u001b[0m\n",
      "\u001b[0;31mTypeError\u001b[0m: add() missing 1 required positional argument: 'date'"
     ]
    }
   ],
   "source": [
    "test = test.add(remainingInventory)\n",
    "test.purchasing"
   ]
  },
  {
   "cell_type": "code",
   "execution_count": null,
   "metadata": {
    "cell_id": "00015-d05efdd8-3ca6-499a-b595-eb4b99af8906",
    "deepnote_cell_height": 315,
    "deepnote_cell_type": "code",
    "deepnote_to_be_reexecuted": false,
    "execution_millis": 1,
    "execution_start": 1655329977042,
    "source_hash": "f47f9abb",
    "tags": []
   },
   "outputs": [],
   "source": [
    "def createPeriods(beginDate, endDate, nPeriods, inclusive=False):\n",
    "    beginDate = pd.Timestamp(beginDate)\n",
    "    endDate = pd.Timestamp(endDate)\n",
    "    length = (endDate - beginDate).days\n",
    "    lengthPerPeriod = int(length/nPeriods)\n",
    "    res = []\n",
    "    for i in range(nPeriods-1):\n",
    "        addDay = (not inclusive) and (i is not 0)\n",
    "        periodBegin =  beginDate + pd.Timedelta(days= i * lengthPerPeriod + addDay)\n",
    "        periodEnd = beginDate + pd.Timedelta(days= (i+1) * lengthPerPeriod)\n",
    "        res.append((periodBegin, periodEnd))\n",
    "    \n",
    "    res.append((res[-1][-1] + pd.Timedelta(days=int(not inclusive)), endDate))\n",
    "    return res"
   ]
  },
  {
   "cell_type": "code",
   "execution_count": null,
   "metadata": {
    "cell_id": "00016-127e4c20-0962-4559-8ab3-dd249c9600db",
    "deepnote_cell_height": 135,
    "deepnote_cell_type": "code",
    "deepnote_to_be_reexecuted": false,
    "execution_millis": 3,
    "execution_start": 1655329979555,
    "source_hash": "f425a630",
    "tags": []
   },
   "outputs": [],
   "source": [
    "def nBusDays(periodBegin: pd.Timestamp, periodEnd: pd.Timestamp):\n",
    "    periodBegin = periodBegin.to_pydatetime().date()\n",
    "    periodEnd= periodEnd.to_pydatetime().date()\n",
    "    return np.busday_count(periodBegin, periodEnd)"
   ]
  },
  {
   "cell_type": "code",
   "execution_count": 13,
   "metadata": {
    "cell_id": "00017-a89da532-54fe-4532-9f7f-5673dd8e941b",
    "deepnote_cell_height": 99,
    "deepnote_cell_type": "code",
    "deepnote_to_be_reexecuted": false,
    "execution_millis": 0,
    "execution_start": 1655329980974,
    "source_hash": "43dd4b70",
    "tags": []
   },
   "outputs": [],
   "source": [
    "def getBusDaysInPeriod(periodBegin: pd.Timestamp, periodEnd: pd.Timestamp):\n",
    "    return list(pd.bdate_range(periodBegin, periodEnd))"
   ]
  },
  {
   "cell_type": "code",
   "execution_count": 14,
   "metadata": {
    "cell_id": "00018-30ed67d7-2bfa-4482-a913-24d9c118e7da",
    "deepnote_cell_height": 153,
    "deepnote_cell_type": "code",
    "deepnote_to_be_reexecuted": false,
    "execution_millis": 1,
    "execution_start": 1655329980977,
    "source_hash": "5348dbf7",
    "tags": []
   },
   "outputs": [],
   "source": [
    "def getComponentsRequired(componentNumber, bom):\n",
    "    required = bom[(bom['component_number'] == componentNumber)]\n",
    "    if len(required) == 0:\n",
    "        return 0\n",
    "    return required.set_index(\"article_number\")['quantity']"
   ]
  },
  {
   "cell_type": "code",
   "execution_count": 15,
   "metadata": {
    "cell_id": "00019-22e5fe53-2c59-439f-a551-5a1367bf6dbe",
    "deepnote_cell_height": 279,
    "deepnote_cell_type": "code",
    "deepnote_to_be_reexecuted": false,
    "execution_millis": 43,
    "execution_start": 1655329980987,
    "source_hash": "8da1230c",
    "tags": []
   },
   "outputs": [],
   "source": [
    "def createProductionDf(x, daysInPeriod, articles): #articles = articlesBatch\n",
    "    productionDict = {i:_.value() for i,_ in x.items()}\n",
    "    productionDf = pd.DataFrame( productionDict.values(), index = productionDict.keys(), columns=['quantity_batch'])\n",
    "    productionDf = productionDf.reset_index()\n",
    "    productionDf.columns = ['article_number', 'day_nr', 'quantity_batch']\n",
    "    productionDf['day'] = productionDf['day_nr'].apply(lambda el: daysInPeriod[el-1])\n",
    "    productionDf = productionDf[['day','day_nr','article_number', 'quantity_batch']].sort_values(by=['day_nr','article_number'])\n",
    "    productionDf['quantity'] = productionDf['quantity_batch'] * Config.BATCH_SIZE\n",
    "    revenue = articles.set_index('article_number')['revenue'].to_dict()\n",
    "    productionDf['article_revenue'] = productionDf['article_number'].apply(lambda el: revenue[el])\n",
    "    productionDf['revenue_total'] = productionDf['article_revenue'] * productionDf['quantity_batch'] \n",
    "    return productionDf[productionDf['quantity'] > 0]"
   ]
  },
  {
   "cell_type": "code",
   "execution_count": 16,
   "metadata": {
    "cell_id": "00020-fb53857e-a827-4460-a72d-84453e74f110",
    "deepnote_cell_height": 297,
    "deepnote_cell_type": "code",
    "deepnote_to_be_reexecuted": false,
    "execution_millis": 1,
    "execution_start": 1655329981030,
    "source_hash": "43da8a2e",
    "tags": []
   },
   "outputs": [],
   "source": [
    "def getRemainingComponents(productionDf:pd.DataFrame, totalPeriodInventory :pd.Series, bom):\n",
    "    #take a productionDf and \n",
    "    #productionDf dataframe with columns article_number, quantity_tot\n",
    "    #totalPeriodInventory  series with index component number values quantity\n",
    "    #productionDfGrouped = productionDf.groupby(by='article_number').sum()['quantity_batch']\n",
    "    componentUsage = pd.merge(left=productionDf, right=bom, left_on='article_number', right_on='article_number', how ='left')\n",
    "    componentUsage['quantity'] = componentUsage['quantity_batch'] * componentUsage['quantity_y']\n",
    "    componentUsage = componentUsage.groupby(by='component_number').sum()['quantity']\n",
    "    remainingInventory = totalPeriodInventory.subtract(componentUsage, fill_value=0) \n",
    "    print(\"remaininginv\", remainingInventory)\n",
    "    #maybe only q>0\n",
    "    return remainingInventory\n"
   ]
  },
  {
   "cell_type": "code",
   "execution_count": 17,
   "metadata": {
    "cell_id": "00021-7c3a42cb-6d63-47ca-86b2-03a9bd40afd2",
    "deepnote_cell_height": 171,
    "deepnote_cell_type": "code",
    "deepnote_to_be_reexecuted": false,
    "execution_millis": 3,
    "execution_start": 1655329982402,
    "source_hash": "bb07699a",
    "tags": []
   },
   "outputs": [],
   "source": [
    "def checkWhichArticlesCanBeMade(purchasing, batch):\n",
    "    purchasing = purchasing.groupby(by=['component_number']).sum()['quantity']\n",
    "    for article in articles['article_number']:\n",
    "        bomBatch = bom[bom['article_number'] == article].set_index('component_number')['quantity']\n",
    "        diff = (purchasing.subtract(bomBatch, fill_value=0))\n",
    "        print(article, \":\\t\", (diff>=0).all(), '\\tMissing', list(diff[diff<0].index))"
   ]
  },
  {
   "cell_type": "markdown",
   "metadata": {
    "cell_id": "00022-6f817eca-a1a1-4c3c-ab80-4da109813d5a",
    "deepnote_cell_height": 462.203125,
    "deepnote_cell_type": "markdown",
    "tags": []
   },
   "source": [
    "### Multi period formulation\n",
    "\n",
    "P: production capacity per day \\\n",
    "$r_i$: revenue article i \\\n",
    "$q_{ij}$: Amount of component j needed for article i \\\n",
    "$d_{jt}$: Purchasing of component j arriving at the beggining of day t \\\n",
    "$T$ total duration of the period \\\n",
    "$x_{it}$: Quantity produced of article i on day t \\\n",
    "$I_{jt}$: Inventory flow from period t to t+1 for component j \n",
    "\n",
    "\n",
    "Objective: \\\n",
    "$Max$ $ \\sum_{t=1}^T \\sum_{i=1}^n x_{it}r_{i}$ \\\n",
    "st.  \n",
    "\n",
    "\n",
    "$\\sum_{i=1}^n x_{it} * q_{ij} - d_{jt} + I_{jt-1} - I_{jt} = 0 \\hspace{20pt} t=1,...,T \\hspace{10pt} j =1,...,m$ \n",
    "\n",
    "$I_{jt} >= 0 \\hspace{135pt} t=1,...,T \\hspace{10pt} j =1,...,m$ \n",
    "\n",
    "$\\sum_{i=1}^n x_{it} <= P \\hspace{107pt} t=1,...,T $\n",
    "\n",
    "\n",
    "Idea: filter problem beforehand: which bikes can be made at all?"
   ]
  },
  {
   "cell_type": "code",
   "execution_count": 18,
   "metadata": {
    "cell_id": "c38119fdd857495da173e2066475a347",
    "deepnote_cell_height": 531,
    "deepnote_cell_type": "code",
    "deepnote_to_be_reexecuted": false,
    "execution_millis": 0,
    "execution_start": 1655330269504,
    "source_hash": "9aee8c04",
    "tags": []
   },
   "outputs": [],
   "source": [
    "def multiPeriodILPOld(daysInPeriod, articles, inv: Inventory, bom):\n",
    "    model = LpProblem(name='Production', sense=LpMaximize)\n",
    "    T = len(daysInPeriod)\n",
    "    x = {(i, t): LpVariable(name=f\"x_p_{i},d_{t}\", lowBound=0, upBound=Config.DAY_BATCH_PRODUCTION_CAPACITY, cat=Config.X_CAT) for i in articles['article_number'] for t in range(1,T+1)}\n",
    "    print(f\"Multi period ILP for period {daysInPeriod[0]} to {daysInPeriod[-1]}\")\n",
    "    print(f\"This entails {T} days: {daysInPeriod}\")\n",
    "    #print(f\"Created variables: {x}\")\n",
    "    revenue = articles.set_index('article_number')['revenue'].to_dict()\n",
    "    #print(revenue)\n",
    "    model += lpSum(x[(i,t)] * revenue[i] for i in articles['article_number'] for t in range(1,T+1))\n",
    "\n",
    "    #Inventory constraints\n",
    "    for t, day in enumerate(daysInPeriod,1):\n",
    "        #purchasingDay = inv.purchasingForDay(day)\n",
    "\n",
    "        purchasingUpToDay = inv.purchasingForPeriod(daysInPeriod[0], day)\n",
    "\n",
    "        for j in allComponents:\n",
    "            print(\"\\r\", end=f\"{t},{j}\")\n",
    "            articlesComponentUsage = getComponentsRequired(j, bom)\n",
    "            model += (purchasingUpToDay[j] - lpSum([x[(i,tt)] * articlesComponentUsage[i] for i in articlesComponentUsage.index for tt in range(1,t+1) ])) >= 0, f\"InvConstraint_day_{t-1}_component_{j}\"\n",
    "\n",
    "        #Production capacity constraints\n",
    "        model += lpSum([x[(i,t)] for i in articles['article_number']]) <= Config.DAY_BATCH_PRODUCTION_CAPACITY\n",
    "\n",
    "    return model, x"
   ]
  },
  {
   "cell_type": "code",
   "execution_count": 19,
   "metadata": {
    "cell_id": "4f99282d017749e18e317c300f8b3ca8",
    "deepnote_cell_height": 227.578125,
    "deepnote_cell_type": "code",
    "deepnote_to_be_reexecuted": false,
    "execution_millis": 164442,
    "execution_start": 1655330279843,
    "source_hash": "6f0f6173",
    "tags": []
   },
   "outputs": [
    {
     "name": "stdout",
     "output_type": "stream",
     "text": [
      "Multi period ILP for period 2022-02-16 00:00:00 to 2022-03-10 00:00:00\n",
      "This entails 17 days: [Timestamp('2022-02-16 00:00:00', freq='B'), Timestamp('2022-02-17 00:00:00', freq='B'), Timestamp('2022-02-18 00:00:00', freq='B'), Timestamp('2022-02-21 00:00:00', freq='B'), Timestamp('2022-02-22 00:00:00', freq='B'), Timestamp('2022-02-23 00:00:00', freq='B'), Timestamp('2022-02-24 00:00:00', freq='B'), Timestamp('2022-02-25 00:00:00', freq='B'), Timestamp('2022-02-28 00:00:00', freq='B'), Timestamp('2022-03-01 00:00:00', freq='B'), Timestamp('2022-03-02 00:00:00', freq='B'), Timestamp('2022-03-03 00:00:00', freq='B'), Timestamp('2022-03-04 00:00:00', freq='B'), Timestamp('2022-03-07 00:00:00', freq='B'), Timestamp('2022-03-08 00:00:00', freq='B'), Timestamp('2022-03-09 00:00:00', freq='B'), Timestamp('2022-03-10 00:00:00', freq='B')]\n",
      "17,1393"
     ]
    }
   ],
   "source": [
    "periodBegin = pd.Timestamp('2022-02-16')\n",
    "periodEnd = pd.Timestamp('2022-03-10') \n",
    "daysInPeriod = getBusDaysInPeriod(periodBegin, periodEnd)\n",
    "inv = Inventory(purchasingProcessed)\n",
    "model, x = multiPeriodILPOld(daysInPeriod=daysInPeriod, articles = articlesBatch, inv = inv, bom = bomBatch)"
   ]
  },
  {
   "cell_type": "code",
   "execution_count": 34,
   "metadata": {
    "cell_id": "00024-0d04d38f-c0a1-48af-a37b-58f35e5f9064",
    "deepnote_cell_height": 909,
    "deepnote_cell_type": "code",
    "deepnote_to_be_reexecuted": false,
    "execution_millis": 0,
    "execution_start": 1655330077119,
    "source_hash": "a85eda48",
    "tags": []
   },
   "outputs": [],
   "source": [
    "def multiPeriodILP(daysInPeriod, articles, inv: Inventory, bom):\n",
    "    T = len(daysInPeriod)\n",
    "\n",
    "    print(f\"Multi period ILP for period {daysInPeriod[0]} to {daysInPeriod[-1]}\")\n",
    "    print(f\"This entails {T} days: {daysInPeriod}\")\n",
    "\n",
    "    model = LpProblem(name='Production', sense=LpMaximize)\n",
    "\n",
    "    #devision variables\n",
    "    x = {(i, t): LpVariable(name=f\"x_p_{i},d_{t}\", lowBound=0, upBound=Config.DAY_BATCH_PRODUCTION_CAPACITY, cat=Config.X_CAT) for i in articles['article_number'] for t in range(1,T+1)}\n",
    "    I = {(j, t): LpVariable(name=f\"I_c_{j},d_{t}\", lowBound=-1, upBound=Config.I_UPPER_BOUND, cat=Config.X_CAT) for j in allComponents for t in range(1,T+2)}\n",
    "    #print(I)\n",
    "    #we set Ijt = 0 for t=1\n",
    "    #Ij0 = {(j,t): v for (j,t), v in I.items() if t == 0}\n",
    "    #for (j,t), var in Ij0.items():\n",
    "        #var.setInitialValue(0)\n",
    "        #var.fixValue()\n",
    "\n",
    "    #objective\n",
    "    revenue = articles.set_index('article_number')['revenue'].to_dict()\n",
    "    model += lpSum(x[(i,t)] * revenue[i] for i in articles['article_number'] for t in range(1,T+1))\n",
    "\n",
    "\n",
    "    for t, day in enumerate(daysInPeriod,1):\n",
    "        dayPurchasing = inv.purchasingForDay(day)\n",
    "\n",
    "        #Inventory constraints\n",
    "        for j in allComponents:\n",
    "            print(\"\\r\", end=f\"{t},{j}\")\n",
    "            articlesComponentUsage = getComponentsRequired(j, bom)\n",
    "\n",
    "            djt = dayPurchasing[j] \n",
    "            dayUsage = lpSum([x[(i,t)] * articlesComponentUsage[i] for i in articlesComponentUsage.index])\n",
    "\n",
    "            if t > 1:\n",
    "                model += djt + I[(j,t-1)] - I[(j,t)] - dayUsage  == 0, f\"InvConstraint_day_{t-1}_component_{j}\"\n",
    "            else:\n",
    "                model += djt - I[(j,t)] - dayUsage  == 0, f\"InvConstraint_day_{t-1}_component_{j}\"\n",
    "\n",
    "            model += I[(j,t)] >= 0, f\"I{j},{t}>=0\"\n",
    "\n",
    "\n",
    "        #Production capacity constraints\n",
    "        model += lpSum([x[(i,t)] for i in articles['article_number']]) <= Config.DAY_BATCH_PRODUCTION_CAPACITY\n",
    "\n",
    "\n",
    "    return model, x"
   ]
  },
  {
   "cell_type": "code",
   "execution_count": 35,
   "metadata": {
    "cell_id": "00025-23b6e6c5-8785-4021-9e63-1d6d17cc2ee3",
    "deepnote_cell_height": 253,
    "deepnote_cell_type": "code",
    "deepnote_output_heights": [
     null,
     289.8125
    ],
    "deepnote_to_be_reexecuted": false,
    "execution_millis": 179686,
    "execution_start": 1655331014601,
    "source_hash": "6f0f6173",
    "tags": []
   },
   "outputs": [
    {
     "name": "stdout",
     "output_type": "stream",
     "text": [
      "Multi period ILP for period 2022-02-16 00:00:00 to 2022-03-10 00:00:00\n",
      "This entails 17 days: [Timestamp('2022-02-16 00:00:00', freq='B'), Timestamp('2022-02-17 00:00:00', freq='B'), Timestamp('2022-02-18 00:00:00', freq='B'), Timestamp('2022-02-21 00:00:00', freq='B'), Timestamp('2022-02-22 00:00:00', freq='B'), Timestamp('2022-02-23 00:00:00', freq='B'), Timestamp('2022-02-24 00:00:00', freq='B'), Timestamp('2022-02-25 00:00:00', freq='B'), Timestamp('2022-02-28 00:00:00', freq='B'), Timestamp('2022-03-01 00:00:00', freq='B'), Timestamp('2022-03-02 00:00:00', freq='B'), Timestamp('2022-03-03 00:00:00', freq='B'), Timestamp('2022-03-04 00:00:00', freq='B'), Timestamp('2022-03-07 00:00:00', freq='B'), Timestamp('2022-03-08 00:00:00', freq='B'), Timestamp('2022-03-09 00:00:00', freq='B'), Timestamp('2022-03-10 00:00:00', freq='B')]\n",
      "17,1393"
     ]
    }
   ],
   "source": [
    "periodBegin = pd.Timestamp('2022-02-16')\n",
    "periodEnd = pd.Timestamp('2022-03-10') \n",
    "daysInPeriod = getBusDaysInPeriod(periodBegin, periodEnd)\n",
    "inv = Inventory(purchasingProcessed)\n",
    "model, x = multiPeriodILP(daysInPeriod=daysInPeriod, articles = articlesBatch, inv = inv, bom = bomBatch)"
   ]
  },
  {
   "cell_type": "code",
   "execution_count": 36,
   "metadata": {
    "cell_id": "00026-5dc01819-40be-4ccb-b09f-a1a6e141d145",
    "deepnote_cell_height": 81,
    "deepnote_cell_type": "code",
    "deepnote_output_heights": [
     611
    ],
    "deepnote_to_be_reexecuted": false,
    "execution_millis": 115080,
    "execution_start": 1655331194300,
    "source_hash": "7e126848",
    "tags": []
   },
   "outputs": [
    {
     "name": "stdout",
     "output_type": "stream",
     "text": [
      "Gurobi Optimizer version 9.5.1 build v9.5.1rc2 (mac64[x86])\n",
      "Thread count: 2 physical cores, 4 logical processors, using up to 4 threads\n",
      "Optimize a model with 46937 rows, 31875 columns and 941950 nonzeros\n",
      "Model fingerprint: 0xf38f04e3\n",
      "Variable types: 0 continuous, 31875 integer (0 binary)\n",
      "Coefficient statistics:\n",
      "  Matrix range     [1e+00, 1e+03]\n",
      "  Objective range  [3e+03, 3e+04]\n",
      "  Bounds range     [1e+00, 1e+08]\n",
      "  RHS range        [1e+00, 3e+06]\n",
      "Presolve removed 46891 rows and 31733 columns\n",
      "Presolve time: 0.65s\n",
      "Presolved: 46 rows, 142 columns, 626 nonzeros\n",
      "Variable types: 0 continuous, 142 integer (39 binary)\n",
      "Found heuristic solution: objective 2687280.0000\n",
      "\n",
      "Root relaxation: objective 2.766496e+06, 44 iterations, 0.00 seconds (0.00 work units)\n",
      "\n",
      "    Nodes    |    Current Node    |     Objective Bounds      |     Work\n",
      " Expl Unexpl |  Obj  Depth IntInf | Incumbent    BestBd   Gap | It/Node Time\n",
      "\n",
      "*    0     0               0    2766496.0000 2766496.00 -0.00%     -    0s\n",
      "\n",
      "Explored 1 nodes (44 simplex iterations) in 0.99 seconds (0.68 work units)\n",
      "Thread count was 4 (of 4 available processors)\n",
      "\n",
      "Solution count 2: 2.7665e+06 2.68728e+06 \n",
      "\n",
      "Optimal solution found (tolerance 1.00e-04)\n",
      "Best objective 2.766496000000e+06, best bound 2.766496000000e+06, gap 0.0000%\n",
      "Gurobi status= 2\n"
     ]
    }
   ],
   "source": [
    "solver = pl.GUROBI()\n",
    "status = model.solve(solver)\n",
    "#status = model.solve()"
   ]
  },
  {
   "cell_type": "code",
   "execution_count": 37,
   "metadata": {
    "cell_id": "00027-82dfc0f8-1405-4b45-a3da-cbaf522ab59c",
    "deepnote_cell_height": 111.6875,
    "deepnote_cell_type": "code",
    "deepnote_to_be_reexecuted": false,
    "execution_millis": 7,
    "execution_start": 1655331320087,
    "source_hash": "63469c95",
    "tags": []
   },
   "outputs": [
    {
     "name": "stdout",
     "output_type": "stream",
     "text": [
      "1 2766496.0\n"
     ]
    }
   ],
   "source": [
    "print(status, model.objective.value())"
   ]
  },
  {
   "cell_type": "code",
   "execution_count": 38,
   "metadata": {
    "cell_id": "7421620d78a345faa22bed3bd99e9d9e",
    "deepnote_cell_height": 99,
    "deepnote_cell_type": "code",
    "deepnote_to_be_reexecuted": false,
    "execution_millis": 59,
    "execution_start": 1655331330260,
    "source_hash": "3bce1ac0",
    "tags": []
   },
   "outputs": [],
   "source": [
    "productionDf = createProductionDf(x, daysInPeriod, articles)\n",
    "#productionDf.to_csv(f\"Production{periodBegin}_{periodEnd}\")"
   ]
  },
  {
   "cell_type": "code",
   "execution_count": 39,
   "metadata": {
    "cell_id": "00028-5821f3bb-89ae-4220-9f11-f33fcf0ae4e4",
    "deepnote_cell_height": 348.03125,
    "deepnote_cell_type": "code",
    "deepnote_to_be_reexecuted": false,
    "execution_millis": 36,
    "execution_start": 1655331354693,
    "source_hash": "51ad7883",
    "tags": []
   },
   "outputs": [
    {
     "name": "stdout",
     "output_type": "stream",
     "text": [
      "remaininginv component_number\n",
      "0        2279.0\n",
      "1        1998.0\n",
      "2           0.0\n",
      "3        4074.0\n",
      "4        4824.0\n",
      "         ...   \n",
      "1389    16386.0\n",
      "1390      684.0\n",
      "1391     6586.0\n",
      "1392        0.0\n",
      "1393    13100.0\n",
      "Name: quantity, Length: 1380, dtype: float64\n"
     ]
    }
   ],
   "source": [
    "RI = getRemainingComponents(productionDf, inv.purchasingForPeriod(periodBegin, periodEnd), bom)"
   ]
  },
  {
   "cell_type": "code",
   "execution_count": 40,
   "metadata": {
    "cell_id": "00029-b4bb7984-5697-4f9a-9c52-b9112e9ef994",
    "deepnote_cell_height": 135,
    "deepnote_cell_type": "code",
    "deepnote_to_be_reexecuted": false,
    "execution_millis": 3,
    "execution_start": 1655331746134,
    "source_hash": "10b782ae",
    "tags": []
   },
   "outputs": [],
   "source": [
    "periodBegin = pd.Timestamp('2022-03-11')\n",
    "periodEnd = pd.Timestamp('2022-03-31') \n",
    "daysInPeriod = getBusDaysInPeriod(periodBegin, periodEnd)\n",
    "inv = Inventory(purchasingProcessed[purchasingProcessed['date'].between(periodBegin,periodEnd, inclusive='Both')])"
   ]
  },
  {
   "cell_type": "code",
   "execution_count": 62,
   "metadata": {
    "cell_id": "00030-fc653607-4d6f-4579-89d0-f634d3429c4b",
    "deepnote_cell_height": 600,
    "deepnote_cell_type": "code",
    "deepnote_to_be_reexecuted": false,
    "execution_millis": 4,
    "execution_start": 1655331360570,
    "source_hash": "5b9a429d",
    "tags": []
   },
   "outputs": [
    {
     "data": {
      "application/vnd.deepnote.dataframe.v3+json": {
       "column_count": 3,
       "columns": [
        {
         "dtype": "int64",
         "name": "component_number",
         "stats": {
          "histogram": [
           {
            "bin_end": 142.5,
            "bin_start": 4,
            "count": 129
           },
           {
            "bin_end": 281,
            "bin_start": 142.5,
            "count": 104
           },
           {
            "bin_end": 419.5,
            "bin_start": 281,
            "count": 109
           },
           {
            "bin_end": 558,
            "bin_start": 419.5,
            "count": 133
           },
           {
            "bin_end": 696.5,
            "bin_start": 558,
            "count": 118
           },
           {
            "bin_end": 835,
            "bin_start": 696.5,
            "count": 122
           },
           {
            "bin_end": 973.5,
            "bin_start": 835,
            "count": 112
           },
           {
            "bin_end": 1112,
            "bin_start": 973.5,
            "count": 110
           },
           {
            "bin_end": 1250.5,
            "bin_start": 1112,
            "count": 121
           },
           {
            "bin_end": 1389,
            "bin_start": 1250.5,
            "count": 119
           }
          ],
          "max": "1389",
          "min": "4",
          "nan_count": 0,
          "unique_count": 593
         }
        },
        {
         "dtype": "datetime64[ns]",
         "name": "date",
         "stats": {
          "histogram": [
           {
            "bin_end": 1647051840000000000,
            "bin_start": 1646870400000000000,
            "count": 157
           },
           {
            "bin_end": 1647233280000000000,
            "bin_start": 1647051840000000000,
            "count": 137
           },
           {
            "bin_end": 1647414720000000000,
            "bin_start": 1647233280000000000,
            "count": 108
           },
           {
            "bin_end": 1647596160000000000,
            "bin_start": 1647414720000000000,
            "count": 191
           },
           {
            "bin_end": 1647777600000000000,
            "bin_start": 1647596160000000000,
            "count": 12
           },
           {
            "bin_end": 1647959040000000000,
            "bin_start": 1647777600000000000,
            "count": 182
           },
           {
            "bin_end": 1648140480000000000,
            "bin_start": 1647959040000000000,
            "count": 99
           },
           {
            "bin_end": 1648321920000000000,
            "bin_start": 1648140480000000000,
            "count": 58
           },
           {
            "bin_end": 1648503360000000000,
            "bin_start": 1648321920000000000,
            "count": 121
           },
           {
            "bin_end": 1648684800000000000,
            "bin_start": 1648503360000000000,
            "count": 112
           }
          ],
          "max": "2022-03-31 00:00:00",
          "min": "2022-03-10 00:00:00",
          "nan_count": 0,
          "unique_count": 18
         }
        },
        {
         "dtype": "int64",
         "name": "quantity",
         "stats": {
          "histogram": [
           {
            "bin_end": 21055250,
            "bin_start": 0,
            "count": 1176
           },
           {
            "bin_end": 42110500,
            "bin_start": 21055250,
            "count": 0
           },
           {
            "bin_end": 63165750,
            "bin_start": 42110500,
            "count": 0
           },
           {
            "bin_end": 84221000,
            "bin_start": 63165750,
            "count": 0
           },
           {
            "bin_end": 105276250,
            "bin_start": 84221000,
            "count": 0
           },
           {
            "bin_end": 126331500,
            "bin_start": 105276250,
            "count": 0
           },
           {
            "bin_end": 147386750,
            "bin_start": 126331500,
            "count": 0
           },
           {
            "bin_end": 168442000,
            "bin_start": 147386750,
            "count": 0
           },
           {
            "bin_end": 189497250,
            "bin_start": 168442000,
            "count": 0
           },
           {
            "bin_end": 210552500,
            "bin_start": 189497250,
            "count": 1
           }
          ],
          "max": "210552500",
          "min": "0",
          "nan_count": 0,
          "unique_count": 340
         }
        },
        {
         "dtype": "int64",
         "name": "_deepnote_index_column"
        }
       ],
       "row_count": 1177,
       "rows": [
        {
         "_deepnote_index_column": 237,
         "component_number": 9,
         "date": "2022-03-10T00:00:00.000000",
         "quantity": 192
        },
        {
         "_deepnote_index_column": 1255,
         "component_number": 32,
         "date": "2022-03-10T00:00:00.000000",
         "quantity": 2400
        },
        {
         "_deepnote_index_column": 1419,
         "component_number": 36,
         "date": "2022-03-10T00:00:00.000000",
         "quantity": 550
        },
        {
         "_deepnote_index_column": 2067,
         "component_number": 50,
         "date": "2022-03-10T00:00:00.000000",
         "quantity": 270
        },
        {
         "_deepnote_index_column": 3154,
         "component_number": 73,
         "date": "2022-03-10T00:00:00.000000",
         "quantity": 75
        },
        {
         "_deepnote_index_column": 3207,
         "component_number": 75,
         "date": "2022-03-10T00:00:00.000000",
         "quantity": 4200
        },
        {
         "_deepnote_index_column": 3931,
         "component_number": 96,
         "date": "2022-03-10T00:00:00.000000",
         "quantity": 300
        },
        {
         "_deepnote_index_column": 4326,
         "component_number": 108,
         "date": "2022-03-10T00:00:00.000000",
         "quantity": 2000
        },
        {
         "_deepnote_index_column": 4422,
         "component_number": 109,
         "date": "2022-03-10T00:00:00.000000",
         "quantity": 1600
        },
        {
         "_deepnote_index_column": 6653,
         "component_number": 169,
         "date": "2022-03-10T00:00:00.000000",
         "quantity": 600
        }
       ]
      },
      "text/html": [
       "<div>\n",
       "<style scoped>\n",
       "    .dataframe tbody tr th:only-of-type {\n",
       "        vertical-align: middle;\n",
       "    }\n",
       "\n",
       "    .dataframe tbody tr th {\n",
       "        vertical-align: top;\n",
       "    }\n",
       "\n",
       "    .dataframe thead th {\n",
       "        text-align: right;\n",
       "    }\n",
       "</style>\n",
       "<table border=\"1\" class=\"dataframe\">\n",
       "  <thead>\n",
       "    <tr style=\"text-align: right;\">\n",
       "      <th></th>\n",
       "      <th>component_number</th>\n",
       "      <th>date</th>\n",
       "      <th>quantity</th>\n",
       "    </tr>\n",
       "  </thead>\n",
       "  <tbody>\n",
       "    <tr>\n",
       "      <th>237</th>\n",
       "      <td>9</td>\n",
       "      <td>2022-03-10</td>\n",
       "      <td>192</td>\n",
       "    </tr>\n",
       "    <tr>\n",
       "      <th>1255</th>\n",
       "      <td>32</td>\n",
       "      <td>2022-03-10</td>\n",
       "      <td>2400</td>\n",
       "    </tr>\n",
       "    <tr>\n",
       "      <th>1419</th>\n",
       "      <td>36</td>\n",
       "      <td>2022-03-10</td>\n",
       "      <td>550</td>\n",
       "    </tr>\n",
       "    <tr>\n",
       "      <th>2067</th>\n",
       "      <td>50</td>\n",
       "      <td>2022-03-10</td>\n",
       "      <td>270</td>\n",
       "    </tr>\n",
       "    <tr>\n",
       "      <th>3154</th>\n",
       "      <td>73</td>\n",
       "      <td>2022-03-10</td>\n",
       "      <td>75</td>\n",
       "    </tr>\n",
       "    <tr>\n",
       "      <th>...</th>\n",
       "      <td>...</td>\n",
       "      <td>...</td>\n",
       "      <td>...</td>\n",
       "    </tr>\n",
       "    <tr>\n",
       "      <th>56686</th>\n",
       "      <td>1266</td>\n",
       "      <td>2022-03-31</td>\n",
       "      <td>500</td>\n",
       "    </tr>\n",
       "    <tr>\n",
       "      <th>57648</th>\n",
       "      <td>1287</td>\n",
       "      <td>2022-03-31</td>\n",
       "      <td>4000</td>\n",
       "    </tr>\n",
       "    <tr>\n",
       "      <th>57964</th>\n",
       "      <td>1294</td>\n",
       "      <td>2022-03-31</td>\n",
       "      <td>1200</td>\n",
       "    </tr>\n",
       "    <tr>\n",
       "      <th>59221</th>\n",
       "      <td>1317</td>\n",
       "      <td>2022-03-31</td>\n",
       "      <td>1500</td>\n",
       "    </tr>\n",
       "    <tr>\n",
       "      <th>59620</th>\n",
       "      <td>1326</td>\n",
       "      <td>2022-03-31</td>\n",
       "      <td>4200</td>\n",
       "    </tr>\n",
       "  </tbody>\n",
       "</table>\n",
       "<p>1177 rows × 3 columns</p>\n",
       "</div>"
      ],
      "text/plain": [
       "       component_number       date  quantity\n",
       "237                   9 2022-03-10       192\n",
       "1255                 32 2022-03-10      2400\n",
       "1419                 36 2022-03-10       550\n",
       "2067                 50 2022-03-10       270\n",
       "3154                 73 2022-03-10        75\n",
       "...                 ...        ...       ...\n",
       "56686              1266 2022-03-31       500\n",
       "57648              1287 2022-03-31      4000\n",
       "57964              1294 2022-03-31      1200\n",
       "59221              1317 2022-03-31      1500\n",
       "59620              1326 2022-03-31      4200\n",
       "\n",
       "[1177 rows x 3 columns]"
      ]
     },
     "execution_count": 62,
     "metadata": {},
     "output_type": "execute_result"
    }
   ],
   "source": [
    "inv.purchasing"
   ]
  },
  {
   "cell_type": "code",
   "execution_count": 41,
   "metadata": {
    "cell_id": "00031-4104d2ae-681a-498a-8a8e-b4bb559b40ef",
    "deepnote_cell_height": 618,
    "deepnote_cell_type": "code",
    "deepnote_table_loading": false,
    "deepnote_table_state": {
     "filters": [],
     "pageIndex": 170,
     "pageSize": 10,
     "sortBy": []
    },
    "deepnote_to_be_reexecuted": false,
    "execution_millis": 40,
    "execution_start": 1655331748936,
    "source_hash": "40da087a",
    "tags": []
   },
   "outputs": [
    {
     "data": {
      "text/html": [
       "<div>\n",
       "<style scoped>\n",
       "    .dataframe tbody tr th:only-of-type {\n",
       "        vertical-align: middle;\n",
       "    }\n",
       "\n",
       "    .dataframe tbody tr th {\n",
       "        vertical-align: top;\n",
       "    }\n",
       "\n",
       "    .dataframe thead th {\n",
       "        text-align: right;\n",
       "    }\n",
       "</style>\n",
       "<table border=\"1\" class=\"dataframe\">\n",
       "  <thead>\n",
       "    <tr style=\"text-align: right;\">\n",
       "      <th></th>\n",
       "      <th>component_number</th>\n",
       "      <th>date</th>\n",
       "      <th>quantity</th>\n",
       "    </tr>\n",
       "  </thead>\n",
       "  <tbody>\n",
       "    <tr>\n",
       "      <th>376</th>\n",
       "      <td>12</td>\n",
       "      <td>2022-03-11</td>\n",
       "      <td>1400.0</td>\n",
       "    </tr>\n",
       "    <tr>\n",
       "      <th>1076</th>\n",
       "      <td>30</td>\n",
       "      <td>2022-03-11</td>\n",
       "      <td>600.0</td>\n",
       "    </tr>\n",
       "    <tr>\n",
       "      <th>2469</th>\n",
       "      <td>58</td>\n",
       "      <td>2022-03-11</td>\n",
       "      <td>448.0</td>\n",
       "    </tr>\n",
       "    <tr>\n",
       "      <th>3585</th>\n",
       "      <td>87</td>\n",
       "      <td>2022-03-11</td>\n",
       "      <td>360.0</td>\n",
       "    </tr>\n",
       "    <tr>\n",
       "      <th>6688</th>\n",
       "      <td>170</td>\n",
       "      <td>2022-03-11</td>\n",
       "      <td>404.0</td>\n",
       "    </tr>\n",
       "    <tr>\n",
       "      <th>...</th>\n",
       "      <td>...</td>\n",
       "      <td>...</td>\n",
       "      <td>...</td>\n",
       "    </tr>\n",
       "    <tr>\n",
       "      <th>1375</th>\n",
       "      <td>1389</td>\n",
       "      <td>2022-03-11</td>\n",
       "      <td>16386.0</td>\n",
       "    </tr>\n",
       "    <tr>\n",
       "      <th>1376</th>\n",
       "      <td>1390</td>\n",
       "      <td>2022-03-11</td>\n",
       "      <td>684.0</td>\n",
       "    </tr>\n",
       "    <tr>\n",
       "      <th>1377</th>\n",
       "      <td>1391</td>\n",
       "      <td>2022-03-11</td>\n",
       "      <td>6586.0</td>\n",
       "    </tr>\n",
       "    <tr>\n",
       "      <th>1378</th>\n",
       "      <td>1392</td>\n",
       "      <td>2022-03-11</td>\n",
       "      <td>0.0</td>\n",
       "    </tr>\n",
       "    <tr>\n",
       "      <th>1379</th>\n",
       "      <td>1393</td>\n",
       "      <td>2022-03-11</td>\n",
       "      <td>13100.0</td>\n",
       "    </tr>\n",
       "  </tbody>\n",
       "</table>\n",
       "<p>2486 rows × 3 columns</p>\n",
       "</div>"
      ],
      "text/plain": [
       "      component_number       date  quantity\n",
       "376                 12 2022-03-11    1400.0\n",
       "1076                30 2022-03-11     600.0\n",
       "2469                58 2022-03-11     448.0\n",
       "3585                87 2022-03-11     360.0\n",
       "6688               170 2022-03-11     404.0\n",
       "...                ...        ...       ...\n",
       "1375              1389 2022-03-11   16386.0\n",
       "1376              1390 2022-03-11     684.0\n",
       "1377              1391 2022-03-11    6586.0\n",
       "1378              1392 2022-03-11       0.0\n",
       "1379              1393 2022-03-11   13100.0\n",
       "\n",
       "[2486 rows x 3 columns]"
      ]
     },
     "execution_count": 41,
     "metadata": {},
     "output_type": "execute_result"
    }
   ],
   "source": [
    "inv.add(RI, date=periodBegin)\n",
    "inv.purchasing"
   ]
  },
  {
   "cell_type": "code",
   "execution_count": 41,
   "metadata": {
    "cell_id": "00032-d51dabce-d2ef-4066-86c8-f3e7ad5959cf",
    "deepnote_cell_height": 701,
    "deepnote_cell_type": "code",
    "deepnote_to_be_reexecuted": false,
    "execution_millis": 3164,
    "execution_start": 1655330741152,
    "source_hash": "f551e24c",
    "tags": []
   },
   "outputs": [
    {
     "name": "stdout",
     "output_type": "stream",
     "text": [
      "472 :\t True \tMissing []\n",
      "434 :\t True \tMissing []\n",
      "240 :\t True \tMissing []\n",
      "452 :\t False \tMissing [894, 1207]\n",
      "107 :\t False \tMissing [1121]\n",
      "335 :\t False \tMissing [377]\n",
      "484 :\t True \tMissing []\n",
      "210 :\t False \tMissing [175, 266, 312, 589, 1006]\n",
      "292 :\t False \tMissing [232]\n",
      "63 :\t True \tMissing []\n",
      "380 :\t False \tMissing [1207]\n",
      "108 :\t True \tMissing []\n",
      "258 :\t False \tMissing [49, 119, 127, 156, 594, 656, 816, 900, 1272]\n",
      "459 :\t False \tMissing [894, 1207]\n",
      "489 :\t False \tMissing [894, 1207]\n",
      "104 :\t True \tMissing []\n",
      "91 :\t True \tMissing []\n",
      "158 :\t True \tMissing []\n",
      "475 :\t True \tMissing []\n",
      "242 :\t False \tMissing [31, 112, 132, 151, 177, 211, 213, 214, 280, 329, 346, 368, 375, 396, 425, 595, 621, 661, 680, 691, 754, 763, 795, 816, 825, 855, 890, 896, 950, 966, 1089, 1091, 1098, 1103, 1105, 1122, 1151, 1160, 1170, 1258, 1381, 1387]\n",
      "378 :\t False \tMissing [894, 1207]\n",
      "203 :\t False \tMissing [31, 49, 119, 151, 156, 214, 261, 271, 272, 359, 412, 436, 594, 595, 604, 656, 691, 741, 754, 763, 779, 795, 816, 825, 855, 900, 984, 1010, 1091, 1122, 1151, 1170, 1272, 1306, 1375, 1385]\n",
      "206 :\t False \tMissing [175, 266, 589, 699, 1006, 1030]\n",
      "448 :\t False \tMissing [635, 775, 894, 921]\n",
      "170 :\t False \tMissing [921]\n",
      "492 :\t False \tMissing [377]\n",
      "176 :\t True \tMissing []\n",
      "337 :\t True \tMissing []\n",
      "287 :\t True \tMissing []\n",
      "286 :\t False \tMissing [31, 49, 100, 119, 151, 214, 261, 271, 272, 359, 412, 436, 594, 595, 604, 615, 656, 691, 741, 763, 768, 779, 795, 816, 825, 855, 984, 1010, 1091, 1122, 1151, 1170, 1306, 1375, 1385]\n",
      "331 :\t True \tMissing []\n",
      "95 :\t False \tMissing [1121]\n",
      "491 :\t False \tMissing [31, 112, 132, 151, 177, 211, 213, 214, 280, 329, 346, 368, 375, 396, 425, 595, 621, 661, 680, 691, 754, 763, 795, 811, 816, 825, 855, 890, 896, 950, 966, 1089, 1091, 1098, 1103, 1105, 1122, 1151, 1160, 1170, 1381, 1387]\n",
      "327 :\t False \tMissing [454, 775, 894, 921]\n",
      "131 :\t False \tMissing [377]\n",
      "4 :\t False \tMissing [894, 1207]\n",
      "174 :\t True \tMissing []\n",
      "288 :\t False \tMissing [211]\n",
      "171 :\t False \tMissing [2, 894, 921, 1374]\n",
      "397 :\t False \tMissing [921]\n",
      "88 :\t False \tMissing [151, 165, 177, 211, 248, 249, 255, 280, 356, 364, 369, 382, 420, 463, 469, 470, 474, 477, 572, 595, 621, 654, 686, 691, 730, 754, 763, 779, 795, 799, 816, 821, 825, 829, 877, 893, 910, 979, 984, 1060, 1066, 1068, 1091, 1111, 1151, 1160, 1170, 1211, 1279, 1286, 1290, 1306, 1312, 1327, 1371, 1392]\n",
      "273 :\t False \tMissing [211]\n",
      "432 :\t False \tMissing [921]\n",
      "222 :\t False \tMissing [25]\n",
      "127 :\t False \tMissing [25, 1007]\n",
      "46 :\t True \tMissing []\n",
      "247 :\t False \tMissing [921]\n",
      "343 :\t False \tMissing [49, 119, 127, 594, 656, 768, 816, 900]\n",
      "29 :\t True \tMissing []\n",
      "267 :\t False \tMissing [894, 1207]\n",
      "447 :\t False \tMissing [175, 266, 589, 1006]\n",
      "101 :\t False \tMissing [25]\n",
      "329 :\t False \tMissing [921]\n",
      "355 :\t False \tMissing [1207]\n",
      "237 :\t False \tMissing [377]\n",
      "393 :\t False \tMissing [921]\n",
      "297 :\t True \tMissing []\n",
      "135 :\t False \tMissing [894, 1207]\n",
      "457 :\t False \tMissing [79, 89, 349, 446, 722, 883, 894, 1046, 1062, 1121, 1166, 1179, 1307]\n",
      "401 :\t False \tMissing [1207]\n",
      "467 :\t False \tMissing [894, 921, 994, 1374]\n",
      "213 :\t True \tMissing []\n",
      "66 :\t True \tMissing []\n",
      "103 :\t False \tMissing [921]\n",
      "81 :\t False \tMissing [232]\n",
      "290 :\t True \tMissing []\n",
      "395 :\t False \tMissing [921, 1139, 1374]\n",
      "334 :\t False \tMissing [921]\n",
      "53 :\t True \tMissing []\n",
      "388 :\t False \tMissing [921]\n",
      "309 :\t False \tMissing [377]\n",
      "24 :\t True \tMissing []\n",
      "148 :\t False \tMissing [175, 266, 589, 1006]\n",
      "120 :\t False \tMissing [1207]\n",
      "333 :\t True \tMissing []\n",
      "96 :\t True \tMissing []\n",
      "25 :\t True \tMissing []\n",
      "493 :\t False \tMissing [10, 25, 262, 333, 355, 434, 703, 708, 786, 894, 1022, 1333]\n",
      "450 :\t False \tMissing [635, 921, 1374]\n",
      "438 :\t False \tMissing [1040, 1207]\n",
      "436 :\t False \tMissing [2, 775, 894, 921]\n",
      "261 :\t False \tMissing [25]\n",
      "179 :\t False \tMissing [79, 81, 349, 446, 722, 883, 894, 1046, 1062, 1121, 1166, 1179, 1307]\n",
      "190 :\t False \tMissing [66, 79, 446, 551, 722, 883, 894, 1046, 1062, 1121, 1166, 1179, 1307]\n",
      "302 :\t False \tMissing [31, 83, 112, 132, 151, 177, 211, 213, 214, 280, 329, 368, 375, 396, 516, 595, 621, 661, 680, 691, 707, 754, 763, 770, 779, 790, 795, 816, 825, 855, 896, 966, 1089, 1091, 1098, 1103, 1105, 1116, 1151, 1160, 1170, 1381, 1387]\n",
      "462 :\t True \tMissing []\n",
      "57 :\t False \tMissing [49, 119, 127, 594, 656, 816, 900, 1132, 1272]\n",
      "354 :\t True \tMissing []\n",
      "427 :\t False \tMissing [1207]\n",
      "365 :\t False \tMissing [31, 49, 119, 151, 214, 261, 271, 272, 359, 412, 436, 594, 595, 604, 656, 691, 741, 754, 763, 779, 795, 816, 825, 855, 984, 1010, 1091, 1122, 1151, 1170, 1272, 1306, 1375, 1385]\n",
      "8 :\t False \tMissing [31, 72, 151, 192, 214, 271, 275, 387, 392, 420, 436, 595, 615, 674, 691, 763, 779, 784, 795, 816, 825, 829, 855, 998, 1089, 1091, 1122, 1151, 1170, 1272, 1371, 1375]\n",
      "458 :\t False \tMissing [878, 1101, 1121, 1246]\n",
      "23 :\t False \tMissing [31, 112, 132, 151, 177, 211, 213, 214, 280, 329, 368, 375, 396, 516, 595, 621, 661, 680, 691, 707, 754, 763, 770, 795, 811, 816, 825, 855, 890, 896, 966, 1089, 1091, 1098, 1103, 1105, 1116, 1122, 1151, 1160, 1170, 1381, 1387]\n",
      "7 :\t False \tMissing [1121]\n",
      "304 :\t False \tMissing [175, 266, 589, 1006]\n",
      "474 :\t False \tMissing [158, 921, 1374]\n",
      "367 :\t False \tMissing [1121]\n",
      "211 :\t False \tMissing [31, 112, 132, 141, 151, 177, 211, 213, 214, 280, 329, 368, 375, 396, 422, 516, 595, 621, 661, 665, 671, 680, 691, 693, 707, 754, 763, 795, 804, 816, 825, 855, 890, 896, 966, 1034, 1089, 1091, 1098, 1105, 1116, 1122, 1151, 1160, 1170, 1314, 1343, 1381, 1387]\n",
      "192 :\t False \tMissing [25]\n",
      "169 :\t False \tMissing [1207]\n",
      "426 :\t False \tMissing [25]\n",
      "181 :\t False \tMissing [49, 119, 127, 594, 656, 768, 816, 1231]\n",
      "209 :\t False \tMissing [211]\n",
      "349 :\t False \tMissing [2, 775, 894, 921]\n",
      "260 :\t True \tMissing []\n",
      "301 :\t False \tMissing [151, 165, 177, 211, 248, 280, 369, 382, 420, 463, 474, 477, 484, 572, 595, 621, 654, 667, 686, 691, 730, 754, 763, 779, 795, 816, 825, 829, 877, 979, 984, 1060, 1066, 1068, 1091, 1151, 1160, 1170, 1211, 1279, 1286, 1290, 1306, 1312, 1371, 1392]\n",
      "256 :\t False \tMissing [241]\n",
      "389 :\t False \tMissing [377]\n",
      "13 :\t False \tMissing [894, 1207]\n",
      "326 :\t False \tMissing [921]\n",
      "117 :\t True \tMissing []\n",
      "400 :\t False \tMissing [921]\n",
      "313 :\t True \tMissing []\n",
      "482 :\t False \tMissing [921]\n",
      "147 :\t False \tMissing [25]\n",
      "115 :\t False \tMissing [31, 112, 132, 151, 177, 211, 213, 214, 280, 329, 368, 375, 396, 501, 516, 595, 621, 661, 680, 691, 707, 754, 763, 795, 816, 825, 855, 890, 896, 966, 1034, 1089, 1091, 1098, 1103, 1105, 1116, 1122, 1151, 1160, 1170, 1381, 1387]\n",
      "277 :\t True \tMissing []\n",
      "254 :\t False \tMissing [775, 894, 921, 978]\n",
      "232 :\t False \tMissing [921]\n",
      "58 :\t False \tMissing [25]\n",
      "62 :\t False \tMissing [49, 119, 127, 594, 656, 816, 1272]\n",
      "12 :\t False \tMissing [270]\n",
      "20 :\t False \tMissing [211]\n",
      "446 :\t False \tMissing [31, 112, 132, 151, 177, 211, 213, 214, 280, 329, 368, 375, 396, 516, 595, 621, 661, 680, 691, 707, 754, 763, 779, 790, 795, 816, 825, 842, 855, 896, 966, 1034, 1089, 1091, 1098, 1103, 1105, 1116, 1151, 1160, 1170, 1381, 1387]\n",
      "481 :\t True \tMissing []\n",
      "89 :\t False \tMissing [232]\n",
      "314 :\t False \tMissing [1207]\n",
      "133 :\t False \tMissing [1207]\n",
      "83 :\t False \tMissing [921]\n",
      "188 :\t True \tMissing []\n",
      "124 :\t True \tMissing []\n",
      "153 :\t False \tMissing [158, 775, 894, 921]\n",
      "225 :\t False \tMissing [1121]\n",
      "207 :\t True \tMissing []\n",
      "140 :\t False \tMissing [151, 165, 177, 211, 248, 280, 369, 382, 420, 463, 474, 477, 484, 572, 595, 621, 654, 667, 686, 691, 730, 754, 763, 779, 795, 816, 825, 829, 877, 979, 984, 991, 1060, 1066, 1068, 1091, 1122, 1151, 1160, 1170, 1279, 1286, 1290, 1306, 1371, 1392]\n",
      "421 :\t True \tMissing []\n",
      "22 :\t False \tMissing [211]\n",
      "455 :\t False \tMissing [211]\n",
      "48 :\t False \tMissing [49, 119, 127, 594, 656, 768, 816]\n",
      "186 :\t False \tMissing [211]\n",
      "152 :\t False \tMissing [377]\n",
      "137 :\t True \tMissing []\n",
      "396 :\t True \tMissing []\n",
      "150 :\t False \tMissing [1121]\n",
      "180 :\t True \tMissing []\n",
      "283 :\t False \tMissing [725]\n",
      "51 :\t False \tMissing [175, 266, 589, 699, 1006, 1030]\n",
      "323 :\t False \tMissing [921]\n",
      "347 :\t False \tMissing [894, 1207]\n",
      "55 :\t False \tMissing [2, 775, 921]\n",
      "312 :\t False \tMissing [31, 72, 151, 192, 214, 271, 392, 595, 674, 691, 754, 763, 779, 795, 816, 825, 855, 998, 1089, 1091, 1122, 1151, 1170, 1375]\n",
      "227 :\t True \tMissing []\n",
      "306 :\t False \tMissing [49, 119, 127, 594, 656, 816, 900, 1132, 1272]\n",
      "10 :\t False \tMissing [49, 119, 127, 156, 594, 656, 816, 900, 1272]\n",
      "449 :\t False \tMissing [31, 112, 132, 141, 151, 177, 211, 213, 214, 280, 329, 368, 375, 396, 422, 516, 595, 621, 661, 665, 671, 680, 691, 693, 707, 754, 763, 779, 790, 795, 804, 816, 825, 842, 855, 896, 966, 1034, 1089, 1091, 1098, 1105, 1116, 1151, 1160, 1170, 1343, 1381, 1387]\n",
      "6 :\t False \tMissing [894, 1207]\n",
      "157 :\t False \tMissing [175, 266, 589, 1006]\n",
      "404 :\t True \tMissing []\n",
      "243 :\t False \tMissing [31, 49, 119, 151, 214, 261, 271, 272, 359, 412, 436, 594, 595, 604, 656, 691, 741, 754, 763, 768, 779, 795, 816, 825, 855, 984, 1010, 1091, 1122, 1151, 1170, 1231, 1306, 1375, 1385]\n",
      "68 :\t False \tMissing [894, 1207]\n",
      "409 :\t False \tMissing [894, 1207]\n",
      "442 :\t False \tMissing [635, 894, 921, 1374]\n",
      "341 :\t True \tMissing []\n",
      "358 :\t False \tMissing [725]\n",
      "250 :\t False \tMissing [31, 112, 132, 141, 151, 177, 211, 213, 214, 280, 329, 368, 375, 396, 422, 516, 538, 595, 621, 661, 665, 671, 680, 691, 693, 707, 754, 763, 770, 779, 790, 795, 804, 816, 825, 855, 896, 966, 1089, 1091, 1098, 1105, 1116, 1151, 1160, 1170, 1343, 1381, 1387]\n",
      "345 :\t True \tMissing []\n",
      "31 :\t False \tMissing [31, 49, 119, 151, 214, 261, 271, 272, 359, 412, 436, 594, 595, 604, 656, 691, 741, 754, 763, 768, 779, 795, 816, 825, 855, 984, 1010, 1091, 1122, 1151, 1170, 1231, 1306, 1375, 1385]\n",
      "199 :\t False \tMissing [1040, 1207]\n",
      "391 :\t True \tMissing []\n",
      "332 :\t False \tMissing [49, 119, 127, 594, 656, 816, 900, 1132, 1272]\n",
      "189 :\t False \tMissing [175, 266, 312, 589, 1006]\n",
      "379 :\t False \tMissing [49, 119, 127, 594, 656, 768, 816, 1231]\n",
      "59 :\t True \tMissing []\n",
      "366 :\t False \tMissing [31, 112, 132, 141, 151, 177, 211, 213, 214, 280, 329, 368, 375, 396, 422, 501, 516, 595, 621, 661, 665, 671, 680, 691, 693, 707, 754, 763, 795, 804, 816, 825, 855, 890, 896, 966, 1034, 1089, 1091, 1098, 1105, 1116, 1122, 1151, 1160, 1170, 1343, 1381, 1387]\n",
      "183 :\t False \tMissing [158, 894, 921, 1374]\n",
      "34 :\t False \tMissing [635, 775, 921]\n",
      "435 :\t False \tMissing [894, 1207]\n",
      "485 :\t False \tMissing [25, 1007]\n",
      "281 :\t False \tMissing [31, 112, 132, 151, 177, 211, 213, 214, 280, 329, 368, 375, 396, 516, 538, 595, 621, 661, 680, 691, 707, 754, 763, 770, 779, 790, 795, 816, 825, 855, 896, 966, 1089, 1091, 1098, 1103, 1105, 1116, 1151, 1160, 1170, 1381, 1387]\n",
      "130 :\t False \tMissing [211]\n",
      "220 :\t False \tMissing [211]\n",
      "118 :\t False \tMissing [66, 79, 446, 722, 766, 883, 894, 1046, 1062, 1121, 1166, 1179, 1307]\n",
      "182 :\t True \tMissing []\n",
      "178 :\t False \tMissing [31, 83, 112, 132, 141, 151, 177, 211, 213, 214, 280, 329, 368, 375, 396, 422, 516, 595, 621, 661, 665, 671, 680, 691, 693, 707, 754, 763, 770, 779, 790, 795, 804, 816, 825, 855, 896, 966, 1089, 1091, 1098, 1105, 1116, 1151, 1160, 1170, 1343, 1381, 1387]\n",
      "377 :\t False \tMissing [1207]\n",
      "129 :\t False \tMissing [211]\n",
      "61 :\t True \tMissing []\n",
      "143 :\t True \tMissing []\n",
      "364 :\t False \tMissing [921]\n",
      "363 :\t False \tMissing [211]\n",
      "185 :\t False \tMissing [921]\n",
      "221 :\t True \tMissing []\n",
      "478 :\t False \tMissing [49, 119, 127, 156, 594, 656, 816, 900, 1272]\n",
      "0 :\t False \tMissing [31, 112, 132, 141, 151, 177, 211, 213, 214, 280, 329, 368, 375, 396, 422, 516, 595, 621, 661, 665, 671, 680, 691, 693, 707, 754, 763, 770, 795, 804, 811, 816, 825, 855, 890, 896, 966, 1089, 1091, 1098, 1105, 1116, 1122, 1151, 1160, 1170, 1343, 1381, 1387]\n",
      "1 :\t False \tMissing [175, 266, 589, 699, 1006, 1030]\n",
      "50 :\t False \tMissing [921]\n",
      "246 :\t True \tMissing []\n",
      "87 :\t False \tMissing [1121]\n",
      "383 :\t True \tMissing []\n",
      "407 :\t False \tMissing [225, 775, 894, 921]\n",
      "271 :\t False \tMissing [31, 72, 151, 192, 214, 271, 275, 387, 392, 420, 436, 595, 674, 691, 754, 763, 779, 795, 816, 825, 829, 855, 998, 1089, 1091, 1122, 1151, 1170, 1272, 1371, 1375]\n",
      "423 :\t False \tMissing [211]\n",
      "52 :\t True \tMissing []\n",
      "244 :\t False \tMissing [31, 112, 132, 151, 177, 211, 213, 214, 280, 329, 368, 375, 396, 516, 595, 621, 661, 680, 691, 707, 754, 763, 795, 816, 825, 855, 890, 896, 966, 1034, 1089, 1091, 1098, 1103, 1105, 1116, 1122, 1151, 1160, 1170, 1258, 1381, 1387]\n",
      "488 :\t False \tMissing [211]\n",
      "195 :\t False \tMissing [377]\n",
      "330 :\t False \tMissing [1121]\n",
      "110 :\t True \tMissing []\n",
      "468 :\t True \tMissing []\n",
      "353 :\t False \tMissing [921]\n",
      "372 :\t True \tMissing []\n",
      "471 :\t False \tMissing [10, 25, 199, 262, 333, 355, 434, 786, 894, 1022, 1259, 1333]\n",
      "224 :\t True \tMissing []\n",
      "219 :\t False \tMissing [377]\n",
      "429 :\t False \tMissing [1040, 1207]\n",
      "291 :\t False \tMissing [1040, 1207]\n",
      "357 :\t False \tMissing [211]\n",
      "36 :\t False \tMissing [175, 266, 589, 1006]\n",
      "486 :\t False \tMissing [775, 894, 921, 994]\n",
      "300 :\t True \tMissing []\n",
      "128 :\t False \tMissing [10, 25, 262, 333, 355, 434, 708, 786, 849, 894, 1022, 1333]\n",
      "60 :\t True \tMissing []\n",
      "412 :\t False \tMissing [79, 349, 446, 722, 883, 891, 894, 1046, 1062, 1121, 1166, 1179, 1307]\n",
      "82 :\t False \tMissing [921]\n",
      "490 :\t True \tMissing []\n",
      "75 :\t False \tMissing [921]\n",
      "398 :\t False \tMissing [921]\n",
      "255 :\t False \tMissing [921]\n",
      "151 :\t False \tMissing [25]\n",
      "320 :\t False \tMissing [31, 112, 132, 141, 151, 177, 211, 213, 214, 237, 280, 329, 368, 375, 396, 422, 516, 595, 615, 621, 661, 665, 671, 680, 691, 693, 707, 763, 795, 804, 816, 825, 855, 890, 896, 966, 1034, 1089, 1091, 1098, 1105, 1116, 1122, 1151, 1160, 1170, 1258, 1343, 1381, 1387]\n",
      "266 :\t False \tMissing [31, 112, 132, 151, 177, 211, 213, 214, 280, 329, 346, 368, 375, 396, 425, 538, 595, 621, 661, 680, 691, 754, 763, 779, 790, 795, 816, 825, 855, 896, 950, 966, 1089, 1091, 1098, 1103, 1105, 1151, 1160, 1170, 1381, 1387]\n",
      "324 :\t True \tMissing []\n",
      "376 :\t False \tMissing [211]\n",
      "97 :\t False \tMissing [49, 119, 127, 594, 656, 816, 1272]\n",
      "299 :\t False \tMissing [175, 266, 589, 1006]\n",
      "305 :\t True \tMissing []\n",
      "272 :\t False \tMissing [921]\n",
      "382 :\t False \tMissing [1207]\n",
      "109 :\t False \tMissing [635, 921, 1374]\n",
      "177 :\t False \tMissing [377]\n",
      "369 :\t True \tMissing []\n",
      "263 :\t False \tMissing [42, 151, 165, 177, 211, 248, 280, 369, 382, 420, 456, 463, 474, 477, 480, 484, 595, 615, 621, 686, 691, 730, 763, 779, 795, 816, 825, 829, 877, 918, 979, 984, 1028, 1060, 1066, 1068, 1091, 1122, 1151, 1160, 1170, 1279, 1286, 1290, 1306, 1371]\n",
      "19 :\t False \tMissing [31, 49, 119, 151, 214, 261, 271, 272, 359, 412, 436, 594, 595, 604, 656, 691, 741, 754, 763, 768, 779, 795, 816, 825, 855, 900, 984, 1010, 1091, 1122, 1151, 1170, 1306, 1375, 1385]\n",
      "336 :\t False \tMissing [175, 266, 589, 1006]\n",
      "156 :\t False \tMissing [377]\n",
      "451 :\t False \tMissing [921, 978, 1374]\n",
      "387 :\t False \tMissing [211]\n",
      "453 :\t False \tMissing [158, 921, 1374]\n",
      "11 :\t True \tMissing []\n",
      "90 :\t False \tMissing [31, 49, 119, 151, 214, 261, 271, 272, 359, 412, 436, 594, 595, 604, 656, 691, 741, 754, 763, 779, 795, 816, 825, 855, 900, 984, 1010, 1091, 1122, 1132, 1151, 1170, 1272, 1306, 1375, 1385]\n",
      "216 :\t False \tMissing [31, 72, 151, 214, 271, 275, 387, 392, 420, 436, 595, 674, 691, 754, 763, 779, 795, 816, 825, 829, 855, 925, 998, 1089, 1091, 1122, 1151, 1170, 1272, 1371, 1375]\n",
      "99 :\t False \tMissing [454, 775, 921]\n",
      "325 :\t False \tMissing [31, 49, 119, 151, 214, 261, 271, 272, 359, 412, 436, 594, 595, 604, 656, 691, 741, 754, 763, 768, 779, 795, 816, 825, 855, 984, 1010, 1091, 1122, 1151, 1170, 1306, 1375, 1385]\n",
      "414 :\t True \tMissing []\n",
      "342 :\t False \tMissing [211, 217, 968, 1092]\n",
      "239 :\t True \tMissing []\n",
      "360 :\t False \tMissing [25]\n",
      "413 :\t False \tMissing [894, 1207]\n",
      "420 :\t False \tMissing [921]\n",
      "403 :\t False \tMissing [921]\n",
      "226 :\t False \tMissing [25]\n",
      "248 :\t False \tMissing [775, 894, 921, 1139]\n",
      "145 :\t False \tMissing [175, 266, 589, 1006]\n",
      "69 :\t False \tMissing [158, 775, 921]\n",
      "229 :\t False \tMissing [10, 15, 25, 199, 262, 333, 355, 434, 786, 894, 1022, 1333]\n",
      "424 :\t False \tMissing [775, 921, 994]\n",
      "54 :\t False \tMissing [31, 49, 100, 119, 151, 214, 261, 271, 272, 359, 412, 436, 594, 595, 604, 615, 656, 691, 741, 763, 768, 779, 795, 816, 825, 855, 900, 984, 1010, 1091, 1122, 1151, 1170, 1306, 1375, 1385]\n",
      "374 :\t False \tMissing [377]\n",
      "116 :\t False \tMissing [175, 266, 589, 1006]\n",
      "316 :\t False \tMissing [921]\n",
      "279 :\t True \tMissing []\n",
      "126 :\t True \tMissing []\n",
      "348 :\t True \tMissing []\n",
      "65 :\t True \tMissing []\n",
      "208 :\t True \tMissing []\n",
      "223 :\t False \tMissing [921]\n",
      "317 :\t False \tMissing [270]\n",
      "328 :\t False \tMissing [1207]\n",
      "77 :\t True \tMissing []\n",
      "197 :\t False \tMissing [894, 1207]\n",
      "80 :\t False \tMissing [454, 921, 1374]\n",
      "276 :\t False \tMissing [42, 151, 165, 177, 211, 248, 249, 280, 364, 369, 382, 420, 463, 469, 470, 474, 477, 595, 607, 615, 621, 654, 686, 691, 730, 763, 779, 794, 795, 799, 816, 825, 829, 877, 893, 910, 918, 979, 984, 1028, 1060, 1066, 1068, 1091, 1111, 1151, 1157, 1160, 1170, 1279, 1286, 1290, 1306, 1312, 1371]\n",
      "111 :\t False \tMissing [158, 894, 921, 1374]\n",
      "418 :\t False \tMissing [31, 49, 100, 119, 151, 214, 261, 271, 272, 359, 412, 436, 594, 595, 604, 615, 656, 691, 741, 763, 768, 779, 795, 816, 825, 855, 900, 984, 1010, 1091, 1122, 1151, 1170, 1306, 1375, 1385]\n",
      "94 :\t False \tMissing [921]\n",
      "445 :\t False \tMissing [1121]\n",
      "164 :\t True \tMissing []\n",
      "456 :\t False \tMissing [211]\n",
      "416 :\t False \tMissing [49, 119, 127, 594, 656, 816, 1272]\n",
      "122 :\t False \tMissing [921]\n",
      "73 :\t False \tMissing [921, 994, 1374]\n",
      "114 :\t False \tMissing [175, 266, 589, 1006]\n",
      "361 :\t True \tMissing []\n",
      "2 :\t False \tMissing [42, 151, 165, 177, 211, 248, 280, 369, 382, 420, 463, 474, 477, 480, 484, 595, 615, 621, 686, 691, 730, 763, 779, 795, 816, 825, 829, 875, 877, 918, 979, 984, 1028, 1060, 1066, 1068, 1091, 1151, 1160, 1170, 1279, 1286, 1290, 1306, 1312, 1371]\n",
      "217 :\t False \tMissing [31, 72, 151, 214, 271, 275, 387, 392, 420, 436, 522, 595, 674, 691, 754, 763, 779, 795, 816, 825, 829, 855, 998, 1089, 1091, 1122, 1151, 1170, 1272, 1371, 1375]\n",
      "234 :\t False \tMissing [921]\n",
      "265 :\t True \tMissing []\n",
      "39 :\t False \tMissing [1121]\n",
      "138 :\t False \tMissing [894, 1207]\n",
      "433 :\t True \tMissing []\n",
      "30 :\t False \tMissing [377]\n",
      "26 :\t False \tMissing [79, 81, 349, 446, 722, 883, 894, 1046, 1062, 1121, 1166, 1179, 1307]\n",
      "9 :\t False \tMissing [49, 119, 127, 594, 656, 768, 816]\n",
      "259 :\t False \tMissing [49, 119, 127, 594, 656, 816, 900, 1132, 1272]\n",
      "212 :\t False \tMissing [211]\n",
      "454 :\t False \tMissing [894, 1207]\n",
      "231 :\t True \tMissing []\n",
      "38 :\t False \tMissing [921]\n",
      "144 :\t True \tMissing []\n",
      "162 :\t False \tMissing [921]\n",
      "293 :\t False \tMissing [1121]\n",
      "262 :\t True \tMissing []\n",
      "370 :\t False \tMissing [225, 775, 921]\n",
      "42 :\t False \tMissing [31, 112, 132, 141, 151, 177, 211, 213, 214, 280, 329, 368, 375, 396, 422, 516, 595, 621, 661, 665, 671, 680, 691, 693, 707, 754, 763, 770, 795, 804, 811, 816, 825, 855, 890, 896, 966, 1089, 1091, 1098, 1105, 1116, 1122, 1151, 1160, 1170, 1343, 1381, 1387]\n",
      "315 :\t False \tMissing [921]\n",
      "470 :\t False \tMissing [175, 266, 589, 1006]\n",
      "236 :\t False \tMissing [31, 72, 151, 214, 222, 271, 275, 387, 392, 420, 436, 595, 674, 691, 754, 763, 779, 795, 816, 825, 829, 855, 998, 1089, 1091, 1122, 1151, 1170, 1272, 1371, 1375]\n",
      "238 :\t False \tMissing [1121]\n",
      "200 :\t True \tMissing []\n",
      "440 :\t False \tMissing [175, 266, 589, 1006]\n",
      "339 :\t False \tMissing [1040, 1207]\n",
      "28 :\t False \tMissing [225, 921, 1374]\n",
      "384 :\t False \tMissing [2, 921, 1374]\n",
      "252 :\t False \tMissing [49, 119, 127, 594, 656, 768, 816, 900]\n",
      "284 :\t False \tMissing [921]\n",
      "245 :\t False \tMissing [211]\n",
      "214 :\t False \tMissing [49, 119, 127, 594, 656, 768, 816, 1231]\n",
      "47 :\t True \tMissing []\n",
      "198 :\t False \tMissing [211]\n",
      "406 :\t False \tMissing [25]\n",
      "136 :\t False \tMissing [175, 266, 312, 589, 699, 1006, 1030]\n",
      "163 :\t False \tMissing [921]\n",
      "92 :\t True \tMissing []\n",
      "100 :\t False \tMissing [211]\n",
      "303 :\t False \tMissing [1121]\n",
      "43 :\t False \tMissing [66, 79, 446, 465, 722, 883, 894, 1046, 1062, 1121, 1166, 1179, 1307]\n",
      "230 :\t False \tMissing [49, 119, 127, 594, 656, 768, 816]\n",
      "45 :\t False \tMissing [211]\n",
      "27 :\t False \tMissing [31, 112, 132, 151, 177, 211, 213, 214, 280, 329, 346, 368, 375, 396, 425, 595, 621, 661, 680, 691, 754, 763, 795, 816, 825, 855, 890, 896, 950, 966, 1089, 1091, 1098, 1103, 1105, 1122, 1151, 1160, 1170, 1314, 1381, 1387]\n",
      "56 :\t False \tMissing [42, 151, 165, 177, 211, 248, 249, 280, 364, 369, 382, 420, 463, 469, 470, 474, 477, 480, 509, 595, 607, 615, 621, 686, 691, 730, 763, 779, 795, 799, 816, 825, 829, 877, 893, 910, 918, 979, 984, 1028, 1060, 1066, 1068, 1091, 1111, 1122, 1151, 1157, 1160, 1170, 1279, 1286, 1290, 1306, 1371]\n",
      "139 :\t False \tMissing [921]\n",
      "411 :\t True \tMissing []\n",
      "368 :\t True \tMissing []\n",
      "269 :\t False \tMissing [921]\n",
      "125 :\t False \tMissing [921]\n",
      "76 :\t False \tMissing [25]\n",
      "253 :\t True \tMissing []\n",
      "165 :\t False \tMissing [377]\n",
      "41 :\t False \tMissing [921]\n",
      "72 :\t False \tMissing [377]\n",
      "35 :\t True \tMissing []\n",
      "86 :\t False \tMissing [211]\n",
      "123 :\t False \tMissing [151, 165, 177, 211, 248, 249, 255, 280, 356, 364, 369, 382, 420, 463, 469, 470, 474, 477, 480, 572, 595, 621, 686, 691, 730, 754, 763, 779, 795, 799, 816, 821, 825, 829, 875, 877, 893, 910, 979, 984, 1060, 1066, 1068, 1091, 1111, 1151, 1160, 1170, 1279, 1286, 1290, 1306, 1312, 1327, 1371, 1392]\n",
      "344 :\t False \tMissing [31, 72, 151, 214, 271, 275, 387, 392, 420, 436, 595, 674, 691, 754, 763, 779, 795, 816, 825, 829, 855, 881, 998, 1089, 1091, 1122, 1151, 1170, 1272, 1371, 1375]\n",
      "439 :\t False \tMissing [894, 1207]\n",
      "235 :\t False \tMissing [894, 1207]\n",
      "33 :\t True \tMissing []\n",
      "428 :\t True \tMissing []\n",
      "422 :\t False \tMissing [1207]\n",
      "187 :\t False \tMissing [921]\n",
      "166 :\t True \tMissing []\n",
      "15 :\t False \tMissing [211]\n",
      "375 :\t True \tMissing []\n",
      "184 :\t False \tMissing [175, 266, 589, 1006]\n",
      "381 :\t False \tMissing [25]\n",
      "476 :\t False \tMissing [49, 119, 127, 594, 656, 816, 1272]\n",
      "105 :\t False \tMissing [175, 266, 589, 1006]\n",
      "44 :\t True \tMissing []\n",
      "168 :\t False \tMissing [921]\n",
      "285 :\t False \tMissing [151, 165, 177, 211, 248, 249, 255, 280, 356, 364, 369, 382, 420, 463, 469, 470, 474, 477, 572, 595, 621, 654, 686, 691, 730, 754, 763, 779, 795, 799, 816, 821, 825, 829, 877, 893, 910, 979, 984, 991, 1060, 1066, 1068, 1091, 1111, 1122, 1151, 1160, 1170, 1279, 1286, 1290, 1306, 1327, 1371, 1392]\n",
      "410 :\t False \tMissing [175, 266, 312, 589, 1006]\n",
      "270 :\t False \tMissing [175, 266, 589, 1006]\n",
      "294 :\t False \tMissing [49, 119, 127, 594, 656, 816, 900, 1132, 1272]\n",
      "17 :\t False \tMissing [25]\n",
      "106 :\t False \tMissing [1121]\n",
      "274 :\t False \tMissing [175, 266, 589, 1006]\n",
      "268 :\t False \tMissing [49, 119, 127, 594, 656, 816, 1272]\n",
      "289 :\t False \tMissing [921]\n",
      "175 :\t False \tMissing [894, 1207]\n",
      "5 :\t False \tMissing [211]\n",
      "121 :\t False \tMissing [894, 1207]\n",
      "444 :\t False \tMissing [79, 349, 446, 553, 722, 883, 894, 1046, 1062, 1121, 1166, 1179, 1307]\n",
      "93 :\t False \tMissing [377]\n",
      "119 :\t False \tMissing [175, 266, 589, 699, 1006, 1030]\n",
      "399 :\t False \tMissing [31, 112, 132, 141, 151, 177, 211, 213, 214, 280, 329, 368, 375, 396, 422, 516, 595, 621, 661, 665, 671, 680, 691, 693, 707, 754, 763, 795, 804, 816, 825, 855, 890, 896, 966, 1034, 1089, 1091, 1098, 1105, 1116, 1122, 1151, 1160, 1170, 1258, 1343, 1381, 1387]\n",
      "160 :\t False \tMissing [211]\n",
      "79 :\t True \tMissing []\n",
      "155 :\t False \tMissing [42, 151, 165, 177, 211, 248, 280, 369, 382, 420, 463, 474, 477, 480, 484, 509, 595, 615, 621, 686, 691, 730, 763, 779, 795, 816, 825, 829, 877, 918, 979, 984, 1028, 1060, 1066, 1068, 1091, 1122, 1151, 1160, 1170, 1279, 1286, 1290, 1306, 1371]\n",
      "74 :\t False \tMissing [31, 112, 132, 151, 177, 211, 213, 214, 280, 329, 346, 368, 375, 396, 425, 501, 595, 621, 661, 680, 691, 754, 763, 795, 816, 825, 855, 890, 896, 950, 966, 1089, 1091, 1098, 1103, 1105, 1122, 1151, 1160, 1170, 1381, 1387]\n",
      "460 :\t False \tMissing [1121]\n",
      "18 :\t True \tMissing []\n",
      "67 :\t True \tMissing []\n",
      "167 :\t False \tMissing [921]\n",
      "319 :\t True \tMissing []\n",
      "249 :\t False \tMissing [211]\n",
      "194 :\t False \tMissing [211]\n",
      "233 :\t False \tMissing [635, 775, 894, 921]\n",
      "204 :\t False \tMissing [211]\n",
      "296 :\t False \tMissing [31, 72, 151, 192, 214, 271, 275, 387, 392, 420, 436, 595, 615, 674, 691, 763, 779, 784, 795, 816, 825, 829, 855, 998, 1089, 1091, 1122, 1151, 1170, 1272, 1371, 1375]\n",
      "98 :\t True \tMissing []\n",
      "307 :\t False \tMissing [175, 266, 589, 699, 1006, 1030]\n",
      "425 :\t False \tMissing [211]\n",
      "351 :\t False \tMissing [158, 775, 921]\n",
      "202 :\t False \tMissing [175, 266, 589, 1006]\n",
      "278 :\t False \tMissing [921]\n",
      "461 :\t False \tMissing [31, 72, 151, 214, 271, 275, 387, 392, 420, 436, 593, 595, 674, 691, 754, 763, 779, 795, 816, 825, 829, 855, 998, 1089, 1091, 1122, 1151, 1170, 1272, 1371, 1375]\n",
      "352 :\t False \tMissing [175, 266, 589, 1006]\n",
      "282 :\t False \tMissing [10, 25, 262, 333, 355, 434, 786, 894, 1022, 1233, 1263, 1333]\n",
      "102 :\t True \tMissing []\n",
      "228 :\t True \tMissing []\n",
      "201 :\t True \tMissing []\n",
      "321 :\t False \tMissing [158, 775, 894, 921]\n",
      "402 :\t False \tMissing [2, 894, 921, 1374]\n",
      "371 :\t False \tMissing [151, 165, 177, 211, 248, 280, 369, 382, 420, 456, 463, 474, 477, 480, 484, 572, 595, 621, 667, 686, 691, 730, 754, 763, 779, 795, 816, 825, 829, 877, 979, 984, 1060, 1066, 1068, 1091, 1122, 1151, 1160, 1170, 1279, 1286, 1290, 1306, 1371, 1392]\n",
      "390 :\t False \tMissing [377]\n",
      "394 :\t False \tMissing [921]\n",
      "350 :\t True \tMissing []\n",
      "132 :\t False \tMissing [211]\n",
      "196 :\t True \tMissing []\n",
      "311 :\t False \tMissing [921]\n",
      "141 :\t True \tMissing []\n",
      "264 :\t False \tMissing [2, 921, 1374]\n",
      "466 :\t False \tMissing [31, 112, 132, 151, 177, 211, 213, 214, 280, 329, 346, 368, 375, 396, 425, 595, 621, 661, 680, 691, 754, 763, 779, 790, 795, 816, 825, 842, 855, 896, 950, 966, 1089, 1091, 1098, 1103, 1105, 1151, 1160, 1170, 1381, 1387]\n",
      "340 :\t False \tMissing [31, 112, 132, 151, 177, 211, 213, 214, 280, 329, 346, 368, 375, 396, 425, 595, 621, 661, 680, 691, 754, 763, 795, 811, 816, 825, 855, 890, 896, 950, 966, 1089, 1091, 1098, 1103, 1105, 1122, 1151, 1160, 1170, 1381, 1387]\n",
      "465 :\t False \tMissing [377]\n",
      "172 :\t True \tMissing []\n",
      "257 :\t False \tMissing [31, 83, 112, 132, 151, 177, 211, 213, 214, 280, 329, 346, 368, 375, 396, 425, 595, 621, 661, 680, 691, 754, 763, 779, 790, 795, 816, 825, 855, 896, 950, 966, 1089, 1091, 1098, 1103, 1105, 1151, 1160, 1170, 1381, 1387]\n",
      "431 :\t True \tMissing []\n",
      "298 :\t False \tMissing [211]\n",
      "218 :\t False \tMissing [211]\n",
      "385 :\t True \tMissing []\n",
      "359 :\t False \tMissing [31, 112, 132, 151, 177, 211, 213, 214, 237, 280, 329, 368, 375, 396, 516, 595, 615, 621, 661, 680, 691, 707, 763, 795, 816, 825, 855, 890, 896, 966, 1034, 1089, 1091, 1098, 1103, 1105, 1116, 1122, 1151, 1160, 1170, 1258, 1381, 1387]\n",
      "251 :\t True \tMissing []\n",
      "205 :\t False \tMissing [1207]\n",
      "417 :\t True \tMissing []\n",
      "464 :\t False \tMissing [49, 119, 127, 594, 656, 768, 816, 900]\n",
      "310 :\t True \tMissing []\n",
      "392 :\t False \tMissing [31, 72, 151, 214, 271, 275, 387, 392, 420, 436, 595, 674, 691, 754, 763, 779, 795, 816, 825, 829, 843, 855, 998, 1089, 1091, 1122, 1151, 1170, 1272, 1371, 1375]\n",
      "71 :\t False \tMissing [31, 49, 100, 119, 151, 214, 261, 271, 272, 359, 412, 436, 594, 595, 604, 615, 656, 691, 741, 763, 768, 779, 795, 816, 825, 855, 984, 1010, 1091, 1122, 1151, 1170, 1306, 1375, 1385]\n",
      "463 :\t True \tMissing []\n",
      "113 :\t False \tMissing [894, 1207]\n",
      "142 :\t False \tMissing [921]\n",
      "280 :\t False \tMissing [25]\n",
      "479 :\t False \tMissing [31, 72, 151, 192, 214, 271, 392, 595, 674, 691, 754, 763, 779, 795, 816, 825, 855, 998, 1089, 1091, 1122, 1151, 1170, 1375]\n",
      "193 :\t True \tMissing []\n",
      "149 :\t False \tMissing [921]\n",
      "112 :\t False \tMissing [175, 266, 589, 699, 1006, 1030]\n",
      "191 :\t False \tMissing [921]\n",
      "437 :\t True \tMissing []\n",
      "487 :\t False \tMissing [1207]\n",
      "386 :\t False \tMissing [921]\n",
      "3 :\t False \tMissing [175, 266, 312, 589, 1006]\n",
      "308 :\t True \tMissing []\n",
      "415 :\t False \tMissing [1121]\n",
      "473 :\t False \tMissing [775, 894, 921, 1181]\n",
      "494 :\t False \tMissing [921]\n",
      "295 :\t False \tMissing [49, 119, 127, 594, 656, 768, 816, 1231]\n",
      "443 :\t False \tMissing [775, 921, 1181]\n",
      "32 :\t False \tMissing [31, 49, 119, 151, 214, 261, 271, 272, 359, 412, 436, 594, 595, 604, 656, 691, 741, 754, 763, 768, 779, 795, 816, 825, 855, 900, 984, 1010, 1091, 1122, 1151, 1170, 1306, 1375, 1385]\n",
      "275 :\t False \tMissing [66, 79, 446, 722, 840, 883, 894, 1046, 1062, 1121, 1166, 1179, 1307]\n",
      "173 :\t True \tMissing []\n",
      "134 :\t False \tMissing [635, 894, 921, 1374]\n",
      "480 :\t False \tMissing [31, 112, 132, 141, 151, 177, 211, 213, 214, 237, 280, 329, 368, 375, 396, 422, 516, 538, 595, 615, 621, 661, 665, 671, 680, 691, 693, 707, 763, 770, 779, 790, 795, 804, 816, 825, 855, 896, 966, 1089, 1091, 1098, 1105, 1116, 1151, 1160, 1170, 1343, 1381, 1387]\n",
      "49 :\t True \tMissing []\n",
      "318 :\t False \tMissing [921, 1181, 1374]\n",
      "159 :\t False \tMissing [894, 1207]\n",
      "16 :\t False \tMissing [377]\n",
      "362 :\t False \tMissing [49, 119, 127, 594, 656, 768, 816, 900]\n",
      "215 :\t False \tMissing [635, 775, 921]\n",
      "146 :\t False \tMissing [775, 921, 978]\n",
      "408 :\t False \tMissing [25]\n",
      "40 :\t False \tMissing [921]\n",
      "85 :\t True \tMissing []\n",
      "21 :\t False \tMissing [921]\n",
      "441 :\t False \tMissing [31, 72, 151, 214, 271, 275, 387, 392, 420, 436, 522, 595, 674, 691, 754, 763, 779, 795, 816, 825, 829, 855, 998, 1089, 1091, 1122, 1151, 1170, 1272, 1371, 1375]\n",
      "241 :\t False \tMissing [894, 1207]\n",
      "322 :\t False \tMissing [894, 1207]\n",
      "338 :\t False \tMissing [921]\n",
      "84 :\t False \tMissing [31, 72, 151, 192, 214, 271, 275, 387, 392, 420, 436, 595, 674, 691, 754, 763, 779, 795, 816, 825, 829, 855, 998, 1089, 1091, 1122, 1151, 1170, 1272, 1371, 1375]\n",
      "78 :\t True \tMissing []\n",
      "373 :\t False \tMissing [49, 119, 127, 594, 656, 768, 816, 1231]\n",
      "64 :\t True \tMissing []\n",
      "469 :\t True \tMissing []\n",
      "430 :\t True \tMissing []\n",
      "14 :\t True \tMissing []\n",
      "70 :\t True \tMissing []\n",
      "483 :\t False \tMissing [241]\n",
      "405 :\t False \tMissing [49, 119, 127, 594, 656, 768, 816, 900]\n",
      "356 :\t False \tMissing [175, 266, 589, 1006]\n",
      "419 :\t True \tMissing []\n",
      "37 :\t False \tMissing [775, 921, 1139]\n",
      "161 :\t False \tMissing [2, 775, 921]\n",
      "154 :\t False \tMissing [42, 151, 165, 177, 211, 248, 249, 280, 364, 369, 382, 420, 456, 463, 469, 470, 474, 477, 480, 595, 607, 615, 621, 686, 691, 730, 763, 779, 795, 799, 816, 825, 829, 877, 893, 910, 918, 979, 984, 1028, 1060, 1066, 1068, 1091, 1111, 1122, 1151, 1157, 1160, 1170, 1279, 1286, 1290, 1306, 1371]\n",
      "346 :\t False \tMissing [377]\n",
      "477 :\t True \tMissing []\n"
     ]
    }
   ],
   "source": [
    "checkWhichArticlesCanBeMade(inv.purchasing, bom)"
   ]
  },
  {
   "cell_type": "code",
   "execution_count": 42,
   "metadata": {
    "cell_id": "00033-dfb62d0e-bb3c-4766-bdb2-2cc1fb43391e",
    "deepnote_cell_height": 155.578125,
    "deepnote_cell_type": "code",
    "deepnote_to_be_reexecuted": false,
    "execution_millis": 136725,
    "execution_start": 1655331754398,
    "source_hash": "f3cdc237",
    "tags": []
   },
   "outputs": [
    {
     "name": "stdout",
     "output_type": "stream",
     "text": [
      "Multi period ILP for period 2022-03-11 00:00:00 to 2022-03-31 00:00:00\n",
      "This entails 15 days: [Timestamp('2022-03-11 00:00:00', freq='B'), Timestamp('2022-03-14 00:00:00', freq='B'), Timestamp('2022-03-15 00:00:00', freq='B'), Timestamp('2022-03-16 00:00:00', freq='B'), Timestamp('2022-03-17 00:00:00', freq='B'), Timestamp('2022-03-18 00:00:00', freq='B'), Timestamp('2022-03-21 00:00:00', freq='B'), Timestamp('2022-03-22 00:00:00', freq='B'), Timestamp('2022-03-23 00:00:00', freq='B'), Timestamp('2022-03-24 00:00:00', freq='B'), Timestamp('2022-03-25 00:00:00', freq='B'), Timestamp('2022-03-28 00:00:00', freq='B'), Timestamp('2022-03-29 00:00:00', freq='B'), Timestamp('2022-03-30 00:00:00', freq='B'), Timestamp('2022-03-31 00:00:00', freq='B')]\n",
      "15,1393"
     ]
    }
   ],
   "source": [
    "model, x = multiPeriodILP(daysInPeriod=daysInPeriod, articles = articlesBatch, inv = inv, bom = bomBatch)"
   ]
  },
  {
   "cell_type": "code",
   "execution_count": 43,
   "metadata": {
    "cell_id": "00034-6d73a814-d141-4ca4-8a3a-f2c95bf1a31e",
    "deepnote_cell_height": 81,
    "deepnote_cell_type": "code",
    "deepnote_to_be_reexecuted": false,
    "execution_millis": 84578,
    "execution_start": 1655331890660,
    "source_hash": "7e126848",
    "tags": []
   },
   "outputs": [
    {
     "name": "stdout",
     "output_type": "stream",
     "text": [
      "Gurobi Optimizer version 9.5.1 build v9.5.1rc2 (mac64[x86])\n",
      "Thread count: 2 physical cores, 4 logical processors, using up to 4 threads\n",
      "Optimize a model with 41415 rows, 28125 columns and 830970 nonzeros\n",
      "Model fingerprint: 0x91e649a9\n",
      "Variable types: 0 continuous, 28125 integer (0 binary)\n",
      "Coefficient statistics:\n",
      "  Matrix range     [1e+00, 1e+03]\n",
      "  Objective range  [3e+03, 3e+04]\n",
      "  Bounds range     [1e+00, 1e+08]\n",
      "  RHS range        [1e+00, 2e+08]\n",
      "Presolve time: 0.06s\n",
      "\n",
      "Explored 0 nodes (0 simplex iterations) in 0.29 seconds (0.14 work units)\n",
      "Thread count was 1 (of 4 available processors)\n",
      "\n",
      "Solution count 0\n",
      "No other solutions better than -1e+100\n",
      "\n",
      "Model is infeasible\n",
      "Best objective -, best bound -, gap -\n",
      "Gurobi status= 3\n"
     ]
    }
   ],
   "source": [
    "status = model.solve(solver)"
   ]
  },
  {
   "cell_type": "code",
   "execution_count": 31,
   "metadata": {
    "cell_id": "00035-fc1c10b5-ba4c-46e9-abce-1300ac1afac4",
    "deepnote_cell_height": 111.6875,
    "deepnote_cell_type": "code",
    "deepnote_to_be_reexecuted": false,
    "execution_millis": 144,
    "execution_start": 1655331975238,
    "source_hash": "63469c95",
    "tags": []
   },
   "outputs": [
    {
     "name": "stdout",
     "output_type": "stream",
     "text": [
      "1 26189776.0\n"
     ]
    }
   ],
   "source": [
    "print(status, model.objective.value())"
   ]
  },
  {
   "cell_type": "code",
   "execution_count": 32,
   "metadata": {
    "cell_id": "00036-4f8bc93a-19a7-48ed-93cb-75d215a96112",
    "deepnote_cell_height": 99,
    "deepnote_cell_type": "code",
    "deepnote_to_be_reexecuted": false,
    "execution_millis": 11,
    "execution_start": 1655331975239,
    "source_hash": "93e759f0",
    "tags": []
   },
   "outputs": [],
   "source": [
    "productionDf = createProductionDf(x, daysInPeriod, articles)\n"
   ]
  },
  {
   "cell_type": "code",
   "execution_count": 33,
   "metadata": {
    "cell_id": "e55574dd4abe475a8c0b22d20acfe134",
    "deepnote_cell_height": 600,
    "deepnote_cell_type": "code",
    "deepnote_to_be_reexecuted": false,
    "execution_millis": 112,
    "execution_start": 1655331975273,
    "source_hash": "12b32e7a",
    "tags": []
   },
   "outputs": [
    {
     "data": {
      "text/html": [
       "<div>\n",
       "<style scoped>\n",
       "    .dataframe tbody tr th:only-of-type {\n",
       "        vertical-align: middle;\n",
       "    }\n",
       "\n",
       "    .dataframe tbody tr th {\n",
       "        vertical-align: top;\n",
       "    }\n",
       "\n",
       "    .dataframe thead th {\n",
       "        text-align: right;\n",
       "    }\n",
       "</style>\n",
       "<table border=\"1\" class=\"dataframe\">\n",
       "  <thead>\n",
       "    <tr style=\"text-align: right;\">\n",
       "      <th></th>\n",
       "      <th>day</th>\n",
       "      <th>day_nr</th>\n",
       "      <th>article_number</th>\n",
       "      <th>quantity_batch</th>\n",
       "      <th>quantity</th>\n",
       "      <th>article_revenue</th>\n",
       "      <th>revenue_total</th>\n",
       "    </tr>\n",
       "  </thead>\n",
       "  <tbody>\n",
       "    <tr>\n",
       "      <th>5505</th>\n",
       "      <td>2022-03-11</td>\n",
       "      <td>1</td>\n",
       "      <td>44</td>\n",
       "      <td>4.0</td>\n",
       "      <td>64.0</td>\n",
       "      <td>1763</td>\n",
       "      <td>7052.0</td>\n",
       "    </tr>\n",
       "    <tr>\n",
       "      <th>5985</th>\n",
       "      <td>2022-03-11</td>\n",
       "      <td>1</td>\n",
       "      <td>98</td>\n",
       "      <td>30.0</td>\n",
       "      <td>480.0</td>\n",
       "      <td>1254</td>\n",
       "      <td>37620.0</td>\n",
       "    </tr>\n",
       "    <tr>\n",
       "      <th>6120</th>\n",
       "      <td>2022-03-11</td>\n",
       "      <td>1</td>\n",
       "      <td>102</td>\n",
       "      <td>16.0</td>\n",
       "      <td>256.0</td>\n",
       "      <td>1421</td>\n",
       "      <td>22736.0</td>\n",
       "    </tr>\n",
       "    <tr>\n",
       "      <th>2115</th>\n",
       "      <td>2022-03-11</td>\n",
       "      <td>1</td>\n",
       "      <td>137</td>\n",
       "      <td>12.0</td>\n",
       "      <td>192.0</td>\n",
       "      <td>1613</td>\n",
       "      <td>19356.0</td>\n",
       "    </tr>\n",
       "    <tr>\n",
       "      <th>390</th>\n",
       "      <td>2022-03-11</td>\n",
       "      <td>1</td>\n",
       "      <td>176</td>\n",
       "      <td>9.0</td>\n",
       "      <td>144.0</td>\n",
       "      <td>1249</td>\n",
       "      <td>11241.0</td>\n",
       "    </tr>\n",
       "    <tr>\n",
       "      <th>2355</th>\n",
       "      <td>2022-03-11</td>\n",
       "      <td>1</td>\n",
       "      <td>404</td>\n",
       "      <td>1.0</td>\n",
       "      <td>16.0</td>\n",
       "      <td>1222</td>\n",
       "      <td>1222.0</td>\n",
       "    </tr>\n",
       "    <tr>\n",
       "      <th>6720</th>\n",
       "      <td>2022-03-11</td>\n",
       "      <td>1</td>\n",
       "      <td>437</td>\n",
       "      <td>2.0</td>\n",
       "      <td>32.0</td>\n",
       "      <td>1194</td>\n",
       "      <td>2388.0</td>\n",
       "    </tr>\n",
       "    <tr>\n",
       "      <th>1021</th>\n",
       "      <td>2022-03-14</td>\n",
       "      <td>2</td>\n",
       "      <td>53</td>\n",
       "      <td>50.0</td>\n",
       "      <td>800.0</td>\n",
       "      <td>1463</td>\n",
       "      <td>73150.0</td>\n",
       "    </tr>\n",
       "    <tr>\n",
       "      <th>6721</th>\n",
       "      <td>2022-03-14</td>\n",
       "      <td>2</td>\n",
       "      <td>437</td>\n",
       "      <td>24.0</td>\n",
       "      <td>384.0</td>\n",
       "      <td>1194</td>\n",
       "      <td>28656.0</td>\n",
       "    </tr>\n",
       "    <tr>\n",
       "      <th>422</th>\n",
       "      <td>2022-03-15</td>\n",
       "      <td>3</td>\n",
       "      <td>287</td>\n",
       "      <td>47.0</td>\n",
       "      <td>752.0</td>\n",
       "      <td>1340</td>\n",
       "      <td>62980.0</td>\n",
       "    </tr>\n",
       "    <tr>\n",
       "      <th>6512</th>\n",
       "      <td>2022-03-15</td>\n",
       "      <td>3</td>\n",
       "      <td>417</td>\n",
       "      <td>27.0</td>\n",
       "      <td>432.0</td>\n",
       "      <td>1567</td>\n",
       "      <td>42309.0</td>\n",
       "    </tr>\n",
       "    <tr>\n",
       "      <th>5988</th>\n",
       "      <td>2022-03-16</td>\n",
       "      <td>4</td>\n",
       "      <td>98</td>\n",
       "      <td>6.0</td>\n",
       "      <td>96.0</td>\n",
       "      <td>1254</td>\n",
       "      <td>7524.0</td>\n",
       "    </tr>\n",
       "    <tr>\n",
       "      <th>2118</th>\n",
       "      <td>2022-03-16</td>\n",
       "      <td>4</td>\n",
       "      <td>137</td>\n",
       "      <td>61.0</td>\n",
       "      <td>976.0</td>\n",
       "      <td>1613</td>\n",
       "      <td>98393.0</td>\n",
       "    </tr>\n",
       "    <tr>\n",
       "      <th>6513</th>\n",
       "      <td>2022-03-16</td>\n",
       "      <td>4</td>\n",
       "      <td>417</td>\n",
       "      <td>7.0</td>\n",
       "      <td>112.0</td>\n",
       "      <td>1567</td>\n",
       "      <td>10969.0</td>\n",
       "    </tr>\n",
       "    <tr>\n",
       "      <th>5869</th>\n",
       "      <td>2022-03-17</td>\n",
       "      <td>5</td>\n",
       "      <td>67</td>\n",
       "      <td>7.0</td>\n",
       "      <td>112.0</td>\n",
       "      <td>1372</td>\n",
       "      <td>9604.0</td>\n",
       "    </tr>\n",
       "    <tr>\n",
       "      <th>2119</th>\n",
       "      <td>2022-03-17</td>\n",
       "      <td>5</td>\n",
       "      <td>137</td>\n",
       "      <td>57.0</td>\n",
       "      <td>912.0</td>\n",
       "      <td>1613</td>\n",
       "      <td>91941.0</td>\n",
       "    </tr>\n",
       "    <tr>\n",
       "      <th>4084</th>\n",
       "      <td>2022-03-17</td>\n",
       "      <td>5</td>\n",
       "      <td>348</td>\n",
       "      <td>5.0</td>\n",
       "      <td>80.0</td>\n",
       "      <td>1426</td>\n",
       "      <td>7130.0</td>\n",
       "    </tr>\n",
       "    <tr>\n",
       "      <th>3604</th>\n",
       "      <td>2022-03-17</td>\n",
       "      <td>5</td>\n",
       "      <td>369</td>\n",
       "      <td>5.0</td>\n",
       "      <td>80.0</td>\n",
       "      <td>1606</td>\n",
       "      <td>8030.0</td>\n",
       "    </tr>\n",
       "    <tr>\n",
       "      <th>6905</th>\n",
       "      <td>2022-03-18</td>\n",
       "      <td>6</td>\n",
       "      <td>173</td>\n",
       "      <td>23.0</td>\n",
       "      <td>368.0</td>\n",
       "      <td>1483</td>\n",
       "      <td>34109.0</td>\n",
       "    </tr>\n",
       "    <tr>\n",
       "      <th>3605</th>\n",
       "      <td>2022-03-18</td>\n",
       "      <td>6</td>\n",
       "      <td>369</td>\n",
       "      <td>10.0</td>\n",
       "      <td>160.0</td>\n",
       "      <td>1606</td>\n",
       "      <td>16060.0</td>\n",
       "    </tr>\n",
       "    <tr>\n",
       "      <th>6515</th>\n",
       "      <td>2022-03-18</td>\n",
       "      <td>6</td>\n",
       "      <td>417</td>\n",
       "      <td>40.0</td>\n",
       "      <td>640.0</td>\n",
       "      <td>1567</td>\n",
       "      <td>62680.0</td>\n",
       "    </tr>\n",
       "    <tr>\n",
       "      <th>7250</th>\n",
       "      <td>2022-03-18</td>\n",
       "      <td>6</td>\n",
       "      <td>430</td>\n",
       "      <td>1.0</td>\n",
       "      <td>16.0</td>\n",
       "      <td>1673</td>\n",
       "      <td>1673.0</td>\n",
       "    </tr>\n",
       "    <tr>\n",
       "      <th>5796</th>\n",
       "      <td>2022-03-21</td>\n",
       "      <td>7</td>\n",
       "      <td>79</td>\n",
       "      <td>2.0</td>\n",
       "      <td>32.0</td>\n",
       "      <td>1530</td>\n",
       "      <td>3060.0</td>\n",
       "    </tr>\n",
       "    <tr>\n",
       "      <th>6726</th>\n",
       "      <td>2022-03-21</td>\n",
       "      <td>7</td>\n",
       "      <td>437</td>\n",
       "      <td>72.0</td>\n",
       "      <td>1152.0</td>\n",
       "      <td>1194</td>\n",
       "      <td>85968.0</td>\n",
       "    </tr>\n",
       "    <tr>\n",
       "      <th>6682</th>\n",
       "      <td>2022-03-22</td>\n",
       "      <td>8</td>\n",
       "      <td>149</td>\n",
       "      <td>20.0</td>\n",
       "      <td>320.0</td>\n",
       "      <td>1607</td>\n",
       "      <td>32140.0</td>\n",
       "    </tr>\n",
       "    <tr>\n",
       "      <th>6292</th>\n",
       "      <td>2022-03-22</td>\n",
       "      <td>8</td>\n",
       "      <td>311</td>\n",
       "      <td>14.0</td>\n",
       "      <td>224.0</td>\n",
       "      <td>1392</td>\n",
       "      <td>19488.0</td>\n",
       "    </tr>\n",
       "    <tr>\n",
       "      <th>4087</th>\n",
       "      <td>2022-03-22</td>\n",
       "      <td>8</td>\n",
       "      <td>348</td>\n",
       "      <td>4.0</td>\n",
       "      <td>64.0</td>\n",
       "      <td>1426</td>\n",
       "      <td>5704.0</td>\n",
       "    </tr>\n",
       "    <tr>\n",
       "      <th>6727</th>\n",
       "      <td>2022-03-22</td>\n",
       "      <td>8</td>\n",
       "      <td>437</td>\n",
       "      <td>14.0</td>\n",
       "      <td>224.0</td>\n",
       "      <td>1194</td>\n",
       "      <td>16716.0</td>\n",
       "    </tr>\n",
       "    <tr>\n",
       "      <th>6832</th>\n",
       "      <td>2022-03-22</td>\n",
       "      <td>8</td>\n",
       "      <td>494</td>\n",
       "      <td>22.0</td>\n",
       "      <td>352.0</td>\n",
       "      <td>1432</td>\n",
       "      <td>31504.0</td>\n",
       "    </tr>\n",
       "    <tr>\n",
       "      <th>5993</th>\n",
       "      <td>2022-03-23</td>\n",
       "      <td>9</td>\n",
       "      <td>98</td>\n",
       "      <td>5.0</td>\n",
       "      <td>80.0</td>\n",
       "      <td>1254</td>\n",
       "      <td>6270.0</td>\n",
       "    </tr>\n",
       "    <tr>\n",
       "      <th>2123</th>\n",
       "      <td>2022-03-23</td>\n",
       "      <td>9</td>\n",
       "      <td>137</td>\n",
       "      <td>27.0</td>\n",
       "      <td>432.0</td>\n",
       "      <td>1613</td>\n",
       "      <td>43551.0</td>\n",
       "    </tr>\n",
       "    <tr>\n",
       "      <th>428</th>\n",
       "      <td>2022-03-23</td>\n",
       "      <td>9</td>\n",
       "      <td>287</td>\n",
       "      <td>31.0</td>\n",
       "      <td>496.0</td>\n",
       "      <td>1340</td>\n",
       "      <td>41540.0</td>\n",
       "    </tr>\n",
       "    <tr>\n",
       "      <th>4088</th>\n",
       "      <td>2022-03-23</td>\n",
       "      <td>9</td>\n",
       "      <td>348</td>\n",
       "      <td>11.0</td>\n",
       "      <td>176.0</td>\n",
       "      <td>1426</td>\n",
       "      <td>15686.0</td>\n",
       "    </tr>\n",
       "    <tr>\n",
       "      <th>2124</th>\n",
       "      <td>2022-03-24</td>\n",
       "      <td>10</td>\n",
       "      <td>137</td>\n",
       "      <td>28.0</td>\n",
       "      <td>448.0</td>\n",
       "      <td>1613</td>\n",
       "      <td>45164.0</td>\n",
       "    </tr>\n",
       "    <tr>\n",
       "      <th>429</th>\n",
       "      <td>2022-03-24</td>\n",
       "      <td>10</td>\n",
       "      <td>287</td>\n",
       "      <td>10.0</td>\n",
       "      <td>160.0</td>\n",
       "      <td>1340</td>\n",
       "      <td>13400.0</td>\n",
       "    </tr>\n",
       "    <tr>\n",
       "      <th>3609</th>\n",
       "      <td>2022-03-24</td>\n",
       "      <td>10</td>\n",
       "      <td>369</td>\n",
       "      <td>10.0</td>\n",
       "      <td>160.0</td>\n",
       "      <td>1606</td>\n",
       "      <td>16060.0</td>\n",
       "    </tr>\n",
       "    <tr>\n",
       "      <th>6519</th>\n",
       "      <td>2022-03-24</td>\n",
       "      <td>10</td>\n",
       "      <td>417</td>\n",
       "      <td>26.0</td>\n",
       "      <td>416.0</td>\n",
       "      <td>1567</td>\n",
       "      <td>40742.0</td>\n",
       "    </tr>\n",
       "    <tr>\n",
       "      <th>2125</th>\n",
       "      <td>2022-03-25</td>\n",
       "      <td>11</td>\n",
       "      <td>137</td>\n",
       "      <td>57.0</td>\n",
       "      <td>912.0</td>\n",
       "      <td>1613</td>\n",
       "      <td>91941.0</td>\n",
       "    </tr>\n",
       "    <tr>\n",
       "      <th>6685</th>\n",
       "      <td>2022-03-25</td>\n",
       "      <td>11</td>\n",
       "      <td>149</td>\n",
       "      <td>5.0</td>\n",
       "      <td>80.0</td>\n",
       "      <td>1607</td>\n",
       "      <td>8035.0</td>\n",
       "    </tr>\n",
       "    <tr>\n",
       "      <th>430</th>\n",
       "      <td>2022-03-25</td>\n",
       "      <td>11</td>\n",
       "      <td>287</td>\n",
       "      <td>7.0</td>\n",
       "      <td>112.0</td>\n",
       "      <td>1340</td>\n",
       "      <td>9380.0</td>\n",
       "    </tr>\n",
       "    <tr>\n",
       "      <th>4090</th>\n",
       "      <td>2022-03-25</td>\n",
       "      <td>11</td>\n",
       "      <td>348</td>\n",
       "      <td>5.0</td>\n",
       "      <td>80.0</td>\n",
       "      <td>1426</td>\n",
       "      <td>7130.0</td>\n",
       "    </tr>\n",
       "    <tr>\n",
       "      <th>2126</th>\n",
       "      <td>2022-03-28</td>\n",
       "      <td>12</td>\n",
       "      <td>137</td>\n",
       "      <td>18.0</td>\n",
       "      <td>288.0</td>\n",
       "      <td>1613</td>\n",
       "      <td>29034.0</td>\n",
       "    </tr>\n",
       "    <tr>\n",
       "      <th>6521</th>\n",
       "      <td>2022-03-28</td>\n",
       "      <td>12</td>\n",
       "      <td>417</td>\n",
       "      <td>56.0</td>\n",
       "      <td>896.0</td>\n",
       "      <td>1567</td>\n",
       "      <td>87752.0</td>\n",
       "    </tr>\n",
       "    <tr>\n",
       "      <th>2127</th>\n",
       "      <td>2022-03-29</td>\n",
       "      <td>13</td>\n",
       "      <td>137</td>\n",
       "      <td>45.0</td>\n",
       "      <td>720.0</td>\n",
       "      <td>1613</td>\n",
       "      <td>72585.0</td>\n",
       "    </tr>\n",
       "    <tr>\n",
       "      <th>6297</th>\n",
       "      <td>2022-03-29</td>\n",
       "      <td>13</td>\n",
       "      <td>311</td>\n",
       "      <td>29.0</td>\n",
       "      <td>464.0</td>\n",
       "      <td>1392</td>\n",
       "      <td>40368.0</td>\n",
       "    </tr>\n",
       "    <tr>\n",
       "      <th>6298</th>\n",
       "      <td>2022-03-30</td>\n",
       "      <td>14</td>\n",
       "      <td>311</td>\n",
       "      <td>74.0</td>\n",
       "      <td>1184.0</td>\n",
       "      <td>1392</td>\n",
       "      <td>103008.0</td>\n",
       "    </tr>\n",
       "    <tr>\n",
       "      <th>1034</th>\n",
       "      <td>2022-03-31</td>\n",
       "      <td>15</td>\n",
       "      <td>53</td>\n",
       "      <td>37.0</td>\n",
       "      <td>592.0</td>\n",
       "      <td>1463</td>\n",
       "      <td>54131.0</td>\n",
       "    </tr>\n",
       "    <tr>\n",
       "      <th>2129</th>\n",
       "      <td>2022-03-31</td>\n",
       "      <td>15</td>\n",
       "      <td>137</td>\n",
       "      <td>37.0</td>\n",
       "      <td>592.0</td>\n",
       "      <td>1613</td>\n",
       "      <td>59681.0</td>\n",
       "    </tr>\n",
       "  </tbody>\n",
       "</table>\n",
       "</div>"
      ],
      "text/plain": [
       "            day  day_nr  article_number  quantity_batch  quantity  \\\n",
       "5505 2022-03-11       1              44             4.0      64.0   \n",
       "5985 2022-03-11       1              98            30.0     480.0   \n",
       "6120 2022-03-11       1             102            16.0     256.0   \n",
       "2115 2022-03-11       1             137            12.0     192.0   \n",
       "390  2022-03-11       1             176             9.0     144.0   \n",
       "2355 2022-03-11       1             404             1.0      16.0   \n",
       "6720 2022-03-11       1             437             2.0      32.0   \n",
       "1021 2022-03-14       2              53            50.0     800.0   \n",
       "6721 2022-03-14       2             437            24.0     384.0   \n",
       "422  2022-03-15       3             287            47.0     752.0   \n",
       "6512 2022-03-15       3             417            27.0     432.0   \n",
       "5988 2022-03-16       4              98             6.0      96.0   \n",
       "2118 2022-03-16       4             137            61.0     976.0   \n",
       "6513 2022-03-16       4             417             7.0     112.0   \n",
       "5869 2022-03-17       5              67             7.0     112.0   \n",
       "2119 2022-03-17       5             137            57.0     912.0   \n",
       "4084 2022-03-17       5             348             5.0      80.0   \n",
       "3604 2022-03-17       5             369             5.0      80.0   \n",
       "6905 2022-03-18       6             173            23.0     368.0   \n",
       "3605 2022-03-18       6             369            10.0     160.0   \n",
       "6515 2022-03-18       6             417            40.0     640.0   \n",
       "7250 2022-03-18       6             430             1.0      16.0   \n",
       "5796 2022-03-21       7              79             2.0      32.0   \n",
       "6726 2022-03-21       7             437            72.0    1152.0   \n",
       "6682 2022-03-22       8             149            20.0     320.0   \n",
       "6292 2022-03-22       8             311            14.0     224.0   \n",
       "4087 2022-03-22       8             348             4.0      64.0   \n",
       "6727 2022-03-22       8             437            14.0     224.0   \n",
       "6832 2022-03-22       8             494            22.0     352.0   \n",
       "5993 2022-03-23       9              98             5.0      80.0   \n",
       "2123 2022-03-23       9             137            27.0     432.0   \n",
       "428  2022-03-23       9             287            31.0     496.0   \n",
       "4088 2022-03-23       9             348            11.0     176.0   \n",
       "2124 2022-03-24      10             137            28.0     448.0   \n",
       "429  2022-03-24      10             287            10.0     160.0   \n",
       "3609 2022-03-24      10             369            10.0     160.0   \n",
       "6519 2022-03-24      10             417            26.0     416.0   \n",
       "2125 2022-03-25      11             137            57.0     912.0   \n",
       "6685 2022-03-25      11             149             5.0      80.0   \n",
       "430  2022-03-25      11             287             7.0     112.0   \n",
       "4090 2022-03-25      11             348             5.0      80.0   \n",
       "2126 2022-03-28      12             137            18.0     288.0   \n",
       "6521 2022-03-28      12             417            56.0     896.0   \n",
       "2127 2022-03-29      13             137            45.0     720.0   \n",
       "6297 2022-03-29      13             311            29.0     464.0   \n",
       "6298 2022-03-30      14             311            74.0    1184.0   \n",
       "1034 2022-03-31      15              53            37.0     592.0   \n",
       "2129 2022-03-31      15             137            37.0     592.0   \n",
       "\n",
       "      article_revenue  revenue_total  \n",
       "5505             1763         7052.0  \n",
       "5985             1254        37620.0  \n",
       "6120             1421        22736.0  \n",
       "2115             1613        19356.0  \n",
       "390              1249        11241.0  \n",
       "2355             1222         1222.0  \n",
       "6720             1194         2388.0  \n",
       "1021             1463        73150.0  \n",
       "6721             1194        28656.0  \n",
       "422              1340        62980.0  \n",
       "6512             1567        42309.0  \n",
       "5988             1254         7524.0  \n",
       "2118             1613        98393.0  \n",
       "6513             1567        10969.0  \n",
       "5869             1372         9604.0  \n",
       "2119             1613        91941.0  \n",
       "4084             1426         7130.0  \n",
       "3604             1606         8030.0  \n",
       "6905             1483        34109.0  \n",
       "3605             1606        16060.0  \n",
       "6515             1567        62680.0  \n",
       "7250             1673         1673.0  \n",
       "5796             1530         3060.0  \n",
       "6726             1194        85968.0  \n",
       "6682             1607        32140.0  \n",
       "6292             1392        19488.0  \n",
       "4087             1426         5704.0  \n",
       "6727             1194        16716.0  \n",
       "6832             1432        31504.0  \n",
       "5993             1254         6270.0  \n",
       "2123             1613        43551.0  \n",
       "428              1340        41540.0  \n",
       "4088             1426        15686.0  \n",
       "2124             1613        45164.0  \n",
       "429              1340        13400.0  \n",
       "3609             1606        16060.0  \n",
       "6519             1567        40742.0  \n",
       "2125             1613        91941.0  \n",
       "6685             1607         8035.0  \n",
       "430              1340         9380.0  \n",
       "4090             1426         7130.0  \n",
       "2126             1613        29034.0  \n",
       "6521             1567        87752.0  \n",
       "2127             1613        72585.0  \n",
       "6297             1392        40368.0  \n",
       "6298             1392       103008.0  \n",
       "1034             1463        54131.0  \n",
       "2129             1613        59681.0  "
      ]
     },
     "execution_count": 33,
     "metadata": {},
     "output_type": "execute_result"
    }
   ],
   "source": [
    "productionDf"
   ]
  },
  {
   "cell_type": "code",
   "execution_count": 79,
   "metadata": {
    "cell_id": "a0cfc1fd508a42cba6b327b81154088e",
    "deepnote_cell_height": 81,
    "deepnote_cell_type": "code",
    "deepnote_to_be_reexecuted": false,
    "execution_millis": 30,
    "execution_start": 1655331975307,
    "source_hash": "7033300e",
    "tags": []
   },
   "outputs": [],
   "source": [
    "productionDf.to_csv(f\"Production{periodBegin}_{periodEnd}\")"
   ]
  },
  {
   "cell_type": "code",
   "execution_count": null,
   "metadata": {
    "cell_id": "00037-7afb76af-cb95-402a-a3dc-f217873b2b9e",
    "deepnote_cell_height": 348.4375,
    "deepnote_cell_type": "code",
    "deepnote_output_heights": [
     251.4375
    ],
    "deepnote_to_be_reexecuted": false,
    "execution_millis": 23,
    "execution_start": 1655068529936,
    "owner_user_id": "6c347804-6bd9-471a-a1ba-f072c6ca8e0a",
    "source_hash": "cf48a109",
    "tags": []
   },
   "outputs": [
    {
     "data": {
      "text/plain": [
       "component_number\n",
       "0        2297\n",
       "1        1998\n",
       "2           0\n",
       "3        4074\n",
       "4        4842\n",
       "        ...  \n",
       "1389    13462\n",
       "1390      691\n",
       "1391     6586\n",
       "1392        0\n",
       "1393    13100\n",
       "Name: quantity, Length: 1380, dtype: int64"
      ]
     },
     "execution_count": 116,
     "metadata": {},
     "output_type": "execute_result"
    }
   ],
   "source": [
    "Inventory(purchasingProcessed).purchasingForPeriod(periodBegin, periodEnd)"
   ]
  },
  {
   "cell_type": "code",
   "execution_count": 50,
   "metadata": {
    "cell_id": "00038-bce86b4d-3841-4114-92ff-84e7b9a4f1da",
    "deepnote_cell_height": 81,
    "deepnote_cell_type": "code",
    "deepnote_to_be_reexecuted": false,
    "execution_millis": 6,
    "execution_start": 1655330937386,
    "source_hash": "16640258",
    "tags": []
   },
   "outputs": [],
   "source": [
    "productionDf.to_csv(\"production10_25_march\")"
   ]
  },
  {
   "cell_type": "code",
   "execution_count": 51,
   "metadata": {
    "cell_id": "00039-a3a3be38-20f0-4c4a-b932-78919a2f9795",
    "deepnote_cell_height": 460.1875,
    "deepnote_cell_type": "code",
    "deepnote_output_heights": [
     21.1875,
     293
    ],
    "deepnote_to_be_reexecuted": false,
    "execution_millis": 334,
    "execution_start": 1655330939355,
    "source_hash": "ae96bc60",
    "tags": []
   },
   "outputs": [
    {
     "data": {
      "text/plain": [
       "<AxesSubplot:xlabel='day'>"
      ]
     },
     "execution_count": 51,
     "metadata": {},
     "output_type": "execute_result"
    },
    {
     "data": {
      "image/png": "[encoded data removed]",
      "text/plain": [
       "<Figure size 432x288 with 1 Axes>"
      ]
     },
     "metadata": {
      "image/png": {
       "height": 291,
       "width": 393
      },
      "needs_background": "light"
     },
     "output_type": "display_data"
    }
   ],
   "source": [
    "productionDf.groupby(by='day').sum()['quantity'].plot()\n"
   ]
  },
  {
   "cell_type": "code",
   "execution_count": 52,
   "metadata": {
    "cell_id": "00040-e9d68d3e-0f1d-465d-9533-2a7ac0258b64",
    "deepnote_cell_height": 442,
    "deepnote_cell_type": "code",
    "deepnote_output_heights": [
     21,
     293
    ],
    "deepnote_to_be_reexecuted": false,
    "execution_millis": 289,
    "execution_start": 1655330955685,
    "source_hash": "5b3f3c30",
    "tags": []
   },
   "outputs": [
    {
     "data": {
      "text/plain": [
       "<AxesSubplot:xlabel='day'>"
      ]
     },
     "execution_count": 52,
     "metadata": {},
     "output_type": "execute_result"
    },
    {
     "data": {
      "image/png": "[encoded data removed]",
      "text/plain": [
       "<Figure size 432x288 with 1 Axes>"
      ]
     },
     "metadata": {
      "image/png": {
       "height": 291,
       "width": 407
      },
      "needs_background": "light"
     },
     "output_type": "display_data"
    }
   ],
   "source": [
    "productionDf.groupby(by='day').sum()['revenue_total'].plot()"
   ]
  },
  {
   "cell_type": "code",
   "execution_count": null,
   "metadata": {
    "cell_id": "00041-cd6bfc19-0e3c-483c-b73b-f9bffd458063",
    "deepnote_cell_height": 118.1875,
    "deepnote_cell_type": "code",
    "deepnote_output_heights": [
     21.1875
    ],
    "deepnote_to_be_reexecuted": false,
    "execution_millis": 8,
    "execution_start": 1654983523359,
    "source_hash": "5c43ec5c",
    "tags": []
   },
   "outputs": [
    {
     "data": {
      "text/plain": [
       "988240.0"
      ]
     },
     "execution_count": 24,
     "metadata": {},
     "output_type": "execute_result"
    }
   ],
   "source": [
    "productionDf.groupby(by='day').sum()['revenue_total'].sum()"
   ]
  },
  {
   "cell_type": "markdown",
   "metadata": {
    "cell_id": "00042-99725c66-04f9-4166-82b7-8175517f0bf1",
    "deepnote_cell_height": 62,
    "deepnote_cell_type": "markdown",
    "tags": []
   },
   "source": [
    "### Loop over all periods"
   ]
  },
  {
   "cell_type": "code",
   "execution_count": 44,
   "metadata": {
    "cell_id": "00043-aa5eea21-0fb1-4c97-ac8d-1e9f8d74b845",
    "deepnote_cell_height": 459,
    "deepnote_cell_type": "code",
    "deepnote_to_be_reexecuted": false,
    "execution_millis": 6,
    "execution_start": 1655220399610,
    "source_hash": "8a32c14e",
    "tags": []
   },
   "outputs": [],
   "source": [
    "def completeHorizonMultiplePeriodILP(periodBegin, periodEnd, articles, purchasing, bom, nPeriods):\n",
    "    daysInPeriod = getBusDaysInPeriod(periodBegin, periodEnd)\n",
    "    periods = np.array_split(daysInPeriod, nPeriods)\n",
    "    productionDfs = []\n",
    "    remainingInventory = None\n",
    "    for i, period in enumerate(periods):\n",
    "        print(f\"Solving for period {i}: {period[0]} - {period[-1]}\")\n",
    "        periodPurchasing = purchasing[purchasing['date'].between(period[0], period[-1], inclusive='both')]\n",
    "        inv = Inventory(periodPurchasing)\n",
    "        print(\"len before addBeginInv\", len(inv.purchasing))\n",
    "        inv = inv.add(remainingInventory, date=period[0])\n",
    "        print(\"after\", len(inv.purchasing))\n",
    "        #print(inv.purchasing)\n",
    "        model, x = multiPeriodILPOld(daysInPeriod=period, articles = articlesBatch, inv = inv, bom = bomBatch)\n",
    "        status = model.solve(solver)\n",
    "        productionDf = createProductionDf(x, period, articles)\n",
    "        print(len(productionDf))\n",
    "        print(model.status, \"Revenue: \", model.objective.value())\n",
    "        remainingInventory = getRemainingComponents(productionDf, inv.purchasingForPeriod(period[0], period[-1]), bom)\n",
    "        productionDfs.append(productionDf)\n",
    "    completeProductionDf = pd.concat(productionDfs)\n",
    "    return completeProductionDf"
   ]
  },
  {
   "cell_type": "code",
   "execution_count": 56,
   "metadata": {
    "cell_id": "00044-b6ff08d4-09ac-4050-99bc-ff49b500aeff",
    "deepnote_cell_height": 833.1875,
    "deepnote_cell_type": "code",
    "deepnote_to_be_reexecuted": false,
    "execution_millis": 241211,
    "execution_start": 1655220764173,
    "source_hash": "1df583e7",
    "tags": []
   },
   "outputs": [
    {
     "name": "stdout",
     "output_type": "stream",
     "text": [
      "Solving for period 0: 2022-02-16 00:00:00 - 2022-03-10 00:00:00\n",
      "len before addBeginInv 1648\n",
      "after 1648\n",
      "Multi period ILP for period 2022-02-16 00:00:00 to 2022-03-10 00:00:00\n",
      "This entails 17 days: [Timestamp('2022-02-16 00:00:00', freq='B')\n",
      " Timestamp('2022-02-17 00:00:00', freq='B')\n",
      " Timestamp('2022-02-18 00:00:00', freq='B')\n",
      " Timestamp('2022-02-21 00:00:00', freq='B')\n",
      " Timestamp('2022-02-22 00:00:00', freq='B')\n",
      " Timestamp('2022-02-23 00:00:00', freq='B')\n",
      " Timestamp('2022-02-24 00:00:00', freq='B')\n",
      " Timestamp('2022-02-25 00:00:00', freq='B')\n",
      " Timestamp('2022-02-28 00:00:00', freq='B')\n",
      " Timestamp('2022-03-01 00:00:00', freq='B')\n",
      " Timestamp('2022-03-02 00:00:00', freq='B')\n",
      " Timestamp('2022-03-03 00:00:00', freq='B')\n",
      " Timestamp('2022-03-04 00:00:00', freq='B')\n",
      " Timestamp('2022-03-07 00:00:00', freq='B')\n",
      " Timestamp('2022-03-08 00:00:00', freq='B')\n",
      " Timestamp('2022-03-09 00:00:00', freq='B')\n",
      " Timestamp('2022-03-10 00:00:00', freq='B')]\n",
      "17,1393Gurobi Optimizer version 9.5.1 build v9.5.1rc2 (mac64[x86])\n",
      "Thread count: 2 physical cores, 4 logical processors, using up to 4 threads\n",
      "Optimize a model with 23477 rows, 8415 columns and 7789230 nonzeros\n",
      "Model fingerprint: 0x6367f47a\n",
      "Variable types: 0 continuous, 8415 integer (0 binary)\n",
      "Coefficient statistics:\n",
      "  Matrix range     [1e+00, 1e+03]\n",
      "  Objective range  [3e+03, 3e+04]\n",
      "  Bounds range     [7e+01, 7e+01]\n",
      "  RHS range        [1e+00, 4e+06]\n",
      "Found heuristic solution: objective 2112224.0000\n",
      "Presolve removed 79 rows and 0 columns (presolve time = 7s) ...\n",
      "Presolve removed 23468 rows and 8399 columns\n",
      "Presolve time: 9.38s\n",
      "Presolved: 9 rows, 16 columns, 50 nonzeros\n",
      "Found heuristic solution: objective 2672848.0000\n",
      "Variable types: 0 continuous, 16 integer (2 binary)\n",
      "Found heuristic solution: objective 2699808.0000\n",
      "\n",
      "Root simplex log...\n",
      "\n",
      "Iteration    Objective       Primal Inf.    Dual Inf.      Time\n",
      "       0    3.1043840e+06   2.600000e+01   0.000000e+00     10s\n",
      "       8    2.7664960e+06   0.000000e+00   0.000000e+00     10s\n",
      "\n",
      "Root relaxation: objective 2.766496e+06, 8 iterations, 0.03 seconds (0.00 work units)\n",
      "\n",
      "    Nodes    |    Current Node    |     Objective Bounds      |     Work\n",
      " Expl Unexpl |  Obj  Depth IntInf | Incumbent    BestBd   Gap | It/Node Time\n",
      "\n",
      "*    0     0               0    2766496.0000 2766496.00 -0.00%     -   10s\n",
      "\n",
      "Explored 1 nodes (8 simplex iterations) in 10.23 seconds (1.72 work units)\n",
      "Thread count was 4 (of 4 available processors)\n",
      "\n",
      "Solution count 4: 2.7665e+06 2.69981e+06 2.67285e+06 2.11222e+06 \n",
      "\n",
      "Optimal solution found (tolerance 1.00e-04)\n",
      "Best objective 2.766496000000e+06, best bound 2.766496000000e+06, gap 0.0000%\n",
      "Gurobi status= 2\n",
      "20\n",
      "1 Revenue:  2766496.0\n",
      "remaininginv component_number\n",
      "0        2009.0\n",
      "1        1998.0\n",
      "2           0.0\n",
      "3        4074.0\n",
      "4        4554.0\n",
      "         ...   \n",
      "1389    12246.0\n",
      "1390      579.0\n",
      "1391     6586.0\n",
      "1392        0.0\n",
      "1393    13100.0\n",
      "Name: quantity, Length: 1380, dtype: float64\n",
      "Solving for period 1: 2022-03-11 00:00:00 - 2022-04-04 00:00:00\n",
      "len before addBeginInv 1338\n",
      "after 2718\n",
      "Multi period ILP for period 2022-03-11 00:00:00 to 2022-04-04 00:00:00\n",
      "This entails 17 days: [Timestamp('2022-03-11 00:00:00', freq='B')\n",
      " Timestamp('2022-03-14 00:00:00', freq='B')\n",
      " Timestamp('2022-03-15 00:00:00', freq='B')\n",
      " Timestamp('2022-03-16 00:00:00', freq='B')\n",
      " Timestamp('2022-03-17 00:00:00', freq='B')\n",
      " Timestamp('2022-03-18 00:00:00', freq='B')\n",
      " Timestamp('2022-03-21 00:00:00', freq='B')\n",
      " Timestamp('2022-03-22 00:00:00', freq='B')\n",
      " Timestamp('2022-03-23 00:00:00', freq='B')\n",
      " Timestamp('2022-03-24 00:00:00', freq='B')\n",
      " Timestamp('2022-03-25 00:00:00', freq='B')\n",
      " Timestamp('2022-03-28 00:00:00', freq='B')\n",
      " Timestamp('2022-03-29 00:00:00', freq='B')\n",
      " Timestamp('2022-03-30 00:00:00', freq='B')\n",
      " Timestamp('2022-03-31 00:00:00', freq='B')\n",
      " Timestamp('2022-04-01 00:00:00', freq='B')\n",
      " Timestamp('2022-04-04 00:00:00', freq='B')]\n",
      "17,1393Gurobi Optimizer version 9.5.1 build v9.5.1rc2 (mac64[x86])\n",
      "Thread count: 2 physical cores, 4 logical processors, using up to 4 threads\n",
      "Optimize a model with 23477 rows, 8415 columns and 7789230 nonzeros\n",
      "Model fingerprint: 0x205b0293\n",
      "Variable types: 0 continuous, 8415 integer (0 binary)\n",
      "Coefficient statistics:\n",
      "  Matrix range     [1e+00, 1e+03]\n",
      "  Objective range  [3e+03, 3e+04]\n",
      "  Bounds range     [7e+01, 7e+01]\n",
      "  RHS range        [1e+00, 2e+08]\n",
      "Found heuristic solution: objective 2.026888e+07\n",
      "Presolve removed 23303 rows and 6817 columns (presolve time = 5s) ...\n",
      "Presolve removed 23303 rows and 6817 columns\n",
      "Presolve time: 5.06s\n",
      "Presolved: 174 rows, 1598 columns, 31692 nonzeros\n",
      "Found heuristic solution: objective 2.232514e+07\n",
      "Variable types: 0 continuous, 1598 integer (0 binary)\n",
      "Found heuristic solution: objective 2.337408e+07\n",
      "\n",
      "Root simplex log...\n",
      "\n",
      "Iteration    Objective       Primal Inf.    Dual Inf.      Time\n",
      "       0    2.6938534e+08   2.612100e+04   0.000000e+00      6s\n",
      "     354    2.8980192e+07   0.000000e+00   0.000000e+00      6s\n",
      "\n",
      "Root relaxation: objective 2.898019e+07, 354 iterations, 0.03 seconds (0.01 work units)\n",
      "\n",
      "    Nodes    |    Current Node    |     Objective Bounds      |     Work\n",
      " Expl Unexpl |  Obj  Depth IntInf | Incumbent    BestBd   Gap | It/Node Time\n",
      "\n",
      "*    0     0               0    2.898019e+07 2.8980e+07 -0.00%     -    5s\n",
      "\n",
      "Explored 1 nodes (354 simplex iterations) in 5.91 seconds (3.88 work units)\n",
      "Thread count was 4 (of 4 available processors)\n",
      "\n",
      "Solution count 4: 2.89802e+07 2.33741e+07 2.23251e+07 2.02689e+07 \n",
      "\n",
      "Optimal solution found (tolerance 1.00e-04)\n",
      "Best objective 2.898019200000e+07, best bound 2.898019200000e+07, gap 0.0000%\n",
      "Gurobi status= 2\n",
      "61\n",
      "1 Revenue:  28980192.0\n",
      "remaininginv component_number\n",
      "0        1625.0\n",
      "1        1998.0\n",
      "2           0.0\n",
      "3        4074.0\n",
      "4        5170.0\n",
      "         ...   \n",
      "1389    14198.0\n",
      "1390      547.0\n",
      "1391     6586.0\n",
      "1392        0.0\n",
      "1393    13100.0\n",
      "Name: quantity, Length: 1380, dtype: float64\n",
      "Solving for period 2: 2022-04-05 00:00:00 - 2022-04-27 00:00:00\n",
      "len before addBeginInv 1191\n",
      "after 2571\n",
      "Multi period ILP for period 2022-04-05 00:00:00 to 2022-04-27 00:00:00\n",
      "This entails 17 days: [Timestamp('2022-04-05 00:00:00', freq='B')\n",
      " Timestamp('2022-04-06 00:00:00', freq='B')\n",
      " Timestamp('2022-04-07 00:00:00', freq='B')\n",
      " Timestamp('2022-04-08 00:00:00', freq='B')\n",
      " Timestamp('2022-04-11 00:00:00', freq='B')\n",
      " Timestamp('2022-04-12 00:00:00', freq='B')\n",
      " Timestamp('2022-04-13 00:00:00', freq='B')\n",
      " Timestamp('2022-04-14 00:00:00', freq='B')\n",
      " Timestamp('2022-04-15 00:00:00', freq='B')\n",
      " Timestamp('2022-04-18 00:00:00', freq='B')\n",
      " Timestamp('2022-04-19 00:00:00', freq='B')\n",
      " Timestamp('2022-04-20 00:00:00', freq='B')\n",
      " Timestamp('2022-04-21 00:00:00', freq='B')\n",
      " Timestamp('2022-04-22 00:00:00', freq='B')\n",
      " Timestamp('2022-04-25 00:00:00', freq='B')\n",
      " Timestamp('2022-04-26 00:00:00', freq='B')\n",
      " Timestamp('2022-04-27 00:00:00', freq='B')]\n",
      "17,1393Gurobi Optimizer version 9.5.1 build v9.5.1rc2 (mac64[x86])\n",
      "Thread count: 2 physical cores, 4 logical processors, using up to 4 threads\n",
      "Optimize a model with 23477 rows, 8415 columns and 7789230 nonzeros\n",
      "Model fingerprint: 0xa62ebec0\n",
      "Variable types: 0 continuous, 8415 integer (0 binary)\n",
      "Coefficient statistics:\n",
      "  Matrix range     [1e+00, 1e+03]\n",
      "  Objective range  [3e+03, 3e+04]\n",
      "  Bounds range     [7e+01, 7e+01]\n",
      "  RHS range        [1e+00, 2e+08]\n",
      "Found heuristic solution: objective 1.303522e+07\n",
      "Presolve removed 19766 rows and 7306 columns (presolve time = 6s) ...\n",
      "Presolve removed 23355 rows and 7405 columns\n",
      "Presolve time: 6.79s\n",
      "Presolved: 122 rows, 1010 columns, 16630 nonzeros\n",
      "Found heuristic solution: objective 1.434773e+07\n",
      "Variable types: 0 continuous, 1010 integer (17 binary)\n",
      "Found heuristic solution: objective 1.460261e+07\n",
      "\n",
      "Root simplex log...\n",
      "\n",
      "Iteration    Objective       Primal Inf.    Dual Inf.      Time\n",
      "       0    1.6686086e+08   1.625725e+04   0.000000e+00      8s\n",
      "     132    1.6783840e+07   0.000000e+00   0.000000e+00      8s\n",
      "\n",
      "Root relaxation: objective 1.678384e+07, 132 iterations, 0.05 seconds (0.00 work units)\n",
      "\n",
      "    Nodes    |    Current Node    |     Objective Bounds      |     Work\n",
      " Expl Unexpl |  Obj  Depth IntInf | Incumbent    BestBd   Gap | It/Node Time\n",
      "\n",
      "*    0     0               0    1.678384e+07 1.6784e+07 -0.00%     -    8s\n",
      "\n",
      "Explored 1 nodes (132 simplex iterations) in 8.14 seconds (3.09 work units)\n",
      "Thread count was 4 (of 4 available processors)\n",
      "\n",
      "Solution count 4: 1.67838e+07 1.46026e+07 1.43477e+07 1.30352e+07 \n",
      "\n",
      "Optimal solution found (tolerance 1.00e-04)\n",
      "Best objective 1.678384000000e+07, best bound 1.678384000000e+07, gap 0.0000%\n",
      "Gurobi status= 2\n",
      "38\n",
      "1 Revenue:  16783840.0\n",
      "remaininginv component_number\n",
      "0        1625.0\n",
      "1        1998.0\n",
      "2           0.0\n",
      "3        4074.0\n",
      "4        5170.0\n",
      "         ...   \n",
      "1389    11638.0\n",
      "1390      531.0\n",
      "1391     6586.0\n",
      "1392        0.0\n",
      "1393    13380.0\n",
      "Name: quantity, Length: 1380, dtype: float64\n",
      "Solving for period 3: 2022-04-28 00:00:00 - 2022-05-20 00:00:00\n",
      "len before addBeginInv 1172\n",
      "after 2552\n",
      "Multi period ILP for period 2022-04-28 00:00:00 to 2022-05-20 00:00:00\n",
      "This entails 17 days: [Timestamp('2022-04-28 00:00:00', freq='B')\n",
      " Timestamp('2022-04-29 00:00:00', freq='B')\n",
      " Timestamp('2022-05-02 00:00:00', freq='B')\n",
      " Timestamp('2022-05-03 00:00:00', freq='B')\n",
      " Timestamp('2022-05-04 00:00:00', freq='B')\n",
      " Timestamp('2022-05-05 00:00:00', freq='B')\n",
      " Timestamp('2022-05-06 00:00:00', freq='B')\n",
      " Timestamp('2022-05-09 00:00:00', freq='B')\n",
      " Timestamp('2022-05-10 00:00:00', freq='B')\n",
      " Timestamp('2022-05-11 00:00:00', freq='B')\n",
      " Timestamp('2022-05-12 00:00:00', freq='B')\n",
      " Timestamp('2022-05-13 00:00:00', freq='B')\n",
      " Timestamp('2022-05-16 00:00:00', freq='B')\n",
      " Timestamp('2022-05-17 00:00:00', freq='B')\n",
      " Timestamp('2022-05-18 00:00:00', freq='B')\n",
      " Timestamp('2022-05-19 00:00:00', freq='B')\n",
      " Timestamp('2022-05-20 00:00:00', freq='B')]\n",
      "17,1393Gurobi Optimizer version 9.5.1 build v9.5.1rc2 (mac64[x86])\n",
      "Thread count: 2 physical cores, 4 logical processors, using up to 4 threads\n",
      "Optimize a model with 23477 rows, 8415 columns and 7789230 nonzeros\n",
      "Model fingerprint: 0xdb79f5f6\n",
      "Variable types: 0 continuous, 8415 integer (0 binary)\n",
      "Coefficient statistics:\n",
      "  Matrix range     [1e+00, 1e+03]\n",
      "  Objective range  [3e+03, 3e+04]\n",
      "  Bounds range     [7e+01, 7e+01]\n",
      "  RHS range        [1e+00, 2e+08]\n",
      "Found heuristic solution: objective 1.009518e+07\n",
      "Presolve removed 23341 rows and 7288 columns\n",
      "Presolve time: 4.35s\n",
      "Presolved: 136 rows, 1127 columns, 20484 nonzeros\n",
      "Found heuristic solution: objective 1.139616e+07\n",
      "Variable types: 0 continuous, 1127 integer (6 binary)\n",
      "Found heuristic solution: objective 1.168206e+07\n",
      "\n",
      "Root relaxation: objective 1.404737e+07, 211 iterations, 0.00 seconds (0.00 work units)\n",
      "\n",
      "    Nodes    |    Current Node    |     Objective Bounds      |     Work\n",
      " Expl Unexpl |  Obj  Depth IntInf | Incumbent    BestBd   Gap | It/Node Time\n",
      "\n",
      "     0     0 1.4047e+07    0   10 1.1682e+07 1.4047e+07  20.2%     -    4s\n",
      "H    0     0                    1.403245e+07 1.4047e+07  0.11%     -    4s\n",
      "H    0     0                    1.404341e+07 1.4047e+07  0.03%     -    4s\n",
      "     0     0 infeasible    0      1.4043e+07 1.4043e+07 -0.00%     -    4s\n",
      "\n",
      "Cutting planes:\n",
      "  Gomory: 1\n",
      "  MIR: 2\n",
      "\n",
      "Explored 1 nodes (226 simplex iterations) in 5.07 seconds (2.77 work units)\n",
      "Thread count was 4 (of 4 available processors)\n",
      "\n",
      "Solution count 5: 1.40434e+07 1.40324e+07 1.16821e+07 ... 1.00952e+07\n",
      "\n",
      "Optimal solution found (tolerance 1.00e-04)\n",
      "Best objective 1.404340800000e+07, best bound 1.404340800000e+07, gap 0.0000%\n",
      "Gurobi status= 2\n",
      "45\n",
      "1 Revenue:  14043408.0\n",
      "remaininginv component_number\n",
      "0        1273.0\n",
      "1         526.0\n",
      "2         504.0\n",
      "3       14074.0\n",
      "4        5818.0\n",
      "         ...   \n",
      "1389    11734.0\n",
      "1390      531.0\n",
      "1391     6586.0\n",
      "1392        0.0\n",
      "1393    18540.0\n",
      "Name: quantity, Length: 1380, dtype: float64\n",
      "Solving for period 4: 2022-05-23 00:00:00 - 2022-06-14 00:00:00\n",
      "len before addBeginInv 1473\n",
      "after 2853\n",
      "Multi period ILP for period 2022-05-23 00:00:00 to 2022-06-14 00:00:00\n",
      "This entails 17 days: [Timestamp('2022-05-23 00:00:00', freq='B')\n",
      " Timestamp('2022-05-24 00:00:00', freq='B')\n",
      " Timestamp('2022-05-25 00:00:00', freq='B')\n",
      " Timestamp('2022-05-26 00:00:00', freq='B')\n",
      " Timestamp('2022-05-27 00:00:00', freq='B')\n",
      " Timestamp('2022-05-30 00:00:00', freq='B')\n",
      " Timestamp('2022-05-31 00:00:00', freq='B')\n",
      " Timestamp('2022-06-01 00:00:00', freq='B')\n",
      " Timestamp('2022-06-02 00:00:00', freq='B')\n",
      " Timestamp('2022-06-03 00:00:00', freq='B')\n",
      " Timestamp('2022-06-06 00:00:00', freq='B')\n",
      " Timestamp('2022-06-07 00:00:00', freq='B')\n",
      " Timestamp('2022-06-08 00:00:00', freq='B')\n",
      " Timestamp('2022-06-09 00:00:00', freq='B')\n",
      " Timestamp('2022-06-10 00:00:00', freq='B')\n",
      " Timestamp('2022-06-13 00:00:00', freq='B')\n",
      " Timestamp('2022-06-14 00:00:00', freq='B')]\n",
      "17,1393Gurobi Optimizer version 9.5.1 build v9.5.1rc2 (mac64[x86])\n",
      "Thread count: 2 physical cores, 4 logical processors, using up to 4 threads\n",
      "Optimize a model with 23477 rows, 8415 columns and 7789230 nonzeros\n",
      "Model fingerprint: 0xcf091532\n",
      "Variable types: 0 continuous, 8415 integer (0 binary)\n",
      "Coefficient statistics:\n",
      "  Matrix range     [1e+00, 1e+03]\n",
      "  Objective range  [3e+03, 3e+04]\n",
      "  Bounds range     [7e+01, 7e+01]\n",
      "  RHS range        [1e+00, 2e+08]\n",
      "Found heuristic solution: objective 1.024158e+07\n",
      "Presolve removed 23390 rows and 7948 columns\n",
      "Presolve time: 3.97s\n",
      "Presolved: 87 rows, 467 columns, 3421 nonzeros\n",
      "Found heuristic solution: objective 1.257472e+07\n",
      "Variable types: 0 continuous, 467 integer (0 binary)\n",
      "Found heuristic solution: objective 1.286634e+07\n",
      "\n",
      "Root relaxation: objective 1.369142e+07, 131 iterations, 0.01 seconds (0.00 work units)\n",
      "\n",
      "    Nodes    |    Current Node    |     Objective Bounds      |     Work\n",
      " Expl Unexpl |  Obj  Depth IntInf | Incumbent    BestBd   Gap | It/Node Time\n",
      "\n",
      "*    0     0               0    1.369142e+07 1.3691e+07 -0.00%     -    4s\n",
      "\n",
      "Explored 1 nodes (131 simplex iterations) in 4.57 seconds (2.13 work units)\n",
      "Thread count was 4 (of 4 available processors)\n",
      "\n",
      "Solution count 4: 1.36914e+07 1.28663e+07 1.25747e+07 1.02416e+07 \n",
      "\n",
      "Optimal solution found (tolerance 1.00e-04)\n",
      "Best objective 1.369142400000e+07, best bound 1.369142400000e+07, gap 0.0000%\n",
      "Gurobi status= 2\n",
      "36\n",
      "1 Revenue:  13691424.0\n",
      "remaininginv component_number\n",
      "0        1081.0\n",
      "1         526.0\n",
      "2         984.0\n",
      "3       14074.0\n",
      "4        5626.0\n",
      "         ...   \n",
      "1389    13590.0\n",
      "1390      531.0\n",
      "1391     6586.0\n",
      "1392        0.0\n",
      "1393    20444.0\n",
      "Name: quantity, Length: 1380, dtype: float64\n",
      "Solving for period 5: 2022-06-15 00:00:00 - 2022-07-06 00:00:00\n",
      "len before addBeginInv 1026\n",
      "after 2406\n",
      "Multi period ILP for period 2022-06-15 00:00:00 to 2022-07-06 00:00:00\n",
      "This entails 16 days: [Timestamp('2022-06-15 00:00:00', freq='B')\n",
      " Timestamp('2022-06-16 00:00:00', freq='B')\n",
      " Timestamp('2022-06-17 00:00:00', freq='B')\n",
      " Timestamp('2022-06-20 00:00:00', freq='B')\n",
      " Timestamp('2022-06-21 00:00:00', freq='B')\n",
      " Timestamp('2022-06-22 00:00:00', freq='B')\n",
      " Timestamp('2022-06-23 00:00:00', freq='B')\n",
      " Timestamp('2022-06-24 00:00:00', freq='B')\n",
      " Timestamp('2022-06-27 00:00:00', freq='B')\n",
      " Timestamp('2022-06-28 00:00:00', freq='B')\n",
      " Timestamp('2022-06-29 00:00:00', freq='B')\n",
      " Timestamp('2022-06-30 00:00:00', freq='B')\n",
      " Timestamp('2022-07-01 00:00:00', freq='B')\n",
      " Timestamp('2022-07-04 00:00:00', freq='B')\n",
      " Timestamp('2022-07-05 00:00:00', freq='B')\n",
      " Timestamp('2022-07-06 00:00:00', freq='B')]\n",
      "16,1393Gurobi Optimizer version 9.5.1 build v9.5.1rc2 (mac64[x86])\n",
      "Thread count: 2 physical cores, 4 logical processors, using up to 4 threads\n",
      "Optimize a model with 22096 rows, 7920 columns and 6924200 nonzeros\n",
      "Model fingerprint: 0x7d883fd9\n",
      "Variable types: 0 continuous, 7920 integer (0 binary)\n",
      "Coefficient statistics:\n",
      "  Matrix range     [1e+00, 1e+03]\n",
      "  Objective range  [3e+03, 3e+04]\n",
      "  Bounds range     [7e+01, 7e+01]\n",
      "  RHS range        [1e+00, 2e+08]\n",
      "Found heuristic solution: objective 9436720.0000\n",
      "Presolve removed 22063 rows and 7798 columns\n",
      "Presolve time: 3.24s\n",
      "Presolved: 33 rows, 122 columns, 606 nonzeros\n",
      "Found heuristic solution: objective 1.325752e+07\n",
      "Variable types: 0 continuous, 122 integer (0 binary)\n",
      "Found heuristic solution: objective 1.335955e+07\n",
      "\n",
      "Root relaxation: objective 1.361429e+07, 56 iterations, 0.01 seconds (0.00 work units)\n",
      "\n",
      "    Nodes    |    Current Node    |     Objective Bounds      |     Work\n",
      " Expl Unexpl |  Obj  Depth IntInf | Incumbent    BestBd   Gap | It/Node Time\n",
      "\n",
      "*    0     0               0    1.361429e+07 1.3614e+07 -0.00%     -    3s\n",
      "\n",
      "Explored 1 nodes (56 simplex iterations) in 3.93 seconds (1.57 work units)\n",
      "Thread count was 4 (of 4 available processors)\n",
      "\n",
      "Solution count 4: 1.36143e+07 1.33596e+07 1.32575e+07 9.43672e+06 \n",
      "\n",
      "Optimal solution found (tolerance 1.00e-04)\n",
      "Best objective 1.361428800000e+07, best bound 1.361428800000e+07, gap 0.0000%\n",
      "Gurobi status= 2\n",
      "17\n",
      "1 Revenue:  13614288.0\n",
      "remaininginv component_number\n",
      "0         697.0\n",
      "1         526.0\n",
      "2        1964.0\n",
      "3       14074.0\n",
      "4        5242.0\n",
      "         ...   \n",
      "1389    17718.0\n",
      "1390      531.0\n",
      "1391     6586.0\n",
      "1392        0.0\n",
      "1393    21924.0\n",
      "Name: quantity, Length: 1380, dtype: float64\n",
      "Solving for period 6: 2022-07-07 00:00:00 - 2022-07-28 00:00:00\n",
      "len before addBeginInv 922\n",
      "after 2302\n",
      "Multi period ILP for period 2022-07-07 00:00:00 to 2022-07-28 00:00:00\n",
      "This entails 16 days: [Timestamp('2022-07-07 00:00:00', freq='B')\n",
      " Timestamp('2022-07-08 00:00:00', freq='B')\n",
      " Timestamp('2022-07-11 00:00:00', freq='B')\n",
      " Timestamp('2022-07-12 00:00:00', freq='B')\n",
      " Timestamp('2022-07-13 00:00:00', freq='B')\n",
      " Timestamp('2022-07-14 00:00:00', freq='B')\n",
      " Timestamp('2022-07-15 00:00:00', freq='B')\n",
      " Timestamp('2022-07-18 00:00:00', freq='B')\n",
      " Timestamp('2022-07-19 00:00:00', freq='B')\n",
      " Timestamp('2022-07-20 00:00:00', freq='B')\n",
      " Timestamp('2022-07-21 00:00:00', freq='B')\n",
      " Timestamp('2022-07-22 00:00:00', freq='B')\n",
      " Timestamp('2022-07-25 00:00:00', freq='B')\n",
      " Timestamp('2022-07-26 00:00:00', freq='B')\n",
      " Timestamp('2022-07-27 00:00:00', freq='B')\n",
      " Timestamp('2022-07-28 00:00:00', freq='B')]\n",
      "16,1393Gurobi Optimizer version 9.5.1 build v9.5.1rc2 (mac64[x86])\n",
      "Thread count: 2 physical cores, 4 logical processors, using up to 4 threads\n",
      "Optimize a model with 22096 rows, 7920 columns and 6924200 nonzeros\n",
      "Model fingerprint: 0xaca1a0e9\n",
      "Variable types: 0 continuous, 7920 integer (0 binary)\n",
      "Coefficient statistics:\n",
      "  Matrix range     [1e+00, 1e+03]\n",
      "  Objective range  [3e+03, 3e+04]\n",
      "  Bounds range     [7e+01, 7e+01]\n",
      "  RHS range        [1e+00, 2e+08]\n",
      "Found heuristic solution: objective 8465776.0000\n",
      "Presolve removed 22053 rows and 7735 columns\n",
      "Presolve time: 3.41s\n",
      "Presolved: 43 rows, 185 columns, 677 nonzeros\n",
      "Found heuristic solution: objective 1.356907e+07\n",
      "Variable types: 0 continuous, 185 integer (0 binary)\n",
      "Found heuristic solution: objective 1.371637e+07\n",
      "\n",
      "Root relaxation: objective 1.391203e+07, 53 iterations, 0.00 seconds (0.00 work units)\n",
      "\n",
      "    Nodes    |    Current Node    |     Objective Bounds      |     Work\n",
      " Expl Unexpl |  Obj  Depth IntInf | Incumbent    BestBd   Gap | It/Node Time\n",
      "\n",
      "*    0     0               0    1.391203e+07 1.3912e+07 -0.00%     -    4s\n",
      "\n",
      "Explored 1 nodes (53 simplex iterations) in 4.14 seconds (1.48 work units)\n",
      "Thread count was 4 (of 4 available processors)\n",
      "\n",
      "Solution count 4: 1.3912e+07 1.37164e+07 1.35691e+07 8.46578e+06 \n",
      "\n",
      "Optimal solution found (tolerance 1.00e-04)\n",
      "Best objective 1.391203200000e+07, best bound 1.391203200000e+07, gap 0.0000%\n",
      "Gurobi status= 2\n",
      "23\n",
      "1 Revenue:  13912032.0\n",
      "remaininginv component_number\n",
      "0         697.0\n",
      "1         526.0\n",
      "2           4.0\n",
      "3        7738.0\n",
      "4        5242.0\n",
      "         ...   \n",
      "1389    17718.0\n",
      "1390     1131.0\n",
      "1391    11586.0\n",
      "1392        0.0\n",
      "1393    23144.0\n",
      "Name: quantity, Length: 1380, dtype: float64\n",
      "Solving for period 7: 2022-07-29 00:00:00 - 2022-08-19 00:00:00\n",
      "len before addBeginInv 774\n",
      "after 2154\n",
      "Multi period ILP for period 2022-07-29 00:00:00 to 2022-08-19 00:00:00\n",
      "This entails 16 days: [Timestamp('2022-07-29 00:00:00', freq='B')\n",
      " Timestamp('2022-08-01 00:00:00', freq='B')\n",
      " Timestamp('2022-08-02 00:00:00', freq='B')\n",
      " Timestamp('2022-08-03 00:00:00', freq='B')\n",
      " Timestamp('2022-08-04 00:00:00', freq='B')\n",
      " Timestamp('2022-08-05 00:00:00', freq='B')\n",
      " Timestamp('2022-08-08 00:00:00', freq='B')\n",
      " Timestamp('2022-08-09 00:00:00', freq='B')\n",
      " Timestamp('2022-08-10 00:00:00', freq='B')\n",
      " Timestamp('2022-08-11 00:00:00', freq='B')\n",
      " Timestamp('2022-08-12 00:00:00', freq='B')\n",
      " Timestamp('2022-08-15 00:00:00', freq='B')\n",
      " Timestamp('2022-08-16 00:00:00', freq='B')\n",
      " Timestamp('2022-08-17 00:00:00', freq='B')\n",
      " Timestamp('2022-08-18 00:00:00', freq='B')\n",
      " Timestamp('2022-08-19 00:00:00', freq='B')]\n",
      "16,1393Gurobi Optimizer version 9.5.1 build v9.5.1rc2 (mac64[x86])\n",
      "Thread count: 2 physical cores, 4 logical processors, using up to 4 threads\n",
      "Optimize a model with 22096 rows, 7920 columns and 6924200 nonzeros\n",
      "Model fingerprint: 0x199da480\n",
      "Variable types: 0 continuous, 7920 integer (0 binary)\n",
      "Coefficient statistics:\n",
      "  Matrix range     [1e+00, 1e+03]\n",
      "  Objective range  [3e+03, 3e+04]\n",
      "  Bounds range     [7e+01, 7e+01]\n",
      "  RHS range        [1e+00, 2e+08]\n",
      "Found heuristic solution: objective 1.629926e+07\n",
      "Presolve removed 22003 rows and 7096 columns\n",
      "Presolve time: 3.75s\n",
      "Presolved: 93 rows, 824 columns, 6536 nonzeros\n",
      "Found heuristic solution: objective 1.821758e+07\n",
      "Variable types: 0 continuous, 824 integer (2 binary)\n",
      "Found heuristic solution: objective 1.872733e+07\n",
      "\n",
      "Root relaxation: objective 2.120434e+07, 143 iterations, 0.00 seconds (0.00 work units)\n",
      "\n",
      "    Nodes    |    Current Node    |     Objective Bounds      |     Work\n",
      " Expl Unexpl |  Obj  Depth IntInf | Incumbent    BestBd   Gap | It/Node Time\n",
      "\n",
      "*    0     0               0    2.120434e+07 2.1204e+07 -0.00%     -    4s\n",
      "\n",
      "Explored 1 nodes (143 simplex iterations) in 4.35 seconds (2.18 work units)\n",
      "Thread count was 4 (of 4 available processors)\n",
      "\n",
      "Solution count 4: 2.12043e+07 1.87273e+07 1.82176e+07 1.62993e+07 \n",
      "\n",
      "Optimal solution found (tolerance 1.00e-04)\n",
      "Best objective 2.120433600000e+07, best bound 2.120433600000e+07, gap 0.0000%\n",
      "Gurobi status= 2\n",
      "44\n",
      "1 Revenue:  21204336.0\n",
      "remaininginv component_number\n",
      "0         793.0\n",
      "1         526.0\n",
      "2         408.0\n",
      "3        7738.0\n",
      "4        5146.0\n",
      "         ...   \n",
      "1389    17526.0\n",
      "1390     1731.0\n",
      "1391    11586.0\n",
      "1392        0.0\n",
      "1393    27264.0\n",
      "Name: quantity, Length: 1380, dtype: float64\n"
     ]
    }
   ],
   "source": [
    "periodBegin = pd.Timestamp('2022-02-16')\n",
    "periodEnd = pd.Timestamp('2022-08-20') \n",
    "nPeriods = 8\n",
    "completeProductionDf = completeHorizonMultiplePeriodILP(periodBegin, periodEnd, articles = articlesBatch, purchasing = purchasingProcessed, bom = bomBatch, nPeriods=nPeriods)"
   ]
  },
  {
   "cell_type": "code",
   "execution_count": 57,
   "metadata": {
    "cell_id": "00045-7490f836-9317-41e0-afeb-644aadaef0be",
    "deepnote_cell_height": 81,
    "deepnote_cell_type": "code",
    "deepnote_to_be_reexecuted": false,
    "execution_millis": 14,
    "execution_start": 1655159113306,
    "source_hash": "86485c5e",
    "tags": []
   },
   "outputs": [],
   "source": [
    "completeProductionDf.to_csv(f'completeProduction_{periodBegin}_{periodEnd}_{nPeriods}.csv')"
   ]
  },
  {
   "cell_type": "code",
   "execution_count": 58,
   "metadata": {
    "cell_id": "00046-626ac2ea-67a7-4039-b853-7b563c22a831",
    "deepnote_cell_height": 600,
    "deepnote_cell_type": "code",
    "deepnote_table_loading": false,
    "deepnote_table_state": {
     "filters": [],
     "pageIndex": 0,
     "pageSize": 10,
     "sortBy": []
    },
    "deepnote_to_be_reexecuted": false,
    "execution_millis": 45,
    "execution_start": 1655159114619,
    "source_hash": "a4e148fa",
    "tags": []
   },
   "outputs": [
    {
     "data": {
      "text/html": [
       "<div>\n",
       "<style scoped>\n",
       "    .dataframe tbody tr th:only-of-type {\n",
       "        vertical-align: middle;\n",
       "    }\n",
       "\n",
       "    .dataframe tbody tr th {\n",
       "        vertical-align: top;\n",
       "    }\n",
       "\n",
       "    .dataframe thead th {\n",
       "        text-align: right;\n",
       "    }\n",
       "</style>\n",
       "<table border=\"1\" class=\"dataframe\">\n",
       "  <thead>\n",
       "    <tr style=\"text-align: right;\">\n",
       "      <th></th>\n",
       "      <th>day</th>\n",
       "      <th>day_nr</th>\n",
       "      <th>article_number</th>\n",
       "      <th>quantity_batch</th>\n",
       "      <th>quantity</th>\n",
       "      <th>article_revenue</th>\n",
       "      <th>revenue_total</th>\n",
       "    </tr>\n",
       "  </thead>\n",
       "  <tbody>\n",
       "    <tr>\n",
       "      <th>4216</th>\n",
       "      <td>2022-02-16</td>\n",
       "      <td>1</td>\n",
       "      <td>11</td>\n",
       "      <td>1.0</td>\n",
       "      <td>16.0</td>\n",
       "      <td>16448</td>\n",
       "      <td>16448.0</td>\n",
       "    </tr>\n",
       "    <tr>\n",
       "      <th>6562</th>\n",
       "      <td>2022-02-16</td>\n",
       "      <td>1</td>\n",
       "      <td>79</td>\n",
       "      <td>3.0</td>\n",
       "      <td>48.0</td>\n",
       "      <td>24480</td>\n",
       "      <td>73440.0</td>\n",
       "    </tr>\n",
       "    <tr>\n",
       "      <th>7620</th>\n",
       "      <td>2022-02-22</td>\n",
       "      <td>5</td>\n",
       "      <td>437</td>\n",
       "      <td>1.0</td>\n",
       "      <td>16.0</td>\n",
       "      <td>19104</td>\n",
       "      <td>19104.0</td>\n",
       "    </tr>\n",
       "    <tr>\n",
       "      <th>6788</th>\n",
       "      <td>2022-02-23</td>\n",
       "      <td>6</td>\n",
       "      <td>98</td>\n",
       "      <td>18.0</td>\n",
       "      <td>288.0</td>\n",
       "      <td>20064</td>\n",
       "      <td>361152.0</td>\n",
       "    </tr>\n",
       "    <tr>\n",
       "      <th>2216</th>\n",
       "      <td>2022-02-24</td>\n",
       "      <td>7</td>\n",
       "      <td>124</td>\n",
       "      <td>1.0</td>\n",
       "      <td>16.0</td>\n",
       "      <td>16736</td>\n",
       "      <td>16736.0</td>\n",
       "    </tr>\n",
       "    <tr>\n",
       "      <th>...</th>\n",
       "      <td>...</td>\n",
       "      <td>...</td>\n",
       "      <td>...</td>\n",
       "      <td>...</td>\n",
       "      <td>...</td>\n",
       "      <td>...</td>\n",
       "      <td>...</td>\n",
       "    </tr>\n",
       "    <tr>\n",
       "      <th>2574</th>\n",
       "      <td>2022-08-18</td>\n",
       "      <td>15</td>\n",
       "      <td>409</td>\n",
       "      <td>3.0</td>\n",
       "      <td>48.0</td>\n",
       "      <td>23344</td>\n",
       "      <td>70032.0</td>\n",
       "    </tr>\n",
       "    <tr>\n",
       "      <th>7038</th>\n",
       "      <td>2022-08-18</td>\n",
       "      <td>15</td>\n",
       "      <td>463</td>\n",
       "      <td>29.0</td>\n",
       "      <td>464.0</td>\n",
       "      <td>20288</td>\n",
       "      <td>588352.0</td>\n",
       "    </tr>\n",
       "    <tr>\n",
       "      <th>302</th>\n",
       "      <td>2022-08-18</td>\n",
       "      <td>15</td>\n",
       "      <td>475</td>\n",
       "      <td>5.0</td>\n",
       "      <td>80.0</td>\n",
       "      <td>18448</td>\n",
       "      <td>92240.0</td>\n",
       "    </tr>\n",
       "    <tr>\n",
       "      <th>6191</th>\n",
       "      <td>2022-08-19</td>\n",
       "      <td>16</td>\n",
       "      <td>79</td>\n",
       "      <td>1.0</td>\n",
       "      <td>16.0</td>\n",
       "      <td>24480</td>\n",
       "      <td>24480.0</td>\n",
       "    </tr>\n",
       "    <tr>\n",
       "      <th>7375</th>\n",
       "      <td>2022-08-19</td>\n",
       "      <td>16</td>\n",
       "      <td>173</td>\n",
       "      <td>73.0</td>\n",
       "      <td>1168.0</td>\n",
       "      <td>23728</td>\n",
       "      <td>1732144.0</td>\n",
       "    </tr>\n",
       "  </tbody>\n",
       "</table>\n",
       "<p>284 rows × 7 columns</p>\n",
       "</div>"
      ],
      "text/plain": [
       "            day  day_nr  article_number  quantity_batch  quantity  \\\n",
       "4216 2022-02-16       1              11             1.0      16.0   \n",
       "6562 2022-02-16       1              79             3.0      48.0   \n",
       "7620 2022-02-22       5             437             1.0      16.0   \n",
       "6788 2022-02-23       6              98            18.0     288.0   \n",
       "2216 2022-02-24       7             124             1.0      16.0   \n",
       "...         ...     ...             ...             ...       ...   \n",
       "2574 2022-08-18      15             409             3.0      48.0   \n",
       "7038 2022-08-18      15             463            29.0     464.0   \n",
       "302  2022-08-18      15             475             5.0      80.0   \n",
       "6191 2022-08-19      16              79             1.0      16.0   \n",
       "7375 2022-08-19      16             173            73.0    1168.0   \n",
       "\n",
       "      article_revenue  revenue_total  \n",
       "4216            16448        16448.0  \n",
       "6562            24480        73440.0  \n",
       "7620            19104        19104.0  \n",
       "6788            20064       361152.0  \n",
       "2216            16736        16736.0  \n",
       "...               ...            ...  \n",
       "2574            23344        70032.0  \n",
       "7038            20288       588352.0  \n",
       "302             18448        92240.0  \n",
       "6191            24480        24480.0  \n",
       "7375            23728      1732144.0  \n",
       "\n",
       "[284 rows x 7 columns]"
      ]
     },
     "execution_count": 58,
     "metadata": {},
     "output_type": "execute_result"
    }
   ],
   "source": [
    "completeProductionDf"
   ]
  },
  {
   "cell_type": "code",
   "execution_count": 59,
   "metadata": {
    "cell_id": "00047-7fdfff96-e681-46b2-a067-b734a18afe04",
    "deepnote_cell_height": 118.1875,
    "deepnote_cell_type": "code",
    "deepnote_output_heights": [
     21.1875
    ],
    "deepnote_to_be_reexecuted": false,
    "execution_millis": 7,
    "execution_start": 1655159133344,
    "source_hash": "f7fad974",
    "tags": []
   },
   "outputs": [
    {
     "data": {
      "text/plain": [
       "124996016.0"
      ]
     },
     "execution_count": 59,
     "metadata": {},
     "output_type": "execute_result"
    }
   ],
   "source": [
    "completeProductionDf['revenue_total'].sum()"
   ]
  },
  {
   "cell_type": "code",
   "execution_count": 60,
   "metadata": {
    "cell_id": "00048-28f15932-c46e-4e4a-87ea-d853f5712281",
    "deepnote_cell_height": 118.1875,
    "deepnote_cell_type": "code",
    "deepnote_output_heights": [
     21.1875
    ],
    "deepnote_to_be_reexecuted": false,
    "execution_millis": 5,
    "execution_start": 1655160067776,
    "source_hash": "bcc3aa5d",
    "tags": []
   },
   "outputs": [
    {
     "data": {
      "text/plain": [
       "93616.0"
      ]
     },
     "execution_count": 60,
     "metadata": {},
     "output_type": "execute_result"
    }
   ],
   "source": [
    "completeProductionDf['quantity'].sum() "
   ]
  },
  {
   "cell_type": "code",
   "execution_count": null,
   "metadata": {
    "cell_id": "00049-8135a15e-f90b-4969-9432-e39267f61579",
    "deepnote_cell_height": 84,
    "deepnote_cell_type": "code",
    "tags": []
   },
   "outputs": [],
   "source": [
    "314.638.080.0\n",
    "266.938.720.0"
   ]
  },
  {
   "cell_type": "code",
   "execution_count": 61,
   "metadata": {
    "cell_id": "00050-763422bd-b9f4-4ddc-8cc3-a52dfd3549a7",
    "deepnote_cell_height": 419.1875,
    "deepnote_cell_type": "code",
    "deepnote_output_heights": [
     21.1875,
     270
    ],
    "deepnote_to_be_reexecuted": false,
    "execution_millis": 310,
    "execution_start": 1655159321251,
    "source_hash": "a6cff97a",
    "tags": []
   },
   "outputs": [
    {
     "data": {
      "text/plain": [
       "<matplotlib.axes._subplots.AxesSubplot at 0x7fcca75705e0>"
      ]
     },
     "execution_count": 61,
     "metadata": {},
     "output_type": "execute_result"
    },
    {
     "data": {
      "image/png": "[encoded data removed]",
      "text/plain": [
       "<Figure size 432x288 with 1 Axes>"
      ]
     },
     "metadata": {},
     "output_type": "display_data"
    }
   ],
   "source": [
    "completeProductionDf.groupby(by='day').sum().reindex(productionDays, fill_value=0)[periodBegin:periodEnd]['quantity'].plot()"
   ]
  },
  {
   "cell_type": "code",
   "execution_count": 62,
   "metadata": {},
   "outputs": [
    {
     "data": {
      "text/plain": [
       "<matplotlib.axes._subplots.AxesSubplot at 0x7fcce06e28b0>"
      ]
     },
     "execution_count": 62,
     "metadata": {},
     "output_type": "execute_result"
    },
    {
     "data": {
      "image/png": "[encoded data removed]",
      "text/plain": [
       "<Figure size 432x288 with 1 Axes>"
      ]
     },
     "metadata": {},
     "output_type": "display_data"
    }
   ],
   "source": [
    "completeProductionDf.groupby(by='day').sum().reindex(productionDays, fill_value=0)[periodBegin:periodEnd]['revenue_total'].plot()"
   ]
  },
  {
   "cell_type": "code",
   "execution_count": null,
   "metadata": {
    "cell_id": "00051-3485e6ba-b3e3-4b92-8832-f2a456a9cc85",
    "deepnote_cell_height": 695,
    "deepnote_cell_type": "code",
    "deepnote_table_invalid": true,
    "deepnote_table_loading": false,
    "deepnote_table_state": {
     "filters": [],
     "pageIndex": 27,
     "pageSize": 10,
     "sortBy": [
      {
       "id": "article_number",
       "type": "asc"
      }
     ]
    },
    "deepnote_to_be_reexecuted": false,
    "execution_millis": 46,
    "execution_start": 1655059445693,
    "source_hash": "a6d201c",
    "tags": []
   },
   "outputs": [
    {
     "data": {
      "application/vnd.deepnote.dataframe.v3+json": {
       "column_count": 6,
       "columns": [
        {
         "dtype": "int64",
         "name": "article_number",
         "stats": {
          "histogram": [
           {
            "bin_end": 53.6,
            "bin_start": 11,
            "count": 220
           },
           {
            "bin_end": 96.2,
            "bin_start": 53.6,
            "count": 213
           },
           {
            "bin_end": 138.8,
            "bin_start": 96.2,
            "count": 339
           },
           {
            "bin_end": 181.4,
            "bin_start": 138.8,
            "count": 109
           },
           {
            "bin_end": 224,
            "bin_start": 181.4,
            "count": 109
           },
           {
            "bin_end": 266.6,
            "bin_start": 224,
            "count": 0
           },
           {
            "bin_end": 309.2,
            "bin_start": 266.6,
            "count": 111
           },
           {
            "bin_end": 351.8,
            "bin_start": 309.2,
            "count": 0
           },
           {
            "bin_end": 394.40000000000003,
            "bin_start": 351.8,
            "count": 0
           },
           {
            "bin_end": 437,
            "bin_start": 394.40000000000003,
            "count": 438
           }
          ],
          "max": "437",
          "min": "11",
          "nan_count": 0,
          "unique_count": 14
         }
        },
        {
         "dtype": "float64",
         "name": "quantity_x",
         "stats": {
          "histogram": [
           {
            "bin_end": 51.2,
            "bin_start": 16,
            "count": 1082
           },
           {
            "bin_end": 86.4,
            "bin_start": 51.2,
            "count": 0
           },
           {
            "bin_end": 121.60000000000001,
            "bin_start": 86.4,
            "count": 113
           },
           {
            "bin_end": 156.8,
            "bin_start": 121.60000000000001,
            "count": 0
           },
           {
            "bin_end": 192,
            "bin_start": 156.8,
            "count": 0
           },
           {
            "bin_end": 227.20000000000002,
            "bin_start": 192,
            "count": 0
           },
           {
            "bin_end": 262.40000000000003,
            "bin_start": 227.20000000000002,
            "count": 0
           },
           {
            "bin_end": 297.6,
            "bin_start": 262.40000000000003,
            "count": 122
           },
           {
            "bin_end": 332.8,
            "bin_start": 297.6,
            "count": 0
           },
           {
            "bin_end": 368,
            "bin_start": 332.8,
            "count": 222
           }
          ],
          "max": "368.0",
          "min": "16.0",
          "nan_count": 0,
          "unique_count": 7
         }
        },
        {
         "dtype": "int64",
         "name": "component_number",
         "stats": {
          "histogram": [
           {
            "bin_end": 138.9,
            "bin_start": 0,
            "count": 181
           },
           {
            "bin_end": 277.8,
            "bin_start": 138.9,
            "count": 216
           },
           {
            "bin_end": 416.70000000000005,
            "bin_start": 277.8,
            "count": 129
           },
           {
            "bin_end": 555.6,
            "bin_start": 416.70000000000005,
            "count": 166
           },
           {
            "bin_end": 694.5,
            "bin_start": 555.6,
            "count": 150
           },
           {
            "bin_end": 833.4000000000001,
            "bin_start": 694.5,
            "count": 124
           },
           {
            "bin_end": 972.3000000000001,
            "bin_start": 833.4000000000001,
            "count": 108
           },
           {
            "bin_end": 1111.2,
            "bin_start": 972.3000000000001,
            "count": 123
           },
           {
            "bin_end": 1250.1000000000001,
            "bin_start": 1111.2,
            "count": 155
           },
           {
            "bin_end": 1389,
            "bin_start": 1250.1000000000001,
            "count": 187
           }
          ],
          "max": "1389",
          "min": "0",
          "nan_count": 0,
          "unique_count": 419
         }
        },
        {
         "dtype": "float64",
         "name": "start_date",
         "stats": {
          "histogram": [
           {
            "bin_end": 20193185.3,
            "bin_start": 20190128,
            "count": 13
           },
           {
            "bin_end": 20196242.6,
            "bin_start": 20193185.3,
            "count": 0
           },
           {
            "bin_end": 20199299.9,
            "bin_start": 20196242.6,
            "count": 0
           },
           {
            "bin_end": 20202357.2,
            "bin_start": 20199299.9,
            "count": 1252
           },
           {
            "bin_end": 20205414.5,
            "bin_start": 20202357.2,
            "count": 0
           },
           {
            "bin_end": 20208471.8,
            "bin_start": 20205414.5,
            "count": 0
           },
           {
            "bin_end": 20211529.1,
            "bin_start": 20208471.8,
            "count": 222
           },
           {
            "bin_end": 20214586.4,
            "bin_start": 20211529.1,
            "count": 0
           },
           {
            "bin_end": 20217643.7,
            "bin_start": 20214586.4,
            "count": 0
           },
           {
            "bin_end": 20220701,
            "bin_start": 20217643.7,
            "count": 52
           }
          ],
          "max": "20220701.0",
          "min": "20190128.0",
          "nan_count": 0,
          "unique_count": 116
         }
        },
        {
         "dtype": "float64",
         "name": "end_date",
         "stats": {
          "histogram": [
           {
            "bin_end": 21197600.1,
            "bin_start": 20220530,
            "count": 11
           },
           {
            "bin_end": 22174670.2,
            "bin_start": 21197600.1,
            "count": 0
           },
           {
            "bin_end": 23151740.3,
            "bin_start": 22174670.2,
            "count": 0
           },
           {
            "bin_end": 24128810.4,
            "bin_start": 23151740.3,
            "count": 0
           },
           {
            "bin_end": 25105880.5,
            "bin_start": 24128810.4,
            "count": 0
           },
           {
            "bin_end": 26082950.6,
            "bin_start": 25105880.5,
            "count": 0
           },
           {
            "bin_end": 27060020.7,
            "bin_start": 26082950.6,
            "count": 0
           },
           {
            "bin_end": 28037090.8,
            "bin_start": 27060020.7,
            "count": 0
           },
           {
            "bin_end": 29014160.9,
            "bin_start": 28037090.8,
            "count": 0
           },
           {
            "bin_end": 29991231,
            "bin_start": 29014160.9,
            "count": 1528
           }
          ],
          "max": "29991231.0",
          "min": "20220530.0",
          "nan_count": 0,
          "unique_count": 4
         }
        },
        {
         "dtype": "int64",
         "name": "quantity_y",
         "stats": {
          "histogram": [
           {
            "bin_end": 4.5,
            "bin_start": 1,
            "count": 1441
           },
           {
            "bin_end": 8,
            "bin_start": 4.5,
            "count": 15
           },
           {
            "bin_end": 11.5,
            "bin_start": 8,
            "count": 13
           },
           {
            "bin_end": 15,
            "bin_start": 11.5,
            "count": 0
           },
           {
            "bin_end": 18.5,
            "bin_start": 15,
            "count": 30
           },
           {
            "bin_end": 22,
            "bin_start": 18.5,
            "count": 0
           },
           {
            "bin_end": 25.5,
            "bin_start": 22,
            "count": 0
           },
           {
            "bin_end": 29,
            "bin_start": 25.5,
            "count": 0
           },
           {
            "bin_end": 32.5,
            "bin_start": 29,
            "count": 0
           },
           {
            "bin_end": 36,
            "bin_start": 32.5,
            "count": 40
           }
          ],
          "max": "36",
          "min": "1",
          "nan_count": 0,
          "unique_count": 10
         }
        },
        {
         "dtype": "int64",
         "name": "_deepnote_index_column"
        }
       ],
       "row_count": 1539,
       "rows": [
        {
         "_deepnote_index_column": 298,
         "article_number": 66,
         "component_number": 1209,
         "end_date": 29991231,
         "quantity_x": 16,
         "quantity_y": 1,
         "start_date": 20200715
        },
        {
         "_deepnote_index_column": 310,
         "article_number": 66,
         "component_number": 28,
         "end_date": 29991231,
         "quantity_x": 16,
         "quantity_y": 2,
         "start_date": 20201001
        },
        {
         "_deepnote_index_column": 271,
         "article_number": 66,
         "component_number": 384,
         "end_date": 29991231,
         "quantity_x": 16,
         "quantity_y": 2,
         "start_date": 20200715
        },
        {
         "_deepnote_index_column": 269,
         "article_number": 66,
         "component_number": 334,
         "end_date": 29991231,
         "quantity_x": 16,
         "quantity_y": 1,
         "start_date": 20200715
        },
        {
         "_deepnote_index_column": 241,
         "article_number": 66,
         "component_number": 926,
         "end_date": 29991231,
         "quantity_x": 16,
         "quantity_y": 1,
         "start_date": 20200715
        },
        {
         "_deepnote_index_column": 240,
         "article_number": 66,
         "component_number": 472,
         "end_date": 29991231,
         "quantity_x": 16,
         "quantity_y": 1,
         "start_date": 20200715
        },
        {
         "_deepnote_index_column": 239,
         "article_number": 66,
         "component_number": 11,
         "end_date": 29991231,
         "quantity_x": 16,
         "quantity_y": 1,
         "start_date": 20200715
        },
        {
         "_deepnote_index_column": 238,
         "article_number": 66,
         "component_number": 660,
         "end_date": 29991231,
         "quantity_x": 16,
         "quantity_y": 1,
         "start_date": 20200715
        },
        {
         "_deepnote_index_column": 237,
         "article_number": 66,
         "component_number": 1389,
         "end_date": 29991231,
         "quantity_x": 16,
         "quantity_y": 6,
         "start_date": 20200715
        },
        {
         "_deepnote_index_column": 236,
         "article_number": 66,
         "component_number": 226,
         "end_date": 29991231,
         "quantity_x": 16,
         "quantity_y": 1,
         "start_date": 20200731
        }
       ]
      },
      "text/html": [
       "<div>\n",
       "<style scoped>\n",
       "    .dataframe tbody tr th:only-of-type {\n",
       "        vertical-align: middle;\n",
       "    }\n",
       "\n",
       "    .dataframe tbody tr th {\n",
       "        vertical-align: top;\n",
       "    }\n",
       "\n",
       "    .dataframe thead th {\n",
       "        text-align: right;\n",
       "    }\n",
       "</style>\n",
       "<table border=\"1\" class=\"dataframe\">\n",
       "  <thead>\n",
       "    <tr style=\"text-align: right;\">\n",
       "      <th></th>\n",
       "      <th>article_number</th>\n",
       "      <th>quantity_x</th>\n",
       "      <th>component_number</th>\n",
       "      <th>start_date</th>\n",
       "      <th>end_date</th>\n",
       "      <th>quantity_y</th>\n",
       "    </tr>\n",
       "  </thead>\n",
       "  <tbody>\n",
       "    <tr>\n",
       "      <th>0</th>\n",
       "      <td>11</td>\n",
       "      <td>16.0</td>\n",
       "      <td>1377</td>\n",
       "      <td>20211207.0</td>\n",
       "      <td>29991231.0</td>\n",
       "      <td>2</td>\n",
       "    </tr>\n",
       "    <tr>\n",
       "      <th>1</th>\n",
       "      <td>11</td>\n",
       "      <td>16.0</td>\n",
       "      <td>110</td>\n",
       "      <td>20200108.0</td>\n",
       "      <td>29991231.0</td>\n",
       "      <td>1</td>\n",
       "    </tr>\n",
       "    <tr>\n",
       "      <th>2</th>\n",
       "      <td>11</td>\n",
       "      <td>16.0</td>\n",
       "      <td>1261</td>\n",
       "      <td>20200714.0</td>\n",
       "      <td>29991231.0</td>\n",
       "      <td>1</td>\n",
       "    </tr>\n",
       "    <tr>\n",
       "      <th>3</th>\n",
       "      <td>11</td>\n",
       "      <td>16.0</td>\n",
       "      <td>696</td>\n",
       "      <td>20200108.0</td>\n",
       "      <td>29991231.0</td>\n",
       "      <td>1</td>\n",
       "    </tr>\n",
       "    <tr>\n",
       "      <th>4</th>\n",
       "      <td>11</td>\n",
       "      <td>16.0</td>\n",
       "      <td>1216</td>\n",
       "      <td>20200108.0</td>\n",
       "      <td>29991231.0</td>\n",
       "      <td>36</td>\n",
       "    </tr>\n",
       "    <tr>\n",
       "      <th>...</th>\n",
       "      <td>...</td>\n",
       "      <td>...</td>\n",
       "      <td>...</td>\n",
       "      <td>...</td>\n",
       "      <td>...</td>\n",
       "      <td>...</td>\n",
       "    </tr>\n",
       "    <tr>\n",
       "      <th>1534</th>\n",
       "      <td>437</td>\n",
       "      <td>16.0</td>\n",
       "      <td>1236</td>\n",
       "      <td>20201127.0</td>\n",
       "      <td>29991231.0</td>\n",
       "      <td>1</td>\n",
       "    </tr>\n",
       "    <tr>\n",
       "      <th>1535</th>\n",
       "      <td>437</td>\n",
       "      <td>16.0</td>\n",
       "      <td>473</td>\n",
       "      <td>20220208.0</td>\n",
       "      <td>29991231.0</td>\n",
       "      <td>1</td>\n",
       "    </tr>\n",
       "    <tr>\n",
       "      <th>1536</th>\n",
       "      <td>437</td>\n",
       "      <td>16.0</td>\n",
       "      <td>724</td>\n",
       "      <td>20201021.0</td>\n",
       "      <td>29991231.0</td>\n",
       "      <td>1</td>\n",
       "    </tr>\n",
       "    <tr>\n",
       "      <th>1537</th>\n",
       "      <td>437</td>\n",
       "      <td>16.0</td>\n",
       "      <td>415</td>\n",
       "      <td>20201021.0</td>\n",
       "      <td>29991231.0</td>\n",
       "      <td>1</td>\n",
       "    </tr>\n",
       "    <tr>\n",
       "      <th>1538</th>\n",
       "      <td>437</td>\n",
       "      <td>16.0</td>\n",
       "      <td>210</td>\n",
       "      <td>20201021.0</td>\n",
       "      <td>29991231.0</td>\n",
       "      <td>1</td>\n",
       "    </tr>\n",
       "  </tbody>\n",
       "</table>\n",
       "<p>1539 rows × 6 columns</p>\n",
       "</div>"
      ],
      "text/plain": [
       "      article_number  quantity_x  component_number  start_date    end_date  \\\n",
       "0                 11        16.0              1377  20211207.0  29991231.0   \n",
       "1                 11        16.0               110  20200108.0  29991231.0   \n",
       "2                 11        16.0              1261  20200714.0  29991231.0   \n",
       "3                 11        16.0               696  20200108.0  29991231.0   \n",
       "4                 11        16.0              1216  20200108.0  29991231.0   \n",
       "...              ...         ...               ...         ...         ...   \n",
       "1534             437        16.0              1236  20201127.0  29991231.0   \n",
       "1535             437        16.0               473  20220208.0  29991231.0   \n",
       "1536             437        16.0               724  20201021.0  29991231.0   \n",
       "1537             437        16.0               415  20201021.0  29991231.0   \n",
       "1538             437        16.0               210  20201021.0  29991231.0   \n",
       "\n",
       "      quantity_y  \n",
       "0              2  \n",
       "1              1  \n",
       "2              1  \n",
       "3              1  \n",
       "4             36  \n",
       "...          ...  \n",
       "1534           1  \n",
       "1535           1  \n",
       "1536           1  \n",
       "1537           1  \n",
       "1538           1  \n",
       "\n",
       "[1539 rows x 6 columns]"
      ]
     },
     "execution_count": 47,
     "metadata": {},
     "output_type": "execute_result"
    }
   ],
   "source": [
    "completeProductionDfGrouped = completeProductionDf.groupby(by='article_number').sum()['quantity']\n",
    "pd.merge(left=completeProductionDfGrouped, right=bom, left_on='article_number', right_on='article_number', how ='left')"
   ]
  },
  {
   "cell_type": "code",
   "execution_count": null,
   "metadata": {
    "cell_id": "00052-3b3c89b1-4e83-4a91-94ed-edfde7223eee",
    "deepnote_cell_height": 117,
    "deepnote_cell_type": "code",
    "deepnote_to_be_reexecuted": false,
    "execution_millis": 95,
    "execution_start": 1655159242328,
    "source_hash": "e28539d9",
    "tags": []
   },
   "outputs": [],
   "source": [
    "#comparing to naive\n",
    "comp_prod = pd.read_csv(\"1-year-prod.csv\")\n",
    "comp_rev = pd.read_csv(\"1-year-rev.csv\")"
   ]
  },
  {
   "cell_type": "code",
   "execution_count": null,
   "metadata": {
    "cell_id": "00053-e41b43b2-cd84-4a6f-9c68-434c33a1a839",
    "deepnote_cell_height": 118.1875,
    "deepnote_cell_type": "code",
    "deepnote_output_heights": [
     21.1875
    ],
    "deepnote_to_be_reexecuted": false,
    "execution_millis": 6,
    "execution_start": 1655159253915,
    "source_hash": "7779604e",
    "tags": []
   },
   "outputs": [
    {
     "data": {
      "text/plain": [
       "266938720.0"
      ]
     },
     "execution_count": 137,
     "metadata": {},
     "output_type": "execute_result"
    }
   ],
   "source": [
    "comp_rev['revenue'].sum()"
   ]
  },
  {
   "cell_type": "code",
   "execution_count": null,
   "metadata": {
    "cell_id": "00054-f497f33a-62a2-4bb4-985b-72c503f52a59",
    "deepnote_cell_height": 81,
    "deepnote_cell_type": "code",
    "deepnote_to_be_reexecuted": false,
    "execution_millis": 1,
    "execution_start": 1655159440473,
    "source_hash": "f7d48ae3",
    "tags": []
   },
   "outputs": [],
   "source": [
    "comp_prod['date'] = pd.to_datetime(comp_prod['date'])"
   ]
  },
  {
   "cell_type": "code",
   "execution_count": null,
   "metadata": {
    "cell_id": "00055-28e228e4-d488-42a4-ad19-db238887eca1",
    "deepnote_cell_height": 419.1875,
    "deepnote_cell_type": "code",
    "deepnote_output_heights": [
     21.1875,
     270
    ],
    "deepnote_to_be_reexecuted": false,
    "execution_millis": 356,
    "execution_start": 1655159455781,
    "source_hash": "80261cc6",
    "tags": []
   },
   "outputs": [
    {
     "data": {
      "text/plain": [
       "<AxesSubplot:xlabel='date'>"
      ]
     },
     "execution_count": 146,
     "metadata": {},
     "output_type": "execute_result"
    },
    {
     "data": {
      "image/png": "[encoded data removed]",
      "text/plain": [
       "<Figure size 432x288 with 1 Axes>"
      ]
     },
     "metadata": {
      "image/png": {
       "height": 268,
       "width": 379
      },
      "needs_background": "light"
     },
     "output_type": "display_data"
    }
   ],
   "source": [
    "comp_prod.groupby(by='date').sum().reindex(productionDays, fill_value=0)['quantity'].plot()"
   ]
  },
  {
   "cell_type": "code",
   "execution_count": null,
   "metadata": {
    "cell_id": "00056-12b164ac-7d1c-43d1-9824-8e435a840ed2",
    "deepnote_cell_height": 118.1875,
    "deepnote_cell_type": "code",
    "deepnote_output_heights": [
     21.1875
    ],
    "deepnote_to_be_reexecuted": false,
    "execution_millis": 600,
    "execution_start": 1655159771414,
    "source_hash": "df0199eb",
    "tags": []
   },
   "outputs": [
    {
     "data": {
      "text/plain": [
       "205440"
      ]
     },
     "execution_count": 147,
     "metadata": {},
     "output_type": "execute_result"
    }
   ],
   "source": [
    "comp_prod['quantity'].sum()"
   ]
  },
  {
   "cell_type": "code",
   "execution_count": null,
   "metadata": {
    "cell_id": "00057-c01ed2fc-ecf7-43e1-8747-84010864f845",
    "deepnote_cell_height": 66,
    "deepnote_cell_type": "code",
    "tags": []
   },
   "outputs": [],
   "source": []
  },
  {
   "cell_type": "markdown",
   "metadata": {
    "created_in_deepnote_cell": true,
    "deepnote_cell_type": "markdown",
    "tags": []
   },
   "source": [
    "<a style='text-decoration:none;line-height:16px;display:flex;color:#5B5B62;padding:10px;justify-content:end;' href='https://deepnote.com?utm_source=created-in-deepnote-cell&projectId=503941b5-1736-4298-9362-1ed0707166ae' target=\"_blank\">\n",
    "<img alt='Created in deepnote.com' style='display:inline;max-height:16px;margin:0px;margin-right:7.5px;' src='data:image/svg+xml;base64,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' > </img>\n",
    "Created in <span style='font-weight:600;margin-left:4px;'>Deepnote</span></a>"
   ]
  }
 ],
 "metadata": {
  "deepnote": {},
  "deepnote_execution_queue": [],
  "deepnote_notebook_id": "b5c1ff5e-0ba4-4aaf-b46b-0404441d7b2c",
  "kernelspec": {
   "display_name": "Python 3.8.3 ('base')",
   "language": "python",
   "name": "python3"
  },
  "language_info": {
   "codemirror_mode": {
    "name": "ipython",
    "version": 3
   },
   "file_extension": ".py",
   "mimetype": "text/x-python",
   "name": "python",
   "nbconvert_exporter": "python",
   "pygments_lexer": "ipython3",
   "version": "3.8.3"
  },
  "orig_nbformat": 2,
  "vscode": {
   "interpreter": {
    "hash": "2ed55c8a3b358c2f14bd6337b3a23ad56aa9692a3206675e532b0b29d35d2a5c"
   }
  }
 },
 "nbformat": 4,
 "nbformat_minor": 2
}
