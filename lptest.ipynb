{
 "cells": [
  {
   "cell_type": "code",
   "metadata": {
    "cell_id": "9cc26c2db2344e1a8a2c7b3b605bb32c",
    "tags": [],
    "deepnote_to_be_reexecuted": false,
    "source_hash": "4a0d8f35",
    "execution_start": 1655148534595,
    "execution_millis": 4,
    "deepnote_cell_type": "code",
    "deepnote_cell_height": 225
   },
   "source": "import pandas as pd\nimport numpy as np\nimport seaborn as sns\nimport matplotlib.pyplot as plt\nfrom tqdm import tqdm\nfrom pulp import *\nimport math\nfrom ortools.linear_solver import pywraplp\nsns.set()",
   "outputs": [],
   "execution_count": null
  },
  {
   "cell_type": "code",
   "metadata": {
    "tags": [],
    "cell_id": "c4afa7d2-7514-4aa5-a439-8866317ef535",
    "deepnote_to_be_reexecuted": false,
    "source_hash": "5dce8540",
    "execution_start": 1655148540454,
    "execution_millis": 113,
    "deepnote_cell_type": "code",
    "deepnote_cell_height": 657
   },
   "source": "production = pd.read_csv(\"production.csv\")\npurchasing = pd.read_csv(\"purchasing.csv\")\nbom = pd.read_csv('bom.csv')\nstock = pd.read_csv(\"stock.csv\")\ncomponents = pd.read_csv('components.csv')\narticles = pd.read_csv(\"articles.csv\")\n\npurchasing['date'] = pd.to_datetime(purchasing['date'])\nproduction['date']  = pd.to_datetime(production['date'])\nstock['date'] = pd.to_datetime(stock['date'])\n\n#preprocess stock and purchasing to work with follow ups\ndef processFollowUp(components, stock, purchasing, bom):\n    #replace new component numbers for old component numbers in stock, purchasing, bom\n    replaceDict = components[~np.isnan(components['follow_up_component'])][['component_number','follow_up_component']].astype('int').set_index('follow_up_component')['component_number'].to_dict()\n    purchasing['component_number'] = purchasing['component_number'].replace(replaceDict)\n    stock['component_number'] = stock['component_number'].replace(replaceDict)\n    bom['component_number'] = bom['component_number'].replace(replaceDict)\n    return stock, purchasing, bom\n\nstock, purchasing, bom = processFollowUp(components, stock, purchasing, bom)\n\n\nallComponents = set(bom['component_number']) | set(purchasing['component_number']) | set(stock['component_number'])\n\nproductionDays = list(production['date'].sort_values(ascending=True).unique())\npurchasingDays = list(purchasing['date'].unique())\nallDays = sorted(productionDays + purchasingDays)\nallDays = list(dict.fromkeys(allDays))\nday0 = allDays[0] \n\n#drop duplicates in bom for now, later allow for bom changes\nbom = bom.drop_duplicates(subset=['article_number','component_number'])",
   "outputs": [],
   "execution_count": null
  },
  {
   "cell_type": "code",
   "source": "print(f\"Total window for which production schedule is required: {production['date'].min()} - {production['date'].max()}\")",
   "metadata": {
    "cell_id": "e1c81d028573420ea46e4c7987bd8492",
    "tags": [],
    "deepnote_to_be_reexecuted": false,
    "source_hash": "e35e8b6a",
    "execution_start": 1655148543028,
    "execution_millis": 5,
    "deepnote_cell_type": "code",
    "deepnote_cell_height": 111.6875
   },
   "outputs": [
    {
     "name": "stdout",
     "text": "Total window for which production schedule is required: 2022-02-16 00:00:00 - 2022-08-15 00:00:00\n",
     "output_type": "stream"
    }
   ],
   "execution_count": null
  },
  {
   "cell_type": "code",
   "metadata": {
    "cell_id": "f811fb264e254a06b4190c28e512e4c8",
    "tags": [],
    "deepnote_to_be_reexecuted": false,
    "source_hash": "d9eb4ace",
    "execution_start": 1655148607624,
    "execution_millis": 1,
    "deepnote_cell_type": "code",
    "deepnote_cell_height": 171
   },
   "source": "#general cnfiguration\nclass Config():\n    DAY_PRODUCTION_CAPACITY = 1184\n    X_CAT = 'Integer'\n    BATCH_SIZE = 16\n    DAY_BATCH_PRODUCTION_CAPACITY = (DAY_PRODUCTION_CAPACITY/BATCH_SIZE)",
   "outputs": [],
   "execution_count": null
  },
  {
   "cell_type": "markdown",
   "source": "### Pre processing",
   "metadata": {
    "cell_id": "d7317a0cc3144d28939bd5b5062d5ff7",
    "tags": [],
    "deepnote_cell_type": "markdown",
    "deepnote_cell_height": 62
   }
  },
  {
   "cell_type": "markdown",
   "source": "##### Add beginning inventory as purchase on day 0, to make simpler",
   "metadata": {
    "cell_id": "04d7d37e0aaf46e4b508d226bbad6da6",
    "tags": [],
    "deepnote_cell_type": "markdown",
    "deepnote_cell_height": 54
   }
  },
  {
   "cell_type": "code",
   "metadata": {
    "cell_id": "01c7bbe18de94ee8b89bb0df9d745841",
    "tags": [],
    "deepnote_to_be_reexecuted": false,
    "source_hash": "9b0aaccd",
    "execution_start": 1655148610564,
    "execution_millis": 4,
    "deepnote_cell_type": "code",
    "deepnote_cell_height": 261
   },
   "source": "def processNegativePurchasing(stock, purchasing):\n    purchasingProcessed = purchasing.copy()\n    purchasingProcessed = pd.concat([stock, purchasing])\n    purchasingProcessed = purchasingProcessed.groupby(by=[\"component_number\", \"date\"]).sum().reset_index().sort_values(by=['date','component_number'])\n\n    for componentNumber in tqdm(purchasing['component_number'].unique()):\n        stockOverTime = purchasingProcessed.loc[purchasingProcessed['component_number'] == componentNumber, \"quantity\"].cumsum()\n        stockOverTimeMonotonicallyIncreasing = pd.Series(index = stockOverTime.index, data = np.minimum.accumulate(stockOverTime[::-1]))\n        componentProcessedPurchasing = stockOverTimeMonotonicallyIncreasing - stockOverTimeMonotonicallyIncreasing.shift(1, fill_value=0)\n        purchasingProcessed.loc[purchasingProcessed['component_number'] == componentNumber, 'quantity'] = componentProcessedPurchasing.values\n    return purchasingProcessed",
   "outputs": [],
   "execution_count": null
  },
  {
   "cell_type": "code",
   "metadata": {
    "cell_id": "8e0e7eb0275a4077a4acd0f7223b92f9",
    "tags": [],
    "deepnote_to_be_reexecuted": false,
    "source_hash": "850ed8a0",
    "execution_start": 1655148618297,
    "execution_millis": 3061,
    "deepnote_cell_type": "code",
    "deepnote_cell_height": 112
   },
   "source": "purchasingProcessed = processNegativePurchasing(stock, purchasing)",
   "outputs": [
    {
     "name": "stderr",
     "text": "100%|██████████| 1335/1335 [00:02<00:00, 448.28it/s]\n",
     "output_type": "stream"
    }
   ],
   "execution_count": null
  },
  {
   "cell_type": "code",
   "metadata": {
    "cell_id": "389b069ecefc474db845e0e1905a0d13",
    "tags": [],
    "deepnote_to_be_reexecuted": false,
    "source_hash": "c394056e",
    "execution_start": 1655148621354,
    "execution_millis": 1,
    "deepnote_cell_type": "code",
    "deepnote_cell_height": 855
   },
   "source": "class Inventory(object):\n    def __init__(self, purchasing: pd.DataFrame):\n        self.purchasing = purchasing\n\n    def purchasingForDay(self, date, componentNumber = None):\n        date = self.checkTimestamp(date)\n\n        if componentNumber is None:\n            #returns pd.Series with component_number as index & quantity\n            return self.purchasing[self.purchasing['date'] == date].set_index('component_number')['quantity'].reindex(allComponents, fill_value=0)\n        else:\n            #returns int with quantity\n            return self.purchasing[(self.purchasing['date'] == date) & (self.purchasing['component_number'] == componentNumber)]['quantity'].sum()\n\n    def purchasingForPeriod(self, beginDate, endDate, componentNumber = None, inclusive=True):\n\n        beginDate, endDate = self.checkTimestamp(beginDate), self.checkTimestamp(endDate)\n\n        if componentNumber is None:\n            #returns pd.Series with component_number as index & quantity\n            res = self.purchasing[self.purchasing['date'].between(beginDate, endDate, inclusive = inclusive)].groupby(by = 'component_number')['quantity'].sum().reindex(allComponents, fill_value=0)\n            res[res<0] = 0\n            return res \n            \n        else:\n            #returns int with quantity\n            return self.purchasing[(self.purchasing['date'].between(beginDate, endDate, inclusive = inclusive)) & (self.purchasing['component_number'] == componentNumber)]['quantity'].sum()\n\n    def checkTimestamp(self, date):\n        if type(date) is str:\n            return pd.Timestamp(date)\n        else:\n            return date\n\n    def addBeginningInv(self, begginingInv: pd.Series):\n        #add component inventory to first day (for residuals of previous period)\n        if begginingInv is not None:\n            begginingInvDf = begginingInv.reset_index()\n            begginingInvDf['date'] = self.purchasing['date'].min()\n            self.purchasing = pd.concat([self.purchasing, begginingInvDf])\n        return self\n\n\n",
   "outputs": [],
   "execution_count": null
  },
  {
   "cell_type": "code",
   "metadata": {
    "cell_id": "ad1a9f0942614dc0a65e52ef70a7c41a",
    "tags": [],
    "deepnote_to_be_reexecuted": false,
    "source_hash": "733b12f0",
    "execution_start": 1655148628906,
    "execution_millis": 10,
    "deepnote_cell_type": "code",
    "deepnote_cell_height": 81
   },
   "source": "test = Inventory(purchasingProcessed)",
   "outputs": [],
   "execution_count": null
  },
  {
   "cell_type": "code",
   "source": "remainingInventory = pd.Series(index = pd.Index(data=[0,1,2,3,4], name=\"component_number\"), data=[2,3,4,3,2], name='quantity')",
   "metadata": {
    "cell_id": "eac623cdb034438cb12b234e0e759519",
    "tags": [],
    "deepnote_to_be_reexecuted": false,
    "source_hash": "52ee59fc",
    "execution_start": 1655148628917,
    "execution_millis": 4,
    "deepnote_cell_type": "code",
    "deepnote_cell_height": 81
   },
   "outputs": [],
   "execution_count": null
  },
  {
   "cell_type": "code",
   "source": "test = test.addBeginningInv(remainingInventory)\ntest.purchasing",
   "metadata": {
    "cell_id": "6d03cebf67374a09b42886092683fac1",
    "tags": [],
    "deepnote_to_be_reexecuted": false,
    "source_hash": "16fc3048",
    "execution_start": 1655148628924,
    "execution_millis": 64,
    "deepnote_table_state": {
     "pageSize": 10,
     "pageIndex": 6288,
     "filters": [],
     "sortBy": []
    },
    "deepnote_table_loading": false,
    "deepnote_cell_type": "code",
    "deepnote_cell_height": 618,
    "deepnote_output_heights": [
     21.1875
    ]
   },
   "outputs": [
    {
     "output_type": "execute_result",
     "execution_count": 131,
     "data": {
      "application/vnd.deepnote.dataframe.v3+json": {
       "column_count": 3,
       "row_count": 62880,
       "columns": [
        {
         "name": "component_number",
         "dtype": "int64",
         "stats": {
          "unique_count": 1376,
          "nan_count": 0,
          "min": "0",
          "max": "1393",
          "histogram": [
           {
            "bin_start": 0,
            "bin_end": 139.3,
            "count": 5701
           },
           {
            "bin_start": 139.3,
            "bin_end": 278.6,
            "count": 6363
           },
           {
            "bin_start": 278.6,
            "bin_end": 417.90000000000003,
            "count": 5958
           },
           {
            "bin_start": 417.90000000000003,
            "bin_end": 557.2,
            "count": 6860
           },
           {
            "bin_start": 557.2,
            "bin_end": 696.5,
            "count": 5929
           },
           {
            "bin_start": 696.5,
            "bin_end": 835.8000000000001,
            "count": 6369
           },
           {
            "bin_start": 835.8000000000001,
            "bin_end": 975.1000000000001,
            "count": 7084
           },
           {
            "bin_start": 975.1000000000001,
            "bin_end": 1114.4,
            "count": 6124
           },
           {
            "bin_start": 1114.4,
            "bin_end": 1253.7,
            "count": 5662
           },
           {
            "bin_start": 1253.7,
            "bin_end": 1393,
            "count": 6830
           }
          ]
         }
        },
        {
         "name": "date",
         "dtype": "datetime64[ns]"
        },
        {
         "name": "quantity",
         "dtype": "int64"
        },
        {
         "name": "_deepnote_index_column",
         "dtype": "int64"
        }
       ],
       "rows": [
        {
         "component_number": 711,
         "date": "2024-12-23T00:00:00.000000",
         "quantity": 2400,
         "_deepnote_index_column": 31297
        },
        {
         "component_number": 711,
         "date": "2025-01-16T00:00:00.000000",
         "quantity": 600,
         "_deepnote_index_column": 31298
        },
        {
         "component_number": 711,
         "date": "2025-01-27T00:00:00.000000",
         "quantity": 1500,
         "_deepnote_index_column": 31299
        },
        {
         "component_number": 711,
         "date": "2025-02-10T00:00:00.000000",
         "quantity": 1400,
         "_deepnote_index_column": 31300
        },
        {
         "component_number": 711,
         "date": "2025-02-24T00:00:00.000000",
         "quantity": 800,
         "_deepnote_index_column": 31301
        },
        {
         "component_number": 0,
         "date": "2022-02-16T00:00:00.000000",
         "quantity": 2,
         "_deepnote_index_column": 0
        },
        {
         "component_number": 1,
         "date": "2022-02-16T00:00:00.000000",
         "quantity": 3,
         "_deepnote_index_column": 1
        },
        {
         "component_number": 2,
         "date": "2022-02-16T00:00:00.000000",
         "quantity": 4,
         "_deepnote_index_column": 2
        },
        {
         "component_number": 3,
         "date": "2022-02-16T00:00:00.000000",
         "quantity": 3,
         "_deepnote_index_column": 3
        },
        {
         "component_number": 4,
         "date": "2022-02-16T00:00:00.000000",
         "quantity": 2,
         "_deepnote_index_column": 4
        }
       ]
      },
      "text/plain": "     component_number       date  quantity\n0                   0 2022-02-16      2297\n34                  1 2022-02-16      1998\n126                 3 2022-02-16      4074\n132                 4 2022-02-16      4842\n138                 5 2022-02-16       406\n..                ...        ...       ...\n0                   0 2022-02-16         2\n1                   1 2022-02-16         3\n2                   2 2022-02-16         4\n3                   3 2022-02-16         3\n4                   4 2022-02-16         2\n\n[62880 rows x 3 columns]",
      "text/html": "<div>\n<style scoped>\n    .dataframe tbody tr th:only-of-type {\n        vertical-align: middle;\n    }\n\n    .dataframe tbody tr th {\n        vertical-align: top;\n    }\n\n    .dataframe thead th {\n        text-align: right;\n    }\n</style>\n<table border=\"1\" class=\"dataframe\">\n  <thead>\n    <tr style=\"text-align: right;\">\n      <th></th>\n      <th>component_number</th>\n      <th>date</th>\n      <th>quantity</th>\n    </tr>\n  </thead>\n  <tbody>\n    <tr>\n      <th>0</th>\n      <td>0</td>\n      <td>2022-02-16</td>\n      <td>2297</td>\n    </tr>\n    <tr>\n      <th>34</th>\n      <td>1</td>\n      <td>2022-02-16</td>\n      <td>1998</td>\n    </tr>\n    <tr>\n      <th>126</th>\n      <td>3</td>\n      <td>2022-02-16</td>\n      <td>4074</td>\n    </tr>\n    <tr>\n      <th>132</th>\n      <td>4</td>\n      <td>2022-02-16</td>\n      <td>4842</td>\n    </tr>\n    <tr>\n      <th>138</th>\n      <td>5</td>\n      <td>2022-02-16</td>\n      <td>406</td>\n    </tr>\n    <tr>\n      <th>...</th>\n      <td>...</td>\n      <td>...</td>\n      <td>...</td>\n    </tr>\n    <tr>\n      <th>0</th>\n      <td>0</td>\n      <td>2022-02-16</td>\n      <td>2</td>\n    </tr>\n    <tr>\n      <th>1</th>\n      <td>1</td>\n      <td>2022-02-16</td>\n      <td>3</td>\n    </tr>\n    <tr>\n      <th>2</th>\n      <td>2</td>\n      <td>2022-02-16</td>\n      <td>4</td>\n    </tr>\n    <tr>\n      <th>3</th>\n      <td>3</td>\n      <td>2022-02-16</td>\n      <td>3</td>\n    </tr>\n    <tr>\n      <th>4</th>\n      <td>4</td>\n      <td>2022-02-16</td>\n      <td>2</td>\n    </tr>\n  </tbody>\n</table>\n<p>62880 rows × 3 columns</p>\n</div>"
     },
     "metadata": {}
    }
   ],
   "execution_count": null
  },
  {
   "cell_type": "code",
   "metadata": {
    "cell_id": "ab9716b4b84f44cdb20f5d7f40403c49",
    "tags": [],
    "deepnote_to_be_reexecuted": false,
    "source_hash": "9510da0a",
    "execution_start": 1655148628990,
    "execution_millis": 39,
    "deepnote_table_state": {
     "pageSize": 50,
     "pageIndex": 23,
     "filters": [],
     "sortBy": []
    },
    "deepnote_cell_type": "code",
    "deepnote_cell_height": 827
   },
   "source": "print(test.purchasingForDay('2022-02-16', 25))\nprint()\nprint(test.purchasingForDay('2022-02-16'))\nprint()\nprint(test.purchasingForPeriod('2022-02-16', '2022-05-19', componentNumber=25, inclusive=True))\nprint()\nprint(test.purchasingForPeriod('2022-02-16', '2022-05-19', inclusive=True))\nprint(test.purchasingForPeriod('2022-02-16', '2022-02-16', inclusive=True))",
   "outputs": [
    {
     "name": "stdout",
     "text": "-16853\n\n",
     "output_type": "stream"
    },
    {
     "output_type": "error",
     "ename": "ValueError",
     "evalue": "cannot reindex from a duplicate axis",
     "traceback": [
      "\u001b[0;31m---------------------------------------------------------------------------\u001b[0m",
      "\u001b[0;31mValueError\u001b[0m                                Traceback (most recent call last)",
      "\u001b[0;32m<ipython-input-132-c915fb5c253b>\u001b[0m in \u001b[0;36m<module>\u001b[0;34m\u001b[0m\n\u001b[1;32m      2\u001b[0m \u001b[0mprint\u001b[0m\u001b[0;34m(\u001b[0m\u001b[0mtest\u001b[0m\u001b[0;34m.\u001b[0m\u001b[0mpurchasingForDay\u001b[0m\u001b[0;34m(\u001b[0m\u001b[0;34m'2022-02-16'\u001b[0m\u001b[0;34m,\u001b[0m \u001b[0;36m25\u001b[0m\u001b[0;34m)\u001b[0m\u001b[0;34m)\u001b[0m\u001b[0;34m\u001b[0m\u001b[0;34m\u001b[0m\u001b[0m\n\u001b[1;32m      3\u001b[0m \u001b[0mprint\u001b[0m\u001b[0;34m(\u001b[0m\u001b[0;34m)\u001b[0m\u001b[0;34m\u001b[0m\u001b[0;34m\u001b[0m\u001b[0m\n\u001b[0;32m----> 4\u001b[0;31m \u001b[0mprint\u001b[0m\u001b[0;34m(\u001b[0m\u001b[0mtest\u001b[0m\u001b[0;34m.\u001b[0m\u001b[0mpurchasingForDay\u001b[0m\u001b[0;34m(\u001b[0m\u001b[0;34m'2022-02-16'\u001b[0m\u001b[0;34m)\u001b[0m\u001b[0;34m)\u001b[0m\u001b[0;34m\u001b[0m\u001b[0;34m\u001b[0m\u001b[0m\n\u001b[0m\u001b[1;32m      5\u001b[0m \u001b[0mprint\u001b[0m\u001b[0;34m(\u001b[0m\u001b[0;34m)\u001b[0m\u001b[0;34m\u001b[0m\u001b[0;34m\u001b[0m\u001b[0m\n\u001b[1;32m      6\u001b[0m \u001b[0mprint\u001b[0m\u001b[0;34m(\u001b[0m\u001b[0mtest\u001b[0m\u001b[0;34m.\u001b[0m\u001b[0mpurchasingForPeriod\u001b[0m\u001b[0;34m(\u001b[0m\u001b[0;34m'2022-02-16'\u001b[0m\u001b[0;34m,\u001b[0m \u001b[0;34m'2022-05-19'\u001b[0m\u001b[0;34m,\u001b[0m \u001b[0mcomponentNumber\u001b[0m\u001b[0;34m=\u001b[0m\u001b[0;36m25\u001b[0m\u001b[0;34m,\u001b[0m \u001b[0minclusive\u001b[0m\u001b[0;34m=\u001b[0m\u001b[0;32mTrue\u001b[0m\u001b[0;34m)\u001b[0m\u001b[0;34m)\u001b[0m\u001b[0;34m\u001b[0m\u001b[0;34m\u001b[0m\u001b[0m\n",
      "\u001b[0;32m<ipython-input-128-823e8310a719>\u001b[0m in \u001b[0;36mpurchasingForDay\u001b[0;34m(self, date, componentNumber)\u001b[0m\n\u001b[1;32m      8\u001b[0m         \u001b[0;32mif\u001b[0m \u001b[0mcomponentNumber\u001b[0m \u001b[0;32mis\u001b[0m \u001b[0;32mNone\u001b[0m\u001b[0;34m:\u001b[0m\u001b[0;34m\u001b[0m\u001b[0;34m\u001b[0m\u001b[0m\n\u001b[1;32m      9\u001b[0m             \u001b[0;31m#returns pd.Series with component_number as index & quantity\u001b[0m\u001b[0;34m\u001b[0m\u001b[0;34m\u001b[0m\u001b[0;34m\u001b[0m\u001b[0m\n\u001b[0;32m---> 10\u001b[0;31m             \u001b[0;32mreturn\u001b[0m \u001b[0mself\u001b[0m\u001b[0;34m.\u001b[0m\u001b[0mpurchasing\u001b[0m\u001b[0;34m[\u001b[0m\u001b[0mself\u001b[0m\u001b[0;34m.\u001b[0m\u001b[0mpurchasing\u001b[0m\u001b[0;34m[\u001b[0m\u001b[0;34m'date'\u001b[0m\u001b[0;34m]\u001b[0m \u001b[0;34m==\u001b[0m \u001b[0mdate\u001b[0m\u001b[0;34m]\u001b[0m\u001b[0;34m.\u001b[0m\u001b[0mset_index\u001b[0m\u001b[0;34m(\u001b[0m\u001b[0;34m'component_number'\u001b[0m\u001b[0;34m)\u001b[0m\u001b[0;34m[\u001b[0m\u001b[0;34m'quantity'\u001b[0m\u001b[0;34m]\u001b[0m\u001b[0;34m.\u001b[0m\u001b[0mreindex\u001b[0m\u001b[0;34m(\u001b[0m\u001b[0mallComponents\u001b[0m\u001b[0;34m,\u001b[0m \u001b[0mfill_value\u001b[0m\u001b[0;34m=\u001b[0m\u001b[0;36m0\u001b[0m\u001b[0;34m)\u001b[0m\u001b[0;34m\u001b[0m\u001b[0;34m\u001b[0m\u001b[0m\n\u001b[0m\u001b[1;32m     11\u001b[0m         \u001b[0;32melse\u001b[0m\u001b[0;34m:\u001b[0m\u001b[0;34m\u001b[0m\u001b[0;34m\u001b[0m\u001b[0m\n\u001b[1;32m     12\u001b[0m             \u001b[0;31m#returns int with quantity\u001b[0m\u001b[0;34m\u001b[0m\u001b[0;34m\u001b[0m\u001b[0;34m\u001b[0m\u001b[0m\n",
      "\u001b[0;32m/shared-libs/python3.7/py/lib/python3.7/site-packages/pandas/core/series.py\u001b[0m in \u001b[0;36mreindex\u001b[0;34m(self, index, **kwargs)\u001b[0m\n\u001b[1;32m   4343\u001b[0m     )\n\u001b[1;32m   4344\u001b[0m     \u001b[0;32mdef\u001b[0m \u001b[0mreindex\u001b[0m\u001b[0;34m(\u001b[0m\u001b[0mself\u001b[0m\u001b[0;34m,\u001b[0m \u001b[0mindex\u001b[0m\u001b[0;34m=\u001b[0m\u001b[0;32mNone\u001b[0m\u001b[0;34m,\u001b[0m \u001b[0;34m**\u001b[0m\u001b[0mkwargs\u001b[0m\u001b[0;34m)\u001b[0m\u001b[0;34m:\u001b[0m\u001b[0;34m\u001b[0m\u001b[0;34m\u001b[0m\u001b[0m\n\u001b[0;32m-> 4345\u001b[0;31m         \u001b[0;32mreturn\u001b[0m \u001b[0msuper\u001b[0m\u001b[0;34m(\u001b[0m\u001b[0;34m)\u001b[0m\u001b[0;34m.\u001b[0m\u001b[0mreindex\u001b[0m\u001b[0;34m(\u001b[0m\u001b[0mindex\u001b[0m\u001b[0;34m=\u001b[0m\u001b[0mindex\u001b[0m\u001b[0;34m,\u001b[0m \u001b[0;34m**\u001b[0m\u001b[0mkwargs\u001b[0m\u001b[0;34m)\u001b[0m\u001b[0;34m\u001b[0m\u001b[0;34m\u001b[0m\u001b[0m\n\u001b[0m\u001b[1;32m   4346\u001b[0m \u001b[0;34m\u001b[0m\u001b[0m\n\u001b[1;32m   4347\u001b[0m     def drop(\n",
      "\u001b[0;32m/shared-libs/python3.7/py/lib/python3.7/site-packages/pandas/core/generic.py\u001b[0m in \u001b[0;36mreindex\u001b[0;34m(self, *args, **kwargs)\u001b[0m\n\u001b[1;32m   4810\u001b[0m         \u001b[0;31m# perform the reindex on the axes\u001b[0m\u001b[0;34m\u001b[0m\u001b[0;34m\u001b[0m\u001b[0;34m\u001b[0m\u001b[0m\n\u001b[1;32m   4811\u001b[0m         return self._reindex_axes(\n\u001b[0;32m-> 4812\u001b[0;31m             \u001b[0maxes\u001b[0m\u001b[0;34m,\u001b[0m \u001b[0mlevel\u001b[0m\u001b[0;34m,\u001b[0m \u001b[0mlimit\u001b[0m\u001b[0;34m,\u001b[0m \u001b[0mtolerance\u001b[0m\u001b[0;34m,\u001b[0m \u001b[0mmethod\u001b[0m\u001b[0;34m,\u001b[0m \u001b[0mfill_value\u001b[0m\u001b[0;34m,\u001b[0m \u001b[0mcopy\u001b[0m\u001b[0;34m\u001b[0m\u001b[0;34m\u001b[0m\u001b[0m\n\u001b[0m\u001b[1;32m   4813\u001b[0m         ).__finalize__(self, method=\"reindex\")\n\u001b[1;32m   4814\u001b[0m \u001b[0;34m\u001b[0m\u001b[0m\n",
      "\u001b[0;32m/shared-libs/python3.7/py/lib/python3.7/site-packages/pandas/core/generic.py\u001b[0m in \u001b[0;36m_reindex_axes\u001b[0;34m(self, axes, level, limit, tolerance, method, fill_value, copy)\u001b[0m\n\u001b[1;32m   4834\u001b[0m                 \u001b[0mfill_value\u001b[0m\u001b[0;34m=\u001b[0m\u001b[0mfill_value\u001b[0m\u001b[0;34m,\u001b[0m\u001b[0;34m\u001b[0m\u001b[0;34m\u001b[0m\u001b[0m\n\u001b[1;32m   4835\u001b[0m                 \u001b[0mcopy\u001b[0m\u001b[0;34m=\u001b[0m\u001b[0mcopy\u001b[0m\u001b[0;34m,\u001b[0m\u001b[0;34m\u001b[0m\u001b[0;34m\u001b[0m\u001b[0m\n\u001b[0;32m-> 4836\u001b[0;31m                 \u001b[0mallow_dups\u001b[0m\u001b[0;34m=\u001b[0m\u001b[0;32mFalse\u001b[0m\u001b[0;34m,\u001b[0m\u001b[0;34m\u001b[0m\u001b[0;34m\u001b[0m\u001b[0m\n\u001b[0m\u001b[1;32m   4837\u001b[0m             )\n\u001b[1;32m   4838\u001b[0m \u001b[0;34m\u001b[0m\u001b[0m\n",
      "\u001b[0;32m/shared-libs/python3.7/py/lib/python3.7/site-packages/pandas/core/generic.py\u001b[0m in \u001b[0;36m_reindex_with_indexers\u001b[0;34m(self, reindexers, fill_value, copy, allow_dups)\u001b[0m\n\u001b[1;32m   4881\u001b[0m                 \u001b[0mfill_value\u001b[0m\u001b[0;34m=\u001b[0m\u001b[0mfill_value\u001b[0m\u001b[0;34m,\u001b[0m\u001b[0;34m\u001b[0m\u001b[0;34m\u001b[0m\u001b[0m\n\u001b[1;32m   4882\u001b[0m                 \u001b[0mallow_dups\u001b[0m\u001b[0;34m=\u001b[0m\u001b[0mallow_dups\u001b[0m\u001b[0;34m,\u001b[0m\u001b[0;34m\u001b[0m\u001b[0;34m\u001b[0m\u001b[0m\n\u001b[0;32m-> 4883\u001b[0;31m                 \u001b[0mcopy\u001b[0m\u001b[0;34m=\u001b[0m\u001b[0mcopy\u001b[0m\u001b[0;34m,\u001b[0m\u001b[0;34m\u001b[0m\u001b[0;34m\u001b[0m\u001b[0m\n\u001b[0m\u001b[1;32m   4884\u001b[0m             )\n\u001b[1;32m   4885\u001b[0m             \u001b[0;31m# If we've made a copy once, no need to make another one\u001b[0m\u001b[0;34m\u001b[0m\u001b[0;34m\u001b[0m\u001b[0;34m\u001b[0m\u001b[0m\n",
      "\u001b[0;32m/shared-libs/python3.7/py/lib/python3.7/site-packages/pandas/core/internals/managers.py\u001b[0m in \u001b[0;36mreindex_indexer\u001b[0;34m(self, new_axis, indexer, axis, fill_value, allow_dups, copy, consolidate, only_slice)\u001b[0m\n\u001b[1;32m   1299\u001b[0m         \u001b[0;31m# some axes don't allow reindexing with dups\u001b[0m\u001b[0;34m\u001b[0m\u001b[0;34m\u001b[0m\u001b[0;34m\u001b[0m\u001b[0m\n\u001b[1;32m   1300\u001b[0m         \u001b[0;32mif\u001b[0m \u001b[0;32mnot\u001b[0m \u001b[0mallow_dups\u001b[0m\u001b[0;34m:\u001b[0m\u001b[0;34m\u001b[0m\u001b[0;34m\u001b[0m\u001b[0m\n\u001b[0;32m-> 1301\u001b[0;31m             \u001b[0mself\u001b[0m\u001b[0;34m.\u001b[0m\u001b[0maxes\u001b[0m\u001b[0;34m[\u001b[0m\u001b[0maxis\u001b[0m\u001b[0;34m]\u001b[0m\u001b[0;34m.\u001b[0m\u001b[0m_can_reindex\u001b[0m\u001b[0;34m(\u001b[0m\u001b[0mindexer\u001b[0m\u001b[0;34m)\u001b[0m\u001b[0;34m\u001b[0m\u001b[0;34m\u001b[0m\u001b[0m\n\u001b[0m\u001b[1;32m   1302\u001b[0m \u001b[0;34m\u001b[0m\u001b[0m\n\u001b[1;32m   1303\u001b[0m         \u001b[0;32mif\u001b[0m \u001b[0maxis\u001b[0m \u001b[0;34m>=\u001b[0m \u001b[0mself\u001b[0m\u001b[0;34m.\u001b[0m\u001b[0mndim\u001b[0m\u001b[0;34m:\u001b[0m\u001b[0;34m\u001b[0m\u001b[0;34m\u001b[0m\u001b[0m\n",
      "\u001b[0;32m/shared-libs/python3.7/py/lib/python3.7/site-packages/pandas/core/indexes/base.py\u001b[0m in \u001b[0;36m_can_reindex\u001b[0;34m(self, indexer)\u001b[0m\n\u001b[1;32m   3475\u001b[0m         \u001b[0;31m# trying to reindex on an axis with duplicates\u001b[0m\u001b[0;34m\u001b[0m\u001b[0;34m\u001b[0m\u001b[0;34m\u001b[0m\u001b[0m\n\u001b[1;32m   3476\u001b[0m         \u001b[0;32mif\u001b[0m \u001b[0;32mnot\u001b[0m \u001b[0mself\u001b[0m\u001b[0;34m.\u001b[0m\u001b[0m_index_as_unique\u001b[0m \u001b[0;32mand\u001b[0m \u001b[0mlen\u001b[0m\u001b[0;34m(\u001b[0m\u001b[0mindexer\u001b[0m\u001b[0;34m)\u001b[0m\u001b[0;34m:\u001b[0m\u001b[0;34m\u001b[0m\u001b[0;34m\u001b[0m\u001b[0m\n\u001b[0;32m-> 3477\u001b[0;31m             \u001b[0;32mraise\u001b[0m \u001b[0mValueError\u001b[0m\u001b[0;34m(\u001b[0m\u001b[0;34m\"cannot reindex from a duplicate axis\"\u001b[0m\u001b[0;34m)\u001b[0m\u001b[0;34m\u001b[0m\u001b[0;34m\u001b[0m\u001b[0m\n\u001b[0m\u001b[1;32m   3478\u001b[0m \u001b[0;34m\u001b[0m\u001b[0m\n\u001b[1;32m   3479\u001b[0m     \u001b[0;32mdef\u001b[0m \u001b[0mreindex\u001b[0m\u001b[0;34m(\u001b[0m\u001b[0mself\u001b[0m\u001b[0;34m,\u001b[0m \u001b[0mtarget\u001b[0m\u001b[0;34m,\u001b[0m \u001b[0mmethod\u001b[0m\u001b[0;34m=\u001b[0m\u001b[0;32mNone\u001b[0m\u001b[0;34m,\u001b[0m \u001b[0mlevel\u001b[0m\u001b[0;34m=\u001b[0m\u001b[0;32mNone\u001b[0m\u001b[0;34m,\u001b[0m \u001b[0mlimit\u001b[0m\u001b[0;34m=\u001b[0m\u001b[0;32mNone\u001b[0m\u001b[0;34m,\u001b[0m \u001b[0mtolerance\u001b[0m\u001b[0;34m=\u001b[0m\u001b[0;32mNone\u001b[0m\u001b[0;34m)\u001b[0m\u001b[0;34m:\u001b[0m\u001b[0;34m\u001b[0m\u001b[0;34m\u001b[0m\u001b[0m\n",
      "\u001b[0;31mValueError\u001b[0m: cannot reindex from a duplicate axis"
     ]
    }
   ],
   "execution_count": null
  },
  {
   "cell_type": "code",
   "source": "class ProductionDayManager(object):\n    def __init__(self, productionDays: list):\n        self.productionDaysArr = np.array(allProductionDays)\n\n    def daysInPeriod(self, beginDay, endDay, inclusive = True):\n        if inclusive:\n            return self.productionDaysArr[self.productionDaysArr >= beginDay & self.productionDaysArr <= endDay]\n        else:\n            return self.productionDaysArr[self.productionDaysArr >= beginDay & self.productionDaysArr < endDay]\n",
   "metadata": {
    "cell_id": "c20a9b7e44484a16b7533c0af7baada2",
    "tags": [],
    "deepnote_to_be_reexecuted": false,
    "source_hash": "f1b276a0",
    "execution_start": 1655148632820,
    "execution_millis": 1,
    "deepnote_cell_type": "code",
    "deepnote_cell_height": 243
   },
   "outputs": [],
   "execution_count": null
  },
  {
   "cell_type": "code",
   "metadata": {
    "cell_id": "09e0cc55530b48eab0c048ae5522c0f0",
    "tags": [],
    "deepnote_to_be_reexecuted": false,
    "source_hash": "f47f9abb",
    "execution_start": 1655148632829,
    "execution_millis": 17,
    "deepnote_cell_type": "code",
    "deepnote_cell_height": 315
   },
   "source": "def createPeriods(beginDate, endDate, nPeriods, inclusive=False):\n    beginDate = pd.Timestamp(beginDate)\n    endDate = pd.Timestamp(endDate)\n    length = (endDate - beginDate).days\n    lengthPerPeriod = int(length/nPeriods)\n    res = []\n    for i in range(nPeriods-1):\n        addDay = (not inclusive) and (i is not 0)\n        periodBegin =  beginDate + pd.Timedelta(days= i * lengthPerPeriod + addDay)\n        periodEnd = beginDate + pd.Timedelta(days= (i+1) * lengthPerPeriod)\n        res.append((periodBegin, periodEnd))\n    \n    res.append((res[-1][-1] + pd.Timedelta(days=int(not inclusive)), endDate))\n    return res",
   "outputs": [],
   "execution_count": null
  },
  {
   "cell_type": "code",
   "source": "def getBusDaysInPeriod(periodBegin: pd.Timestamp, periodEnd: pd.Timestamp):\n    return list(pd.bdate_range(periodBegin, periodEnd))",
   "metadata": {
    "cell_id": "2f90834cc38a4054b56ed410d96f02dd",
    "tags": [],
    "deepnote_to_be_reexecuted": false,
    "source_hash": "43dd4b70",
    "execution_start": 1655056565135,
    "execution_millis": 0,
    "owner_user_id": "6c347804-6bd9-471a-a1ba-f072c6ca8e0a",
    "deepnote_cell_type": "code",
    "deepnote_cell_height": 99
   },
   "outputs": [],
   "execution_count": null
  },
  {
   "cell_type": "code",
   "source": "def nBusDays(periodBegin: pd.Timestamp, periodEnd: pd.Timestamp):\n    periodBegin = periodBegin.to_pydatetime().date()\n    periodEnd= periodEnd.to_pydatetime().date()\n    return np.busday_count(periodBegin, periodEnd)",
   "metadata": {
    "cell_id": "e9a289c92a604e5c99a6de44fa1ef1f6",
    "tags": [],
    "deepnote_to_be_reexecuted": false,
    "source_hash": "f425a630",
    "execution_start": 1655056565843,
    "execution_millis": 5,
    "deepnote_cell_type": "code",
    "deepnote_cell_height": 135
   },
   "outputs": [],
   "execution_count": null
  },
  {
   "cell_type": "code",
   "source": "def convertToBatchSize(bom, articles, batchSize):\n    # bom quantities * batchSize\n    # articles revenue * 16\n    bomProcessed = bom.copy()\n    articlesProcessed = articles.copy()\n    bomProcessed['quantity'] = bomProcessed['quantity'] * batchSize\n    articlesProcessed['revenue'] = articlesProcessed['revenue'] * batchSize\n    return bomProcessed, articlesProcessed",
   "metadata": {
    "cell_id": "b567fbc764fe414b8291a8fcf8bb612d",
    "tags": [],
    "deepnote_to_be_reexecuted": false,
    "source_hash": "1aca49ba",
    "execution_start": 1655056565849,
    "execution_millis": 3,
    "deepnote_cell_type": "code",
    "deepnote_cell_height": 207
   },
   "outputs": [],
   "execution_count": null
  },
  {
   "cell_type": "code",
   "source": "bomBatch, articlesBatch = convertToBatchSize(bom, articles, Config.BATCH_SIZE)",
   "metadata": {
    "cell_id": "def7011be4364624bf1fe91d7d61daf7",
    "tags": [],
    "deepnote_to_be_reexecuted": false,
    "source_hash": "92910d29",
    "execution_start": 1655056567491,
    "execution_millis": 7,
    "deepnote_cell_type": "code",
    "deepnote_cell_height": 81
   },
   "outputs": [],
   "execution_count": null
  },
  {
   "cell_type": "code",
   "metadata": {
    "cell_id": "2b97ca88b8764e7f84d8d4b238011005",
    "tags": [],
    "deepnote_to_be_reexecuted": false,
    "source_hash": "5348dbf7",
    "execution_start": 1655056568138,
    "execution_millis": 1,
    "deepnote_cell_type": "code",
    "deepnote_cell_height": 153
   },
   "source": "def getComponentsRequired(componentNumber, bom):\n    required = bom[(bom['component_number'] == componentNumber)]\n    if len(required) == 0:\n        return 0\n    return required.set_index(\"article_number\")['quantity']",
   "outputs": [],
   "execution_count": null
  },
  {
   "cell_type": "markdown",
   "source": "### Simple per period planning\nEach period, take available inventories at beginning of periiod",
   "metadata": {
    "cell_id": "98e7259db61b4b75af8367b91ee7a6cf",
    "tags": [],
    "deepnote_cell_type": "markdown",
    "deepnote_cell_height": 100.390625
   }
  },
  {
   "cell_type": "code",
   "metadata": {
    "cell_id": "6635b9a3ce034e619088d79a0a6360e7",
    "tags": [],
    "deepnote_to_be_reexecuted": false,
    "source_hash": "66732daf",
    "execution_start": 1655068125273,
    "execution_millis": 5550,
    "deepnote_table_state": {
     "pageSize": 10,
     "pageIndex": 0,
     "filters": [],
     "sortBy": []
    },
    "deepnote_table_loading": false,
    "deepnote_cell_type": "code",
    "deepnote_cell_height": 1078
   },
   "source": "periods = createPeriods('2022-02-16', '2022-05-19', 2)\nprint(f\"Period length: {(periods[0][1] -periods[0][0]).days}\")\nperiod0 = (pd.Timestamp('2000-01-01'), periods[0][0]) #only beginning inventory\nlastPeriod = (periods[-1][-1], pd.Timestamp('2100-01-01'))\nperiods = [period0] + periods + [lastPeriod]\n\n\nproductionDf = pd.DataFrame(columns=['article_number','period', 'periodNumber','quantity_batch'])\nfor periodNumber, period in enumerate(periods[:-1]):\n    periodBegin = period[0]\n    periodEnd= period[1]\n    ##replace this with for loop in a bit\n    inv = Inventory(purchasingProcessed)\n    availableInv = inv.purchasingForPeriod(periodBegin, periodEnd)\n    print(periodNumber, periodBegin, periodEnd)\n    periodLength = (periodEnd - periodBegin).days\n    model = LpProblem(name='Production', sense=LpMaximize)\n\n    #variables that represent quantity of article i produced\n    #x: #batches\n    x = {i: LpVariable(name=f\"x{i}\", lowBound=0, upBound=Config.DAY_BATCH_PRODUCTION_CAPACITY*periodLength, cat=Config.X_CAT) for i in articles['article_number']}\n\n\n    #Objective\n    revenue = articlesBatch.set_index('article_number')['revenue'].to_dict()\n    model += lpSum(x[i] * revenue[i] for i in x.keys())\n\n    #Constraint component usage\n    for j in tqdm(allComponents):\n        componentsRequired = getComponentsRequired(j, bomBatch) #returns series wirh index article_number and value quantity\n        affineDict = {x[i]: quantity for i, quantity in componentsRequired.iteritems()}\n        #print(affineDict)\n        model += LpAffineExpression(affineDict) <= availableInv[j], f\"Constraint component {j}\"\n        #model += lpSum([x[i] * quantity for i, quantity in componentsRequired.iteritems()]) <= availableInv[j], f\"Constraint component {j}\"\n    #print(model)\n    status = model.solve()\n    print(f\"Period solved with status {status}\")\n    periodProduction = [{'article_number':i,'quantity_batch':_.value(),'periodNumber':periodNumber, 'period': periods[periodNumber+1]} for i,_ in x.items() if _.value() > 0]\n    print(periodProduction)\n    productionDf = productionDf.append(periodProduction, ignore_index=True)\n",
   "outputs": [
    {
     "name": "stdout",
     "text": "Period length: 46\n0 2000-01-01 00:00:00 2022-02-16 00:00:00\n100%|██████████| 1380/1380 [00:01<00:00, 894.69it/s]\nPeriod solved with status 1\n[{'article_number': 287, 'quantity_batch': 13.0, 'periodNumber': 0, 'period': (Timestamp('2022-02-16 00:00:00'), Timestamp('2022-04-03 00:00:00'))}, {'article_number': 174, 'quantity_batch': 1.0, 'periodNumber': 0, 'period': (Timestamp('2022-02-16 00:00:00'), Timestamp('2022-04-03 00:00:00'))}, {'article_number': 66, 'quantity_batch': 1.0, 'periodNumber': 0, 'period': (Timestamp('2022-02-16 00:00:00'), Timestamp('2022-04-03 00:00:00'))}, {'article_number': 124, 'quantity_batch': 1.0, 'periodNumber': 0, 'period': (Timestamp('2022-02-16 00:00:00'), Timestamp('2022-04-03 00:00:00'))}, {'article_number': 137, 'quantity_batch': 2.0, 'periodNumber': 0, 'period': (Timestamp('2022-02-16 00:00:00'), Timestamp('2022-04-03 00:00:00'))}, {'article_number': 404, 'quantity_batch': 2.0, 'periodNumber': 0, 'period': (Timestamp('2022-02-16 00:00:00'), Timestamp('2022-04-03 00:00:00'))}, {'article_number': 11, 'quantity_batch': 1.0, 'periodNumber': 0, 'period': (Timestamp('2022-02-16 00:00:00'), Timestamp('2022-04-03 00:00:00'))}, {'article_number': 44, 'quantity_batch': 1.0, 'periodNumber': 0, 'period': (Timestamp('2022-02-16 00:00:00'), Timestamp('2022-04-03 00:00:00'))}, {'article_number': 79, 'quantity_batch': 3.0, 'periodNumber': 0, 'period': (Timestamp('2022-02-16 00:00:00'), Timestamp('2022-04-03 00:00:00'))}, {'article_number': 98, 'quantity_batch': 18.0, 'periodNumber': 0, 'period': (Timestamp('2022-02-16 00:00:00'), Timestamp('2022-04-03 00:00:00'))}, {'article_number': 201, 'quantity_batch': 2.0, 'periodNumber': 0, 'period': (Timestamp('2022-02-16 00:00:00'), Timestamp('2022-04-03 00:00:00'))}, {'article_number': 437, 'quantity_batch': 1.0, 'periodNumber': 0, 'period': (Timestamp('2022-02-16 00:00:00'), Timestamp('2022-04-03 00:00:00'))}, {'article_number': 85, 'quantity_batch': 2.0, 'periodNumber': 0, 'period': (Timestamp('2022-02-16 00:00:00'), Timestamp('2022-04-03 00:00:00'))}, {'article_number': 430, 'quantity_batch': 1.0, 'periodNumber': 0, 'period': (Timestamp('2022-02-16 00:00:00'), Timestamp('2022-04-03 00:00:00'))}]\n1 2022-02-16 00:00:00 2022-04-03 00:00:00\n100%|██████████| 1380/1380 [00:01<00:00, 913.54it/s]\nPeriod solved with status 1\n[{'article_number': 176, 'quantity_batch': 10.0, 'periodNumber': 1, 'period': (Timestamp('2022-04-04 00:00:00'), Timestamp('2022-05-19 00:00:00'))}, {'article_number': 287, 'quantity_batch': 137.0, 'periodNumber': 1, 'period': (Timestamp('2022-04-04 00:00:00'), Timestamp('2022-05-19 00:00:00'))}, {'article_number': 174, 'quantity_batch': 1.0, 'periodNumber': 1, 'period': (Timestamp('2022-04-04 00:00:00'), Timestamp('2022-05-19 00:00:00'))}, {'article_number': 66, 'quantity_batch': 7.0, 'periodNumber': 1, 'period': (Timestamp('2022-04-04 00:00:00'), Timestamp('2022-05-19 00:00:00'))}, {'article_number': 53, 'quantity_batch': 100.0, 'periodNumber': 1, 'period': (Timestamp('2022-04-04 00:00:00'), Timestamp('2022-05-19 00:00:00'))}, {'article_number': 333, 'quantity_batch': 94.0, 'periodNumber': 1, 'period': (Timestamp('2022-04-04 00:00:00'), Timestamp('2022-05-19 00:00:00'))}, {'article_number': 313, 'quantity_batch': 32.0, 'periodNumber': 1, 'period': (Timestamp('2022-04-04 00:00:00'), Timestamp('2022-05-19 00:00:00'))}, {'article_number': 12, 'quantity_batch': 18.0, 'periodNumber': 1, 'period': (Timestamp('2022-04-04 00:00:00'), Timestamp('2022-05-19 00:00:00'))}, {'article_number': 124, 'quantity_batch': 1.0, 'periodNumber': 1, 'period': (Timestamp('2022-04-04 00:00:00'), Timestamp('2022-05-19 00:00:00'))}, {'article_number': 421, 'quantity_batch': 87.0, 'periodNumber': 1, 'period': (Timestamp('2022-04-04 00:00:00'), Timestamp('2022-05-19 00:00:00'))}, {'article_number': 137, 'quantity_batch': 387.0, 'periodNumber': 1, 'period': (Timestamp('2022-04-04 00:00:00'), Timestamp('2022-05-19 00:00:00'))}, {'article_number': 404, 'quantity_batch': 62.0, 'periodNumber': 1, 'period': (Timestamp('2022-04-04 00:00:00'), Timestamp('2022-05-19 00:00:00'))}, {'article_number': 391, 'quantity_batch': 47.0, 'periodNumber': 1, 'period': (Timestamp('2022-04-04 00:00:00'), Timestamp('2022-05-19 00:00:00'))}, {'article_number': 182, 'quantity_batch': 10.0, 'periodNumber': 1, 'period': (Timestamp('2022-04-04 00:00:00'), Timestamp('2022-05-19 00:00:00'))}, {'article_number': 52, 'quantity_batch': 5.0, 'periodNumber': 1, 'period': (Timestamp('2022-04-04 00:00:00'), Timestamp('2022-05-19 00:00:00'))}, {'article_number': 110, 'quantity_batch': 5.0, 'periodNumber': 1, 'period': (Timestamp('2022-04-04 00:00:00'), Timestamp('2022-05-19 00:00:00'))}, {'article_number': 305, 'quantity_batch': 6.0, 'periodNumber': 1, 'period': (Timestamp('2022-04-04 00:00:00'), Timestamp('2022-05-19 00:00:00'))}, {'article_number': 369, 'quantity_batch': 53.0, 'periodNumber': 1, 'period': (Timestamp('2022-04-04 00:00:00'), Timestamp('2022-05-19 00:00:00'))}, {'article_number': 11, 'quantity_batch': 1.0, 'periodNumber': 1, 'period': (Timestamp('2022-04-04 00:00:00'), Timestamp('2022-05-19 00:00:00'))}, {'article_number': 348, 'quantity_batch': 56.0, 'periodNumber': 1, 'period': (Timestamp('2022-04-04 00:00:00'), Timestamp('2022-05-19 00:00:00'))}, {'article_number': 208, 'quantity_batch': 2.0, 'periodNumber': 1, 'period': (Timestamp('2022-04-04 00:00:00'), Timestamp('2022-05-19 00:00:00'))}, {'article_number': 265, 'quantity_batch': 9.0, 'periodNumber': 1, 'period': (Timestamp('2022-04-04 00:00:00'), Timestamp('2022-05-19 00:00:00'))}, {'article_number': 44, 'quantity_batch': 4.0, 'periodNumber': 1, 'period': (Timestamp('2022-04-04 00:00:00'), Timestamp('2022-05-19 00:00:00'))}, {'article_number': 79, 'quantity_batch': 33.0, 'periodNumber': 1, 'period': (Timestamp('2022-04-04 00:00:00'), Timestamp('2022-05-19 00:00:00'))}, {'article_number': 67, 'quantity_batch': 8.0, 'periodNumber': 1, 'period': (Timestamp('2022-04-04 00:00:00'), Timestamp('2022-05-19 00:00:00'))}, {'article_number': 98, 'quantity_batch': 42.0, 'periodNumber': 1, 'period': (Timestamp('2022-04-04 00:00:00'), Timestamp('2022-05-19 00:00:00'))}, {'article_number': 102, 'quantity_batch': 16.0, 'periodNumber': 1, 'period': (Timestamp('2022-04-04 00:00:00'), Timestamp('2022-05-19 00:00:00'))}, {'article_number': 201, 'quantity_batch': 1.0, 'periodNumber': 1, 'period': (Timestamp('2022-04-04 00:00:00'), Timestamp('2022-05-19 00:00:00'))}, {'article_number': 311, 'quantity_batch': 110.0, 'periodNumber': 1, 'period': (Timestamp('2022-04-04 00:00:00'), Timestamp('2022-05-19 00:00:00'))}, {'article_number': 385, 'quantity_batch': 5.0, 'periodNumber': 1, 'period': (Timestamp('2022-04-04 00:00:00'), Timestamp('2022-05-19 00:00:00'))}, {'article_number': 417, 'quantity_batch': 13.0, 'periodNumber': 1, 'period': (Timestamp('2022-04-04 00:00:00'), Timestamp('2022-05-19 00:00:00'))}, {'article_number': 149, 'quantity_batch': 25.0, 'periodNumber': 1, 'period': (Timestamp('2022-04-04 00:00:00'), Timestamp('2022-05-19 00:00:00'))}, {'article_number': 437, 'quantity_batch': 130.0, 'periodNumber': 1, 'period': (Timestamp('2022-04-04 00:00:00'), Timestamp('2022-05-19 00:00:00'))}, {'article_number': 494, 'quantity_batch': 22.0, 'periodNumber': 1, 'period': (Timestamp('2022-04-04 00:00:00'), Timestamp('2022-05-19 00:00:00'))}, {'article_number': 173, 'quantity_batch': 23.0, 'periodNumber': 1, 'period': (Timestamp('2022-04-04 00:00:00'), Timestamp('2022-05-19 00:00:00'))}, {'article_number': 430, 'quantity_batch': 1.0, 'periodNumber': 1, 'period': (Timestamp('2022-04-04 00:00:00'), Timestamp('2022-05-19 00:00:00'))}]\n2 2022-04-04 00:00:00 2022-05-19 00:00:00\n100%|██████████| 1380/1380 [00:01<00:00, 883.94it/s]\nPeriod solved with status 1\n[]\n",
     "output_type": "stream"
    }
   ],
   "execution_count": null
  },
  {
   "cell_type": "code",
   "metadata": {
    "cell_id": "614d6c7c833d4159bb26639930a572b4",
    "tags": [],
    "deepnote_to_be_reexecuted": false,
    "source_hash": "12b32e7a",
    "execution_start": 1655068136709,
    "execution_millis": 13,
    "deepnote_table_state": {
     "pageSize": 10,
     "pageIndex": 3,
     "filters": [],
     "sortBy": []
    },
    "deepnote_table_loading": false,
    "deepnote_table_invalid": false,
    "deepnote_cell_type": "code",
    "deepnote_cell_height": 600
   },
   "source": "productionDf",
   "outputs": [
    {
     "output_type": "execute_result",
     "execution_count": 105,
     "data": {
      "application/vnd.deepnote.dataframe.v3+json": {
       "column_count": 4,
       "row_count": 50,
       "columns": [
        {
         "name": "article_number",
         "dtype": "object",
         "stats": {
          "unique_count": 37,
          "nan_count": 0,
          "categories": [
           {
            "name": "287",
            "count": 2
           },
           {
            "name": "174",
            "count": 2
           },
           {
            "name": "35 others",
            "count": 46
           }
          ]
         }
        },
        {
         "name": "period",
         "dtype": "object",
         "stats": {
          "unique_count": 2,
          "nan_count": 0,
          "categories": [
           {
            "name": "(Timestamp('2022-04-04 00:00:00'), Timestamp('2022-05-19 00:00:00'))",
            "count": 36
           },
           {
            "name": "(Timestamp('2022-02-16 00:00:00'), Timestamp('2022-04-03 00:00:00'))",
            "count": 14
           }
          ]
         }
        },
        {
         "name": "periodNumber",
         "dtype": "object",
         "stats": {
          "unique_count": 2,
          "nan_count": 0,
          "categories": [
           {
            "name": "1",
            "count": 36
           },
           {
            "name": "0",
            "count": 14
           }
          ]
         }
        },
        {
         "name": "quantity_batch",
         "dtype": "float64",
         "stats": {
          "unique_count": 30,
          "nan_count": 0,
          "min": "1.0",
          "max": "387.0",
          "histogram": [
           {
            "bin_start": 1,
            "bin_end": 39.6,
            "count": 38
           },
           {
            "bin_start": 39.6,
            "bin_end": 78.2,
            "count": 5
           },
           {
            "bin_start": 78.2,
            "bin_end": 116.80000000000001,
            "count": 4
           },
           {
            "bin_start": 116.80000000000001,
            "bin_end": 155.4,
            "count": 2
           },
           {
            "bin_start": 155.4,
            "bin_end": 194,
            "count": 0
           },
           {
            "bin_start": 194,
            "bin_end": 232.60000000000002,
            "count": 0
           },
           {
            "bin_start": 232.60000000000002,
            "bin_end": 271.2,
            "count": 0
           },
           {
            "bin_start": 271.2,
            "bin_end": 309.8,
            "count": 0
           },
           {
            "bin_start": 309.8,
            "bin_end": 348.40000000000003,
            "count": 0
           },
           {
            "bin_start": 348.40000000000003,
            "bin_end": 387,
            "count": 1
           }
          ]
         }
        },
        {
         "name": "_deepnote_index_column",
         "dtype": "int64"
        }
       ],
       "rows": [
        {
         "article_number": "305",
         "period": "(Timestamp('2022-04-04 00:00:00'), Timestamp('2022-05-19 00:00:00'))",
         "periodNumber": "1",
         "quantity_batch": 6,
         "_deepnote_index_column": 30
        },
        {
         "article_number": "369",
         "period": "(Timestamp('2022-04-04 00:00:00'), Timestamp('2022-05-19 00:00:00'))",
         "periodNumber": "1",
         "quantity_batch": 53,
         "_deepnote_index_column": 31
        },
        {
         "article_number": "11",
         "period": "(Timestamp('2022-04-04 00:00:00'), Timestamp('2022-05-19 00:00:00'))",
         "periodNumber": "1",
         "quantity_batch": 1,
         "_deepnote_index_column": 32
        },
        {
         "article_number": "348",
         "period": "(Timestamp('2022-04-04 00:00:00'), Timestamp('2022-05-19 00:00:00'))",
         "periodNumber": "1",
         "quantity_batch": 56,
         "_deepnote_index_column": 33
        },
        {
         "article_number": "208",
         "period": "(Timestamp('2022-04-04 00:00:00'), Timestamp('2022-05-19 00:00:00'))",
         "periodNumber": "1",
         "quantity_batch": 2,
         "_deepnote_index_column": 34
        },
        {
         "article_number": "265",
         "period": "(Timestamp('2022-04-04 00:00:00'), Timestamp('2022-05-19 00:00:00'))",
         "periodNumber": "1",
         "quantity_batch": 9,
         "_deepnote_index_column": 35
        },
        {
         "article_number": "44",
         "period": "(Timestamp('2022-04-04 00:00:00'), Timestamp('2022-05-19 00:00:00'))",
         "periodNumber": "1",
         "quantity_batch": 4,
         "_deepnote_index_column": 36
        },
        {
         "article_number": "79",
         "period": "(Timestamp('2022-04-04 00:00:00'), Timestamp('2022-05-19 00:00:00'))",
         "periodNumber": "1",
         "quantity_batch": 33,
         "_deepnote_index_column": 37
        },
        {
         "article_number": "67",
         "period": "(Timestamp('2022-04-04 00:00:00'), Timestamp('2022-05-19 00:00:00'))",
         "periodNumber": "1",
         "quantity_batch": 8,
         "_deepnote_index_column": 38
        },
        {
         "article_number": "98",
         "period": "(Timestamp('2022-04-04 00:00:00'), Timestamp('2022-05-19 00:00:00'))",
         "periodNumber": "1",
         "quantity_batch": 42,
         "_deepnote_index_column": 39
        }
       ]
      },
      "text/plain": "   article_number                                      period periodNumber  \\\n0             287  (2022-02-16 00:00:00, 2022-04-03 00:00:00)            0   \n1             174  (2022-02-16 00:00:00, 2022-04-03 00:00:00)            0   \n2              66  (2022-02-16 00:00:00, 2022-04-03 00:00:00)            0   \n3             124  (2022-02-16 00:00:00, 2022-04-03 00:00:00)            0   \n4             137  (2022-02-16 00:00:00, 2022-04-03 00:00:00)            0   \n5             404  (2022-02-16 00:00:00, 2022-04-03 00:00:00)            0   \n6              11  (2022-02-16 00:00:00, 2022-04-03 00:00:00)            0   \n7              44  (2022-02-16 00:00:00, 2022-04-03 00:00:00)            0   \n8              79  (2022-02-16 00:00:00, 2022-04-03 00:00:00)            0   \n9              98  (2022-02-16 00:00:00, 2022-04-03 00:00:00)            0   \n10            201  (2022-02-16 00:00:00, 2022-04-03 00:00:00)            0   \n11            437  (2022-02-16 00:00:00, 2022-04-03 00:00:00)            0   \n12             85  (2022-02-16 00:00:00, 2022-04-03 00:00:00)            0   \n13            430  (2022-02-16 00:00:00, 2022-04-03 00:00:00)            0   \n14            176  (2022-04-04 00:00:00, 2022-05-19 00:00:00)            1   \n15            287  (2022-04-04 00:00:00, 2022-05-19 00:00:00)            1   \n16            174  (2022-04-04 00:00:00, 2022-05-19 00:00:00)            1   \n17             66  (2022-04-04 00:00:00, 2022-05-19 00:00:00)            1   \n18             53  (2022-04-04 00:00:00, 2022-05-19 00:00:00)            1   \n19            333  (2022-04-04 00:00:00, 2022-05-19 00:00:00)            1   \n20            313  (2022-04-04 00:00:00, 2022-05-19 00:00:00)            1   \n21             12  (2022-04-04 00:00:00, 2022-05-19 00:00:00)            1   \n22            124  (2022-04-04 00:00:00, 2022-05-19 00:00:00)            1   \n23            421  (2022-04-04 00:00:00, 2022-05-19 00:00:00)            1   \n24            137  (2022-04-04 00:00:00, 2022-05-19 00:00:00)            1   \n25            404  (2022-04-04 00:00:00, 2022-05-19 00:00:00)            1   \n26            391  (2022-04-04 00:00:00, 2022-05-19 00:00:00)            1   \n27            182  (2022-04-04 00:00:00, 2022-05-19 00:00:00)            1   \n28             52  (2022-04-04 00:00:00, 2022-05-19 00:00:00)            1   \n29            110  (2022-04-04 00:00:00, 2022-05-19 00:00:00)            1   \n30            305  (2022-04-04 00:00:00, 2022-05-19 00:00:00)            1   \n31            369  (2022-04-04 00:00:00, 2022-05-19 00:00:00)            1   \n32             11  (2022-04-04 00:00:00, 2022-05-19 00:00:00)            1   \n33            348  (2022-04-04 00:00:00, 2022-05-19 00:00:00)            1   \n34            208  (2022-04-04 00:00:00, 2022-05-19 00:00:00)            1   \n35            265  (2022-04-04 00:00:00, 2022-05-19 00:00:00)            1   \n36             44  (2022-04-04 00:00:00, 2022-05-19 00:00:00)            1   \n37             79  (2022-04-04 00:00:00, 2022-05-19 00:00:00)            1   \n38             67  (2022-04-04 00:00:00, 2022-05-19 00:00:00)            1   \n39             98  (2022-04-04 00:00:00, 2022-05-19 00:00:00)            1   \n40            102  (2022-04-04 00:00:00, 2022-05-19 00:00:00)            1   \n41            201  (2022-04-04 00:00:00, 2022-05-19 00:00:00)            1   \n42            311  (2022-04-04 00:00:00, 2022-05-19 00:00:00)            1   \n43            385  (2022-04-04 00:00:00, 2022-05-19 00:00:00)            1   \n44            417  (2022-04-04 00:00:00, 2022-05-19 00:00:00)            1   \n45            149  (2022-04-04 00:00:00, 2022-05-19 00:00:00)            1   \n46            437  (2022-04-04 00:00:00, 2022-05-19 00:00:00)            1   \n47            494  (2022-04-04 00:00:00, 2022-05-19 00:00:00)            1   \n48            173  (2022-04-04 00:00:00, 2022-05-19 00:00:00)            1   \n49            430  (2022-04-04 00:00:00, 2022-05-19 00:00:00)            1   \n\n    quantity_batch  \n0             13.0  \n1              1.0  \n2              1.0  \n3              1.0  \n4              2.0  \n5              2.0  \n6              1.0  \n7              1.0  \n8              3.0  \n9             18.0  \n10             2.0  \n11             1.0  \n12             2.0  \n13             1.0  \n14            10.0  \n15           137.0  \n16             1.0  \n17             7.0  \n18           100.0  \n19            94.0  \n20            32.0  \n21            18.0  \n22             1.0  \n23            87.0  \n24           387.0  \n25            62.0  \n26            47.0  \n27            10.0  \n28             5.0  \n29             5.0  \n30             6.0  \n31            53.0  \n32             1.0  \n33            56.0  \n34             2.0  \n35             9.0  \n36             4.0  \n37            33.0  \n38             8.0  \n39            42.0  \n40            16.0  \n41             1.0  \n42           110.0  \n43             5.0  \n44            13.0  \n45            25.0  \n46           130.0  \n47            22.0  \n48            23.0  \n49             1.0  ",
      "text/html": "<div>\n<style scoped>\n    .dataframe tbody tr th:only-of-type {\n        vertical-align: middle;\n    }\n\n    .dataframe tbody tr th {\n        vertical-align: top;\n    }\n\n    .dataframe thead th {\n        text-align: right;\n    }\n</style>\n<table border=\"1\" class=\"dataframe\">\n  <thead>\n    <tr style=\"text-align: right;\">\n      <th></th>\n      <th>article_number</th>\n      <th>period</th>\n      <th>periodNumber</th>\n      <th>quantity_batch</th>\n    </tr>\n  </thead>\n  <tbody>\n    <tr>\n      <th>0</th>\n      <td>287</td>\n      <td>(2022-02-16 00:00:00, 2022-04-03 00:00:00)</td>\n      <td>0</td>\n      <td>13.0</td>\n    </tr>\n    <tr>\n      <th>1</th>\n      <td>174</td>\n      <td>(2022-02-16 00:00:00, 2022-04-03 00:00:00)</td>\n      <td>0</td>\n      <td>1.0</td>\n    </tr>\n    <tr>\n      <th>2</th>\n      <td>66</td>\n      <td>(2022-02-16 00:00:00, 2022-04-03 00:00:00)</td>\n      <td>0</td>\n      <td>1.0</td>\n    </tr>\n    <tr>\n      <th>3</th>\n      <td>124</td>\n      <td>(2022-02-16 00:00:00, 2022-04-03 00:00:00)</td>\n      <td>0</td>\n      <td>1.0</td>\n    </tr>\n    <tr>\n      <th>4</th>\n      <td>137</td>\n      <td>(2022-02-16 00:00:00, 2022-04-03 00:00:00)</td>\n      <td>0</td>\n      <td>2.0</td>\n    </tr>\n    <tr>\n      <th>5</th>\n      <td>404</td>\n      <td>(2022-02-16 00:00:00, 2022-04-03 00:00:00)</td>\n      <td>0</td>\n      <td>2.0</td>\n    </tr>\n    <tr>\n      <th>6</th>\n      <td>11</td>\n      <td>(2022-02-16 00:00:00, 2022-04-03 00:00:00)</td>\n      <td>0</td>\n      <td>1.0</td>\n    </tr>\n    <tr>\n      <th>7</th>\n      <td>44</td>\n      <td>(2022-02-16 00:00:00, 2022-04-03 00:00:00)</td>\n      <td>0</td>\n      <td>1.0</td>\n    </tr>\n    <tr>\n      <th>8</th>\n      <td>79</td>\n      <td>(2022-02-16 00:00:00, 2022-04-03 00:00:00)</td>\n      <td>0</td>\n      <td>3.0</td>\n    </tr>\n    <tr>\n      <th>9</th>\n      <td>98</td>\n      <td>(2022-02-16 00:00:00, 2022-04-03 00:00:00)</td>\n      <td>0</td>\n      <td>18.0</td>\n    </tr>\n    <tr>\n      <th>10</th>\n      <td>201</td>\n      <td>(2022-02-16 00:00:00, 2022-04-03 00:00:00)</td>\n      <td>0</td>\n      <td>2.0</td>\n    </tr>\n    <tr>\n      <th>11</th>\n      <td>437</td>\n      <td>(2022-02-16 00:00:00, 2022-04-03 00:00:00)</td>\n      <td>0</td>\n      <td>1.0</td>\n    </tr>\n    <tr>\n      <th>12</th>\n      <td>85</td>\n      <td>(2022-02-16 00:00:00, 2022-04-03 00:00:00)</td>\n      <td>0</td>\n      <td>2.0</td>\n    </tr>\n    <tr>\n      <th>13</th>\n      <td>430</td>\n      <td>(2022-02-16 00:00:00, 2022-04-03 00:00:00)</td>\n      <td>0</td>\n      <td>1.0</td>\n    </tr>\n    <tr>\n      <th>14</th>\n      <td>176</td>\n      <td>(2022-04-04 00:00:00, 2022-05-19 00:00:00)</td>\n      <td>1</td>\n      <td>10.0</td>\n    </tr>\n    <tr>\n      <th>15</th>\n      <td>287</td>\n      <td>(2022-04-04 00:00:00, 2022-05-19 00:00:00)</td>\n      <td>1</td>\n      <td>137.0</td>\n    </tr>\n    <tr>\n      <th>16</th>\n      <td>174</td>\n      <td>(2022-04-04 00:00:00, 2022-05-19 00:00:00)</td>\n      <td>1</td>\n      <td>1.0</td>\n    </tr>\n    <tr>\n      <th>17</th>\n      <td>66</td>\n      <td>(2022-04-04 00:00:00, 2022-05-19 00:00:00)</td>\n      <td>1</td>\n      <td>7.0</td>\n    </tr>\n    <tr>\n      <th>18</th>\n      <td>53</td>\n      <td>(2022-04-04 00:00:00, 2022-05-19 00:00:00)</td>\n      <td>1</td>\n      <td>100.0</td>\n    </tr>\n    <tr>\n      <th>19</th>\n      <td>333</td>\n      <td>(2022-04-04 00:00:00, 2022-05-19 00:00:00)</td>\n      <td>1</td>\n      <td>94.0</td>\n    </tr>\n    <tr>\n      <th>20</th>\n      <td>313</td>\n      <td>(2022-04-04 00:00:00, 2022-05-19 00:00:00)</td>\n      <td>1</td>\n      <td>32.0</td>\n    </tr>\n    <tr>\n      <th>21</th>\n      <td>12</td>\n      <td>(2022-04-04 00:00:00, 2022-05-19 00:00:00)</td>\n      <td>1</td>\n      <td>18.0</td>\n    </tr>\n    <tr>\n      <th>22</th>\n      <td>124</td>\n      <td>(2022-04-04 00:00:00, 2022-05-19 00:00:00)</td>\n      <td>1</td>\n      <td>1.0</td>\n    </tr>\n    <tr>\n      <th>23</th>\n      <td>421</td>\n      <td>(2022-04-04 00:00:00, 2022-05-19 00:00:00)</td>\n      <td>1</td>\n      <td>87.0</td>\n    </tr>\n    <tr>\n      <th>24</th>\n      <td>137</td>\n      <td>(2022-04-04 00:00:00, 2022-05-19 00:00:00)</td>\n      <td>1</td>\n      <td>387.0</td>\n    </tr>\n    <tr>\n      <th>25</th>\n      <td>404</td>\n      <td>(2022-04-04 00:00:00, 2022-05-19 00:00:00)</td>\n      <td>1</td>\n      <td>62.0</td>\n    </tr>\n    <tr>\n      <th>26</th>\n      <td>391</td>\n      <td>(2022-04-04 00:00:00, 2022-05-19 00:00:00)</td>\n      <td>1</td>\n      <td>47.0</td>\n    </tr>\n    <tr>\n      <th>27</th>\n      <td>182</td>\n      <td>(2022-04-04 00:00:00, 2022-05-19 00:00:00)</td>\n      <td>1</td>\n      <td>10.0</td>\n    </tr>\n    <tr>\n      <th>28</th>\n      <td>52</td>\n      <td>(2022-04-04 00:00:00, 2022-05-19 00:00:00)</td>\n      <td>1</td>\n      <td>5.0</td>\n    </tr>\n    <tr>\n      <th>29</th>\n      <td>110</td>\n      <td>(2022-04-04 00:00:00, 2022-05-19 00:00:00)</td>\n      <td>1</td>\n      <td>5.0</td>\n    </tr>\n    <tr>\n      <th>30</th>\n      <td>305</td>\n      <td>(2022-04-04 00:00:00, 2022-05-19 00:00:00)</td>\n      <td>1</td>\n      <td>6.0</td>\n    </tr>\n    <tr>\n      <th>31</th>\n      <td>369</td>\n      <td>(2022-04-04 00:00:00, 2022-05-19 00:00:00)</td>\n      <td>1</td>\n      <td>53.0</td>\n    </tr>\n    <tr>\n      <th>32</th>\n      <td>11</td>\n      <td>(2022-04-04 00:00:00, 2022-05-19 00:00:00)</td>\n      <td>1</td>\n      <td>1.0</td>\n    </tr>\n    <tr>\n      <th>33</th>\n      <td>348</td>\n      <td>(2022-04-04 00:00:00, 2022-05-19 00:00:00)</td>\n      <td>1</td>\n      <td>56.0</td>\n    </tr>\n    <tr>\n      <th>34</th>\n      <td>208</td>\n      <td>(2022-04-04 00:00:00, 2022-05-19 00:00:00)</td>\n      <td>1</td>\n      <td>2.0</td>\n    </tr>\n    <tr>\n      <th>35</th>\n      <td>265</td>\n      <td>(2022-04-04 00:00:00, 2022-05-19 00:00:00)</td>\n      <td>1</td>\n      <td>9.0</td>\n    </tr>\n    <tr>\n      <th>36</th>\n      <td>44</td>\n      <td>(2022-04-04 00:00:00, 2022-05-19 00:00:00)</td>\n      <td>1</td>\n      <td>4.0</td>\n    </tr>\n    <tr>\n      <th>37</th>\n      <td>79</td>\n      <td>(2022-04-04 00:00:00, 2022-05-19 00:00:00)</td>\n      <td>1</td>\n      <td>33.0</td>\n    </tr>\n    <tr>\n      <th>38</th>\n      <td>67</td>\n      <td>(2022-04-04 00:00:00, 2022-05-19 00:00:00)</td>\n      <td>1</td>\n      <td>8.0</td>\n    </tr>\n    <tr>\n      <th>39</th>\n      <td>98</td>\n      <td>(2022-04-04 00:00:00, 2022-05-19 00:00:00)</td>\n      <td>1</td>\n      <td>42.0</td>\n    </tr>\n    <tr>\n      <th>40</th>\n      <td>102</td>\n      <td>(2022-04-04 00:00:00, 2022-05-19 00:00:00)</td>\n      <td>1</td>\n      <td>16.0</td>\n    </tr>\n    <tr>\n      <th>41</th>\n      <td>201</td>\n      <td>(2022-04-04 00:00:00, 2022-05-19 00:00:00)</td>\n      <td>1</td>\n      <td>1.0</td>\n    </tr>\n    <tr>\n      <th>42</th>\n      <td>311</td>\n      <td>(2022-04-04 00:00:00, 2022-05-19 00:00:00)</td>\n      <td>1</td>\n      <td>110.0</td>\n    </tr>\n    <tr>\n      <th>43</th>\n      <td>385</td>\n      <td>(2022-04-04 00:00:00, 2022-05-19 00:00:00)</td>\n      <td>1</td>\n      <td>5.0</td>\n    </tr>\n    <tr>\n      <th>44</th>\n      <td>417</td>\n      <td>(2022-04-04 00:00:00, 2022-05-19 00:00:00)</td>\n      <td>1</td>\n      <td>13.0</td>\n    </tr>\n    <tr>\n      <th>45</th>\n      <td>149</td>\n      <td>(2022-04-04 00:00:00, 2022-05-19 00:00:00)</td>\n      <td>1</td>\n      <td>25.0</td>\n    </tr>\n    <tr>\n      <th>46</th>\n      <td>437</td>\n      <td>(2022-04-04 00:00:00, 2022-05-19 00:00:00)</td>\n      <td>1</td>\n      <td>130.0</td>\n    </tr>\n    <tr>\n      <th>47</th>\n      <td>494</td>\n      <td>(2022-04-04 00:00:00, 2022-05-19 00:00:00)</td>\n      <td>1</td>\n      <td>22.0</td>\n    </tr>\n    <tr>\n      <th>48</th>\n      <td>173</td>\n      <td>(2022-04-04 00:00:00, 2022-05-19 00:00:00)</td>\n      <td>1</td>\n      <td>23.0</td>\n    </tr>\n    <tr>\n      <th>49</th>\n      <td>430</td>\n      <td>(2022-04-04 00:00:00, 2022-05-19 00:00:00)</td>\n      <td>1</td>\n      <td>1.0</td>\n    </tr>\n  </tbody>\n</table>\n</div>"
     },
     "metadata": {}
    }
   ],
   "execution_count": null
  },
  {
   "cell_type": "code",
   "source": "print(productionDf['quantity_batch'].sum() * Config.BATCH_SIZE)",
   "metadata": {
    "cell_id": "9d1530089d08452bac7ed09b44e6ee78",
    "tags": [],
    "deepnote_to_be_reexecuted": false,
    "source_hash": "f9470b2f",
    "execution_start": 1654958178730,
    "execution_millis": 3,
    "deepnote_cell_type": "code",
    "deepnote_cell_height": 111.6875
   },
   "outputs": [
    {
     "name": "stdout",
     "text": "25792.0\n",
     "output_type": "stream"
    }
   ],
   "execution_count": null
  },
  {
   "cell_type": "code",
   "metadata": {
    "cell_id": "637e1302031b4ff9a4aca86adb029898",
    "tags": [],
    "deepnote_to_be_reexecuted": false,
    "source_hash": "6d6b3e7c",
    "execution_start": 1654958178753,
    "execution_millis": 5,
    "deepnote_cell_type": "code",
    "deepnote_cell_height": 189.890625
   },
   "source": "print(model.objective.value())\nprint({i:_.value() for i,_ in x.items()})\nproductionDict = {i:_.value() for i,_ in x.items()}\nproductionDf = pd.DataFrame( productionDict.values(), index = productionDict.keys(), columns=['quantity'])",
   "outputs": [
    {
     "name": "stdout",
     "text": "0.0\n{472: 0.0, 434: 0.0, 240: 0.0, 452: 0.0, 107: 0.0, 335: 0.0, 484: 0.0, 210: 0.0, 292: 0.0, 63: 0.0, 380: 0.0, 108: 0.0, 258: 0.0, 459: 0.0, 489: 0.0, 104: 0.0, 91: 0.0, 158: 0.0, 475: 0.0, 242: 0.0, 378: 0.0, 203: 0.0, 206: 0.0, 448: 0.0, 170: 0.0, 492: 0.0, 176: 0.0, 337: 0.0, 287: 0.0, 286: 0.0, 331: 0.0, 95: 0.0, 491: 0.0, 327: 0.0, 131: 0.0, 4: 0.0, 174: 0.0, 288: 0.0, 171: 0.0, 397: 0.0, 88: 0.0, 273: 0.0, 432: 0.0, 222: 0.0, 127: 0.0, 46: 0.0, 247: 0.0, 343: 0.0, 29: 0.0, 267: 0.0, 447: 0.0, 101: 0.0, 329: 0.0, 355: 0.0, 237: 0.0, 393: 0.0, 297: 0.0, 135: 0.0, 457: 0.0, 401: 0.0, 467: 0.0, 213: 0.0, 66: 0.0, 103: 0.0, 81: 0.0, 290: 0.0, 395: 0.0, 334: 0.0, 53: 0.0, 388: 0.0, 309: 0.0, 24: 0.0, 148: 0.0, 120: 0.0, 333: 0.0, 96: 0.0, 25: 0.0, 493: 0.0, 450: 0.0, 438: 0.0, 436: 0.0, 261: 0.0, 179: 0.0, 190: 0.0, 302: 0.0, 462: 0.0, 57: 0.0, 354: 0.0, 427: 0.0, 365: 0.0, 8: 0.0, 458: 0.0, 23: 0.0, 7: 0.0, 304: 0.0, 474: 0.0, 367: 0.0, 211: 0.0, 192: 0.0, 169: 0.0, 426: 0.0, 181: 0.0, 209: 0.0, 349: 0.0, 260: 0.0, 301: 0.0, 256: 0.0, 389: 0.0, 13: 0.0, 326: 0.0, 117: 0.0, 400: 0.0, 313: 0.0, 482: 0.0, 147: 0.0, 115: 0.0, 277: 0.0, 254: 0.0, 232: 0.0, 58: 0.0, 62: 0.0, 12: 0.0, 20: 0.0, 446: 0.0, 481: 0.0, 89: 0.0, 314: 0.0, 133: 0.0, 83: 0.0, 188: 0.0, 124: 0.0, 153: 0.0, 225: 0.0, 207: 0.0, 140: 0.0, 421: 0.0, 22: 0.0, 455: 0.0, 48: 0.0, 186: 0.0, 152: 0.0, 137: 0.0, 396: 0.0, 150: 0.0, 180: 0.0, 283: 0.0, 51: 0.0, 323: 0.0, 347: 0.0, 55: 0.0, 312: 0.0, 227: 0.0, 306: 0.0, 10: 0.0, 449: 0.0, 6: 0.0, 157: 0.0, 404: 0.0, 243: 0.0, 68: 0.0, 409: 0.0, 442: 0.0, 341: 0.0, 358: 0.0, 250: 0.0, 345: 0.0, 31: 0.0, 199: 0.0, 391: 0.0, 332: 0.0, 189: 0.0, 379: 0.0, 59: 0.0, 366: 0.0, 183: 0.0, 34: 0.0, 435: 0.0, 485: 0.0, 281: 0.0, 130: 0.0, 220: 0.0, 118: 0.0, 182: 0.0, 178: 0.0, 377: 0.0, 129: 0.0, 61: 0.0, 143: 0.0, 364: 0.0, 363: 0.0, 185: 0.0, 221: 0.0, 478: 0.0, 0: 0.0, 1: 0.0, 50: 0.0, 246: 0.0, 87: 0.0, 383: 0.0, 407: 0.0, 271: 0.0, 423: 0.0, 52: 0.0, 244: 0.0, 488: 0.0, 195: 0.0, 330: 0.0, 110: 0.0, 468: 0.0, 353: 0.0, 372: 0.0, 471: 0.0, 224: 0.0, 219: 0.0, 429: 0.0, 291: 0.0, 357: 0.0, 36: 0.0, 486: 0.0, 300: 0.0, 128: 0.0, 60: 0.0, 412: 0.0, 82: 0.0, 490: 0.0, 75: 0.0, 398: 0.0, 255: 0.0, 151: 0.0, 320: 0.0, 266: 0.0, 324: 0.0, 376: 0.0, 97: 0.0, 299: 0.0, 305: 0.0, 272: 0.0, 382: 0.0, 109: 0.0, 177: 0.0, 369: 0.0, 263: 0.0, 19: 0.0, 336: 0.0, 156: 0.0, 451: 0.0, 387: 0.0, 453: 0.0, 11: 0.0, 90: 0.0, 216: 0.0, 99: 0.0, 325: 0.0, 414: 0.0, 342: 0.0, 239: 0.0, 360: 0.0, 413: 0.0, 420: 0.0, 403: 0.0, 226: 0.0, 248: 0.0, 145: 0.0, 69: 0.0, 229: 0.0, 424: 0.0, 54: 0.0, 374: 0.0, 116: 0.0, 316: 0.0, 279: 0.0, 126: 0.0, 348: 0.0, 65: 0.0, 208: 0.0, 223: 0.0, 317: 0.0, 328: 0.0, 77: 0.0, 197: 0.0, 80: 0.0, 276: 0.0, 111: 0.0, 418: 0.0, 94: 0.0, 445: 0.0, 164: 0.0, 456: 0.0, 416: 0.0, 122: 0.0, 73: 0.0, 114: 0.0, 361: 0.0, 2: 0.0, 217: 0.0, 234: 0.0, 265: 0.0, 39: 0.0, 138: 0.0, 433: 0.0, 30: 0.0, 26: 0.0, 9: 0.0, 259: 0.0, 212: 0.0, 454: 0.0, 231: 0.0, 38: 0.0, 144: 0.0, 162: 0.0, 293: 0.0, 262: 0.0, 370: 0.0, 42: 0.0, 315: 0.0, 470: 0.0, 236: 0.0, 238: 0.0, 200: 0.0, 440: 0.0, 339: 0.0, 28: 0.0, 384: 0.0, 252: 0.0, 284: 0.0, 245: 0.0, 214: 0.0, 47: 0.0, 198: 0.0, 406: 0.0, 136: 0.0, 163: 0.0, 92: 0.0, 100: 0.0, 303: 0.0, 43: 0.0, 230: 0.0, 45: 0.0, 27: 0.0, 56: 0.0, 139: 0.0, 411: 0.0, 368: 0.0, 269: 0.0, 125: 0.0, 76: 0.0, 253: 0.0, 165: 0.0, 41: 0.0, 72: 0.0, 35: 0.0, 86: 0.0, 123: 0.0, 344: 0.0, 439: 0.0, 235: 0.0, 33: 0.0, 428: 0.0, 422: 0.0, 187: 0.0, 166: 0.0, 15: 0.0, 375: 0.0, 184: 0.0, 381: 0.0, 476: 0.0, 105: 0.0, 44: 0.0, 168: 0.0, 285: 0.0, 410: 0.0, 270: 0.0, 294: 0.0, 17: 0.0, 106: 0.0, 274: 0.0, 268: 0.0, 289: 0.0, 175: 0.0, 5: 0.0, 121: 0.0, 444: 0.0, 93: 0.0, 119: 0.0, 399: 0.0, 160: 0.0, 79: 0.0, 155: 0.0, 74: 0.0, 460: 0.0, 18: 0.0, 67: 0.0, 167: 0.0, 319: 0.0, 249: 0.0, 194: 0.0, 233: 0.0, 204: 0.0, 296: 0.0, 98: 0.0, 307: 0.0, 425: 0.0, 351: 0.0, 202: 0.0, 278: 0.0, 461: 0.0, 352: 0.0, 282: 0.0, 102: 0.0, 228: 0.0, 201: 0.0, 321: 0.0, 402: 0.0, 371: 0.0, 390: 0.0, 394: 0.0, 350: 0.0, 132: 0.0, 196: 0.0, 311: 0.0, 141: 0.0, 264: 0.0, 466: 0.0, 340: 0.0, 465: 0.0, 172: 0.0, 257: 0.0, 431: 0.0, 298: 0.0, 218: 0.0, 385: 0.0, 359: 0.0, 251: 0.0, 205: 0.0, 417: 0.0, 464: 0.0, 310: 0.0, 392: 0.0, 71: 0.0, 463: 0.0, 113: 0.0, 142: 0.0, 280: 0.0, 479: 0.0, 193: 0.0, 149: 0.0, 112: 0.0, 191: 0.0, 437: 0.0, 487: 0.0, 386: 0.0, 3: 0.0, 308: 0.0, 415: 0.0, 473: 0.0, 494: 0.0, 295: 0.0, 443: 0.0, 32: 0.0, 275: 0.0, 173: 0.0, 134: 0.0, 480: 0.0, 49: 0.0, 318: 0.0, 159: 0.0, 16: 0.0, 362: 0.0, 215: 0.0, 146: 0.0, 408: 0.0, 40: 0.0, 85: 0.0, 21: 0.0, 441: 0.0, 241: 0.0, 322: 0.0, 338: 0.0, 84: 0.0, 78: 0.0, 373: 0.0, 64: 0.0, 469: 0.0, 430: 0.0, 14: 0.0, 70: 0.0, 483: 0.0, 405: 0.0, 356: 0.0, 419: 0.0, 37: 0.0, 161: 0.0, 154: 0.0, 346: 0.0, 477: 0.0}\n",
     "output_type": "stream"
    }
   ],
   "execution_count": null
  },
  {
   "cell_type": "code",
   "metadata": {
    "cell_id": "5fdb226fa074427388ea7cbe5e1709d3",
    "tags": [],
    "deepnote_to_be_reexecuted": false,
    "source_hash": "df27d098",
    "execution_start": 1654958178754,
    "execution_millis": 41,
    "deepnote_table_state": {
     "pageSize": 10,
     "pageIndex": 11,
     "filters": [],
     "sortBy": []
    },
    "deepnote_table_loading": false,
    "deepnote_cell_type": "code",
    "deepnote_cell_height": 190
   },
   "source": "productionDf[productionDf['quantity'] > 0]",
   "outputs": [
    {
     "output_type": "execute_result",
     "execution_count": 20,
     "data": {
      "application/vnd.deepnote.dataframe.v3+json": {
       "column_count": 1,
       "row_count": 0,
       "columns": [
        {
         "name": "quantity",
         "dtype": "float64",
         "stats": {
          "unique_count": 0,
          "nan_count": 0,
          "min": null,
          "max": null,
          "histogram": [
           {
            "bin_start": 0,
            "bin_end": 0.1,
            "count": 0
           },
           {
            "bin_start": 0.1,
            "bin_end": 0.2,
            "count": 0
           },
           {
            "bin_start": 0.2,
            "bin_end": 0.30000000000000004,
            "count": 0
           },
           {
            "bin_start": 0.30000000000000004,
            "bin_end": 0.4,
            "count": 0
           },
           {
            "bin_start": 0.4,
            "bin_end": 0.5,
            "count": 0
           },
           {
            "bin_start": 0.5,
            "bin_end": 0.6000000000000001,
            "count": 0
           },
           {
            "bin_start": 0.6000000000000001,
            "bin_end": 0.7000000000000001,
            "count": 0
           },
           {
            "bin_start": 0.7000000000000001,
            "bin_end": 0.8,
            "count": 0
           },
           {
            "bin_start": 0.8,
            "bin_end": 0.9,
            "count": 0
           },
           {
            "bin_start": 0.9,
            "bin_end": 1,
            "count": 0
           }
          ]
         }
        },
        {
         "name": "_deepnote_index_column",
         "dtype": "int64"
        }
       ],
       "rows": []
      },
      "text/plain": "Empty DataFrame\nColumns: [quantity]\nIndex: []",
      "text/html": "<div>\n<style scoped>\n    .dataframe tbody tr th:only-of-type {\n        vertical-align: middle;\n    }\n\n    .dataframe tbody tr th {\n        vertical-align: top;\n    }\n\n    .dataframe thead th {\n        text-align: right;\n    }\n</style>\n<table border=\"1\" class=\"dataframe\">\n  <thead>\n    <tr style=\"text-align: right;\">\n      <th></th>\n      <th>quantity</th>\n    </tr>\n  </thead>\n  <tbody>\n  </tbody>\n</table>\n</div>"
     },
     "metadata": {}
    }
   ],
   "execution_count": null
  },
  {
   "cell_type": "markdown",
   "source": "### Multi period formulation\n\nP: production capacity per day \\\n$r_i$: revenue article i \\\n$q_{ij}$: Amount of component j needed for article i \\\n$x_{it}$: Quantity produced of article i on day t \\\n$d_{jt}$: Purchasing of component j arriving at the beggining of day t \\\n$T$ total duration of the period \n\n\nObjective: \\\n$Maximize$ $ \\sum_{t=1}^T \\sum_{i=1}^n x_{it}r_{i}$ \\\nst.  \n\n$\\sum_{t'=1}^{t}d_{jt'} - \\sum_{t'=1}^{t} \\sum_{i=1}^nx_{it'}q_{ij} >= 0 \\hspace{20pt} t=1,...,T \\hspace{10pt} j =1,...,m$ \n\n$\\sum_{i=1}^n x_{it} <= P \\hspace{86pt} t=1,...,T $",
   "metadata": {
    "cell_id": "bb39f4ccbf374e5a8b16aed1075fe0dd",
    "tags": [],
    "deepnote_cell_type": "markdown",
    "deepnote_cell_height": 367
   }
  },
  {
   "cell_type": "code",
   "source": "def plotModelSize(T, n, m):\n    nConstraints = [ t*m + t for t in range(T)]\n    nVars = [ t*n for t in range(T)]\n    nVarsInConstraints = [t*(t+1)/2 + t*(t+1)/2 * n + t * n for t in range(T)]\n    sns.lineplot(x= np.arange(0,T), y=  nConstraints, label=\"#constraints\")\n    sns.lineplot(x= np.arange(0,T), y=  nVars, label=\"# vars\")\n    sns.lineplot(x= np.arange(0,T), y=  nVarsInConstraints, label=\"# vars in constraints\")\n    plt.legend()\n    plt.xlabel(\"T (horizon length)\")\nplotModelSize(T=len(productionDays), n = len(articles['article_number'].unique()), m=len(components['component_number'].unique()))",
   "metadata": {
    "cell_id": "ecbc891fe06b4e2890b54a0dccda2d75",
    "tags": [],
    "deepnote_to_be_reexecuted": false,
    "source_hash": "4479bde",
    "execution_start": 1655056513174,
    "execution_millis": 780,
    "deepnote_cell_type": "code",
    "deepnote_cell_height": 540,
    "deepnote_output_heights": [
     281
    ]
   },
   "outputs": [
    {
     "data": {
      "text/plain": "<Figure size 432x288 with 1 Axes>",
      "image/png": "[encoded data removed]"
     },
     "metadata": {
      "needs_background": "light",
      "image/png": {
       "width": 376,
       "height": 279
      }
     },
     "output_type": "display_data"
    }
   ],
   "execution_count": null
  },
  {
   "cell_type": "code",
   "metadata": {
    "cell_id": "7df154ecfee14bc0b9a0349a28be1976",
    "tags": [],
    "deepnote_to_be_reexecuted": false,
    "source_hash": "1848814b",
    "execution_start": 1655061496185,
    "execution_millis": 0,
    "deepnote_cell_type": "code",
    "deepnote_cell_height": 549
   },
   "source": "def multiPeriodILP(daysInPeriod, articles, inv: Inventory, bom):\n    model = LpProblem(name='Production', sense=LpMaximize)\n    T = len(daysInPeriod)\n    x = {(i, t): LpVariable(name=f\"x_p_{i},d_{t}\", lowBound=0, upBound=Config.DAY_BATCH_PRODUCTION_CAPACITY, cat=Config.X_CAT) for i in articles['article_number'] for t in range(1,T+1)}\n    print(f\"Multi period ILP for period {daysInPeriod[0]} to {daysInPeriod[-1]}\")\n    print(f\"This entails {T} days: {daysInPeriod}\")\n    #print(f\"Created variables: {x}\")\n    revenue = articles.set_index('article_number')['revenue'].to_dict()\n    #print(revenue)\n    model += lpSum(x[(i,t)] * revenue[i] for i in articles['article_number'] for t in range(1,T+1))\n\n    #Inventory constraints\n    for t, day in enumerate(daysInPeriod,1):\n        #purchasingDay = inv.purchasingForDay(day)\n\n        purchasingUpToDay = inv.purchasingForPeriod(daysInPeriod[0], day)\n\n        for j in allComponents:\n            print(\"\\r\", end=f\"{t},{j}\")\n            articlesComponentUsage = getComponentsRequired(j, bom)\n            model += (purchasingUpToDay[j] - lpSum([x[(i,tt)] * articlesComponentUsage[i] for i in articlesComponentUsage.index for tt in range(1,t+1) ])) >= 0, f\"InvConstraint_day_{t-1}_component_{j}\"\n\n    #Production capacity constraints\n    for t, day in enumerate(daysInPeriod, 1):\n        model += lpSum([x[(i,t)] for i in articles['article_number']]) <= Config.DAY_BATCH_PRODUCTION_CAPACITY\n\n    return model, x",
   "outputs": [],
   "execution_count": null
  },
  {
   "cell_type": "code",
   "metadata": {
    "cell_id": "ecd55e21ff4c4be196e5719b8d7b1c89",
    "tags": [],
    "deepnote_to_be_reexecuted": false,
    "source_hash": "b188e1b",
    "execution_start": 1655068262743,
    "execution_millis": 9905,
    "deepnote_cell_type": "code",
    "deepnote_cell_height": 388,
    "deepnote_output_heights": [
     174.75
    ]
   },
   "source": "periodBegin = pd.Timestamp('2022-02-16')\nperiodEnd = pd.Timestamp('2022-02-20') \ndaysInPeriod = getBusDaysInPeriod(periodBegin, periodEnd)\nmodel, x = multiPeriodILP(daysInPeriod=daysInPeriod, articles = articlesBatch, inv = Inventory(purchasingProcessed), bom = bomBatch)",
   "outputs": [
    {
     "name": "stdout",
     "text": "Multi period ILP for period 2022-02-16 00:00:00 to 2022-02-18 00:00:00\nThis entails 3 days: [Timestamp('2022-02-16 00:00:00', freq='B'), Timestamp('2022-02-17 00:00:00', freq='B'), Timestamp('2022-02-18 00:00:00', freq='B')]\n3,1393",
     "output_type": "stream"
    }
   ],
   "execution_count": null
  },
  {
   "cell_type": "code",
   "source": "model.writeMPS(\"test.mps\")",
   "metadata": {
    "cell_id": "4f3b7b75df2f430e9d3a377ab7b91f6a",
    "tags": [],
    "deepnote_to_be_reexecuted": false,
    "source_hash": "9c400448",
    "execution_start": 1654958900807,
    "execution_millis": 33284,
    "deepnote_cell_type": "code",
    "deepnote_cell_height": 144.1875
   },
   "outputs": [
    {
     "output_type": "error",
     "ename": "KeyboardInterrupt",
     "evalue": "",
     "traceback": [
      "\u001b[0;31m---------------------------------------------------------------------------\u001b[0m",
      "\u001b[0;31mKeyboardInterrupt\u001b[0m                         Traceback (most recent call last)",
      "\u001b[0;32m<ipython-input-25-f513258a4084>\u001b[0m in \u001b[0;36m<module>\u001b[0;34m\u001b[0m\n\u001b[0;32m----> 1\u001b[0;31m \u001b[0mmodel\u001b[0m\u001b[0;34m.\u001b[0m\u001b[0mwriteMPS\u001b[0m\u001b[0;34m(\u001b[0m\u001b[0;34m\"test.mps\"\u001b[0m\u001b[0;34m)\u001b[0m\u001b[0;34m\u001b[0m\u001b[0;34m\u001b[0m\u001b[0m\n\u001b[0m",
      "\u001b[0;32m~/venv/lib/python3.7/site-packages/pulp/pulp.py\u001b[0m in \u001b[0;36mwriteMPS\u001b[0;34m(self, filename, mpsSense, rename, mip)\u001b[0m\n\u001b[1;32m   1780\u001b[0m             \u001b[0;34m-\u001b[0m \u001b[0mThe\u001b[0m \u001b[0mfile\u001b[0m \u001b[0;32mis\u001b[0m \u001b[0mcreated\u001b[0m\u001b[0;34m\u001b[0m\u001b[0;34m\u001b[0m\u001b[0m\n\u001b[1;32m   1781\u001b[0m         \"\"\"\n\u001b[0;32m-> 1782\u001b[0;31m         \u001b[0;32mreturn\u001b[0m \u001b[0mmpslp\u001b[0m\u001b[0;34m.\u001b[0m\u001b[0mwriteMPS\u001b[0m\u001b[0;34m(\u001b[0m\u001b[0mself\u001b[0m\u001b[0;34m,\u001b[0m \u001b[0mfilename\u001b[0m\u001b[0;34m,\u001b[0m \u001b[0mmpsSense\u001b[0m\u001b[0;34m=\u001b[0m\u001b[0mmpsSense\u001b[0m\u001b[0;34m,\u001b[0m \u001b[0mrename\u001b[0m\u001b[0;34m=\u001b[0m\u001b[0mrename\u001b[0m\u001b[0;34m,\u001b[0m \u001b[0mmip\u001b[0m\u001b[0;34m=\u001b[0m\u001b[0mmip\u001b[0m\u001b[0;34m)\u001b[0m\u001b[0;34m\u001b[0m\u001b[0;34m\u001b[0m\u001b[0m\n\u001b[0m\u001b[1;32m   1783\u001b[0m \u001b[0;34m\u001b[0m\u001b[0m\n\u001b[1;32m   1784\u001b[0m     \u001b[0;32mdef\u001b[0m \u001b[0mwriteLP\u001b[0m\u001b[0;34m(\u001b[0m\u001b[0mself\u001b[0m\u001b[0;34m,\u001b[0m \u001b[0mfilename\u001b[0m\u001b[0;34m,\u001b[0m \u001b[0mwriteSOS\u001b[0m\u001b[0;34m=\u001b[0m\u001b[0;36m1\u001b[0m\u001b[0;34m,\u001b[0m \u001b[0mmip\u001b[0m\u001b[0;34m=\u001b[0m\u001b[0;36m1\u001b[0m\u001b[0;34m,\u001b[0m \u001b[0mmax_length\u001b[0m\u001b[0;34m=\u001b[0m\u001b[0;36m100\u001b[0m\u001b[0;34m)\u001b[0m\u001b[0;34m:\u001b[0m\u001b[0;34m\u001b[0m\u001b[0;34m\u001b[0m\u001b[0m\n",
      "\u001b[0;32m~/venv/lib/python3.7/site-packages/pulp/mps_lp.py\u001b[0m in \u001b[0;36mwriteMPS\u001b[0;34m(LpProblem, filename, mpsSense, rename, mip)\u001b[0m\n\u001b[1;32m    222\u001b[0m         \u001b[0mk\u001b[0m \u001b[0;34m=\u001b[0m \u001b[0mconstrNames\u001b[0m\u001b[0;34m[\u001b[0m\u001b[0mk\u001b[0m\u001b[0;34m]\u001b[0m\u001b[0;34m\u001b[0m\u001b[0;34m\u001b[0m\u001b[0m\n\u001b[1;32m    223\u001b[0m         \u001b[0;32mfor\u001b[0m \u001b[0mv\u001b[0m\u001b[0;34m,\u001b[0m \u001b[0mvalue\u001b[0m \u001b[0;32min\u001b[0m \u001b[0mc\u001b[0m\u001b[0;34m.\u001b[0m\u001b[0mitems\u001b[0m\u001b[0;34m(\u001b[0m\u001b[0;34m)\u001b[0m\u001b[0;34m:\u001b[0m\u001b[0;34m\u001b[0m\u001b[0;34m\u001b[0m\u001b[0m\n\u001b[0;32m--> 224\u001b[0;31m             \u001b[0mcoefs\u001b[0m\u001b[0;34m[\u001b[0m\u001b[0mvarNames\u001b[0m\u001b[0;34m[\u001b[0m\u001b[0mv\u001b[0m\u001b[0;34m.\u001b[0m\u001b[0mname\u001b[0m\u001b[0;34m]\u001b[0m\u001b[0;34m]\u001b[0m\u001b[0;34m[\u001b[0m\u001b[0mk\u001b[0m\u001b[0;34m]\u001b[0m \u001b[0;34m=\u001b[0m \u001b[0mvalue\u001b[0m\u001b[0;34m\u001b[0m\u001b[0;34m\u001b[0m\u001b[0m\n\u001b[0m\u001b[1;32m    225\u001b[0m \u001b[0;34m\u001b[0m\u001b[0m\n\u001b[1;32m    226\u001b[0m     \u001b[0;31m# matrix\u001b[0m\u001b[0;34m\u001b[0m\u001b[0;34m\u001b[0m\u001b[0;34m\u001b[0m\u001b[0m\n",
      "\u001b[0;31mKeyboardInterrupt\u001b[0m: "
     ]
    }
   ],
   "execution_count": null
  },
  {
   "cell_type": "code",
   "source": "status = model.solve()",
   "metadata": {
    "cell_id": "b2899e9c863f4abab41a138fbdc98c85",
    "tags": [],
    "deepnote_to_be_reexecuted": false,
    "source_hash": "7e126848",
    "execution_start": 1655068357060,
    "execution_millis": 1449,
    "deepnote_cell_type": "code",
    "deepnote_cell_height": 81
   },
   "outputs": [],
   "execution_count": null
  },
  {
   "cell_type": "code",
   "source": "status",
   "metadata": {
    "cell_id": "68e3e02db8424142af42256fa75beaf1",
    "tags": [],
    "deepnote_to_be_reexecuted": false,
    "source_hash": "4998c703",
    "execution_start": 1655068362371,
    "execution_millis": 5,
    "deepnote_cell_type": "code",
    "deepnote_cell_height": 118.1875,
    "deepnote_output_heights": [
     21.1875
    ]
   },
   "outputs": [
    {
     "output_type": "execute_result",
     "execution_count": 107,
     "data": {
      "text/plain": "1"
     },
     "metadata": {}
    }
   ],
   "execution_count": null
  },
  {
   "cell_type": "code",
   "source": "model.objective.value()",
   "metadata": {
    "cell_id": "38f27fd145004943a7727ce8ed77333c",
    "tags": [],
    "deepnote_to_be_reexecuted": false,
    "source_hash": "ca57947d",
    "execution_start": 1655068363764,
    "execution_millis": 6,
    "deepnote_cell_type": "code",
    "deepnote_cell_height": 118.1875,
    "deepnote_output_heights": [
     21.1875
    ]
   },
   "outputs": [
    {
     "output_type": "execute_result",
     "execution_count": 108,
     "data": {
      "text/plain": "988240.0"
     },
     "metadata": {}
    }
   ],
   "execution_count": null
  },
  {
   "cell_type": "code",
   "source": "print(model.objective.value())\nprint({i:_.value() for i,_ in x.items()})\nproductionDict = {i:_.value() for i,_ in x.items()}\nproductionDf = pd.DataFrame( productionDict.values(), index = productionDict.keys(), columns=['quantity_batch'])\nproductionDf = productionDf.reset_index()\nproductionDf.columns = ['article_number', 'day_nr', 'quantity_batch']\nproductionDf['day'] = productionDf['day_nr'].apply(lambda el: daysInPeriod[el-1])\nproductionDf = productionDf[['day','day_nr','article_number', 'quantity_batch']].sort_values(by=['day_nr','article_number'])\nproductionDf['quantity'] = productionDf['quantity_batch'] * Config.BATCH_SIZE\nrevenue = articles.set_index('article_number')['revenue'].to_dict()\nproductionDf['article_revenue'] = productionDf['article_number'].apply(lambda el: revenue[el])\nproductionDf['revenue_total'] = productionDf['article_revenue'] * productionDf['quantity'] \nproductionDf[productionDf['quantity'] > 0]",
   "metadata": {
    "cell_id": "db2f22b855904b7aa2af2dec1bbe3ef6",
    "tags": [],
    "deepnote_to_be_reexecuted": false,
    "source_hash": "d8d15225",
    "execution_start": 1655068401664,
    "execution_millis": 51,
    "deepnote_table_state": {
     "pageSize": 10,
     "pageIndex": 1,
     "filters": [],
     "sortBy": []
    },
    "deepnote_table_loading": false,
    "deepnote_cell_type": "code",
    "deepnote_cell_height": 639.890625
   },
   "outputs": [
    {
     "name": "stdout",
     "text": "988240.0\n{(472, 1): 0.0, (472, 2): 0.0, (472, 3): 0.0, (434, 1): 0.0, (434, 2): 0.0, (434, 3): 0.0, (240, 1): 0.0, (240, 2): 0.0, (240, 3): 0.0, (452, 1): 0.0, (452, 2): 0.0, (452, 3): 0.0, (107, 1): 0.0, (107, 2): 0.0, (107, 3): 0.0, (335, 1): 0.0, (335, 2): 0.0, (335, 3): 0.0, (484, 1): 0.0, (484, 2): 0.0, (484, 3): 0.0, (210, 1): 0.0, (210, 2): 0.0, (210, 3): 0.0, (292, 1): 0.0, (292, 2): 0.0, (292, 3): 0.0, (63, 1): 0.0, (63, 2): 0.0, (63, 3): 0.0, (380, 1): 0.0, (380, 2): 0.0, (380, 3): 0.0, (108, 1): 0.0, (108, 2): 0.0, (108, 3): 0.0, (258, 1): 0.0, (258, 2): 0.0, (258, 3): 0.0, (459, 1): 0.0, (459, 2): 0.0, (459, 3): 0.0, (489, 1): 0.0, (489, 2): 0.0, (489, 3): 0.0, (104, 1): 0.0, (104, 2): 0.0, (104, 3): 0.0, (91, 1): 0.0, (91, 2): 0.0, (91, 3): 0.0, (158, 1): 0.0, (158, 2): 0.0, (158, 3): 0.0, (475, 1): 0.0, (475, 2): 0.0, (475, 3): 0.0, (242, 1): 0.0, (242, 2): 0.0, (242, 3): 0.0, (378, 1): 0.0, (378, 2): 0.0, (378, 3): 0.0, (203, 1): 0.0, (203, 2): 0.0, (203, 3): 0.0, (206, 1): 0.0, (206, 2): 0.0, (206, 3): 0.0, (448, 1): 0.0, (448, 2): 0.0, (448, 3): 0.0, (170, 1): 0.0, (170, 2): 0.0, (170, 3): 0.0, (492, 1): 0.0, (492, 2): 0.0, (492, 3): 0.0, (176, 1): 0.0, (176, 2): 0.0, (176, 3): 0.0, (337, 1): 0.0, (337, 2): 0.0, (337, 3): 0.0, (287, 1): 0.0, (287, 2): 0.0, (287, 3): 13.0, (286, 1): 0.0, (286, 2): 0.0, (286, 3): 0.0, (331, 1): 0.0, (331, 2): 0.0, (331, 3): 0.0, (95, 1): 0.0, (95, 2): 0.0, (95, 3): 0.0, (491, 1): 0.0, (491, 2): 0.0, (491, 3): 0.0, (327, 1): 0.0, (327, 2): 0.0, (327, 3): 0.0, (131, 1): 0.0, (131, 2): 0.0, (131, 3): 0.0, (4, 1): 0.0, (4, 2): 0.0, (4, 3): 0.0, (174, 1): 1.0, (174, 2): 0.0, (174, 3): 0.0, (288, 1): 0.0, (288, 2): 0.0, (288, 3): 0.0, (171, 1): 0.0, (171, 2): 0.0, (171, 3): 0.0, (397, 1): 0.0, (397, 2): 0.0, (397, 3): 0.0, (88, 1): 0.0, (88, 2): 0.0, (88, 3): 0.0, (273, 1): 0.0, (273, 2): 0.0, (273, 3): 0.0, (432, 1): 0.0, (432, 2): 0.0, (432, 3): 0.0, (222, 1): 0.0, (222, 2): 0.0, (222, 3): 0.0, (127, 1): 0.0, (127, 2): 0.0, (127, 3): 0.0, (46, 1): 0.0, (46, 2): 0.0, (46, 3): 0.0, (247, 1): 0.0, (247, 2): 0.0, (247, 3): 0.0, (343, 1): 0.0, (343, 2): 0.0, (343, 3): 0.0, (29, 1): 0.0, (29, 2): 0.0, (29, 3): 0.0, (267, 1): 0.0, (267, 2): 0.0, (267, 3): 0.0, (447, 1): 0.0, (447, 2): 0.0, (447, 3): 0.0, (101, 1): 0.0, (101, 2): 0.0, (101, 3): 0.0, (329, 1): 0.0, (329, 2): 0.0, (329, 3): 0.0, (355, 1): 0.0, (355, 2): 0.0, (355, 3): 0.0, (237, 1): 0.0, (237, 2): 0.0, (237, 3): 0.0, (393, 1): 0.0, (393, 2): 0.0, (393, 3): 0.0, (297, 1): 0.0, (297, 2): 0.0, (297, 3): 0.0, (135, 1): 0.0, (135, 2): 0.0, (135, 3): 0.0, (457, 1): 0.0, (457, 2): 0.0, (457, 3): 0.0, (401, 1): 0.0, (401, 2): 0.0, (401, 3): 0.0, (467, 1): 0.0, (467, 2): 0.0, (467, 3): 0.0, (213, 1): 0.0, (213, 2): 0.0, (213, 3): 0.0, (66, 1): 1.0, (66, 2): 0.0, (66, 3): 0.0, (103, 1): 0.0, (103, 2): 0.0, (103, 3): 0.0, (81, 1): 0.0, (81, 2): 0.0, (81, 3): 0.0, (290, 1): 0.0, (290, 2): 0.0, (290, 3): 0.0, (395, 1): 0.0, (395, 2): 0.0, (395, 3): 0.0, (334, 1): 0.0, (334, 2): 0.0, (334, 3): 0.0, (53, 1): 0.0, (53, 2): 0.0, (53, 3): 0.0, (388, 1): 0.0, (388, 2): 0.0, (388, 3): 0.0, (309, 1): 0.0, (309, 2): 0.0, (309, 3): 0.0, (24, 1): 0.0, (24, 2): 0.0, (24, 3): 0.0, (148, 1): 0.0, (148, 2): 0.0, (148, 3): 0.0, (120, 1): 0.0, (120, 2): 0.0, (120, 3): 0.0, (333, 1): 0.0, (333, 2): 0.0, (333, 3): 0.0, (96, 1): 0.0, (96, 2): 0.0, (96, 3): 0.0, (25, 1): 0.0, (25, 2): 0.0, (25, 3): 0.0, (493, 1): 0.0, (493, 2): 0.0, (493, 3): 0.0, (450, 1): 0.0, (450, 2): 0.0, (450, 3): 0.0, (438, 1): 0.0, (438, 2): 0.0, (438, 3): 0.0, (436, 1): 0.0, (436, 2): 0.0, (436, 3): 0.0, (261, 1): 0.0, (261, 2): 0.0, (261, 3): 0.0, (179, 1): 0.0, (179, 2): 0.0, (179, 3): 0.0, (190, 1): 0.0, (190, 2): 0.0, (190, 3): 0.0, (302, 1): 0.0, (302, 2): 0.0, (302, 3): 0.0, (462, 1): 0.0, (462, 2): 0.0, (462, 3): 0.0, (57, 1): 0.0, (57, 2): 0.0, (57, 3): 0.0, (354, 1): 0.0, (354, 2): 0.0, (354, 3): 0.0, (427, 1): 0.0, (427, 2): 0.0, (427, 3): 0.0, (365, 1): 0.0, (365, 2): 0.0, (365, 3): 0.0, (8, 1): 0.0, (8, 2): 0.0, (8, 3): 0.0, (458, 1): 0.0, (458, 2): 0.0, (458, 3): 0.0, (23, 1): 0.0, (23, 2): 0.0, (23, 3): 0.0, (7, 1): 0.0, (7, 2): 0.0, (7, 3): 0.0, (304, 1): 0.0, (304, 2): 0.0, (304, 3): 0.0, (474, 1): 0.0, (474, 2): 0.0, (474, 3): 0.0, (367, 1): 0.0, (367, 2): 0.0, (367, 3): 0.0, (211, 1): 0.0, (211, 2): 0.0, (211, 3): 0.0, (192, 1): 0.0, (192, 2): 0.0, (192, 3): 0.0, (169, 1): 0.0, (169, 2): 0.0, (169, 3): 0.0, (426, 1): 0.0, (426, 2): 0.0, (426, 3): 0.0, (181, 1): 0.0, (181, 2): 0.0, (181, 3): 0.0, (209, 1): 0.0, (209, 2): 0.0, (209, 3): 0.0, (349, 1): 0.0, (349, 2): 0.0, (349, 3): 0.0, (260, 1): 0.0, (260, 2): 0.0, (260, 3): 0.0, (301, 1): 0.0, (301, 2): 0.0, (301, 3): 0.0, (256, 1): 0.0, (256, 2): 0.0, (256, 3): 0.0, (389, 1): 0.0, (389, 2): 0.0, (389, 3): 0.0, (13, 1): 0.0, (13, 2): 0.0, (13, 3): 0.0, (326, 1): 0.0, (326, 2): 0.0, (326, 3): 0.0, (117, 1): 0.0, (117, 2): 0.0, (117, 3): 0.0, (400, 1): 0.0, (400, 2): 0.0, (400, 3): 0.0, (313, 1): 0.0, (313, 2): 0.0, (313, 3): 0.0, (482, 1): 0.0, (482, 2): 0.0, (482, 3): 0.0, (147, 1): 0.0, (147, 2): 0.0, (147, 3): 0.0, (115, 1): 0.0, (115, 2): 0.0, (115, 3): 0.0, (277, 1): 0.0, (277, 2): 0.0, (277, 3): 0.0, (254, 1): 0.0, (254, 2): 0.0, (254, 3): 0.0, (232, 1): 0.0, (232, 2): 0.0, (232, 3): 0.0, (58, 1): 0.0, (58, 2): 0.0, (58, 3): 0.0, (62, 1): 0.0, (62, 2): 0.0, (62, 3): 0.0, (12, 1): 0.0, (12, 2): 0.0, (12, 3): 0.0, (20, 1): 0.0, (20, 2): 0.0, (20, 3): 0.0, (446, 1): 0.0, (446, 2): 0.0, (446, 3): 0.0, (481, 1): 0.0, (481, 2): 0.0, (481, 3): 0.0, (89, 1): 0.0, (89, 2): 0.0, (89, 3): 0.0, (314, 1): 0.0, (314, 2): 0.0, (314, 3): 0.0, (133, 1): 0.0, (133, 2): 0.0, (133, 3): 0.0, (83, 1): 0.0, (83, 2): 0.0, (83, 3): 0.0, (188, 1): 0.0, (188, 2): 0.0, (188, 3): 0.0, (124, 1): 1.0, (124, 2): 0.0, (124, 3): 0.0, (153, 1): 0.0, (153, 2): 0.0, (153, 3): 0.0, (225, 1): 0.0, (225, 2): 0.0, (225, 3): 0.0, (207, 1): 0.0, (207, 2): 0.0, (207, 3): 0.0, (140, 1): 0.0, (140, 2): 0.0, (140, 3): 0.0, (421, 1): 0.0, (421, 2): 0.0, (421, 3): 0.0, (22, 1): 0.0, (22, 2): 0.0, (22, 3): 0.0, (455, 1): 0.0, (455, 2): 0.0, (455, 3): 0.0, (48, 1): 0.0, (48, 2): 0.0, (48, 3): 0.0, (186, 1): 0.0, (186, 2): 0.0, (186, 3): 0.0, (152, 1): 0.0, (152, 2): 0.0, (152, 3): 0.0, (137, 1): 0.0, (137, 2): 0.0, (137, 3): 2.0, (396, 1): 0.0, (396, 2): 0.0, (396, 3): 0.0, (150, 1): 0.0, (150, 2): 0.0, (150, 3): 0.0, (180, 1): 0.0, (180, 2): 0.0, (180, 3): 0.0, (283, 1): 0.0, (283, 2): 0.0, (283, 3): 0.0, (51, 1): 0.0, (51, 2): 0.0, (51, 3): 0.0, (323, 1): 0.0, (323, 2): 0.0, (323, 3): 0.0, (347, 1): 0.0, (347, 2): 0.0, (347, 3): 0.0, (55, 1): 0.0, (55, 2): 0.0, (55, 3): 0.0, (312, 1): 0.0, (312, 2): 0.0, (312, 3): 0.0, (227, 1): 0.0, (227, 2): 0.0, (227, 3): 0.0, (306, 1): 0.0, (306, 2): 0.0, (306, 3): 0.0, (10, 1): 0.0, (10, 2): 0.0, (10, 3): 0.0, (449, 1): 0.0, (449, 2): 0.0, (449, 3): 0.0, (6, 1): 0.0, (6, 2): 0.0, (6, 3): 0.0, (157, 1): 0.0, (157, 2): 0.0, (157, 3): 0.0, (404, 1): 0.0, (404, 2): 0.0, (404, 3): 2.0, (243, 1): 0.0, (243, 2): 0.0, (243, 3): 0.0, (68, 1): 0.0, (68, 2): 0.0, (68, 3): 0.0, (409, 1): 0.0, (409, 2): 0.0, (409, 3): 0.0, (442, 1): 0.0, (442, 2): 0.0, (442, 3): 0.0, (341, 1): 0.0, (341, 2): 0.0, (341, 3): 0.0, (358, 1): 0.0, (358, 2): 0.0, (358, 3): 0.0, (250, 1): 0.0, (250, 2): 0.0, (250, 3): 0.0, (345, 1): 0.0, (345, 2): 0.0, (345, 3): 0.0, (31, 1): 0.0, (31, 2): 0.0, (31, 3): 0.0, (199, 1): 0.0, (199, 2): 0.0, (199, 3): 0.0, (391, 1): 0.0, (391, 2): 0.0, (391, 3): 0.0, (332, 1): 0.0, (332, 2): 0.0, (332, 3): 0.0, (189, 1): 0.0, (189, 2): 0.0, (189, 3): 0.0, (379, 1): 0.0, (379, 2): 0.0, (379, 3): 0.0, (59, 1): 0.0, (59, 2): 0.0, (59, 3): 0.0, (366, 1): 0.0, (366, 2): 0.0, (366, 3): 0.0, (183, 1): 0.0, (183, 2): 0.0, (183, 3): 0.0, (34, 1): 0.0, (34, 2): 0.0, (34, 3): 0.0, (435, 1): 0.0, (435, 2): 0.0, (435, 3): 0.0, (485, 1): 0.0, (485, 2): 0.0, (485, 3): 0.0, (281, 1): 0.0, (281, 2): 0.0, (281, 3): 0.0, (130, 1): 0.0, (130, 2): 0.0, (130, 3): 0.0, (220, 1): 0.0, (220, 2): 0.0, (220, 3): 0.0, (118, 1): 0.0, (118, 2): 0.0, (118, 3): 0.0, (182, 1): 0.0, (182, 2): 0.0, (182, 3): 0.0, (178, 1): 0.0, (178, 2): 0.0, (178, 3): 0.0, (377, 1): 0.0, (377, 2): 0.0, (377, 3): 0.0, (129, 1): 0.0, (129, 2): 0.0, (129, 3): 0.0, (61, 1): 0.0, (61, 2): 0.0, (61, 3): 0.0, (143, 1): 0.0, (143, 2): 0.0, (143, 3): 0.0, (364, 1): 0.0, (364, 2): 0.0, (364, 3): 0.0, (363, 1): 0.0, (363, 2): 0.0, (363, 3): 0.0, (185, 1): 0.0, (185, 2): 0.0, (185, 3): 0.0, (221, 1): 0.0, (221, 2): 0.0, (221, 3): 0.0, (478, 1): 0.0, (478, 2): 0.0, (478, 3): 0.0, (0, 1): 0.0, (0, 2): 0.0, (0, 3): 0.0, (1, 1): 0.0, (1, 2): 0.0, (1, 3): 0.0, (50, 1): 0.0, (50, 2): 0.0, (50, 3): 0.0, (246, 1): 0.0, (246, 2): 0.0, (246, 3): 0.0, (87, 1): 0.0, (87, 2): 0.0, (87, 3): 0.0, (383, 1): 0.0, (383, 2): 0.0, (383, 3): 0.0, (407, 1): 0.0, (407, 2): 0.0, (407, 3): 0.0, (271, 1): 0.0, (271, 2): 0.0, (271, 3): 0.0, (423, 1): 0.0, (423, 2): 0.0, (423, 3): 0.0, (52, 1): 0.0, (52, 2): 0.0, (52, 3): 0.0, (244, 1): 0.0, (244, 2): 0.0, (244, 3): 0.0, (488, 1): 0.0, (488, 2): 0.0, (488, 3): 0.0, (195, 1): 0.0, (195, 2): 0.0, (195, 3): 0.0, (330, 1): 0.0, (330, 2): 0.0, (330, 3): 0.0, (110, 1): 0.0, (110, 2): 0.0, (110, 3): 0.0, (468, 1): 0.0, (468, 2): 0.0, (468, 3): 0.0, (353, 1): 0.0, (353, 2): 0.0, (353, 3): 0.0, (372, 1): 0.0, (372, 2): 0.0, (372, 3): 0.0, (471, 1): 0.0, (471, 2): 0.0, (471, 3): 0.0, (224, 1): 0.0, (224, 2): 0.0, (224, 3): 0.0, (219, 1): 0.0, (219, 2): 0.0, (219, 3): 0.0, (429, 1): 0.0, (429, 2): 0.0, (429, 3): 0.0, (291, 1): 0.0, (291, 2): 0.0, (291, 3): 0.0, (357, 1): 0.0, (357, 2): 0.0, (357, 3): 0.0, (36, 1): 0.0, (36, 2): 0.0, (36, 3): 0.0, (486, 1): 0.0, (486, 2): 0.0, (486, 3): 0.0, (300, 1): 0.0, (300, 2): 0.0, (300, 3): 0.0, (128, 1): 0.0, (128, 2): 0.0, (128, 3): 0.0, (60, 1): 0.0, (60, 2): 0.0, (60, 3): 0.0, (412, 1): 0.0, (412, 2): 0.0, (412, 3): 0.0, (82, 1): 0.0, (82, 2): 0.0, (82, 3): 0.0, (490, 1): 0.0, (490, 2): 0.0, (490, 3): 0.0, (75, 1): 0.0, (75, 2): 0.0, (75, 3): 0.0, (398, 1): 0.0, (398, 2): 0.0, (398, 3): 0.0, (255, 1): 0.0, (255, 2): 0.0, (255, 3): 0.0, (151, 1): 0.0, (151, 2): 0.0, (151, 3): 0.0, (320, 1): 0.0, (320, 2): 0.0, (320, 3): 0.0, (266, 1): 0.0, (266, 2): 0.0, (266, 3): 0.0, (324, 1): 0.0, (324, 2): 0.0, (324, 3): 0.0, (376, 1): 0.0, (376, 2): 0.0, (376, 3): 0.0, (97, 1): 0.0, (97, 2): 0.0, (97, 3): 0.0, (299, 1): 0.0, (299, 2): 0.0, (299, 3): 0.0, (305, 1): 0.0, (305, 2): 0.0, (305, 3): 0.0, (272, 1): 0.0, (272, 2): 0.0, (272, 3): 0.0, (382, 1): 0.0, (382, 2): 0.0, (382, 3): 0.0, (109, 1): 0.0, (109, 2): 0.0, (109, 3): 0.0, (177, 1): 0.0, (177, 2): 0.0, (177, 3): 0.0, (369, 1): 0.0, (369, 2): 0.0, (369, 3): 0.0, (263, 1): 0.0, (263, 2): 0.0, (263, 3): 0.0, (19, 1): 0.0, (19, 2): 0.0, (19, 3): 0.0, (336, 1): 0.0, (336, 2): 0.0, (336, 3): 0.0, (156, 1): 0.0, (156, 2): 0.0, (156, 3): 0.0, (451, 1): 0.0, (451, 2): 0.0, (451, 3): 0.0, (387, 1): 0.0, (387, 2): 0.0, (387, 3): 0.0, (453, 1): 0.0, (453, 2): 0.0, (453, 3): 0.0, (11, 1): 1.0, (11, 2): 0.0, (11, 3): 0.0, (90, 1): 0.0, (90, 2): 0.0, (90, 3): 0.0, (216, 1): 0.0, (216, 2): 0.0, (216, 3): 0.0, (99, 1): 0.0, (99, 2): 0.0, (99, 3): 0.0, (325, 1): 0.0, (325, 2): 0.0, (325, 3): 0.0, (414, 1): 0.0, (414, 2): 0.0, (414, 3): 0.0, (342, 1): 0.0, (342, 2): 0.0, (342, 3): 0.0, (239, 1): 0.0, (239, 2): 0.0, (239, 3): 0.0, (360, 1): 0.0, (360, 2): 0.0, (360, 3): 0.0, (413, 1): 0.0, (413, 2): 0.0, (413, 3): 0.0, (420, 1): 0.0, (420, 2): 0.0, (420, 3): 0.0, (403, 1): 0.0, (403, 2): 0.0, (403, 3): 0.0, (226, 1): 0.0, (226, 2): 0.0, (226, 3): 0.0, (248, 1): 0.0, (248, 2): 0.0, (248, 3): 0.0, (145, 1): 0.0, (145, 2): 0.0, (145, 3): 0.0, (69, 1): 0.0, (69, 2): 0.0, (69, 3): 0.0, (229, 1): 0.0, (229, 2): 0.0, (229, 3): 0.0, (424, 1): 0.0, (424, 2): 0.0, (424, 3): 0.0, (54, 1): 0.0, (54, 2): 0.0, (54, 3): 0.0, (374, 1): 0.0, (374, 2): 0.0, (374, 3): 0.0, (116, 1): 0.0, (116, 2): 0.0, (116, 3): 0.0, (316, 1): 0.0, (316, 2): 0.0, (316, 3): 0.0, (279, 1): 0.0, (279, 2): 0.0, (279, 3): 0.0, (126, 1): 0.0, (126, 2): 0.0, (126, 3): 0.0, (348, 1): 0.0, (348, 2): 0.0, (348, 3): 0.0, (65, 1): 0.0, (65, 2): 0.0, (65, 3): 0.0, (208, 1): 0.0, (208, 2): 0.0, (208, 3): 0.0, (223, 1): 0.0, (223, 2): 0.0, (223, 3): 0.0, (317, 1): 0.0, (317, 2): 0.0, (317, 3): 0.0, (328, 1): 0.0, (328, 2): 0.0, (328, 3): 0.0, (77, 1): 0.0, (77, 2): 0.0, (77, 3): 0.0, (197, 1): 0.0, (197, 2): 0.0, (197, 3): 0.0, (80, 1): 0.0, (80, 2): 0.0, (80, 3): 0.0, (276, 1): 0.0, (276, 2): 0.0, (276, 3): 0.0, (111, 1): 0.0, (111, 2): 0.0, (111, 3): 0.0, (418, 1): 0.0, (418, 2): 0.0, (418, 3): 0.0, (94, 1): 0.0, (94, 2): 0.0, (94, 3): 0.0, (445, 1): 0.0, (445, 2): 0.0, (445, 3): 0.0, (164, 1): 0.0, (164, 2): 0.0, (164, 3): 0.0, (456, 1): 0.0, (456, 2): 0.0, (456, 3): 0.0, (416, 1): 0.0, (416, 2): 0.0, (416, 3): 0.0, (122, 1): 0.0, (122, 2): 0.0, (122, 3): 0.0, (73, 1): 0.0, (73, 2): 0.0, (73, 3): 0.0, (114, 1): 0.0, (114, 2): 0.0, (114, 3): 0.0, (361, 1): 0.0, (361, 2): 0.0, (361, 3): 0.0, (2, 1): 0.0, (2, 2): 0.0, (2, 3): 0.0, (217, 1): 0.0, (217, 2): 0.0, (217, 3): 0.0, (234, 1): 0.0, (234, 2): 0.0, (234, 3): 0.0, (265, 1): 0.0, (265, 2): 0.0, (265, 3): 0.0, (39, 1): 0.0, (39, 2): 0.0, (39, 3): 0.0, (138, 1): 0.0, (138, 2): 0.0, (138, 3): 0.0, (433, 1): 0.0, (433, 2): 0.0, (433, 3): 0.0, (30, 1): 0.0, (30, 2): 0.0, (30, 3): 0.0, (26, 1): 0.0, (26, 2): 0.0, (26, 3): 0.0, (9, 1): 0.0, (9, 2): 0.0, (9, 3): 0.0, (259, 1): 0.0, (259, 2): 0.0, (259, 3): 0.0, (212, 1): 0.0, (212, 2): 0.0, (212, 3): 0.0, (454, 1): 0.0, (454, 2): 0.0, (454, 3): 0.0, (231, 1): 0.0, (231, 2): 0.0, (231, 3): 0.0, (38, 1): 0.0, (38, 2): 0.0, (38, 3): 0.0, (144, 1): 0.0, (144, 2): 0.0, (144, 3): 0.0, (162, 1): 0.0, (162, 2): 0.0, (162, 3): 0.0, (293, 1): 0.0, (293, 2): 0.0, (293, 3): 0.0, (262, 1): 0.0, (262, 2): 0.0, (262, 3): 0.0, (370, 1): 0.0, (370, 2): 0.0, (370, 3): 0.0, (42, 1): 0.0, (42, 2): 0.0, (42, 3): 0.0, (315, 1): 0.0, (315, 2): 0.0, (315, 3): 0.0, (470, 1): 0.0, (470, 2): 0.0, (470, 3): 0.0, (236, 1): 0.0, (236, 2): 0.0, (236, 3): 0.0, (238, 1): 0.0, (238, 2): 0.0, (238, 3): 0.0, (200, 1): 0.0, (200, 2): 0.0, (200, 3): 0.0, (440, 1): 0.0, (440, 2): 0.0, (440, 3): 0.0, (339, 1): 0.0, (339, 2): 0.0, (339, 3): 0.0, (28, 1): 0.0, (28, 2): 0.0, (28, 3): 0.0, (384, 1): 0.0, (384, 2): 0.0, (384, 3): 0.0, (252, 1): 0.0, (252, 2): 0.0, (252, 3): 0.0, (284, 1): 0.0, (284, 2): 0.0, (284, 3): 0.0, (245, 1): 0.0, (245, 2): 0.0, (245, 3): 0.0, (214, 1): 0.0, (214, 2): 0.0, (214, 3): 0.0, (47, 1): 0.0, (47, 2): 0.0, (47, 3): 0.0, (198, 1): 0.0, (198, 2): 0.0, (198, 3): 0.0, (406, 1): 0.0, (406, 2): 0.0, (406, 3): 0.0, (136, 1): 0.0, (136, 2): 0.0, (136, 3): 0.0, (163, 1): 0.0, (163, 2): 0.0, (163, 3): 0.0, (92, 1): 0.0, (92, 2): 0.0, (92, 3): 0.0, (100, 1): 0.0, (100, 2): 0.0, (100, 3): 0.0, (303, 1): 0.0, (303, 2): 0.0, (303, 3): 0.0, (43, 1): 0.0, (43, 2): 0.0, (43, 3): 0.0, (230, 1): 0.0, (230, 2): 0.0, (230, 3): 0.0, (45, 1): 0.0, (45, 2): 0.0, (45, 3): 0.0, (27, 1): 0.0, (27, 2): 0.0, (27, 3): 0.0, (56, 1): 0.0, (56, 2): 0.0, (56, 3): 0.0, (139, 1): 0.0, (139, 2): 0.0, (139, 3): 0.0, (411, 1): 0.0, (411, 2): 0.0, (411, 3): 0.0, (368, 1): 0.0, (368, 2): 0.0, (368, 3): 0.0, (269, 1): 0.0, (269, 2): 0.0, (269, 3): 0.0, (125, 1): 0.0, (125, 2): 0.0, (125, 3): 0.0, (76, 1): 0.0, (76, 2): 0.0, (76, 3): 0.0, (253, 1): 0.0, (253, 2): 0.0, (253, 3): 0.0, (165, 1): 0.0, (165, 2): 0.0, (165, 3): 0.0, (41, 1): 0.0, (41, 2): 0.0, (41, 3): 0.0, (72, 1): 0.0, (72, 2): 0.0, (72, 3): 0.0, (35, 1): 0.0, (35, 2): 0.0, (35, 3): 0.0, (86, 1): 0.0, (86, 2): 0.0, (86, 3): 0.0, (123, 1): 0.0, (123, 2): 0.0, (123, 3): 0.0, (344, 1): 0.0, (344, 2): 0.0, (344, 3): 0.0, (439, 1): 0.0, (439, 2): 0.0, (439, 3): 0.0, (235, 1): 0.0, (235, 2): 0.0, (235, 3): 0.0, (33, 1): 0.0, (33, 2): 0.0, (33, 3): 0.0, (428, 1): 0.0, (428, 2): 0.0, (428, 3): 0.0, (422, 1): 0.0, (422, 2): 0.0, (422, 3): 0.0, (187, 1): 0.0, (187, 2): 0.0, (187, 3): 0.0, (166, 1): 0.0, (166, 2): 0.0, (166, 3): 0.0, (15, 1): 0.0, (15, 2): 0.0, (15, 3): 0.0, (375, 1): 0.0, (375, 2): 0.0, (375, 3): 0.0, (184, 1): 0.0, (184, 2): 0.0, (184, 3): 0.0, (381, 1): 0.0, (381, 2): 0.0, (381, 3): 0.0, (476, 1): 0.0, (476, 2): 0.0, (476, 3): 0.0, (105, 1): 0.0, (105, 2): 0.0, (105, 3): 0.0, (44, 1): 0.0, (44, 2): 0.0, (44, 3): 1.0, (168, 1): 0.0, (168, 2): 0.0, (168, 3): 0.0, (285, 1): 0.0, (285, 2): 0.0, (285, 3): 0.0, (410, 1): 0.0, (410, 2): 0.0, (410, 3): 0.0, (270, 1): 0.0, (270, 2): 0.0, (270, 3): 0.0, (294, 1): 0.0, (294, 2): 0.0, (294, 3): 0.0, (17, 1): 0.0, (17, 2): 0.0, (17, 3): 0.0, (106, 1): 0.0, (106, 2): 0.0, (106, 3): 0.0, (274, 1): 0.0, (274, 2): 0.0, (274, 3): 0.0, (268, 1): 0.0, (268, 2): 0.0, (268, 3): 0.0, (289, 1): 0.0, (289, 2): 0.0, (289, 3): 0.0, (175, 1): 0.0, (175, 2): 0.0, (175, 3): 0.0, (5, 1): 0.0, (5, 2): 0.0, (5, 3): 0.0, (121, 1): 0.0, (121, 2): 0.0, (121, 3): 0.0, (444, 1): 0.0, (444, 2): 0.0, (444, 3): 0.0, (93, 1): 0.0, (93, 2): 0.0, (93, 3): 0.0, (119, 1): 0.0, (119, 2): 0.0, (119, 3): 0.0, (399, 1): 0.0, (399, 2): 0.0, (399, 3): 0.0, (160, 1): 0.0, (160, 2): 0.0, (160, 3): 0.0, (79, 1): 0.0, (79, 2): 0.0, (79, 3): 3.0, (155, 1): 0.0, (155, 2): 0.0, (155, 3): 0.0, (74, 1): 0.0, (74, 2): 0.0, (74, 3): 0.0, (460, 1): 0.0, (460, 2): 0.0, (460, 3): 0.0, (18, 1): 0.0, (18, 2): 0.0, (18, 3): 0.0, (67, 1): 0.0, (67, 2): 0.0, (67, 3): 0.0, (167, 1): 0.0, (167, 2): 0.0, (167, 3): 0.0, (319, 1): 0.0, (319, 2): 0.0, (319, 3): 0.0, (249, 1): 0.0, (249, 2): 0.0, (249, 3): 0.0, (194, 1): 0.0, (194, 2): 0.0, (194, 3): 0.0, (233, 1): 0.0, (233, 2): 0.0, (233, 3): 0.0, (204, 1): 0.0, (204, 2): 0.0, (204, 3): 0.0, (296, 1): 0.0, (296, 2): 0.0, (296, 3): 0.0, (98, 1): 0.0, (98, 2): 0.0, (98, 3): 18.0, (307, 1): 0.0, (307, 2): 0.0, (307, 3): 0.0, (425, 1): 0.0, (425, 2): 0.0, (425, 3): 0.0, (351, 1): 0.0, (351, 2): 0.0, (351, 3): 0.0, (202, 1): 0.0, (202, 2): 0.0, (202, 3): 0.0, (278, 1): 0.0, (278, 2): 0.0, (278, 3): 0.0, (461, 1): 0.0, (461, 2): 0.0, (461, 3): 0.0, (352, 1): 0.0, (352, 2): 0.0, (352, 3): 0.0, (282, 1): 0.0, (282, 2): 0.0, (282, 3): 0.0, (102, 1): 0.0, (102, 2): 0.0, (102, 3): 0.0, (228, 1): 0.0, (228, 2): 0.0, (228, 3): 0.0, (201, 1): 2.0, (201, 2): 0.0, (201, 3): 0.0, (321, 1): 0.0, (321, 2): 0.0, (321, 3): 0.0, (402, 1): 0.0, (402, 2): 0.0, (402, 3): 0.0, (371, 1): 0.0, (371, 2): 0.0, (371, 3): 0.0, (390, 1): 0.0, (390, 2): 0.0, (390, 3): 0.0, (394, 1): 0.0, (394, 2): 0.0, (394, 3): 0.0, (350, 1): 0.0, (350, 2): 0.0, (350, 3): 0.0, (132, 1): 0.0, (132, 2): 0.0, (132, 3): 0.0, (196, 1): 0.0, (196, 2): 0.0, (196, 3): 0.0, (311, 1): 0.0, (311, 2): 0.0, (311, 3): 0.0, (141, 1): 0.0, (141, 2): 0.0, (141, 3): 0.0, (264, 1): 0.0, (264, 2): 0.0, (264, 3): 0.0, (466, 1): 0.0, (466, 2): 0.0, (466, 3): 0.0, (340, 1): 0.0, (340, 2): 0.0, (340, 3): 0.0, (465, 1): 0.0, (465, 2): 0.0, (465, 3): 0.0, (172, 1): 0.0, (172, 2): 0.0, (172, 3): 0.0, (257, 1): 0.0, (257, 2): 0.0, (257, 3): 0.0, (431, 1): 0.0, (431, 2): 0.0, (431, 3): 0.0, (298, 1): 0.0, (298, 2): 0.0, (298, 3): 0.0, (218, 1): 0.0, (218, 2): 0.0, (218, 3): 0.0, (385, 1): 0.0, (385, 2): 0.0, (385, 3): 0.0, (359, 1): 0.0, (359, 2): 0.0, (359, 3): 0.0, (251, 1): 0.0, (251, 2): 0.0, (251, 3): 0.0, (205, 1): 0.0, (205, 2): 0.0, (205, 3): 0.0, (417, 1): 0.0, (417, 2): 0.0, (417, 3): 0.0, (464, 1): 0.0, (464, 2): 0.0, (464, 3): 0.0, (310, 1): 0.0, (310, 2): 0.0, (310, 3): 0.0, (392, 1): 0.0, (392, 2): 0.0, (392, 3): 0.0, (71, 1): 0.0, (71, 2): 0.0, (71, 3): 0.0, (463, 1): 0.0, (463, 2): 0.0, (463, 3): 0.0, (113, 1): 0.0, (113, 2): 0.0, (113, 3): 0.0, (142, 1): 0.0, (142, 2): 0.0, (142, 3): 0.0, (280, 1): 0.0, (280, 2): 0.0, (280, 3): 0.0, (479, 1): 0.0, (479, 2): 0.0, (479, 3): 0.0, (193, 1): 0.0, (193, 2): 0.0, (193, 3): 0.0, (149, 1): 0.0, (149, 2): 0.0, (149, 3): 0.0, (112, 1): 0.0, (112, 2): 0.0, (112, 3): 0.0, (191, 1): 0.0, (191, 2): 0.0, (191, 3): 0.0, (437, 1): 1.0, (437, 2): 0.0, (437, 3): 0.0, (487, 1): 0.0, (487, 2): 0.0, (487, 3): 0.0, (386, 1): 0.0, (386, 2): 0.0, (386, 3): 0.0, (3, 1): 0.0, (3, 2): 0.0, (3, 3): 0.0, (308, 1): 0.0, (308, 2): 0.0, (308, 3): 0.0, (415, 1): 0.0, (415, 2): 0.0, (415, 3): 0.0, (473, 1): 0.0, (473, 2): 0.0, (473, 3): 0.0, (494, 1): 0.0, (494, 2): 0.0, (494, 3): 0.0, (295, 1): 0.0, (295, 2): 0.0, (295, 3): 0.0, (443, 1): 0.0, (443, 2): 0.0, (443, 3): 0.0, (32, 1): 0.0, (32, 2): 0.0, (32, 3): 0.0, (275, 1): 0.0, (275, 2): 0.0, (275, 3): 0.0, (173, 1): 0.0, (173, 2): 0.0, (173, 3): 0.0, (134, 1): 0.0, (134, 2): 0.0, (134, 3): 0.0, (480, 1): 0.0, (480, 2): 0.0, (480, 3): 0.0, (49, 1): 0.0, (49, 2): 0.0, (49, 3): 0.0, (318, 1): 0.0, (318, 2): 0.0, (318, 3): 0.0, (159, 1): 0.0, (159, 2): 0.0, (159, 3): 0.0, (16, 1): 0.0, (16, 2): 0.0, (16, 3): 0.0, (362, 1): 0.0, (362, 2): 0.0, (362, 3): 0.0, (215, 1): 0.0, (215, 2): 0.0, (215, 3): 0.0, (146, 1): 0.0, (146, 2): 0.0, (146, 3): 0.0, (408, 1): 0.0, (408, 2): 0.0, (408, 3): 0.0, (40, 1): 0.0, (40, 2): 0.0, (40, 3): 0.0, (85, 1): 0.0, (85, 2): 0.0, (85, 3): 2.0, (21, 1): 0.0, (21, 2): 0.0, (21, 3): 0.0, (441, 1): 0.0, (441, 2): 0.0, (441, 3): 0.0, (241, 1): 0.0, (241, 2): 0.0, (241, 3): 0.0, (322, 1): 0.0, (322, 2): 0.0, (322, 3): 0.0, (338, 1): 0.0, (338, 2): 0.0, (338, 3): 0.0, (84, 1): 0.0, (84, 2): 0.0, (84, 3): 0.0, (78, 1): 0.0, (78, 2): 0.0, (78, 3): 0.0, (373, 1): 0.0, (373, 2): 0.0, (373, 3): 0.0, (64, 1): 0.0, (64, 2): 0.0, (64, 3): 0.0, (469, 1): 0.0, (469, 2): 0.0, (469, 3): 0.0, (430, 1): 0.0, (430, 2): 1.0, (430, 3): 0.0, (14, 1): 0.0, (14, 2): 0.0, (14, 3): 0.0, (70, 1): 0.0, (70, 2): 0.0, (70, 3): 0.0, (483, 1): 0.0, (483, 2): 0.0, (483, 3): 0.0, (405, 1): 0.0, (405, 2): 0.0, (405, 3): 0.0, (356, 1): 0.0, (356, 2): 0.0, (356, 3): 0.0, (419, 1): 0.0, (419, 2): 0.0, (419, 3): 0.0, (37, 1): 0.0, (37, 2): 0.0, (37, 3): 0.0, (161, 1): 0.0, (161, 2): 0.0, (161, 3): 0.0, (154, 1): 0.0, (154, 2): 0.0, (154, 3): 0.0, (346, 1): 0.0, (346, 2): 0.0, (346, 3): 0.0, (477, 1): 0.0, (477, 2): 0.0, (477, 3): 0.0}\n",
     "output_type": "stream"
    },
    {
     "output_type": "execute_result",
     "execution_count": 111,
     "data": {
      "application/vnd.deepnote.dataframe.v3+json": {
       "column_count": 7,
       "row_count": 14,
       "columns": [
        {
         "name": "day",
         "dtype": "datetime64[ns]",
         "stats": {
          "unique_count": 3,
          "nan_count": 0,
          "min": "2022-02-16 00:00:00",
          "max": "2022-02-18 00:00:00",
          "histogram": [
           {
            "bin_start": 1644969600000000000,
            "bin_end": 1644986880000000000,
            "count": 6
           },
           {
            "bin_start": 1644986880000000000,
            "bin_end": 1645004160000000000,
            "count": 0
           },
           {
            "bin_start": 1645004160000000000,
            "bin_end": 1645021440000000000,
            "count": 0
           },
           {
            "bin_start": 1645021440000000000,
            "bin_end": 1645038720000000000,
            "count": 0
           },
           {
            "bin_start": 1645038720000000000,
            "bin_end": 1645056000000000000,
            "count": 0
           },
           {
            "bin_start": 1645056000000000000,
            "bin_end": 1645073280000000000,
            "count": 1
           },
           {
            "bin_start": 1645073280000000000,
            "bin_end": 1645090560000000000,
            "count": 0
           },
           {
            "bin_start": 1645090560000000000,
            "bin_end": 1645107840000000000,
            "count": 0
           },
           {
            "bin_start": 1645107840000000000,
            "bin_end": 1645125120000000000,
            "count": 0
           },
           {
            "bin_start": 1645125120000000000,
            "bin_end": 1645142400000000000,
            "count": 7
           }
          ]
         }
        },
        {
         "name": "day_nr",
         "dtype": "int64",
         "stats": {
          "unique_count": 3,
          "nan_count": 0,
          "min": "1",
          "max": "3",
          "histogram": [
           {
            "bin_start": 1,
            "bin_end": 1.2,
            "count": 6
           },
           {
            "bin_start": 1.2,
            "bin_end": 1.4,
            "count": 0
           },
           {
            "bin_start": 1.4,
            "bin_end": 1.6,
            "count": 0
           },
           {
            "bin_start": 1.6,
            "bin_end": 1.8,
            "count": 0
           },
           {
            "bin_start": 1.8,
            "bin_end": 2,
            "count": 0
           },
           {
            "bin_start": 2,
            "bin_end": 2.2,
            "count": 1
           },
           {
            "bin_start": 2.2,
            "bin_end": 2.4000000000000004,
            "count": 0
           },
           {
            "bin_start": 2.4000000000000004,
            "bin_end": 2.6,
            "count": 0
           },
           {
            "bin_start": 2.6,
            "bin_end": 2.8,
            "count": 0
           },
           {
            "bin_start": 2.8,
            "bin_end": 3,
            "count": 7
           }
          ]
         }
        },
        {
         "name": "article_number",
         "dtype": "int64",
         "stats": {
          "unique_count": 14,
          "nan_count": 0,
          "min": "11",
          "max": "437",
          "histogram": [
           {
            "bin_start": 11,
            "bin_end": 53.6,
            "count": 2
           },
           {
            "bin_start": 53.6,
            "bin_end": 96.2,
            "count": 3
           },
           {
            "bin_start": 96.2,
            "bin_end": 138.8,
            "count": 3
           },
           {
            "bin_start": 138.8,
            "bin_end": 181.4,
            "count": 1
           },
           {
            "bin_start": 181.4,
            "bin_end": 224,
            "count": 1
           },
           {
            "bin_start": 224,
            "bin_end": 266.6,
            "count": 0
           },
           {
            "bin_start": 266.6,
            "bin_end": 309.2,
            "count": 1
           },
           {
            "bin_start": 309.2,
            "bin_end": 351.8,
            "count": 0
           },
           {
            "bin_start": 351.8,
            "bin_end": 394.40000000000003,
            "count": 0
           },
           {
            "bin_start": 394.40000000000003,
            "bin_end": 437,
            "count": 3
           }
          ]
         }
        },
        {
         "name": "quantity_batch",
         "dtype": "float64",
         "stats": {
          "unique_count": 5,
          "nan_count": 0,
          "min": "1.0",
          "max": "18.0",
          "histogram": [
           {
            "bin_start": 1,
            "bin_end": 2.7,
            "count": 11
           },
           {
            "bin_start": 2.7,
            "bin_end": 4.4,
            "count": 1
           },
           {
            "bin_start": 4.4,
            "bin_end": 6.1,
            "count": 0
           },
           {
            "bin_start": 6.1,
            "bin_end": 7.8,
            "count": 0
           },
           {
            "bin_start": 7.8,
            "bin_end": 9.5,
            "count": 0
           },
           {
            "bin_start": 9.5,
            "bin_end": 11.2,
            "count": 0
           },
           {
            "bin_start": 11.2,
            "bin_end": 12.9,
            "count": 0
           },
           {
            "bin_start": 12.9,
            "bin_end": 14.6,
            "count": 1
           },
           {
            "bin_start": 14.6,
            "bin_end": 16.299999999999997,
            "count": 0
           },
           {
            "bin_start": 16.299999999999997,
            "bin_end": 18,
            "count": 1
           }
          ]
         }
        },
        {
         "name": "quantity",
         "dtype": "float64",
         "stats": {
          "unique_count": 5,
          "nan_count": 0,
          "min": "16.0",
          "max": "288.0",
          "histogram": [
           {
            "bin_start": 16,
            "bin_end": 43.2,
            "count": 11
           },
           {
            "bin_start": 43.2,
            "bin_end": 70.4,
            "count": 1
           },
           {
            "bin_start": 70.4,
            "bin_end": 97.6,
            "count": 0
           },
           {
            "bin_start": 97.6,
            "bin_end": 124.8,
            "count": 0
           },
           {
            "bin_start": 124.8,
            "bin_end": 152,
            "count": 0
           },
           {
            "bin_start": 152,
            "bin_end": 179.2,
            "count": 0
           },
           {
            "bin_start": 179.2,
            "bin_end": 206.4,
            "count": 0
           },
           {
            "bin_start": 206.4,
            "bin_end": 233.6,
            "count": 1
           },
           {
            "bin_start": 233.6,
            "bin_end": 260.79999999999995,
            "count": 0
           },
           {
            "bin_start": 260.79999999999995,
            "bin_end": 288,
            "count": 1
           }
          ]
         }
        },
        {
         "name": "article_revenue",
         "dtype": "int64",
         "stats": {
          "unique_count": 14,
          "nan_count": 0,
          "min": "583",
          "max": "1763",
          "histogram": [
           {
            "bin_start": 583,
            "bin_end": 701,
            "count": 1
           },
           {
            "bin_start": 701,
            "bin_end": 819,
            "count": 1
           },
           {
            "bin_start": 819,
            "bin_end": 937,
            "count": 1
           },
           {
            "bin_start": 937,
            "bin_end": 1055,
            "count": 2
           },
           {
            "bin_start": 1055,
            "bin_end": 1173,
            "count": 0
           },
           {
            "bin_start": 1173,
            "bin_end": 1291,
            "count": 4
           },
           {
            "bin_start": 1291,
            "bin_end": 1409,
            "count": 1
           },
           {
            "bin_start": 1409,
            "bin_end": 1527,
            "count": 0
           },
           {
            "bin_start": 1527,
            "bin_end": 1645,
            "count": 2
           },
           {
            "bin_start": 1645,
            "bin_end": 1763,
            "count": 2
           }
          ]
         }
        },
        {
         "name": "revenue_total",
         "dtype": "float64",
         "stats": {
          "unique_count": 14,
          "nan_count": 0,
          "min": "14640.0",
          "max": "361152.0",
          "histogram": [
           {
            "bin_start": 14640,
            "bin_end": 49291.2,
            "count": 10
           },
           {
            "bin_start": 49291.2,
            "bin_end": 83942.4,
            "count": 2
           },
           {
            "bin_start": 83942.4,
            "bin_end": 118593.59999999999,
            "count": 0
           },
           {
            "bin_start": 118593.59999999999,
            "bin_end": 153244.8,
            "count": 0
           },
           {
            "bin_start": 153244.8,
            "bin_end": 187896,
            "count": 0
           },
           {
            "bin_start": 187896,
            "bin_end": 222547.19999999998,
            "count": 0
           },
           {
            "bin_start": 222547.19999999998,
            "bin_end": 257198.39999999997,
            "count": 0
           },
           {
            "bin_start": 257198.39999999997,
            "bin_end": 291849.6,
            "count": 1
           },
           {
            "bin_start": 291849.6,
            "bin_end": 326500.8,
            "count": 0
           },
           {
            "bin_start": 326500.8,
            "bin_end": 361152,
            "count": 1
           }
          ]
         }
        },
        {
         "name": "_deepnote_index_column",
         "dtype": "int64"
        }
       ],
       "rows": [
        {
         "day": "2022-02-18T00:00:00.000000",
         "day_nr": 3,
         "article_number": 98,
         "quantity_batch": 18,
         "quantity": 288,
         "article_revenue": 1254,
         "revenue_total": 361152,
         "_deepnote_index_column": 1199
        },
        {
         "day": "2022-02-18T00:00:00.000000",
         "day_nr": 3,
         "article_number": 137,
         "quantity_batch": 2,
         "quantity": 32,
         "article_revenue": 1613,
         "revenue_total": 51616,
         "_deepnote_index_column": 425
        },
        {
         "day": "2022-02-18T00:00:00.000000",
         "day_nr": 3,
         "article_number": 287,
         "quantity_batch": 13,
         "quantity": 208,
         "article_revenue": 1340,
         "revenue_total": 278720,
         "_deepnote_index_column": 86
        },
        {
         "day": "2022-02-18T00:00:00.000000",
         "day_nr": 3,
         "article_number": 404,
         "quantity_batch": 2,
         "quantity": 32,
         "article_revenue": 1222,
         "revenue_total": 39104,
         "_deepnote_index_column": 473
        }
       ]
      },
      "text/plain": "            day  day_nr  article_number  quantity_batch  quantity  \\\n744  2022-02-16       1              11             1.0      16.0   \n186  2022-02-16       1              66             1.0      16.0   \n390  2022-02-16       1             124             1.0      16.0   \n108  2022-02-16       1             174             1.0      16.0   \n1230 2022-02-16       1             201             2.0      32.0   \n1344 2022-02-16       1             437             1.0      16.0   \n1450 2022-02-17       2             430             1.0      16.0   \n1103 2022-02-18       3              44             1.0      16.0   \n1160 2022-02-18       3              79             3.0      48.0   \n1418 2022-02-18       3              85             2.0      32.0   \n1199 2022-02-18       3              98            18.0     288.0   \n425  2022-02-18       3             137             2.0      32.0   \n86   2022-02-18       3             287            13.0     208.0   \n473  2022-02-18       3             404             2.0      32.0   \n\n      article_revenue  revenue_total  \n744              1028        16448.0  \n186              1186        18976.0  \n390              1046        16736.0  \n108               915        14640.0  \n1230              771        24672.0  \n1344             1194        19104.0  \n1450             1673        26768.0  \n1103             1763        28208.0  \n1160             1530        73440.0  \n1418              583        18656.0  \n1199             1254       361152.0  \n425              1613        51616.0  \n86               1340       278720.0  \n473              1222        39104.0  ",
      "text/html": "<div>\n<style scoped>\n    .dataframe tbody tr th:only-of-type {\n        vertical-align: middle;\n    }\n\n    .dataframe tbody tr th {\n        vertical-align: top;\n    }\n\n    .dataframe thead th {\n        text-align: right;\n    }\n</style>\n<table border=\"1\" class=\"dataframe\">\n  <thead>\n    <tr style=\"text-align: right;\">\n      <th></th>\n      <th>day</th>\n      <th>day_nr</th>\n      <th>article_number</th>\n      <th>quantity_batch</th>\n      <th>quantity</th>\n      <th>article_revenue</th>\n      <th>revenue_total</th>\n    </tr>\n  </thead>\n  <tbody>\n    <tr>\n      <th>744</th>\n      <td>2022-02-16</td>\n      <td>1</td>\n      <td>11</td>\n      <td>1.0</td>\n      <td>16.0</td>\n      <td>1028</td>\n      <td>16448.0</td>\n    </tr>\n    <tr>\n      <th>186</th>\n      <td>2022-02-16</td>\n      <td>1</td>\n      <td>66</td>\n      <td>1.0</td>\n      <td>16.0</td>\n      <td>1186</td>\n      <td>18976.0</td>\n    </tr>\n    <tr>\n      <th>390</th>\n      <td>2022-02-16</td>\n      <td>1</td>\n      <td>124</td>\n      <td>1.0</td>\n      <td>16.0</td>\n      <td>1046</td>\n      <td>16736.0</td>\n    </tr>\n    <tr>\n      <th>108</th>\n      <td>2022-02-16</td>\n      <td>1</td>\n      <td>174</td>\n      <td>1.0</td>\n      <td>16.0</td>\n      <td>915</td>\n      <td>14640.0</td>\n    </tr>\n    <tr>\n      <th>1230</th>\n      <td>2022-02-16</td>\n      <td>1</td>\n      <td>201</td>\n      <td>2.0</td>\n      <td>32.0</td>\n      <td>771</td>\n      <td>24672.0</td>\n    </tr>\n    <tr>\n      <th>1344</th>\n      <td>2022-02-16</td>\n      <td>1</td>\n      <td>437</td>\n      <td>1.0</td>\n      <td>16.0</td>\n      <td>1194</td>\n      <td>19104.0</td>\n    </tr>\n    <tr>\n      <th>1450</th>\n      <td>2022-02-17</td>\n      <td>2</td>\n      <td>430</td>\n      <td>1.0</td>\n      <td>16.0</td>\n      <td>1673</td>\n      <td>26768.0</td>\n    </tr>\n    <tr>\n      <th>1103</th>\n      <td>2022-02-18</td>\n      <td>3</td>\n      <td>44</td>\n      <td>1.0</td>\n      <td>16.0</td>\n      <td>1763</td>\n      <td>28208.0</td>\n    </tr>\n    <tr>\n      <th>1160</th>\n      <td>2022-02-18</td>\n      <td>3</td>\n      <td>79</td>\n      <td>3.0</td>\n      <td>48.0</td>\n      <td>1530</td>\n      <td>73440.0</td>\n    </tr>\n    <tr>\n      <th>1418</th>\n      <td>2022-02-18</td>\n      <td>3</td>\n      <td>85</td>\n      <td>2.0</td>\n      <td>32.0</td>\n      <td>583</td>\n      <td>18656.0</td>\n    </tr>\n    <tr>\n      <th>1199</th>\n      <td>2022-02-18</td>\n      <td>3</td>\n      <td>98</td>\n      <td>18.0</td>\n      <td>288.0</td>\n      <td>1254</td>\n      <td>361152.0</td>\n    </tr>\n    <tr>\n      <th>425</th>\n      <td>2022-02-18</td>\n      <td>3</td>\n      <td>137</td>\n      <td>2.0</td>\n      <td>32.0</td>\n      <td>1613</td>\n      <td>51616.0</td>\n    </tr>\n    <tr>\n      <th>86</th>\n      <td>2022-02-18</td>\n      <td>3</td>\n      <td>287</td>\n      <td>13.0</td>\n      <td>208.0</td>\n      <td>1340</td>\n      <td>278720.0</td>\n    </tr>\n    <tr>\n      <th>473</th>\n      <td>2022-02-18</td>\n      <td>3</td>\n      <td>404</td>\n      <td>2.0</td>\n      <td>32.0</td>\n      <td>1222</td>\n      <td>39104.0</td>\n    </tr>\n  </tbody>\n</table>\n</div>"
     },
     "metadata": {}
    }
   ],
   "execution_count": null
  },
  {
   "cell_type": "code",
   "source": "RI = getRemainingComponents(productionDf, Inventory(purchasingProcessed).purchasingForPeriod(periodBegin, periodEnd), bom)",
   "metadata": {
    "cell_id": "d482e529d6494e289ef8c4e34829e8f8",
    "tags": [],
    "deepnote_to_be_reexecuted": false,
    "source_hash": "465fa205",
    "execution_start": 1655068483448,
    "execution_millis": 28,
    "deepnote_cell_type": "code",
    "deepnote_cell_height": 348.03125,
    "deepnote_output_heights": [
     null,
     251.4375
    ]
   },
   "outputs": [
    {
     "name": "stdout",
     "text": "remaininginv component_number\n0        2009.0\n1        1998.0\n2           0.0\n3        4074.0\n4        4554.0\n         ...   \n1389    12598.0\n1390      691.0\n1391     6586.0\n1392        0.0\n1393    13100.0\nName: quantity, Length: 1380, dtype: float64\n",
     "output_type": "stream"
    }
   ],
   "execution_count": null
  },
  {
   "cell_type": "code",
   "source": "Inventory(purchasingProcessed).purchasingForPeriod(periodBegin, periodEnd)",
   "metadata": {
    "cell_id": "c843992221a84a05bcc04306ba5228a9",
    "tags": [],
    "deepnote_to_be_reexecuted": false,
    "source_hash": "cf48a109",
    "execution_start": 1655068529936,
    "execution_millis": 23,
    "deepnote_cell_type": "code",
    "deepnote_cell_height": 348.4375,
    "deepnote_output_heights": [
     251.4375
    ]
   },
   "outputs": [
    {
     "output_type": "execute_result",
     "execution_count": 116,
     "data": {
      "text/plain": "component_number\n0        2297\n1        1998\n2           0\n3        4074\n4        4842\n        ...  \n1389    13462\n1390      691\n1391     6586\n1392        0\n1393    13100\nName: quantity, Length: 1380, dtype: int64"
     },
     "metadata": {}
    }
   ],
   "execution_count": null
  },
  {
   "cell_type": "code",
   "source": "RI",
   "metadata": {
    "cell_id": "6c971cace6654eba928fe4fb5a6d77ee",
    "tags": [],
    "deepnote_to_be_reexecuted": false,
    "source_hash": "65a26ef3",
    "execution_start": 1655068516043,
    "execution_millis": 8,
    "deepnote_cell_type": "code",
    "deepnote_cell_height": 348.4375,
    "deepnote_output_heights": [
     251.53125
    ]
   },
   "outputs": [
    {
     "output_type": "execute_result",
     "execution_count": 115,
     "data": {
      "text/plain": "component_number\n0        2009.0\n1        1998.0\n2           0.0\n3        4074.0\n4        4554.0\n         ...   \n1389    12598.0\n1390      691.0\n1391     6586.0\n1392        0.0\n1393    13100.0\nName: quantity, Length: 1380, dtype: float64"
     },
     "metadata": {}
    }
   ],
   "execution_count": null
  },
  {
   "cell_type": "code",
   "source": "productionDf.to_csv(\"productionApril\")",
   "metadata": {
    "cell_id": "0dc42e21d57e43eda0b8b841a3816e53",
    "tags": [],
    "deepnote_to_be_reexecuted": true,
    "source_hash": "d3235723",
    "deepnote_cell_type": "code",
    "deepnote_cell_height": 66
   },
   "outputs": [],
   "execution_count": null
  },
  {
   "cell_type": "code",
   "source": "productionDf.groupby(by='day').sum()['quantity'].plot()\n",
   "metadata": {
    "cell_id": "6a6a94c808c44ed583ce6c259ab27246",
    "tags": [],
    "deepnote_to_be_reexecuted": false,
    "source_hash": "ae96bc60",
    "execution_start": 1655068553574,
    "execution_millis": 281,
    "deepnote_cell_type": "code",
    "deepnote_cell_height": 460.1875,
    "deepnote_output_heights": [
     21.1875,
     293
    ]
   },
   "outputs": [
    {
     "output_type": "execute_result",
     "execution_count": 117,
     "data": {
      "text/plain": "<AxesSubplot:xlabel='day'>"
     },
     "metadata": {}
    },
    {
     "data": {
      "text/plain": "<Figure size 432x288 with 1 Axes>",
      "image/png": "[encoded data removed]"
     },
     "metadata": {
      "needs_background": "light",
      "image/png": {
       "width": 386,
       "height": 291
      }
     },
     "output_type": "display_data"
    }
   ],
   "execution_count": null
  },
  {
   "cell_type": "code",
   "source": "productionDf.groupby(by='day').sum()['revenue_total'].plot()",
   "metadata": {
    "cell_id": "e2418a2094a840d9b99dab4f54a42d3e",
    "tags": [],
    "deepnote_to_be_reexecuted": false,
    "source_hash": "5b3f3c30",
    "execution_start": 1654983520185,
    "execution_millis": 338,
    "deepnote_cell_type": "code",
    "deepnote_cell_height": 442.1875,
    "deepnote_output_heights": [
     21.1875,
     293
    ]
   },
   "outputs": [
    {
     "output_type": "execute_result",
     "execution_count": 23,
     "data": {
      "text/plain": "<AxesSubplot:xlabel='day'>"
     },
     "metadata": {}
    },
    {
     "data": {
      "text/plain": "<Figure size 432x288 with 1 Axes>",
      "image/png": "[encoded data removed]"
     },
     "metadata": {
      "needs_background": "light",
      "image/png": {
       "width": 414,
       "height": 291
      }
     },
     "output_type": "display_data"
    }
   ],
   "execution_count": null
  },
  {
   "cell_type": "code",
   "source": "productionDf.groupby(by='day').sum()['revenue_total'].sum()",
   "metadata": {
    "cell_id": "b816f67227e94651ac8d321d0536a411",
    "tags": [],
    "deepnote_to_be_reexecuted": false,
    "source_hash": "5c43ec5c",
    "execution_start": 1654983523359,
    "execution_millis": 8,
    "deepnote_cell_type": "code",
    "deepnote_cell_height": 118.1875,
    "deepnote_output_heights": [
     21.1875
    ]
   },
   "outputs": [
    {
     "output_type": "execute_result",
     "execution_count": 24,
     "data": {
      "text/plain": "988240.0"
     },
     "metadata": {}
    }
   ],
   "execution_count": null
  },
  {
   "cell_type": "markdown",
   "source": "### Loop over all periods",
   "metadata": {
    "cell_id": "91a57994bed2492b8c96545c4dd8adc7",
    "tags": [],
    "deepnote_cell_type": "markdown",
    "deepnote_cell_height": 62
   }
  },
  {
   "cell_type": "code",
   "source": "def createProductionDf(x, daysInPeriod, articles):\n    productionDict = {i:_.value() for i,_ in x.items()}\n    productionDf = pd.DataFrame( productionDict.values(), index = productionDict.keys(), columns=['quantity_batch'])\n    productionDf = productionDf.reset_index()\n    productionDf.columns = ['article_number', 'day_nr', 'quantity_batch']\n    productionDf['day'] = productionDf['day_nr'].apply(lambda el: daysInPeriod[el-1])\n    productionDf = productionDf[['day','day_nr','article_number', 'quantity_batch']].sort_values(by=['day_nr','article_number'])\n    productionDf['quantity'] = productionDf['quantity_batch'] * Config.BATCH_SIZE\n    revenue = articles.set_index('article_number')['revenue'].to_dict()\n    productionDf['article_revenue'] = productionDf['article_number'].apply(lambda el: revenue[el])\n    productionDf['revenue_total'] = productionDf['article_revenue'] * productionDf['quantity'] \n    return productionDf[productionDf['quantity'] > 0]",
   "metadata": {
    "cell_id": "bd215f8bf0c345748debb7d8e4deacaa",
    "tags": [],
    "deepnote_to_be_reexecuted": false,
    "source_hash": "c94b3824",
    "execution_start": 1655061910792,
    "execution_millis": 1,
    "deepnote_cell_type": "code",
    "deepnote_cell_height": 279
   },
   "outputs": [],
   "execution_count": null
  },
  {
   "cell_type": "code",
   "source": "def getRemainingComponents(productionDf:pd.DataFrame, totalPeriodInventory :pd.Series, bom):\n    #take a productionDf and \n    #productionDf dataframe with columns article_number, quantity_tot\n    #totalPeriodInventory  series with index component number values quantity\n    productionDfGrouped = completeProductionDf.groupby(by='article_number').sum()['quantity']\n    componentUsage = pd.merge(left=completeProductionDfGrouped, right=bom, left_on='article_number', right_on='article_number', how ='left')\n    componentUsage['quantity'] = componentUsage['quantity_x'] * componentUsage['quantity_y']\n    componentUsage = componentUsage.groupby(by='component_number').sum()['quantity']\n    remainingInventory = totalPeriodInventory.subtract(componentUsage, fill_value=0) \n    print(\"remaininginv\", remainingInventory)\n    #maybe only q>0\n    return remainingInventory\n",
   "metadata": {
    "cell_id": "f5c7c36eab114501934d75c3bd11f983",
    "tags": [],
    "deepnote_to_be_reexecuted": false,
    "source_hash": "d4dadef5",
    "execution_start": 1655064653620,
    "execution_millis": 0,
    "deepnote_cell_type": "code",
    "deepnote_cell_height": 297
   },
   "outputs": [],
   "execution_count": null
  },
  {
   "cell_type": "code",
   "source": "def completeHorizonMultiplePeriodILP(periodBegin, periodEnd, articles, purchasing, bom, nPeriods):\n    daysInPeriod = getBusDaysInPeriod(periodBegin, periodEnd)\n    periods = np.array_split(daysInPeriod, nPeriods)\n    productionDfs = []\n    remainingInventory = None\n    for i, period in enumerate(periods):\n        print(f\"Solving for period {i}: {period[0]} - {period[-1]}\")\n        periodPurchasing = purchasing[purchasing['date'].between(period[0], period[1], inclusive='both')]\n        inv = Inventory(periodPurchasing)\n        print(\"len before addBeginInv\", len(inv.purchasing))\n        inv = inv.addBeginningInv(remainingInventory)\n        print(\"after\", len(inv.purchasing))\n        print(inv.purchasing)\n        model, x = multiPeriodILP(daysInPeriod=period, articles = articlesBatch, inv = inv, bom = bomBatch)\n        status = model.solve()\n        productionDf = createProductionDf(x, period, articles)\n        print(len(productionDf))\n        remainingInventory = getRemainingComponents(productionDf, inv.purchasingForPeriod(period[0], period[-1]), bom)\n        productionDfs.append(productionDf)\n    completeProductionDf = pd.concat(productionDfs)\n    return completeProductionDf",
   "metadata": {
    "cell_id": "2d62b9a559db4bda959edfe057cf122e",
    "tags": [],
    "deepnote_to_be_reexecuted": false,
    "source_hash": "28fdff7b",
    "execution_start": 1655064660619,
    "execution_millis": 1,
    "deepnote_cell_type": "code",
    "deepnote_cell_height": 441
   },
   "outputs": [],
   "execution_count": null
  },
  {
   "cell_type": "code",
   "source": "periodBegin = pd.Timestamp('2022-02-16')\nperiodEnd = pd.Timestamp('2022-08-15') \nnPeriods = 20\ncompleteProductionDf = completeHorizonMultiplePeriodILP(periodBegin, periodEnd, articles = articlesBatch, purchasing = purchasingProcessed, bom = bomBatch, nPeriods=nPeriods)",
   "metadata": {
    "cell_id": "50c9b0d61e7642f182cf24992ec33366",
    "tags": [],
    "deepnote_to_be_reexecuted": false,
    "source_hash": "100dab7",
    "execution_start": 1655064662864,
    "execution_millis": 720919,
    "deepnote_cell_type": "code",
    "deepnote_cell_height": 1455,
    "deepnote_output_heights": [
     null,
     607
    ]
   },
   "outputs": [
    {
     "name": "stdout",
     "text": "Solving for period 0: 2022-02-16 00:00:00 - 2022-02-24 00:00:00\nlen before addBeginInv 1145\nafter 1145\n       component_number       date  quantity\n0                     0 2022-02-16      2297\n34                    1 2022-02-16      1998\n126                   3 2022-02-16      4074\n132                   4 2022-02-16      4842\n138                   5 2022-02-16       406\n...                 ...        ...       ...\n62560              1388 2022-02-16      5387\n62599              1389 2022-02-16     13462\n62694              1390 2022-02-16       691\n62731              1391 2022-02-16      6586\n62804              1393 2022-02-16     13100\n\n[1145 rows x 3 columns]\nMulti period ILP for period 2022-02-16 00:00:00 to 2022-02-24 00:00:00\nThis entails 7 days: [Timestamp('2022-02-16 00:00:00', freq='B')\n Timestamp('2022-02-17 00:00:00', freq='B')\n Timestamp('2022-02-18 00:00:00', freq='B')\n Timestamp('2022-02-21 00:00:00', freq='B')\n Timestamp('2022-02-22 00:00:00', freq='B')\n Timestamp('2022-02-23 00:00:00', freq='B')\n Timestamp('2022-02-24 00:00:00', freq='B')]\n7,139314\nremaininginv component_number\n0       -2311.0\n1        1998.0\n2           0.0\n3        4074.0\n4         234.0\n         ...   \n1389     -362.0\n1390      691.0\n1391     6586.0\n1392        0.0\n1393    13100.0\nName: quantity, Length: 1380, dtype: float64\nSolving for period 1: 2022-02-25 00:00:00 - 2022-03-07 00:00:00\nlen before addBeginInv 11\nafter 1391\n       component_number       date  quantity\n3948                 98 2022-02-25       0.0\n15254               361 2022-02-25       0.0\n269                  11 2022-02-28       0.0\n4322                108 2022-02-28       0.0\n11522               268 2022-02-28       0.0\n...                 ...        ...       ...\n1375               1389 2022-02-25    -362.0\n1376               1390 2022-02-25     691.0\n1377               1391 2022-02-25    6586.0\n1378               1392 2022-02-25       0.0\n1379               1393 2022-02-25   13100.0\n\n[1391 rows x 3 columns]\nMulti period ILP for period 2022-02-25 00:00:00 to 2022-03-07 00:00:00\nThis entails 7 days: [Timestamp('2022-02-25 00:00:00', freq='B')\n Timestamp('2022-02-28 00:00:00', freq='B')\n Timestamp('2022-03-01 00:00:00', freq='B')\n Timestamp('2022-03-02 00:00:00', freq='B')\n Timestamp('2022-03-03 00:00:00', freq='B')\n Timestamp('2022-03-04 00:00:00', freq='B')\n Timestamp('2022-03-07 00:00:00', freq='B')]\n7,13930\nremaininginv component_number\n0       -4608.0\n1        1998.0\n2           0.0\n3        4074.0\n4       -4374.0\n         ...   \n1389   -13824.0\n1390      691.0\n1391     6586.0\n1392        0.0\n1393    13100.0\nName: quantity, Length: 1380, dtype: float64\nSolving for period 2: 2022-03-08 00:00:00 - 2022-03-16 00:00:00\nlen before addBeginInv 111\nafter 1491\n      component_number       date  quantity\n872                 25 2022-03-08       0.0\n3950                98 2022-03-08       0.0\n5996               149 2022-03-08       0.0\n7088               181 2022-03-08      40.0\n7483               191 2022-03-08       0.0\n...                ...        ...       ...\n1375              1389 2022-03-08  -13824.0\n1376              1390 2022-03-08     691.0\n1377              1391 2022-03-08    6586.0\n1378              1392 2022-03-08       0.0\n1379              1393 2022-03-08   13100.0\n\n[1491 rows x 3 columns]\nMulti period ILP for period 2022-03-08 00:00:00 to 2022-03-16 00:00:00\nThis entails 7 days: [Timestamp('2022-03-08 00:00:00', freq='B')\n Timestamp('2022-03-09 00:00:00', freq='B')\n Timestamp('2022-03-10 00:00:00', freq='B')\n Timestamp('2022-03-11 00:00:00', freq='B')\n Timestamp('2022-03-14 00:00:00', freq='B')\n Timestamp('2022-03-15 00:00:00', freq='B')\n Timestamp('2022-03-16 00:00:00', freq='B')]\n7,13930\nremaininginv component_number\n0       -4608.0\n1        1998.0\n2           0.0\n3        4074.0\n4       -4608.0\n         ...   \n1389   -13824.0\n1390      691.0\n1391     6586.0\n1392        0.0\n1393    13100.0\nName: quantity, Length: 1380, dtype: float64\nSolving for period 3: 2022-03-17 00:00:00 - 2022-03-25 00:00:00\nlen before addBeginInv 191\nafter 1571\n      component_number       date  quantity\n806                 21 2022-03-17     142.0\n2004                49 2022-03-17     165.0\n2446                57 2022-03-17      16.0\n2470                58 2022-03-17     384.0\n2869                67 2022-03-17     600.0\n...                ...        ...       ...\n1375              1389 2022-03-17  -13824.0\n1376              1390 2022-03-17     691.0\n1377              1391 2022-03-17    6586.0\n1378              1392 2022-03-17       0.0\n1379              1393 2022-03-17   13100.0\n\n[1571 rows x 3 columns]\nMulti period ILP for period 2022-03-17 00:00:00 to 2022-03-25 00:00:00\nThis entails 7 days: [Timestamp('2022-03-17 00:00:00', freq='B')\n Timestamp('2022-03-18 00:00:00', freq='B')\n Timestamp('2022-03-21 00:00:00', freq='B')\n Timestamp('2022-03-22 00:00:00', freq='B')\n Timestamp('2022-03-23 00:00:00', freq='B')\n Timestamp('2022-03-24 00:00:00', freq='B')\n Timestamp('2022-03-25 00:00:00', freq='B')]\n7,13930\nremaininginv component_number\n0       -4608.0\n1        1998.0\n2           0.0\n3        4074.0\n4       -4608.0\n         ...   \n1389   -13824.0\n1390      691.0\n1391     6586.0\n1392        0.0\n1393    13100.0\nName: quantity, Length: 1380, dtype: float64\nSolving for period 4: 2022-03-28 00:00:00 - 2022-04-05 00:00:00\nlen before addBeginInv 157\nafter 1537\n      component_number       date  quantity\n276                 11 2022-03-28       0.0\n380                 12 2022-03-28    1000.0\n473                 13 2022-03-28   29600.0\n621                 18 2022-03-28    6000.0\n1079                30 2022-03-28     600.0\n...                ...        ...       ...\n1375              1389 2022-03-28  -13824.0\n1376              1390 2022-03-28     691.0\n1377              1391 2022-03-28    6586.0\n1378              1392 2022-03-28       0.0\n1379              1393 2022-03-28   13100.0\n\n[1537 rows x 3 columns]\nMulti period ILP for period 2022-03-28 00:00:00 to 2022-04-05 00:00:00\nThis entails 7 days: [Timestamp('2022-03-28 00:00:00', freq='B')\n Timestamp('2022-03-29 00:00:00', freq='B')\n Timestamp('2022-03-30 00:00:00', freq='B')\n Timestamp('2022-03-31 00:00:00', freq='B')\n Timestamp('2022-04-01 00:00:00', freq='B')\n Timestamp('2022-04-04 00:00:00', freq='B')\n Timestamp('2022-04-05 00:00:00', freq='B')]\n7,13930\nremaininginv component_number\n0       -4608.0\n1        1998.0\n2           0.0\n3        4074.0\n4       -4608.0\n         ...   \n1389   -13824.0\n1390      691.0\n1391     6586.0\n1392        0.0\n1393    13100.0\nName: quantity, Length: 1380, dtype: float64\nSolving for period 5: 2022-04-06 00:00:00 - 2022-04-14 00:00:00\nlen before addBeginInv 70\nafter 1450\n      component_number       date  quantity\n740                 19 2022-04-06     912.0\n2697                65 2022-04-06    1704.0\n3755                93 2022-04-06     420.0\n4008                99 2022-04-06    1100.0\n6640               167 2022-04-06     500.0\n...                ...        ...       ...\n1375              1389 2022-04-06  -13824.0\n1376              1390 2022-04-06     691.0\n1377              1391 2022-04-06    6586.0\n1378              1392 2022-04-06       0.0\n1379              1393 2022-04-06   13100.0\n\n[1450 rows x 3 columns]\nMulti period ILP for period 2022-04-06 00:00:00 to 2022-04-14 00:00:00\nThis entails 7 days: [Timestamp('2022-04-06 00:00:00', freq='B')\n Timestamp('2022-04-07 00:00:00', freq='B')\n Timestamp('2022-04-08 00:00:00', freq='B')\n Timestamp('2022-04-11 00:00:00', freq='B')\n Timestamp('2022-04-12 00:00:00', freq='B')\n Timestamp('2022-04-13 00:00:00', freq='B')\n Timestamp('2022-04-14 00:00:00', freq='B')]\n7,13930\nremaininginv component_number\n0       -4608.0\n1        1998.0\n2           0.0\n3        4074.0\n4       -4608.0\n         ...   \n1389   -13824.0\n1390      691.0\n1391     6586.0\n1392        0.0\n1393    13100.0\nName: quantity, Length: 1380, dtype: float64\nSolving for period 6: 2022-04-15 00:00:00 - 2022-04-25 00:00:00\nlen before addBeginInv 302\nafter 1682\n      component_number       date  quantity\n826                 23 2022-04-15       4.0\n877                 25 2022-04-15       0.0\n2007                49 2022-04-15     736.0\n3588                87 2022-04-15     180.0\n7093               181 2022-04-15      64.0\n...                ...        ...       ...\n1375              1389 2022-04-15  -13824.0\n1376              1390 2022-04-15     691.0\n1377              1391 2022-04-15    6586.0\n1378              1392 2022-04-15       0.0\n1379              1393 2022-04-15   13100.0\n\n[1682 rows x 3 columns]\nMulti period ILP for period 2022-04-15 00:00:00 to 2022-04-25 00:00:00\nThis entails 7 days: [Timestamp('2022-04-15 00:00:00', freq='B')\n Timestamp('2022-04-18 00:00:00', freq='B')\n Timestamp('2022-04-19 00:00:00', freq='B')\n Timestamp('2022-04-20 00:00:00', freq='B')\n Timestamp('2022-04-21 00:00:00', freq='B')\n Timestamp('2022-04-22 00:00:00', freq='B')\n Timestamp('2022-04-25 00:00:00', freq='B')]\n7,13930\nremaininginv component_number\n0       -4608.0\n1        1998.0\n2           0.0\n3        4074.0\n4       -4608.0\n         ...   \n1389   -13824.0\n1390      691.0\n1391     6586.0\n1392        0.0\n1393    13380.0\nName: quantity, Length: 1380, dtype: float64\nSolving for period 7: 2022-04-26 00:00:00 - 2022-05-04 00:00:00\nlen before addBeginInv 72\nafter 1452\n       component_number       date  quantity\n1875                 43 2022-04-26      96.0\n2473                 58 2022-04-26     208.0\n4538                111 2022-04-26    1960.0\n12775               304 2022-04-26   14000.0\n13378               318 2022-04-26     600.0\n...                 ...        ...       ...\n1375               1389 2022-04-26  -13824.0\n1376               1390 2022-04-26     691.0\n1377               1391 2022-04-26    6586.0\n1378               1392 2022-04-26       0.0\n1379               1393 2022-04-26   13380.0\n\n[1452 rows x 3 columns]\nMulti period ILP for period 2022-04-26 00:00:00 to 2022-05-04 00:00:00\nThis entails 7 days: [Timestamp('2022-04-26 00:00:00', freq='B')\n Timestamp('2022-04-27 00:00:00', freq='B')\n Timestamp('2022-04-28 00:00:00', freq='B')\n Timestamp('2022-04-29 00:00:00', freq='B')\n Timestamp('2022-05-02 00:00:00', freq='B')\n Timestamp('2022-05-03 00:00:00', freq='B')\n Timestamp('2022-05-04 00:00:00', freq='B')]\n7,13930\nremaininginv component_number\n0       -4608.0\n1        1998.0\n2           0.0\n3        4074.0\n4       -4608.0\n         ...   \n1389   -13824.0\n1390      691.0\n1391     6586.0\n1392        0.0\n1393    13380.0\nName: quantity, Length: 1380, dtype: float64\nSolving for period 8: 2022-05-05 00:00:00 - 2022-05-13 00:00:00\nlen before addBeginInv 69\nafter 1449\n      component_number       date  quantity\n1258                32 2022-05-05    2400.0\n3162                73 2022-05-05      75.0\n4340               108 2022-05-05    2000.0\n4428               109 2022-05-05    1600.0\n5356               129 2022-05-05      75.0\n...                ...        ...       ...\n1375              1389 2022-05-05  -13824.0\n1376              1390 2022-05-05     691.0\n1377              1391 2022-05-05    6586.0\n1378              1392 2022-05-05       0.0\n1379              1393 2022-05-05   13380.0\n\n[1449 rows x 3 columns]\nMulti period ILP for period 2022-05-05 00:00:00 to 2022-05-13 00:00:00\nThis entails 7 days: [Timestamp('2022-05-05 00:00:00', freq='B')\n Timestamp('2022-05-06 00:00:00', freq='B')\n Timestamp('2022-05-09 00:00:00', freq='B')\n Timestamp('2022-05-10 00:00:00', freq='B')\n Timestamp('2022-05-11 00:00:00', freq='B')\n Timestamp('2022-05-12 00:00:00', freq='B')\n Timestamp('2022-05-13 00:00:00', freq='B')]\n7,13930\nremaininginv component_number\n0       -4608.0\n1        1998.0\n2           0.0\n3        4074.0\n4       -4608.0\n         ...   \n1389   -13824.0\n1390      691.0\n1391     6586.0\n1392        0.0\n1393    13380.0\nName: quantity, Length: 1380, dtype: float64\nSolving for period 9: 2022-05-16 00:00:00 - 2022-05-23 00:00:00\nlen before addBeginInv 291\nafter 1671\n      component_number       date  quantity\n36                   2 2022-05-16     840.0\n127                  3 2022-05-16   10000.0\n243                  9 2022-05-16      48.0\n480                 13 2022-05-16   20000.0\n630                 18 2022-05-16    3700.0\n...                ...        ...       ...\n1375              1389 2022-05-16  -13824.0\n1376              1390 2022-05-16     691.0\n1377              1391 2022-05-16    6586.0\n1378              1392 2022-05-16       0.0\n1379              1393 2022-05-16   13380.0\n\n[1671 rows x 3 columns]\nMulti period ILP for period 2022-05-16 00:00:00 to 2022-05-23 00:00:00\nThis entails 6 days: [Timestamp('2022-05-16 00:00:00', freq='B')\n Timestamp('2022-05-17 00:00:00', freq='B')\n Timestamp('2022-05-18 00:00:00', freq='B')\n Timestamp('2022-05-19 00:00:00', freq='B')\n Timestamp('2022-05-20 00:00:00', freq='B')\n Timestamp('2022-05-23 00:00:00', freq='B')]\n6,13930\nremaininginv component_number\n0       -4608.0\n1        1998.0\n2         840.0\n3       14074.0\n4       -4608.0\n         ...   \n1389   -13824.0\n1390      691.0\n1391     6586.0\n1392        0.0\n1393    13680.0\nName: quantity, Length: 1380, dtype: float64\nSolving for period 10: 2022-05-24 00:00:00 - 2022-05-31 00:00:00\nlen before addBeginInv 73\nafter 1453\n      component_number       date  quantity\n4287               105 2022-05-24     320.0\n4540               111 2022-05-24    2240.0\n4688               115 2022-05-24      20.0\n5207               123 2022-05-24     280.0\n7179               182 2022-05-24     184.0\n...                ...        ...       ...\n1375              1389 2022-05-24  -13824.0\n1376              1390 2022-05-24     691.0\n1377              1391 2022-05-24    6586.0\n1378              1392 2022-05-24       0.0\n1379              1393 2022-05-24   13680.0\n\n[1453 rows x 3 columns]\nMulti period ILP for period 2022-05-24 00:00:00 to 2022-05-31 00:00:00\nThis entails 6 days: [Timestamp('2022-05-24 00:00:00', freq='B')\n Timestamp('2022-05-25 00:00:00', freq='B')\n Timestamp('2022-05-26 00:00:00', freq='B')\n Timestamp('2022-05-27 00:00:00', freq='B')\n Timestamp('2022-05-30 00:00:00', freq='B')\n Timestamp('2022-05-31 00:00:00', freq='B')]\n6,13930\nremaininginv component_number\n0       -4608.0\n1        1998.0\n2         840.0\n3       14074.0\n4       -4608.0\n         ...   \n1389   -13824.0\n1390      691.0\n1391     6586.0\n1392        0.0\n1393    13680.0\nName: quantity, Length: 1380, dtype: float64\nSolving for period 11: 2022-06-01 00:00:00 - 2022-06-08 00:00:00\nlen before addBeginInv 89\nafter 1469\n      component_number       date  quantity\n149                  6 2022-06-01    2000.0\n1526                38 2022-06-01    1000.0\n1668                40 2022-06-01     600.0\n2158                52 2022-06-01     500.0\n2707                65 2022-06-01     264.0\n...                ...        ...       ...\n1375              1389 2022-06-01  -13824.0\n1376              1390 2022-06-01     691.0\n1377              1391 2022-06-01    6586.0\n1378              1392 2022-06-01       0.0\n1379              1393 2022-06-01   13680.0\n\n[1469 rows x 3 columns]\nMulti period ILP for period 2022-06-01 00:00:00 to 2022-06-08 00:00:00\nThis entails 6 days: [Timestamp('2022-06-01 00:00:00', freq='B')\n Timestamp('2022-06-02 00:00:00', freq='B')\n Timestamp('2022-06-03 00:00:00', freq='B')\n Timestamp('2022-06-06 00:00:00', freq='B')\n Timestamp('2022-06-07 00:00:00', freq='B')\n Timestamp('2022-06-08 00:00:00', freq='B')]\n6,13930\nremaininginv component_number\n0       -4608.0\n1        1998.0\n2         840.0\n3       14074.0\n4       -4608.0\n         ...   \n1389   -13824.0\n1390      691.0\n1391     6586.0\n1392        0.0\n1393    13680.0\nName: quantity, Length: 1380, dtype: float64\nSolving for period 12: 2022-06-09 00:00:00 - 2022-06-16 00:00:00\nlen before addBeginInv 38\nafter 1418\n       component_number       date  quantity\n15257               361 2022-06-09     900.0\n49490              1099 2022-06-09     600.0\n54810              1219 2022-06-09     600.0\n389                  12 2022-06-10     416.0\n1319                 34 2022-06-10    1600.0\n...                 ...        ...       ...\n1375               1389 2022-06-09  -13824.0\n1376               1390 2022-06-09     691.0\n1377               1391 2022-06-09    6586.0\n1378               1392 2022-06-09       0.0\n1379               1393 2022-06-09   13680.0\n\n[1418 rows x 3 columns]\nMulti period ILP for period 2022-06-09 00:00:00 to 2022-06-16 00:00:00\nThis entails 6 days: [Timestamp('2022-06-09 00:00:00', freq='B')\n Timestamp('2022-06-10 00:00:00', freq='B')\n Timestamp('2022-06-13 00:00:00', freq='B')\n Timestamp('2022-06-14 00:00:00', freq='B')\n Timestamp('2022-06-15 00:00:00', freq='B')\n Timestamp('2022-06-16 00:00:00', freq='B')]\n6,13930\nremaininginv component_number\n0       -4608.0\n1        1998.0\n2         840.0\n3       14074.0\n4       -4608.0\n         ...   \n1389   -13824.0\n1390      691.0\n1391     6586.0\n1392        0.0\n1393    15680.0\nName: quantity, Length: 1380, dtype: float64\nSolving for period 13: 2022-06-17 00:00:00 - 2022-06-24 00:00:00\nlen before addBeginInv 117\nafter 1497\n      component_number       date  quantity\n390                 12 2022-06-17     416.0\n539                 14 2022-06-17    3500.0\n834                 24 2022-06-17    3500.0\n3594                87 2022-06-17     360.0\n3762                93 2022-06-17     180.0\n...                ...        ...       ...\n1375              1389 2022-06-17  -13824.0\n1376              1390 2022-06-17     691.0\n1377              1391 2022-06-17    6586.0\n1378              1392 2022-06-17       0.0\n1379              1393 2022-06-17   15680.0\n\n[1497 rows x 3 columns]\nMulti period ILP for period 2022-06-17 00:00:00 to 2022-06-24 00:00:00\nThis entails 6 days: [Timestamp('2022-06-17 00:00:00', freq='B')\n Timestamp('2022-06-20 00:00:00', freq='B')\n Timestamp('2022-06-21 00:00:00', freq='B')\n Timestamp('2022-06-22 00:00:00', freq='B')\n Timestamp('2022-06-23 00:00:00', freq='B')\n Timestamp('2022-06-24 00:00:00', freq='B')]\n6,13930\nremaininginv component_number\n0       -4608.0\n1        1998.0\n2        1520.0\n3       14074.0\n4       -4608.0\n         ...   \n1389   -13824.0\n1390      691.0\n1391     6586.0\n1392        0.0\n1393    17160.0\nName: quantity, Length: 1380, dtype: float64\nSolving for period 14: 2022-06-27 00:00:00 - 2022-07-04 00:00:00\nlen before addBeginInv 219\nafter 1599\n      component_number       date  quantity\n39                   2 2022-06-27     140.0\n486                 13 2022-06-27   52800.0\n636                 18 2022-06-27    8900.0\n1092                30 2022-06-27    2100.0\n1616                39 2022-06-27      50.0\n...                ...        ...       ...\n1375              1389 2022-06-27  -13824.0\n1376              1390 2022-06-27     691.0\n1377              1391 2022-06-27    6586.0\n1378              1392 2022-06-27       0.0\n1379              1393 2022-06-27   17160.0\n\n[1599 rows x 3 columns]\nMulti period ILP for period 2022-06-27 00:00:00 to 2022-07-04 00:00:00\nThis entails 6 days: [Timestamp('2022-06-27 00:00:00', freq='B')\n Timestamp('2022-06-28 00:00:00', freq='B')\n Timestamp('2022-06-29 00:00:00', freq='B')\n Timestamp('2022-06-30 00:00:00', freq='B')\n Timestamp('2022-07-01 00:00:00', freq='B')\n Timestamp('2022-07-04 00:00:00', freq='B')]\n6,13930\nremaininginv component_number\n0       -4608.0\n1        1998.0\n2        1660.0\n3       14074.0\n4       -4608.0\n         ...   \n1389   -13824.0\n1390      691.0\n1391     6586.0\n1392        0.0\n1393    17160.0\nName: quantity, Length: 1380, dtype: float64\nSolving for period 15: 2022-07-05 00:00:00 - 2022-07-12 00:00:00\nlen before addBeginInv 48\nafter 1428\n       component_number       date  quantity\n4668                114 2022-07-05    5000.0\n7182                182 2022-07-05      64.0\n14279               338 2022-07-05      48.0\n16687               391 2022-07-05      20.0\n19067               439 2022-07-05   10115.0\n...                 ...        ...       ...\n1375               1389 2022-07-05  -13824.0\n1376               1390 2022-07-05     691.0\n1377               1391 2022-07-05    6586.0\n1378               1392 2022-07-05       0.0\n1379               1393 2022-07-05   17160.0\n\n[1428 rows x 3 columns]\nMulti period ILP for period 2022-07-05 00:00:00 to 2022-07-12 00:00:00\nThis entails 6 days: [Timestamp('2022-07-05 00:00:00', freq='B')\n Timestamp('2022-07-06 00:00:00', freq='B')\n Timestamp('2022-07-07 00:00:00', freq='B')\n Timestamp('2022-07-08 00:00:00', freq='B')\n Timestamp('2022-07-11 00:00:00', freq='B')\n Timestamp('2022-07-12 00:00:00', freq='B')]\n6,13930\nremaininginv component_number\n0       -4608.0\n1        1998.0\n2        1660.0\n3       14074.0\n4       -4608.0\n         ...   \n1389   -13824.0\n1390      691.0\n1391     6586.0\n1392        0.0\n1393    17160.0\nName: quantity, Length: 1380, dtype: float64\nSolving for period 16: 2022-07-13 00:00:00 - 2022-07-20 00:00:00\nlen before addBeginInv 57\nafter 1437\n       component_number       date  quantity\n285                  11 2022-07-13   16800.0\n8322                206 2022-07-13    5000.0\n8555                209 2022-07-13    2880.0\n9027                220 2022-07-13    4000.0\n10734               253 2022-07-13     800.0\n...                 ...        ...       ...\n1375               1389 2022-07-13  -13824.0\n1376               1390 2022-07-13     691.0\n1377               1391 2022-07-13    6586.0\n1378               1392 2022-07-13       0.0\n1379               1393 2022-07-13   17160.0\n\n[1437 rows x 3 columns]\nMulti period ILP for period 2022-07-13 00:00:00 to 2022-07-20 00:00:00\nThis entails 6 days: [Timestamp('2022-07-13 00:00:00', freq='B')\n Timestamp('2022-07-14 00:00:00', freq='B')\n Timestamp('2022-07-15 00:00:00', freq='B')\n Timestamp('2022-07-18 00:00:00', freq='B')\n Timestamp('2022-07-19 00:00:00', freq='B')\n Timestamp('2022-07-20 00:00:00', freq='B')]\n6,13930\nremaininginv component_number\n0       -4608.0\n1        1998.0\n2        1660.0\n3       14074.0\n4       -4608.0\n         ...   \n1389   -13824.0\n1390      691.0\n1391     6586.0\n1392        0.0\n1393    17160.0\nName: quantity, Length: 1380, dtype: float64\nSolving for period 17: 2022-07-21 00:00:00 - 2022-07-28 00:00:00\nlen before addBeginInv 68\nafter 1448\n      component_number       date  quantity\n3916                95 2022-07-21     900.0\n4216               104 2022-07-21    2000.0\n4435               109 2022-07-21    1600.0\n5359               129 2022-07-21     200.0\n8205               203 2022-07-21    3840.0\n...                ...        ...       ...\n1375              1389 2022-07-21  -13824.0\n1376              1390 2022-07-21     691.0\n1377              1391 2022-07-21    6586.0\n1378              1392 2022-07-21       0.0\n1379              1393 2022-07-21   17160.0\n\n[1448 rows x 3 columns]\nMulti period ILP for period 2022-07-21 00:00:00 to 2022-07-28 00:00:00\nThis entails 6 days: [Timestamp('2022-07-21 00:00:00', freq='B')\n Timestamp('2022-07-22 00:00:00', freq='B')\n Timestamp('2022-07-25 00:00:00', freq='B')\n Timestamp('2022-07-26 00:00:00', freq='B')\n Timestamp('2022-07-27 00:00:00', freq='B')\n Timestamp('2022-07-28 00:00:00', freq='B')]\n6,13930\nremaininginv component_number\n0       -4608.0\n1        1998.0\n2        1660.0\n3       14074.0\n4       -4608.0\n         ...   \n1389   -13824.0\n1390      691.0\n1391     6586.0\n1392        0.0\n1393    17160.0\nName: quantity, Length: 1380, dtype: float64\nSolving for period 18: 2022-07-29 00:00:00 - 2022-08-05 00:00:00\nlen before addBeginInv 181\nafter 1561\n      component_number       date  quantity\n397                 12 2022-07-29     528.0\n545                 14 2022-07-29    3500.0\n1321                34 2022-07-29    1600.0\n3596                87 2022-07-29     720.0\n5583               136 2022-07-29    2000.0\n...                ...        ...       ...\n1375              1389 2022-07-29  -13824.0\n1376              1390 2022-07-29     691.0\n1377              1391 2022-07-29    6586.0\n1378              1392 2022-07-29       0.0\n1379              1393 2022-07-29   17160.0\n\n[1561 rows x 3 columns]\nMulti period ILP for period 2022-07-29 00:00:00 to 2022-08-05 00:00:00\nThis entails 6 days: [Timestamp('2022-07-29 00:00:00', freq='B')\n Timestamp('2022-08-01 00:00:00', freq='B')\n Timestamp('2022-08-02 00:00:00', freq='B')\n Timestamp('2022-08-03 00:00:00', freq='B')\n Timestamp('2022-08-04 00:00:00', freq='B')\n Timestamp('2022-08-05 00:00:00', freq='B')]\n6,13930\nremaininginv component_number\n0       -4608.0\n1        1998.0\n2        1660.0\n3       14074.0\n4       -4608.0\n         ...   \n1389   -13824.0\n1390      691.0\n1391     6586.0\n1392        0.0\n1393    19160.0\nName: quantity, Length: 1380, dtype: float64\nSolving for period 19: 2022-08-08 00:00:00 - 2022-08-15 00:00:00\nlen before addBeginInv 178\nafter 1558\n      component_number       date  quantity\n489                 13 2022-08-08   52800.0\n602                 17 2022-08-08     640.0\n642                 18 2022-08-08    7700.0\n891                 25 2022-08-08       0.0\n1097                30 2022-08-08     500.0\n...                ...        ...       ...\n1375              1389 2022-08-08  -13824.0\n1376              1390 2022-08-08     691.0\n1377              1391 2022-08-08    6586.0\n1378              1392 2022-08-08       0.0\n1379              1393 2022-08-08   19160.0\n\n[1558 rows x 3 columns]\nMulti period ILP for period 2022-08-08 00:00:00 to 2022-08-15 00:00:00\nThis entails 6 days: [Timestamp('2022-08-08 00:00:00', freq='B')\n Timestamp('2022-08-09 00:00:00', freq='B')\n Timestamp('2022-08-10 00:00:00', freq='B')\n Timestamp('2022-08-11 00:00:00', freq='B')\n Timestamp('2022-08-12 00:00:00', freq='B')\n Timestamp('2022-08-15 00:00:00', freq='B')]\n6,13930\nremaininginv component_number\n0       -4608.0\n1        1998.0\n2        1660.0\n3       14074.0\n4       -4608.0\n         ...   \n1389   -13824.0\n1390      691.0\n1391     6586.0\n1392        0.0\n1393    19160.0\nName: quantity, Length: 1380, dtype: float64\n",
     "output_type": "stream"
    }
   ],
   "execution_count": null
  },
  {
   "cell_type": "code",
   "source": "completeProductionDf.to_csv('completeProduction12dayinterval.csv')",
   "metadata": {
    "cell_id": "cabc94745b5b47e88c116fa59b08510b",
    "tags": [],
    "deepnote_to_be_reexecuted": false,
    "source_hash": "86485c5e",
    "execution_start": 1655057896951,
    "execution_millis": 1,
    "deepnote_cell_type": "code",
    "deepnote_cell_height": 81
   },
   "outputs": [],
   "execution_count": null
  },
  {
   "cell_type": "code",
   "source": "completeProductionDf",
   "metadata": {
    "cell_id": "2db82d5688ba414bb70debff4000b079",
    "tags": [],
    "deepnote_to_be_reexecuted": false,
    "source_hash": "a4e148fa",
    "execution_start": 1655065457265,
    "execution_millis": 48,
    "deepnote_table_state": {
     "pageSize": 10,
     "pageIndex": 1,
     "filters": [],
     "sortBy": []
    },
    "deepnote_table_loading": false,
    "deepnote_cell_type": "code",
    "deepnote_cell_height": 354
   },
   "outputs": [
    {
     "output_type": "execute_result",
     "execution_count": 100,
     "data": {
      "application/vnd.deepnote.dataframe.v3+json": {
       "column_count": 7,
       "row_count": 14,
       "columns": [
        {
         "name": "day",
         "dtype": "datetime64[ns]",
         "stats": {
          "unique_count": 5,
          "nan_count": 0,
          "min": "2022-02-16 00:00:00",
          "max": "2022-02-24 00:00:00",
          "histogram": [
           {
            "bin_start": 1644969600000000000,
            "bin_end": 1645038720000000000,
            "count": 2
           },
           {
            "bin_start": 1645038720000000000,
            "bin_end": 1645107840000000000,
            "count": 0
           },
           {
            "bin_start": 1645107840000000000,
            "bin_end": 1645176960000000000,
            "count": 3
           },
           {
            "bin_start": 1645176960000000000,
            "bin_end": 1645246080000000000,
            "count": 0
           },
           {
            "bin_start": 1645246080000000000,
            "bin_end": 1645315200000000000,
            "count": 0
           },
           {
            "bin_start": 1645315200000000000,
            "bin_end": 1645384320000000000,
            "count": 0
           },
           {
            "bin_start": 1645384320000000000,
            "bin_end": 1645453440000000000,
            "count": 2
           },
           {
            "bin_start": 1645453440000000000,
            "bin_end": 1645522560000000000,
            "count": 0
           },
           {
            "bin_start": 1645522560000000000,
            "bin_end": 1645591680000000000,
            "count": 3
           },
           {
            "bin_start": 1645591680000000000,
            "bin_end": 1645660800000000000,
            "count": 4
           }
          ]
         }
        },
        {
         "name": "day_nr",
         "dtype": "int64",
         "stats": {
          "unique_count": 5,
          "nan_count": 0,
          "min": "1",
          "max": "7",
          "histogram": [
           {
            "bin_start": 1,
            "bin_end": 1.6,
            "count": 2
           },
           {
            "bin_start": 1.6,
            "bin_end": 2.2,
            "count": 0
           },
           {
            "bin_start": 2.2,
            "bin_end": 2.8,
            "count": 0
           },
           {
            "bin_start": 2.8,
            "bin_end": 3.4,
            "count": 3
           },
           {
            "bin_start": 3.4,
            "bin_end": 4,
            "count": 0
           },
           {
            "bin_start": 4,
            "bin_end": 4.6,
            "count": 2
           },
           {
            "bin_start": 4.6,
            "bin_end": 5.2,
            "count": 0
           },
           {
            "bin_start": 5.2,
            "bin_end": 5.8,
            "count": 0
           },
           {
            "bin_start": 5.8,
            "bin_end": 6.3999999999999995,
            "count": 3
           },
           {
            "bin_start": 6.3999999999999995,
            "bin_end": 7,
            "count": 4
           }
          ]
         }
        },
        {
         "name": "article_number",
         "dtype": "int64",
         "stats": {
          "unique_count": 14,
          "nan_count": 0,
          "min": "11",
          "max": "437",
          "histogram": [
           {
            "bin_start": 11,
            "bin_end": 53.6,
            "count": 2
           },
           {
            "bin_start": 53.6,
            "bin_end": 96.2,
            "count": 3
           },
           {
            "bin_start": 96.2,
            "bin_end": 138.8,
            "count": 3
           },
           {
            "bin_start": 138.8,
            "bin_end": 181.4,
            "count": 1
           },
           {
            "bin_start": 181.4,
            "bin_end": 224,
            "count": 1
           },
           {
            "bin_start": 224,
            "bin_end": 266.6,
            "count": 0
           },
           {
            "bin_start": 266.6,
            "bin_end": 309.2,
            "count": 1
           },
           {
            "bin_start": 309.2,
            "bin_end": 351.8,
            "count": 0
           },
           {
            "bin_start": 351.8,
            "bin_end": 394.40000000000003,
            "count": 0
           },
           {
            "bin_start": 394.40000000000003,
            "bin_end": 437,
            "count": 3
           }
          ]
         }
        },
        {
         "name": "quantity_batch",
         "dtype": "float64",
         "stats": {
          "unique_count": 5,
          "nan_count": 0,
          "min": "1.0",
          "max": "18.0",
          "histogram": [
           {
            "bin_start": 1,
            "bin_end": 2.7,
            "count": 11
           },
           {
            "bin_start": 2.7,
            "bin_end": 4.4,
            "count": 1
           },
           {
            "bin_start": 4.4,
            "bin_end": 6.1,
            "count": 0
           },
           {
            "bin_start": 6.1,
            "bin_end": 7.8,
            "count": 0
           },
           {
            "bin_start": 7.8,
            "bin_end": 9.5,
            "count": 0
           },
           {
            "bin_start": 9.5,
            "bin_end": 11.2,
            "count": 0
           },
           {
            "bin_start": 11.2,
            "bin_end": 12.9,
            "count": 0
           },
           {
            "bin_start": 12.9,
            "bin_end": 14.6,
            "count": 1
           },
           {
            "bin_start": 14.6,
            "bin_end": 16.299999999999997,
            "count": 0
           },
           {
            "bin_start": 16.299999999999997,
            "bin_end": 18,
            "count": 1
           }
          ]
         }
        },
        {
         "name": "quantity",
         "dtype": "float64",
         "stats": {
          "unique_count": 5,
          "nan_count": 0,
          "min": "16.0",
          "max": "288.0",
          "histogram": [
           {
            "bin_start": 16,
            "bin_end": 43.2,
            "count": 11
           },
           {
            "bin_start": 43.2,
            "bin_end": 70.4,
            "count": 1
           },
           {
            "bin_start": 70.4,
            "bin_end": 97.6,
            "count": 0
           },
           {
            "bin_start": 97.6,
            "bin_end": 124.8,
            "count": 0
           },
           {
            "bin_start": 124.8,
            "bin_end": 152,
            "count": 0
           },
           {
            "bin_start": 152,
            "bin_end": 179.2,
            "count": 0
           },
           {
            "bin_start": 179.2,
            "bin_end": 206.4,
            "count": 0
           },
           {
            "bin_start": 206.4,
            "bin_end": 233.6,
            "count": 1
           },
           {
            "bin_start": 233.6,
            "bin_end": 260.79999999999995,
            "count": 0
           },
           {
            "bin_start": 260.79999999999995,
            "bin_end": 288,
            "count": 1
           }
          ]
         }
        },
        {
         "name": "article_revenue",
         "dtype": "int64",
         "stats": {
          "unique_count": 14,
          "nan_count": 0,
          "min": "9328",
          "max": "28208",
          "histogram": [
           {
            "bin_start": 9328,
            "bin_end": 11216,
            "count": 1
           },
           {
            "bin_start": 11216,
            "bin_end": 13104,
            "count": 1
           },
           {
            "bin_start": 13104,
            "bin_end": 14992,
            "count": 1
           },
           {
            "bin_start": 14992,
            "bin_end": 16880,
            "count": 2
           },
           {
            "bin_start": 16880,
            "bin_end": 18768,
            "count": 0
           },
           {
            "bin_start": 18768,
            "bin_end": 20656,
            "count": 4
           },
           {
            "bin_start": 20656,
            "bin_end": 22544,
            "count": 1
           },
           {
            "bin_start": 22544,
            "bin_end": 24432,
            "count": 0
           },
           {
            "bin_start": 24432,
            "bin_end": 26320,
            "count": 2
           },
           {
            "bin_start": 26320,
            "bin_end": 28208,
            "count": 2
           }
          ]
         }
        },
        {
         "name": "revenue_total",
         "dtype": "float64",
         "stats": {
          "unique_count": 14,
          "nan_count": 0,
          "min": "234240.0",
          "max": "5778432.0",
          "histogram": [
           {
            "bin_start": 234240,
            "bin_end": 788659.2,
            "count": 10
           },
           {
            "bin_start": 788659.2,
            "bin_end": 1343078.4,
            "count": 2
           },
           {
            "bin_start": 1343078.4,
            "bin_end": 1897497.5999999999,
            "count": 0
           },
           {
            "bin_start": 1897497.5999999999,
            "bin_end": 2451916.8,
            "count": 0
           },
           {
            "bin_start": 2451916.8,
            "bin_end": 3006336,
            "count": 0
           },
           {
            "bin_start": 3006336,
            "bin_end": 3560755.1999999997,
            "count": 0
           },
           {
            "bin_start": 3560755.1999999997,
            "bin_end": 4115174.3999999994,
            "count": 0
           },
           {
            "bin_start": 4115174.3999999994,
            "bin_end": 4669593.6,
            "count": 1
           },
           {
            "bin_start": 4669593.6,
            "bin_end": 5224012.8,
            "count": 0
           },
           {
            "bin_start": 5224012.8,
            "bin_end": 5778432,
            "count": 1
           }
          ]
         }
        },
        {
         "name": "_deepnote_index_column",
         "dtype": "int64"
        }
       ],
       "rows": [
        {
         "day": "2022-02-24T00:00:00.000000",
         "day_nr": 7,
         "article_number": 11,
         "quantity_batch": 1,
         "quantity": 16,
         "article_revenue": 16448,
         "revenue_total": 263168,
         "_deepnote_index_column": 1742
        },
        {
         "day": "2022-02-24T00:00:00.000000",
         "day_nr": 7,
         "article_number": 174,
         "quantity_batch": 1,
         "quantity": 16,
         "article_revenue": 14640,
         "revenue_total": 234240,
         "_deepnote_index_column": 258
        },
        {
         "day": "2022-02-24T00:00:00.000000",
         "day_nr": 7,
         "article_number": 404,
         "quantity_batch": 2,
         "quantity": 32,
         "article_revenue": 19552,
         "revenue_total": 625664,
         "_deepnote_index_column": 1105
        },
        {
         "day": "2022-02-24T00:00:00.000000",
         "day_nr": 7,
         "article_number": 430,
         "quantity_batch": 1,
         "quantity": 16,
         "article_revenue": 26768,
         "revenue_total": 428288,
         "_deepnote_index_column": 3387
        }
       ]
      },
      "text/plain": "            day  day_nr  article_number  quantity_batch  quantity  \\\n2793 2022-02-16       1              98            18.0     288.0   \n3136 2022-02-16       1             437             1.0      16.0   \n2571 2022-02-18       3              44             1.0      16.0   \n989  2022-02-18       3             137             2.0      32.0   \n2872 2022-02-18       3             201             2.0      32.0   \n437  2022-02-21       4              66             1.0      16.0   \n3307 2022-02-21       4              85             2.0      32.0   \n2707 2022-02-23       6              79             3.0      48.0   \n915  2022-02-23       6             124             1.0      16.0   \n201  2022-02-23       6             287            13.0     208.0   \n1742 2022-02-24       7              11             1.0      16.0   \n258  2022-02-24       7             174             1.0      16.0   \n1105 2022-02-24       7             404             2.0      32.0   \n3387 2022-02-24       7             430             1.0      16.0   \n\n      article_revenue  revenue_total  \n2793            20064      5778432.0  \n3136            19104       305664.0  \n2571            28208       451328.0  \n989             25808       825856.0  \n2872            12336       394752.0  \n437             18976       303616.0  \n3307             9328       298496.0  \n2707            24480      1175040.0  \n915             16736       267776.0  \n201             21440      4459520.0  \n1742            16448       263168.0  \n258             14640       234240.0  \n1105            19552       625664.0  \n3387            26768       428288.0  ",
      "text/html": "<div>\n<style scoped>\n    .dataframe tbody tr th:only-of-type {\n        vertical-align: middle;\n    }\n\n    .dataframe tbody tr th {\n        vertical-align: top;\n    }\n\n    .dataframe thead th {\n        text-align: right;\n    }\n</style>\n<table border=\"1\" class=\"dataframe\">\n  <thead>\n    <tr style=\"text-align: right;\">\n      <th></th>\n      <th>day</th>\n      <th>day_nr</th>\n      <th>article_number</th>\n      <th>quantity_batch</th>\n      <th>quantity</th>\n      <th>article_revenue</th>\n      <th>revenue_total</th>\n    </tr>\n  </thead>\n  <tbody>\n    <tr>\n      <th>2793</th>\n      <td>2022-02-16</td>\n      <td>1</td>\n      <td>98</td>\n      <td>18.0</td>\n      <td>288.0</td>\n      <td>20064</td>\n      <td>5778432.0</td>\n    </tr>\n    <tr>\n      <th>3136</th>\n      <td>2022-02-16</td>\n      <td>1</td>\n      <td>437</td>\n      <td>1.0</td>\n      <td>16.0</td>\n      <td>19104</td>\n      <td>305664.0</td>\n    </tr>\n    <tr>\n      <th>2571</th>\n      <td>2022-02-18</td>\n      <td>3</td>\n      <td>44</td>\n      <td>1.0</td>\n      <td>16.0</td>\n      <td>28208</td>\n      <td>451328.0</td>\n    </tr>\n    <tr>\n      <th>989</th>\n      <td>2022-02-18</td>\n      <td>3</td>\n      <td>137</td>\n      <td>2.0</td>\n      <td>32.0</td>\n      <td>25808</td>\n      <td>825856.0</td>\n    </tr>\n    <tr>\n      <th>2872</th>\n      <td>2022-02-18</td>\n      <td>3</td>\n      <td>201</td>\n      <td>2.0</td>\n      <td>32.0</td>\n      <td>12336</td>\n      <td>394752.0</td>\n    </tr>\n    <tr>\n      <th>437</th>\n      <td>2022-02-21</td>\n      <td>4</td>\n      <td>66</td>\n      <td>1.0</td>\n      <td>16.0</td>\n      <td>18976</td>\n      <td>303616.0</td>\n    </tr>\n    <tr>\n      <th>3307</th>\n      <td>2022-02-21</td>\n      <td>4</td>\n      <td>85</td>\n      <td>2.0</td>\n      <td>32.0</td>\n      <td>9328</td>\n      <td>298496.0</td>\n    </tr>\n    <tr>\n      <th>2707</th>\n      <td>2022-02-23</td>\n      <td>6</td>\n      <td>79</td>\n      <td>3.0</td>\n      <td>48.0</td>\n      <td>24480</td>\n      <td>1175040.0</td>\n    </tr>\n    <tr>\n      <th>915</th>\n      <td>2022-02-23</td>\n      <td>6</td>\n      <td>124</td>\n      <td>1.0</td>\n      <td>16.0</td>\n      <td>16736</td>\n      <td>267776.0</td>\n    </tr>\n    <tr>\n      <th>201</th>\n      <td>2022-02-23</td>\n      <td>6</td>\n      <td>287</td>\n      <td>13.0</td>\n      <td>208.0</td>\n      <td>21440</td>\n      <td>4459520.0</td>\n    </tr>\n    <tr>\n      <th>1742</th>\n      <td>2022-02-24</td>\n      <td>7</td>\n      <td>11</td>\n      <td>1.0</td>\n      <td>16.0</td>\n      <td>16448</td>\n      <td>263168.0</td>\n    </tr>\n    <tr>\n      <th>258</th>\n      <td>2022-02-24</td>\n      <td>7</td>\n      <td>174</td>\n      <td>1.0</td>\n      <td>16.0</td>\n      <td>14640</td>\n      <td>234240.0</td>\n    </tr>\n    <tr>\n      <th>1105</th>\n      <td>2022-02-24</td>\n      <td>7</td>\n      <td>404</td>\n      <td>2.0</td>\n      <td>32.0</td>\n      <td>19552</td>\n      <td>625664.0</td>\n    </tr>\n    <tr>\n      <th>3387</th>\n      <td>2022-02-24</td>\n      <td>7</td>\n      <td>430</td>\n      <td>1.0</td>\n      <td>16.0</td>\n      <td>26768</td>\n      <td>428288.0</td>\n    </tr>\n  </tbody>\n</table>\n</div>"
     },
     "metadata": {}
    }
   ],
   "execution_count": null
  },
  {
   "cell_type": "code",
   "source": "completeProductionDf['revenue_total'].sum()",
   "metadata": {
    "cell_id": "1f0008b1ba71496c83f96844d37f212b",
    "tags": [],
    "deepnote_to_be_reexecuted": false,
    "source_hash": "f7fad974",
    "execution_start": 1655063803062,
    "execution_millis": 8,
    "deepnote_cell_type": "code",
    "deepnote_cell_height": 118.1875,
    "deepnote_output_heights": [
     21.1875
    ]
   },
   "outputs": [
    {
     "output_type": "execute_result",
     "execution_count": 80,
     "data": {
      "text/plain": "30511872.0"
     },
     "metadata": {}
    }
   ],
   "execution_count": null
  },
  {
   "cell_type": "code",
   "source": "completeProductionDf.groupby(by='day').sum()['quantity'].plot()",
   "metadata": {
    "cell_id": "03a7502a0832452a85b9d06b45f90ef4",
    "tags": [],
    "deepnote_to_be_reexecuted": false,
    "source_hash": "f1d74ffb",
    "execution_start": 1655063805910,
    "execution_millis": 347,
    "deepnote_cell_type": "code",
    "deepnote_cell_height": 428,
    "deepnote_output_heights": [
     21,
     279
    ]
   },
   "outputs": [
    {
     "output_type": "execute_result",
     "execution_count": 81,
     "data": {
      "text/plain": "<AxesSubplot:xlabel='day'>"
     },
     "metadata": {}
    },
    {
     "data": {
      "text/plain": "<Figure size 432x288 with 1 Axes>",
      "image/png": "[encoded data removed]"
     },
     "metadata": {
      "needs_background": "light",
      "image/png": {
       "width": 379,
       "height": 277
      }
     },
     "output_type": "display_data"
    }
   ],
   "execution_count": null
  },
  {
   "cell_type": "code",
   "source": "completeProductionDfGrouped = completeProductionDf.groupby(by='article_number').sum()['quantity']\npd.merge(left=completeProductionDfGrouped, right=bom, left_on='article_number', right_on='article_number', how ='left')",
   "metadata": {
    "cell_id": "08e23a01cd164f858d95c799b710ac53",
    "tags": [],
    "deepnote_to_be_reexecuted": false,
    "source_hash": "a6d201c",
    "execution_start": 1655059445693,
    "execution_millis": 46,
    "deepnote_table_state": {
     "pageSize": 10,
     "pageIndex": 27,
     "filters": [],
     "sortBy": [
      {
       "id": "article_number",
       "type": "asc"
      }
     ]
    },
    "deepnote_table_loading": false,
    "deepnote_table_invalid": true,
    "deepnote_cell_type": "code",
    "deepnote_cell_height": 695
   },
   "outputs": [
    {
     "output_type": "execute_result",
     "execution_count": 47,
     "data": {
      "application/vnd.deepnote.dataframe.v3+json": {
       "column_count": 6,
       "row_count": 1539,
       "columns": [
        {
         "name": "article_number",
         "dtype": "int64",
         "stats": {
          "unique_count": 14,
          "nan_count": 0,
          "min": "11",
          "max": "437",
          "histogram": [
           {
            "bin_start": 11,
            "bin_end": 53.6,
            "count": 220
           },
           {
            "bin_start": 53.6,
            "bin_end": 96.2,
            "count": 213
           },
           {
            "bin_start": 96.2,
            "bin_end": 138.8,
            "count": 339
           },
           {
            "bin_start": 138.8,
            "bin_end": 181.4,
            "count": 109
           },
           {
            "bin_start": 181.4,
            "bin_end": 224,
            "count": 109
           },
           {
            "bin_start": 224,
            "bin_end": 266.6,
            "count": 0
           },
           {
            "bin_start": 266.6,
            "bin_end": 309.2,
            "count": 111
           },
           {
            "bin_start": 309.2,
            "bin_end": 351.8,
            "count": 0
           },
           {
            "bin_start": 351.8,
            "bin_end": 394.40000000000003,
            "count": 0
           },
           {
            "bin_start": 394.40000000000003,
            "bin_end": 437,
            "count": 438
           }
          ]
         }
        },
        {
         "name": "quantity_x",
         "dtype": "float64",
         "stats": {
          "unique_count": 7,
          "nan_count": 0,
          "min": "16.0",
          "max": "368.0",
          "histogram": [
           {
            "bin_start": 16,
            "bin_end": 51.2,
            "count": 1082
           },
           {
            "bin_start": 51.2,
            "bin_end": 86.4,
            "count": 0
           },
           {
            "bin_start": 86.4,
            "bin_end": 121.60000000000001,
            "count": 113
           },
           {
            "bin_start": 121.60000000000001,
            "bin_end": 156.8,
            "count": 0
           },
           {
            "bin_start": 156.8,
            "bin_end": 192,
            "count": 0
           },
           {
            "bin_start": 192,
            "bin_end": 227.20000000000002,
            "count": 0
           },
           {
            "bin_start": 227.20000000000002,
            "bin_end": 262.40000000000003,
            "count": 0
           },
           {
            "bin_start": 262.40000000000003,
            "bin_end": 297.6,
            "count": 122
           },
           {
            "bin_start": 297.6,
            "bin_end": 332.8,
            "count": 0
           },
           {
            "bin_start": 332.8,
            "bin_end": 368,
            "count": 222
           }
          ]
         }
        },
        {
         "name": "component_number",
         "dtype": "int64",
         "stats": {
          "unique_count": 419,
          "nan_count": 0,
          "min": "0",
          "max": "1389",
          "histogram": [
           {
            "bin_start": 0,
            "bin_end": 138.9,
            "count": 181
           },
           {
            "bin_start": 138.9,
            "bin_end": 277.8,
            "count": 216
           },
           {
            "bin_start": 277.8,
            "bin_end": 416.70000000000005,
            "count": 129
           },
           {
            "bin_start": 416.70000000000005,
            "bin_end": 555.6,
            "count": 166
           },
           {
            "bin_start": 555.6,
            "bin_end": 694.5,
            "count": 150
           },
           {
            "bin_start": 694.5,
            "bin_end": 833.4000000000001,
            "count": 124
           },
           {
            "bin_start": 833.4000000000001,
            "bin_end": 972.3000000000001,
            "count": 108
           },
           {
            "bin_start": 972.3000000000001,
            "bin_end": 1111.2,
            "count": 123
           },
           {
            "bin_start": 1111.2,
            "bin_end": 1250.1000000000001,
            "count": 155
           },
           {
            "bin_start": 1250.1000000000001,
            "bin_end": 1389,
            "count": 187
           }
          ]
         }
        },
        {
         "name": "start_date",
         "dtype": "float64",
         "stats": {
          "unique_count": 116,
          "nan_count": 0,
          "min": "20190128.0",
          "max": "20220701.0",
          "histogram": [
           {
            "bin_start": 20190128,
            "bin_end": 20193185.3,
            "count": 13
           },
           {
            "bin_start": 20193185.3,
            "bin_end": 20196242.6,
            "count": 0
           },
           {
            "bin_start": 20196242.6,
            "bin_end": 20199299.9,
            "count": 0
           },
           {
            "bin_start": 20199299.9,
            "bin_end": 20202357.2,
            "count": 1252
           },
           {
            "bin_start": 20202357.2,
            "bin_end": 20205414.5,
            "count": 0
           },
           {
            "bin_start": 20205414.5,
            "bin_end": 20208471.8,
            "count": 0
           },
           {
            "bin_start": 20208471.8,
            "bin_end": 20211529.1,
            "count": 222
           },
           {
            "bin_start": 20211529.1,
            "bin_end": 20214586.4,
            "count": 0
           },
           {
            "bin_start": 20214586.4,
            "bin_end": 20217643.7,
            "count": 0
           },
           {
            "bin_start": 20217643.7,
            "bin_end": 20220701,
            "count": 52
           }
          ]
         }
        },
        {
         "name": "end_date",
         "dtype": "float64",
         "stats": {
          "unique_count": 4,
          "nan_count": 0,
          "min": "20220530.0",
          "max": "29991231.0",
          "histogram": [
           {
            "bin_start": 20220530,
            "bin_end": 21197600.1,
            "count": 11
           },
           {
            "bin_start": 21197600.1,
            "bin_end": 22174670.2,
            "count": 0
           },
           {
            "bin_start": 22174670.2,
            "bin_end": 23151740.3,
            "count": 0
           },
           {
            "bin_start": 23151740.3,
            "bin_end": 24128810.4,
            "count": 0
           },
           {
            "bin_start": 24128810.4,
            "bin_end": 25105880.5,
            "count": 0
           },
           {
            "bin_start": 25105880.5,
            "bin_end": 26082950.6,
            "count": 0
           },
           {
            "bin_start": 26082950.6,
            "bin_end": 27060020.7,
            "count": 0
           },
           {
            "bin_start": 27060020.7,
            "bin_end": 28037090.8,
            "count": 0
           },
           {
            "bin_start": 28037090.8,
            "bin_end": 29014160.9,
            "count": 0
           },
           {
            "bin_start": 29014160.9,
            "bin_end": 29991231,
            "count": 1528
           }
          ]
         }
        },
        {
         "name": "quantity_y",
         "dtype": "int64",
         "stats": {
          "unique_count": 10,
          "nan_count": 0,
          "min": "1",
          "max": "36",
          "histogram": [
           {
            "bin_start": 1,
            "bin_end": 4.5,
            "count": 1441
           },
           {
            "bin_start": 4.5,
            "bin_end": 8,
            "count": 15
           },
           {
            "bin_start": 8,
            "bin_end": 11.5,
            "count": 13
           },
           {
            "bin_start": 11.5,
            "bin_end": 15,
            "count": 0
           },
           {
            "bin_start": 15,
            "bin_end": 18.5,
            "count": 30
           },
           {
            "bin_start": 18.5,
            "bin_end": 22,
            "count": 0
           },
           {
            "bin_start": 22,
            "bin_end": 25.5,
            "count": 0
           },
           {
            "bin_start": 25.5,
            "bin_end": 29,
            "count": 0
           },
           {
            "bin_start": 29,
            "bin_end": 32.5,
            "count": 0
           },
           {
            "bin_start": 32.5,
            "bin_end": 36,
            "count": 40
           }
          ]
         }
        },
        {
         "name": "_deepnote_index_column",
         "dtype": "int64"
        }
       ],
       "rows": [
        {
         "article_number": 66,
         "quantity_x": 16,
         "component_number": 1209,
         "start_date": 20200715,
         "end_date": 29991231,
         "quantity_y": 1,
         "_deepnote_index_column": 298
        },
        {
         "article_number": 66,
         "quantity_x": 16,
         "component_number": 28,
         "start_date": 20201001,
         "end_date": 29991231,
         "quantity_y": 2,
         "_deepnote_index_column": 310
        },
        {
         "article_number": 66,
         "quantity_x": 16,
         "component_number": 384,
         "start_date": 20200715,
         "end_date": 29991231,
         "quantity_y": 2,
         "_deepnote_index_column": 271
        },
        {
         "article_number": 66,
         "quantity_x": 16,
         "component_number": 334,
         "start_date": 20200715,
         "end_date": 29991231,
         "quantity_y": 1,
         "_deepnote_index_column": 269
        },
        {
         "article_number": 66,
         "quantity_x": 16,
         "component_number": 926,
         "start_date": 20200715,
         "end_date": 29991231,
         "quantity_y": 1,
         "_deepnote_index_column": 241
        },
        {
         "article_number": 66,
         "quantity_x": 16,
         "component_number": 472,
         "start_date": 20200715,
         "end_date": 29991231,
         "quantity_y": 1,
         "_deepnote_index_column": 240
        },
        {
         "article_number": 66,
         "quantity_x": 16,
         "component_number": 11,
         "start_date": 20200715,
         "end_date": 29991231,
         "quantity_y": 1,
         "_deepnote_index_column": 239
        },
        {
         "article_number": 66,
         "quantity_x": 16,
         "component_number": 660,
         "start_date": 20200715,
         "end_date": 29991231,
         "quantity_y": 1,
         "_deepnote_index_column": 238
        },
        {
         "article_number": 66,
         "quantity_x": 16,
         "component_number": 1389,
         "start_date": 20200715,
         "end_date": 29991231,
         "quantity_y": 6,
         "_deepnote_index_column": 237
        },
        {
         "article_number": 66,
         "quantity_x": 16,
         "component_number": 226,
         "start_date": 20200731,
         "end_date": 29991231,
         "quantity_y": 1,
         "_deepnote_index_column": 236
        }
       ]
      },
      "text/plain": "      article_number  quantity_x  component_number  start_date    end_date  \\\n0                 11        16.0              1377  20211207.0  29991231.0   \n1                 11        16.0               110  20200108.0  29991231.0   \n2                 11        16.0              1261  20200714.0  29991231.0   \n3                 11        16.0               696  20200108.0  29991231.0   \n4                 11        16.0              1216  20200108.0  29991231.0   \n...              ...         ...               ...         ...         ...   \n1534             437        16.0              1236  20201127.0  29991231.0   \n1535             437        16.0               473  20220208.0  29991231.0   \n1536             437        16.0               724  20201021.0  29991231.0   \n1537             437        16.0               415  20201021.0  29991231.0   \n1538             437        16.0               210  20201021.0  29991231.0   \n\n      quantity_y  \n0              2  \n1              1  \n2              1  \n3              1  \n4             36  \n...          ...  \n1534           1  \n1535           1  \n1536           1  \n1537           1  \n1538           1  \n\n[1539 rows x 6 columns]",
      "text/html": "<div>\n<style scoped>\n    .dataframe tbody tr th:only-of-type {\n        vertical-align: middle;\n    }\n\n    .dataframe tbody tr th {\n        vertical-align: top;\n    }\n\n    .dataframe thead th {\n        text-align: right;\n    }\n</style>\n<table border=\"1\" class=\"dataframe\">\n  <thead>\n    <tr style=\"text-align: right;\">\n      <th></th>\n      <th>article_number</th>\n      <th>quantity_x</th>\n      <th>component_number</th>\n      <th>start_date</th>\n      <th>end_date</th>\n      <th>quantity_y</th>\n    </tr>\n  </thead>\n  <tbody>\n    <tr>\n      <th>0</th>\n      <td>11</td>\n      <td>16.0</td>\n      <td>1377</td>\n      <td>20211207.0</td>\n      <td>29991231.0</td>\n      <td>2</td>\n    </tr>\n    <tr>\n      <th>1</th>\n      <td>11</td>\n      <td>16.0</td>\n      <td>110</td>\n      <td>20200108.0</td>\n      <td>29991231.0</td>\n      <td>1</td>\n    </tr>\n    <tr>\n      <th>2</th>\n      <td>11</td>\n      <td>16.0</td>\n      <td>1261</td>\n      <td>20200714.0</td>\n      <td>29991231.0</td>\n      <td>1</td>\n    </tr>\n    <tr>\n      <th>3</th>\n      <td>11</td>\n      <td>16.0</td>\n      <td>696</td>\n      <td>20200108.0</td>\n      <td>29991231.0</td>\n      <td>1</td>\n    </tr>\n    <tr>\n      <th>4</th>\n      <td>11</td>\n      <td>16.0</td>\n      <td>1216</td>\n      <td>20200108.0</td>\n      <td>29991231.0</td>\n      <td>36</td>\n    </tr>\n    <tr>\n      <th>...</th>\n      <td>...</td>\n      <td>...</td>\n      <td>...</td>\n      <td>...</td>\n      <td>...</td>\n      <td>...</td>\n    </tr>\n    <tr>\n      <th>1534</th>\n      <td>437</td>\n      <td>16.0</td>\n      <td>1236</td>\n      <td>20201127.0</td>\n      <td>29991231.0</td>\n      <td>1</td>\n    </tr>\n    <tr>\n      <th>1535</th>\n      <td>437</td>\n      <td>16.0</td>\n      <td>473</td>\n      <td>20220208.0</td>\n      <td>29991231.0</td>\n      <td>1</td>\n    </tr>\n    <tr>\n      <th>1536</th>\n      <td>437</td>\n      <td>16.0</td>\n      <td>724</td>\n      <td>20201021.0</td>\n      <td>29991231.0</td>\n      <td>1</td>\n    </tr>\n    <tr>\n      <th>1537</th>\n      <td>437</td>\n      <td>16.0</td>\n      <td>415</td>\n      <td>20201021.0</td>\n      <td>29991231.0</td>\n      <td>1</td>\n    </tr>\n    <tr>\n      <th>1538</th>\n      <td>437</td>\n      <td>16.0</td>\n      <td>210</td>\n      <td>20201021.0</td>\n      <td>29991231.0</td>\n      <td>1</td>\n    </tr>\n  </tbody>\n</table>\n<p>1539 rows × 6 columns</p>\n</div>"
     },
     "metadata": {}
    }
   ],
   "execution_count": null
  },
  {
   "cell_type": "code",
   "source": "",
   "metadata": {
    "cell_id": "4c32cabf65a642938beffdb4e86432d5",
    "tags": [],
    "deepnote_cell_type": "code",
    "deepnote_cell_height": 66
   },
   "outputs": [],
   "execution_count": null
  },
  {
   "cell_type": "markdown",
   "source": "<a style='text-decoration:none;line-height:16px;display:flex;color:#5B5B62;padding:10px;justify-content:end;' href='https://deepnote.com?utm_source=created-in-deepnote-cell&projectId=503941b5-1736-4298-9362-1ed0707166ae' target=\"_blank\">\n<img alt='Created in deepnote.com' style='display:inline;max-height:16px;margin:0px;margin-right:7.5px;' src='data:image/svg+xml;base64,PD94bWwgdmVyc2lvbj0iMS4wIiBlbmNvZGluZz0iVVRGLTgiPz4KPHN2ZyB3aWR0aD0iODBweCIgaGVpZ2h0PSI4MHB4IiB2aWV3Qm94PSIwIDAgODAgODAiIHZlcnNpb249IjEuMSIgeG1sbnM9Imh0dHA6Ly93d3cudzMub3JnLzIwMDAvc3ZnIiB4bWxuczp4bGluaz0iaHR0cDovL3d3dy53My5vcmcvMTk5OS94bGluayI+CiAgICA8IS0tIEdlbmVyYXRvcjogU2tldGNoIDU0LjEgKDc2NDkwKSAtIGh0dHBzOi8vc2tldGNoYXBwLmNvbSAtLT4KICAgIDx0aXRsZT5Hcm91cCAzPC90aXRsZT4KICAgIDxkZXNjPkNyZWF0ZWQgd2l0aCBTa2V0Y2guPC9kZXNjPgogICAgPGcgaWQ9IkxhbmRpbmciIHN0cm9rZT0ibm9uZSIgc3Ryb2tlLXdpZHRoPSIxIiBmaWxsPSJub25lIiBmaWxsLXJ1bGU9ImV2ZW5vZGQiPgogICAgICAgIDxnIGlkPSJBcnRib2FyZCIgdHJhbnNmb3JtPSJ0cmFuc2xhdGUoLTEyMzUuMDAwMDAwLCAtNzkuMDAwMDAwKSI+CiAgICAgICAgICAgIDxnIGlkPSJHcm91cC0zIiB0cmFuc2Zvcm09InRyYW5zbGF0ZSgxMjM1LjAwMDAwMCwgNzkuMDAwMDAwKSI+CiAgICAgICAgICAgICAgICA8cG9seWdvbiBpZD0iUGF0aC0yMCIgZmlsbD0iIzAyNjVCNCIgcG9pbnRzPSIyLjM3NjIzNzYyIDgwIDM4LjA0NzY2NjcgODAgNTcuODIxNzgyMiA3My44MDU3NTkyIDU3LjgyMTc4MjIgMzIuNzU5MjczOSAzOS4xNDAyMjc4IDMxLjY4MzE2ODMiPjwvcG9seWdvbj4KICAgICAgICAgICAgICAgIDxwYXRoIGQ9Ik0zNS4wMDc3MTgsODAgQzQyLjkwNjIwMDcsNzYuNDU0OTM1OCA0Ny41NjQ5MTY3LDcxLjU0MjI2NzEgNDguOTgzODY2LDY1LjI2MTk5MzkgQzUxLjExMjI4OTksNTUuODQxNTg0MiA0MS42NzcxNzk1LDQ5LjIxMjIyODQgMjUuNjIzOTg0Niw0OS4yMTIyMjg0IEMyNS40ODQ5Mjg5LDQ5LjEyNjg0NDggMjkuODI2MTI5Niw0My4yODM4MjQ4IDM4LjY0NzU4NjksMzEuNjgzMTY4MyBMNzIuODcxMjg3MSwzMi41NTQ0MjUgTDY1LjI4MDk3Myw2Ny42NzYzNDIxIEw1MS4xMTIyODk5LDc3LjM3NjE0NCBMMzUuMDA3NzE4LDgwIFoiIGlkPSJQYXRoLTIyIiBmaWxsPSIjMDAyODY4Ij48L3BhdGg+CiAgICAgICAgICAgICAgICA8cGF0aCBkPSJNMCwzNy43MzA0NDA1IEwyNy4xMTQ1MzcsMC4yNTcxMTE0MzYgQzYyLjM3MTUxMjMsLTEuOTkwNzE3MDEgODAsMTAuNTAwMzkyNyA4MCwzNy43MzA0NDA1IEM4MCw2NC45NjA0ODgyIDY0Ljc3NjUwMzgsNzkuMDUwMzQxNCAzNC4zMjk1MTEzLDgwIEM0Ny4wNTUzNDg5LDc3LjU2NzA4MDggNTMuNDE4MjY3Nyw3MC4zMTM2MTAzIDUzLjQxODI2NzcsNTguMjM5NTg4NSBDNTMuNDE4MjY3Nyw0MC4xMjg1NTU3IDM2LjMwMzk1NDQsMzcuNzMwNDQwNSAyNS4yMjc0MTcsMzcuNzMwNDQwNSBDMTcuODQzMDU4NiwzNy43MzA0NDA1IDkuNDMzOTE5NjYsMzcuNzMwNDQwNSAwLDM3LjczMDQ0MDUgWiIgaWQ9IlBhdGgtMTkiIGZpbGw9IiMzNzkzRUYiPjwvcGF0aD4KICAgICAgICAgICAgPC9nPgogICAgICAgIDwvZz4KICAgIDwvZz4KPC9zdmc+' > </img>\nCreated in <span style='font-weight:600;margin-left:4px;'>Deepnote</span></a>",
   "metadata": {
    "tags": [],
    "created_in_deepnote_cell": true,
    "deepnote_cell_type": "markdown"
   }
  }
 ],
 "nbformat": 4,
 "nbformat_minor": 2,
 "metadata": {
  "orig_nbformat": 2,
  "deepnote": {},
  "deepnote_notebook_id": "998c9b46-3346-448e-b47f-f68d723a0dd0",
  "deepnote_execution_queue": []
 }
}