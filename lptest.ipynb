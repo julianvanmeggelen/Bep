{
 "cells": [
  {
   "cell_type": "code",
   "metadata": {
    "cell_id": "9cc26c2db2344e1a8a2c7b3b605bb32c",
    "tags": [],
    "deepnote_to_be_reexecuted": false,
    "source_hash": "4a0d8f35",
    "execution_start": 1654971817728,
    "execution_millis": 1631,
    "deepnote_cell_type": "code",
    "deepnote_cell_height": 225
   },
   "source": "import pandas as pd\nimport numpy as np\nimport seaborn as sns\nimport matplotlib.pyplot as plt\nfrom tqdm import tqdm\nfrom pulp import *\nimport math\nfrom ortools.linear_solver import pywraplp\nsns.set()",
   "execution_count": 1,
   "outputs": []
  },
  {
   "cell_type": "code",
   "metadata": {
    "tags": [],
    "cell_id": "c4afa7d2-7514-4aa5-a439-8866317ef535",
    "deepnote_to_be_reexecuted": false,
    "source_hash": "5dce8540",
    "execution_start": 1654971832237,
    "execution_millis": 166,
    "deepnote_cell_type": "code",
    "deepnote_cell_height": 657
   },
   "source": "production = pd.read_csv(\"production.csv\")\npurchasing = pd.read_csv(\"purchasing.csv\")\nbom = pd.read_csv('bom.csv')\nstock = pd.read_csv(\"stock.csv\")\ncomponents = pd.read_csv('components.csv')\narticles = pd.read_csv(\"articles.csv\")\n\npurchasing['date'] = pd.to_datetime(purchasing['date'])\nproduction['date']  = pd.to_datetime(production['date'])\nstock['date'] = pd.to_datetime(stock['date'])\n\n#preprocess stock and purchasing to work with follow ups\ndef processFollowUp(components, stock, purchasing, bom):\n    #replace new component numbers for old component numbers in stock, purchasing, bom\n    replaceDict = components[~np.isnan(components['follow_up_component'])][['component_number','follow_up_component']].astype('int').set_index('follow_up_component')['component_number'].to_dict()\n    purchasing['component_number'] = purchasing['component_number'].replace(replaceDict)\n    stock['component_number'] = stock['component_number'].replace(replaceDict)\n    bom['component_number'] = bom['component_number'].replace(replaceDict)\n    return stock, purchasing, bom\n\nstock, purchasing, bom = processFollowUp(components, stock, purchasing, bom)\n\n\nallComponents = set(bom['component_number']) | set(purchasing['component_number']) | set(stock['component_number'])\n\nproductionDays = list(production['date'].sort_values(ascending=True).unique())\npurchasingDays = list(purchasing['date'].unique())\nallDays = sorted(productionDays + purchasingDays)\nallDays = list(dict.fromkeys(allDays))\nday0 = allDays[0] \n\n#drop duplicates in bom for now, later allow for bom changes\nbom = bom.drop_duplicates(subset=['article_number','component_number'])",
   "execution_count": 2,
   "outputs": []
  },
  {
   "cell_type": "code",
   "source": "print(f\"Total window for which production schedule is required: {production['date'].min()} - {production['date'].max()}\")",
   "metadata": {
    "cell_id": "e1c81d028573420ea46e4c7987bd8492",
    "tags": [],
    "deepnote_to_be_reexecuted": false,
    "source_hash": "e35e8b6a",
    "execution_start": 1654971844456,
    "execution_millis": 2,
    "deepnote_cell_type": "code",
    "deepnote_cell_height": 111.6875
   },
   "outputs": [
    {
     "name": "stdout",
     "text": "Total window for which production schedule is required: 2022-02-16 00:00:00 - 2022-08-15 00:00:00\n",
     "output_type": "stream"
    }
   ],
   "execution_count": 3
  },
  {
   "cell_type": "code",
   "metadata": {
    "cell_id": "f811fb264e254a06b4190c28e512e4c8",
    "tags": [],
    "deepnote_to_be_reexecuted": false,
    "source_hash": "a0a96f3e",
    "execution_start": 1654971847350,
    "execution_millis": 3,
    "deepnote_cell_type": "code",
    "deepnote_cell_height": 171
   },
   "source": "#general cnfiguration\nclass Config():\n    DAY_PRODUCTION_CAPACITY = 1000\n    X_CAT = 'Integer'\n    BATCH_SIZE = 16\n    DAY_BATCH_PRODUCTION_CAPACITY = (DAY_PRODUCTION_CAPACITY/BATCH_SIZE)",
   "execution_count": 4,
   "outputs": []
  },
  {
   "cell_type": "markdown",
   "source": "### Pre processing",
   "metadata": {
    "cell_id": "d7317a0cc3144d28939bd5b5062d5ff7",
    "tags": [],
    "deepnote_cell_type": "markdown",
    "deepnote_cell_height": 62
   }
  },
  {
   "cell_type": "markdown",
   "source": "##### Add beginning inventory as purchase on day 0, to make simpler",
   "metadata": {
    "cell_id": "04d7d37e0aaf46e4b508d226bbad6da6",
    "tags": [],
    "deepnote_cell_type": "markdown",
    "deepnote_cell_height": 54
   }
  },
  {
   "cell_type": "code",
   "metadata": {
    "cell_id": "01c7bbe18de94ee8b89bb0df9d745841",
    "tags": [],
    "deepnote_to_be_reexecuted": false,
    "source_hash": "9b0aaccd",
    "execution_start": 1654971851170,
    "execution_millis": 5,
    "deepnote_cell_type": "code",
    "deepnote_cell_height": 261
   },
   "source": "def processNegativePurchasing(stock, purchasing):\n    purchasingProcessed = purchasing.copy()\n    purchasingProcessed = pd.concat([stock, purchasing])\n    purchasingProcessed = purchasingProcessed.groupby(by=[\"component_number\", \"date\"]).sum().reset_index().sort_values(by=['date','component_number'])\n\n    for componentNumber in tqdm(purchasing['component_number'].unique()):\n        stockOverTime = purchasingProcessed.loc[purchasingProcessed['component_number'] == componentNumber, \"quantity\"].cumsum()\n        stockOverTimeMonotonicallyIncreasing = pd.Series(index = stockOverTime.index, data = np.minimum.accumulate(stockOverTime[::-1]))\n        componentProcessedPurchasing = stockOverTimeMonotonicallyIncreasing - stockOverTimeMonotonicallyIncreasing.shift(1, fill_value=0)\n        purchasingProcessed.loc[purchasingProcessed['component_number'] == componentNumber, 'quantity'] = componentProcessedPurchasing.values\n    return purchasingProcessed",
   "execution_count": 5,
   "outputs": []
  },
  {
   "cell_type": "code",
   "metadata": {
    "cell_id": "8e0e7eb0275a4077a4acd0f7223b92f9",
    "tags": [],
    "deepnote_to_be_reexecuted": false,
    "source_hash": "850ed8a0",
    "execution_start": 1654971852885,
    "execution_millis": 2657,
    "deepnote_cell_type": "code",
    "deepnote_cell_height": 112
   },
   "source": "purchasingProcessed = processNegativePurchasing(stock, purchasing)",
   "execution_count": 6,
   "outputs": [
    {
     "name": "stderr",
     "text": "100%|██████████| 1335/1335 [00:02<00:00, 522.71it/s]\n",
     "output_type": "stream"
    }
   ]
  },
  {
   "cell_type": "code",
   "metadata": {
    "cell_id": "389b069ecefc474db845e0e1905a0d13",
    "tags": [],
    "deepnote_to_be_reexecuted": false,
    "source_hash": "257dfeeb",
    "execution_start": 1654971859185,
    "execution_millis": 3,
    "deepnote_cell_type": "code",
    "deepnote_cell_height": 675
   },
   "source": "class Inventory(object):\n    def __init__(self, purchasing: pd.DataFrame):\n        self.purchasing = purchasing\n\n    def purchasingForDay(self, date, componentNumber = None):\n        date = self.checkTimestamp(date)\n\n        if componentNumber is None:\n            #returns pd.Series with component_number as index & quantity\n            return self.purchasing[self.purchasing['date'] == date].set_index('component_number')['quantity'].reindex(allComponents, fill_value=0)\n        else:\n            #returns int with quantity\n            return self.purchasing[(self.purchasing['date'] == date) & (self.purchasing['component_number'] == componentNumber)]['quantity'].sum()\n\n    def purchasingForPeriod(self, beginDate, endDate, componentNumber = None, inclusive=True):\n\n        beginDate, endDate = self.checkTimestamp(beginDate), self.checkTimestamp(endDate)\n\n        if componentNumber is None:\n            #returns pd.Series with component_number as index & quantity\n            res = self.purchasing[self.purchasing['date'].between(beginDate, endDate, inclusive = inclusive)].groupby(by = 'component_number')['quantity'].sum().reindex(allComponents, fill_value=0)\n            res[res<0] = 0\n            return res \n            \n        else:\n            #returns int with quantity\n            return self.purchasing[(self.purchasing['date'].between(beginDate, endDate, inclusive = inclusive)) & (self.purchasing['component_number'] == componentNumber)]['quantity'].sum()\n\n    def checkTimestamp(self, date):\n        if type(date) is str:\n            return pd.Timestamp(date)\n        else:\n            return date\n",
   "execution_count": 7,
   "outputs": []
  },
  {
   "cell_type": "code",
   "metadata": {
    "cell_id": "ad1a9f0942614dc0a65e52ef70a7c41a",
    "tags": [],
    "deepnote_to_be_reexecuted": false,
    "source_hash": "733b12f0",
    "execution_start": 1654971861208,
    "execution_millis": 2,
    "deepnote_cell_type": "code",
    "deepnote_cell_height": 81
   },
   "source": "test = Inventory(purchasingProcessed)",
   "execution_count": 8,
   "outputs": []
  },
  {
   "cell_type": "code",
   "metadata": {
    "cell_id": "ab9716b4b84f44cdb20f5d7f40403c49",
    "tags": [],
    "deepnote_to_be_reexecuted": false,
    "source_hash": "69e6e5e3",
    "execution_start": 1654971861842,
    "execution_millis": 20,
    "deepnote_table_state": {
     "pageSize": 50,
     "pageIndex": 23,
     "filters": [],
     "sortBy": []
    },
    "deepnote_cell_type": "code",
    "deepnote_cell_height": 809
   },
   "source": "print(test.purchasingForDay('2022-02-16', 25))\nprint()\nprint(test.purchasingForDay('2022-02-16'))\nprint()\nprint(test.purchasingForPeriod('2022-02-16', '2022-05-19', componentNumber=25, inclusive=True))\nprint()\nprint(test.purchasingForPeriod('2022-02-16', '2022-05-19', inclusive=True))",
   "execution_count": 9,
   "outputs": [
    {
     "name": "stdout",
     "text": "-16853\n\ncomponent_number\n0        2297\n1        1998\n2           0\n3        4074\n4        4842\n        ...  \n1389    13462\n1390      691\n1391     6586\n1392        0\n1393    13100\nName: quantity, Length: 1380, dtype: int64\n\n-16853\n\ncomponent_number\n0        2297\n1        1998\n2         840\n3       14074\n4        6842\n        ...  \n1389    23062\n1390      691\n1391     6586\n1392        0\n1393    16540\nName: quantity, Length: 1380, dtype: int64\n",
     "output_type": "stream"
    }
   ]
  },
  {
   "cell_type": "code",
   "source": "class ProductionDayManager(object):\n    def __init__(self, productionDays: list):\n        self.productionDaysArr = np.array(allProductionDays)\n\n    def daysInPeriod(self, beginDay, endDay, inclusive = True):\n        if inclusive:\n            return self.productionDaysArr[self.productionDaysArr >= beginDay & self.productionDaysArr <= endDay]\n        else:\n            return self.productionDaysArr[self.productionDaysArr >= beginDay & self.productionDaysArr < endDay]\n",
   "metadata": {
    "cell_id": "c20a9b7e44484a16b7533c0af7baada2",
    "tags": [],
    "deepnote_to_be_reexecuted": false,
    "source_hash": "f1b276a0",
    "execution_start": 1654971863087,
    "execution_millis": 3,
    "deepnote_cell_type": "code",
    "deepnote_cell_height": 243
   },
   "outputs": [],
   "execution_count": 10
  },
  {
   "cell_type": "code",
   "metadata": {
    "cell_id": "09e0cc55530b48eab0c048ae5522c0f0",
    "tags": [],
    "deepnote_to_be_reexecuted": false,
    "source_hash": "f47f9abb",
    "execution_start": 1654971864988,
    "execution_millis": 2,
    "deepnote_cell_type": "code",
    "deepnote_cell_height": 315
   },
   "source": "def createPeriods(beginDate, endDate, nPeriods, inclusive=False):\n    beginDate = pd.Timestamp(beginDate)\n    endDate = pd.Timestamp(endDate)\n    length = (endDate - beginDate).days\n    lengthPerPeriod = int(length/nPeriods)\n    res = []\n    for i in range(nPeriods-1):\n        addDay = (not inclusive) and (i is not 0)\n        periodBegin =  beginDate + pd.Timedelta(days= i * lengthPerPeriod + addDay)\n        periodEnd = beginDate + pd.Timedelta(days= (i+1) * lengthPerPeriod)\n        res.append((periodBegin, periodEnd))\n    \n    res.append((res[-1][-1] + pd.Timedelta(days=int(not inclusive)), endDate))\n    return res",
   "execution_count": 11,
   "outputs": []
  },
  {
   "cell_type": "code",
   "source": "def getBusDaysInPeriod(periodBegin: pd.Timestamp, periodEnd: pd.Timestamp):\n    return list(pd.bdate_range(periodBegin, periodEnd))",
   "metadata": {
    "cell_id": "2f90834cc38a4054b56ed410d96f02dd",
    "tags": [],
    "deepnote_to_be_reexecuted": false,
    "source_hash": "43dd4b70",
    "execution_start": 1654971865960,
    "execution_millis": 3,
    "deepnote_cell_type": "code",
    "deepnote_cell_height": 99
   },
   "outputs": [],
   "execution_count": 12
  },
  {
   "cell_type": "code",
   "source": "def nBusDays(periodBegin: pd.Timestamp, periodEnd: pd.Timestamp):\n    periodBegin = periodBegin.to_pydatetime().date()\n    periodEnd= periodEnd.to_pydatetime().date()\n    return np.busday_count(periodBegin, periodEnd)",
   "metadata": {
    "cell_id": "e9a289c92a604e5c99a6de44fa1ef1f6",
    "tags": [],
    "deepnote_to_be_reexecuted": false,
    "source_hash": "f425a630",
    "execution_start": 1654971867960,
    "execution_millis": 2,
    "deepnote_cell_type": "code",
    "deepnote_cell_height": 135
   },
   "outputs": [],
   "execution_count": 13
  },
  {
   "cell_type": "code",
   "source": "def convertToBatchSize(bom, articles, batchSize):\n    # bom quantities * batchSize\n    # articles revenue * 16\n    bomProcessed = bom.copy()\n    articlesProcessed = articles.copy()\n    bomProcessed['quantity'] = bomProcessed['quantity'] * batchSize\n    articlesProcessed['revenue'] = articlesProcessed['revenue'] * batchSize\n    return bomProcessed, articlesProcessed",
   "metadata": {
    "cell_id": "b567fbc764fe414b8291a8fcf8bb612d",
    "tags": [],
    "deepnote_to_be_reexecuted": false,
    "source_hash": "1aca49ba",
    "execution_start": 1654971869924,
    "execution_millis": 1,
    "deepnote_cell_type": "code",
    "deepnote_cell_height": 207
   },
   "outputs": [],
   "execution_count": 14
  },
  {
   "cell_type": "code",
   "source": "bomBatch, articlesBatch = convertToBatchSize(bom, articles, Config.BATCH_SIZE)",
   "metadata": {
    "cell_id": "def7011be4364624bf1fe91d7d61daf7",
    "tags": [],
    "deepnote_to_be_reexecuted": false,
    "source_hash": "92910d29",
    "execution_start": 1654971869925,
    "execution_millis": 1,
    "deepnote_cell_type": "code",
    "deepnote_cell_height": 81
   },
   "outputs": [],
   "execution_count": 15
  },
  {
   "cell_type": "markdown",
   "source": "### Simple per period planning\nEach period, take available inventories at beginning of periiod",
   "metadata": {
    "cell_id": "98e7259db61b4b75af8367b91ee7a6cf",
    "tags": [],
    "deepnote_cell_type": "markdown",
    "deepnote_cell_height": 100.390625
   }
  },
  {
   "cell_type": "code",
   "metadata": {
    "cell_id": "2b97ca88b8764e7f84d8d4b238011005",
    "tags": [],
    "deepnote_to_be_reexecuted": false,
    "source_hash": "5348dbf7",
    "execution_start": 1654971878064,
    "execution_millis": 3,
    "deepnote_cell_type": "code",
    "deepnote_cell_height": 153
   },
   "source": "def getComponentsRequired(componentNumber, bom):\n    required = bom[(bom['component_number'] == componentNumber)]\n    if len(required) == 0:\n        return 0\n    return required.set_index(\"article_number\")['quantity']",
   "execution_count": 16,
   "outputs": []
  },
  {
   "cell_type": "code",
   "metadata": {
    "cell_id": "6635b9a3ce034e619088d79a0a6360e7",
    "tags": [],
    "deepnote_to_be_reexecuted": false,
    "source_hash": "66732daf",
    "execution_start": 1654958167878,
    "execution_millis": 5153,
    "deepnote_table_state": {
     "pageSize": 10,
     "pageIndex": 0,
     "filters": [],
     "sortBy": []
    },
    "deepnote_table_loading": false,
    "deepnote_cell_type": "code",
    "deepnote_cell_height": 1072.53125
   },
   "source": "periods = createPeriods('2022-02-16', '2022-05-19', 2)\nprint(f\"Period length: {(periods[0][1] -periods[0][0]).days}\")\nperiod0 = (pd.Timestamp('2000-01-01'), periods[0][0]) #only beginning inventory\nlastPeriod = (periods[-1][-1], pd.Timestamp('2100-01-01'))\nperiods = [period0] + periods + [lastPeriod]\n\n\nproductionDf = pd.DataFrame(columns=['article_number','period', 'periodNumber','quantity_batch'])\nfor periodNumber, period in enumerate(periods[:-1]):\n    periodBegin = period[0]\n    periodEnd= period[1]\n    ##replace this with for loop in a bit\n    inv = Inventory(purchasingProcessed)\n    availableInv = inv.purchasingForPeriod(periodBegin, periodEnd)\n    print(periodNumber, periodBegin, periodEnd)\n    periodLength = (periodEnd - periodBegin).days\n    model = LpProblem(name='Production', sense=LpMaximize)\n\n    #variables that represent quantity of article i produced\n    #x: #batches\n    x = {i: LpVariable(name=f\"x{i}\", lowBound=0, upBound=Config.DAY_BATCH_PRODUCTION_CAPACITY*periodLength, cat=Config.X_CAT) for i in articles['article_number']}\n\n\n    #Objective\n    revenue = articlesBatch.set_index('article_number')['revenue'].to_dict()\n    model += lpSum(x[i] * revenue[i] for i in x.keys())\n\n    #Constraint component usage\n    for j in tqdm(allComponents):\n        componentsRequired = getComponentsRequired(j, bomBatch) #returns series wirh index article_number and value quantity\n        affineDict = {x[i]: quantity for i, quantity in componentsRequired.iteritems()}\n        #print(affineDict)\n        model += LpAffineExpression(affineDict) <= availableInv[j], f\"Constraint component {j}\"\n        #model += lpSum([x[i] * quantity for i, quantity in componentsRequired.iteritems()]) <= availableInv[j], f\"Constraint component {j}\"\n    #print(model)\n    status = model.solve()\n    print(f\"Period solved with status {status}\")\n    periodProduction = [{'article_number':i,'quantity_batch':_.value(),'periodNumber':periodNumber, 'period': periods[periodNumber+1]} for i,_ in x.items() if _.value() > 0]\n    print(periodProduction)\n    productionDf = productionDf.append(periodProduction, ignore_index=True)\n",
   "outputs": [
    {
     "name": "stdout",
     "text": "Period length: 46\n0 2000-01-01 00:00:00 2022-02-16 00:00:00\n100%|██████████| 1380/1380 [00:01<00:00, 933.27it/s]\nPeriod solved with status 1\n[{'article_number': 287, 'quantity_batch': 13.0, 'periodNumber': 0, 'period': (Timestamp('2022-02-16 00:00:00'), Timestamp('2022-04-03 00:00:00'))}, {'article_number': 174, 'quantity_batch': 1.0, 'periodNumber': 0, 'period': (Timestamp('2022-02-16 00:00:00'), Timestamp('2022-04-03 00:00:00'))}, {'article_number': 66, 'quantity_batch': 1.0, 'periodNumber': 0, 'period': (Timestamp('2022-02-16 00:00:00'), Timestamp('2022-04-03 00:00:00'))}, {'article_number': 124, 'quantity_batch': 1.0, 'periodNumber': 0, 'period': (Timestamp('2022-02-16 00:00:00'), Timestamp('2022-04-03 00:00:00'))}, {'article_number': 137, 'quantity_batch': 2.0, 'periodNumber': 0, 'period': (Timestamp('2022-02-16 00:00:00'), Timestamp('2022-04-03 00:00:00'))}, {'article_number': 404, 'quantity_batch': 2.0, 'periodNumber': 0, 'period': (Timestamp('2022-02-16 00:00:00'), Timestamp('2022-04-03 00:00:00'))}, {'article_number': 11, 'quantity_batch': 1.0, 'periodNumber': 0, 'period': (Timestamp('2022-02-16 00:00:00'), Timestamp('2022-04-03 00:00:00'))}, {'article_number': 44, 'quantity_batch': 1.0, 'periodNumber': 0, 'period': (Timestamp('2022-02-16 00:00:00'), Timestamp('2022-04-03 00:00:00'))}, {'article_number': 79, 'quantity_batch': 3.0, 'periodNumber': 0, 'period': (Timestamp('2022-02-16 00:00:00'), Timestamp('2022-04-03 00:00:00'))}, {'article_number': 98, 'quantity_batch': 18.0, 'periodNumber': 0, 'period': (Timestamp('2022-02-16 00:00:00'), Timestamp('2022-04-03 00:00:00'))}, {'article_number': 201, 'quantity_batch': 2.0, 'periodNumber': 0, 'period': (Timestamp('2022-02-16 00:00:00'), Timestamp('2022-04-03 00:00:00'))}, {'article_number': 437, 'quantity_batch': 1.0, 'periodNumber': 0, 'period': (Timestamp('2022-02-16 00:00:00'), Timestamp('2022-04-03 00:00:00'))}, {'article_number': 85, 'quantity_batch': 2.0, 'periodNumber': 0, 'period': (Timestamp('2022-02-16 00:00:00'), Timestamp('2022-04-03 00:00:00'))}, {'article_number': 430, 'quantity_batch': 1.0, 'periodNumber': 0, 'period': (Timestamp('2022-02-16 00:00:00'), Timestamp('2022-04-03 00:00:00'))}]\n1 2022-02-16 00:00:00 2022-04-03 00:00:00\n100%|██████████| 1380/1380 [00:01<00:00, 938.78it/s]\nPeriod solved with status 1\n[{'article_number': 176, 'quantity_batch': 10.0, 'periodNumber': 1, 'period': (Timestamp('2022-04-04 00:00:00'), Timestamp('2022-05-19 00:00:00'))}, {'article_number': 287, 'quantity_batch': 137.0, 'periodNumber': 1, 'period': (Timestamp('2022-04-04 00:00:00'), Timestamp('2022-05-19 00:00:00'))}, {'article_number': 174, 'quantity_batch': 1.0, 'periodNumber': 1, 'period': (Timestamp('2022-04-04 00:00:00'), Timestamp('2022-05-19 00:00:00'))}, {'article_number': 66, 'quantity_batch': 7.0, 'periodNumber': 1, 'period': (Timestamp('2022-04-04 00:00:00'), Timestamp('2022-05-19 00:00:00'))}, {'article_number': 53, 'quantity_batch': 100.0, 'periodNumber': 1, 'period': (Timestamp('2022-04-04 00:00:00'), Timestamp('2022-05-19 00:00:00'))}, {'article_number': 333, 'quantity_batch': 94.0, 'periodNumber': 1, 'period': (Timestamp('2022-04-04 00:00:00'), Timestamp('2022-05-19 00:00:00'))}, {'article_number': 313, 'quantity_batch': 32.0, 'periodNumber': 1, 'period': (Timestamp('2022-04-04 00:00:00'), Timestamp('2022-05-19 00:00:00'))}, {'article_number': 12, 'quantity_batch': 18.0, 'periodNumber': 1, 'period': (Timestamp('2022-04-04 00:00:00'), Timestamp('2022-05-19 00:00:00'))}, {'article_number': 124, 'quantity_batch': 1.0, 'periodNumber': 1, 'period': (Timestamp('2022-04-04 00:00:00'), Timestamp('2022-05-19 00:00:00'))}, {'article_number': 421, 'quantity_batch': 87.0, 'periodNumber': 1, 'period': (Timestamp('2022-04-04 00:00:00'), Timestamp('2022-05-19 00:00:00'))}, {'article_number': 137, 'quantity_batch': 387.0, 'periodNumber': 1, 'period': (Timestamp('2022-04-04 00:00:00'), Timestamp('2022-05-19 00:00:00'))}, {'article_number': 404, 'quantity_batch': 62.0, 'periodNumber': 1, 'period': (Timestamp('2022-04-04 00:00:00'), Timestamp('2022-05-19 00:00:00'))}, {'article_number': 391, 'quantity_batch': 47.0, 'periodNumber': 1, 'period': (Timestamp('2022-04-04 00:00:00'), Timestamp('2022-05-19 00:00:00'))}, {'article_number': 182, 'quantity_batch': 10.0, 'periodNumber': 1, 'period': (Timestamp('2022-04-04 00:00:00'), Timestamp('2022-05-19 00:00:00'))}, {'article_number': 52, 'quantity_batch': 5.0, 'periodNumber': 1, 'period': (Timestamp('2022-04-04 00:00:00'), Timestamp('2022-05-19 00:00:00'))}, {'article_number': 110, 'quantity_batch': 5.0, 'periodNumber': 1, 'period': (Timestamp('2022-04-04 00:00:00'), Timestamp('2022-05-19 00:00:00'))}, {'article_number': 305, 'quantity_batch': 6.0, 'periodNumber': 1, 'period': (Timestamp('2022-04-04 00:00:00'), Timestamp('2022-05-19 00:00:00'))}, {'article_number': 369, 'quantity_batch': 53.0, 'periodNumber': 1, 'period': (Timestamp('2022-04-04 00:00:00'), Timestamp('2022-05-19 00:00:00'))}, {'article_number': 11, 'quantity_batch': 1.0, 'periodNumber': 1, 'period': (Timestamp('2022-04-04 00:00:00'), Timestamp('2022-05-19 00:00:00'))}, {'article_number': 348, 'quantity_batch': 56.0, 'periodNumber': 1, 'period': (Timestamp('2022-04-04 00:00:00'), Timestamp('2022-05-19 00:00:00'))}, {'article_number': 208, 'quantity_batch': 2.0, 'periodNumber': 1, 'period': (Timestamp('2022-04-04 00:00:00'), Timestamp('2022-05-19 00:00:00'))}, {'article_number': 265, 'quantity_batch': 9.0, 'periodNumber': 1, 'period': (Timestamp('2022-04-04 00:00:00'), Timestamp('2022-05-19 00:00:00'))}, {'article_number': 44, 'quantity_batch': 4.0, 'periodNumber': 1, 'period': (Timestamp('2022-04-04 00:00:00'), Timestamp('2022-05-19 00:00:00'))}, {'article_number': 79, 'quantity_batch': 33.0, 'periodNumber': 1, 'period': (Timestamp('2022-04-04 00:00:00'), Timestamp('2022-05-19 00:00:00'))}, {'article_number': 67, 'quantity_batch': 8.0, 'periodNumber': 1, 'period': (Timestamp('2022-04-04 00:00:00'), Timestamp('2022-05-19 00:00:00'))}, {'article_number': 98, 'quantity_batch': 42.0, 'periodNumber': 1, 'period': (Timestamp('2022-04-04 00:00:00'), Timestamp('2022-05-19 00:00:00'))}, {'article_number': 102, 'quantity_batch': 16.0, 'periodNumber': 1, 'period': (Timestamp('2022-04-04 00:00:00'), Timestamp('2022-05-19 00:00:00'))}, {'article_number': 201, 'quantity_batch': 1.0, 'periodNumber': 1, 'period': (Timestamp('2022-04-04 00:00:00'), Timestamp('2022-05-19 00:00:00'))}, {'article_number': 311, 'quantity_batch': 110.0, 'periodNumber': 1, 'period': (Timestamp('2022-04-04 00:00:00'), Timestamp('2022-05-19 00:00:00'))}, {'article_number': 385, 'quantity_batch': 5.0, 'periodNumber': 1, 'period': (Timestamp('2022-04-04 00:00:00'), Timestamp('2022-05-19 00:00:00'))}, {'article_number': 417, 'quantity_batch': 13.0, 'periodNumber': 1, 'period': (Timestamp('2022-04-04 00:00:00'), Timestamp('2022-05-19 00:00:00'))}, {'article_number': 149, 'quantity_batch': 25.0, 'periodNumber': 1, 'period': (Timestamp('2022-04-04 00:00:00'), Timestamp('2022-05-19 00:00:00'))}, {'article_number': 437, 'quantity_batch': 130.0, 'periodNumber': 1, 'period': (Timestamp('2022-04-04 00:00:00'), Timestamp('2022-05-19 00:00:00'))}, {'article_number': 494, 'quantity_batch': 22.0, 'periodNumber': 1, 'period': (Timestamp('2022-04-04 00:00:00'), Timestamp('2022-05-19 00:00:00'))}, {'article_number': 173, 'quantity_batch': 23.0, 'periodNumber': 1, 'period': (Timestamp('2022-04-04 00:00:00'), Timestamp('2022-05-19 00:00:00'))}, {'article_number': 430, 'quantity_batch': 1.0, 'periodNumber': 1, 'period': (Timestamp('2022-04-04 00:00:00'), Timestamp('2022-05-19 00:00:00'))}]\n2 2022-04-04 00:00:00 2022-05-19 00:00:00\n100%|██████████| 1380/1380 [00:01<00:00, 925.92it/s]\nPeriod solved with status 1\n[]\n",
     "output_type": "stream"
    }
   ],
   "execution_count": null
  },
  {
   "cell_type": "code",
   "metadata": {
    "cell_id": "614d6c7c833d4159bb26639930a572b4",
    "tags": [],
    "deepnote_to_be_reexecuted": false,
    "source_hash": "12b32e7a",
    "execution_start": 1654958175870,
    "execution_millis": 41,
    "deepnote_table_state": {
     "pageSize": 10,
     "pageIndex": 7,
     "filters": [],
     "sortBy": []
    },
    "deepnote_table_loading": false,
    "deepnote_table_invalid": false,
    "deepnote_cell_type": "code",
    "deepnote_cell_height": 600
   },
   "source": "productionDf",
   "outputs": [
    {
     "output_type": "execute_result",
     "execution_count": 17,
     "data": {
      "application/vnd.deepnote.dataframe.v3+json": {
       "column_count": 4,
       "row_count": 50,
       "columns": [
        {
         "name": "article_number",
         "dtype": "object",
         "stats": {
          "unique_count": 37,
          "nan_count": 0,
          "categories": [
           {
            "name": "287",
            "count": 2
           },
           {
            "name": "174",
            "count": 2
           },
           {
            "name": "35 others",
            "count": 46
           }
          ]
         }
        },
        {
         "name": "period",
         "dtype": "object",
         "stats": {
          "unique_count": 2,
          "nan_count": 0,
          "categories": [
           {
            "name": "(Timestamp('2022-04-04 00:00:00'), Timestamp('2022-05-19 00:00:00'))",
            "count": 36
           },
           {
            "name": "(Timestamp('2022-02-16 00:00:00'), Timestamp('2022-04-03 00:00:00'))",
            "count": 14
           }
          ]
         }
        },
        {
         "name": "periodNumber",
         "dtype": "object",
         "stats": {
          "unique_count": 2,
          "nan_count": 0,
          "categories": [
           {
            "name": "1",
            "count": 36
           },
           {
            "name": "0",
            "count": 14
           }
          ]
         }
        },
        {
         "name": "quantity_batch",
         "dtype": "float64",
         "stats": {
          "unique_count": 30,
          "nan_count": 0,
          "min": "1.0",
          "max": "387.0",
          "histogram": [
           {
            "bin_start": 1,
            "bin_end": 39.6,
            "count": 38
           },
           {
            "bin_start": 39.6,
            "bin_end": 78.2,
            "count": 5
           },
           {
            "bin_start": 78.2,
            "bin_end": 116.80000000000001,
            "count": 4
           },
           {
            "bin_start": 116.80000000000001,
            "bin_end": 155.4,
            "count": 2
           },
           {
            "bin_start": 155.4,
            "bin_end": 194,
            "count": 0
           },
           {
            "bin_start": 194,
            "bin_end": 232.60000000000002,
            "count": 0
           },
           {
            "bin_start": 232.60000000000002,
            "bin_end": 271.2,
            "count": 0
           },
           {
            "bin_start": 271.2,
            "bin_end": 309.8,
            "count": 0
           },
           {
            "bin_start": 309.8,
            "bin_end": 348.40000000000003,
            "count": 0
           },
           {
            "bin_start": 348.40000000000003,
            "bin_end": 387,
            "count": 1
           }
          ]
         }
        },
        {
         "name": "_deepnote_index_column",
         "dtype": "int64"
        }
       ],
       "rows": [
        {
         "article_number": "102",
         "period": "(Timestamp('2022-04-04 00:00:00'), Timestamp('2022-05-19 00:00:00'))",
         "periodNumber": "1",
         "quantity_batch": 16,
         "_deepnote_index_column": 40
        },
        {
         "article_number": "201",
         "period": "(Timestamp('2022-04-04 00:00:00'), Timestamp('2022-05-19 00:00:00'))",
         "periodNumber": "1",
         "quantity_batch": 1,
         "_deepnote_index_column": 41
        },
        {
         "article_number": "311",
         "period": "(Timestamp('2022-04-04 00:00:00'), Timestamp('2022-05-19 00:00:00'))",
         "periodNumber": "1",
         "quantity_batch": 110,
         "_deepnote_index_column": 42
        },
        {
         "article_number": "385",
         "period": "(Timestamp('2022-04-04 00:00:00'), Timestamp('2022-05-19 00:00:00'))",
         "periodNumber": "1",
         "quantity_batch": 5,
         "_deepnote_index_column": 43
        },
        {
         "article_number": "417",
         "period": "(Timestamp('2022-04-04 00:00:00'), Timestamp('2022-05-19 00:00:00'))",
         "periodNumber": "1",
         "quantity_batch": 13,
         "_deepnote_index_column": 44
        },
        {
         "article_number": "149",
         "period": "(Timestamp('2022-04-04 00:00:00'), Timestamp('2022-05-19 00:00:00'))",
         "periodNumber": "1",
         "quantity_batch": 25,
         "_deepnote_index_column": 45
        },
        {
         "article_number": "437",
         "period": "(Timestamp('2022-04-04 00:00:00'), Timestamp('2022-05-19 00:00:00'))",
         "periodNumber": "1",
         "quantity_batch": 130,
         "_deepnote_index_column": 46
        },
        {
         "article_number": "494",
         "period": "(Timestamp('2022-04-04 00:00:00'), Timestamp('2022-05-19 00:00:00'))",
         "periodNumber": "1",
         "quantity_batch": 22,
         "_deepnote_index_column": 47
        },
        {
         "article_number": "173",
         "period": "(Timestamp('2022-04-04 00:00:00'), Timestamp('2022-05-19 00:00:00'))",
         "periodNumber": "1",
         "quantity_batch": 23,
         "_deepnote_index_column": 48
        },
        {
         "article_number": "430",
         "period": "(Timestamp('2022-04-04 00:00:00'), Timestamp('2022-05-19 00:00:00'))",
         "periodNumber": "1",
         "quantity_batch": 1,
         "_deepnote_index_column": 49
        }
       ]
      },
      "text/plain": "   article_number                                      period periodNumber  \\\n0             287  (2022-02-16 00:00:00, 2022-04-03 00:00:00)            0   \n1             174  (2022-02-16 00:00:00, 2022-04-03 00:00:00)            0   \n2              66  (2022-02-16 00:00:00, 2022-04-03 00:00:00)            0   \n3             124  (2022-02-16 00:00:00, 2022-04-03 00:00:00)            0   \n4             137  (2022-02-16 00:00:00, 2022-04-03 00:00:00)            0   \n5             404  (2022-02-16 00:00:00, 2022-04-03 00:00:00)            0   \n6              11  (2022-02-16 00:00:00, 2022-04-03 00:00:00)            0   \n7              44  (2022-02-16 00:00:00, 2022-04-03 00:00:00)            0   \n8              79  (2022-02-16 00:00:00, 2022-04-03 00:00:00)            0   \n9              98  (2022-02-16 00:00:00, 2022-04-03 00:00:00)            0   \n10            201  (2022-02-16 00:00:00, 2022-04-03 00:00:00)            0   \n11            437  (2022-02-16 00:00:00, 2022-04-03 00:00:00)            0   \n12             85  (2022-02-16 00:00:00, 2022-04-03 00:00:00)            0   \n13            430  (2022-02-16 00:00:00, 2022-04-03 00:00:00)            0   \n14            176  (2022-04-04 00:00:00, 2022-05-19 00:00:00)            1   \n15            287  (2022-04-04 00:00:00, 2022-05-19 00:00:00)            1   \n16            174  (2022-04-04 00:00:00, 2022-05-19 00:00:00)            1   \n17             66  (2022-04-04 00:00:00, 2022-05-19 00:00:00)            1   \n18             53  (2022-04-04 00:00:00, 2022-05-19 00:00:00)            1   \n19            333  (2022-04-04 00:00:00, 2022-05-19 00:00:00)            1   \n20            313  (2022-04-04 00:00:00, 2022-05-19 00:00:00)            1   \n21             12  (2022-04-04 00:00:00, 2022-05-19 00:00:00)            1   \n22            124  (2022-04-04 00:00:00, 2022-05-19 00:00:00)            1   \n23            421  (2022-04-04 00:00:00, 2022-05-19 00:00:00)            1   \n24            137  (2022-04-04 00:00:00, 2022-05-19 00:00:00)            1   \n25            404  (2022-04-04 00:00:00, 2022-05-19 00:00:00)            1   \n26            391  (2022-04-04 00:00:00, 2022-05-19 00:00:00)            1   \n27            182  (2022-04-04 00:00:00, 2022-05-19 00:00:00)            1   \n28             52  (2022-04-04 00:00:00, 2022-05-19 00:00:00)            1   \n29            110  (2022-04-04 00:00:00, 2022-05-19 00:00:00)            1   \n30            305  (2022-04-04 00:00:00, 2022-05-19 00:00:00)            1   \n31            369  (2022-04-04 00:00:00, 2022-05-19 00:00:00)            1   \n32             11  (2022-04-04 00:00:00, 2022-05-19 00:00:00)            1   \n33            348  (2022-04-04 00:00:00, 2022-05-19 00:00:00)            1   \n34            208  (2022-04-04 00:00:00, 2022-05-19 00:00:00)            1   \n35            265  (2022-04-04 00:00:00, 2022-05-19 00:00:00)            1   \n36             44  (2022-04-04 00:00:00, 2022-05-19 00:00:00)            1   \n37             79  (2022-04-04 00:00:00, 2022-05-19 00:00:00)            1   \n38             67  (2022-04-04 00:00:00, 2022-05-19 00:00:00)            1   \n39             98  (2022-04-04 00:00:00, 2022-05-19 00:00:00)            1   \n40            102  (2022-04-04 00:00:00, 2022-05-19 00:00:00)            1   \n41            201  (2022-04-04 00:00:00, 2022-05-19 00:00:00)            1   \n42            311  (2022-04-04 00:00:00, 2022-05-19 00:00:00)            1   \n43            385  (2022-04-04 00:00:00, 2022-05-19 00:00:00)            1   \n44            417  (2022-04-04 00:00:00, 2022-05-19 00:00:00)            1   \n45            149  (2022-04-04 00:00:00, 2022-05-19 00:00:00)            1   \n46            437  (2022-04-04 00:00:00, 2022-05-19 00:00:00)            1   \n47            494  (2022-04-04 00:00:00, 2022-05-19 00:00:00)            1   \n48            173  (2022-04-04 00:00:00, 2022-05-19 00:00:00)            1   \n49            430  (2022-04-04 00:00:00, 2022-05-19 00:00:00)            1   \n\n    quantity_batch  \n0             13.0  \n1              1.0  \n2              1.0  \n3              1.0  \n4              2.0  \n5              2.0  \n6              1.0  \n7              1.0  \n8              3.0  \n9             18.0  \n10             2.0  \n11             1.0  \n12             2.0  \n13             1.0  \n14            10.0  \n15           137.0  \n16             1.0  \n17             7.0  \n18           100.0  \n19            94.0  \n20            32.0  \n21            18.0  \n22             1.0  \n23            87.0  \n24           387.0  \n25            62.0  \n26            47.0  \n27            10.0  \n28             5.0  \n29             5.0  \n30             6.0  \n31            53.0  \n32             1.0  \n33            56.0  \n34             2.0  \n35             9.0  \n36             4.0  \n37            33.0  \n38             8.0  \n39            42.0  \n40            16.0  \n41             1.0  \n42           110.0  \n43             5.0  \n44            13.0  \n45            25.0  \n46           130.0  \n47            22.0  \n48            23.0  \n49             1.0  ",
      "text/html": "<div>\n<style scoped>\n    .dataframe tbody tr th:only-of-type {\n        vertical-align: middle;\n    }\n\n    .dataframe tbody tr th {\n        vertical-align: top;\n    }\n\n    .dataframe thead th {\n        text-align: right;\n    }\n</style>\n<table border=\"1\" class=\"dataframe\">\n  <thead>\n    <tr style=\"text-align: right;\">\n      <th></th>\n      <th>article_number</th>\n      <th>period</th>\n      <th>periodNumber</th>\n      <th>quantity_batch</th>\n    </tr>\n  </thead>\n  <tbody>\n    <tr>\n      <th>0</th>\n      <td>287</td>\n      <td>(2022-02-16 00:00:00, 2022-04-03 00:00:00)</td>\n      <td>0</td>\n      <td>13.0</td>\n    </tr>\n    <tr>\n      <th>1</th>\n      <td>174</td>\n      <td>(2022-02-16 00:00:00, 2022-04-03 00:00:00)</td>\n      <td>0</td>\n      <td>1.0</td>\n    </tr>\n    <tr>\n      <th>2</th>\n      <td>66</td>\n      <td>(2022-02-16 00:00:00, 2022-04-03 00:00:00)</td>\n      <td>0</td>\n      <td>1.0</td>\n    </tr>\n    <tr>\n      <th>3</th>\n      <td>124</td>\n      <td>(2022-02-16 00:00:00, 2022-04-03 00:00:00)</td>\n      <td>0</td>\n      <td>1.0</td>\n    </tr>\n    <tr>\n      <th>4</th>\n      <td>137</td>\n      <td>(2022-02-16 00:00:00, 2022-04-03 00:00:00)</td>\n      <td>0</td>\n      <td>2.0</td>\n    </tr>\n    <tr>\n      <th>5</th>\n      <td>404</td>\n      <td>(2022-02-16 00:00:00, 2022-04-03 00:00:00)</td>\n      <td>0</td>\n      <td>2.0</td>\n    </tr>\n    <tr>\n      <th>6</th>\n      <td>11</td>\n      <td>(2022-02-16 00:00:00, 2022-04-03 00:00:00)</td>\n      <td>0</td>\n      <td>1.0</td>\n    </tr>\n    <tr>\n      <th>7</th>\n      <td>44</td>\n      <td>(2022-02-16 00:00:00, 2022-04-03 00:00:00)</td>\n      <td>0</td>\n      <td>1.0</td>\n    </tr>\n    <tr>\n      <th>8</th>\n      <td>79</td>\n      <td>(2022-02-16 00:00:00, 2022-04-03 00:00:00)</td>\n      <td>0</td>\n      <td>3.0</td>\n    </tr>\n    <tr>\n      <th>9</th>\n      <td>98</td>\n      <td>(2022-02-16 00:00:00, 2022-04-03 00:00:00)</td>\n      <td>0</td>\n      <td>18.0</td>\n    </tr>\n    <tr>\n      <th>10</th>\n      <td>201</td>\n      <td>(2022-02-16 00:00:00, 2022-04-03 00:00:00)</td>\n      <td>0</td>\n      <td>2.0</td>\n    </tr>\n    <tr>\n      <th>11</th>\n      <td>437</td>\n      <td>(2022-02-16 00:00:00, 2022-04-03 00:00:00)</td>\n      <td>0</td>\n      <td>1.0</td>\n    </tr>\n    <tr>\n      <th>12</th>\n      <td>85</td>\n      <td>(2022-02-16 00:00:00, 2022-04-03 00:00:00)</td>\n      <td>0</td>\n      <td>2.0</td>\n    </tr>\n    <tr>\n      <th>13</th>\n      <td>430</td>\n      <td>(2022-02-16 00:00:00, 2022-04-03 00:00:00)</td>\n      <td>0</td>\n      <td>1.0</td>\n    </tr>\n    <tr>\n      <th>14</th>\n      <td>176</td>\n      <td>(2022-04-04 00:00:00, 2022-05-19 00:00:00)</td>\n      <td>1</td>\n      <td>10.0</td>\n    </tr>\n    <tr>\n      <th>15</th>\n      <td>287</td>\n      <td>(2022-04-04 00:00:00, 2022-05-19 00:00:00)</td>\n      <td>1</td>\n      <td>137.0</td>\n    </tr>\n    <tr>\n      <th>16</th>\n      <td>174</td>\n      <td>(2022-04-04 00:00:00, 2022-05-19 00:00:00)</td>\n      <td>1</td>\n      <td>1.0</td>\n    </tr>\n    <tr>\n      <th>17</th>\n      <td>66</td>\n      <td>(2022-04-04 00:00:00, 2022-05-19 00:00:00)</td>\n      <td>1</td>\n      <td>7.0</td>\n    </tr>\n    <tr>\n      <th>18</th>\n      <td>53</td>\n      <td>(2022-04-04 00:00:00, 2022-05-19 00:00:00)</td>\n      <td>1</td>\n      <td>100.0</td>\n    </tr>\n    <tr>\n      <th>19</th>\n      <td>333</td>\n      <td>(2022-04-04 00:00:00, 2022-05-19 00:00:00)</td>\n      <td>1</td>\n      <td>94.0</td>\n    </tr>\n    <tr>\n      <th>20</th>\n      <td>313</td>\n      <td>(2022-04-04 00:00:00, 2022-05-19 00:00:00)</td>\n      <td>1</td>\n      <td>32.0</td>\n    </tr>\n    <tr>\n      <th>21</th>\n      <td>12</td>\n      <td>(2022-04-04 00:00:00, 2022-05-19 00:00:00)</td>\n      <td>1</td>\n      <td>18.0</td>\n    </tr>\n    <tr>\n      <th>22</th>\n      <td>124</td>\n      <td>(2022-04-04 00:00:00, 2022-05-19 00:00:00)</td>\n      <td>1</td>\n      <td>1.0</td>\n    </tr>\n    <tr>\n      <th>23</th>\n      <td>421</td>\n      <td>(2022-04-04 00:00:00, 2022-05-19 00:00:00)</td>\n      <td>1</td>\n      <td>87.0</td>\n    </tr>\n    <tr>\n      <th>24</th>\n      <td>137</td>\n      <td>(2022-04-04 00:00:00, 2022-05-19 00:00:00)</td>\n      <td>1</td>\n      <td>387.0</td>\n    </tr>\n    <tr>\n      <th>25</th>\n      <td>404</td>\n      <td>(2022-04-04 00:00:00, 2022-05-19 00:00:00)</td>\n      <td>1</td>\n      <td>62.0</td>\n    </tr>\n    <tr>\n      <th>26</th>\n      <td>391</td>\n      <td>(2022-04-04 00:00:00, 2022-05-19 00:00:00)</td>\n      <td>1</td>\n      <td>47.0</td>\n    </tr>\n    <tr>\n      <th>27</th>\n      <td>182</td>\n      <td>(2022-04-04 00:00:00, 2022-05-19 00:00:00)</td>\n      <td>1</td>\n      <td>10.0</td>\n    </tr>\n    <tr>\n      <th>28</th>\n      <td>52</td>\n      <td>(2022-04-04 00:00:00, 2022-05-19 00:00:00)</td>\n      <td>1</td>\n      <td>5.0</td>\n    </tr>\n    <tr>\n      <th>29</th>\n      <td>110</td>\n      <td>(2022-04-04 00:00:00, 2022-05-19 00:00:00)</td>\n      <td>1</td>\n      <td>5.0</td>\n    </tr>\n    <tr>\n      <th>30</th>\n      <td>305</td>\n      <td>(2022-04-04 00:00:00, 2022-05-19 00:00:00)</td>\n      <td>1</td>\n      <td>6.0</td>\n    </tr>\n    <tr>\n      <th>31</th>\n      <td>369</td>\n      <td>(2022-04-04 00:00:00, 2022-05-19 00:00:00)</td>\n      <td>1</td>\n      <td>53.0</td>\n    </tr>\n    <tr>\n      <th>32</th>\n      <td>11</td>\n      <td>(2022-04-04 00:00:00, 2022-05-19 00:00:00)</td>\n      <td>1</td>\n      <td>1.0</td>\n    </tr>\n    <tr>\n      <th>33</th>\n      <td>348</td>\n      <td>(2022-04-04 00:00:00, 2022-05-19 00:00:00)</td>\n      <td>1</td>\n      <td>56.0</td>\n    </tr>\n    <tr>\n      <th>34</th>\n      <td>208</td>\n      <td>(2022-04-04 00:00:00, 2022-05-19 00:00:00)</td>\n      <td>1</td>\n      <td>2.0</td>\n    </tr>\n    <tr>\n      <th>35</th>\n      <td>265</td>\n      <td>(2022-04-04 00:00:00, 2022-05-19 00:00:00)</td>\n      <td>1</td>\n      <td>9.0</td>\n    </tr>\n    <tr>\n      <th>36</th>\n      <td>44</td>\n      <td>(2022-04-04 00:00:00, 2022-05-19 00:00:00)</td>\n      <td>1</td>\n      <td>4.0</td>\n    </tr>\n    <tr>\n      <th>37</th>\n      <td>79</td>\n      <td>(2022-04-04 00:00:00, 2022-05-19 00:00:00)</td>\n      <td>1</td>\n      <td>33.0</td>\n    </tr>\n    <tr>\n      <th>38</th>\n      <td>67</td>\n      <td>(2022-04-04 00:00:00, 2022-05-19 00:00:00)</td>\n      <td>1</td>\n      <td>8.0</td>\n    </tr>\n    <tr>\n      <th>39</th>\n      <td>98</td>\n      <td>(2022-04-04 00:00:00, 2022-05-19 00:00:00)</td>\n      <td>1</td>\n      <td>42.0</td>\n    </tr>\n    <tr>\n      <th>40</th>\n      <td>102</td>\n      <td>(2022-04-04 00:00:00, 2022-05-19 00:00:00)</td>\n      <td>1</td>\n      <td>16.0</td>\n    </tr>\n    <tr>\n      <th>41</th>\n      <td>201</td>\n      <td>(2022-04-04 00:00:00, 2022-05-19 00:00:00)</td>\n      <td>1</td>\n      <td>1.0</td>\n    </tr>\n    <tr>\n      <th>42</th>\n      <td>311</td>\n      <td>(2022-04-04 00:00:00, 2022-05-19 00:00:00)</td>\n      <td>1</td>\n      <td>110.0</td>\n    </tr>\n    <tr>\n      <th>43</th>\n      <td>385</td>\n      <td>(2022-04-04 00:00:00, 2022-05-19 00:00:00)</td>\n      <td>1</td>\n      <td>5.0</td>\n    </tr>\n    <tr>\n      <th>44</th>\n      <td>417</td>\n      <td>(2022-04-04 00:00:00, 2022-05-19 00:00:00)</td>\n      <td>1</td>\n      <td>13.0</td>\n    </tr>\n    <tr>\n      <th>45</th>\n      <td>149</td>\n      <td>(2022-04-04 00:00:00, 2022-05-19 00:00:00)</td>\n      <td>1</td>\n      <td>25.0</td>\n    </tr>\n    <tr>\n      <th>46</th>\n      <td>437</td>\n      <td>(2022-04-04 00:00:00, 2022-05-19 00:00:00)</td>\n      <td>1</td>\n      <td>130.0</td>\n    </tr>\n    <tr>\n      <th>47</th>\n      <td>494</td>\n      <td>(2022-04-04 00:00:00, 2022-05-19 00:00:00)</td>\n      <td>1</td>\n      <td>22.0</td>\n    </tr>\n    <tr>\n      <th>48</th>\n      <td>173</td>\n      <td>(2022-04-04 00:00:00, 2022-05-19 00:00:00)</td>\n      <td>1</td>\n      <td>23.0</td>\n    </tr>\n    <tr>\n      <th>49</th>\n      <td>430</td>\n      <td>(2022-04-04 00:00:00, 2022-05-19 00:00:00)</td>\n      <td>1</td>\n      <td>1.0</td>\n    </tr>\n  </tbody>\n</table>\n</div>"
     },
     "metadata": {}
    }
   ],
   "execution_count": null
  },
  {
   "cell_type": "code",
   "source": "print(productionDf['quantity_batch'].sum() * Config.BATCH_SIZE)",
   "metadata": {
    "cell_id": "9d1530089d08452bac7ed09b44e6ee78",
    "tags": [],
    "deepnote_to_be_reexecuted": false,
    "source_hash": "f9470b2f",
    "execution_start": 1654958178730,
    "execution_millis": 3,
    "deepnote_cell_type": "code",
    "deepnote_cell_height": 111.6875
   },
   "outputs": [
    {
     "name": "stdout",
     "text": "25792.0\n",
     "output_type": "stream"
    }
   ],
   "execution_count": null
  },
  {
   "cell_type": "code",
   "metadata": {
    "cell_id": "637e1302031b4ff9a4aca86adb029898",
    "tags": [],
    "deepnote_to_be_reexecuted": false,
    "source_hash": "6d6b3e7c",
    "execution_start": 1654958178753,
    "execution_millis": 5,
    "deepnote_cell_type": "code",
    "deepnote_cell_height": 189.890625
   },
   "source": "print(model.objective.value())\nprint({i:_.value() for i,_ in x.items()})\nproductionDict = {i:_.value() for i,_ in x.items()}\nproductionDf = pd.DataFrame( productionDict.values(), index = productionDict.keys(), columns=['quantity'])",
   "outputs": [
    {
     "name": "stdout",
     "text": "0.0\n{472: 0.0, 434: 0.0, 240: 0.0, 452: 0.0, 107: 0.0, 335: 0.0, 484: 0.0, 210: 0.0, 292: 0.0, 63: 0.0, 380: 0.0, 108: 0.0, 258: 0.0, 459: 0.0, 489: 0.0, 104: 0.0, 91: 0.0, 158: 0.0, 475: 0.0, 242: 0.0, 378: 0.0, 203: 0.0, 206: 0.0, 448: 0.0, 170: 0.0, 492: 0.0, 176: 0.0, 337: 0.0, 287: 0.0, 286: 0.0, 331: 0.0, 95: 0.0, 491: 0.0, 327: 0.0, 131: 0.0, 4: 0.0, 174: 0.0, 288: 0.0, 171: 0.0, 397: 0.0, 88: 0.0, 273: 0.0, 432: 0.0, 222: 0.0, 127: 0.0, 46: 0.0, 247: 0.0, 343: 0.0, 29: 0.0, 267: 0.0, 447: 0.0, 101: 0.0, 329: 0.0, 355: 0.0, 237: 0.0, 393: 0.0, 297: 0.0, 135: 0.0, 457: 0.0, 401: 0.0, 467: 0.0, 213: 0.0, 66: 0.0, 103: 0.0, 81: 0.0, 290: 0.0, 395: 0.0, 334: 0.0, 53: 0.0, 388: 0.0, 309: 0.0, 24: 0.0, 148: 0.0, 120: 0.0, 333: 0.0, 96: 0.0, 25: 0.0, 493: 0.0, 450: 0.0, 438: 0.0, 436: 0.0, 261: 0.0, 179: 0.0, 190: 0.0, 302: 0.0, 462: 0.0, 57: 0.0, 354: 0.0, 427: 0.0, 365: 0.0, 8: 0.0, 458: 0.0, 23: 0.0, 7: 0.0, 304: 0.0, 474: 0.0, 367: 0.0, 211: 0.0, 192: 0.0, 169: 0.0, 426: 0.0, 181: 0.0, 209: 0.0, 349: 0.0, 260: 0.0, 301: 0.0, 256: 0.0, 389: 0.0, 13: 0.0, 326: 0.0, 117: 0.0, 400: 0.0, 313: 0.0, 482: 0.0, 147: 0.0, 115: 0.0, 277: 0.0, 254: 0.0, 232: 0.0, 58: 0.0, 62: 0.0, 12: 0.0, 20: 0.0, 446: 0.0, 481: 0.0, 89: 0.0, 314: 0.0, 133: 0.0, 83: 0.0, 188: 0.0, 124: 0.0, 153: 0.0, 225: 0.0, 207: 0.0, 140: 0.0, 421: 0.0, 22: 0.0, 455: 0.0, 48: 0.0, 186: 0.0, 152: 0.0, 137: 0.0, 396: 0.0, 150: 0.0, 180: 0.0, 283: 0.0, 51: 0.0, 323: 0.0, 347: 0.0, 55: 0.0, 312: 0.0, 227: 0.0, 306: 0.0, 10: 0.0, 449: 0.0, 6: 0.0, 157: 0.0, 404: 0.0, 243: 0.0, 68: 0.0, 409: 0.0, 442: 0.0, 341: 0.0, 358: 0.0, 250: 0.0, 345: 0.0, 31: 0.0, 199: 0.0, 391: 0.0, 332: 0.0, 189: 0.0, 379: 0.0, 59: 0.0, 366: 0.0, 183: 0.0, 34: 0.0, 435: 0.0, 485: 0.0, 281: 0.0, 130: 0.0, 220: 0.0, 118: 0.0, 182: 0.0, 178: 0.0, 377: 0.0, 129: 0.0, 61: 0.0, 143: 0.0, 364: 0.0, 363: 0.0, 185: 0.0, 221: 0.0, 478: 0.0, 0: 0.0, 1: 0.0, 50: 0.0, 246: 0.0, 87: 0.0, 383: 0.0, 407: 0.0, 271: 0.0, 423: 0.0, 52: 0.0, 244: 0.0, 488: 0.0, 195: 0.0, 330: 0.0, 110: 0.0, 468: 0.0, 353: 0.0, 372: 0.0, 471: 0.0, 224: 0.0, 219: 0.0, 429: 0.0, 291: 0.0, 357: 0.0, 36: 0.0, 486: 0.0, 300: 0.0, 128: 0.0, 60: 0.0, 412: 0.0, 82: 0.0, 490: 0.0, 75: 0.0, 398: 0.0, 255: 0.0, 151: 0.0, 320: 0.0, 266: 0.0, 324: 0.0, 376: 0.0, 97: 0.0, 299: 0.0, 305: 0.0, 272: 0.0, 382: 0.0, 109: 0.0, 177: 0.0, 369: 0.0, 263: 0.0, 19: 0.0, 336: 0.0, 156: 0.0, 451: 0.0, 387: 0.0, 453: 0.0, 11: 0.0, 90: 0.0, 216: 0.0, 99: 0.0, 325: 0.0, 414: 0.0, 342: 0.0, 239: 0.0, 360: 0.0, 413: 0.0, 420: 0.0, 403: 0.0, 226: 0.0, 248: 0.0, 145: 0.0, 69: 0.0, 229: 0.0, 424: 0.0, 54: 0.0, 374: 0.0, 116: 0.0, 316: 0.0, 279: 0.0, 126: 0.0, 348: 0.0, 65: 0.0, 208: 0.0, 223: 0.0, 317: 0.0, 328: 0.0, 77: 0.0, 197: 0.0, 80: 0.0, 276: 0.0, 111: 0.0, 418: 0.0, 94: 0.0, 445: 0.0, 164: 0.0, 456: 0.0, 416: 0.0, 122: 0.0, 73: 0.0, 114: 0.0, 361: 0.0, 2: 0.0, 217: 0.0, 234: 0.0, 265: 0.0, 39: 0.0, 138: 0.0, 433: 0.0, 30: 0.0, 26: 0.0, 9: 0.0, 259: 0.0, 212: 0.0, 454: 0.0, 231: 0.0, 38: 0.0, 144: 0.0, 162: 0.0, 293: 0.0, 262: 0.0, 370: 0.0, 42: 0.0, 315: 0.0, 470: 0.0, 236: 0.0, 238: 0.0, 200: 0.0, 440: 0.0, 339: 0.0, 28: 0.0, 384: 0.0, 252: 0.0, 284: 0.0, 245: 0.0, 214: 0.0, 47: 0.0, 198: 0.0, 406: 0.0, 136: 0.0, 163: 0.0, 92: 0.0, 100: 0.0, 303: 0.0, 43: 0.0, 230: 0.0, 45: 0.0, 27: 0.0, 56: 0.0, 139: 0.0, 411: 0.0, 368: 0.0, 269: 0.0, 125: 0.0, 76: 0.0, 253: 0.0, 165: 0.0, 41: 0.0, 72: 0.0, 35: 0.0, 86: 0.0, 123: 0.0, 344: 0.0, 439: 0.0, 235: 0.0, 33: 0.0, 428: 0.0, 422: 0.0, 187: 0.0, 166: 0.0, 15: 0.0, 375: 0.0, 184: 0.0, 381: 0.0, 476: 0.0, 105: 0.0, 44: 0.0, 168: 0.0, 285: 0.0, 410: 0.0, 270: 0.0, 294: 0.0, 17: 0.0, 106: 0.0, 274: 0.0, 268: 0.0, 289: 0.0, 175: 0.0, 5: 0.0, 121: 0.0, 444: 0.0, 93: 0.0, 119: 0.0, 399: 0.0, 160: 0.0, 79: 0.0, 155: 0.0, 74: 0.0, 460: 0.0, 18: 0.0, 67: 0.0, 167: 0.0, 319: 0.0, 249: 0.0, 194: 0.0, 233: 0.0, 204: 0.0, 296: 0.0, 98: 0.0, 307: 0.0, 425: 0.0, 351: 0.0, 202: 0.0, 278: 0.0, 461: 0.0, 352: 0.0, 282: 0.0, 102: 0.0, 228: 0.0, 201: 0.0, 321: 0.0, 402: 0.0, 371: 0.0, 390: 0.0, 394: 0.0, 350: 0.0, 132: 0.0, 196: 0.0, 311: 0.0, 141: 0.0, 264: 0.0, 466: 0.0, 340: 0.0, 465: 0.0, 172: 0.0, 257: 0.0, 431: 0.0, 298: 0.0, 218: 0.0, 385: 0.0, 359: 0.0, 251: 0.0, 205: 0.0, 417: 0.0, 464: 0.0, 310: 0.0, 392: 0.0, 71: 0.0, 463: 0.0, 113: 0.0, 142: 0.0, 280: 0.0, 479: 0.0, 193: 0.0, 149: 0.0, 112: 0.0, 191: 0.0, 437: 0.0, 487: 0.0, 386: 0.0, 3: 0.0, 308: 0.0, 415: 0.0, 473: 0.0, 494: 0.0, 295: 0.0, 443: 0.0, 32: 0.0, 275: 0.0, 173: 0.0, 134: 0.0, 480: 0.0, 49: 0.0, 318: 0.0, 159: 0.0, 16: 0.0, 362: 0.0, 215: 0.0, 146: 0.0, 408: 0.0, 40: 0.0, 85: 0.0, 21: 0.0, 441: 0.0, 241: 0.0, 322: 0.0, 338: 0.0, 84: 0.0, 78: 0.0, 373: 0.0, 64: 0.0, 469: 0.0, 430: 0.0, 14: 0.0, 70: 0.0, 483: 0.0, 405: 0.0, 356: 0.0, 419: 0.0, 37: 0.0, 161: 0.0, 154: 0.0, 346: 0.0, 477: 0.0}\n",
     "output_type": "stream"
    }
   ],
   "execution_count": null
  },
  {
   "cell_type": "code",
   "metadata": {
    "cell_id": "5fdb226fa074427388ea7cbe5e1709d3",
    "tags": [],
    "deepnote_to_be_reexecuted": false,
    "source_hash": "df27d098",
    "execution_start": 1654958178754,
    "execution_millis": 41,
    "deepnote_table_state": {
     "pageSize": 10,
     "pageIndex": 11,
     "filters": [],
     "sortBy": []
    },
    "deepnote_table_loading": false,
    "deepnote_cell_type": "code",
    "deepnote_cell_height": 190
   },
   "source": "productionDf[productionDf['quantity'] > 0]",
   "outputs": [
    {
     "output_type": "execute_result",
     "execution_count": 20,
     "data": {
      "application/vnd.deepnote.dataframe.v3+json": {
       "column_count": 1,
       "row_count": 0,
       "columns": [
        {
         "name": "quantity",
         "dtype": "float64",
         "stats": {
          "unique_count": 0,
          "nan_count": 0,
          "min": null,
          "max": null,
          "histogram": [
           {
            "bin_start": 0,
            "bin_end": 0.1,
            "count": 0
           },
           {
            "bin_start": 0.1,
            "bin_end": 0.2,
            "count": 0
           },
           {
            "bin_start": 0.2,
            "bin_end": 0.30000000000000004,
            "count": 0
           },
           {
            "bin_start": 0.30000000000000004,
            "bin_end": 0.4,
            "count": 0
           },
           {
            "bin_start": 0.4,
            "bin_end": 0.5,
            "count": 0
           },
           {
            "bin_start": 0.5,
            "bin_end": 0.6000000000000001,
            "count": 0
           },
           {
            "bin_start": 0.6000000000000001,
            "bin_end": 0.7000000000000001,
            "count": 0
           },
           {
            "bin_start": 0.7000000000000001,
            "bin_end": 0.8,
            "count": 0
           },
           {
            "bin_start": 0.8,
            "bin_end": 0.9,
            "count": 0
           },
           {
            "bin_start": 0.9,
            "bin_end": 1,
            "count": 0
           }
          ]
         }
        },
        {
         "name": "_deepnote_index_column",
         "dtype": "int64"
        }
       ],
       "rows": []
      },
      "text/plain": "Empty DataFrame\nColumns: [quantity]\nIndex: []",
      "text/html": "<div>\n<style scoped>\n    .dataframe tbody tr th:only-of-type {\n        vertical-align: middle;\n    }\n\n    .dataframe tbody tr th {\n        vertical-align: top;\n    }\n\n    .dataframe thead th {\n        text-align: right;\n    }\n</style>\n<table border=\"1\" class=\"dataframe\">\n  <thead>\n    <tr style=\"text-align: right;\">\n      <th></th>\n      <th>quantity</th>\n    </tr>\n  </thead>\n  <tbody>\n  </tbody>\n</table>\n</div>"
     },
     "metadata": {}
    }
   ],
   "execution_count": null
  },
  {
   "cell_type": "markdown",
   "source": "### Multi period formulation\n\nP: production capacity per day \\\n$r_i$: revenue article i \\\n$q_{ij}$: Amount of component j needed for article i \\\n$x_{it}$: Quantity produced of article i on day t \\\n$d_{jt}$: Purchasing of component j arriving at the beggining of day t \\\n$T$ total duration of the period \n\n\nObjective: \\\n$Maximize$ $ \\sum_{t=1}^T \\sum_{i=1}^n x_{it}r_{i}$ \\\nst.  \n\n$\\sum_{t'=1}^{t}d_{jt'} - \\sum_{t'=1}^{t} \\sum_{i=1}^nx_{it'}q_{ij} >= 0 \\hspace{20pt} t=1,...,T \\hspace{10pt} j =1,...,m$ \n\n$\\sum_{i=1}^n x_{it} <= P \\hspace{86pt} t=1,...,T $",
   "metadata": {
    "cell_id": "bb39f4ccbf374e5a8b16aed1075fe0dd",
    "tags": [],
    "deepnote_cell_type": "markdown",
    "deepnote_cell_height": 367
   }
  },
  {
   "cell_type": "code",
   "source": "def plotModelSize(T, n, m):\n    nConstraints = [ t*m + t for t in range(T)]\n    nVars = [ t*n for t in range(T)]\n    nVarsInConstraints = [t*(t+1)/2 + t*(t+1)/2 * n + t * n for t in range(T)]\n    sns.lineplot(x= np.arange(0,T), y=  nConstraints, label=\"#constraints\")\n    sns.lineplot(x= np.arange(0,T), y=  nVars, label=\"# vars\")\n    sns.lineplot(x= np.arange(0,T), y=  nVarsInConstraints, label=\"# vars in constraints\")\n    plt.legend()\n    plt.xlabel(\"T (horizon length)\")\nplotModelSize(T=len(productionDays), n = len(articles['article_number'].unique()), m=len(components['component_number'].unique()))",
   "metadata": {
    "cell_id": "ecbc891fe06b4e2890b54a0dccda2d75",
    "tags": [],
    "deepnote_to_be_reexecuted": false,
    "source_hash": "4479bde",
    "execution_start": 1654971887261,
    "execution_millis": 455,
    "deepnote_cell_type": "code",
    "deepnote_cell_height": 540,
    "deepnote_output_heights": [
     281
    ]
   },
   "outputs": [
    {
     "data": {
      "text/plain": "<Figure size 432x288 with 1 Axes>",
      "image/png": "[encoded data removed]"
     },
     "metadata": {
      "needs_background": "light",
      "image/png": {
       "width": 376,
       "height": 279
      }
     },
     "output_type": "display_data"
    }
   ],
   "execution_count": 17
  },
  {
   "cell_type": "code",
   "metadata": {
    "cell_id": "7df154ecfee14bc0b9a0349a28be1976",
    "tags": [],
    "deepnote_to_be_reexecuted": false,
    "source_hash": "e1f65c7e",
    "execution_start": 1654971891840,
    "execution_millis": 3,
    "owner_user_id": "6c347804-6bd9-471a-a1ba-f072c6ca8e0a",
    "deepnote_cell_type": "code",
    "deepnote_cell_height": 585
   },
   "source": "def multiPeriodILP(periodBegin, periodEnd, articles, purchasing, bom):\n    model = LpProblem(name='Production', sense=LpMaximize)\n    daysInPeriod = getBusDaysInPeriod(periodBegin, periodEnd)\n    T = len(daysInPeriod)\n    x = {(i, t): LpVariable(name=f\"x_p_{i},d_{t}\", lowBound=0, upBound=Config.DAY_PRODUCTION_CAPACITY*periodLength, cat=Config.X_CAT) for i in articles['article_number'] for t in range(0,T)}\n    print(f\"Multi period ILP for period {periodBegin} to {periodEnd}\")\n    print(f\"This entails {T} days: {daysInPeriod}\")\n    #print(f\"Created variables: {x}\")\n    inv = Inventory(purchasing)\n    revenue = articles.set_index('article_number')['revenue'].to_dict()\n    #print(revenue)\n    model += lpSum(x[(i,t)] * revenue[i] for i in articles['article_number'] for t in range(0,T))\n\n    #Inventory constraints\n    for t, day in enumerate(daysInPeriod,1):\n        #purchasingDay = inv.purchasingForDay(day)\n\n        purchasingUpToDay = inv.purchasingForPeriod(daysInPeriod[0], day)\n\n        for j in allComponents:\n            print(\"\\r\", end=f\"{t},{j}\")\n            articlesComponentUsage = getComponentsRequired(j, bom)\n            model += (purchasingUpToDay[j] - lpSum([x[(i,tt)] * articlesComponentUsage[i] for i in articlesComponentUsage.index for tt in range(0,t) ])) >= 0, f\"InvConstraint_day_{t-1}_component_{j}\"\n\n    #Production capacity constraints\n    for t, day in enumerate(daysInPeriod):\n        model += lpSum([x[(i,t)] for i in articles['article_number']]) <= Config.DAY_PRODUCTION_CAPACITY\n\n    return model, x, daysInPeriod",
   "execution_count": 18,
   "outputs": []
  },
  {
   "cell_type": "code",
   "metadata": {
    "cell_id": "ecd55e21ff4c4be196e5719b8d7b1c89",
    "tags": [],
    "deepnote_to_be_reexecuted": false,
    "source_hash": "1fc5cc10",
    "execution_start": 1654958214931,
    "execution_millis": 635388,
    "deepnote_cell_type": "code",
    "deepnote_cell_height": 191.578125,
    "deepnote_output_heights": [
     null,
     606.5
    ]
   },
   "source": "periodBegin = pd.Timestamp('2022-02-16')\nperiodEnd = pd.Timestamp('2022-03-30') \nmodel, x, daysInPeriod = multiPeriodILP(periodBegin = periodBegin, periodEnd = periodEnd, articles = articlesBatch, purchasing = purchasingProcessed, bom = bomBatch)",
   "outputs": [
    {
     "name": "stdout",
     "text": "Multi period ILP for period 2022-02-16 00:00:00 to 2022-03-30 00:00:00\nThis entails 31 days: [Timestamp('2022-02-16 00:00:00', freq='B'), Timestamp('2022-02-17 00:00:00', freq='B'), Timestamp('2022-02-18 00:00:00', freq='B'), Timestamp('2022-02-21 00:00:00', freq='B'), Timestamp('2022-02-22 00:00:00', freq='B'), Timestamp('2022-02-23 00:00:00', freq='B'), Timestamp('2022-02-24 00:00:00', freq='B'), Timestamp('2022-02-25 00:00:00', freq='B'), Timestamp('2022-02-28 00:00:00', freq='B'), Timestamp('2022-03-01 00:00:00', freq='B'), Timestamp('2022-03-02 00:00:00', freq='B'), Timestamp('2022-03-03 00:00:00', freq='B'), Timestamp('2022-03-04 00:00:00', freq='B'), Timestamp('2022-03-07 00:00:00', freq='B'), Timestamp('2022-03-08 00:00:00', freq='B'), Timestamp('2022-03-09 00:00:00', freq='B'), Timestamp('2022-03-10 00:00:00', freq='B'), Timestamp('2022-03-11 00:00:00', freq='B'), Timestamp('2022-03-14 00:00:00', freq='B'), Timestamp('2022-03-15 00:00:00', freq='B'), Timestamp('2022-03-16 00:00:00', freq='B'), Timestamp('2022-03-17 00:00:00', freq='B'), Timestamp('2022-03-18 00:00:00', freq='B'), Timestamp('2022-03-21 00:00:00', freq='B'), Timestamp('2022-03-22 00:00:00', freq='B'), Timestamp('2022-03-23 00:00:00', freq='B'), Timestamp('2022-03-24 00:00:00', freq='B'), Timestamp('2022-03-25 00:00:00', freq='B'), Timestamp('2022-03-28 00:00:00', freq='B'), Timestamp('2022-03-29 00:00:00', freq='B'), Timestamp('2022-03-30 00:00:00', freq='B')]\n31,1393",
     "output_type": "stream"
    }
   ],
   "execution_count": null
  },
  {
   "cell_type": "code",
   "source": "model.writeMPS(\"test.mps\")",
   "metadata": {
    "cell_id": "4f3b7b75df2f430e9d3a377ab7b91f6a",
    "tags": [],
    "deepnote_to_be_reexecuted": false,
    "source_hash": "9c400448",
    "execution_start": 1654958900807,
    "execution_millis": 33284,
    "deepnote_cell_type": "code",
    "deepnote_cell_height": 144.1875
   },
   "outputs": [
    {
     "output_type": "error",
     "ename": "KeyboardInterrupt",
     "evalue": "",
     "traceback": [
      "\u001b[0;31m---------------------------------------------------------------------------\u001b[0m",
      "\u001b[0;31mKeyboardInterrupt\u001b[0m                         Traceback (most recent call last)",
      "\u001b[0;32m<ipython-input-25-f513258a4084>\u001b[0m in \u001b[0;36m<module>\u001b[0;34m\u001b[0m\n\u001b[0;32m----> 1\u001b[0;31m \u001b[0mmodel\u001b[0m\u001b[0;34m.\u001b[0m\u001b[0mwriteMPS\u001b[0m\u001b[0;34m(\u001b[0m\u001b[0;34m\"test.mps\"\u001b[0m\u001b[0;34m)\u001b[0m\u001b[0;34m\u001b[0m\u001b[0;34m\u001b[0m\u001b[0m\n\u001b[0m",
      "\u001b[0;32m~/venv/lib/python3.7/site-packages/pulp/pulp.py\u001b[0m in \u001b[0;36mwriteMPS\u001b[0;34m(self, filename, mpsSense, rename, mip)\u001b[0m\n\u001b[1;32m   1780\u001b[0m             \u001b[0;34m-\u001b[0m \u001b[0mThe\u001b[0m \u001b[0mfile\u001b[0m \u001b[0;32mis\u001b[0m \u001b[0mcreated\u001b[0m\u001b[0;34m\u001b[0m\u001b[0;34m\u001b[0m\u001b[0m\n\u001b[1;32m   1781\u001b[0m         \"\"\"\n\u001b[0;32m-> 1782\u001b[0;31m         \u001b[0;32mreturn\u001b[0m \u001b[0mmpslp\u001b[0m\u001b[0;34m.\u001b[0m\u001b[0mwriteMPS\u001b[0m\u001b[0;34m(\u001b[0m\u001b[0mself\u001b[0m\u001b[0;34m,\u001b[0m \u001b[0mfilename\u001b[0m\u001b[0;34m,\u001b[0m \u001b[0mmpsSense\u001b[0m\u001b[0;34m=\u001b[0m\u001b[0mmpsSense\u001b[0m\u001b[0;34m,\u001b[0m \u001b[0mrename\u001b[0m\u001b[0;34m=\u001b[0m\u001b[0mrename\u001b[0m\u001b[0;34m,\u001b[0m \u001b[0mmip\u001b[0m\u001b[0;34m=\u001b[0m\u001b[0mmip\u001b[0m\u001b[0;34m)\u001b[0m\u001b[0;34m\u001b[0m\u001b[0;34m\u001b[0m\u001b[0m\n\u001b[0m\u001b[1;32m   1783\u001b[0m \u001b[0;34m\u001b[0m\u001b[0m\n\u001b[1;32m   1784\u001b[0m     \u001b[0;32mdef\u001b[0m \u001b[0mwriteLP\u001b[0m\u001b[0;34m(\u001b[0m\u001b[0mself\u001b[0m\u001b[0;34m,\u001b[0m \u001b[0mfilename\u001b[0m\u001b[0;34m,\u001b[0m \u001b[0mwriteSOS\u001b[0m\u001b[0;34m=\u001b[0m\u001b[0;36m1\u001b[0m\u001b[0;34m,\u001b[0m \u001b[0mmip\u001b[0m\u001b[0;34m=\u001b[0m\u001b[0;36m1\u001b[0m\u001b[0;34m,\u001b[0m \u001b[0mmax_length\u001b[0m\u001b[0;34m=\u001b[0m\u001b[0;36m100\u001b[0m\u001b[0;34m)\u001b[0m\u001b[0;34m:\u001b[0m\u001b[0;34m\u001b[0m\u001b[0;34m\u001b[0m\u001b[0m\n",
      "\u001b[0;32m~/venv/lib/python3.7/site-packages/pulp/mps_lp.py\u001b[0m in \u001b[0;36mwriteMPS\u001b[0;34m(LpProblem, filename, mpsSense, rename, mip)\u001b[0m\n\u001b[1;32m    222\u001b[0m         \u001b[0mk\u001b[0m \u001b[0;34m=\u001b[0m \u001b[0mconstrNames\u001b[0m\u001b[0;34m[\u001b[0m\u001b[0mk\u001b[0m\u001b[0;34m]\u001b[0m\u001b[0;34m\u001b[0m\u001b[0;34m\u001b[0m\u001b[0m\n\u001b[1;32m    223\u001b[0m         \u001b[0;32mfor\u001b[0m \u001b[0mv\u001b[0m\u001b[0;34m,\u001b[0m \u001b[0mvalue\u001b[0m \u001b[0;32min\u001b[0m \u001b[0mc\u001b[0m\u001b[0;34m.\u001b[0m\u001b[0mitems\u001b[0m\u001b[0;34m(\u001b[0m\u001b[0;34m)\u001b[0m\u001b[0;34m:\u001b[0m\u001b[0;34m\u001b[0m\u001b[0;34m\u001b[0m\u001b[0m\n\u001b[0;32m--> 224\u001b[0;31m             \u001b[0mcoefs\u001b[0m\u001b[0;34m[\u001b[0m\u001b[0mvarNames\u001b[0m\u001b[0;34m[\u001b[0m\u001b[0mv\u001b[0m\u001b[0;34m.\u001b[0m\u001b[0mname\u001b[0m\u001b[0;34m]\u001b[0m\u001b[0;34m]\u001b[0m\u001b[0;34m[\u001b[0m\u001b[0mk\u001b[0m\u001b[0;34m]\u001b[0m \u001b[0;34m=\u001b[0m \u001b[0mvalue\u001b[0m\u001b[0;34m\u001b[0m\u001b[0;34m\u001b[0m\u001b[0m\n\u001b[0m\u001b[1;32m    225\u001b[0m \u001b[0;34m\u001b[0m\u001b[0m\n\u001b[1;32m    226\u001b[0m     \u001b[0;31m# matrix\u001b[0m\u001b[0;34m\u001b[0m\u001b[0;34m\u001b[0m\u001b[0;34m\u001b[0m\u001b[0m\n",
      "\u001b[0;31mKeyboardInterrupt\u001b[0m: "
     ]
    }
   ],
   "execution_count": null
  },
  {
   "cell_type": "code",
   "source": "status = model.solve()",
   "metadata": {
    "cell_id": "b2899e9c863f4abab41a138fbdc98c85",
    "tags": [],
    "deepnote_to_be_reexecuted": false,
    "source_hash": "7e126848",
    "execution_start": 1654958971030,
    "execution_millis": 109423,
    "deepnote_cell_type": "code",
    "deepnote_cell_height": 225.1875
   },
   "outputs": [
    {
     "output_type": "error",
     "ename": "KernelInterrupted",
     "evalue": "Execution interrupted by the Jupyter kernel.",
     "traceback": [
      "\u001b[0;31m---------------------------------------------------------------------------\u001b[0m",
      "\u001b[0;31mKernelInterrupted\u001b[0m: Execution interrupted by the Jupyter kernel."
     ]
    }
   ],
   "execution_count": null
  },
  {
   "cell_type": "code",
   "source": "status",
   "metadata": {
    "cell_id": "68e3e02db8424142af42256fa75beaf1",
    "tags": [],
    "deepnote_to_be_reexecuted": false,
    "source_hash": "4998c703",
    "execution_start": 1654955818685,
    "execution_millis": 2,
    "deepnote_cell_type": "code",
    "deepnote_cell_height": 118.1875,
    "deepnote_output_heights": [
     21.1875
    ]
   },
   "outputs": [
    {
     "output_type": "execute_result",
     "execution_count": 122,
     "data": {
      "text/plain": "1"
     },
     "metadata": {}
    }
   ],
   "execution_count": null
  },
  {
   "cell_type": "code",
   "source": "model.objective.value()",
   "metadata": {
    "cell_id": "38f27fd145004943a7727ce8ed77333c",
    "tags": [],
    "deepnote_to_be_reexecuted": false,
    "source_hash": "ca57947d",
    "execution_start": 1654955818685,
    "execution_millis": 3,
    "deepnote_cell_type": "code",
    "deepnote_cell_height": 118.1875,
    "deepnote_output_heights": [
     21.1875
    ]
   },
   "outputs": [
    {
     "output_type": "execute_result",
     "execution_count": 123,
     "data": {
      "text/plain": "2766496.0"
     },
     "metadata": {}
    }
   ],
   "execution_count": null
  },
  {
   "cell_type": "code",
   "source": "print(model.objective.value())\nprint({i:_.value() for i,_ in x.items()})\nproductionDict = {i:_.value() for i,_ in x.items()}\nproductionDf = pd.DataFrame( productionDict.values(), index = productionDict.keys(), columns=['quantity_batch'])\nproductionDf = productionDf.reset_index()\nproductionDf.columns = ['article_number', 'day_nr', 'quantity_batch']\nproductionDf['day'] = productionDf['day_nr'].apply(lambda el: daysInPeriod[el])\nproductionDf = productionDf[['day','day_nr','article_number', 'quantity_batch']].sort_values(by=['day_nr','article_number'])\nproductionDf['quantity'] = productionDf['quantity_batch'] * Config.BATCH_SIZE\nrevenue = articles.set_index('article_number')['revenue'].to_dict()\nproductionDf['article_revenue'] = productionDf['article_number'].apply(lambda el: revenue[el])\nproductionDf['revenue_total'] = productionDf['article_revenue'] * productionDf['quantity'] \nproductionDf[productionDf['quantity'] > 0]",
   "metadata": {
    "cell_id": "db2f22b855904b7aa2af2dec1bbe3ef6",
    "tags": [],
    "deepnote_to_be_reexecuted": false,
    "source_hash": "d754ea70",
    "execution_start": 1654955963292,
    "execution_millis": 653,
    "deepnote_table_state": {
     "pageSize": 10,
     "pageIndex": 0,
     "filters": [],
     "sortBy": []
    },
    "deepnote_table_loading": false,
    "deepnote_cell_type": "code",
    "deepnote_cell_height": 885.890625
   },
   "outputs": [
    {
     "name": "stdout",
     "text": "2766496.0\n{(472, 0): 0.0, (472, 1): 0.0, (472, 2): 0.0, (472, 3): 0.0, (472, 4): 0.0, (472, 5): 0.0, (472, 6): 0.0, (472, 7): 0.0, (472, 8): 0.0, (472, 9): 0.0, (472, 10): 0.0, (472, 11): 0.0, (472, 12): 0.0, (472, 13): 0.0, (472, 14): 0.0, (472, 15): 0.0, (472, 16): 0.0, (434, 0): 0.0, (434, 1): 0.0, (434, 2): 0.0, (434, 3): 0.0, (434, 4): 0.0, (434, 5): 0.0, (434, 6): 0.0, (434, 7): 0.0, (434, 8): 0.0, (434, 9): 0.0, (434, 10): 0.0, (434, 11): 0.0, (434, 12): 0.0, (434, 13): 0.0, (434, 14): 0.0, (434, 15): 0.0, (434, 16): 0.0, (240, 0): 0.0, (240, 1): 0.0, (240, 2): 0.0, (240, 3): 0.0, (240, 4): 0.0, (240, 5): 0.0, (240, 6): 0.0, (240, 7): 0.0, (240, 8): 0.0, (240, 9): 0.0, (240, 10): 0.0, (240, 11): 0.0, (240, 12): 0.0, (240, 13): 0.0, (240, 14): 0.0, (240, 15): 0.0, (240, 16): 0.0, (452, 0): 0.0, (452, 1): 0.0, (452, 2): 0.0, (452, 3): 0.0, (452, 4): 0.0, (452, 5): 0.0, (452, 6): 0.0, (452, 7): 0.0, (452, 8): 0.0, (452, 9): 0.0, (452, 10): 0.0, (452, 11): 0.0, (452, 12): 0.0, (452, 13): 0.0, (452, 14): 0.0, (452, 15): 0.0, (452, 16): 0.0, (107, 0): 0.0, (107, 1): 0.0, (107, 2): 0.0, (107, 3): 0.0, (107, 4): 0.0, (107, 5): 0.0, (107, 6): 0.0, (107, 7): 0.0, (107, 8): 0.0, (107, 9): 0.0, (107, 10): 0.0, (107, 11): 0.0, (107, 12): 0.0, (107, 13): 0.0, (107, 14): 0.0, (107, 15): 0.0, (107, 16): 0.0, (335, 0): 0.0, (335, 1): 0.0, (335, 2): 0.0, (335, 3): 0.0, (335, 4): 0.0, (335, 5): 0.0, (335, 6): 0.0, (335, 7): 0.0, (335, 8): 0.0, (335, 9): 0.0, (335, 10): 0.0, (335, 11): 0.0, (335, 12): 0.0, (335, 13): 0.0, (335, 14): 0.0, (335, 15): 0.0, (335, 16): 0.0, (484, 0): 0.0, (484, 1): 0.0, (484, 2): 0.0, (484, 3): 0.0, (484, 4): 0.0, (484, 5): 0.0, (484, 6): 0.0, (484, 7): 0.0, (484, 8): 0.0, (484, 9): 0.0, (484, 10): 0.0, (484, 11): 0.0, (484, 12): 0.0, (484, 13): 0.0, (484, 14): 0.0, (484, 15): 0.0, (484, 16): 0.0, (210, 0): 0.0, (210, 1): 0.0, (210, 2): 0.0, (210, 3): 0.0, (210, 4): 0.0, (210, 5): 0.0, (210, 6): 0.0, (210, 7): 0.0, (210, 8): 0.0, (210, 9): 0.0, (210, 10): 0.0, (210, 11): 0.0, (210, 12): 0.0, (210, 13): 0.0, (210, 14): 0.0, (210, 15): 0.0, (210, 16): 0.0, (292, 0): 0.0, (292, 1): 0.0, (292, 2): 0.0, (292, 3): 0.0, (292, 4): 0.0, (292, 5): 0.0, (292, 6): 0.0, (292, 7): 0.0, (292, 8): 0.0, (292, 9): 0.0, (292, 10): 0.0, (292, 11): 0.0, (292, 12): 0.0, (292, 13): 0.0, (292, 14): 0.0, (292, 15): 0.0, (292, 16): 0.0, (63, 0): 0.0, (63, 1): 0.0, (63, 2): 0.0, (63, 3): 0.0, (63, 4): 0.0, (63, 5): 0.0, (63, 6): 0.0, (63, 7): 0.0, (63, 8): 0.0, (63, 9): 0.0, (63, 10): 0.0, (63, 11): 0.0, (63, 12): 0.0, (63, 13): 0.0, (63, 14): 0.0, (63, 15): 0.0, (63, 16): 0.0, (380, 0): 0.0, (380, 1): 0.0, (380, 2): 0.0, (380, 3): 0.0, (380, 4): 0.0, (380, 5): 0.0, (380, 6): 0.0, (380, 7): 0.0, (380, 8): 0.0, (380, 9): 0.0, (380, 10): 0.0, (380, 11): 0.0, (380, 12): 0.0, (380, 13): 0.0, (380, 14): 0.0, (380, 15): 0.0, (380, 16): 0.0, (108, 0): 0.0, (108, 1): 0.0, (108, 2): 0.0, (108, 3): 0.0, (108, 4): 0.0, (108, 5): 0.0, (108, 6): 0.0, (108, 7): 0.0, (108, 8): 0.0, (108, 9): 0.0, (108, 10): 0.0, (108, 11): 0.0, (108, 12): 0.0, (108, 13): 0.0, (108, 14): 0.0, (108, 15): 0.0, (108, 16): 0.0, (258, 0): 0.0, (258, 1): 0.0, (258, 2): 0.0, (258, 3): 0.0, (258, 4): 0.0, (258, 5): 0.0, (258, 6): 0.0, (258, 7): 0.0, (258, 8): 0.0, (258, 9): 0.0, (258, 10): 0.0, (258, 11): 0.0, (258, 12): 0.0, (258, 13): 0.0, (258, 14): 0.0, (258, 15): 0.0, (258, 16): 0.0, (459, 0): 0.0, (459, 1): 0.0, (459, 2): 0.0, (459, 3): 0.0, (459, 4): 0.0, (459, 5): 0.0, (459, 6): 0.0, (459, 7): 0.0, (459, 8): 0.0, (459, 9): 0.0, (459, 10): 0.0, (459, 11): 0.0, (459, 12): 0.0, (459, 13): 0.0, (459, 14): 0.0, (459, 15): 0.0, (459, 16): 0.0, (489, 0): 0.0, (489, 1): 0.0, (489, 2): 0.0, (489, 3): 0.0, (489, 4): 0.0, (489, 5): 0.0, (489, 6): 0.0, (489, 7): 0.0, (489, 8): 0.0, (489, 9): 0.0, (489, 10): 0.0, (489, 11): 0.0, (489, 12): 0.0, (489, 13): 0.0, (489, 14): 0.0, (489, 15): 0.0, (489, 16): 0.0, (104, 0): 0.0, (104, 1): 0.0, (104, 2): 0.0, (104, 3): 0.0, (104, 4): 0.0, (104, 5): 0.0, (104, 6): 0.0, (104, 7): 0.0, (104, 8): 0.0, (104, 9): 0.0, (104, 10): 0.0, (104, 11): 0.0, (104, 12): 0.0, (104, 13): 0.0, (104, 14): 0.0, (104, 15): 0.0, (104, 16): 0.0, (91, 0): 0.0, (91, 1): 0.0, (91, 2): 0.0, (91, 3): 0.0, (91, 4): 0.0, (91, 5): 0.0, (91, 6): 0.0, (91, 7): 0.0, (91, 8): 0.0, (91, 9): 0.0, (91, 10): 0.0, (91, 11): 0.0, (91, 12): 0.0, (91, 13): 0.0, (91, 14): 0.0, (91, 15): 0.0, (91, 16): 0.0, (158, 0): 0.0, (158, 1): 0.0, (158, 2): 0.0, (158, 3): 0.0, (158, 4): 0.0, (158, 5): 0.0, (158, 6): 0.0, (158, 7): 0.0, (158, 8): 0.0, (158, 9): 0.0, (158, 10): 0.0, (158, 11): 0.0, (158, 12): 0.0, (158, 13): 0.0, (158, 14): 0.0, (158, 15): 0.0, (158, 16): 0.0, (475, 0): 0.0, (475, 1): 0.0, (475, 2): 0.0, (475, 3): 0.0, (475, 4): 0.0, (475, 5): 0.0, (475, 6): 0.0, (475, 7): 0.0, (475, 8): 0.0, (475, 9): 0.0, (475, 10): 0.0, (475, 11): 0.0, (475, 12): 0.0, (475, 13): 0.0, (475, 14): 0.0, (475, 15): 0.0, (475, 16): 0.0, (242, 0): 0.0, (242, 1): 0.0, (242, 2): 0.0, (242, 3): 0.0, (242, 4): 0.0, (242, 5): 0.0, (242, 6): 0.0, (242, 7): 0.0, (242, 8): 0.0, (242, 9): 0.0, (242, 10): 0.0, (242, 11): 0.0, (242, 12): 0.0, (242, 13): 0.0, (242, 14): 0.0, (242, 15): 0.0, (242, 16): 0.0, (378, 0): 0.0, (378, 1): 0.0, (378, 2): 0.0, (378, 3): 0.0, (378, 4): 0.0, (378, 5): 0.0, (378, 6): 0.0, (378, 7): 0.0, (378, 8): 0.0, (378, 9): 0.0, (378, 10): 0.0, (378, 11): 0.0, (378, 12): 0.0, (378, 13): 0.0, (378, 14): 0.0, (378, 15): 0.0, (378, 16): 0.0, (203, 0): 0.0, (203, 1): 0.0, (203, 2): 0.0, (203, 3): 0.0, (203, 4): 0.0, (203, 5): 0.0, (203, 6): 0.0, (203, 7): 0.0, (203, 8): 0.0, (203, 9): 0.0, (203, 10): 0.0, (203, 11): 0.0, (203, 12): 0.0, (203, 13): 0.0, (203, 14): 0.0, (203, 15): 0.0, (203, 16): 0.0, (206, 0): 0.0, (206, 1): 0.0, (206, 2): 0.0, (206, 3): 0.0, (206, 4): 0.0, (206, 5): 0.0, (206, 6): 0.0, (206, 7): 0.0, (206, 8): 0.0, (206, 9): 0.0, (206, 10): 0.0, (206, 11): 0.0, (206, 12): 0.0, (206, 13): 0.0, (206, 14): 0.0, (206, 15): 0.0, (206, 16): 0.0, (448, 0): 0.0, (448, 1): 0.0, (448, 2): 0.0, (448, 3): 0.0, (448, 4): 0.0, (448, 5): 0.0, (448, 6): 0.0, (448, 7): 0.0, (448, 8): 0.0, (448, 9): 0.0, (448, 10): 0.0, (448, 11): 0.0, (448, 12): 0.0, (448, 13): 0.0, (448, 14): 0.0, (448, 15): 0.0, (448, 16): 0.0, (170, 0): 0.0, (170, 1): 0.0, (170, 2): 0.0, (170, 3): 0.0, (170, 4): 0.0, (170, 5): 0.0, (170, 6): 0.0, (170, 7): 0.0, (170, 8): 0.0, (170, 9): 0.0, (170, 10): 0.0, (170, 11): 0.0, (170, 12): 0.0, (170, 13): 0.0, (170, 14): 0.0, (170, 15): 0.0, (170, 16): 0.0, (492, 0): 0.0, (492, 1): 0.0, (492, 2): 0.0, (492, 3): 0.0, (492, 4): 0.0, (492, 5): 0.0, (492, 6): 0.0, (492, 7): 0.0, (492, 8): 0.0, (492, 9): 0.0, (492, 10): 0.0, (492, 11): 0.0, (492, 12): 0.0, (492, 13): 0.0, (492, 14): 0.0, (492, 15): 0.0, (492, 16): 0.0, (176, 0): 0.0, (176, 1): 0.0, (176, 2): 0.0, (176, 3): 0.0, (176, 4): 0.0, (176, 5): 0.0, (176, 6): 0.0, (176, 7): 0.0, (176, 8): 0.0, (176, 9): 0.0, (176, 10): 0.0, (176, 11): 0.0, (176, 12): 0.0, (176, 13): 0.0, (176, 14): 0.0, (176, 15): 6.0, (176, 16): 4.0, (337, 0): 0.0, (337, 1): 0.0, (337, 2): 0.0, (337, 3): 0.0, (337, 4): 0.0, (337, 5): 0.0, (337, 6): 0.0, (337, 7): 0.0, (337, 8): 0.0, (337, 9): 0.0, (337, 10): 0.0, (337, 11): 0.0, (337, 12): 0.0, (337, 13): 0.0, (337, 14): 0.0, (337, 15): 0.0, (337, 16): 0.0, (287, 0): 0.0, (287, 1): 13.0, (287, 2): 0.0, (287, 3): 0.0, (287, 4): 0.0, (287, 5): 0.0, (287, 6): 0.0, (287, 7): 0.0, (287, 8): 0.0, (287, 9): 0.0, (287, 10): 0.0, (287, 11): 0.0, (287, 12): 0.0, (287, 13): 0.0, (287, 14): 0.0, (287, 15): 10.0, (287, 16): 0.0, (286, 0): 0.0, (286, 1): 0.0, (286, 2): 0.0, (286, 3): 0.0, (286, 4): 0.0, (286, 5): 0.0, (286, 6): 0.0, (286, 7): 0.0, (286, 8): 0.0, (286, 9): 0.0, (286, 10): 0.0, (286, 11): 0.0, (286, 12): 0.0, (286, 13): 0.0, (286, 14): 0.0, (286, 15): 0.0, (286, 16): 0.0, (331, 0): 0.0, (331, 1): 0.0, (331, 2): 0.0, (331, 3): 0.0, (331, 4): 0.0, (331, 5): 0.0, (331, 6): 0.0, (331, 7): 0.0, (331, 8): 0.0, (331, 9): 0.0, (331, 10): 0.0, (331, 11): 0.0, (331, 12): 0.0, (331, 13): 0.0, (331, 14): 0.0, (331, 15): 0.0, (331, 16): 0.0, (95, 0): 0.0, (95, 1): 0.0, (95, 2): 0.0, (95, 3): 0.0, (95, 4): 0.0, (95, 5): 0.0, (95, 6): 0.0, (95, 7): 0.0, (95, 8): 0.0, (95, 9): 0.0, (95, 10): 0.0, (95, 11): 0.0, (95, 12): 0.0, (95, 13): 0.0, (95, 14): 0.0, (95, 15): 0.0, (95, 16): 0.0, (491, 0): 0.0, (491, 1): 0.0, (491, 2): 0.0, (491, 3): 0.0, (491, 4): 0.0, (491, 5): 0.0, (491, 6): 0.0, (491, 7): 0.0, (491, 8): 0.0, (491, 9): 0.0, (491, 10): 0.0, (491, 11): 0.0, (491, 12): 0.0, (491, 13): 0.0, (491, 14): 0.0, (491, 15): 0.0, (491, 16): 0.0, (327, 0): 0.0, (327, 1): 0.0, (327, 2): 0.0, (327, 3): 0.0, (327, 4): 0.0, (327, 5): 0.0, (327, 6): 0.0, (327, 7): 0.0, (327, 8): 0.0, (327, 9): 0.0, (327, 10): 0.0, (327, 11): 0.0, (327, 12): 0.0, (327, 13): 0.0, (327, 14): 0.0, (327, 15): 0.0, (327, 16): 0.0, (131, 0): 0.0, (131, 1): 0.0, (131, 2): 0.0, (131, 3): 0.0, (131, 4): 0.0, (131, 5): 0.0, (131, 6): 0.0, (131, 7): 0.0, (131, 8): 0.0, (131, 9): 0.0, (131, 10): 0.0, (131, 11): 0.0, (131, 12): 0.0, (131, 13): 0.0, (131, 14): 0.0, (131, 15): 0.0, (131, 16): 0.0, (4, 0): 0.0, (4, 1): 0.0, (4, 2): 0.0, (4, 3): 0.0, (4, 4): 0.0, (4, 5): 0.0, (4, 6): 0.0, (4, 7): 0.0, (4, 8): 0.0, (4, 9): 0.0, (4, 10): 0.0, (4, 11): 0.0, (4, 12): 0.0, (4, 13): 0.0, (4, 14): 0.0, (4, 15): 0.0, (4, 16): 0.0, (174, 0): 0.0, (174, 1): 0.0, (174, 2): 0.0, (174, 3): 0.0, (174, 4): 0.0, (174, 5): 1.0, (174, 6): 0.0, (174, 7): 0.0, (174, 8): 0.0, (174, 9): 0.0, (174, 10): 0.0, (174, 11): 0.0, (174, 12): 0.0, (174, 13): 0.0, (174, 14): 0.0, (174, 15): 0.0, (174, 16): 0.0, (288, 0): 0.0, (288, 1): 0.0, (288, 2): 0.0, (288, 3): 0.0, (288, 4): 0.0, (288, 5): 0.0, (288, 6): 0.0, (288, 7): 0.0, (288, 8): 0.0, (288, 9): 0.0, (288, 10): 0.0, (288, 11): 0.0, (288, 12): 0.0, (288, 13): 0.0, (288, 14): 0.0, (288, 15): 0.0, (288, 16): 0.0, (171, 0): 0.0, (171, 1): 0.0, (171, 2): 0.0, (171, 3): 0.0, (171, 4): 0.0, (171, 5): 0.0, (171, 6): 0.0, (171, 7): 0.0, (171, 8): 0.0, (171, 9): 0.0, (171, 10): 0.0, (171, 11): 0.0, (171, 12): 0.0, (171, 13): 0.0, (171, 14): 0.0, (171, 15): 0.0, (171, 16): 0.0, (397, 0): 0.0, (397, 1): 0.0, (397, 2): 0.0, (397, 3): 0.0, (397, 4): 0.0, (397, 5): 0.0, (397, 6): 0.0, (397, 7): 0.0, (397, 8): 0.0, (397, 9): 0.0, (397, 10): 0.0, (397, 11): 0.0, (397, 12): 0.0, (397, 13): 0.0, (397, 14): 0.0, (397, 15): 0.0, (397, 16): 0.0, (88, 0): 0.0, (88, 1): 0.0, (88, 2): 0.0, (88, 3): 0.0, (88, 4): 0.0, (88, 5): 0.0, (88, 6): 0.0, (88, 7): 0.0, (88, 8): 0.0, (88, 9): 0.0, (88, 10): 0.0, (88, 11): 0.0, (88, 12): 0.0, (88, 13): 0.0, (88, 14): 0.0, (88, 15): 0.0, (88, 16): 0.0, (273, 0): 0.0, (273, 1): 0.0, (273, 2): 0.0, (273, 3): 0.0, (273, 4): 0.0, (273, 5): 0.0, (273, 6): 0.0, (273, 7): 0.0, (273, 8): 0.0, (273, 9): 0.0, (273, 10): 0.0, (273, 11): 0.0, (273, 12): 0.0, (273, 13): 0.0, (273, 14): 0.0, (273, 15): 0.0, (273, 16): 0.0, (432, 0): 0.0, (432, 1): 0.0, (432, 2): 0.0, (432, 3): 0.0, (432, 4): 0.0, (432, 5): 0.0, (432, 6): 0.0, (432, 7): 0.0, (432, 8): 0.0, (432, 9): 0.0, (432, 10): 0.0, (432, 11): 0.0, (432, 12): 0.0, (432, 13): 0.0, (432, 14): 0.0, (432, 15): 0.0, (432, 16): 0.0, (222, 0): 0.0, (222, 1): 0.0, (222, 2): 0.0, (222, 3): 0.0, (222, 4): 0.0, (222, 5): 0.0, (222, 6): 0.0, (222, 7): 0.0, (222, 8): 0.0, (222, 9): 0.0, (222, 10): 0.0, (222, 11): 0.0, (222, 12): 0.0, (222, 13): 0.0, (222, 14): 0.0, (222, 15): 0.0, (222, 16): 0.0, (127, 0): 0.0, (127, 1): 0.0, (127, 2): 0.0, (127, 3): 0.0, (127, 4): 0.0, (127, 5): 0.0, (127, 6): 0.0, (127, 7): 0.0, (127, 8): 0.0, (127, 9): 0.0, (127, 10): 0.0, (127, 11): 0.0, (127, 12): 0.0, (127, 13): 0.0, (127, 14): 0.0, (127, 15): 0.0, (127, 16): 0.0, (46, 0): 0.0, (46, 1): 0.0, (46, 2): 0.0, (46, 3): 0.0, (46, 4): 0.0, (46, 5): 0.0, (46, 6): 0.0, (46, 7): 0.0, (46, 8): 0.0, (46, 9): 0.0, (46, 10): 0.0, (46, 11): 0.0, (46, 12): 0.0, (46, 13): 0.0, (46, 14): 0.0, (46, 15): 0.0, (46, 16): 0.0, (247, 0): 0.0, (247, 1): 0.0, (247, 2): 0.0, (247, 3): 0.0, (247, 4): 0.0, (247, 5): 0.0, (247, 6): 0.0, (247, 7): 0.0, (247, 8): 0.0, (247, 9): 0.0, (247, 10): 0.0, (247, 11): 0.0, (247, 12): 0.0, (247, 13): 0.0, (247, 14): 0.0, (247, 15): 0.0, (247, 16): 0.0, (343, 0): 0.0, (343, 1): 0.0, (343, 2): 0.0, (343, 3): 0.0, (343, 4): 0.0, (343, 5): 0.0, (343, 6): 0.0, (343, 7): 0.0, (343, 8): 0.0, (343, 9): 0.0, (343, 10): 0.0, (343, 11): 0.0, (343, 12): 0.0, (343, 13): 0.0, (343, 14): 0.0, (343, 15): 0.0, (343, 16): 0.0, (29, 0): 0.0, (29, 1): 0.0, (29, 2): 0.0, (29, 3): 0.0, (29, 4): 0.0, (29, 5): 0.0, (29, 6): 0.0, (29, 7): 0.0, (29, 8): 0.0, (29, 9): 0.0, (29, 10): 0.0, (29, 11): 0.0, (29, 12): 0.0, (29, 13): 0.0, (29, 14): 0.0, (29, 15): 0.0, (29, 16): 0.0, (267, 0): 0.0, (267, 1): 0.0, (267, 2): 0.0, (267, 3): 0.0, (267, 4): 0.0, (267, 5): 0.0, (267, 6): 0.0, (267, 7): 0.0, (267, 8): 0.0, (267, 9): 0.0, (267, 10): 0.0, (267, 11): 0.0, (267, 12): 0.0, (267, 13): 0.0, (267, 14): 0.0, (267, 15): 0.0, (267, 16): 0.0, (447, 0): 0.0, (447, 1): 0.0, (447, 2): 0.0, (447, 3): 0.0, (447, 4): 0.0, (447, 5): 0.0, (447, 6): 0.0, (447, 7): 0.0, (447, 8): 0.0, (447, 9): 0.0, (447, 10): 0.0, (447, 11): 0.0, (447, 12): 0.0, (447, 13): 0.0, (447, 14): 0.0, (447, 15): 0.0, (447, 16): 0.0, (101, 0): 0.0, (101, 1): 0.0, (101, 2): 0.0, (101, 3): 0.0, (101, 4): 0.0, (101, 5): 0.0, (101, 6): 0.0, (101, 7): 0.0, (101, 8): 0.0, (101, 9): 0.0, (101, 10): 0.0, (101, 11): 0.0, (101, 12): 0.0, (101, 13): 0.0, (101, 14): 0.0, (101, 15): 0.0, (101, 16): 0.0, (329, 0): 0.0, (329, 1): 0.0, (329, 2): 0.0, (329, 3): 0.0, (329, 4): 0.0, (329, 5): 0.0, (329, 6): 0.0, (329, 7): 0.0, (329, 8): 0.0, (329, 9): 0.0, (329, 10): 0.0, (329, 11): 0.0, (329, 12): 0.0, (329, 13): 0.0, (329, 14): 0.0, (329, 15): 0.0, (329, 16): 0.0, (355, 0): 0.0, (355, 1): 0.0, (355, 2): 0.0, (355, 3): 0.0, (355, 4): 0.0, (355, 5): 0.0, (355, 6): 0.0, (355, 7): 0.0, (355, 8): 0.0, (355, 9): 0.0, (355, 10): 0.0, (355, 11): 0.0, (355, 12): 0.0, (355, 13): 0.0, (355, 14): 0.0, (355, 15): 0.0, (355, 16): 0.0, (237, 0): 0.0, (237, 1): 0.0, (237, 2): 0.0, (237, 3): 0.0, (237, 4): 0.0, (237, 5): 0.0, (237, 6): 0.0, (237, 7): 0.0, (237, 8): 0.0, (237, 9): 0.0, (237, 10): 0.0, (237, 11): 0.0, (237, 12): 0.0, (237, 13): 0.0, (237, 14): 0.0, (237, 15): 0.0, (237, 16): 0.0, (393, 0): 0.0, (393, 1): 0.0, (393, 2): 0.0, (393, 3): 0.0, (393, 4): 0.0, (393, 5): 0.0, (393, 6): 0.0, (393, 7): 0.0, (393, 8): 0.0, (393, 9): 0.0, (393, 10): 0.0, (393, 11): 0.0, (393, 12): 0.0, (393, 13): 0.0, (393, 14): 0.0, (393, 15): 0.0, (393, 16): 0.0, (297, 0): 0.0, (297, 1): 0.0, (297, 2): 0.0, (297, 3): 0.0, (297, 4): 0.0, (297, 5): 0.0, (297, 6): 0.0, (297, 7): 0.0, (297, 8): 0.0, (297, 9): 0.0, (297, 10): 0.0, (297, 11): 0.0, (297, 12): 0.0, (297, 13): 0.0, (297, 14): 0.0, (297, 15): 0.0, (297, 16): 0.0, (135, 0): 0.0, (135, 1): 0.0, (135, 2): 0.0, (135, 3): 0.0, (135, 4): 0.0, (135, 5): 0.0, (135, 6): 0.0, (135, 7): 0.0, (135, 8): 0.0, (135, 9): 0.0, (135, 10): 0.0, (135, 11): 0.0, (135, 12): 0.0, (135, 13): 0.0, (135, 14): 0.0, (135, 15): 0.0, (135, 16): 0.0, (457, 0): 0.0, (457, 1): 0.0, (457, 2): 0.0, (457, 3): 0.0, (457, 4): 0.0, (457, 5): 0.0, (457, 6): 0.0, (457, 7): 0.0, (457, 8): 0.0, (457, 9): 0.0, (457, 10): 0.0, (457, 11): 0.0, (457, 12): 0.0, (457, 13): 0.0, (457, 14): 0.0, (457, 15): 0.0, (457, 16): 0.0, (401, 0): 0.0, (401, 1): 0.0, (401, 2): 0.0, (401, 3): 0.0, (401, 4): 0.0, (401, 5): 0.0, (401, 6): 0.0, (401, 7): 0.0, (401, 8): 0.0, (401, 9): 0.0, (401, 10): 0.0, (401, 11): 0.0, (401, 12): 0.0, (401, 13): 0.0, (401, 14): 0.0, (401, 15): 0.0, (401, 16): 0.0, (467, 0): 0.0, (467, 1): 0.0, (467, 2): 0.0, (467, 3): 0.0, (467, 4): 0.0, (467, 5): 0.0, (467, 6): 0.0, (467, 7): 0.0, (467, 8): 0.0, (467, 9): 0.0, (467, 10): 0.0, (467, 11): 0.0, (467, 12): 0.0, (467, 13): 0.0, (467, 14): 0.0, (467, 15): 0.0, (467, 16): 0.0, (213, 0): 0.0, (213, 1): 0.0, (213, 2): 0.0, (213, 3): 0.0, (213, 4): 0.0, (213, 5): 0.0, (213, 6): 0.0, (213, 7): 0.0, (213, 8): 0.0, (213, 9): 0.0, (213, 10): 0.0, (213, 11): 0.0, (213, 12): 0.0, (213, 13): 0.0, (213, 14): 0.0, (213, 15): 0.0, (213, 16): 0.0, (66, 0): 0.0, (66, 1): 0.0, (66, 2): 0.0, (66, 3): 0.0, (66, 4): 1.0, (66, 5): 0.0, (66, 6): 0.0, (66, 7): 0.0, (66, 8): 0.0, (66, 9): 0.0, (66, 10): 0.0, (66, 11): 0.0, (66, 12): 0.0, (66, 13): 0.0, (66, 14): 0.0, (66, 15): 0.0, (66, 16): 0.0, (103, 0): 0.0, (103, 1): 0.0, (103, 2): 0.0, (103, 3): 0.0, (103, 4): 0.0, (103, 5): 0.0, (103, 6): 0.0, (103, 7): 0.0, (103, 8): 0.0, (103, 9): 0.0, (103, 10): 0.0, (103, 11): 0.0, (103, 12): 0.0, (103, 13): 0.0, (103, 14): 0.0, (103, 15): 0.0, (103, 16): 0.0, (81, 0): 0.0, (81, 1): 0.0, (81, 2): 0.0, (81, 3): 0.0, (81, 4): 0.0, (81, 5): 0.0, (81, 6): 0.0, (81, 7): 0.0, (81, 8): 0.0, (81, 9): 0.0, (81, 10): 0.0, (81, 11): 0.0, (81, 12): 0.0, (81, 13): 0.0, (81, 14): 0.0, (81, 15): 0.0, (81, 16): 0.0, (290, 0): 0.0, (290, 1): 0.0, (290, 2): 0.0, (290, 3): 0.0, (290, 4): 0.0, (290, 5): 0.0, (290, 6): 0.0, (290, 7): 0.0, (290, 8): 0.0, (290, 9): 0.0, (290, 10): 0.0, (290, 11): 0.0, (290, 12): 0.0, (290, 13): 0.0, (290, 14): 0.0, (290, 15): 0.0, (290, 16): 0.0, (395, 0): 0.0, (395, 1): 0.0, (395, 2): 0.0, (395, 3): 0.0, (395, 4): 0.0, (395, 5): 0.0, (395, 6): 0.0, (395, 7): 0.0, (395, 8): 0.0, (395, 9): 0.0, (395, 10): 0.0, (395, 11): 0.0, (395, 12): 0.0, (395, 13): 0.0, (395, 14): 0.0, (395, 15): 0.0, (395, 16): 0.0, (334, 0): 0.0, (334, 1): 0.0, (334, 2): 0.0, (334, 3): 0.0, (334, 4): 0.0, (334, 5): 0.0, (334, 6): 0.0, (334, 7): 0.0, (334, 8): 0.0, (334, 9): 0.0, (334, 10): 0.0, (334, 11): 0.0, (334, 12): 0.0, (334, 13): 0.0, (334, 14): 0.0, (334, 15): 0.0, (334, 16): 0.0, (53, 0): 0.0, (53, 1): 0.0, (53, 2): 0.0, (53, 3): 0.0, (53, 4): 0.0, (53, 5): 0.0, (53, 6): 0.0, (53, 7): 0.0, (53, 8): 0.0, (53, 9): 0.0, (53, 10): 0.0, (53, 11): 0.0, (53, 12): 0.0, (53, 13): 0.0, (53, 14): 0.0, (53, 15): 0.0, (53, 16): 0.0, (388, 0): 0.0, (388, 1): 0.0, (388, 2): 0.0, (388, 3): 0.0, (388, 4): 0.0, (388, 5): 0.0, (388, 6): 0.0, (388, 7): 0.0, (388, 8): 0.0, (388, 9): 0.0, (388, 10): 0.0, (388, 11): 0.0, (388, 12): 0.0, (388, 13): 0.0, (388, 14): 0.0, (388, 15): 0.0, (388, 16): 0.0, (309, 0): 0.0, (309, 1): 0.0, (309, 2): 0.0, (309, 3): 0.0, (309, 4): 0.0, (309, 5): 0.0, (309, 6): 0.0, (309, 7): 0.0, (309, 8): 0.0, (309, 9): 0.0, (309, 10): 0.0, (309, 11): 0.0, (309, 12): 0.0, (309, 13): 0.0, (309, 14): 0.0, (309, 15): 0.0, (309, 16): 0.0, (24, 0): 0.0, (24, 1): 0.0, (24, 2): 0.0, (24, 3): 0.0, (24, 4): 0.0, (24, 5): 0.0, (24, 6): 0.0, (24, 7): 0.0, (24, 8): 0.0, (24, 9): 0.0, (24, 10): 0.0, (24, 11): 0.0, (24, 12): 0.0, (24, 13): 0.0, (24, 14): 0.0, (24, 15): 0.0, (24, 16): 0.0, (148, 0): 0.0, (148, 1): 0.0, (148, 2): 0.0, (148, 3): 0.0, (148, 4): 0.0, (148, 5): 0.0, (148, 6): 0.0, (148, 7): 0.0, (148, 8): 0.0, (148, 9): 0.0, (148, 10): 0.0, (148, 11): 0.0, (148, 12): 0.0, (148, 13): 0.0, (148, 14): 0.0, (148, 15): 0.0, (148, 16): 0.0, (120, 0): 0.0, (120, 1): 0.0, (120, 2): 0.0, (120, 3): 0.0, (120, 4): 0.0, (120, 5): 0.0, (120, 6): 0.0, (120, 7): 0.0, (120, 8): 0.0, (120, 9): 0.0, (120, 10): 0.0, (120, 11): 0.0, (120, 12): 0.0, (120, 13): 0.0, (120, 14): 0.0, (120, 15): 0.0, (120, 16): 0.0, (333, 0): 0.0, (333, 1): 0.0, (333, 2): 0.0, (333, 3): 0.0, (333, 4): 0.0, (333, 5): 0.0, (333, 6): 0.0, (333, 7): 0.0, (333, 8): 0.0, (333, 9): 0.0, (333, 10): 0.0, (333, 11): 0.0, (333, 12): 0.0, (333, 13): 0.0, (333, 14): 0.0, (333, 15): 0.0, (333, 16): 0.0, (96, 0): 0.0, (96, 1): 0.0, (96, 2): 0.0, (96, 3): 0.0, (96, 4): 0.0, (96, 5): 0.0, (96, 6): 0.0, (96, 7): 0.0, (96, 8): 0.0, (96, 9): 0.0, (96, 10): 0.0, (96, 11): 0.0, (96, 12): 0.0, (96, 13): 0.0, (96, 14): 0.0, (96, 15): 0.0, (96, 16): 0.0, (25, 0): 0.0, (25, 1): 0.0, (25, 2): 0.0, (25, 3): 0.0, (25, 4): 0.0, (25, 5): 0.0, (25, 6): 0.0, (25, 7): 0.0, (25, 8): 0.0, (25, 9): 0.0, (25, 10): 0.0, (25, 11): 0.0, (25, 12): 0.0, (25, 13): 0.0, (25, 14): 0.0, (25, 15): 0.0, (25, 16): 0.0, (493, 0): 0.0, (493, 1): 0.0, (493, 2): 0.0, (493, 3): 0.0, (493, 4): 0.0, (493, 5): 0.0, (493, 6): 0.0, (493, 7): 0.0, (493, 8): 0.0, (493, 9): 0.0, (493, 10): 0.0, (493, 11): 0.0, (493, 12): 0.0, (493, 13): 0.0, (493, 14): 0.0, (493, 15): 0.0, (493, 16): 0.0, (450, 0): 0.0, (450, 1): 0.0, (450, 2): 0.0, (450, 3): 0.0, (450, 4): 0.0, (450, 5): 0.0, (450, 6): 0.0, (450, 7): 0.0, (450, 8): 0.0, (450, 9): 0.0, (450, 10): 0.0, (450, 11): 0.0, (450, 12): 0.0, (450, 13): 0.0, (450, 14): 0.0, (450, 15): 0.0, (450, 16): 0.0, (438, 0): 0.0, (438, 1): 0.0, (438, 2): 0.0, (438, 3): 0.0, (438, 4): 0.0, (438, 5): 0.0, (438, 6): 0.0, (438, 7): 0.0, (438, 8): 0.0, (438, 9): 0.0, (438, 10): 0.0, (438, 11): 0.0, (438, 12): 0.0, (438, 13): 0.0, (438, 14): 0.0, (438, 15): 0.0, (438, 16): 0.0, (436, 0): 0.0, (436, 1): 0.0, (436, 2): 0.0, (436, 3): 0.0, (436, 4): 0.0, (436, 5): 0.0, (436, 6): 0.0, (436, 7): 0.0, (436, 8): 0.0, (436, 9): 0.0, (436, 10): 0.0, (436, 11): 0.0, (436, 12): 0.0, (436, 13): 0.0, (436, 14): 0.0, (436, 15): 0.0, (436, 16): 0.0, (261, 0): 0.0, (261, 1): 0.0, (261, 2): 0.0, (261, 3): 0.0, (261, 4): 0.0, (261, 5): 0.0, (261, 6): 0.0, (261, 7): 0.0, (261, 8): 0.0, (261, 9): 0.0, (261, 10): 0.0, (261, 11): 0.0, (261, 12): 0.0, (261, 13): 0.0, (261, 14): 0.0, (261, 15): 0.0, (261, 16): 0.0, (179, 0): 0.0, (179, 1): 0.0, (179, 2): 0.0, (179, 3): 0.0, (179, 4): 0.0, (179, 5): 0.0, (179, 6): 0.0, (179, 7): 0.0, (179, 8): 0.0, (179, 9): 0.0, (179, 10): 0.0, (179, 11): 0.0, (179, 12): 0.0, (179, 13): 0.0, (179, 14): 0.0, (179, 15): 0.0, (179, 16): 0.0, (190, 0): 0.0, (190, 1): 0.0, (190, 2): 0.0, (190, 3): 0.0, (190, 4): 0.0, (190, 5): 0.0, (190, 6): 0.0, (190, 7): 0.0, (190, 8): 0.0, (190, 9): 0.0, (190, 10): 0.0, (190, 11): 0.0, (190, 12): 0.0, (190, 13): 0.0, (190, 14): 0.0, (190, 15): 0.0, (190, 16): 0.0, (302, 0): 0.0, (302, 1): 0.0, (302, 2): 0.0, (302, 3): 0.0, (302, 4): 0.0, (302, 5): 0.0, (302, 6): 0.0, (302, 7): 0.0, (302, 8): 0.0, (302, 9): 0.0, (302, 10): 0.0, (302, 11): 0.0, (302, 12): 0.0, (302, 13): 0.0, (302, 14): 0.0, (302, 15): 0.0, (302, 16): 0.0, (462, 0): 0.0, (462, 1): 0.0, (462, 2): 0.0, (462, 3): 0.0, (462, 4): 0.0, (462, 5): 0.0, (462, 6): 0.0, (462, 7): 0.0, (462, 8): 0.0, (462, 9): 0.0, (462, 10): 0.0, (462, 11): 0.0, (462, 12): 0.0, (462, 13): 0.0, (462, 14): 0.0, (462, 15): 0.0, (462, 16): 0.0, (57, 0): 0.0, (57, 1): 0.0, (57, 2): 0.0, (57, 3): 0.0, (57, 4): 0.0, (57, 5): 0.0, (57, 6): 0.0, (57, 7): 0.0, (57, 8): 0.0, (57, 9): 0.0, (57, 10): 0.0, (57, 11): 0.0, (57, 12): 0.0, (57, 13): 0.0, (57, 14): 0.0, (57, 15): 0.0, (57, 16): 0.0, (354, 0): 0.0, (354, 1): 0.0, (354, 2): 0.0, (354, 3): 0.0, (354, 4): 0.0, (354, 5): 0.0, (354, 6): 0.0, (354, 7): 0.0, (354, 8): 0.0, (354, 9): 0.0, (354, 10): 0.0, (354, 11): 0.0, (354, 12): 0.0, (354, 13): 0.0, (354, 14): 0.0, (354, 15): 0.0, (354, 16): 0.0, (427, 0): 0.0, (427, 1): 0.0, (427, 2): 0.0, (427, 3): 0.0, (427, 4): 0.0, (427, 5): 0.0, (427, 6): 0.0, (427, 7): 0.0, (427, 8): 0.0, (427, 9): 0.0, (427, 10): 0.0, (427, 11): 0.0, (427, 12): 0.0, (427, 13): 0.0, (427, 14): 0.0, (427, 15): 0.0, (427, 16): 0.0, (365, 0): 0.0, (365, 1): 0.0, (365, 2): 0.0, (365, 3): 0.0, (365, 4): 0.0, (365, 5): 0.0, (365, 6): 0.0, (365, 7): 0.0, (365, 8): 0.0, (365, 9): 0.0, (365, 10): 0.0, (365, 11): 0.0, (365, 12): 0.0, (365, 13): 0.0, (365, 14): 0.0, (365, 15): 0.0, (365, 16): 0.0, (8, 0): 0.0, (8, 1): 0.0, (8, 2): 0.0, (8, 3): 0.0, (8, 4): 0.0, (8, 5): 0.0, (8, 6): 0.0, (8, 7): 0.0, (8, 8): 0.0, (8, 9): 0.0, (8, 10): 0.0, (8, 11): 0.0, (8, 12): 0.0, (8, 13): 0.0, (8, 14): 0.0, (8, 15): 0.0, (8, 16): 0.0, (458, 0): 0.0, (458, 1): 0.0, (458, 2): 0.0, (458, 3): 0.0, (458, 4): 0.0, (458, 5): 0.0, (458, 6): 0.0, (458, 7): 0.0, (458, 8): 0.0, (458, 9): 0.0, (458, 10): 0.0, (458, 11): 0.0, (458, 12): 0.0, (458, 13): 0.0, (458, 14): 0.0, (458, 15): 0.0, (458, 16): 0.0, (23, 0): 0.0, (23, 1): 0.0, (23, 2): 0.0, (23, 3): 0.0, (23, 4): 0.0, (23, 5): 0.0, (23, 6): 0.0, (23, 7): 0.0, (23, 8): 0.0, (23, 9): 0.0, (23, 10): 0.0, (23, 11): 0.0, (23, 12): 0.0, (23, 13): 0.0, (23, 14): 0.0, (23, 15): 0.0, (23, 16): 0.0, (7, 0): 0.0, (7, 1): 0.0, (7, 2): 0.0, (7, 3): 0.0, (7, 4): 0.0, (7, 5): 0.0, (7, 6): 0.0, (7, 7): 0.0, (7, 8): 0.0, (7, 9): 0.0, (7, 10): 0.0, (7, 11): 0.0, (7, 12): 0.0, (7, 13): 0.0, (7, 14): 0.0, (7, 15): 0.0, (7, 16): 0.0, (304, 0): 0.0, (304, 1): 0.0, (304, 2): 0.0, (304, 3): 0.0, (304, 4): 0.0, (304, 5): 0.0, (304, 6): 0.0, (304, 7): 0.0, (304, 8): 0.0, (304, 9): 0.0, (304, 10): 0.0, (304, 11): 0.0, (304, 12): 0.0, (304, 13): 0.0, (304, 14): 0.0, (304, 15): 0.0, (304, 16): 0.0, (474, 0): 0.0, (474, 1): 0.0, (474, 2): 0.0, (474, 3): 0.0, (474, 4): 0.0, (474, 5): 0.0, (474, 6): 0.0, (474, 7): 0.0, (474, 8): 0.0, (474, 9): 0.0, (474, 10): 0.0, (474, 11): 0.0, (474, 12): 0.0, (474, 13): 0.0, (474, 14): 0.0, (474, 15): 0.0, (474, 16): 0.0, (367, 0): 0.0, (367, 1): 0.0, (367, 2): 0.0, (367, 3): 0.0, (367, 4): 0.0, (367, 5): 0.0, (367, 6): 0.0, (367, 7): 0.0, (367, 8): 0.0, (367, 9): 0.0, (367, 10): 0.0, (367, 11): 0.0, (367, 12): 0.0, (367, 13): 0.0, (367, 14): 0.0, (367, 15): 0.0, (367, 16): 0.0, (211, 0): 0.0, (211, 1): 0.0, (211, 2): 0.0, (211, 3): 0.0, (211, 4): 0.0, (211, 5): 0.0, (211, 6): 0.0, (211, 7): 0.0, (211, 8): 0.0, (211, 9): 0.0, (211, 10): 0.0, (211, 11): 0.0, (211, 12): 0.0, (211, 13): 0.0, (211, 14): 0.0, (211, 15): 0.0, (211, 16): 0.0, (192, 0): 0.0, (192, 1): 0.0, (192, 2): 0.0, (192, 3): 0.0, (192, 4): 0.0, (192, 5): 0.0, (192, 6): 0.0, (192, 7): 0.0, (192, 8): 0.0, (192, 9): 0.0, (192, 10): 0.0, (192, 11): 0.0, (192, 12): 0.0, (192, 13): 0.0, (192, 14): 0.0, (192, 15): 0.0, (192, 16): 0.0, (169, 0): 0.0, (169, 1): 0.0, (169, 2): 0.0, (169, 3): 0.0, (169, 4): 0.0, (169, 5): 0.0, (169, 6): 0.0, (169, 7): 0.0, (169, 8): 0.0, (169, 9): 0.0, (169, 10): 0.0, (169, 11): 0.0, (169, 12): 0.0, (169, 13): 0.0, (169, 14): 0.0, (169, 15): 0.0, (169, 16): 0.0, (426, 0): 0.0, (426, 1): 0.0, (426, 2): 0.0, (426, 3): 0.0, (426, 4): 0.0, (426, 5): 0.0, (426, 6): 0.0, (426, 7): 0.0, (426, 8): 0.0, (426, 9): 0.0, (426, 10): 0.0, (426, 11): 0.0, (426, 12): 0.0, (426, 13): 0.0, (426, 14): 0.0, (426, 15): 0.0, (426, 16): 0.0, (181, 0): 0.0, (181, 1): 0.0, (181, 2): 0.0, (181, 3): 0.0, (181, 4): 0.0, (181, 5): 0.0, (181, 6): 0.0, (181, 7): 0.0, (181, 8): 0.0, (181, 9): 0.0, (181, 10): 0.0, (181, 11): 0.0, (181, 12): 0.0, (181, 13): 0.0, (181, 14): 0.0, (181, 15): 0.0, (181, 16): 0.0, (209, 0): 0.0, (209, 1): 0.0, (209, 2): 0.0, (209, 3): 0.0, (209, 4): 0.0, (209, 5): 0.0, (209, 6): 0.0, (209, 7): 0.0, (209, 8): 0.0, (209, 9): 0.0, (209, 10): 0.0, (209, 11): 0.0, (209, 12): 0.0, (209, 13): 0.0, (209, 14): 0.0, (209, 15): 0.0, (209, 16): 0.0, (349, 0): 0.0, (349, 1): 0.0, (349, 2): 0.0, (349, 3): 0.0, (349, 4): 0.0, (349, 5): 0.0, (349, 6): 0.0, (349, 7): 0.0, (349, 8): 0.0, (349, 9): 0.0, (349, 10): 0.0, (349, 11): 0.0, (349, 12): 0.0, (349, 13): 0.0, (349, 14): 0.0, (349, 15): 0.0, (349, 16): 0.0, (260, 0): 0.0, (260, 1): 0.0, (260, 2): 0.0, (260, 3): 0.0, (260, 4): 0.0, (260, 5): 0.0, (260, 6): 0.0, (260, 7): 0.0, (260, 8): 0.0, (260, 9): 0.0, (260, 10): 0.0, (260, 11): 0.0, (260, 12): 0.0, (260, 13): 0.0, (260, 14): 0.0, (260, 15): 0.0, (260, 16): 0.0, (301, 0): 0.0, (301, 1): 0.0, (301, 2): 0.0, (301, 3): 0.0, (301, 4): 0.0, (301, 5): 0.0, (301, 6): 0.0, (301, 7): 0.0, (301, 8): 0.0, (301, 9): 0.0, (301, 10): 0.0, (301, 11): 0.0, (301, 12): 0.0, (301, 13): 0.0, (301, 14): 0.0, (301, 15): 0.0, (301, 16): 0.0, (256, 0): 0.0, (256, 1): 0.0, (256, 2): 0.0, (256, 3): 0.0, (256, 4): 0.0, (256, 5): 0.0, (256, 6): 0.0, (256, 7): 0.0, (256, 8): 0.0, (256, 9): 0.0, (256, 10): 0.0, (256, 11): 0.0, (256, 12): 0.0, (256, 13): 0.0, (256, 14): 0.0, (256, 15): 0.0, (256, 16): 0.0, (389, 0): 0.0, (389, 1): 0.0, (389, 2): 0.0, (389, 3): 0.0, (389, 4): 0.0, (389, 5): 0.0, (389, 6): 0.0, (389, 7): 0.0, (389, 8): 0.0, (389, 9): 0.0, (389, 10): 0.0, (389, 11): 0.0, (389, 12): 0.0, (389, 13): 0.0, (389, 14): 0.0, (389, 15): 0.0, (389, 16): 0.0, (13, 0): 0.0, (13, 1): 0.0, (13, 2): 0.0, (13, 3): 0.0, (13, 4): 0.0, (13, 5): 0.0, (13, 6): 0.0, (13, 7): 0.0, (13, 8): 0.0, (13, 9): 0.0, (13, 10): 0.0, (13, 11): 0.0, (13, 12): 0.0, (13, 13): 0.0, (13, 14): 0.0, (13, 15): 0.0, (13, 16): 0.0, (326, 0): 0.0, (326, 1): 0.0, (326, 2): 0.0, (326, 3): 0.0, (326, 4): 0.0, (326, 5): 0.0, (326, 6): 0.0, (326, 7): 0.0, (326, 8): 0.0, (326, 9): 0.0, (326, 10): 0.0, (326, 11): 0.0, (326, 12): 0.0, (326, 13): 0.0, (326, 14): 0.0, (326, 15): 0.0, (326, 16): 0.0, (117, 0): 0.0, (117, 1): 0.0, (117, 2): 0.0, (117, 3): 0.0, (117, 4): 0.0, (117, 5): 0.0, (117, 6): 0.0, (117, 7): 0.0, (117, 8): 0.0, (117, 9): 0.0, (117, 10): 0.0, (117, 11): 0.0, (117, 12): 0.0, (117, 13): 0.0, (117, 14): 0.0, (117, 15): 0.0, (117, 16): 0.0, (400, 0): 0.0, (400, 1): 0.0, (400, 2): 0.0, (400, 3): 0.0, (400, 4): 0.0, (400, 5): 0.0, (400, 6): 0.0, (400, 7): 0.0, (400, 8): 0.0, (400, 9): 0.0, (400, 10): 0.0, (400, 11): 0.0, (400, 12): 0.0, (400, 13): 0.0, (400, 14): 0.0, (400, 15): 0.0, (400, 16): 0.0, (313, 0): 0.0, (313, 1): 0.0, (313, 2): 0.0, (313, 3): 0.0, (313, 4): 0.0, (313, 5): 0.0, (313, 6): 0.0, (313, 7): 0.0, (313, 8): 0.0, (313, 9): 0.0, (313, 10): 0.0, (313, 11): 0.0, (313, 12): 0.0, (313, 13): 0.0, (313, 14): 0.0, (313, 15): 0.0, (313, 16): 0.0, (482, 0): 0.0, (482, 1): 0.0, (482, 2): 0.0, (482, 3): 0.0, (482, 4): 0.0, (482, 5): 0.0, (482, 6): 0.0, (482, 7): 0.0, (482, 8): 0.0, (482, 9): 0.0, (482, 10): 0.0, (482, 11): 0.0, (482, 12): 0.0, (482, 13): 0.0, (482, 14): 0.0, (482, 15): 0.0, (482, 16): 0.0, (147, 0): 0.0, (147, 1): 0.0, (147, 2): 0.0, (147, 3): 0.0, (147, 4): 0.0, (147, 5): 0.0, (147, 6): 0.0, (147, 7): 0.0, (147, 8): 0.0, (147, 9): 0.0, (147, 10): 0.0, (147, 11): 0.0, (147, 12): 0.0, (147, 13): 0.0, (147, 14): 0.0, (147, 15): 0.0, (147, 16): 0.0, (115, 0): 0.0, (115, 1): 0.0, (115, 2): 0.0, (115, 3): 0.0, (115, 4): 0.0, (115, 5): 0.0, (115, 6): 0.0, (115, 7): 0.0, (115, 8): 0.0, (115, 9): 0.0, (115, 10): 0.0, (115, 11): 0.0, (115, 12): 0.0, (115, 13): 0.0, (115, 14): 0.0, (115, 15): 0.0, (115, 16): 0.0, (277, 0): 0.0, (277, 1): 0.0, (277, 2): 0.0, (277, 3): 0.0, (277, 4): 0.0, (277, 5): 0.0, (277, 6): 0.0, (277, 7): 0.0, (277, 8): 0.0, (277, 9): 0.0, (277, 10): 0.0, (277, 11): 0.0, (277, 12): 0.0, (277, 13): 0.0, (277, 14): 0.0, (277, 15): 0.0, (277, 16): 0.0, (254, 0): 0.0, (254, 1): 0.0, (254, 2): 0.0, (254, 3): 0.0, (254, 4): 0.0, (254, 5): 0.0, (254, 6): 0.0, (254, 7): 0.0, (254, 8): 0.0, (254, 9): 0.0, (254, 10): 0.0, (254, 11): 0.0, (254, 12): 0.0, (254, 13): 0.0, (254, 14): 0.0, (254, 15): 0.0, (254, 16): 0.0, (232, 0): 0.0, (232, 1): 0.0, (232, 2): 0.0, (232, 3): 0.0, (232, 4): 0.0, (232, 5): 0.0, (232, 6): 0.0, (232, 7): 0.0, (232, 8): 0.0, (232, 9): 0.0, (232, 10): 0.0, (232, 11): 0.0, (232, 12): 0.0, (232, 13): 0.0, (232, 14): 0.0, (232, 15): 0.0, (232, 16): 0.0, (58, 0): 0.0, (58, 1): 0.0, (58, 2): 0.0, (58, 3): 0.0, (58, 4): 0.0, (58, 5): 0.0, (58, 6): 0.0, (58, 7): 0.0, (58, 8): 0.0, (58, 9): 0.0, (58, 10): 0.0, (58, 11): 0.0, (58, 12): 0.0, (58, 13): 0.0, (58, 14): 0.0, (58, 15): 0.0, (58, 16): 0.0, (62, 0): 0.0, (62, 1): 0.0, (62, 2): 0.0, (62, 3): 0.0, (62, 4): 0.0, (62, 5): 0.0, (62, 6): 0.0, (62, 7): 0.0, (62, 8): 0.0, (62, 9): 0.0, (62, 10): 0.0, (62, 11): 0.0, (62, 12): 0.0, (62, 13): 0.0, (62, 14): 0.0, (62, 15): 0.0, (62, 16): 0.0, (12, 0): 0.0, (12, 1): 0.0, (12, 2): 0.0, (12, 3): 0.0, (12, 4): 0.0, (12, 5): 0.0, (12, 6): 0.0, (12, 7): 0.0, (12, 8): 0.0, (12, 9): 0.0, (12, 10): 0.0, (12, 11): 0.0, (12, 12): 0.0, (12, 13): 0.0, (12, 14): 0.0, (12, 15): 0.0, (12, 16): 0.0, (20, 0): 0.0, (20, 1): 0.0, (20, 2): 0.0, (20, 3): 0.0, (20, 4): 0.0, (20, 5): 0.0, (20, 6): 0.0, (20, 7): 0.0, (20, 8): 0.0, (20, 9): 0.0, (20, 10): 0.0, (20, 11): 0.0, (20, 12): 0.0, (20, 13): 0.0, (20, 14): 0.0, (20, 15): 0.0, (20, 16): 0.0, (446, 0): 0.0, (446, 1): 0.0, (446, 2): 0.0, (446, 3): 0.0, (446, 4): 0.0, (446, 5): 0.0, (446, 6): 0.0, (446, 7): 0.0, (446, 8): 0.0, (446, 9): 0.0, (446, 10): 0.0, (446, 11): 0.0, (446, 12): 0.0, (446, 13): 0.0, (446, 14): 0.0, (446, 15): 0.0, (446, 16): 0.0, (481, 0): 0.0, (481, 1): 0.0, (481, 2): 0.0, (481, 3): 0.0, (481, 4): 0.0, (481, 5): 0.0, (481, 6): 0.0, (481, 7): 0.0, (481, 8): 0.0, (481, 9): 0.0, (481, 10): 0.0, (481, 11): 0.0, (481, 12): 0.0, (481, 13): 0.0, (481, 14): 0.0, (481, 15): 0.0, (481, 16): 0.0, (89, 0): 0.0, (89, 1): 0.0, (89, 2): 0.0, (89, 3): 0.0, (89, 4): 0.0, (89, 5): 0.0, (89, 6): 0.0, (89, 7): 0.0, (89, 8): 0.0, (89, 9): 0.0, (89, 10): 0.0, (89, 11): 0.0, (89, 12): 0.0, (89, 13): 0.0, (89, 14): 0.0, (89, 15): 0.0, (89, 16): 0.0, (314, 0): 0.0, (314, 1): 0.0, (314, 2): 0.0, (314, 3): 0.0, (314, 4): 0.0, (314, 5): 0.0, (314, 6): 0.0, (314, 7): 0.0, (314, 8): 0.0, (314, 9): 0.0, (314, 10): 0.0, (314, 11): 0.0, (314, 12): 0.0, (314, 13): 0.0, (314, 14): 0.0, (314, 15): 0.0, (314, 16): 0.0, (133, 0): 0.0, (133, 1): 0.0, (133, 2): 0.0, (133, 3): 0.0, (133, 4): 0.0, (133, 5): 0.0, (133, 6): 0.0, (133, 7): 0.0, (133, 8): 0.0, (133, 9): 0.0, (133, 10): 0.0, (133, 11): 0.0, (133, 12): 0.0, (133, 13): 0.0, (133, 14): 0.0, (133, 15): 0.0, (133, 16): 0.0, (83, 0): 0.0, (83, 1): 0.0, (83, 2): 0.0, (83, 3): 0.0, (83, 4): 0.0, (83, 5): 0.0, (83, 6): 0.0, (83, 7): 0.0, (83, 8): 0.0, (83, 9): 0.0, (83, 10): 0.0, (83, 11): 0.0, (83, 12): 0.0, (83, 13): 0.0, (83, 14): 0.0, (83, 15): 0.0, (83, 16): 0.0, (188, 0): 0.0, (188, 1): 0.0, (188, 2): 0.0, (188, 3): 0.0, (188, 4): 0.0, (188, 5): 0.0, (188, 6): 0.0, (188, 7): 0.0, (188, 8): 0.0, (188, 9): 0.0, (188, 10): 0.0, (188, 11): 0.0, (188, 12): 0.0, (188, 13): 0.0, (188, 14): 0.0, (188, 15): 0.0, (188, 16): 0.0, (124, 0): 0.0, (124, 1): 0.0, (124, 2): 0.0, (124, 3): 0.0, (124, 4): 0.0, (124, 5): 0.0, (124, 6): 0.0, (124, 7): 1.0, (124, 8): 0.0, (124, 9): 0.0, (124, 10): 0.0, (124, 11): 0.0, (124, 12): 0.0, (124, 13): 0.0, (124, 14): 0.0, (124, 15): 0.0, (124, 16): 0.0, (153, 0): 0.0, (153, 1): 0.0, (153, 2): 0.0, (153, 3): 0.0, (153, 4): 0.0, (153, 5): 0.0, (153, 6): 0.0, (153, 7): 0.0, (153, 8): 0.0, (153, 9): 0.0, (153, 10): 0.0, (153, 11): 0.0, (153, 12): 0.0, (153, 13): 0.0, (153, 14): 0.0, (153, 15): 0.0, (153, 16): 0.0, (225, 0): 0.0, (225, 1): 0.0, (225, 2): 0.0, (225, 3): 0.0, (225, 4): 0.0, (225, 5): 0.0, (225, 6): 0.0, (225, 7): 0.0, (225, 8): 0.0, (225, 9): 0.0, (225, 10): 0.0, (225, 11): 0.0, (225, 12): 0.0, (225, 13): 0.0, (225, 14): 0.0, (225, 15): 0.0, (225, 16): 0.0, (207, 0): 0.0, (207, 1): 0.0, (207, 2): 0.0, (207, 3): 0.0, (207, 4): 0.0, (207, 5): 0.0, (207, 6): 0.0, (207, 7): 0.0, (207, 8): 0.0, (207, 9): 0.0, (207, 10): 0.0, (207, 11): 0.0, (207, 12): 0.0, (207, 13): 0.0, (207, 14): 0.0, (207, 15): 0.0, (207, 16): 0.0, (140, 0): 0.0, (140, 1): 0.0, (140, 2): 0.0, (140, 3): 0.0, (140, 4): 0.0, (140, 5): 0.0, (140, 6): 0.0, (140, 7): 0.0, (140, 8): 0.0, (140, 9): 0.0, (140, 10): 0.0, (140, 11): 0.0, (140, 12): 0.0, (140, 13): 0.0, (140, 14): 0.0, (140, 15): 0.0, (140, 16): 0.0, (421, 0): 0.0, (421, 1): 0.0, (421, 2): 0.0, (421, 3): 0.0, (421, 4): 0.0, (421, 5): 0.0, (421, 6): 0.0, (421, 7): 0.0, (421, 8): 0.0, (421, 9): 0.0, (421, 10): 0.0, (421, 11): 0.0, (421, 12): 0.0, (421, 13): 0.0, (421, 14): 0.0, (421, 15): 0.0, (421, 16): 0.0, (22, 0): 0.0, (22, 1): 0.0, (22, 2): 0.0, (22, 3): 0.0, (22, 4): 0.0, (22, 5): 0.0, (22, 6): 0.0, (22, 7): 0.0, (22, 8): 0.0, (22, 9): 0.0, (22, 10): 0.0, (22, 11): 0.0, (22, 12): 0.0, (22, 13): 0.0, (22, 14): 0.0, (22, 15): 0.0, (22, 16): 0.0, (455, 0): 0.0, (455, 1): 0.0, (455, 2): 0.0, (455, 3): 0.0, (455, 4): 0.0, (455, 5): 0.0, (455, 6): 0.0, (455, 7): 0.0, (455, 8): 0.0, (455, 9): 0.0, (455, 10): 0.0, (455, 11): 0.0, (455, 12): 0.0, (455, 13): 0.0, (455, 14): 0.0, (455, 15): 0.0, (455, 16): 0.0, (48, 0): 0.0, (48, 1): 0.0, (48, 2): 0.0, (48, 3): 0.0, (48, 4): 0.0, (48, 5): 0.0, (48, 6): 0.0, (48, 7): 0.0, (48, 8): 0.0, (48, 9): 0.0, (48, 10): 0.0, (48, 11): 0.0, (48, 12): 0.0, (48, 13): 0.0, (48, 14): 0.0, (48, 15): 0.0, (48, 16): 0.0, (186, 0): 0.0, (186, 1): 0.0, (186, 2): 0.0, (186, 3): 0.0, (186, 4): 0.0, (186, 5): 0.0, (186, 6): 0.0, (186, 7): 0.0, (186, 8): 0.0, (186, 9): 0.0, (186, 10): 0.0, (186, 11): 0.0, (186, 12): 0.0, (186, 13): 0.0, (186, 14): 0.0, (186, 15): 0.0, (186, 16): 0.0, (152, 0): 0.0, (152, 1): 0.0, (152, 2): 0.0, (152, 3): 0.0, (152, 4): 0.0, (152, 5): 0.0, (152, 6): 0.0, (152, 7): 0.0, (152, 8): 0.0, (152, 9): 0.0, (152, 10): 0.0, (152, 11): 0.0, (152, 12): 0.0, (152, 13): 0.0, (152, 14): 0.0, (152, 15): 0.0, (152, 16): 0.0, (137, 0): 0.0, (137, 1): 0.0, (137, 2): 0.0, (137, 3): 0.0, (137, 4): 0.0, (137, 5): 0.0, (137, 6): 0.0, (137, 7): 0.0, (137, 8): 0.0, (137, 9): 0.0, (137, 10): 0.0, (137, 11): 0.0, (137, 12): 0.0, (137, 13): 0.0, (137, 14): 22.0, (137, 15): 0.0, (137, 16): 0.0, (396, 0): 0.0, (396, 1): 0.0, (396, 2): 0.0, (396, 3): 0.0, (396, 4): 0.0, (396, 5): 0.0, (396, 6): 0.0, (396, 7): 0.0, (396, 8): 0.0, (396, 9): 0.0, (396, 10): 0.0, (396, 11): 0.0, (396, 12): 0.0, (396, 13): 0.0, (396, 14): 0.0, (396, 15): 0.0, (396, 16): 0.0, (150, 0): 0.0, (150, 1): 0.0, (150, 2): 0.0, (150, 3): 0.0, (150, 4): 0.0, (150, 5): 0.0, (150, 6): 0.0, (150, 7): 0.0, (150, 8): 0.0, (150, 9): 0.0, (150, 10): 0.0, (150, 11): 0.0, (150, 12): 0.0, (150, 13): 0.0, (150, 14): 0.0, (150, 15): 0.0, (150, 16): 0.0, (180, 0): 0.0, (180, 1): 0.0, (180, 2): 0.0, (180, 3): 0.0, (180, 4): 0.0, (180, 5): 0.0, (180, 6): 0.0, (180, 7): 0.0, (180, 8): 0.0, (180, 9): 0.0, (180, 10): 0.0, (180, 11): 0.0, (180, 12): 0.0, (180, 13): 0.0, (180, 14): 0.0, (180, 15): 0.0, (180, 16): 0.0, (283, 0): 0.0, (283, 1): 0.0, (283, 2): 0.0, (283, 3): 0.0, (283, 4): 0.0, (283, 5): 0.0, (283, 6): 0.0, (283, 7): 0.0, (283, 8): 0.0, (283, 9): 0.0, (283, 10): 0.0, (283, 11): 0.0, (283, 12): 0.0, (283, 13): 0.0, (283, 14): 0.0, (283, 15): 0.0, (283, 16): 0.0, (51, 0): 0.0, (51, 1): 0.0, (51, 2): 0.0, (51, 3): 0.0, (51, 4): 0.0, (51, 5): 0.0, (51, 6): 0.0, (51, 7): 0.0, (51, 8): 0.0, (51, 9): 0.0, (51, 10): 0.0, (51, 11): 0.0, (51, 12): 0.0, (51, 13): 0.0, (51, 14): 0.0, (51, 15): 0.0, (51, 16): 0.0, (323, 0): 0.0, (323, 1): 0.0, (323, 2): 0.0, (323, 3): 0.0, (323, 4): 0.0, (323, 5): 0.0, (323, 6): 0.0, (323, 7): 0.0, (323, 8): 0.0, (323, 9): 0.0, (323, 10): 0.0, (323, 11): 0.0, (323, 12): 0.0, (323, 13): 0.0, (323, 14): 0.0, (323, 15): 0.0, (323, 16): 0.0, (347, 0): 0.0, (347, 1): 0.0, (347, 2): 0.0, (347, 3): 0.0, (347, 4): 0.0, (347, 5): 0.0, (347, 6): 0.0, (347, 7): 0.0, (347, 8): 0.0, (347, 9): 0.0, (347, 10): 0.0, (347, 11): 0.0, (347, 12): 0.0, (347, 13): 0.0, (347, 14): 0.0, (347, 15): 0.0, (347, 16): 0.0, (55, 0): 0.0, (55, 1): 0.0, (55, 2): 0.0, (55, 3): 0.0, (55, 4): 0.0, (55, 5): 0.0, (55, 6): 0.0, (55, 7): 0.0, (55, 8): 0.0, (55, 9): 0.0, (55, 10): 0.0, (55, 11): 0.0, (55, 12): 0.0, (55, 13): 0.0, (55, 14): 0.0, (55, 15): 0.0, (55, 16): 0.0, (312, 0): 0.0, (312, 1): 0.0, (312, 2): 0.0, (312, 3): 0.0, (312, 4): 0.0, (312, 5): 0.0, (312, 6): 0.0, (312, 7): 0.0, (312, 8): 0.0, (312, 9): 0.0, (312, 10): 0.0, (312, 11): 0.0, (312, 12): 0.0, (312, 13): 0.0, (312, 14): 0.0, (312, 15): 0.0, (312, 16): 0.0, (227, 0): 0.0, (227, 1): 0.0, (227, 2): 0.0, (227, 3): 0.0, (227, 4): 0.0, (227, 5): 0.0, (227, 6): 0.0, (227, 7): 0.0, (227, 8): 0.0, (227, 9): 0.0, (227, 10): 0.0, (227, 11): 0.0, (227, 12): 0.0, (227, 13): 0.0, (227, 14): 0.0, (227, 15): 0.0, (227, 16): 0.0, (306, 0): 0.0, (306, 1): 0.0, (306, 2): 0.0, (306, 3): 0.0, (306, 4): 0.0, (306, 5): 0.0, (306, 6): 0.0, (306, 7): 0.0, (306, 8): 0.0, (306, 9): 0.0, (306, 10): 0.0, (306, 11): 0.0, (306, 12): 0.0, (306, 13): 0.0, (306, 14): 0.0, (306, 15): 0.0, (306, 16): 0.0, (10, 0): 0.0, (10, 1): 0.0, (10, 2): 0.0, (10, 3): 0.0, (10, 4): 0.0, (10, 5): 0.0, (10, 6): 0.0, (10, 7): 0.0, (10, 8): 0.0, (10, 9): 0.0, (10, 10): 0.0, (10, 11): 0.0, (10, 12): 0.0, (10, 13): 0.0, (10, 14): 0.0, (10, 15): 0.0, (10, 16): 0.0, (449, 0): 0.0, (449, 1): 0.0, (449, 2): 0.0, (449, 3): 0.0, (449, 4): 0.0, (449, 5): 0.0, (449, 6): 0.0, (449, 7): 0.0, (449, 8): 0.0, (449, 9): 0.0, (449, 10): 0.0, (449, 11): 0.0, (449, 12): 0.0, (449, 13): 0.0, (449, 14): 0.0, (449, 15): 0.0, (449, 16): 0.0, (6, 0): 0.0, (6, 1): 0.0, (6, 2): 0.0, (6, 3): 0.0, (6, 4): 0.0, (6, 5): 0.0, (6, 6): 0.0, (6, 7): 0.0, (6, 8): 0.0, (6, 9): 0.0, (6, 10): 0.0, (6, 11): 0.0, (6, 12): 0.0, (6, 13): 0.0, (6, 14): 0.0, (6, 15): 0.0, (6, 16): 0.0, (157, 0): 0.0, (157, 1): 0.0, (157, 2): 0.0, (157, 3): 0.0, (157, 4): 0.0, (157, 5): 0.0, (157, 6): 0.0, (157, 7): 0.0, (157, 8): 0.0, (157, 9): 0.0, (157, 10): 0.0, (157, 11): 0.0, (157, 12): 0.0, (157, 13): 0.0, (157, 14): 0.0, (157, 15): 0.0, (157, 16): 0.0, (404, 0): 0.0, (404, 1): 0.0, (404, 2): 0.0, (404, 3): 0.0, (404, 4): 0.0, (404, 5): 0.0, (404, 6): 0.0, (404, 7): 0.0, (404, 8): 0.0, (404, 9): 0.0, (404, 10): 0.0, (404, 11): 2.0, (404, 12): 0.0, (404, 13): 0.0, (404, 14): 0.0, (404, 15): 0.0, (404, 16): 0.0, (243, 0): 0.0, (243, 1): 0.0, (243, 2): 0.0, (243, 3): 0.0, (243, 4): 0.0, (243, 5): 0.0, (243, 6): 0.0, (243, 7): 0.0, (243, 8): 0.0, (243, 9): 0.0, (243, 10): 0.0, (243, 11): 0.0, (243, 12): 0.0, (243, 13): 0.0, (243, 14): 0.0, (243, 15): 0.0, (243, 16): 0.0, (68, 0): 0.0, (68, 1): 0.0, (68, 2): 0.0, (68, 3): 0.0, (68, 4): 0.0, (68, 5): 0.0, (68, 6): 0.0, (68, 7): 0.0, (68, 8): 0.0, (68, 9): 0.0, (68, 10): 0.0, (68, 11): 0.0, (68, 12): 0.0, (68, 13): 0.0, (68, 14): 0.0, (68, 15): 0.0, (68, 16): 0.0, (409, 0): 0.0, (409, 1): 0.0, (409, 2): 0.0, (409, 3): 0.0, (409, 4): 0.0, (409, 5): 0.0, (409, 6): 0.0, (409, 7): 0.0, (409, 8): 0.0, (409, 9): 0.0, (409, 10): 0.0, (409, 11): 0.0, (409, 12): 0.0, (409, 13): 0.0, (409, 14): 0.0, (409, 15): 0.0, (409, 16): 0.0, (442, 0): 0.0, (442, 1): 0.0, (442, 2): 0.0, (442, 3): 0.0, (442, 4): 0.0, (442, 5): 0.0, (442, 6): 0.0, (442, 7): 0.0, (442, 8): 0.0, (442, 9): 0.0, (442, 10): 0.0, (442, 11): 0.0, (442, 12): 0.0, (442, 13): 0.0, (442, 14): 0.0, (442, 15): 0.0, (442, 16): 0.0, (341, 0): 0.0, (341, 1): 0.0, (341, 2): 0.0, (341, 3): 0.0, (341, 4): 0.0, (341, 5): 0.0, (341, 6): 0.0, (341, 7): 0.0, (341, 8): 0.0, (341, 9): 0.0, (341, 10): 0.0, (341, 11): 0.0, (341, 12): 0.0, (341, 13): 0.0, (341, 14): 0.0, (341, 15): 0.0, (341, 16): 0.0, (358, 0): 0.0, (358, 1): 0.0, (358, 2): 0.0, (358, 3): 0.0, (358, 4): 0.0, (358, 5): 0.0, (358, 6): 0.0, (358, 7): 0.0, (358, 8): 0.0, (358, 9): 0.0, (358, 10): 0.0, (358, 11): 0.0, (358, 12): 0.0, (358, 13): 0.0, (358, 14): 0.0, (358, 15): 0.0, (358, 16): 0.0, (250, 0): 0.0, (250, 1): 0.0, (250, 2): 0.0, (250, 3): 0.0, (250, 4): 0.0, (250, 5): 0.0, (250, 6): 0.0, (250, 7): 0.0, (250, 8): 0.0, (250, 9): 0.0, (250, 10): 0.0, (250, 11): 0.0, (250, 12): 0.0, (250, 13): 0.0, (250, 14): 0.0, (250, 15): 0.0, (250, 16): 0.0, (345, 0): 0.0, (345, 1): 0.0, (345, 2): 0.0, (345, 3): 0.0, (345, 4): 0.0, (345, 5): 0.0, (345, 6): 0.0, (345, 7): 0.0, (345, 8): 0.0, (345, 9): 0.0, (345, 10): 0.0, (345, 11): 0.0, (345, 12): 0.0, (345, 13): 0.0, (345, 14): 0.0, (345, 15): 0.0, (345, 16): 0.0, (31, 0): 0.0, (31, 1): 0.0, (31, 2): 0.0, (31, 3): 0.0, (31, 4): 0.0, (31, 5): 0.0, (31, 6): 0.0, (31, 7): 0.0, (31, 8): 0.0, (31, 9): 0.0, (31, 10): 0.0, (31, 11): 0.0, (31, 12): 0.0, (31, 13): 0.0, (31, 14): 0.0, (31, 15): 0.0, (31, 16): 0.0, (199, 0): 0.0, (199, 1): 0.0, (199, 2): 0.0, (199, 3): 0.0, (199, 4): 0.0, (199, 5): 0.0, (199, 6): 0.0, (199, 7): 0.0, (199, 8): 0.0, (199, 9): 0.0, (199, 10): 0.0, (199, 11): 0.0, (199, 12): 0.0, (199, 13): 0.0, (199, 14): 0.0, (199, 15): 0.0, (199, 16): 0.0, (391, 0): 0.0, (391, 1): 0.0, (391, 2): 0.0, (391, 3): 0.0, (391, 4): 0.0, (391, 5): 0.0, (391, 6): 0.0, (391, 7): 0.0, (391, 8): 0.0, (391, 9): 0.0, (391, 10): 0.0, (391, 11): 0.0, (391, 12): 0.0, (391, 13): 0.0, (391, 14): 0.0, (391, 15): 0.0, (391, 16): 0.0, (332, 0): 0.0, (332, 1): 0.0, (332, 2): 0.0, (332, 3): 0.0, (332, 4): 0.0, (332, 5): 0.0, (332, 6): 0.0, (332, 7): 0.0, (332, 8): 0.0, (332, 9): 0.0, (332, 10): 0.0, (332, 11): 0.0, (332, 12): 0.0, (332, 13): 0.0, (332, 14): 0.0, (332, 15): 0.0, (332, 16): 0.0, (189, 0): 0.0, (189, 1): 0.0, (189, 2): 0.0, (189, 3): 0.0, (189, 4): 0.0, (189, 5): 0.0, (189, 6): 0.0, (189, 7): 0.0, (189, 8): 0.0, (189, 9): 0.0, (189, 10): 0.0, (189, 11): 0.0, (189, 12): 0.0, (189, 13): 0.0, (189, 14): 0.0, (189, 15): 0.0, (189, 16): 0.0, (379, 0): 0.0, (379, 1): 0.0, (379, 2): 0.0, (379, 3): 0.0, (379, 4): 0.0, (379, 5): 0.0, (379, 6): 0.0, (379, 7): 0.0, (379, 8): 0.0, (379, 9): 0.0, (379, 10): 0.0, (379, 11): 0.0, (379, 12): 0.0, (379, 13): 0.0, (379, 14): 0.0, (379, 15): 0.0, (379, 16): 0.0, (59, 0): 0.0, (59, 1): 0.0, (59, 2): 0.0, (59, 3): 0.0, (59, 4): 0.0, (59, 5): 0.0, (59, 6): 0.0, (59, 7): 0.0, (59, 8): 0.0, (59, 9): 0.0, (59, 10): 0.0, (59, 11): 0.0, (59, 12): 0.0, (59, 13): 0.0, (59, 14): 0.0, (59, 15): 0.0, (59, 16): 0.0, (366, 0): 0.0, (366, 1): 0.0, (366, 2): 0.0, (366, 3): 0.0, (366, 4): 0.0, (366, 5): 0.0, (366, 6): 0.0, (366, 7): 0.0, (366, 8): 0.0, (366, 9): 0.0, (366, 10): 0.0, (366, 11): 0.0, (366, 12): 0.0, (366, 13): 0.0, (366, 14): 0.0, (366, 15): 0.0, (366, 16): 0.0, (183, 0): 0.0, (183, 1): 0.0, (183, 2): 0.0, (183, 3): 0.0, (183, 4): 0.0, (183, 5): 0.0, (183, 6): 0.0, (183, 7): 0.0, (183, 8): 0.0, (183, 9): 0.0, (183, 10): 0.0, (183, 11): 0.0, (183, 12): 0.0, (183, 13): 0.0, (183, 14): 0.0, (183, 15): 0.0, (183, 16): 0.0, (34, 0): 0.0, (34, 1): 0.0, (34, 2): 0.0, (34, 3): 0.0, (34, 4): 0.0, (34, 5): 0.0, (34, 6): 0.0, (34, 7): 0.0, (34, 8): 0.0, (34, 9): 0.0, (34, 10): 0.0, (34, 11): 0.0, (34, 12): 0.0, (34, 13): 0.0, (34, 14): 0.0, (34, 15): 0.0, (34, 16): 0.0, (435, 0): 0.0, (435, 1): 0.0, (435, 2): 0.0, (435, 3): 0.0, (435, 4): 0.0, (435, 5): 0.0, (435, 6): 0.0, (435, 7): 0.0, (435, 8): 0.0, (435, 9): 0.0, (435, 10): 0.0, (435, 11): 0.0, (435, 12): 0.0, (435, 13): 0.0, (435, 14): 0.0, (435, 15): 0.0, (435, 16): 0.0, (485, 0): 0.0, (485, 1): 0.0, (485, 2): 0.0, (485, 3): 0.0, (485, 4): 0.0, (485, 5): 0.0, (485, 6): 0.0, (485, 7): 0.0, (485, 8): 0.0, (485, 9): 0.0, (485, 10): 0.0, (485, 11): 0.0, (485, 12): 0.0, (485, 13): 0.0, (485, 14): 0.0, (485, 15): 0.0, (485, 16): 0.0, (281, 0): 0.0, (281, 1): 0.0, (281, 2): 0.0, (281, 3): 0.0, (281, 4): 0.0, (281, 5): 0.0, (281, 6): 0.0, (281, 7): 0.0, (281, 8): 0.0, (281, 9): 0.0, (281, 10): 0.0, (281, 11): 0.0, (281, 12): 0.0, (281, 13): 0.0, (281, 14): 0.0, (281, 15): 0.0, (281, 16): 0.0, (130, 0): 0.0, (130, 1): 0.0, (130, 2): 0.0, (130, 3): 0.0, (130, 4): 0.0, (130, 5): 0.0, (130, 6): 0.0, (130, 7): 0.0, (130, 8): 0.0, (130, 9): 0.0, (130, 10): 0.0, (130, 11): 0.0, (130, 12): 0.0, (130, 13): 0.0, (130, 14): 0.0, (130, 15): 0.0, (130, 16): 0.0, (220, 0): 0.0, (220, 1): 0.0, (220, 2): 0.0, (220, 3): 0.0, (220, 4): 0.0, (220, 5): 0.0, (220, 6): 0.0, (220, 7): 0.0, (220, 8): 0.0, (220, 9): 0.0, (220, 10): 0.0, (220, 11): 0.0, (220, 12): 0.0, (220, 13): 0.0, (220, 14): 0.0, (220, 15): 0.0, (220, 16): 0.0, (118, 0): 0.0, (118, 1): 0.0, (118, 2): 0.0, (118, 3): 0.0, (118, 4): 0.0, (118, 5): 0.0, (118, 6): 0.0, (118, 7): 0.0, (118, 8): 0.0, (118, 9): 0.0, (118, 10): 0.0, (118, 11): 0.0, (118, 12): 0.0, (118, 13): 0.0, (118, 14): 0.0, (118, 15): 0.0, (118, 16): 0.0, (182, 0): 0.0, (182, 1): 0.0, (182, 2): 0.0, (182, 3): 0.0, (182, 4): 0.0, (182, 5): 0.0, (182, 6): 0.0, (182, 7): 0.0, (182, 8): 0.0, (182, 9): 0.0, (182, 10): 0.0, (182, 11): 0.0, (182, 12): 0.0, (182, 13): 0.0, (182, 14): 0.0, (182, 15): 0.0, (182, 16): 10.0, (178, 0): 0.0, (178, 1): 0.0, (178, 2): 0.0, (178, 3): 0.0, (178, 4): 0.0, (178, 5): 0.0, (178, 6): 0.0, (178, 7): 0.0, (178, 8): 0.0, (178, 9): 0.0, (178, 10): 0.0, (178, 11): 0.0, (178, 12): 0.0, (178, 13): 0.0, (178, 14): 0.0, (178, 15): 0.0, (178, 16): 0.0, (377, 0): 0.0, (377, 1): 0.0, (377, 2): 0.0, (377, 3): 0.0, (377, 4): 0.0, (377, 5): 0.0, (377, 6): 0.0, (377, 7): 0.0, (377, 8): 0.0, (377, 9): 0.0, (377, 10): 0.0, (377, 11): 0.0, (377, 12): 0.0, (377, 13): 0.0, (377, 14): 0.0, (377, 15): 0.0, (377, 16): 0.0, (129, 0): 0.0, (129, 1): 0.0, (129, 2): 0.0, (129, 3): 0.0, (129, 4): 0.0, (129, 5): 0.0, (129, 6): 0.0, (129, 7): 0.0, (129, 8): 0.0, (129, 9): 0.0, (129, 10): 0.0, (129, 11): 0.0, (129, 12): 0.0, (129, 13): 0.0, (129, 14): 0.0, (129, 15): 0.0, (129, 16): 0.0, (61, 0): 0.0, (61, 1): 0.0, (61, 2): 0.0, (61, 3): 0.0, (61, 4): 0.0, (61, 5): 0.0, (61, 6): 0.0, (61, 7): 0.0, (61, 8): 0.0, (61, 9): 0.0, (61, 10): 0.0, (61, 11): 0.0, (61, 12): 0.0, (61, 13): 0.0, (61, 14): 0.0, (61, 15): 0.0, (61, 16): 0.0, (143, 0): 0.0, (143, 1): 0.0, (143, 2): 0.0, (143, 3): 0.0, (143, 4): 0.0, (143, 5): 0.0, (143, 6): 0.0, (143, 7): 0.0, (143, 8): 0.0, (143, 9): 0.0, (143, 10): 0.0, (143, 11): 0.0, (143, 12): 0.0, (143, 13): 0.0, (143, 14): 0.0, (143, 15): 0.0, (143, 16): 0.0, (364, 0): 0.0, (364, 1): 0.0, (364, 2): 0.0, (364, 3): 0.0, (364, 4): 0.0, (364, 5): 0.0, (364, 6): 0.0, (364, 7): 0.0, (364, 8): 0.0, (364, 9): 0.0, (364, 10): 0.0, (364, 11): 0.0, (364, 12): 0.0, (364, 13): 0.0, (364, 14): 0.0, (364, 15): 0.0, (364, 16): 0.0, (363, 0): 0.0, (363, 1): 0.0, (363, 2): 0.0, (363, 3): 0.0, (363, 4): 0.0, (363, 5): 0.0, (363, 6): 0.0, (363, 7): 0.0, (363, 8): 0.0, (363, 9): 0.0, (363, 10): 0.0, (363, 11): 0.0, (363, 12): 0.0, (363, 13): 0.0, (363, 14): 0.0, (363, 15): 0.0, (363, 16): 0.0, (185, 0): 0.0, (185, 1): 0.0, (185, 2): 0.0, (185, 3): 0.0, (185, 4): 0.0, (185, 5): 0.0, (185, 6): 0.0, (185, 7): 0.0, (185, 8): 0.0, (185, 9): 0.0, (185, 10): 0.0, (185, 11): 0.0, (185, 12): 0.0, (185, 13): 0.0, (185, 14): 0.0, (185, 15): 0.0, (185, 16): 0.0, (221, 0): 0.0, (221, 1): 0.0, (221, 2): 0.0, (221, 3): 0.0, (221, 4): 0.0, (221, 5): 0.0, (221, 6): 0.0, (221, 7): 0.0, (221, 8): 0.0, (221, 9): 0.0, (221, 10): 0.0, (221, 11): 0.0, (221, 12): 0.0, (221, 13): 0.0, (221, 14): 0.0, (221, 15): 0.0, (221, 16): 0.0, (478, 0): 0.0, (478, 1): 0.0, (478, 2): 0.0, (478, 3): 0.0, (478, 4): 0.0, (478, 5): 0.0, (478, 6): 0.0, (478, 7): 0.0, (478, 8): 0.0, (478, 9): 0.0, (478, 10): 0.0, (478, 11): 0.0, (478, 12): 0.0, (478, 13): 0.0, (478, 14): 0.0, (478, 15): 0.0, (478, 16): 0.0, (0, 0): 0.0, (0, 1): 0.0, (0, 2): 0.0, (0, 3): 0.0, (0, 4): 0.0, (0, 5): 0.0, (0, 6): 0.0, (0, 7): 0.0, (0, 8): 0.0, (0, 9): 0.0, (0, 10): 0.0, (0, 11): 0.0, (0, 12): 0.0, (0, 13): 0.0, (0, 14): 0.0, (0, 15): 0.0, (0, 16): 0.0, (1, 0): 0.0, (1, 1): 0.0, (1, 2): 0.0, (1, 3): 0.0, (1, 4): 0.0, (1, 5): 0.0, (1, 6): 0.0, (1, 7): 0.0, (1, 8): 0.0, (1, 9): 0.0, (1, 10): 0.0, (1, 11): 0.0, (1, 12): 0.0, (1, 13): 0.0, (1, 14): 0.0, (1, 15): 0.0, (1, 16): 0.0, (50, 0): 0.0, (50, 1): 0.0, (50, 2): 0.0, (50, 3): 0.0, (50, 4): 0.0, (50, 5): 0.0, (50, 6): 0.0, (50, 7): 0.0, (50, 8): 0.0, (50, 9): 0.0, (50, 10): 0.0, (50, 11): 0.0, (50, 12): 0.0, (50, 13): 0.0, (50, 14): 0.0, (50, 15): 0.0, (50, 16): 0.0, (246, 0): 0.0, (246, 1): 0.0, (246, 2): 0.0, (246, 3): 0.0, (246, 4): 0.0, (246, 5): 0.0, (246, 6): 0.0, (246, 7): 0.0, (246, 8): 0.0, (246, 9): 0.0, (246, 10): 0.0, (246, 11): 0.0, (246, 12): 0.0, (246, 13): 0.0, (246, 14): 0.0, (246, 15): 0.0, (246, 16): 0.0, (87, 0): 0.0, (87, 1): 0.0, (87, 2): 0.0, (87, 3): 0.0, (87, 4): 0.0, (87, 5): 0.0, (87, 6): 0.0, (87, 7): 0.0, (87, 8): 0.0, (87, 9): 0.0, (87, 10): 0.0, (87, 11): 0.0, (87, 12): 0.0, (87, 13): 0.0, (87, 14): 0.0, (87, 15): 0.0, (87, 16): 0.0, (383, 0): 0.0, (383, 1): 0.0, (383, 2): 0.0, (383, 3): 0.0, (383, 4): 0.0, (383, 5): 0.0, (383, 6): 0.0, (383, 7): 0.0, (383, 8): 0.0, (383, 9): 0.0, (383, 10): 0.0, (383, 11): 0.0, (383, 12): 0.0, (383, 13): 0.0, (383, 14): 0.0, (383, 15): 0.0, (383, 16): 0.0, (407, 0): 0.0, (407, 1): 0.0, (407, 2): 0.0, (407, 3): 0.0, (407, 4): 0.0, (407, 5): 0.0, (407, 6): 0.0, (407, 7): 0.0, (407, 8): 0.0, (407, 9): 0.0, (407, 10): 0.0, (407, 11): 0.0, (407, 12): 0.0, (407, 13): 0.0, (407, 14): 0.0, (407, 15): 0.0, (407, 16): 0.0, (271, 0): 0.0, (271, 1): 0.0, (271, 2): 0.0, (271, 3): 0.0, (271, 4): 0.0, (271, 5): 0.0, (271, 6): 0.0, (271, 7): 0.0, (271, 8): 0.0, (271, 9): 0.0, (271, 10): 0.0, (271, 11): 0.0, (271, 12): 0.0, (271, 13): 0.0, (271, 14): 0.0, (271, 15): 0.0, (271, 16): 0.0, (423, 0): 0.0, (423, 1): 0.0, (423, 2): 0.0, (423, 3): 0.0, (423, 4): 0.0, (423, 5): 0.0, (423, 6): 0.0, (423, 7): 0.0, (423, 8): 0.0, (423, 9): 0.0, (423, 10): 0.0, (423, 11): 0.0, (423, 12): 0.0, (423, 13): 0.0, (423, 14): 0.0, (423, 15): 0.0, (423, 16): 0.0, (52, 0): 0.0, (52, 1): 0.0, (52, 2): 0.0, (52, 3): 0.0, (52, 4): 0.0, (52, 5): 0.0, (52, 6): 0.0, (52, 7): 0.0, (52, 8): 0.0, (52, 9): 0.0, (52, 10): 0.0, (52, 11): 0.0, (52, 12): 0.0, (52, 13): 0.0, (52, 14): 0.0, (52, 15): 0.0, (52, 16): 2.0, (244, 0): 0.0, (244, 1): 0.0, (244, 2): 0.0, (244, 3): 0.0, (244, 4): 0.0, (244, 5): 0.0, (244, 6): 0.0, (244, 7): 0.0, (244, 8): 0.0, (244, 9): 0.0, (244, 10): 0.0, (244, 11): 0.0, (244, 12): 0.0, (244, 13): 0.0, (244, 14): 0.0, (244, 15): 0.0, (244, 16): 0.0, (488, 0): 0.0, (488, 1): 0.0, (488, 2): 0.0, (488, 3): 0.0, (488, 4): 0.0, (488, 5): 0.0, (488, 6): 0.0, (488, 7): 0.0, (488, 8): 0.0, (488, 9): 0.0, (488, 10): 0.0, (488, 11): 0.0, (488, 12): 0.0, (488, 13): 0.0, (488, 14): 0.0, (488, 15): 0.0, (488, 16): 0.0, (195, 0): 0.0, (195, 1): 0.0, (195, 2): 0.0, (195, 3): 0.0, (195, 4): 0.0, (195, 5): 0.0, (195, 6): 0.0, (195, 7): 0.0, (195, 8): 0.0, (195, 9): 0.0, (195, 10): 0.0, (195, 11): 0.0, (195, 12): 0.0, (195, 13): 0.0, (195, 14): 0.0, (195, 15): 0.0, (195, 16): 0.0, (330, 0): 0.0, (330, 1): 0.0, (330, 2): 0.0, (330, 3): 0.0, (330, 4): 0.0, (330, 5): 0.0, (330, 6): 0.0, (330, 7): 0.0, (330, 8): 0.0, (330, 9): 0.0, (330, 10): 0.0, (330, 11): 0.0, (330, 12): 0.0, (330, 13): 0.0, (330, 14): 0.0, (330, 15): 0.0, (330, 16): 0.0, (110, 0): 0.0, (110, 1): 0.0, (110, 2): 0.0, (110, 3): 0.0, (110, 4): 0.0, (110, 5): 0.0, (110, 6): 0.0, (110, 7): 0.0, (110, 8): 0.0, (110, 9): 0.0, (110, 10): 0.0, (110, 11): 0.0, (110, 12): 0.0, (110, 13): 0.0, (110, 14): 0.0, (110, 15): 0.0, (110, 16): 0.0, (468, 0): 0.0, (468, 1): 0.0, (468, 2): 0.0, (468, 3): 0.0, (468, 4): 0.0, (468, 5): 0.0, (468, 6): 0.0, (468, 7): 0.0, (468, 8): 0.0, (468, 9): 0.0, (468, 10): 0.0, (468, 11): 0.0, (468, 12): 0.0, (468, 13): 0.0, (468, 14): 0.0, (468, 15): 0.0, (468, 16): 0.0, (353, 0): 0.0, (353, 1): 0.0, (353, 2): 0.0, (353, 3): 0.0, (353, 4): 0.0, (353, 5): 0.0, (353, 6): 0.0, (353, 7): 0.0, (353, 8): 0.0, (353, 9): 0.0, (353, 10): 0.0, (353, 11): 0.0, (353, 12): 0.0, (353, 13): 0.0, (353, 14): 0.0, (353, 15): 0.0, (353, 16): 0.0, (372, 0): 0.0, (372, 1): 0.0, (372, 2): 0.0, (372, 3): 0.0, (372, 4): 0.0, (372, 5): 0.0, (372, 6): 0.0, (372, 7): 0.0, (372, 8): 0.0, (372, 9): 0.0, (372, 10): 0.0, (372, 11): 0.0, (372, 12): 0.0, (372, 13): 0.0, (372, 14): 0.0, (372, 15): 0.0, (372, 16): 0.0, (471, 0): 0.0, (471, 1): 0.0, (471, 2): 0.0, (471, 3): 0.0, (471, 4): 0.0, (471, 5): 0.0, (471, 6): 0.0, (471, 7): 0.0, (471, 8): 0.0, (471, 9): 0.0, (471, 10): 0.0, (471, 11): 0.0, (471, 12): 0.0, (471, 13): 0.0, (471, 14): 0.0, (471, 15): 0.0, (471, 16): 0.0, (224, 0): 0.0, (224, 1): 0.0, (224, 2): 0.0, (224, 3): 0.0, (224, 4): 0.0, (224, 5): 0.0, (224, 6): 0.0, (224, 7): 0.0, (224, 8): 0.0, (224, 9): 0.0, (224, 10): 0.0, (224, 11): 0.0, (224, 12): 0.0, (224, 13): 0.0, (224, 14): 0.0, (224, 15): 0.0, (224, 16): 0.0, (219, 0): 0.0, (219, 1): 0.0, (219, 2): 0.0, (219, 3): 0.0, (219, 4): 0.0, (219, 5): 0.0, (219, 6): 0.0, (219, 7): 0.0, (219, 8): 0.0, (219, 9): 0.0, (219, 10): 0.0, (219, 11): 0.0, (219, 12): 0.0, (219, 13): 0.0, (219, 14): 0.0, (219, 15): 0.0, (219, 16): 0.0, (429, 0): 0.0, (429, 1): 0.0, (429, 2): 0.0, (429, 3): 0.0, (429, 4): 0.0, (429, 5): 0.0, (429, 6): 0.0, (429, 7): 0.0, (429, 8): 0.0, (429, 9): 0.0, (429, 10): 0.0, (429, 11): 0.0, (429, 12): 0.0, (429, 13): 0.0, (429, 14): 0.0, (429, 15): 0.0, (429, 16): 0.0, (291, 0): 0.0, (291, 1): 0.0, (291, 2): 0.0, (291, 3): 0.0, (291, 4): 0.0, (291, 5): 0.0, (291, 6): 0.0, (291, 7): 0.0, (291, 8): 0.0, (291, 9): 0.0, (291, 10): 0.0, (291, 11): 0.0, (291, 12): 0.0, (291, 13): 0.0, (291, 14): 0.0, (291, 15): 0.0, (291, 16): 0.0, (357, 0): 0.0, (357, 1): 0.0, (357, 2): 0.0, (357, 3): 0.0, (357, 4): 0.0, (357, 5): 0.0, (357, 6): 0.0, (357, 7): 0.0, (357, 8): 0.0, (357, 9): 0.0, (357, 10): 0.0, (357, 11): 0.0, (357, 12): 0.0, (357, 13): 0.0, (357, 14): 0.0, (357, 15): 0.0, (357, 16): 0.0, (36, 0): 0.0, (36, 1): 0.0, (36, 2): 0.0, (36, 3): 0.0, (36, 4): 0.0, (36, 5): 0.0, (36, 6): 0.0, (36, 7): 0.0, (36, 8): 0.0, (36, 9): 0.0, (36, 10): 0.0, (36, 11): 0.0, (36, 12): 0.0, (36, 13): 0.0, (36, 14): 0.0, (36, 15): 0.0, (36, 16): 0.0, (486, 0): 0.0, (486, 1): 0.0, (486, 2): 0.0, (486, 3): 0.0, (486, 4): 0.0, (486, 5): 0.0, (486, 6): 0.0, (486, 7): 0.0, (486, 8): 0.0, (486, 9): 0.0, (486, 10): 0.0, (486, 11): 0.0, (486, 12): 0.0, (486, 13): 0.0, (486, 14): 0.0, (486, 15): 0.0, (486, 16): 0.0, (300, 0): 0.0, (300, 1): 0.0, (300, 2): 0.0, (300, 3): 0.0, (300, 4): 0.0, (300, 5): 0.0, (300, 6): 0.0, (300, 7): 0.0, (300, 8): 0.0, (300, 9): 0.0, (300, 10): 0.0, (300, 11): 0.0, (300, 12): 0.0, (300, 13): 0.0, (300, 14): 0.0, (300, 15): 0.0, (300, 16): 0.0, (128, 0): 0.0, (128, 1): 0.0, (128, 2): 0.0, (128, 3): 0.0, (128, 4): 0.0, (128, 5): 0.0, (128, 6): 0.0, (128, 7): 0.0, (128, 8): 0.0, (128, 9): 0.0, (128, 10): 0.0, (128, 11): 0.0, (128, 12): 0.0, (128, 13): 0.0, (128, 14): 0.0, (128, 15): 0.0, (128, 16): 0.0, (60, 0): 0.0, (60, 1): 0.0, (60, 2): 0.0, (60, 3): 0.0, (60, 4): 0.0, (60, 5): 0.0, (60, 6): 0.0, (60, 7): 0.0, (60, 8): 0.0, (60, 9): 0.0, (60, 10): 0.0, (60, 11): 0.0, (60, 12): 0.0, (60, 13): 0.0, (60, 14): 0.0, (60, 15): 0.0, (60, 16): 0.0, (412, 0): 0.0, (412, 1): 0.0, (412, 2): 0.0, (412, 3): 0.0, (412, 4): 0.0, (412, 5): 0.0, (412, 6): 0.0, (412, 7): 0.0, (412, 8): 0.0, (412, 9): 0.0, (412, 10): 0.0, (412, 11): 0.0, (412, 12): 0.0, (412, 13): 0.0, (412, 14): 0.0, (412, 15): 0.0, (412, 16): 0.0, (82, 0): 0.0, (82, 1): 0.0, (82, 2): 0.0, (82, 3): 0.0, (82, 4): 0.0, (82, 5): 0.0, (82, 6): 0.0, (82, 7): 0.0, (82, 8): 0.0, (82, 9): 0.0, (82, 10): 0.0, (82, 11): 0.0, (82, 12): 0.0, (82, 13): 0.0, (82, 14): 0.0, (82, 15): 0.0, (82, 16): 0.0, (490, 0): 0.0, (490, 1): 0.0, (490, 2): 0.0, (490, 3): 0.0, (490, 4): 0.0, (490, 5): 0.0, (490, 6): 0.0, (490, 7): 0.0, (490, 8): 0.0, (490, 9): 0.0, (490, 10): 0.0, (490, 11): 0.0, (490, 12): 0.0, (490, 13): 0.0, (490, 14): 0.0, (490, 15): 0.0, (490, 16): 0.0, (75, 0): 0.0, (75, 1): 0.0, (75, 2): 0.0, (75, 3): 0.0, (75, 4): 0.0, (75, 5): 0.0, (75, 6): 0.0, (75, 7): 0.0, (75, 8): 0.0, (75, 9): 0.0, (75, 10): 0.0, (75, 11): 0.0, (75, 12): 0.0, (75, 13): 0.0, (75, 14): 0.0, (75, 15): 0.0, (75, 16): 0.0, (398, 0): 0.0, (398, 1): 0.0, (398, 2): 0.0, (398, 3): 0.0, (398, 4): 0.0, (398, 5): 0.0, (398, 6): 0.0, (398, 7): 0.0, (398, 8): 0.0, (398, 9): 0.0, (398, 10): 0.0, (398, 11): 0.0, (398, 12): 0.0, (398, 13): 0.0, (398, 14): 0.0, (398, 15): 0.0, (398, 16): 0.0, (255, 0): 0.0, (255, 1): 0.0, (255, 2): 0.0, (255, 3): 0.0, (255, 4): 0.0, (255, 5): 0.0, (255, 6): 0.0, (255, 7): 0.0, (255, 8): 0.0, (255, 9): 0.0, (255, 10): 0.0, (255, 11): 0.0, (255, 12): 0.0, (255, 13): 0.0, (255, 14): 0.0, (255, 15): 0.0, (255, 16): 0.0, (151, 0): 0.0, (151, 1): 0.0, (151, 2): 0.0, (151, 3): 0.0, (151, 4): 0.0, (151, 5): 0.0, (151, 6): 0.0, (151, 7): 0.0, (151, 8): 0.0, (151, 9): 0.0, (151, 10): 0.0, (151, 11): 0.0, (151, 12): 0.0, (151, 13): 0.0, (151, 14): 0.0, (151, 15): 0.0, (151, 16): 0.0, (320, 0): 0.0, (320, 1): 0.0, (320, 2): 0.0, (320, 3): 0.0, (320, 4): 0.0, (320, 5): 0.0, (320, 6): 0.0, (320, 7): 0.0, (320, 8): 0.0, (320, 9): 0.0, (320, 10): 0.0, (320, 11): 0.0, (320, 12): 0.0, (320, 13): 0.0, (320, 14): 0.0, (320, 15): 0.0, (320, 16): 0.0, (266, 0): 0.0, (266, 1): 0.0, (266, 2): 0.0, (266, 3): 0.0, (266, 4): 0.0, (266, 5): 0.0, (266, 6): 0.0, (266, 7): 0.0, (266, 8): 0.0, (266, 9): 0.0, (266, 10): 0.0, (266, 11): 0.0, (266, 12): 0.0, (266, 13): 0.0, (266, 14): 0.0, (266, 15): 0.0, (266, 16): 0.0, (324, 0): 0.0, (324, 1): 0.0, (324, 2): 0.0, (324, 3): 0.0, (324, 4): 0.0, (324, 5): 0.0, (324, 6): 0.0, (324, 7): 0.0, (324, 8): 0.0, (324, 9): 0.0, (324, 10): 0.0, (324, 11): 0.0, (324, 12): 0.0, (324, 13): 0.0, (324, 14): 0.0, (324, 15): 0.0, (324, 16): 0.0, (376, 0): 0.0, (376, 1): 0.0, (376, 2): 0.0, (376, 3): 0.0, (376, 4): 0.0, (376, 5): 0.0, (376, 6): 0.0, (376, 7): 0.0, (376, 8): 0.0, (376, 9): 0.0, (376, 10): 0.0, (376, 11): 0.0, (376, 12): 0.0, (376, 13): 0.0, (376, 14): 0.0, (376, 15): 0.0, (376, 16): 0.0, (97, 0): 0.0, (97, 1): 0.0, (97, 2): 0.0, (97, 3): 0.0, (97, 4): 0.0, (97, 5): 0.0, (97, 6): 0.0, (97, 7): 0.0, (97, 8): 0.0, (97, 9): 0.0, (97, 10): 0.0, (97, 11): 0.0, (97, 12): 0.0, (97, 13): 0.0, (97, 14): 0.0, (97, 15): 0.0, (97, 16): 0.0, (299, 0): 0.0, (299, 1): 0.0, (299, 2): 0.0, (299, 3): 0.0, (299, 4): 0.0, (299, 5): 0.0, (299, 6): 0.0, (299, 7): 0.0, (299, 8): 0.0, (299, 9): 0.0, (299, 10): 0.0, (299, 11): 0.0, (299, 12): 0.0, (299, 13): 0.0, (299, 14): 0.0, (299, 15): 0.0, (299, 16): 0.0, (305, 0): 0.0, (305, 1): 0.0, (305, 2): 0.0, (305, 3): 0.0, (305, 4): 0.0, (305, 5): 0.0, (305, 6): 0.0, (305, 7): 0.0, (305, 8): 0.0, (305, 9): 0.0, (305, 10): 0.0, (305, 11): 0.0, (305, 12): 0.0, (305, 13): 0.0, (305, 14): 0.0, (305, 15): 0.0, (305, 16): 0.0, (272, 0): 0.0, (272, 1): 0.0, (272, 2): 0.0, (272, 3): 0.0, (272, 4): 0.0, (272, 5): 0.0, (272, 6): 0.0, (272, 7): 0.0, (272, 8): 0.0, (272, 9): 0.0, (272, 10): 0.0, (272, 11): 0.0, (272, 12): 0.0, (272, 13): 0.0, (272, 14): 0.0, (272, 15): 0.0, (272, 16): 0.0, (382, 0): 0.0, (382, 1): 0.0, (382, 2): 0.0, (382, 3): 0.0, (382, 4): 0.0, (382, 5): 0.0, (382, 6): 0.0, (382, 7): 0.0, (382, 8): 0.0, (382, 9): 0.0, (382, 10): 0.0, (382, 11): 0.0, (382, 12): 0.0, (382, 13): 0.0, (382, 14): 0.0, (382, 15): 0.0, (382, 16): 0.0, (109, 0): 0.0, (109, 1): 0.0, (109, 2): 0.0, (109, 3): 0.0, (109, 4): 0.0, (109, 5): 0.0, (109, 6): 0.0, (109, 7): 0.0, (109, 8): 0.0, (109, 9): 0.0, (109, 10): 0.0, (109, 11): 0.0, (109, 12): 0.0, (109, 13): 0.0, (109, 14): 0.0, (109, 15): 0.0, (109, 16): 0.0, (177, 0): 0.0, (177, 1): 0.0, (177, 2): 0.0, (177, 3): 0.0, (177, 4): 0.0, (177, 5): 0.0, (177, 6): 0.0, (177, 7): 0.0, (177, 8): 0.0, (177, 9): 0.0, (177, 10): 0.0, (177, 11): 0.0, (177, 12): 0.0, (177, 13): 0.0, (177, 14): 0.0, (177, 15): 0.0, (177, 16): 0.0, (369, 0): 0.0, (369, 1): 0.0, (369, 2): 0.0, (369, 3): 0.0, (369, 4): 0.0, (369, 5): 0.0, (369, 6): 0.0, (369, 7): 0.0, (369, 8): 0.0, (369, 9): 0.0, (369, 10): 0.0, (369, 11): 0.0, (369, 12): 0.0, (369, 13): 0.0, (369, 14): 0.0, (369, 15): 0.0, (369, 16): 0.0, (263, 0): 0.0, (263, 1): 0.0, (263, 2): 0.0, (263, 3): 0.0, (263, 4): 0.0, (263, 5): 0.0, (263, 6): 0.0, (263, 7): 0.0, (263, 8): 0.0, (263, 9): 0.0, (263, 10): 0.0, (263, 11): 0.0, (263, 12): 0.0, (263, 13): 0.0, (263, 14): 0.0, (263, 15): 0.0, (263, 16): 0.0, (19, 0): 0.0, (19, 1): 0.0, (19, 2): 0.0, (19, 3): 0.0, (19, 4): 0.0, (19, 5): 0.0, (19, 6): 0.0, (19, 7): 0.0, (19, 8): 0.0, (19, 9): 0.0, (19, 10): 0.0, (19, 11): 0.0, (19, 12): 0.0, (19, 13): 0.0, (19, 14): 0.0, (19, 15): 0.0, (19, 16): 0.0, (336, 0): 0.0, (336, 1): 0.0, (336, 2): 0.0, (336, 3): 0.0, (336, 4): 0.0, (336, 5): 0.0, (336, 6): 0.0, (336, 7): 0.0, (336, 8): 0.0, (336, 9): 0.0, (336, 10): 0.0, (336, 11): 0.0, (336, 12): 0.0, (336, 13): 0.0, (336, 14): 0.0, (336, 15): 0.0, (336, 16): 0.0, (156, 0): 0.0, (156, 1): 0.0, (156, 2): 0.0, (156, 3): 0.0, (156, 4): 0.0, (156, 5): 0.0, (156, 6): 0.0, (156, 7): 0.0, (156, 8): 0.0, (156, 9): 0.0, (156, 10): 0.0, (156, 11): 0.0, (156, 12): 0.0, (156, 13): 0.0, (156, 14): 0.0, (156, 15): 0.0, (156, 16): 0.0, (451, 0): 0.0, (451, 1): 0.0, (451, 2): 0.0, (451, 3): 0.0, (451, 4): 0.0, (451, 5): 0.0, (451, 6): 0.0, (451, 7): 0.0, (451, 8): 0.0, (451, 9): 0.0, (451, 10): 0.0, (451, 11): 0.0, (451, 12): 0.0, (451, 13): 0.0, (451, 14): 0.0, (451, 15): 0.0, (451, 16): 0.0, (387, 0): 0.0, (387, 1): 0.0, (387, 2): 0.0, (387, 3): 0.0, (387, 4): 0.0, (387, 5): 0.0, (387, 6): 0.0, (387, 7): 0.0, (387, 8): 0.0, (387, 9): 0.0, (387, 10): 0.0, (387, 11): 0.0, (387, 12): 0.0, (387, 13): 0.0, (387, 14): 0.0, (387, 15): 0.0, (387, 16): 0.0, (453, 0): 0.0, (453, 1): 0.0, (453, 2): 0.0, (453, 3): 0.0, (453, 4): 0.0, (453, 5): 0.0, (453, 6): 0.0, (453, 7): 0.0, (453, 8): 0.0, (453, 9): 0.0, (453, 10): 0.0, (453, 11): 0.0, (453, 12): 0.0, (453, 13): 0.0, (453, 14): 0.0, (453, 15): 0.0, (453, 16): 0.0, (11, 0): 0.0, (11, 1): 0.0, (11, 2): 0.0, (11, 3): 1.0, (11, 4): 0.0, (11, 5): 0.0, (11, 6): 0.0, (11, 7): 0.0, (11, 8): 0.0, (11, 9): 0.0, (11, 10): 0.0, (11, 11): 0.0, (11, 12): 0.0, (11, 13): 0.0, (11, 14): 0.0, (11, 15): 0.0, (11, 16): 0.0, (90, 0): 0.0, (90, 1): 0.0, (90, 2): 0.0, (90, 3): 0.0, (90, 4): 0.0, (90, 5): 0.0, (90, 6): 0.0, (90, 7): 0.0, (90, 8): 0.0, (90, 9): 0.0, (90, 10): 0.0, (90, 11): 0.0, (90, 12): 0.0, (90, 13): 0.0, (90, 14): 0.0, (90, 15): 0.0, (90, 16): 0.0, (216, 0): 0.0, (216, 1): 0.0, (216, 2): 0.0, (216, 3): 0.0, (216, 4): 0.0, (216, 5): 0.0, (216, 6): 0.0, (216, 7): 0.0, (216, 8): 0.0, (216, 9): 0.0, (216, 10): 0.0, (216, 11): 0.0, (216, 12): 0.0, (216, 13): 0.0, (216, 14): 0.0, (216, 15): 0.0, (216, 16): 0.0, (99, 0): 0.0, (99, 1): 0.0, (99, 2): 0.0, (99, 3): 0.0, (99, 4): 0.0, (99, 5): 0.0, (99, 6): 0.0, (99, 7): 0.0, (99, 8): 0.0, (99, 9): 0.0, (99, 10): 0.0, (99, 11): 0.0, (99, 12): 0.0, (99, 13): 0.0, (99, 14): 0.0, (99, 15): 0.0, (99, 16): 0.0, (325, 0): 0.0, (325, 1): 0.0, (325, 2): 0.0, (325, 3): 0.0, (325, 4): 0.0, (325, 5): 0.0, (325, 6): 0.0, (325, 7): 0.0, (325, 8): 0.0, (325, 9): 0.0, (325, 10): 0.0, (325, 11): 0.0, (325, 12): 0.0, (325, 13): 0.0, (325, 14): 0.0, (325, 15): 0.0, (325, 16): 0.0, (414, 0): 0.0, (414, 1): 0.0, (414, 2): 0.0, (414, 3): 0.0, (414, 4): 0.0, (414, 5): 0.0, (414, 6): 0.0, (414, 7): 0.0, (414, 8): 0.0, (414, 9): 0.0, (414, 10): 0.0, (414, 11): 0.0, (414, 12): 0.0, (414, 13): 0.0, (414, 14): 0.0, (414, 15): 0.0, (414, 16): 0.0, (342, 0): 0.0, (342, 1): 0.0, (342, 2): 0.0, (342, 3): 0.0, (342, 4): 0.0, (342, 5): 0.0, (342, 6): 0.0, (342, 7): 0.0, (342, 8): 0.0, (342, 9): 0.0, (342, 10): 0.0, (342, 11): 0.0, (342, 12): 0.0, (342, 13): 0.0, (342, 14): 0.0, (342, 15): 0.0, (342, 16): 0.0, (239, 0): 0.0, (239, 1): 0.0, (239, 2): 0.0, (239, 3): 0.0, (239, 4): 0.0, (239, 5): 0.0, (239, 6): 0.0, (239, 7): 0.0, (239, 8): 0.0, (239, 9): 0.0, (239, 10): 0.0, (239, 11): 0.0, (239, 12): 0.0, (239, 13): 0.0, (239, 14): 0.0, (239, 15): 0.0, (239, 16): 0.0, (360, 0): 0.0, (360, 1): 0.0, (360, 2): 0.0, (360, 3): 0.0, (360, 4): 0.0, (360, 5): 0.0, (360, 6): 0.0, (360, 7): 0.0, (360, 8): 0.0, (360, 9): 0.0, (360, 10): 0.0, (360, 11): 0.0, (360, 12): 0.0, (360, 13): 0.0, (360, 14): 0.0, (360, 15): 0.0, (360, 16): 0.0, (413, 0): 0.0, (413, 1): 0.0, (413, 2): 0.0, (413, 3): 0.0, (413, 4): 0.0, (413, 5): 0.0, (413, 6): 0.0, (413, 7): 0.0, (413, 8): 0.0, (413, 9): 0.0, (413, 10): 0.0, (413, 11): 0.0, (413, 12): 0.0, (413, 13): 0.0, (413, 14): 0.0, (413, 15): 0.0, (413, 16): 0.0, (420, 0): 0.0, (420, 1): 0.0, (420, 2): 0.0, (420, 3): 0.0, (420, 4): 0.0, (420, 5): 0.0, (420, 6): 0.0, (420, 7): 0.0, (420, 8): 0.0, (420, 9): 0.0, (420, 10): 0.0, (420, 11): 0.0, (420, 12): 0.0, (420, 13): 0.0, (420, 14): 0.0, (420, 15): 0.0, (420, 16): 0.0, (403, 0): 0.0, (403, 1): 0.0, (403, 2): 0.0, (403, 3): 0.0, (403, 4): 0.0, (403, 5): 0.0, (403, 6): 0.0, (403, 7): 0.0, (403, 8): 0.0, (403, 9): 0.0, (403, 10): 0.0, (403, 11): 0.0, (403, 12): 0.0, (403, 13): 0.0, (403, 14): 0.0, (403, 15): 0.0, (403, 16): 0.0, (226, 0): 0.0, (226, 1): 0.0, (226, 2): 0.0, (226, 3): 0.0, (226, 4): 0.0, (226, 5): 0.0, (226, 6): 0.0, (226, 7): 0.0, (226, 8): 0.0, (226, 9): 0.0, (226, 10): 0.0, (226, 11): 0.0, (226, 12): 0.0, (226, 13): 0.0, (226, 14): 0.0, (226, 15): 0.0, (226, 16): 0.0, (248, 0): 0.0, (248, 1): 0.0, (248, 2): 0.0, (248, 3): 0.0, (248, 4): 0.0, (248, 5): 0.0, (248, 6): 0.0, (248, 7): 0.0, (248, 8): 0.0, (248, 9): 0.0, (248, 10): 0.0, (248, 11): 0.0, (248, 12): 0.0, (248, 13): 0.0, (248, 14): 0.0, (248, 15): 0.0, (248, 16): 0.0, (145, 0): 0.0, (145, 1): 0.0, (145, 2): 0.0, (145, 3): 0.0, (145, 4): 0.0, (145, 5): 0.0, (145, 6): 0.0, (145, 7): 0.0, (145, 8): 0.0, (145, 9): 0.0, (145, 10): 0.0, (145, 11): 0.0, (145, 12): 0.0, (145, 13): 0.0, (145, 14): 0.0, (145, 15): 0.0, (145, 16): 0.0, (69, 0): 0.0, (69, 1): 0.0, (69, 2): 0.0, (69, 3): 0.0, (69, 4): 0.0, (69, 5): 0.0, (69, 6): 0.0, (69, 7): 0.0, (69, 8): 0.0, (69, 9): 0.0, (69, 10): 0.0, (69, 11): 0.0, (69, 12): 0.0, (69, 13): 0.0, (69, 14): 0.0, (69, 15): 0.0, (69, 16): 0.0, (229, 0): 0.0, (229, 1): 0.0, (229, 2): 0.0, (229, 3): 0.0, (229, 4): 0.0, (229, 5): 0.0, (229, 6): 0.0, (229, 7): 0.0, (229, 8): 0.0, (229, 9): 0.0, (229, 10): 0.0, (229, 11): 0.0, (229, 12): 0.0, (229, 13): 0.0, (229, 14): 0.0, (229, 15): 0.0, (229, 16): 0.0, (424, 0): 0.0, (424, 1): 0.0, (424, 2): 0.0, (424, 3): 0.0, (424, 4): 0.0, (424, 5): 0.0, (424, 6): 0.0, (424, 7): 0.0, (424, 8): 0.0, (424, 9): 0.0, (424, 10): 0.0, (424, 11): 0.0, (424, 12): 0.0, (424, 13): 0.0, (424, 14): 0.0, (424, 15): 0.0, (424, 16): 0.0, (54, 0): 0.0, (54, 1): 0.0, (54, 2): 0.0, (54, 3): 0.0, (54, 4): 0.0, (54, 5): 0.0, (54, 6): 0.0, (54, 7): 0.0, (54, 8): 0.0, (54, 9): 0.0, (54, 10): 0.0, (54, 11): 0.0, (54, 12): 0.0, (54, 13): 0.0, (54, 14): 0.0, (54, 15): 0.0, (54, 16): 0.0, (374, 0): 0.0, (374, 1): 0.0, (374, 2): 0.0, (374, 3): 0.0, (374, 4): 0.0, (374, 5): 0.0, (374, 6): 0.0, (374, 7): 0.0, (374, 8): 0.0, (374, 9): 0.0, (374, 10): 0.0, (374, 11): 0.0, (374, 12): 0.0, (374, 13): 0.0, (374, 14): 0.0, (374, 15): 0.0, (374, 16): 0.0, (116, 0): 0.0, (116, 1): 0.0, (116, 2): 0.0, (116, 3): 0.0, (116, 4): 0.0, (116, 5): 0.0, (116, 6): 0.0, (116, 7): 0.0, (116, 8): 0.0, (116, 9): 0.0, (116, 10): 0.0, (116, 11): 0.0, (116, 12): 0.0, (116, 13): 0.0, (116, 14): 0.0, (116, 15): 0.0, (116, 16): 0.0, (316, 0): 0.0, (316, 1): 0.0, (316, 2): 0.0, (316, 3): 0.0, (316, 4): 0.0, (316, 5): 0.0, (316, 6): 0.0, (316, 7): 0.0, (316, 8): 0.0, (316, 9): 0.0, (316, 10): 0.0, (316, 11): 0.0, (316, 12): 0.0, (316, 13): 0.0, (316, 14): 0.0, (316, 15): 0.0, (316, 16): 0.0, (279, 0): 0.0, (279, 1): 0.0, (279, 2): 0.0, (279, 3): 0.0, (279, 4): 0.0, (279, 5): 0.0, (279, 6): 0.0, (279, 7): 0.0, (279, 8): 0.0, (279, 9): 0.0, (279, 10): 0.0, (279, 11): 0.0, (279, 12): 0.0, (279, 13): 0.0, (279, 14): 0.0, (279, 15): 0.0, (279, 16): 0.0, (126, 0): 0.0, (126, 1): 0.0, (126, 2): 0.0, (126, 3): 0.0, (126, 4): 0.0, (126, 5): 0.0, (126, 6): 0.0, (126, 7): 0.0, (126, 8): 0.0, (126, 9): 0.0, (126, 10): 0.0, (126, 11): 0.0, (126, 12): 0.0, (126, 13): 0.0, (126, 14): 0.0, (126, 15): 0.0, (126, 16): 0.0, (348, 0): 0.0, (348, 1): 0.0, (348, 2): 0.0, (348, 3): 0.0, (348, 4): 0.0, (348, 5): 0.0, (348, 6): 0.0, (348, 7): 0.0, (348, 8): 0.0, (348, 9): 0.0, (348, 10): 0.0, (348, 11): 0.0, (348, 12): 0.0, (348, 13): 0.0, (348, 14): 0.0, (348, 15): 0.0, (348, 16): 0.0, (65, 0): 0.0, (65, 1): 0.0, (65, 2): 0.0, (65, 3): 0.0, (65, 4): 0.0, (65, 5): 0.0, (65, 6): 0.0, (65, 7): 0.0, (65, 8): 0.0, (65, 9): 0.0, (65, 10): 0.0, (65, 11): 0.0, (65, 12): 0.0, (65, 13): 0.0, (65, 14): 0.0, (65, 15): 0.0, (65, 16): 0.0, (208, 0): 0.0, (208, 1): 0.0, (208, 2): 0.0, (208, 3): 0.0, (208, 4): 0.0, (208, 5): 0.0, (208, 6): 0.0, (208, 7): 0.0, (208, 8): 0.0, (208, 9): 0.0, (208, 10): 0.0, (208, 11): 0.0, (208, 12): 0.0, (208, 13): 0.0, (208, 14): 0.0, (208, 15): 0.0, (208, 16): 0.0, (223, 0): 0.0, (223, 1): 0.0, (223, 2): 0.0, (223, 3): 0.0, (223, 4): 0.0, (223, 5): 0.0, (223, 6): 0.0, (223, 7): 0.0, (223, 8): 0.0, (223, 9): 0.0, (223, 10): 0.0, (223, 11): 0.0, (223, 12): 0.0, (223, 13): 0.0, (223, 14): 0.0, (223, 15): 0.0, (223, 16): 0.0, (317, 0): 0.0, (317, 1): 0.0, (317, 2): 0.0, (317, 3): 0.0, (317, 4): 0.0, (317, 5): 0.0, (317, 6): 0.0, (317, 7): 0.0, (317, 8): 0.0, (317, 9): 0.0, (317, 10): 0.0, (317, 11): 0.0, (317, 12): 0.0, (317, 13): 0.0, (317, 14): 0.0, (317, 15): 0.0, (317, 16): 0.0, (328, 0): 0.0, (328, 1): 0.0, (328, 2): 0.0, (328, 3): 0.0, (328, 4): 0.0, (328, 5): 0.0, (328, 6): 0.0, (328, 7): 0.0, (328, 8): 0.0, (328, 9): 0.0, (328, 10): 0.0, (328, 11): 0.0, (328, 12): 0.0, (328, 13): 0.0, (328, 14): 0.0, (328, 15): 0.0, (328, 16): 0.0, (77, 0): 0.0, (77, 1): 0.0, (77, 2): 0.0, (77, 3): 0.0, (77, 4): 0.0, (77, 5): 0.0, (77, 6): 0.0, (77, 7): 0.0, (77, 8): 0.0, (77, 9): 0.0, (77, 10): 0.0, (77, 11): 0.0, (77, 12): 0.0, (77, 13): 0.0, (77, 14): 0.0, (77, 15): 0.0, (77, 16): 0.0, (197, 0): 0.0, (197, 1): 0.0, (197, 2): 0.0, (197, 3): 0.0, (197, 4): 0.0, (197, 5): 0.0, (197, 6): 0.0, (197, 7): 0.0, (197, 8): 0.0, (197, 9): 0.0, (197, 10): 0.0, (197, 11): 0.0, (197, 12): 0.0, (197, 13): 0.0, (197, 14): 0.0, (197, 15): 0.0, (197, 16): 0.0, (80, 0): 0.0, (80, 1): 0.0, (80, 2): 0.0, (80, 3): 0.0, (80, 4): 0.0, (80, 5): 0.0, (80, 6): 0.0, (80, 7): 0.0, (80, 8): 0.0, (80, 9): 0.0, (80, 10): 0.0, (80, 11): 0.0, (80, 12): 0.0, (80, 13): 0.0, (80, 14): 0.0, (80, 15): 0.0, (80, 16): 0.0, (276, 0): 0.0, (276, 1): 0.0, (276, 2): 0.0, (276, 3): 0.0, (276, 4): 0.0, (276, 5): 0.0, (276, 6): 0.0, (276, 7): 0.0, (276, 8): 0.0, (276, 9): 0.0, (276, 10): 0.0, (276, 11): 0.0, (276, 12): 0.0, (276, 13): 0.0, (276, 14): 0.0, (276, 15): 0.0, (276, 16): 0.0, (111, 0): 0.0, (111, 1): 0.0, (111, 2): 0.0, (111, 3): 0.0, (111, 4): 0.0, (111, 5): 0.0, (111, 6): 0.0, (111, 7): 0.0, (111, 8): 0.0, (111, 9): 0.0, (111, 10): 0.0, (111, 11): 0.0, (111, 12): 0.0, (111, 13): 0.0, (111, 14): 0.0, (111, 15): 0.0, (111, 16): 0.0, (418, 0): 0.0, (418, 1): 0.0, (418, 2): 0.0, (418, 3): 0.0, (418, 4): 0.0, (418, 5): 0.0, (418, 6): 0.0, (418, 7): 0.0, (418, 8): 0.0, (418, 9): 0.0, (418, 10): 0.0, (418, 11): 0.0, (418, 12): 0.0, (418, 13): 0.0, (418, 14): 0.0, (418, 15): 0.0, (418, 16): 0.0, (94, 0): 0.0, (94, 1): 0.0, (94, 2): 0.0, (94, 3): 0.0, (94, 4): 0.0, (94, 5): 0.0, (94, 6): 0.0, (94, 7): 0.0, (94, 8): 0.0, (94, 9): 0.0, (94, 10): 0.0, (94, 11): 0.0, (94, 12): 0.0, (94, 13): 0.0, (94, 14): 0.0, (94, 15): 0.0, (94, 16): 0.0, (445, 0): 0.0, (445, 1): 0.0, (445, 2): 0.0, (445, 3): 0.0, (445, 4): 0.0, (445, 5): 0.0, (445, 6): 0.0, (445, 7): 0.0, (445, 8): 0.0, (445, 9): 0.0, (445, 10): 0.0, (445, 11): 0.0, (445, 12): 0.0, (445, 13): 0.0, (445, 14): 0.0, (445, 15): 0.0, (445, 16): 0.0, (164, 0): 0.0, (164, 1): 0.0, (164, 2): 0.0, (164, 3): 0.0, (164, 4): 0.0, (164, 5): 0.0, (164, 6): 0.0, (164, 7): 0.0, (164, 8): 0.0, (164, 9): 0.0, (164, 10): 0.0, (164, 11): 0.0, (164, 12): 0.0, (164, 13): 0.0, (164, 14): 0.0, (164, 15): 0.0, (164, 16): 0.0, (456, 0): 0.0, (456, 1): 0.0, (456, 2): 0.0, (456, 3): 0.0, (456, 4): 0.0, (456, 5): 0.0, (456, 6): 0.0, (456, 7): 0.0, (456, 8): 0.0, (456, 9): 0.0, (456, 10): 0.0, (456, 11): 0.0, (456, 12): 0.0, (456, 13): 0.0, (456, 14): 0.0, (456, 15): 0.0, (456, 16): 0.0, (416, 0): 0.0, (416, 1): 0.0, (416, 2): 0.0, (416, 3): 0.0, (416, 4): 0.0, (416, 5): 0.0, (416, 6): 0.0, (416, 7): 0.0, (416, 8): 0.0, (416, 9): 0.0, (416, 10): 0.0, (416, 11): 0.0, (416, 12): 0.0, (416, 13): 0.0, (416, 14): 0.0, (416, 15): 0.0, (416, 16): 0.0, (122, 0): 0.0, (122, 1): 0.0, (122, 2): 0.0, (122, 3): 0.0, (122, 4): 0.0, (122, 5): 0.0, (122, 6): 0.0, (122, 7): 0.0, (122, 8): 0.0, (122, 9): 0.0, (122, 10): 0.0, (122, 11): 0.0, (122, 12): 0.0, (122, 13): 0.0, (122, 14): 0.0, (122, 15): 0.0, (122, 16): 0.0, (73, 0): 0.0, (73, 1): 0.0, (73, 2): 0.0, (73, 3): 0.0, (73, 4): 0.0, (73, 5): 0.0, (73, 6): 0.0, (73, 7): 0.0, (73, 8): 0.0, (73, 9): 0.0, (73, 10): 0.0, (73, 11): 0.0, (73, 12): 0.0, (73, 13): 0.0, (73, 14): 0.0, (73, 15): 0.0, (73, 16): 0.0, (114, 0): 0.0, (114, 1): 0.0, (114, 2): 0.0, (114, 3): 0.0, (114, 4): 0.0, (114, 5): 0.0, (114, 6): 0.0, (114, 7): 0.0, (114, 8): 0.0, (114, 9): 0.0, (114, 10): 0.0, (114, 11): 0.0, (114, 12): 0.0, (114, 13): 0.0, (114, 14): 0.0, (114, 15): 0.0, (114, 16): 0.0, (361, 0): 0.0, (361, 1): 0.0, (361, 2): 0.0, (361, 3): 0.0, (361, 4): 0.0, (361, 5): 0.0, (361, 6): 0.0, (361, 7): 0.0, (361, 8): 0.0, (361, 9): 0.0, (361, 10): 0.0, (361, 11): 0.0, (361, 12): 0.0, (361, 13): 0.0, (361, 14): 0.0, (361, 15): 0.0, (361, 16): 0.0, (2, 0): 0.0, (2, 1): 0.0, (2, 2): 0.0, (2, 3): 0.0, (2, 4): 0.0, (2, 5): 0.0, (2, 6): 0.0, (2, 7): 0.0, (2, 8): 0.0, (2, 9): 0.0, (2, 10): 0.0, (2, 11): 0.0, (2, 12): 0.0, (2, 13): 0.0, (2, 14): 0.0, (2, 15): 0.0, (2, 16): 0.0, (217, 0): 0.0, (217, 1): 0.0, (217, 2): 0.0, (217, 3): 0.0, (217, 4): 0.0, (217, 5): 0.0, (217, 6): 0.0, (217, 7): 0.0, (217, 8): 0.0, (217, 9): 0.0, (217, 10): 0.0, (217, 11): 0.0, (217, 12): 0.0, (217, 13): 0.0, (217, 14): 0.0, (217, 15): 0.0, (217, 16): 0.0, (234, 0): 0.0, (234, 1): 0.0, (234, 2): 0.0, (234, 3): 0.0, (234, 4): 0.0, (234, 5): 0.0, (234, 6): 0.0, (234, 7): 0.0, (234, 8): 0.0, (234, 9): 0.0, (234, 10): 0.0, (234, 11): 0.0, (234, 12): 0.0, (234, 13): 0.0, (234, 14): 0.0, (234, 15): 0.0, (234, 16): 0.0, (265, 0): 0.0, (265, 1): 0.0, (265, 2): 0.0, (265, 3): 0.0, (265, 4): 0.0, (265, 5): 0.0, (265, 6): 0.0, (265, 7): 0.0, (265, 8): 0.0, (265, 9): 0.0, (265, 10): 0.0, (265, 11): 0.0, (265, 12): 0.0, (265, 13): 9.0, (265, 14): 0.0, (265, 15): 0.0, (265, 16): 0.0, (39, 0): 0.0, (39, 1): 0.0, (39, 2): 0.0, (39, 3): 0.0, (39, 4): 0.0, (39, 5): 0.0, (39, 6): 0.0, (39, 7): 0.0, (39, 8): 0.0, (39, 9): 0.0, (39, 10): 0.0, (39, 11): 0.0, (39, 12): 0.0, (39, 13): 0.0, (39, 14): 0.0, (39, 15): 0.0, (39, 16): 0.0, (138, 0): 0.0, (138, 1): 0.0, (138, 2): 0.0, (138, 3): 0.0, (138, 4): 0.0, (138, 5): 0.0, (138, 6): 0.0, (138, 7): 0.0, (138, 8): 0.0, (138, 9): 0.0, (138, 10): 0.0, (138, 11): 0.0, (138, 12): 0.0, (138, 13): 0.0, (138, 14): 0.0, (138, 15): 0.0, (138, 16): 0.0, (433, 0): 0.0, (433, 1): 0.0, (433, 2): 0.0, (433, 3): 0.0, (433, 4): 0.0, (433, 5): 0.0, (433, 6): 0.0, (433, 7): 0.0, (433, 8): 0.0, (433, 9): 0.0, (433, 10): 0.0, (433, 11): 0.0, (433, 12): 0.0, (433, 13): 0.0, (433, 14): 0.0, (433, 15): 0.0, (433, 16): 0.0, (30, 0): 0.0, (30, 1): 0.0, (30, 2): 0.0, (30, 3): 0.0, (30, 4): 0.0, (30, 5): 0.0, (30, 6): 0.0, (30, 7): 0.0, (30, 8): 0.0, (30, 9): 0.0, (30, 10): 0.0, (30, 11): 0.0, (30, 12): 0.0, (30, 13): 0.0, (30, 14): 0.0, (30, 15): 0.0, (30, 16): 0.0, (26, 0): 0.0, (26, 1): 0.0, (26, 2): 0.0, (26, 3): 0.0, (26, 4): 0.0, (26, 5): 0.0, (26, 6): 0.0, (26, 7): 0.0, (26, 8): 0.0, (26, 9): 0.0, (26, 10): 0.0, (26, 11): 0.0, (26, 12): 0.0, (26, 13): 0.0, (26, 14): 0.0, (26, 15): 0.0, (26, 16): 0.0, (9, 0): 0.0, (9, 1): 0.0, (9, 2): 0.0, (9, 3): 0.0, (9, 4): 0.0, (9, 5): 0.0, (9, 6): 0.0, (9, 7): 0.0, (9, 8): 0.0, (9, 9): 0.0, (9, 10): 0.0, (9, 11): 0.0, (9, 12): 0.0, (9, 13): 0.0, (9, 14): 0.0, (9, 15): 0.0, (9, 16): 0.0, (259, 0): 0.0, (259, 1): 0.0, (259, 2): 0.0, (259, 3): 0.0, (259, 4): 0.0, (259, 5): 0.0, (259, 6): 0.0, (259, 7): 0.0, (259, 8): 0.0, (259, 9): 0.0, (259, 10): 0.0, (259, 11): 0.0, (259, 12): 0.0, (259, 13): 0.0, (259, 14): 0.0, (259, 15): 0.0, (259, 16): 0.0, (212, 0): 0.0, (212, 1): 0.0, (212, 2): 0.0, (212, 3): 0.0, (212, 4): 0.0, (212, 5): 0.0, (212, 6): 0.0, (212, 7): 0.0, (212, 8): 0.0, (212, 9): 0.0, (212, 10): 0.0, (212, 11): 0.0, (212, 12): 0.0, (212, 13): 0.0, (212, 14): 0.0, (212, 15): 0.0, (212, 16): 0.0, (454, 0): 0.0, (454, 1): 0.0, (454, 2): 0.0, (454, 3): 0.0, (454, 4): 0.0, (454, 5): 0.0, (454, 6): 0.0, (454, 7): 0.0, (454, 8): 0.0, (454, 9): 0.0, (454, 10): 0.0, (454, 11): 0.0, (454, 12): 0.0, (454, 13): 0.0, (454, 14): 0.0, (454, 15): 0.0, (454, 16): 0.0, (231, 0): 0.0, (231, 1): 0.0, (231, 2): 0.0, (231, 3): 0.0, (231, 4): 0.0, (231, 5): 0.0, (231, 6): 0.0, (231, 7): 0.0, (231, 8): 0.0, (231, 9): 0.0, (231, 10): 0.0, (231, 11): 0.0, (231, 12): 0.0, (231, 13): 0.0, (231, 14): 0.0, (231, 15): 0.0, (231, 16): 0.0, (38, 0): 0.0, (38, 1): 0.0, (38, 2): 0.0, (38, 3): 0.0, (38, 4): 0.0, (38, 5): 0.0, (38, 6): 0.0, (38, 7): 0.0, (38, 8): 0.0, (38, 9): 0.0, (38, 10): 0.0, (38, 11): 0.0, (38, 12): 0.0, (38, 13): 0.0, (38, 14): 0.0, (38, 15): 0.0, (38, 16): 0.0, (144, 0): 0.0, (144, 1): 0.0, (144, 2): 0.0, (144, 3): 0.0, (144, 4): 0.0, (144, 5): 0.0, (144, 6): 0.0, (144, 7): 0.0, (144, 8): 0.0, (144, 9): 0.0, (144, 10): 0.0, (144, 11): 0.0, (144, 12): 0.0, (144, 13): 0.0, (144, 14): 0.0, (144, 15): 0.0, (144, 16): 0.0, (162, 0): 0.0, (162, 1): 0.0, (162, 2): 0.0, (162, 3): 0.0, (162, 4): 0.0, (162, 5): 0.0, (162, 6): 0.0, (162, 7): 0.0, (162, 8): 0.0, (162, 9): 0.0, (162, 10): 0.0, (162, 11): 0.0, (162, 12): 0.0, (162, 13): 0.0, (162, 14): 0.0, (162, 15): 0.0, (162, 16): 0.0, (293, 0): 0.0, (293, 1): 0.0, (293, 2): 0.0, (293, 3): 0.0, (293, 4): 0.0, (293, 5): 0.0, (293, 6): 0.0, (293, 7): 0.0, (293, 8): 0.0, (293, 9): 0.0, (293, 10): 0.0, (293, 11): 0.0, (293, 12): 0.0, (293, 13): 0.0, (293, 14): 0.0, (293, 15): 0.0, (293, 16): 0.0, (262, 0): 0.0, (262, 1): 0.0, (262, 2): 0.0, (262, 3): 0.0, (262, 4): 0.0, (262, 5): 0.0, (262, 6): 0.0, (262, 7): 0.0, (262, 8): 0.0, (262, 9): 0.0, (262, 10): 0.0, (262, 11): 0.0, (262, 12): 0.0, (262, 13): 0.0, (262, 14): 0.0, (262, 15): 0.0, (262, 16): 0.0, (370, 0): 0.0, (370, 1): 0.0, (370, 2): 0.0, (370, 3): 0.0, (370, 4): 0.0, (370, 5): 0.0, (370, 6): 0.0, (370, 7): 0.0, (370, 8): 0.0, (370, 9): 0.0, (370, 10): 0.0, (370, 11): 0.0, (370, 12): 0.0, (370, 13): 0.0, (370, 14): 0.0, (370, 15): 0.0, (370, 16): 0.0, (42, 0): 0.0, (42, 1): 0.0, (42, 2): 0.0, (42, 3): 0.0, (42, 4): 0.0, (42, 5): 0.0, (42, 6): 0.0, (42, 7): 0.0, (42, 8): 0.0, (42, 9): 0.0, (42, 10): 0.0, (42, 11): 0.0, (42, 12): 0.0, (42, 13): 0.0, (42, 14): 0.0, (42, 15): 0.0, (42, 16): 0.0, (315, 0): 0.0, (315, 1): 0.0, (315, 2): 0.0, (315, 3): 0.0, (315, 4): 0.0, (315, 5): 0.0, (315, 6): 0.0, (315, 7): 0.0, (315, 8): 0.0, (315, 9): 0.0, (315, 10): 0.0, (315, 11): 0.0, (315, 12): 0.0, (315, 13): 0.0, (315, 14): 0.0, (315, 15): 0.0, (315, 16): 0.0, (470, 0): 0.0, (470, 1): 0.0, (470, 2): 0.0, (470, 3): 0.0, (470, 4): 0.0, (470, 5): 0.0, (470, 6): 0.0, (470, 7): 0.0, (470, 8): 0.0, (470, 9): 0.0, (470, 10): 0.0, (470, 11): 0.0, (470, 12): 0.0, (470, 13): 0.0, (470, 14): 0.0, (470, 15): 0.0, (470, 16): 0.0, (236, 0): 0.0, (236, 1): 0.0, (236, 2): 0.0, (236, 3): 0.0, (236, 4): 0.0, (236, 5): 0.0, (236, 6): 0.0, (236, 7): 0.0, (236, 8): 0.0, (236, 9): 0.0, (236, 10): 0.0, (236, 11): 0.0, (236, 12): 0.0, (236, 13): 0.0, (236, 14): 0.0, (236, 15): 0.0, (236, 16): 0.0, (238, 0): 0.0, (238, 1): 0.0, (238, 2): 0.0, (238, 3): 0.0, (238, 4): 0.0, (238, 5): 0.0, (238, 6): 0.0, (238, 7): 0.0, (238, 8): 0.0, (238, 9): 0.0, (238, 10): 0.0, (238, 11): 0.0, (238, 12): 0.0, (238, 13): 0.0, (238, 14): 0.0, (238, 15): 0.0, (238, 16): 0.0, (200, 0): 0.0, (200, 1): 0.0, (200, 2): 0.0, (200, 3): 0.0, (200, 4): 0.0, (200, 5): 0.0, (200, 6): 0.0, (200, 7): 0.0, (200, 8): 0.0, (200, 9): 0.0, (200, 10): 0.0, (200, 11): 0.0, (200, 12): 0.0, (200, 13): 0.0, (200, 14): 0.0, (200, 15): 0.0, (200, 16): 0.0, (440, 0): 0.0, (440, 1): 0.0, (440, 2): 0.0, (440, 3): 0.0, (440, 4): 0.0, (440, 5): 0.0, (440, 6): 0.0, (440, 7): 0.0, (440, 8): 0.0, (440, 9): 0.0, (440, 10): 0.0, (440, 11): 0.0, (440, 12): 0.0, (440, 13): 0.0, (440, 14): 0.0, (440, 15): 0.0, (440, 16): 0.0, (339, 0): 0.0, (339, 1): 0.0, (339, 2): 0.0, (339, 3): 0.0, (339, 4): 0.0, (339, 5): 0.0, (339, 6): 0.0, (339, 7): 0.0, (339, 8): 0.0, (339, 9): 0.0, (339, 10): 0.0, (339, 11): 0.0, (339, 12): 0.0, (339, 13): 0.0, (339, 14): 0.0, (339, 15): 0.0, (339, 16): 0.0, (28, 0): 0.0, (28, 1): 0.0, (28, 2): 0.0, (28, 3): 0.0, (28, 4): 0.0, (28, 5): 0.0, (28, 6): 0.0, (28, 7): 0.0, (28, 8): 0.0, (28, 9): 0.0, (28, 10): 0.0, (28, 11): 0.0, (28, 12): 0.0, (28, 13): 0.0, (28, 14): 0.0, (28, 15): 0.0, (28, 16): 0.0, (384, 0): 0.0, (384, 1): 0.0, (384, 2): 0.0, (384, 3): 0.0, (384, 4): 0.0, (384, 5): 0.0, (384, 6): 0.0, (384, 7): 0.0, (384, 8): 0.0, (384, 9): 0.0, (384, 10): 0.0, (384, 11): 0.0, (384, 12): 0.0, (384, 13): 0.0, (384, 14): 0.0, (384, 15): 0.0, (384, 16): 0.0, (252, 0): 0.0, (252, 1): 0.0, (252, 2): 0.0, (252, 3): 0.0, (252, 4): 0.0, (252, 5): 0.0, (252, 6): 0.0, (252, 7): 0.0, (252, 8): 0.0, (252, 9): 0.0, (252, 10): 0.0, (252, 11): 0.0, (252, 12): 0.0, (252, 13): 0.0, (252, 14): 0.0, (252, 15): 0.0, (252, 16): 0.0, (284, 0): 0.0, (284, 1): 0.0, (284, 2): 0.0, (284, 3): 0.0, (284, 4): 0.0, (284, 5): 0.0, (284, 6): 0.0, (284, 7): 0.0, (284, 8): 0.0, (284, 9): 0.0, (284, 10): 0.0, (284, 11): 0.0, (284, 12): 0.0, (284, 13): 0.0, (284, 14): 0.0, (284, 15): 0.0, (284, 16): 0.0, (245, 0): 0.0, (245, 1): 0.0, (245, 2): 0.0, (245, 3): 0.0, (245, 4): 0.0, (245, 5): 0.0, (245, 6): 0.0, (245, 7): 0.0, (245, 8): 0.0, (245, 9): 0.0, (245, 10): 0.0, (245, 11): 0.0, (245, 12): 0.0, (245, 13): 0.0, (245, 14): 0.0, (245, 15): 0.0, (245, 16): 0.0, (214, 0): 0.0, (214, 1): 0.0, (214, 2): 0.0, (214, 3): 0.0, (214, 4): 0.0, (214, 5): 0.0, (214, 6): 0.0, (214, 7): 0.0, (214, 8): 0.0, (214, 9): 0.0, (214, 10): 0.0, (214, 11): 0.0, (214, 12): 0.0, (214, 13): 0.0, (214, 14): 0.0, (214, 15): 0.0, (214, 16): 0.0, (47, 0): 0.0, (47, 1): 0.0, (47, 2): 0.0, (47, 3): 0.0, (47, 4): 0.0, (47, 5): 0.0, (47, 6): 0.0, (47, 7): 0.0, (47, 8): 0.0, (47, 9): 0.0, (47, 10): 0.0, (47, 11): 0.0, (47, 12): 0.0, (47, 13): 0.0, (47, 14): 0.0, (47, 15): 0.0, (47, 16): 0.0, (198, 0): 0.0, (198, 1): 0.0, (198, 2): 0.0, (198, 3): 0.0, (198, 4): 0.0, (198, 5): 0.0, (198, 6): 0.0, (198, 7): 0.0, (198, 8): 0.0, (198, 9): 0.0, (198, 10): 0.0, (198, 11): 0.0, (198, 12): 0.0, (198, 13): 0.0, (198, 14): 0.0, (198, 15): 0.0, (198, 16): 0.0, (406, 0): 0.0, (406, 1): 0.0, (406, 2): 0.0, (406, 3): 0.0, (406, 4): 0.0, (406, 5): 0.0, (406, 6): 0.0, (406, 7): 0.0, (406, 8): 0.0, (406, 9): 0.0, (406, 10): 0.0, (406, 11): 0.0, (406, 12): 0.0, (406, 13): 0.0, (406, 14): 0.0, (406, 15): 0.0, (406, 16): 0.0, (136, 0): 0.0, (136, 1): 0.0, (136, 2): 0.0, (136, 3): 0.0, (136, 4): 0.0, (136, 5): 0.0, (136, 6): 0.0, (136, 7): 0.0, (136, 8): 0.0, (136, 9): 0.0, (136, 10): 0.0, (136, 11): 0.0, (136, 12): 0.0, (136, 13): 0.0, (136, 14): 0.0, (136, 15): 0.0, (136, 16): 0.0, (163, 0): 0.0, (163, 1): 0.0, (163, 2): 0.0, (163, 3): 0.0, (163, 4): 0.0, (163, 5): 0.0, (163, 6): 0.0, (163, 7): 0.0, (163, 8): 0.0, (163, 9): 0.0, (163, 10): 0.0, (163, 11): 0.0, (163, 12): 0.0, (163, 13): 0.0, (163, 14): 0.0, (163, 15): 0.0, (163, 16): 0.0, (92, 0): 0.0, (92, 1): 0.0, (92, 2): 0.0, (92, 3): 0.0, (92, 4): 0.0, (92, 5): 0.0, (92, 6): 0.0, (92, 7): 0.0, (92, 8): 0.0, (92, 9): 0.0, (92, 10): 0.0, (92, 11): 0.0, (92, 12): 0.0, (92, 13): 0.0, (92, 14): 0.0, (92, 15): 0.0, (92, 16): 0.0, (100, 0): 0.0, (100, 1): 0.0, (100, 2): 0.0, (100, 3): 0.0, (100, 4): 0.0, (100, 5): 0.0, (100, 6): 0.0, (100, 7): 0.0, (100, 8): 0.0, (100, 9): 0.0, (100, 10): 0.0, (100, 11): 0.0, (100, 12): 0.0, (100, 13): 0.0, (100, 14): 0.0, (100, 15): 0.0, (100, 16): 0.0, (303, 0): 0.0, (303, 1): 0.0, (303, 2): 0.0, (303, 3): 0.0, (303, 4): 0.0, (303, 5): 0.0, (303, 6): 0.0, (303, 7): 0.0, (303, 8): 0.0, (303, 9): 0.0, (303, 10): 0.0, (303, 11): 0.0, (303, 12): 0.0, (303, 13): 0.0, (303, 14): 0.0, (303, 15): 0.0, (303, 16): 0.0, (43, 0): 0.0, (43, 1): 0.0, (43, 2): 0.0, (43, 3): 0.0, (43, 4): 0.0, (43, 5): 0.0, (43, 6): 0.0, (43, 7): 0.0, (43, 8): 0.0, (43, 9): 0.0, (43, 10): 0.0, (43, 11): 0.0, (43, 12): 0.0, (43, 13): 0.0, (43, 14): 0.0, (43, 15): 0.0, (43, 16): 0.0, (230, 0): 0.0, (230, 1): 0.0, (230, 2): 0.0, (230, 3): 0.0, (230, 4): 0.0, (230, 5): 0.0, (230, 6): 0.0, (230, 7): 0.0, (230, 8): 0.0, (230, 9): 0.0, (230, 10): 0.0, (230, 11): 0.0, (230, 12): 0.0, (230, 13): 0.0, (230, 14): 0.0, (230, 15): 0.0, (230, 16): 0.0, (45, 0): 0.0, (45, 1): 0.0, (45, 2): 0.0, (45, 3): 0.0, (45, 4): 0.0, (45, 5): 0.0, (45, 6): 0.0, (45, 7): 0.0, (45, 8): 0.0, (45, 9): 0.0, (45, 10): 0.0, (45, 11): 0.0, (45, 12): 0.0, (45, 13): 0.0, (45, 14): 0.0, (45, 15): 0.0, (45, 16): 0.0, (27, 0): 0.0, (27, 1): 0.0, (27, 2): 0.0, (27, 3): 0.0, (27, 4): 0.0, (27, 5): 0.0, (27, 6): 0.0, (27, 7): 0.0, (27, 8): 0.0, (27, 9): 0.0, (27, 10): 0.0, (27, 11): 0.0, (27, 12): 0.0, (27, 13): 0.0, (27, 14): 0.0, (27, 15): 0.0, (27, 16): 0.0, (56, 0): 0.0, (56, 1): 0.0, (56, 2): 0.0, (56, 3): 0.0, (56, 4): 0.0, (56, 5): 0.0, (56, 6): 0.0, (56, 7): 0.0, (56, 8): 0.0, (56, 9): 0.0, (56, 10): 0.0, (56, 11): 0.0, (56, 12): 0.0, (56, 13): 0.0, (56, 14): 0.0, (56, 15): 0.0, (56, 16): 0.0, (139, 0): 0.0, (139, 1): 0.0, (139, 2): 0.0, (139, 3): 0.0, (139, 4): 0.0, (139, 5): 0.0, (139, 6): 0.0, (139, 7): 0.0, (139, 8): 0.0, (139, 9): 0.0, (139, 10): 0.0, (139, 11): 0.0, (139, 12): 0.0, (139, 13): 0.0, (139, 14): 0.0, (139, 15): 0.0, (139, 16): 0.0, (411, 0): 0.0, (411, 1): 0.0, (411, 2): 0.0, (411, 3): 0.0, (411, 4): 0.0, (411, 5): 0.0, (411, 6): 0.0, (411, 7): 0.0, (411, 8): 0.0, (411, 9): 0.0, (411, 10): 0.0, (411, 11): 0.0, (411, 12): 0.0, (411, 13): 0.0, (411, 14): 0.0, (411, 15): 0.0, (411, 16): 0.0, (368, 0): 0.0, (368, 1): 0.0, (368, 2): 0.0, (368, 3): 0.0, (368, 4): 0.0, (368, 5): 0.0, (368, 6): 0.0, (368, 7): 0.0, (368, 8): 0.0, (368, 9): 0.0, (368, 10): 0.0, (368, 11): 0.0, (368, 12): 0.0, (368, 13): 0.0, (368, 14): 0.0, (368, 15): 0.0, (368, 16): 0.0, (269, 0): 0.0, (269, 1): 0.0, (269, 2): 0.0, (269, 3): 0.0, (269, 4): 0.0, (269, 5): 0.0, (269, 6): 0.0, (269, 7): 0.0, (269, 8): 0.0, (269, 9): 0.0, (269, 10): 0.0, (269, 11): 0.0, (269, 12): 0.0, (269, 13): 0.0, (269, 14): 0.0, (269, 15): 0.0, (269, 16): 0.0, (125, 0): 0.0, (125, 1): 0.0, (125, 2): 0.0, (125, 3): 0.0, (125, 4): 0.0, (125, 5): 0.0, (125, 6): 0.0, (125, 7): 0.0, (125, 8): 0.0, (125, 9): 0.0, (125, 10): 0.0, (125, 11): 0.0, (125, 12): 0.0, (125, 13): 0.0, (125, 14): 0.0, (125, 15): 0.0, (125, 16): 0.0, (76, 0): 0.0, (76, 1): 0.0, (76, 2): 0.0, (76, 3): 0.0, (76, 4): 0.0, (76, 5): 0.0, (76, 6): 0.0, (76, 7): 0.0, (76, 8): 0.0, (76, 9): 0.0, (76, 10): 0.0, (76, 11): 0.0, (76, 12): 0.0, (76, 13): 0.0, (76, 14): 0.0, (76, 15): 0.0, (76, 16): 0.0, (253, 0): 0.0, (253, 1): 0.0, (253, 2): 0.0, (253, 3): 0.0, (253, 4): 0.0, (253, 5): 0.0, (253, 6): 0.0, (253, 7): 0.0, (253, 8): 0.0, (253, 9): 0.0, (253, 10): 0.0, (253, 11): 0.0, (253, 12): 0.0, (253, 13): 0.0, (253, 14): 0.0, (253, 15): 0.0, (253, 16): 0.0, (165, 0): 0.0, (165, 1): 0.0, (165, 2): 0.0, (165, 3): 0.0, (165, 4): 0.0, (165, 5): 0.0, (165, 6): 0.0, (165, 7): 0.0, (165, 8): 0.0, (165, 9): 0.0, (165, 10): 0.0, (165, 11): 0.0, (165, 12): 0.0, (165, 13): 0.0, (165, 14): 0.0, (165, 15): 0.0, (165, 16): 0.0, (41, 0): 0.0, (41, 1): 0.0, (41, 2): 0.0, (41, 3): 0.0, (41, 4): 0.0, (41, 5): 0.0, (41, 6): 0.0, (41, 7): 0.0, (41, 8): 0.0, (41, 9): 0.0, (41, 10): 0.0, (41, 11): 0.0, (41, 12): 0.0, (41, 13): 0.0, (41, 14): 0.0, (41, 15): 0.0, (41, 16): 0.0, (72, 0): 0.0, (72, 1): 0.0, (72, 2): 0.0, (72, 3): 0.0, (72, 4): 0.0, (72, 5): 0.0, (72, 6): 0.0, (72, 7): 0.0, (72, 8): 0.0, (72, 9): 0.0, (72, 10): 0.0, (72, 11): 0.0, (72, 12): 0.0, (72, 13): 0.0, (72, 14): 0.0, (72, 15): 0.0, (72, 16): 0.0, (35, 0): 0.0, (35, 1): 0.0, (35, 2): 0.0, (35, 3): 0.0, (35, 4): 0.0, (35, 5): 0.0, (35, 6): 0.0, (35, 7): 0.0, (35, 8): 0.0, (35, 9): 0.0, (35, 10): 0.0, (35, 11): 0.0, (35, 12): 0.0, (35, 13): 0.0, (35, 14): 0.0, (35, 15): 0.0, (35, 16): 0.0, (86, 0): 0.0, (86, 1): 0.0, (86, 2): 0.0, (86, 3): 0.0, (86, 4): 0.0, (86, 5): 0.0, (86, 6): 0.0, (86, 7): 0.0, (86, 8): 0.0, (86, 9): 0.0, (86, 10): 0.0, (86, 11): 0.0, (86, 12): 0.0, (86, 13): 0.0, (86, 14): 0.0, (86, 15): 0.0, (86, 16): 0.0, (123, 0): 0.0, (123, 1): 0.0, (123, 2): 0.0, (123, 3): 0.0, (123, 4): 0.0, (123, 5): 0.0, (123, 6): 0.0, (123, 7): 0.0, (123, 8): 0.0, (123, 9): 0.0, (123, 10): 0.0, (123, 11): 0.0, (123, 12): 0.0, (123, 13): 0.0, (123, 14): 0.0, (123, 15): 0.0, (123, 16): 0.0, (344, 0): 0.0, (344, 1): 0.0, (344, 2): 0.0, (344, 3): 0.0, (344, 4): 0.0, (344, 5): 0.0, (344, 6): 0.0, (344, 7): 0.0, (344, 8): 0.0, (344, 9): 0.0, (344, 10): 0.0, (344, 11): 0.0, (344, 12): 0.0, (344, 13): 0.0, (344, 14): 0.0, (344, 15): 0.0, (344, 16): 0.0, (439, 0): 0.0, (439, 1): 0.0, (439, 2): 0.0, (439, 3): 0.0, (439, 4): 0.0, (439, 5): 0.0, (439, 6): 0.0, (439, 7): 0.0, (439, 8): 0.0, (439, 9): 0.0, (439, 10): 0.0, (439, 11): 0.0, (439, 12): 0.0, (439, 13): 0.0, (439, 14): 0.0, (439, 15): 0.0, (439, 16): 0.0, (235, 0): 0.0, (235, 1): 0.0, (235, 2): 0.0, (235, 3): 0.0, (235, 4): 0.0, (235, 5): 0.0, (235, 6): 0.0, (235, 7): 0.0, (235, 8): 0.0, (235, 9): 0.0, (235, 10): 0.0, (235, 11): 0.0, (235, 12): 0.0, (235, 13): 0.0, (235, 14): 0.0, (235, 15): 0.0, (235, 16): 0.0, (33, 0): 0.0, (33, 1): 0.0, (33, 2): 0.0, (33, 3): 0.0, (33, 4): 0.0, (33, 5): 0.0, (33, 6): 0.0, (33, 7): 0.0, (33, 8): 0.0, (33, 9): 0.0, (33, 10): 0.0, (33, 11): 0.0, (33, 12): 0.0, (33, 13): 0.0, (33, 14): 0.0, (33, 15): 0.0, (33, 16): 0.0, (428, 0): 0.0, (428, 1): 0.0, (428, 2): 0.0, (428, 3): 0.0, (428, 4): 0.0, (428, 5): 0.0, (428, 6): 0.0, (428, 7): 0.0, (428, 8): 0.0, (428, 9): 0.0, (428, 10): 0.0, (428, 11): 0.0, (428, 12): 0.0, (428, 13): 0.0, (428, 14): 0.0, (428, 15): 0.0, (428, 16): 0.0, (422, 0): 0.0, (422, 1): 0.0, (422, 2): 0.0, (422, 3): 0.0, (422, 4): 0.0, (422, 5): 0.0, (422, 6): 0.0, (422, 7): 0.0, (422, 8): 0.0, (422, 9): 0.0, (422, 10): 0.0, (422, 11): 0.0, (422, 12): 0.0, (422, 13): 0.0, (422, 14): 0.0, (422, 15): 0.0, (422, 16): 0.0, (187, 0): 0.0, (187, 1): 0.0, (187, 2): 0.0, (187, 3): 0.0, (187, 4): 0.0, (187, 5): 0.0, (187, 6): 0.0, (187, 7): 0.0, (187, 8): 0.0, (187, 9): 0.0, (187, 10): 0.0, (187, 11): 0.0, (187, 12): 0.0, (187, 13): 0.0, (187, 14): 0.0, (187, 15): 0.0, (187, 16): 0.0, (166, 0): 0.0, (166, 1): 0.0, (166, 2): 0.0, (166, 3): 0.0, (166, 4): 0.0, (166, 5): 0.0, (166, 6): 0.0, (166, 7): 0.0, (166, 8): 0.0, (166, 9): 0.0, (166, 10): 0.0, (166, 11): 0.0, (166, 12): 0.0, (166, 13): 0.0, (166, 14): 0.0, (166, 15): 0.0, (166, 16): 0.0, (15, 0): 0.0, (15, 1): 0.0, (15, 2): 0.0, (15, 3): 0.0, (15, 4): 0.0, (15, 5): 0.0, (15, 6): 0.0, (15, 7): 0.0, (15, 8): 0.0, (15, 9): 0.0, (15, 10): 0.0, (15, 11): 0.0, (15, 12): 0.0, (15, 13): 0.0, (15, 14): 0.0, (15, 15): 0.0, (15, 16): 0.0, (375, 0): 0.0, (375, 1): 0.0, (375, 2): 0.0, (375, 3): 0.0, (375, 4): 0.0, (375, 5): 0.0, (375, 6): 0.0, (375, 7): 0.0, (375, 8): 0.0, (375, 9): 0.0, (375, 10): 0.0, (375, 11): 0.0, (375, 12): 0.0, (375, 13): 0.0, (375, 14): 0.0, (375, 15): 0.0, (375, 16): 0.0, (184, 0): 0.0, (184, 1): 0.0, (184, 2): 0.0, (184, 3): 0.0, (184, 4): 0.0, (184, 5): 0.0, (184, 6): 0.0, (184, 7): 0.0, (184, 8): 0.0, (184, 9): 0.0, (184, 10): 0.0, (184, 11): 0.0, (184, 12): 0.0, (184, 13): 0.0, (184, 14): 0.0, (184, 15): 0.0, (184, 16): 0.0, (381, 0): 0.0, (381, 1): 0.0, (381, 2): 0.0, (381, 3): 0.0, (381, 4): 0.0, (381, 5): 0.0, (381, 6): 0.0, (381, 7): 0.0, (381, 8): 0.0, (381, 9): 0.0, (381, 10): 0.0, (381, 11): 0.0, (381, 12): 0.0, (381, 13): 0.0, (381, 14): 0.0, (381, 15): 0.0, (381, 16): 0.0, (476, 0): 0.0, (476, 1): 0.0, (476, 2): 0.0, (476, 3): 0.0, (476, 4): 0.0, (476, 5): 0.0, (476, 6): 0.0, (476, 7): 0.0, (476, 8): 0.0, (476, 9): 0.0, (476, 10): 0.0, (476, 11): 0.0, (476, 12): 0.0, (476, 13): 0.0, (476, 14): 0.0, (476, 15): 0.0, (476, 16): 0.0, (105, 0): 0.0, (105, 1): 0.0, (105, 2): 0.0, (105, 3): 0.0, (105, 4): 0.0, (105, 5): 0.0, (105, 6): 0.0, (105, 7): 0.0, (105, 8): 0.0, (105, 9): 0.0, (105, 10): 0.0, (105, 11): 0.0, (105, 12): 0.0, (105, 13): 0.0, (105, 14): 0.0, (105, 15): 0.0, (105, 16): 0.0, (44, 0): 0.0, (44, 1): 0.0, (44, 2): 0.0, (44, 3): 0.0, (44, 4): 0.0, (44, 5): 0.0, (44, 6): 0.0, (44, 7): 0.0, (44, 8): 0.0, (44, 9): 0.0, (44, 10): 1.0, (44, 11): 2.0, (44, 12): 0.0, (44, 13): 0.0, (44, 14): 0.0, (44, 15): 0.0, (44, 16): 1.0, (168, 0): 0.0, (168, 1): 0.0, (168, 2): 0.0, (168, 3): 0.0, (168, 4): 0.0, (168, 5): 0.0, (168, 6): 0.0, (168, 7): 0.0, (168, 8): 0.0, (168, 9): 0.0, (168, 10): 0.0, (168, 11): 0.0, (168, 12): 0.0, (168, 13): 0.0, (168, 14): 0.0, (168, 15): 0.0, (168, 16): 0.0, (285, 0): 0.0, (285, 1): 0.0, (285, 2): 0.0, (285, 3): 0.0, (285, 4): 0.0, (285, 5): 0.0, (285, 6): 0.0, (285, 7): 0.0, (285, 8): 0.0, (285, 9): 0.0, (285, 10): 0.0, (285, 11): 0.0, (285, 12): 0.0, (285, 13): 0.0, (285, 14): 0.0, (285, 15): 0.0, (285, 16): 0.0, (410, 0): 0.0, (410, 1): 0.0, (410, 2): 0.0, (410, 3): 0.0, (410, 4): 0.0, (410, 5): 0.0, (410, 6): 0.0, (410, 7): 0.0, (410, 8): 0.0, (410, 9): 0.0, (410, 10): 0.0, (410, 11): 0.0, (410, 12): 0.0, (410, 13): 0.0, (410, 14): 0.0, (410, 15): 0.0, (410, 16): 0.0, (270, 0): 0.0, (270, 1): 0.0, (270, 2): 0.0, (270, 3): 0.0, (270, 4): 0.0, (270, 5): 0.0, (270, 6): 0.0, (270, 7): 0.0, (270, 8): 0.0, (270, 9): 0.0, (270, 10): 0.0, (270, 11): 0.0, (270, 12): 0.0, (270, 13): 0.0, (270, 14): 0.0, (270, 15): 0.0, (270, 16): 0.0, (294, 0): 0.0, (294, 1): 0.0, (294, 2): 0.0, (294, 3): 0.0, (294, 4): 0.0, (294, 5): 0.0, (294, 6): 0.0, (294, 7): 0.0, (294, 8): 0.0, (294, 9): 0.0, (294, 10): 0.0, (294, 11): 0.0, (294, 12): 0.0, (294, 13): 0.0, (294, 14): 0.0, (294, 15): 0.0, (294, 16): 0.0, (17, 0): 0.0, (17, 1): 0.0, (17, 2): 0.0, (17, 3): 0.0, (17, 4): 0.0, (17, 5): 0.0, (17, 6): 0.0, (17, 7): 0.0, (17, 8): 0.0, (17, 9): 0.0, (17, 10): 0.0, (17, 11): 0.0, (17, 12): 0.0, (17, 13): 0.0, (17, 14): 0.0, (17, 15): 0.0, (17, 16): 0.0, (106, 0): 0.0, (106, 1): 0.0, (106, 2): 0.0, (106, 3): 0.0, (106, 4): 0.0, (106, 5): 0.0, (106, 6): 0.0, (106, 7): 0.0, (106, 8): 0.0, (106, 9): 0.0, (106, 10): 0.0, (106, 11): 0.0, (106, 12): 0.0, (106, 13): 0.0, (106, 14): 0.0, (106, 15): 0.0, (106, 16): 0.0, (274, 0): 0.0, (274, 1): 0.0, (274, 2): 0.0, (274, 3): 0.0, (274, 4): 0.0, (274, 5): 0.0, (274, 6): 0.0, (274, 7): 0.0, (274, 8): 0.0, (274, 9): 0.0, (274, 10): 0.0, (274, 11): 0.0, (274, 12): 0.0, (274, 13): 0.0, (274, 14): 0.0, (274, 15): 0.0, (274, 16): 0.0, (268, 0): 0.0, (268, 1): 0.0, (268, 2): 0.0, (268, 3): 0.0, (268, 4): 0.0, (268, 5): 0.0, (268, 6): 0.0, (268, 7): 0.0, (268, 8): 0.0, (268, 9): 0.0, (268, 10): 0.0, (268, 11): 0.0, (268, 12): 0.0, (268, 13): 0.0, (268, 14): 0.0, (268, 15): 0.0, (268, 16): 0.0, (289, 0): 0.0, (289, 1): 0.0, (289, 2): 0.0, (289, 3): 0.0, (289, 4): 0.0, (289, 5): 0.0, (289, 6): 0.0, (289, 7): 0.0, (289, 8): 0.0, (289, 9): 0.0, (289, 10): 0.0, (289, 11): 0.0, (289, 12): 0.0, (289, 13): 0.0, (289, 14): 0.0, (289, 15): 0.0, (289, 16): 0.0, (175, 0): 0.0, (175, 1): 0.0, (175, 2): 0.0, (175, 3): 0.0, (175, 4): 0.0, (175, 5): 0.0, (175, 6): 0.0, (175, 7): 0.0, (175, 8): 0.0, (175, 9): 0.0, (175, 10): 0.0, (175, 11): 0.0, (175, 12): 0.0, (175, 13): 0.0, (175, 14): 0.0, (175, 15): 0.0, (175, 16): 0.0, (5, 0): 0.0, (5, 1): 0.0, (5, 2): 0.0, (5, 3): 0.0, (5, 4): 0.0, (5, 5): 0.0, (5, 6): 0.0, (5, 7): 0.0, (5, 8): 0.0, (5, 9): 0.0, (5, 10): 0.0, (5, 11): 0.0, (5, 12): 0.0, (5, 13): 0.0, (5, 14): 0.0, (5, 15): 0.0, (5, 16): 0.0, (121, 0): 0.0, (121, 1): 0.0, (121, 2): 0.0, (121, 3): 0.0, (121, 4): 0.0, (121, 5): 0.0, (121, 6): 0.0, (121, 7): 0.0, (121, 8): 0.0, (121, 9): 0.0, (121, 10): 0.0, (121, 11): 0.0, (121, 12): 0.0, (121, 13): 0.0, (121, 14): 0.0, (121, 15): 0.0, (121, 16): 0.0, (444, 0): 0.0, (444, 1): 0.0, (444, 2): 0.0, (444, 3): 0.0, (444, 4): 0.0, (444, 5): 0.0, (444, 6): 0.0, (444, 7): 0.0, (444, 8): 0.0, (444, 9): 0.0, (444, 10): 0.0, (444, 11): 0.0, (444, 12): 0.0, (444, 13): 0.0, (444, 14): 0.0, (444, 15): 0.0, (444, 16): 0.0, (93, 0): 0.0, (93, 1): 0.0, (93, 2): 0.0, (93, 3): 0.0, (93, 4): 0.0, (93, 5): 0.0, (93, 6): 0.0, (93, 7): 0.0, (93, 8): 0.0, (93, 9): 0.0, (93, 10): 0.0, (93, 11): 0.0, (93, 12): 0.0, (93, 13): 0.0, (93, 14): 0.0, (93, 15): 0.0, (93, 16): 0.0, (119, 0): 0.0, (119, 1): 0.0, (119, 2): 0.0, (119, 3): 0.0, (119, 4): 0.0, (119, 5): 0.0, (119, 6): 0.0, (119, 7): 0.0, (119, 8): 0.0, (119, 9): 0.0, (119, 10): 0.0, (119, 11): 0.0, (119, 12): 0.0, (119, 13): 0.0, (119, 14): 0.0, (119, 15): 0.0, (119, 16): 0.0, (399, 0): 0.0, (399, 1): 0.0, (399, 2): 0.0, (399, 3): 0.0, (399, 4): 0.0, (399, 5): 0.0, (399, 6): 0.0, (399, 7): 0.0, (399, 8): 0.0, (399, 9): 0.0, (399, 10): 0.0, (399, 11): 0.0, (399, 12): 0.0, (399, 13): 0.0, (399, 14): 0.0, (399, 15): 0.0, (399, 16): 0.0, (160, 0): 0.0, (160, 1): 0.0, (160, 2): 0.0, (160, 3): 0.0, (160, 4): 0.0, (160, 5): 0.0, (160, 6): 0.0, (160, 7): 0.0, (160, 8): 0.0, (160, 9): 0.0, (160, 10): 0.0, (160, 11): 0.0, (160, 12): 0.0, (160, 13): 0.0, (160, 14): 0.0, (160, 15): 0.0, (160, 16): 0.0, (79, 0): 0.0, (79, 1): 0.0, (79, 2): 0.0, (79, 3): 0.0, (79, 4): 0.0, (79, 5): 0.0, (79, 6): 0.0, (79, 7): 0.0, (79, 8): 0.0, (79, 9): 0.0, (79, 10): 0.0, (79, 11): 0.0, (79, 12): 0.0, (79, 13): 0.0, (79, 14): 3.0, (79, 15): 0.0, (79, 16): 0.0, (155, 0): 0.0, (155, 1): 0.0, (155, 2): 0.0, (155, 3): 0.0, (155, 4): 0.0, (155, 5): 0.0, (155, 6): 0.0, (155, 7): 0.0, (155, 8): 0.0, (155, 9): 0.0, (155, 10): 0.0, (155, 11): 0.0, (155, 12): 0.0, (155, 13): 0.0, (155, 14): 0.0, (155, 15): 0.0, (155, 16): 0.0, (74, 0): 0.0, (74, 1): 0.0, (74, 2): 0.0, (74, 3): 0.0, (74, 4): 0.0, (74, 5): 0.0, (74, 6): 0.0, (74, 7): 0.0, (74, 8): 0.0, (74, 9): 0.0, (74, 10): 0.0, (74, 11): 0.0, (74, 12): 0.0, (74, 13): 0.0, (74, 14): 0.0, (74, 15): 0.0, (74, 16): 0.0, (460, 0): 0.0, (460, 1): 0.0, (460, 2): 0.0, (460, 3): 0.0, (460, 4): 0.0, (460, 5): 0.0, (460, 6): 0.0, (460, 7): 0.0, (460, 8): 0.0, (460, 9): 0.0, (460, 10): 0.0, (460, 11): 0.0, (460, 12): 0.0, (460, 13): 0.0, (460, 14): 0.0, (460, 15): 0.0, (460, 16): 0.0, (18, 0): 0.0, (18, 1): 0.0, (18, 2): 0.0, (18, 3): 0.0, (18, 4): 0.0, (18, 5): 0.0, (18, 6): 0.0, (18, 7): 0.0, (18, 8): 0.0, (18, 9): 0.0, (18, 10): 0.0, (18, 11): 0.0, (18, 12): 0.0, (18, 13): 0.0, (18, 14): 0.0, (18, 15): 0.0, (18, 16): 0.0, (67, 0): 0.0, (67, 1): 0.0, (67, 2): 0.0, (67, 3): 0.0, (67, 4): 0.0, (67, 5): 0.0, (67, 6): 0.0, (67, 7): 0.0, (67, 8): 0.0, (67, 9): 0.0, (67, 10): 0.0, (67, 11): 0.0, (67, 12): 0.0, (67, 13): 0.0, (67, 14): 6.0, (67, 15): 0.0, (67, 16): 2.0, (167, 0): 0.0, (167, 1): 0.0, (167, 2): 0.0, (167, 3): 0.0, (167, 4): 0.0, (167, 5): 0.0, (167, 6): 0.0, (167, 7): 0.0, (167, 8): 0.0, (167, 9): 0.0, (167, 10): 0.0, (167, 11): 0.0, (167, 12): 0.0, (167, 13): 0.0, (167, 14): 0.0, (167, 15): 0.0, (167, 16): 0.0, (319, 0): 0.0, (319, 1): 0.0, (319, 2): 0.0, (319, 3): 0.0, (319, 4): 0.0, (319, 5): 0.0, (319, 6): 0.0, (319, 7): 0.0, (319, 8): 0.0, (319, 9): 0.0, (319, 10): 0.0, (319, 11): 0.0, (319, 12): 0.0, (319, 13): 0.0, (319, 14): 0.0, (319, 15): 0.0, (319, 16): 0.0, (249, 0): 0.0, (249, 1): 0.0, (249, 2): 0.0, (249, 3): 0.0, (249, 4): 0.0, (249, 5): 0.0, (249, 6): 0.0, (249, 7): 0.0, (249, 8): 0.0, (249, 9): 0.0, (249, 10): 0.0, (249, 11): 0.0, (249, 12): 0.0, (249, 13): 0.0, (249, 14): 0.0, (249, 15): 0.0, (249, 16): 0.0, (194, 0): 0.0, (194, 1): 0.0, (194, 2): 0.0, (194, 3): 0.0, (194, 4): 0.0, (194, 5): 0.0, (194, 6): 0.0, (194, 7): 0.0, (194, 8): 0.0, (194, 9): 0.0, (194, 10): 0.0, (194, 11): 0.0, (194, 12): 0.0, (194, 13): 0.0, (194, 14): 0.0, (194, 15): 0.0, (194, 16): 0.0, (233, 0): 0.0, (233, 1): 0.0, (233, 2): 0.0, (233, 3): 0.0, (233, 4): 0.0, (233, 5): 0.0, (233, 6): 0.0, (233, 7): 0.0, (233, 8): 0.0, (233, 9): 0.0, (233, 10): 0.0, (233, 11): 0.0, (233, 12): 0.0, (233, 13): 0.0, (233, 14): 0.0, (233, 15): 0.0, (233, 16): 0.0, (204, 0): 0.0, (204, 1): 0.0, (204, 2): 0.0, (204, 3): 0.0, (204, 4): 0.0, (204, 5): 0.0, (204, 6): 0.0, (204, 7): 0.0, (204, 8): 0.0, (204, 9): 0.0, (204, 10): 0.0, (204, 11): 0.0, (204, 12): 0.0, (204, 13): 0.0, (204, 14): 0.0, (204, 15): 0.0, (204, 16): 0.0, (296, 0): 0.0, (296, 1): 0.0, (296, 2): 0.0, (296, 3): 0.0, (296, 4): 0.0, (296, 5): 0.0, (296, 6): 0.0, (296, 7): 0.0, (296, 8): 0.0, (296, 9): 0.0, (296, 10): 0.0, (296, 11): 0.0, (296, 12): 0.0, (296, 13): 0.0, (296, 14): 0.0, (296, 15): 0.0, (296, 16): 0.0, (98, 0): 0.0, (98, 1): 0.0, (98, 2): 0.0, (98, 3): 0.0, (98, 4): 0.0, (98, 5): 0.0, (98, 6): 0.0, (98, 7): 0.0, (98, 8): 0.0, (98, 9): 0.0, (98, 10): 0.0, (98, 11): 0.0, (98, 12): 18.0, (98, 13): 0.0, (98, 14): 0.0, (98, 15): 0.0, (98, 16): 0.0, (307, 0): 0.0, (307, 1): 0.0, (307, 2): 0.0, (307, 3): 0.0, (307, 4): 0.0, (307, 5): 0.0, (307, 6): 0.0, (307, 7): 0.0, (307, 8): 0.0, (307, 9): 0.0, (307, 10): 0.0, (307, 11): 0.0, (307, 12): 0.0, (307, 13): 0.0, (307, 14): 0.0, (307, 15): 0.0, (307, 16): 0.0, (425, 0): 0.0, (425, 1): 0.0, (425, 2): 0.0, (425, 3): 0.0, (425, 4): 0.0, (425, 5): 0.0, (425, 6): 0.0, (425, 7): 0.0, (425, 8): 0.0, (425, 9): 0.0, (425, 10): 0.0, (425, 11): 0.0, (425, 12): 0.0, (425, 13): 0.0, (425, 14): 0.0, (425, 15): 0.0, (425, 16): 0.0, (351, 0): 0.0, (351, 1): 0.0, (351, 2): 0.0, (351, 3): 0.0, (351, 4): 0.0, (351, 5): 0.0, (351, 6): 0.0, (351, 7): 0.0, (351, 8): 0.0, (351, 9): 0.0, (351, 10): 0.0, (351, 11): 0.0, (351, 12): 0.0, (351, 13): 0.0, (351, 14): 0.0, (351, 15): 0.0, (351, 16): 0.0, (202, 0): 0.0, (202, 1): 0.0, (202, 2): 0.0, (202, 3): 0.0, (202, 4): 0.0, (202, 5): 0.0, (202, 6): 0.0, (202, 7): 0.0, (202, 8): 0.0, (202, 9): 0.0, (202, 10): 0.0, (202, 11): 0.0, (202, 12): 0.0, (202, 13): 0.0, (202, 14): 0.0, (202, 15): 0.0, (202, 16): 0.0, (278, 0): 0.0, (278, 1): 0.0, (278, 2): 0.0, (278, 3): 0.0, (278, 4): 0.0, (278, 5): 0.0, (278, 6): 0.0, (278, 7): 0.0, (278, 8): 0.0, (278, 9): 0.0, (278, 10): 0.0, (278, 11): 0.0, (278, 12): 0.0, (278, 13): 0.0, (278, 14): 0.0, (278, 15): 0.0, (278, 16): 0.0, (461, 0): 0.0, (461, 1): 0.0, (461, 2): 0.0, (461, 3): 0.0, (461, 4): 0.0, (461, 5): 0.0, (461, 6): 0.0, (461, 7): 0.0, (461, 8): 0.0, (461, 9): 0.0, (461, 10): 0.0, (461, 11): 0.0, (461, 12): 0.0, (461, 13): 0.0, (461, 14): 0.0, (461, 15): 0.0, (461, 16): 0.0, (352, 0): 0.0, (352, 1): 0.0, (352, 2): 0.0, (352, 3): 0.0, (352, 4): 0.0, (352, 5): 0.0, (352, 6): 0.0, (352, 7): 0.0, (352, 8): 0.0, (352, 9): 0.0, (352, 10): 0.0, (352, 11): 0.0, (352, 12): 0.0, (352, 13): 0.0, (352, 14): 0.0, (352, 15): 0.0, (352, 16): 0.0, (282, 0): 0.0, (282, 1): 0.0, (282, 2): 0.0, (282, 3): 0.0, (282, 4): 0.0, (282, 5): 0.0, (282, 6): 0.0, (282, 7): 0.0, (282, 8): 0.0, (282, 9): 0.0, (282, 10): 0.0, (282, 11): 0.0, (282, 12): 0.0, (282, 13): 0.0, (282, 14): 0.0, (282, 15): 0.0, (282, 16): 0.0, (102, 0): 0.0, (102, 1): 0.0, (102, 2): 0.0, (102, 3): 0.0, (102, 4): 0.0, (102, 5): 0.0, (102, 6): 0.0, (102, 7): 0.0, (102, 8): 0.0, (102, 9): 0.0, (102, 10): 0.0, (102, 11): 0.0, (102, 12): 0.0, (102, 13): 0.0, (102, 14): 0.0, (102, 15): 0.0, (102, 16): 0.0, (228, 0): 0.0, (228, 1): 0.0, (228, 2): 0.0, (228, 3): 0.0, (228, 4): 0.0, (228, 5): 0.0, (228, 6): 0.0, (228, 7): 0.0, (228, 8): 0.0, (228, 9): 0.0, (228, 10): 0.0, (228, 11): 0.0, (228, 12): 0.0, (228, 13): 0.0, (228, 14): 0.0, (228, 15): 0.0, (228, 16): 0.0, (201, 0): 0.0, (201, 1): 0.0, (201, 2): 0.0, (201, 3): 0.0, (201, 4): 0.0, (201, 5): 0.0, (201, 6): 0.0, (201, 7): 0.0, (201, 8): 0.0, (201, 9): 0.0, (201, 10): 0.0, (201, 11): 0.0, (201, 12): 0.0, (201, 13): 0.0, (201, 14): 0.0, (201, 15): 0.0, (201, 16): 1.0, (321, 0): 0.0, (321, 1): 0.0, (321, 2): 0.0, (321, 3): 0.0, (321, 4): 0.0, (321, 5): 0.0, (321, 6): 0.0, (321, 7): 0.0, (321, 8): 0.0, (321, 9): 0.0, (321, 10): 0.0, (321, 11): 0.0, (321, 12): 0.0, (321, 13): 0.0, (321, 14): 0.0, (321, 15): 0.0, (321, 16): 0.0, (402, 0): 0.0, (402, 1): 0.0, (402, 2): 0.0, (402, 3): 0.0, (402, 4): 0.0, (402, 5): 0.0, (402, 6): 0.0, (402, 7): 0.0, (402, 8): 0.0, (402, 9): 0.0, (402, 10): 0.0, (402, 11): 0.0, (402, 12): 0.0, (402, 13): 0.0, (402, 14): 0.0, (402, 15): 0.0, (402, 16): 0.0, (371, 0): 0.0, (371, 1): 0.0, (371, 2): 0.0, (371, 3): 0.0, (371, 4): 0.0, (371, 5): 0.0, (371, 6): 0.0, (371, 7): 0.0, (371, 8): 0.0, (371, 9): 0.0, (371, 10): 0.0, (371, 11): 0.0, (371, 12): 0.0, (371, 13): 0.0, (371, 14): 0.0, (371, 15): 0.0, (371, 16): 0.0, (390, 0): 0.0, (390, 1): 0.0, (390, 2): 0.0, (390, 3): 0.0, (390, 4): 0.0, (390, 5): 0.0, (390, 6): 0.0, (390, 7): 0.0, (390, 8): 0.0, (390, 9): 0.0, (390, 10): 0.0, (390, 11): 0.0, (390, 12): 0.0, (390, 13): 0.0, (390, 14): 0.0, (390, 15): 0.0, (390, 16): 0.0, (394, 0): 0.0, (394, 1): 0.0, (394, 2): 0.0, (394, 3): 0.0, (394, 4): 0.0, (394, 5): 0.0, (394, 6): 0.0, (394, 7): 0.0, (394, 8): 0.0, (394, 9): 0.0, (394, 10): 0.0, (394, 11): 0.0, (394, 12): 0.0, (394, 13): 0.0, (394, 14): 0.0, (394, 15): 0.0, (394, 16): 0.0, (350, 0): 0.0, (350, 1): 0.0, (350, 2): 0.0, (350, 3): 0.0, (350, 4): 0.0, (350, 5): 0.0, (350, 6): 0.0, (350, 7): 0.0, (350, 8): 0.0, (350, 9): 0.0, (350, 10): 0.0, (350, 11): 0.0, (350, 12): 0.0, (350, 13): 0.0, (350, 14): 0.0, (350, 15): 0.0, (350, 16): 0.0, (132, 0): 0.0, (132, 1): 0.0, (132, 2): 0.0, (132, 3): 0.0, (132, 4): 0.0, (132, 5): 0.0, (132, 6): 0.0, (132, 7): 0.0, (132, 8): 0.0, (132, 9): 0.0, (132, 10): 0.0, (132, 11): 0.0, (132, 12): 0.0, (132, 13): 0.0, (132, 14): 0.0, (132, 15): 0.0, (132, 16): 0.0, (196, 0): 0.0, (196, 1): 0.0, (196, 2): 0.0, (196, 3): 0.0, (196, 4): 0.0, (196, 5): 0.0, (196, 6): 0.0, (196, 7): 0.0, (196, 8): 0.0, (196, 9): 0.0, (196, 10): 0.0, (196, 11): 0.0, (196, 12): 0.0, (196, 13): 0.0, (196, 14): 0.0, (196, 15): 0.0, (196, 16): 0.0, (311, 0): 0.0, (311, 1): 0.0, (311, 2): 0.0, (311, 3): 0.0, (311, 4): 0.0, (311, 5): 0.0, (311, 6): 0.0, (311, 7): 0.0, (311, 8): 0.0, (311, 9): 0.0, (311, 10): 0.0, (311, 11): 0.0, (311, 12): 0.0, (311, 13): 0.0, (311, 14): 0.0, (311, 15): 0.0, (311, 16): 0.0, (141, 0): 0.0, (141, 1): 0.0, (141, 2): 0.0, (141, 3): 0.0, (141, 4): 0.0, (141, 5): 0.0, (141, 6): 0.0, (141, 7): 0.0, (141, 8): 0.0, (141, 9): 0.0, (141, 10): 0.0, (141, 11): 0.0, (141, 12): 0.0, (141, 13): 0.0, (141, 14): 0.0, (141, 15): 0.0, (141, 16): 0.0, (264, 0): 0.0, (264, 1): 0.0, (264, 2): 0.0, (264, 3): 0.0, (264, 4): 0.0, (264, 5): 0.0, (264, 6): 0.0, (264, 7): 0.0, (264, 8): 0.0, (264, 9): 0.0, (264, 10): 0.0, (264, 11): 0.0, (264, 12): 0.0, (264, 13): 0.0, (264, 14): 0.0, (264, 15): 0.0, (264, 16): 0.0, (466, 0): 0.0, (466, 1): 0.0, (466, 2): 0.0, (466, 3): 0.0, (466, 4): 0.0, (466, 5): 0.0, (466, 6): 0.0, (466, 7): 0.0, (466, 8): 0.0, (466, 9): 0.0, (466, 10): 0.0, (466, 11): 0.0, (466, 12): 0.0, (466, 13): 0.0, (466, 14): 0.0, (466, 15): 0.0, (466, 16): 0.0, (340, 0): 0.0, (340, 1): 0.0, (340, 2): 0.0, (340, 3): 0.0, (340, 4): 0.0, (340, 5): 0.0, (340, 6): 0.0, (340, 7): 0.0, (340, 8): 0.0, (340, 9): 0.0, (340, 10): 0.0, (340, 11): 0.0, (340, 12): 0.0, (340, 13): 0.0, (340, 14): 0.0, (340, 15): 0.0, (340, 16): 0.0, (465, 0): 0.0, (465, 1): 0.0, (465, 2): 0.0, (465, 3): 0.0, (465, 4): 0.0, (465, 5): 0.0, (465, 6): 0.0, (465, 7): 0.0, (465, 8): 0.0, (465, 9): 0.0, (465, 10): 0.0, (465, 11): 0.0, (465, 12): 0.0, (465, 13): 0.0, (465, 14): 0.0, (465, 15): 0.0, (465, 16): 0.0, (172, 0): 0.0, (172, 1): 0.0, (172, 2): 0.0, (172, 3): 0.0, (172, 4): 0.0, (172, 5): 0.0, (172, 6): 0.0, (172, 7): 0.0, (172, 8): 0.0, (172, 9): 0.0, (172, 10): 0.0, (172, 11): 0.0, (172, 12): 0.0, (172, 13): 0.0, (172, 14): 0.0, (172, 15): 0.0, (172, 16): 0.0, (257, 0): 0.0, (257, 1): 0.0, (257, 2): 0.0, (257, 3): 0.0, (257, 4): 0.0, (257, 5): 0.0, (257, 6): 0.0, (257, 7): 0.0, (257, 8): 0.0, (257, 9): 0.0, (257, 10): 0.0, (257, 11): 0.0, (257, 12): 0.0, (257, 13): 0.0, (257, 14): 0.0, (257, 15): 0.0, (257, 16): 0.0, (431, 0): 0.0, (431, 1): 0.0, (431, 2): 0.0, (431, 3): 0.0, (431, 4): 0.0, (431, 5): 0.0, (431, 6): 0.0, (431, 7): 0.0, (431, 8): 0.0, (431, 9): 0.0, (431, 10): 0.0, (431, 11): 0.0, (431, 12): 0.0, (431, 13): 0.0, (431, 14): 0.0, (431, 15): 0.0, (431, 16): 0.0, (298, 0): 0.0, (298, 1): 0.0, (298, 2): 0.0, (298, 3): 0.0, (298, 4): 0.0, (298, 5): 0.0, (298, 6): 0.0, (298, 7): 0.0, (298, 8): 0.0, (298, 9): 0.0, (298, 10): 0.0, (298, 11): 0.0, (298, 12): 0.0, (298, 13): 0.0, (298, 14): 0.0, (298, 15): 0.0, (298, 16): 0.0, (218, 0): 0.0, (218, 1): 0.0, (218, 2): 0.0, (218, 3): 0.0, (218, 4): 0.0, (218, 5): 0.0, (218, 6): 0.0, (218, 7): 0.0, (218, 8): 0.0, (218, 9): 0.0, (218, 10): 0.0, (218, 11): 0.0, (218, 12): 0.0, (218, 13): 0.0, (218, 14): 0.0, (218, 15): 0.0, (218, 16): 0.0, (385, 0): 0.0, (385, 1): 0.0, (385, 2): 0.0, (385, 3): 0.0, (385, 4): 0.0, (385, 5): 0.0, (385, 6): 0.0, (385, 7): 0.0, (385, 8): 0.0, (385, 9): 0.0, (385, 10): 0.0, (385, 11): 0.0, (385, 12): 0.0, (385, 13): 0.0, (385, 14): 0.0, (385, 15): 0.0, (385, 16): 5.0, (359, 0): 0.0, (359, 1): 0.0, (359, 2): 0.0, (359, 3): 0.0, (359, 4): 0.0, (359, 5): 0.0, (359, 6): 0.0, (359, 7): 0.0, (359, 8): 0.0, (359, 9): 0.0, (359, 10): 0.0, (359, 11): 0.0, (359, 12): 0.0, (359, 13): 0.0, (359, 14): 0.0, (359, 15): 0.0, (359, 16): 0.0, (251, 0): 0.0, (251, 1): 0.0, (251, 2): 0.0, (251, 3): 0.0, (251, 4): 0.0, (251, 5): 0.0, (251, 6): 0.0, (251, 7): 0.0, (251, 8): 0.0, (251, 9): 0.0, (251, 10): 0.0, (251, 11): 0.0, (251, 12): 0.0, (251, 13): 0.0, (251, 14): 0.0, (251, 15): 0.0, (251, 16): 0.0, (205, 0): 0.0, (205, 1): 0.0, (205, 2): 0.0, (205, 3): 0.0, (205, 4): 0.0, (205, 5): 0.0, (205, 6): 0.0, (205, 7): 0.0, (205, 8): 0.0, (205, 9): 0.0, (205, 10): 0.0, (205, 11): 0.0, (205, 12): 0.0, (205, 13): 0.0, (205, 14): 0.0, (205, 15): 0.0, (205, 16): 0.0, (417, 0): 0.0, (417, 1): 0.0, (417, 2): 0.0, (417, 3): 0.0, (417, 4): 0.0, (417, 5): 0.0, (417, 6): 0.0, (417, 7): 0.0, (417, 8): 0.0, (417, 9): 0.0, (417, 10): 0.0, (417, 11): 0.0, (417, 12): 0.0, (417, 13): 0.0, (417, 14): 6.0, (417, 15): 0.0, (417, 16): 0.0, (464, 0): 0.0, (464, 1): 0.0, (464, 2): 0.0, (464, 3): 0.0, (464, 4): 0.0, (464, 5): 0.0, (464, 6): 0.0, (464, 7): 0.0, (464, 8): 0.0, (464, 9): 0.0, (464, 10): 0.0, (464, 11): 0.0, (464, 12): 0.0, (464, 13): 0.0, (464, 14): 0.0, (464, 15): 0.0, (464, 16): 0.0, (310, 0): 0.0, (310, 1): 0.0, (310, 2): 0.0, (310, 3): 0.0, (310, 4): 0.0, (310, 5): 0.0, (310, 6): 0.0, (310, 7): 0.0, (310, 8): 0.0, (310, 9): 0.0, (310, 10): 0.0, (310, 11): 0.0, (310, 12): 0.0, (310, 13): 0.0, (310, 14): 0.0, (310, 15): 0.0, (310, 16): 0.0, (392, 0): 0.0, (392, 1): 0.0, (392, 2): 0.0, (392, 3): 0.0, (392, 4): 0.0, (392, 5): 0.0, (392, 6): 0.0, (392, 7): 0.0, (392, 8): 0.0, (392, 9): 0.0, (392, 10): 0.0, (392, 11): 0.0, (392, 12): 0.0, (392, 13): 0.0, (392, 14): 0.0, (392, 15): 0.0, (392, 16): 0.0, (71, 0): 0.0, (71, 1): 0.0, (71, 2): 0.0, (71, 3): 0.0, (71, 4): 0.0, (71, 5): 0.0, (71, 6): 0.0, (71, 7): 0.0, (71, 8): 0.0, (71, 9): 0.0, (71, 10): 0.0, (71, 11): 0.0, (71, 12): 0.0, (71, 13): 0.0, (71, 14): 0.0, (71, 15): 0.0, (71, 16): 0.0, (463, 0): 0.0, (463, 1): 0.0, (463, 2): 0.0, (463, 3): 0.0, (463, 4): 0.0, (463, 5): 0.0, (463, 6): 0.0, (463, 7): 0.0, (463, 8): 0.0, (463, 9): 0.0, (463, 10): 0.0, (463, 11): 0.0, (463, 12): 0.0, (463, 13): 0.0, (463, 14): 0.0, (463, 15): 0.0, (463, 16): 0.0, (113, 0): 0.0, (113, 1): 0.0, (113, 2): 0.0, (113, 3): 0.0, (113, 4): 0.0, (113, 5): 0.0, (113, 6): 0.0, (113, 7): 0.0, (113, 8): 0.0, (113, 9): 0.0, (113, 10): 0.0, (113, 11): 0.0, (113, 12): 0.0, (113, 13): 0.0, (113, 14): 0.0, (113, 15): 0.0, (113, 16): 0.0, (142, 0): 0.0, (142, 1): 0.0, (142, 2): 0.0, (142, 3): 0.0, (142, 4): 0.0, (142, 5): 0.0, (142, 6): 0.0, (142, 7): 0.0, (142, 8): 0.0, (142, 9): 0.0, (142, 10): 0.0, (142, 11): 0.0, (142, 12): 0.0, (142, 13): 0.0, (142, 14): 0.0, (142, 15): 0.0, (142, 16): 0.0, (280, 0): 0.0, (280, 1): 0.0, (280, 2): 0.0, (280, 3): 0.0, (280, 4): 0.0, (280, 5): 0.0, (280, 6): 0.0, (280, 7): 0.0, (280, 8): 0.0, (280, 9): 0.0, (280, 10): 0.0, (280, 11): 0.0, (280, 12): 0.0, (280, 13): 0.0, (280, 14): 0.0, (280, 15): 0.0, (280, 16): 0.0, (479, 0): 0.0, (479, 1): 0.0, (479, 2): 0.0, (479, 3): 0.0, (479, 4): 0.0, (479, 5): 0.0, (479, 6): 0.0, (479, 7): 0.0, (479, 8): 0.0, (479, 9): 0.0, (479, 10): 0.0, (479, 11): 0.0, (479, 12): 0.0, (479, 13): 0.0, (479, 14): 0.0, (479, 15): 0.0, (479, 16): 0.0, (193, 0): 0.0, (193, 1): 0.0, (193, 2): 0.0, (193, 3): 0.0, (193, 4): 0.0, (193, 5): 0.0, (193, 6): 0.0, (193, 7): 0.0, (193, 8): 0.0, (193, 9): 0.0, (193, 10): 0.0, (193, 11): 0.0, (193, 12): 0.0, (193, 13): 0.0, (193, 14): 0.0, (193, 15): 0.0, (193, 16): 0.0, (149, 0): 0.0, (149, 1): 0.0, (149, 2): 0.0, (149, 3): 0.0, (149, 4): 0.0, (149, 5): 0.0, (149, 6): 0.0, (149, 7): 0.0, (149, 8): 0.0, (149, 9): 0.0, (149, 10): 0.0, (149, 11): 0.0, (149, 12): 0.0, (149, 13): 0.0, (149, 14): 0.0, (149, 15): 0.0, (149, 16): 0.0, (112, 0): 0.0, (112, 1): 0.0, (112, 2): 0.0, (112, 3): 0.0, (112, 4): 0.0, (112, 5): 0.0, (112, 6): 0.0, (112, 7): 0.0, (112, 8): 0.0, (112, 9): 0.0, (112, 10): 0.0, (112, 11): 0.0, (112, 12): 0.0, (112, 13): 0.0, (112, 14): 0.0, (112, 15): 0.0, (112, 16): 0.0, (191, 0): 0.0, (191, 1): 0.0, (191, 2): 0.0, (191, 3): 0.0, (191, 4): 0.0, (191, 5): 0.0, (191, 6): 0.0, (191, 7): 0.0, (191, 8): 0.0, (191, 9): 0.0, (191, 10): 0.0, (191, 11): 0.0, (191, 12): 0.0, (191, 13): 0.0, (191, 14): 0.0, (191, 15): 0.0, (191, 16): 0.0, (437, 0): 0.0, (437, 1): 0.0, (437, 2): 0.0, (437, 3): 0.0, (437, 4): 1.0, (437, 5): 0.0, (437, 6): 0.0, (437, 7): 0.0, (437, 8): 0.0, (437, 9): 0.0, (437, 10): 0.0, (437, 11): 0.0, (437, 12): 0.0, (437, 13): 0.0, (437, 14): 0.0, (437, 15): 0.0, (437, 16): 0.0, (487, 0): 0.0, (487, 1): 0.0, (487, 2): 0.0, (487, 3): 0.0, (487, 4): 0.0, (487, 5): 0.0, (487, 6): 0.0, (487, 7): 0.0, (487, 8): 0.0, (487, 9): 0.0, (487, 10): 0.0, (487, 11): 0.0, (487, 12): 0.0, (487, 13): 0.0, (487, 14): 0.0, (487, 15): 0.0, (487, 16): 0.0, (386, 0): 0.0, (386, 1): 0.0, (386, 2): 0.0, (386, 3): 0.0, (386, 4): 0.0, (386, 5): 0.0, (386, 6): 0.0, (386, 7): 0.0, (386, 8): 0.0, (386, 9): 0.0, (386, 10): 0.0, (386, 11): 0.0, (386, 12): 0.0, (386, 13): 0.0, (386, 14): 0.0, (386, 15): 0.0, (386, 16): 0.0, (3, 0): 0.0, (3, 1): 0.0, (3, 2): 0.0, (3, 3): 0.0, (3, 4): 0.0, (3, 5): 0.0, (3, 6): 0.0, (3, 7): 0.0, (3, 8): 0.0, (3, 9): 0.0, (3, 10): 0.0, (3, 11): 0.0, (3, 12): 0.0, (3, 13): 0.0, (3, 14): 0.0, (3, 15): 0.0, (3, 16): 0.0, (308, 0): 0.0, (308, 1): 0.0, (308, 2): 0.0, (308, 3): 0.0, (308, 4): 0.0, (308, 5): 0.0, (308, 6): 0.0, (308, 7): 0.0, (308, 8): 0.0, (308, 9): 0.0, (308, 10): 0.0, (308, 11): 0.0, (308, 12): 0.0, (308, 13): 0.0, (308, 14): 0.0, (308, 15): 0.0, (308, 16): 0.0, (415, 0): 0.0, (415, 1): 0.0, (415, 2): 0.0, (415, 3): 0.0, (415, 4): 0.0, (415, 5): 0.0, (415, 6): 0.0, (415, 7): 0.0, (415, 8): 0.0, (415, 9): 0.0, (415, 10): 0.0, (415, 11): 0.0, (415, 12): 0.0, (415, 13): 0.0, (415, 14): 0.0, (415, 15): 0.0, (415, 16): 0.0, (473, 0): 0.0, (473, 1): 0.0, (473, 2): 0.0, (473, 3): 0.0, (473, 4): 0.0, (473, 5): 0.0, (473, 6): 0.0, (473, 7): 0.0, (473, 8): 0.0, (473, 9): 0.0, (473, 10): 0.0, (473, 11): 0.0, (473, 12): 0.0, (473, 13): 0.0, (473, 14): 0.0, (473, 15): 0.0, (473, 16): 0.0, (494, 0): 0.0, (494, 1): 0.0, (494, 2): 0.0, (494, 3): 0.0, (494, 4): 0.0, (494, 5): 0.0, (494, 6): 0.0, (494, 7): 0.0, (494, 8): 0.0, (494, 9): 0.0, (494, 10): 0.0, (494, 11): 0.0, (494, 12): 0.0, (494, 13): 0.0, (494, 14): 0.0, (494, 15): 0.0, (494, 16): 0.0, (295, 0): 0.0, (295, 1): 0.0, (295, 2): 0.0, (295, 3): 0.0, (295, 4): 0.0, (295, 5): 0.0, (295, 6): 0.0, (295, 7): 0.0, (295, 8): 0.0, (295, 9): 0.0, (295, 10): 0.0, (295, 11): 0.0, (295, 12): 0.0, (295, 13): 0.0, (295, 14): 0.0, (295, 15): 0.0, (295, 16): 0.0, (443, 0): 0.0, (443, 1): 0.0, (443, 2): 0.0, (443, 3): 0.0, (443, 4): 0.0, (443, 5): 0.0, (443, 6): 0.0, (443, 7): 0.0, (443, 8): 0.0, (443, 9): 0.0, (443, 10): 0.0, (443, 11): 0.0, (443, 12): 0.0, (443, 13): 0.0, (443, 14): 0.0, (443, 15): 0.0, (443, 16): 0.0, (32, 0): 0.0, (32, 1): 0.0, (32, 2): 0.0, (32, 3): 0.0, (32, 4): 0.0, (32, 5): 0.0, (32, 6): 0.0, (32, 7): 0.0, (32, 8): 0.0, (32, 9): 0.0, (32, 10): 0.0, (32, 11): 0.0, (32, 12): 0.0, (32, 13): 0.0, (32, 14): 0.0, (32, 15): 0.0, (32, 16): 0.0, (275, 0): 0.0, (275, 1): 0.0, (275, 2): 0.0, (275, 3): 0.0, (275, 4): 0.0, (275, 5): 0.0, (275, 6): 0.0, (275, 7): 0.0, (275, 8): 0.0, (275, 9): 0.0, (275, 10): 0.0, (275, 11): 0.0, (275, 12): 0.0, (275, 13): 0.0, (275, 14): 0.0, (275, 15): 0.0, (275, 16): 0.0, (173, 0): 0.0, (173, 1): 0.0, (173, 2): 0.0, (173, 3): 0.0, (173, 4): 0.0, (173, 5): 0.0, (173, 6): 0.0, (173, 7): 0.0, (173, 8): 0.0, (173, 9): 0.0, (173, 10): 0.0, (173, 11): 0.0, (173, 12): 0.0, (173, 13): 0.0, (173, 14): 0.0, (173, 15): 0.0, (173, 16): 0.0, (134, 0): 0.0, (134, 1): 0.0, (134, 2): 0.0, (134, 3): 0.0, (134, 4): 0.0, (134, 5): 0.0, (134, 6): 0.0, (134, 7): 0.0, (134, 8): 0.0, (134, 9): 0.0, (134, 10): 0.0, (134, 11): 0.0, (134, 12): 0.0, (134, 13): 0.0, (134, 14): 0.0, (134, 15): 0.0, (134, 16): 0.0, (480, 0): 0.0, (480, 1): 0.0, (480, 2): 0.0, (480, 3): 0.0, (480, 4): 0.0, (480, 5): 0.0, (480, 6): 0.0, (480, 7): 0.0, (480, 8): 0.0, (480, 9): 0.0, (480, 10): 0.0, (480, 11): 0.0, (480, 12): 0.0, (480, 13): 0.0, (480, 14): 0.0, (480, 15): 0.0, (480, 16): 0.0, (49, 0): 0.0, (49, 1): 0.0, (49, 2): 0.0, (49, 3): 0.0, (49, 4): 0.0, (49, 5): 0.0, (49, 6): 0.0, (49, 7): 0.0, (49, 8): 0.0, (49, 9): 0.0, (49, 10): 0.0, (49, 11): 0.0, (49, 12): 0.0, (49, 13): 0.0, (49, 14): 0.0, (49, 15): 0.0, (49, 16): 0.0, (318, 0): 0.0, (318, 1): 0.0, (318, 2): 0.0, (318, 3): 0.0, (318, 4): 0.0, (318, 5): 0.0, (318, 6): 0.0, (318, 7): 0.0, (318, 8): 0.0, (318, 9): 0.0, (318, 10): 0.0, (318, 11): 0.0, (318, 12): 0.0, (318, 13): 0.0, (318, 14): 0.0, (318, 15): 0.0, (318, 16): 0.0, (159, 0): 0.0, (159, 1): 0.0, (159, 2): 0.0, (159, 3): 0.0, (159, 4): 0.0, (159, 5): 0.0, (159, 6): 0.0, (159, 7): 0.0, (159, 8): 0.0, (159, 9): 0.0, (159, 10): 0.0, (159, 11): 0.0, (159, 12): 0.0, (159, 13): 0.0, (159, 14): 0.0, (159, 15): 0.0, (159, 16): 0.0, (16, 0): 0.0, (16, 1): 0.0, (16, 2): 0.0, (16, 3): 0.0, (16, 4): 0.0, (16, 5): 0.0, (16, 6): 0.0, (16, 7): 0.0, (16, 8): 0.0, (16, 9): 0.0, (16, 10): 0.0, (16, 11): 0.0, (16, 12): 0.0, (16, 13): 0.0, (16, 14): 0.0, (16, 15): 0.0, (16, 16): 0.0, (362, 0): 0.0, (362, 1): 0.0, (362, 2): 0.0, (362, 3): 0.0, (362, 4): 0.0, (362, 5): 0.0, (362, 6): 0.0, (362, 7): 0.0, (362, 8): 0.0, (362, 9): 0.0, (362, 10): 0.0, (362, 11): 0.0, (362, 12): 0.0, (362, 13): 0.0, (362, 14): 0.0, (362, 15): 0.0, (362, 16): 0.0, (215, 0): 0.0, (215, 1): 0.0, (215, 2): 0.0, (215, 3): 0.0, (215, 4): 0.0, (215, 5): 0.0, (215, 6): 0.0, (215, 7): 0.0, (215, 8): 0.0, (215, 9): 0.0, (215, 10): 0.0, (215, 11): 0.0, (215, 12): 0.0, (215, 13): 0.0, (215, 14): 0.0, (215, 15): 0.0, (215, 16): 0.0, (146, 0): 0.0, (146, 1): 0.0, (146, 2): 0.0, (146, 3): 0.0, (146, 4): 0.0, (146, 5): 0.0, (146, 6): 0.0, (146, 7): 0.0, (146, 8): 0.0, (146, 9): 0.0, (146, 10): 0.0, (146, 11): 0.0, (146, 12): 0.0, (146, 13): 0.0, (146, 14): 0.0, (146, 15): 0.0, (146, 16): 0.0, (408, 0): 0.0, (408, 1): 0.0, (408, 2): 0.0, (408, 3): 0.0, (408, 4): 0.0, (408, 5): 0.0, (408, 6): 0.0, (408, 7): 0.0, (408, 8): 0.0, (408, 9): 0.0, (408, 10): 0.0, (408, 11): 0.0, (408, 12): 0.0, (408, 13): 0.0, (408, 14): 0.0, (408, 15): 0.0, (408, 16): 0.0, (40, 0): 0.0, (40, 1): 0.0, (40, 2): 0.0, (40, 3): 0.0, (40, 4): 0.0, (40, 5): 0.0, (40, 6): 0.0, (40, 7): 0.0, (40, 8): 0.0, (40, 9): 0.0, (40, 10): 0.0, (40, 11): 0.0, (40, 12): 0.0, (40, 13): 0.0, (40, 14): 0.0, (40, 15): 0.0, (40, 16): 0.0, (85, 0): 0.0, (85, 1): 0.0, (85, 2): 0.0, (85, 3): 0.0, (85, 4): 0.0, (85, 5): 0.0, (85, 6): 0.0, (85, 7): 0.0, (85, 8): 0.0, (85, 9): 0.0, (85, 10): 0.0, (85, 11): 0.0, (85, 12): 0.0, (85, 13): 0.0, (85, 14): 0.0, (85, 15): 0.0, (85, 16): 0.0, (21, 0): 0.0, (21, 1): 0.0, (21, 2): 0.0, (21, 3): 0.0, (21, 4): 0.0, (21, 5): 0.0, (21, 6): 0.0, (21, 7): 0.0, (21, 8): 0.0, (21, 9): 0.0, (21, 10): 0.0, (21, 11): 0.0, (21, 12): 0.0, (21, 13): 0.0, (21, 14): 0.0, (21, 15): 0.0, (21, 16): 0.0, (441, 0): 0.0, (441, 1): 0.0, (441, 2): 0.0, (441, 3): 0.0, (441, 4): 0.0, (441, 5): 0.0, (441, 6): 0.0, (441, 7): 0.0, (441, 8): 0.0, (441, 9): 0.0, (441, 10): 0.0, (441, 11): 0.0, (441, 12): 0.0, (441, 13): 0.0, (441, 14): 0.0, (441, 15): 0.0, (441, 16): 0.0, (241, 0): 0.0, (241, 1): 0.0, (241, 2): 0.0, (241, 3): 0.0, (241, 4): 0.0, (241, 5): 0.0, (241, 6): 0.0, (241, 7): 0.0, (241, 8): 0.0, (241, 9): 0.0, (241, 10): 0.0, (241, 11): 0.0, (241, 12): 0.0, (241, 13): 0.0, (241, 14): 0.0, (241, 15): 0.0, (241, 16): 0.0, (322, 0): 0.0, (322, 1): 0.0, (322, 2): 0.0, (322, 3): 0.0, (322, 4): 0.0, (322, 5): 0.0, (322, 6): 0.0, (322, 7): 0.0, (322, 8): 0.0, (322, 9): 0.0, (322, 10): 0.0, (322, 11): 0.0, (322, 12): 0.0, (322, 13): 0.0, (322, 14): 0.0, (322, 15): 0.0, (322, 16): 0.0, (338, 0): 0.0, (338, 1): 0.0, (338, 2): 0.0, (338, 3): 0.0, (338, 4): 0.0, (338, 5): 0.0, (338, 6): 0.0, (338, 7): 0.0, (338, 8): 0.0, (338, 9): 0.0, (338, 10): 0.0, (338, 11): 0.0, (338, 12): 0.0, (338, 13): 0.0, (338, 14): 0.0, (338, 15): 0.0, (338, 16): 0.0, (84, 0): 0.0, (84, 1): 0.0, (84, 2): 0.0, (84, 3): 0.0, (84, 4): 0.0, (84, 5): 0.0, (84, 6): 0.0, (84, 7): 0.0, (84, 8): 0.0, (84, 9): 0.0, (84, 10): 0.0, (84, 11): 0.0, (84, 12): 0.0, (84, 13): 0.0, (84, 14): 0.0, (84, 15): 0.0, (84, 16): 0.0, (78, 0): 0.0, (78, 1): 0.0, (78, 2): 0.0, (78, 3): 0.0, (78, 4): 0.0, (78, 5): 0.0, (78, 6): 0.0, (78, 7): 0.0, (78, 8): 0.0, (78, 9): 0.0, (78, 10): 0.0, (78, 11): 0.0, (78, 12): 0.0, (78, 13): 0.0, (78, 14): 0.0, (78, 15): 0.0, (78, 16): 0.0, (373, 0): 0.0, (373, 1): 0.0, (373, 2): 0.0, (373, 3): 0.0, (373, 4): 0.0, (373, 5): 0.0, (373, 6): 0.0, (373, 7): 0.0, (373, 8): 0.0, (373, 9): 0.0, (373, 10): 0.0, (373, 11): 0.0, (373, 12): 0.0, (373, 13): 0.0, (373, 14): 0.0, (373, 15): 0.0, (373, 16): 0.0, (64, 0): 0.0, (64, 1): 0.0, (64, 2): 0.0, (64, 3): 0.0, (64, 4): 0.0, (64, 5): 0.0, (64, 6): 0.0, (64, 7): 0.0, (64, 8): 0.0, (64, 9): 0.0, (64, 10): 0.0, (64, 11): 0.0, (64, 12): 0.0, (64, 13): 0.0, (64, 14): 0.0, (64, 15): 0.0, (64, 16): 0.0, (469, 0): 0.0, (469, 1): 0.0, (469, 2): 0.0, (469, 3): 0.0, (469, 4): 0.0, (469, 5): 0.0, (469, 6): 0.0, (469, 7): 0.0, (469, 8): 0.0, (469, 9): 0.0, (469, 10): 0.0, (469, 11): 0.0, (469, 12): 0.0, (469, 13): 0.0, (469, 14): 0.0, (469, 15): 0.0, (469, 16): 0.0, (430, 0): 0.0, (430, 1): 0.0, (430, 2): 0.0, (430, 3): 0.0, (430, 4): 1.0, (430, 5): 0.0, (430, 6): 0.0, (430, 7): 0.0, (430, 8): 0.0, (430, 9): 0.0, (430, 10): 0.0, (430, 11): 0.0, (430, 12): 0.0, (430, 13): 0.0, (430, 14): 0.0, (430, 15): 0.0, (430, 16): 0.0, (14, 0): 0.0, (14, 1): 0.0, (14, 2): 0.0, (14, 3): 0.0, (14, 4): 0.0, (14, 5): 0.0, (14, 6): 0.0, (14, 7): 0.0, (14, 8): 0.0, (14, 9): 0.0, (14, 10): 0.0, (14, 11): 0.0, (14, 12): 0.0, (14, 13): 0.0, (14, 14): 0.0, (14, 15): 0.0, (14, 16): 0.0, (70, 0): 0.0, (70, 1): 0.0, (70, 2): 0.0, (70, 3): 0.0, (70, 4): 0.0, (70, 5): 0.0, (70, 6): 0.0, (70, 7): 0.0, (70, 8): 0.0, (70, 9): 0.0, (70, 10): 0.0, (70, 11): 0.0, (70, 12): 0.0, (70, 13): 0.0, (70, 14): 0.0, (70, 15): 0.0, (70, 16): 0.0, (483, 0): 0.0, (483, 1): 0.0, (483, 2): 0.0, (483, 3): 0.0, (483, 4): 0.0, (483, 5): 0.0, (483, 6): 0.0, (483, 7): 0.0, (483, 8): 0.0, (483, 9): 0.0, (483, 10): 0.0, (483, 11): 0.0, (483, 12): 0.0, (483, 13): 0.0, (483, 14): 0.0, (483, 15): 0.0, (483, 16): 0.0, (405, 0): 0.0, (405, 1): 0.0, (405, 2): 0.0, (405, 3): 0.0, (405, 4): 0.0, (405, 5): 0.0, (405, 6): 0.0, (405, 7): 0.0, (405, 8): 0.0, (405, 9): 0.0, (405, 10): 0.0, (405, 11): 0.0, (405, 12): 0.0, (405, 13): 0.0, (405, 14): 0.0, (405, 15): 0.0, (405, 16): 0.0, (356, 0): 0.0, (356, 1): 0.0, (356, 2): 0.0, (356, 3): 0.0, (356, 4): 0.0, (356, 5): 0.0, (356, 6): 0.0, (356, 7): 0.0, (356, 8): 0.0, (356, 9): 0.0, (356, 10): 0.0, (356, 11): 0.0, (356, 12): 0.0, (356, 13): 0.0, (356, 14): 0.0, (356, 15): 0.0, (356, 16): 0.0, (419, 0): 0.0, (419, 1): 0.0, (419, 2): 0.0, (419, 3): 0.0, (419, 4): 0.0, (419, 5): 0.0, (419, 6): 0.0, (419, 7): 0.0, (419, 8): 0.0, (419, 9): 0.0, (419, 10): 0.0, (419, 11): 0.0, (419, 12): 0.0, (419, 13): 0.0, (419, 14): 0.0, (419, 15): 0.0, (419, 16): 0.0, (37, 0): 0.0, (37, 1): 0.0, (37, 2): 0.0, (37, 3): 0.0, (37, 4): 0.0, (37, 5): 0.0, (37, 6): 0.0, (37, 7): 0.0, (37, 8): 0.0, (37, 9): 0.0, (37, 10): 0.0, (37, 11): 0.0, (37, 12): 0.0, (37, 13): 0.0, (37, 14): 0.0, (37, 15): 0.0, (37, 16): 0.0, (161, 0): 0.0, (161, 1): 0.0, (161, 2): 0.0, (161, 3): 0.0, (161, 4): 0.0, (161, 5): 0.0, (161, 6): 0.0, (161, 7): 0.0, (161, 8): 0.0, (161, 9): 0.0, (161, 10): 0.0, (161, 11): 0.0, (161, 12): 0.0, (161, 13): 0.0, (161, 14): 0.0, (161, 15): 0.0, (161, 16): 0.0, (154, 0): 0.0, (154, 1): 0.0, (154, 2): 0.0, (154, 3): 0.0, (154, 4): 0.0, (154, 5): 0.0, (154, 6): 0.0, (154, 7): 0.0, (154, 8): 0.0, (154, 9): 0.0, (154, 10): 0.0, (154, 11): 0.0, (154, 12): 0.0, (154, 13): 0.0, (154, 14): 0.0, (154, 15): 0.0, (154, 16): 0.0, (346, 0): 0.0, (346, 1): 0.0, (346, 2): 0.0, (346, 3): 0.0, (346, 4): 0.0, (346, 5): 0.0, (346, 6): 0.0, (346, 7): 0.0, (346, 8): 0.0, (346, 9): 0.0, (346, 10): 0.0, (346, 11): 0.0, (346, 12): 0.0, (346, 13): 0.0, (346, 14): 0.0, (346, 15): 0.0, (346, 16): 0.0, (477, 0): 0.0, (477, 1): 0.0, (477, 2): 0.0, (477, 3): 0.0, (477, 4): 0.0, (477, 5): 0.0, (477, 6): 0.0, (477, 7): 0.0, (477, 8): 0.0, (477, 9): 0.0, (477, 10): 0.0, (477, 11): 0.0, (477, 12): 0.0, (477, 13): 0.0, (477, 14): 0.0, (477, 15): 0.0, (477, 16): 0.0}\n",
     "output_type": "stream"
    },
    {
     "output_type": "execute_result",
     "execution_count": 124,
     "data": {
      "application/vnd.deepnote.dataframe.v3+json": {
       "column_count": 7,
       "row_count": 25,
       "columns": [
        {
         "name": "day",
         "dtype": "datetime64[ns]",
         "stats": {
          "unique_count": 12,
          "nan_count": 0,
          "min": "2022-02-17 00:00:00",
          "max": "2022-03-10 00:00:00",
          "histogram": [
           {
            "bin_start": 1645056000000000000,
            "bin_end": 1645237440000000000,
            "count": 1
           },
           {
            "bin_start": 1645237440000000000,
            "bin_end": 1645418880000000000,
            "count": 1
           },
           {
            "bin_start": 1645418880000000000,
            "bin_end": 1645600320000000000,
            "count": 4
           },
           {
            "bin_start": 1645600320000000000,
            "bin_end": 1645781760000000000,
            "count": 1
           },
           {
            "bin_start": 1645781760000000000,
            "bin_end": 1645963200000000000,
            "count": 0
           },
           {
            "bin_start": 1645963200000000000,
            "bin_end": 1646144640000000000,
            "count": 0
           },
           {
            "bin_start": 1646144640000000000,
            "bin_end": 1646326080000000000,
            "count": 3
           },
           {
            "bin_start": 1646326080000000000,
            "bin_end": 1646507520000000000,
            "count": 1
           },
           {
            "bin_start": 1646507520000000000,
            "bin_end": 1646688960000000000,
            "count": 1
           },
           {
            "bin_start": 1646688960000000000,
            "bin_end": 1646870400000000000,
            "count": 13
           }
          ]
         }
        },
        {
         "name": "day_nr",
         "dtype": "int64",
         "stats": {
          "unique_count": 12,
          "nan_count": 0,
          "min": "1",
          "max": "16",
          "histogram": [
           {
            "bin_start": 1,
            "bin_end": 2.5,
            "count": 1
           },
           {
            "bin_start": 2.5,
            "bin_end": 4,
            "count": 1
           },
           {
            "bin_start": 4,
            "bin_end": 5.5,
            "count": 4
           },
           {
            "bin_start": 5.5,
            "bin_end": 7,
            "count": 0
           },
           {
            "bin_start": 7,
            "bin_end": 8.5,
            "count": 1
           },
           {
            "bin_start": 8.5,
            "bin_end": 10,
            "count": 0
           },
           {
            "bin_start": 10,
            "bin_end": 11.5,
            "count": 3
           },
           {
            "bin_start": 11.5,
            "bin_end": 13,
            "count": 1
           },
           {
            "bin_start": 13,
            "bin_end": 14.5,
            "count": 5
           },
           {
            "bin_start": 14.5,
            "bin_end": 16,
            "count": 9
           }
          ]
         }
        },
        {
         "name": "article_number",
         "dtype": "int64",
         "stats": {
          "unique_count": 20,
          "nan_count": 0,
          "min": "11",
          "max": "437",
          "histogram": [
           {
            "bin_start": 11,
            "bin_end": 53.6,
            "count": 5
           },
           {
            "bin_start": 53.6,
            "bin_end": 96.2,
            "count": 4
           },
           {
            "bin_start": 96.2,
            "bin_end": 138.8,
            "count": 3
           },
           {
            "bin_start": 138.8,
            "bin_end": 181.4,
            "count": 3
           },
           {
            "bin_start": 181.4,
            "bin_end": 224,
            "count": 2
           },
           {
            "bin_start": 224,
            "bin_end": 266.6,
            "count": 1
           },
           {
            "bin_start": 266.6,
            "bin_end": 309.2,
            "count": 2
           },
           {
            "bin_start": 309.2,
            "bin_end": 351.8,
            "count": 0
           },
           {
            "bin_start": 351.8,
            "bin_end": 394.40000000000003,
            "count": 1
           },
           {
            "bin_start": 394.40000000000003,
            "bin_end": 437,
            "count": 4
           }
          ]
         }
        },
        {
         "name": "quantity_batch",
         "dtype": "float64",
         "stats": {
          "unique_count": 11,
          "nan_count": 0,
          "min": "1.0",
          "max": "22.0",
          "histogram": [
           {
            "bin_start": 1,
            "bin_end": 3.1,
            "count": 14
           },
           {
            "bin_start": 3.1,
            "bin_end": 5.2,
            "count": 2
           },
           {
            "bin_start": 5.2,
            "bin_end": 7.300000000000001,
            "count": 3
           },
           {
            "bin_start": 7.300000000000001,
            "bin_end": 9.4,
            "count": 1
           },
           {
            "bin_start": 9.4,
            "bin_end": 11.5,
            "count": 2
           },
           {
            "bin_start": 11.5,
            "bin_end": 13.600000000000001,
            "count": 1
           },
           {
            "bin_start": 13.600000000000001,
            "bin_end": 15.700000000000001,
            "count": 0
           },
           {
            "bin_start": 15.700000000000001,
            "bin_end": 17.8,
            "count": 0
           },
           {
            "bin_start": 17.8,
            "bin_end": 19.900000000000002,
            "count": 1
           },
           {
            "bin_start": 19.900000000000002,
            "bin_end": 22,
            "count": 1
           }
          ]
         }
        },
        {
         "name": "quantity",
         "dtype": "float64",
         "stats": {
          "unique_count": 11,
          "nan_count": 0,
          "min": "16.0",
          "max": "352.0",
          "histogram": [
           {
            "bin_start": 16,
            "bin_end": 49.6,
            "count": 14
           },
           {
            "bin_start": 49.6,
            "bin_end": 83.2,
            "count": 2
           },
           {
            "bin_start": 83.2,
            "bin_end": 116.80000000000001,
            "count": 3
           },
           {
            "bin_start": 116.80000000000001,
            "bin_end": 150.4,
            "count": 1
           },
           {
            "bin_start": 150.4,
            "bin_end": 184,
            "count": 2
           },
           {
            "bin_start": 184,
            "bin_end": 217.60000000000002,
            "count": 1
           },
           {
            "bin_start": 217.60000000000002,
            "bin_end": 251.20000000000002,
            "count": 0
           },
           {
            "bin_start": 251.20000000000002,
            "bin_end": 284.8,
            "count": 0
           },
           {
            "bin_start": 284.8,
            "bin_end": 318.40000000000003,
            "count": 1
           },
           {
            "bin_start": 318.40000000000003,
            "bin_end": 352,
            "count": 1
           }
          ]
         }
        },
        {
         "name": "article_revenue",
         "dtype": "int64",
         "stats": {
          "unique_count": 20,
          "nan_count": 0,
          "min": "771",
          "max": "1763",
          "histogram": [
           {
            "bin_start": 771,
            "bin_end": 870.2,
            "count": 2
           },
           {
            "bin_start": 870.2,
            "bin_end": 969.4,
            "count": 1
           },
           {
            "bin_start": 969.4,
            "bin_end": 1068.6,
            "count": 3
           },
           {
            "bin_start": 1068.6,
            "bin_end": 1167.8,
            "count": 0
           },
           {
            "bin_start": 1167.8,
            "bin_end": 1267,
            "count": 8
           },
           {
            "bin_start": 1267,
            "bin_end": 1366.2,
            "count": 2
           },
           {
            "bin_start": 1366.2,
            "bin_end": 1465.4,
            "count": 2
           },
           {
            "bin_start": 1465.4,
            "bin_end": 1564.6,
            "count": 1
           },
           {
            "bin_start": 1564.6,
            "bin_end": 1663.8000000000002,
            "count": 2
           },
           {
            "bin_start": 1663.8000000000002,
            "bin_end": 1763,
            "count": 4
           }
          ]
         }
        },
        {
         "name": "revenue_total",
         "dtype": "float64",
         "stats": {
          "unique_count": 24,
          "nan_count": 0,
          "min": "12336.0",
          "max": "567776.0",
          "histogram": [
           {
            "bin_start": 12336,
            "bin_end": 67880,
            "count": 13
           },
           {
            "bin_start": 67880,
            "bin_end": 123424,
            "count": 4
           },
           {
            "bin_start": 123424,
            "bin_end": 178968,
            "count": 3
           },
           {
            "bin_start": 178968,
            "bin_end": 234512,
            "count": 2
           },
           {
            "bin_start": 234512,
            "bin_end": 290056,
            "count": 1
           },
           {
            "bin_start": 290056,
            "bin_end": 345600,
            "count": 0
           },
           {
            "bin_start": 345600,
            "bin_end": 401144,
            "count": 1
           },
           {
            "bin_start": 401144,
            "bin_end": 456688,
            "count": 0
           },
           {
            "bin_start": 456688,
            "bin_end": 512232,
            "count": 0
           },
           {
            "bin_start": 512232,
            "bin_end": 567776,
            "count": 1
           }
          ]
         }
        },
        {
         "name": "_deepnote_index_column",
         "dtype": "int64"
        }
       ],
       "rows": [
        {
         "day": "2022-02-17T00:00:00.000000",
         "day_nr": 1,
         "article_number": 287,
         "quantity_batch": 13,
         "quantity": 208,
         "article_revenue": 1340,
         "revenue_total": 278720,
         "_deepnote_index_column": 477
        },
        {
         "day": "2022-02-21T00:00:00.000000",
         "day_nr": 3,
         "article_number": 11,
         "quantity_batch": 1,
         "quantity": 16,
         "article_revenue": 1028,
         "revenue_total": 16448,
         "_deepnote_index_column": 4219
        },
        {
         "day": "2022-02-22T00:00:00.000000",
         "day_nr": 4,
         "article_number": 66,
         "quantity_batch": 1,
         "quantity": 16,
         "article_revenue": 1186,
         "revenue_total": 18976,
         "_deepnote_index_column": 1058
        },
        {
         "day": "2022-02-22T00:00:00.000000",
         "day_nr": 4,
         "article_number": 430,
         "quantity_batch": 1,
         "quantity": 16,
         "article_revenue": 1673,
         "revenue_total": 26768,
         "_deepnote_index_column": 8215
        },
        {
         "day": "2022-02-22T00:00:00.000000",
         "day_nr": 4,
         "article_number": 437,
         "quantity_batch": 1,
         "quantity": 16,
         "article_revenue": 1194,
         "revenue_total": 19104,
         "_deepnote_index_column": 7620
        },
        {
         "day": "2022-02-23T00:00:00.000000",
         "day_nr": 5,
         "article_number": 174,
         "quantity_batch": 1,
         "quantity": 16,
         "article_revenue": 915,
         "revenue_total": 14640,
         "_deepnote_index_column": 617
        },
        {
         "day": "2022-02-25T00:00:00.000000",
         "day_nr": 7,
         "article_number": 124,
         "quantity_batch": 1,
         "quantity": 16,
         "article_revenue": 1046,
         "revenue_total": 16736,
         "_deepnote_index_column": 2217
        },
        {
         "day": "2022-03-02T00:00:00.000000",
         "day_nr": 10,
         "article_number": 44,
         "quantity_batch": 1,
         "quantity": 16,
         "article_revenue": 1763,
         "revenue_total": 28208,
         "_deepnote_index_column": 6249
        },
        {
         "day": "2022-03-03T00:00:00.000000",
         "day_nr": 11,
         "article_number": 44,
         "quantity_batch": 2,
         "quantity": 32,
         "article_revenue": 1763,
         "revenue_total": 56416,
         "_deepnote_index_column": 6250
        },
        {
         "day": "2022-03-03T00:00:00.000000",
         "day_nr": 11,
         "article_number": 404,
         "quantity_batch": 2,
         "quantity": 32,
         "article_revenue": 1222,
         "revenue_total": 39104,
         "_deepnote_index_column": 2680
        }
       ]
      },
      "text/plain": "            day  day_nr  article_number  quantity_batch  quantity  \\\n477  2022-02-17       1             287            13.0     208.0   \n4219 2022-02-21       3              11             1.0      16.0   \n1058 2022-02-22       4              66             1.0      16.0   \n8215 2022-02-22       4             430             1.0      16.0   \n7620 2022-02-22       4             437             1.0      16.0   \n617  2022-02-23       5             174             1.0      16.0   \n2217 2022-02-25       7             124             1.0      16.0   \n6249 2022-03-02      10              44             1.0      16.0   \n6250 2022-03-03      11              44             2.0      32.0   \n2680 2022-03-03      11             404             2.0      32.0   \n6795 2022-03-04      12              98            18.0     288.0   \n5045 2022-03-07      13             265             9.0     144.0   \n6661 2022-03-08      14              67             6.0      96.0   \n6576 2022-03-08      14              79             3.0      48.0   \n2411 2022-03-08      14             137            22.0     352.0   \n7392 2022-03-08      14             417             6.0      96.0   \n457  2022-03-09      15             176             6.0      96.0   \n491  2022-03-09      15             287            10.0     160.0   \n6255 2022-03-10      16              44             1.0      16.0   \n3450 2022-03-10      16              52             2.0      32.0   \n6663 2022-03-10      16              67             2.0      32.0   \n458  2022-03-10      16             176             4.0      64.0   \n3110 2022-03-10      16             182            10.0     160.0   \n6986 2022-03-10      16             201             1.0      16.0   \n7326 2022-03-10      16             385             5.0      80.0   \n\n      article_revenue  revenue_total  \n477              1340       278720.0  \n4219             1028        16448.0  \n1058             1186        18976.0  \n8215             1673        26768.0  \n7620             1194        19104.0  \n617               915        14640.0  \n2217             1046        16736.0  \n6249             1763        28208.0  \n6250             1763        56416.0  \n2680             1222        39104.0  \n6795             1254       361152.0  \n5045             1177       169488.0  \n6661             1372       131712.0  \n6576             1530        73440.0  \n2411             1613       567776.0  \n7392             1567       150432.0  \n457              1249       119904.0  \n491              1340       214400.0  \n6255             1763        28208.0  \n3450              779        24928.0  \n6663             1372        43904.0  \n458              1249        79936.0  \n3110             1180       188800.0  \n6986              771        12336.0  \n7326             1062        84960.0  ",
      "text/html": "<div>\n<style scoped>\n    .dataframe tbody tr th:only-of-type {\n        vertical-align: middle;\n    }\n\n    .dataframe tbody tr th {\n        vertical-align: top;\n    }\n\n    .dataframe thead th {\n        text-align: right;\n    }\n</style>\n<table border=\"1\" class=\"dataframe\">\n  <thead>\n    <tr style=\"text-align: right;\">\n      <th></th>\n      <th>day</th>\n      <th>day_nr</th>\n      <th>article_number</th>\n      <th>quantity_batch</th>\n      <th>quantity</th>\n      <th>article_revenue</th>\n      <th>revenue_total</th>\n    </tr>\n  </thead>\n  <tbody>\n    <tr>\n      <th>477</th>\n      <td>2022-02-17</td>\n      <td>1</td>\n      <td>287</td>\n      <td>13.0</td>\n      <td>208.0</td>\n      <td>1340</td>\n      <td>278720.0</td>\n    </tr>\n    <tr>\n      <th>4219</th>\n      <td>2022-02-21</td>\n      <td>3</td>\n      <td>11</td>\n      <td>1.0</td>\n      <td>16.0</td>\n      <td>1028</td>\n      <td>16448.0</td>\n    </tr>\n    <tr>\n      <th>1058</th>\n      <td>2022-02-22</td>\n      <td>4</td>\n      <td>66</td>\n      <td>1.0</td>\n      <td>16.0</td>\n      <td>1186</td>\n      <td>18976.0</td>\n    </tr>\n    <tr>\n      <th>8215</th>\n      <td>2022-02-22</td>\n      <td>4</td>\n      <td>430</td>\n      <td>1.0</td>\n      <td>16.0</td>\n      <td>1673</td>\n      <td>26768.0</td>\n    </tr>\n    <tr>\n      <th>7620</th>\n      <td>2022-02-22</td>\n      <td>4</td>\n      <td>437</td>\n      <td>1.0</td>\n      <td>16.0</td>\n      <td>1194</td>\n      <td>19104.0</td>\n    </tr>\n    <tr>\n      <th>617</th>\n      <td>2022-02-23</td>\n      <td>5</td>\n      <td>174</td>\n      <td>1.0</td>\n      <td>16.0</td>\n      <td>915</td>\n      <td>14640.0</td>\n    </tr>\n    <tr>\n      <th>2217</th>\n      <td>2022-02-25</td>\n      <td>7</td>\n      <td>124</td>\n      <td>1.0</td>\n      <td>16.0</td>\n      <td>1046</td>\n      <td>16736.0</td>\n    </tr>\n    <tr>\n      <th>6249</th>\n      <td>2022-03-02</td>\n      <td>10</td>\n      <td>44</td>\n      <td>1.0</td>\n      <td>16.0</td>\n      <td>1763</td>\n      <td>28208.0</td>\n    </tr>\n    <tr>\n      <th>6250</th>\n      <td>2022-03-03</td>\n      <td>11</td>\n      <td>44</td>\n      <td>2.0</td>\n      <td>32.0</td>\n      <td>1763</td>\n      <td>56416.0</td>\n    </tr>\n    <tr>\n      <th>2680</th>\n      <td>2022-03-03</td>\n      <td>11</td>\n      <td>404</td>\n      <td>2.0</td>\n      <td>32.0</td>\n      <td>1222</td>\n      <td>39104.0</td>\n    </tr>\n    <tr>\n      <th>6795</th>\n      <td>2022-03-04</td>\n      <td>12</td>\n      <td>98</td>\n      <td>18.0</td>\n      <td>288.0</td>\n      <td>1254</td>\n      <td>361152.0</td>\n    </tr>\n    <tr>\n      <th>5045</th>\n      <td>2022-03-07</td>\n      <td>13</td>\n      <td>265</td>\n      <td>9.0</td>\n      <td>144.0</td>\n      <td>1177</td>\n      <td>169488.0</td>\n    </tr>\n    <tr>\n      <th>6661</th>\n      <td>2022-03-08</td>\n      <td>14</td>\n      <td>67</td>\n      <td>6.0</td>\n      <td>96.0</td>\n      <td>1372</td>\n      <td>131712.0</td>\n    </tr>\n    <tr>\n      <th>6576</th>\n      <td>2022-03-08</td>\n      <td>14</td>\n      <td>79</td>\n      <td>3.0</td>\n      <td>48.0</td>\n      <td>1530</td>\n      <td>73440.0</td>\n    </tr>\n    <tr>\n      <th>2411</th>\n      <td>2022-03-08</td>\n      <td>14</td>\n      <td>137</td>\n      <td>22.0</td>\n      <td>352.0</td>\n      <td>1613</td>\n      <td>567776.0</td>\n    </tr>\n    <tr>\n      <th>7392</th>\n      <td>2022-03-08</td>\n      <td>14</td>\n      <td>417</td>\n      <td>6.0</td>\n      <td>96.0</td>\n      <td>1567</td>\n      <td>150432.0</td>\n    </tr>\n    <tr>\n      <th>457</th>\n      <td>2022-03-09</td>\n      <td>15</td>\n      <td>176</td>\n      <td>6.0</td>\n      <td>96.0</td>\n      <td>1249</td>\n      <td>119904.0</td>\n    </tr>\n    <tr>\n      <th>491</th>\n      <td>2022-03-09</td>\n      <td>15</td>\n      <td>287</td>\n      <td>10.0</td>\n      <td>160.0</td>\n      <td>1340</td>\n      <td>214400.0</td>\n    </tr>\n    <tr>\n      <th>6255</th>\n      <td>2022-03-10</td>\n      <td>16</td>\n      <td>44</td>\n      <td>1.0</td>\n      <td>16.0</td>\n      <td>1763</td>\n      <td>28208.0</td>\n    </tr>\n    <tr>\n      <th>3450</th>\n      <td>2022-03-10</td>\n      <td>16</td>\n      <td>52</td>\n      <td>2.0</td>\n      <td>32.0</td>\n      <td>779</td>\n      <td>24928.0</td>\n    </tr>\n    <tr>\n      <th>6663</th>\n      <td>2022-03-10</td>\n      <td>16</td>\n      <td>67</td>\n      <td>2.0</td>\n      <td>32.0</td>\n      <td>1372</td>\n      <td>43904.0</td>\n    </tr>\n    <tr>\n      <th>458</th>\n      <td>2022-03-10</td>\n      <td>16</td>\n      <td>176</td>\n      <td>4.0</td>\n      <td>64.0</td>\n      <td>1249</td>\n      <td>79936.0</td>\n    </tr>\n    <tr>\n      <th>3110</th>\n      <td>2022-03-10</td>\n      <td>16</td>\n      <td>182</td>\n      <td>10.0</td>\n      <td>160.0</td>\n      <td>1180</td>\n      <td>188800.0</td>\n    </tr>\n    <tr>\n      <th>6986</th>\n      <td>2022-03-10</td>\n      <td>16</td>\n      <td>201</td>\n      <td>1.0</td>\n      <td>16.0</td>\n      <td>771</td>\n      <td>12336.0</td>\n    </tr>\n    <tr>\n      <th>7326</th>\n      <td>2022-03-10</td>\n      <td>16</td>\n      <td>385</td>\n      <td>5.0</td>\n      <td>80.0</td>\n      <td>1062</td>\n      <td>84960.0</td>\n    </tr>\n  </tbody>\n</table>\n</div>"
     },
     "metadata": {}
    }
   ],
   "execution_count": null
  },
  {
   "cell_type": "code",
   "source": "productionDf.groupby(by='day').sum()['quantity'].plot()\n",
   "metadata": {
    "cell_id": "6a6a94c808c44ed583ce6c259ab27246",
    "tags": [],
    "deepnote_to_be_reexecuted": false,
    "source_hash": "ae96bc60",
    "execution_start": 1654955966862,
    "execution_millis": 334,
    "deepnote_cell_type": "code",
    "deepnote_cell_height": 460.1875,
    "deepnote_output_heights": [
     21.1875,
     293
    ]
   },
   "outputs": [
    {
     "output_type": "execute_result",
     "execution_count": 125,
     "data": {
      "text/plain": "<AxesSubplot:xlabel='day'>"
     },
     "metadata": {}
    },
    {
     "data": {
      "text/plain": "<Figure size 432x288 with 1 Axes>",
      "image/png": "[encoded data removed]"
     },
     "metadata": {
      "needs_background": "light",
      "image/png": {
       "width": 386,
       "height": 291
      }
     },
     "output_type": "display_data"
    }
   ],
   "execution_count": null
  },
  {
   "cell_type": "code",
   "source": "productionDf.groupby(by='day').sum()['revenue_total'].plot()",
   "metadata": {
    "cell_id": "e2418a2094a840d9b99dab4f54a42d3e",
    "tags": [],
    "deepnote_to_be_reexecuted": false,
    "source_hash": "5b3f3c30",
    "execution_start": 1654955973631,
    "execution_millis": 461,
    "deepnote_cell_type": "code",
    "deepnote_cell_height": 442.1875,
    "deepnote_output_heights": [
     21.1875,
     293
    ]
   },
   "outputs": [
    {
     "output_type": "execute_result",
     "execution_count": 126,
     "data": {
      "text/plain": "<AxesSubplot:xlabel='day'>"
     },
     "metadata": {}
    },
    {
     "data": {
      "text/plain": "<Figure size 432x288 with 1 Axes>",
      "image/png": "[encoded data removed]"
     },
     "metadata": {
      "needs_background": "light",
      "image/png": {
       "width": 407,
       "height": 291
      }
     },
     "output_type": "display_data"
    }
   ],
   "execution_count": null
  },
  {
   "cell_type": "code",
   "source": "productionDf.groupby(by='day').sum()['revenue_total'].sum()",
   "metadata": {
    "cell_id": "b816f67227e94651ac8d321d0536a411",
    "tags": [],
    "deepnote_to_be_reexecuted": false,
    "source_hash": "5c43ec5c",
    "execution_start": 1654954740048,
    "execution_millis": 10,
    "deepnote_cell_type": "code",
    "deepnote_cell_height": 118.1875,
    "deepnote_output_heights": [
     21.1875
    ]
   },
   "outputs": [
    {
     "output_type": "execute_result",
     "execution_count": 92,
     "data": {
      "text/plain": "988240.0"
     },
     "metadata": {}
    }
   ],
   "execution_count": null
  },
  {
   "cell_type": "code",
   "source": "",
   "metadata": {
    "cell_id": "2d62b9a559db4bda959edfe057cf122e",
    "tags": [],
    "deepnote_cell_type": "code",
    "deepnote_cell_height": 66
   },
   "outputs": [],
   "execution_count": null
  },
  {
   "cell_type": "markdown",
   "source": "<a style='text-decoration:none;line-height:16px;display:flex;color:#5B5B62;padding:10px;justify-content:end;' href='https://deepnote.com?utm_source=created-in-deepnote-cell&projectId=503941b5-1736-4298-9362-1ed0707166ae' target=\"_blank\">\n<img alt='Created in deepnote.com' style='display:inline;max-height:16px;margin:0px;margin-right:7.5px;' src='data:image/svg+xml;base64,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' > </img>\nCreated in <span style='font-weight:600;margin-left:4px;'>Deepnote</span></a>",
   "metadata": {
    "tags": [],
    "created_in_deepnote_cell": true,
    "deepnote_cell_type": "markdown"
   }
  }
 ],
 "nbformat": 4,
 "nbformat_minor": 2,
 "metadata": {
  "orig_nbformat": 2,
  "deepnote": {},
  "deepnote_notebook_id": "998c9b46-3346-448e-b47f-f68d723a0dd0",
  "deepnote_execution_queue": []
 }
}