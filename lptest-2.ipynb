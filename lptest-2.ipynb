{
 "cells": [
  {
   "cell_type": "code",
   "metadata": {
    "tags": [],
    "deepnote_to_be_reexecuted": true,
    "source_hash": "4a0d8f35",
    "execution_start": 1655148849531,
    "execution_millis": 1620,
    "cell_id": "2967b680-3a5b-4c2e-8d12-9b8471a7cd32",
    "deepnote_cell_type": "code",
    "deepnote_cell_height": 225
   },
   "source": "import pandas as pd\nimport numpy as np\nimport seaborn as sns\nimport matplotlib.pyplot as plt\nfrom tqdm import tqdm\nfrom pulp import *\nimport math\nfrom ortools.linear_solver import pywraplp\nsns.set()",
   "execution_count": null,
   "outputs": []
  },
  {
   "cell_type": "code",
   "metadata": {
    "tags": [],
    "deepnote_to_be_reexecuted": true,
    "source_hash": "5dce8540",
    "execution_start": 1655148851158,
    "execution_millis": 113,
    "cell_id": "00001-13cf10f6-dfac-4a8d-b726-c59608957cae",
    "deepnote_cell_type": "code",
    "deepnote_cell_height": 657
   },
   "source": "production = pd.read_csv(\"production.csv\")\npurchasing = pd.read_csv(\"purchasing.csv\")\nbom = pd.read_csv('bom.csv')\nstock = pd.read_csv(\"stock.csv\")\ncomponents = pd.read_csv('components.csv')\narticles = pd.read_csv(\"articles.csv\")\n\npurchasing['date'] = pd.to_datetime(purchasing['date'])\nproduction['date']  = pd.to_datetime(production['date'])\nstock['date'] = pd.to_datetime(stock['date'])\n\n#preprocess stock and purchasing to work with follow ups\ndef processFollowUp(components, stock, purchasing, bom):\n    #replace new component numbers for old component numbers in stock, purchasing, bom\n    replaceDict = components[~np.isnan(components['follow_up_component'])][['component_number','follow_up_component']].astype('int').set_index('follow_up_component')['component_number'].to_dict()\n    purchasing['component_number'] = purchasing['component_number'].replace(replaceDict)\n    stock['component_number'] = stock['component_number'].replace(replaceDict)\n    bom['component_number'] = bom['component_number'].replace(replaceDict)\n    return stock, purchasing, bom\n\nstock, purchasing, bom = processFollowUp(components, stock, purchasing, bom)\n\n\nallComponents = set(bom['component_number']) | set(purchasing['component_number']) | set(stock['component_number'])\n\nproductionDays = list(production['date'].sort_values(ascending=True).unique())\npurchasingDays = list(purchasing['date'].unique())\nallDays = sorted(productionDays + purchasingDays)\nallDays = list(dict.fromkeys(allDays))\nday0 = allDays[0] \n\n#drop duplicates in bom for now, later allow for bom changes\nbom = bom.drop_duplicates(subset=['article_number','component_number'])",
   "execution_count": null,
   "outputs": []
  },
  {
   "cell_type": "code",
   "metadata": {
    "tags": [],
    "deepnote_to_be_reexecuted": true,
    "source_hash": "e35e8b6a",
    "execution_start": 1655148851275,
    "execution_millis": 490,
    "cell_id": "00002-217bc197-e998-4ccf-9bab-1478a694d6c4",
    "deepnote_cell_type": "code",
    "deepnote_cell_height": 112.1875
   },
   "source": "print(f\"Total window for which production schedule is required: {production['date'].min()} - {production['date'].max()}\")",
   "execution_count": null,
   "outputs": [
    {
     "name": "stdout",
     "text": "Total window for which production schedule is required: 2022-02-16 00:00:00 - 2022-08-15 00:00:00\n",
     "output_type": "stream"
    }
   ]
  },
  {
   "cell_type": "code",
   "metadata": {
    "tags": [],
    "deepnote_to_be_reexecuted": true,
    "source_hash": "d9eb4ace",
    "execution_start": 1655148851281,
    "execution_millis": 8,
    "cell_id": "00003-91c6220c-dea3-416a-bd1c-e9eedf60f85f",
    "deepnote_cell_type": "code",
    "deepnote_cell_height": 171
   },
   "source": "#general cnfiguration\nclass Config():\n    DAY_PRODUCTION_CAPACITY = 1184\n    X_CAT = 'Integer'\n    BATCH_SIZE = 16\n    DAY_BATCH_PRODUCTION_CAPACITY = (DAY_PRODUCTION_CAPACITY/BATCH_SIZE)",
   "execution_count": null,
   "outputs": []
  },
  {
   "cell_type": "markdown",
   "source": "### Pre processing",
   "metadata": {
    "tags": [],
    "cell_id": "00004-520ee342-749d-4f72-9d8d-896c6c8aa957",
    "deepnote_cell_type": "markdown",
    "deepnote_cell_height": 62
   }
  },
  {
   "cell_type": "markdown",
   "source": "##### Add beginning inventory as purchase on day 0, to make simpler",
   "metadata": {
    "tags": [],
    "cell_id": "00005-02d308d7-4a16-4ee6-975b-8a5532f08143",
    "deepnote_cell_type": "markdown",
    "deepnote_cell_height": 54
   }
  },
  {
   "cell_type": "code",
   "metadata": {
    "tags": [],
    "deepnote_to_be_reexecuted": true,
    "source_hash": "9b0aaccd",
    "execution_start": 1655148855744,
    "execution_millis": 1,
    "cell_id": "00006-7ac18f37-d47d-4fb3-9fb2-0929e0d8865b",
    "deepnote_cell_type": "code",
    "deepnote_cell_height": 261
   },
   "source": "def processNegativePurchasing(stock, purchasing):\n    purchasingProcessed = purchasing.copy()\n    purchasingProcessed = pd.concat([stock, purchasing])\n    purchasingProcessed = purchasingProcessed.groupby(by=[\"component_number\", \"date\"]).sum().reset_index().sort_values(by=['date','component_number'])\n\n    for componentNumber in tqdm(purchasing['component_number'].unique()):\n        stockOverTime = purchasingProcessed.loc[purchasingProcessed['component_number'] == componentNumber, \"quantity\"].cumsum()\n        stockOverTimeMonotonicallyIncreasing = pd.Series(index = stockOverTime.index, data = np.minimum.accumulate(stockOverTime[::-1]))\n        componentProcessedPurchasing = stockOverTimeMonotonicallyIncreasing - stockOverTimeMonotonicallyIncreasing.shift(1, fill_value=0)\n        purchasingProcessed.loc[purchasingProcessed['component_number'] == componentNumber, 'quantity'] = componentProcessedPurchasing.values\n    return purchasingProcessed",
   "execution_count": null,
   "outputs": []
  },
  {
   "cell_type": "code",
   "metadata": {
    "tags": [],
    "deepnote_to_be_reexecuted": true,
    "source_hash": "850ed8a0",
    "execution_start": 1655148856306,
    "execution_millis": 2644,
    "cell_id": "00007-e1b0d0e9-9219-4399-bdd4-e378ad294e5f",
    "deepnote_cell_type": "code",
    "deepnote_cell_height": 112.1875
   },
   "source": "purchasingProcessed = processNegativePurchasing(stock, purchasing)",
   "execution_count": null,
   "outputs": [
    {
     "name": "stderr",
     "text": "100%|██████████| 1335/1335 [00:02<00:00, 517.36it/s]\n",
     "output_type": "stream"
    }
   ]
  },
  {
   "cell_type": "code",
   "metadata": {
    "tags": [],
    "deepnote_to_be_reexecuted": true,
    "source_hash": "1aca49ba",
    "execution_start": 1655148917032,
    "execution_millis": 2,
    "cell_id": "00017-9ba662a3-fd3b-41b0-b19a-9db5bea33aee",
    "deepnote_cell_type": "code",
    "deepnote_cell_height": 207
   },
   "source": "def convertToBatchSize(bom, articles, batchSize):\n    # bom quantities * batchSize\n    # articles revenue * 16\n    bomProcessed = bom.copy()\n    articlesProcessed = articles.copy()\n    bomProcessed['quantity'] = bomProcessed['quantity'] * batchSize\n    articlesProcessed['revenue'] = articlesProcessed['revenue'] * batchSize\n    return bomProcessed, articlesProcessed",
   "execution_count": null,
   "outputs": []
  },
  {
   "cell_type": "code",
   "metadata": {
    "tags": [],
    "deepnote_to_be_reexecuted": false,
    "source_hash": "92910d29",
    "execution_start": 1655148918207,
    "execution_millis": 6,
    "cell_id": "00018-1be0317b-5eaa-4305-bcc1-467983ccf577",
    "deepnote_cell_type": "code",
    "deepnote_cell_height": 81
   },
   "source": "bomBatch, articlesBatch = convertToBatchSize(bom, articles, Config.BATCH_SIZE)",
   "execution_count": null,
   "outputs": []
  },
  {
   "cell_type": "markdown",
   "source": "### Some classes & methods",
   "metadata": {
    "cell_id": "ff43146603284d1caa217ebde995cfc7",
    "tags": [],
    "deepnote_cell_type": "markdown",
    "deepnote_cell_height": 62
   }
  },
  {
   "cell_type": "code",
   "metadata": {
    "tags": [],
    "deepnote_to_be_reexecuted": false,
    "source_hash": "492675",
    "execution_start": 1655154368153,
    "execution_millis": 4,
    "cell_id": "00008-d0d73952-955c-439e-a4fb-8408148603cd",
    "deepnote_cell_type": "code",
    "deepnote_cell_height": 855
   },
   "source": "class Inventory(object):\n    def __init__(self, purchasing: pd.DataFrame):\n        self.purchasing = purchasing\n\n    def purchasingForDay(self, date, componentNumber = None):\n        date = self.checkTimestamp(date)\n\n        if componentNumber is None:\n            #returns pd.Series with component_number as index & quantity\n            return self.purchasing[self.purchasing['date'] == date].set_index('component_number')['quantity'].reindex(allComponents, fill_value=0)\n        else:\n            #returns int with quantity\n            return self.purchasing[(self.purchasing['date'] == date) & (self.purchasing['component_number'] == componentNumber)]['quantity'].sum()\n\n    def purchasingForPeriod(self, beginDate, endDate, componentNumber = None, inclusive=True):\n\n        beginDate, endDate = self.checkTimestamp(beginDate), self.checkTimestamp(endDate)\n\n        if componentNumber is None:\n            #returns pd.Series with component_number as index & quantity\n            res = self.purchasing[self.purchasing['date'].between(beginDate, endDate, inclusive = inclusive)].groupby(by = 'component_number')['quantity'].sum().reindex(allComponents, fill_value=0)\n            res[res<0] = 0\n            return res \n            \n        else:\n            #returns int with quantity\n            return self.purchasing[(self.purchasing['date'].between(beginDate, endDate, inclusive = inclusive)) & (self.purchasing['component_number'] == componentNumber)]['quantity'].sum()\n\n    def checkTimestamp(self, date):\n        if type(date) is str:\n            return pd.Timestamp(date)\n        else:\n            return date\n\n    def add(self, begginingInv: pd.Series, date):\n        #add component inventory to first day (for residuals of previous period)\n        if begginingInv is not None:\n            begginingInvDf = begginingInv.reset_index()\n            begginingInvDf['date'] = date\n            self.purchasing = pd.concat([self.purchasing, begginingInvDf])\n        return self\n\n\n",
   "execution_count": null,
   "outputs": []
  },
  {
   "cell_type": "code",
   "metadata": {
    "tags": [],
    "deepnote_to_be_reexecuted": false,
    "source_hash": "733b12f0",
    "execution_start": 1655148858992,
    "execution_millis": 1,
    "cell_id": "00009-a88e1353-6b8d-4682-8423-13d92a11192d",
    "deepnote_cell_type": "code",
    "deepnote_cell_height": 81
   },
   "source": "test = Inventory(purchasingProcessed)",
   "execution_count": null,
   "outputs": []
  },
  {
   "cell_type": "code",
   "metadata": {
    "tags": [],
    "deepnote_to_be_reexecuted": false,
    "source_hash": "52ee59fc",
    "execution_start": 1655148860598,
    "execution_millis": 1,
    "cell_id": "00010-1ad1ac84-7d8e-44af-9ad9-bb671fe5515f",
    "deepnote_cell_type": "code",
    "deepnote_cell_height": 81
   },
   "source": "remainingInventory = pd.Series(index = pd.Index(data=[0,1,2,3,4], name=\"component_number\"), data=[2,3,4,3,2], name='quantity')",
   "execution_count": null,
   "outputs": []
  },
  {
   "cell_type": "code",
   "metadata": {
    "tags": [],
    "deepnote_to_be_reexecuted": false,
    "source_hash": "16fc3048",
    "execution_start": 1655148860692,
    "execution_millis": 52,
    "deepnote_table_state": {
     "pageSize": 10,
     "pageIndex": 6288,
     "filters": [],
     "sortBy": []
    },
    "deepnote_table_loading": false,
    "cell_id": "00011-53267368-dce3-4971-a67d-420be5612737",
    "deepnote_cell_type": "code",
    "deepnote_cell_height": 618
   },
   "source": "test = test.addBeginningInv(remainingInventory)\ntest.purchasing",
   "execution_count": null,
   "outputs": [
    {
     "output_type": "execute_result",
     "execution_count": 10,
     "data": {
      "application/vnd.deepnote.dataframe.v3+json": {
       "column_count": 3,
       "row_count": 62880,
       "columns": [
        {
         "name": "component_number",
         "dtype": "int64",
         "stats": {
          "unique_count": 1376,
          "nan_count": 0,
          "min": "0",
          "max": "1393",
          "histogram": [
           {
            "bin_start": 0,
            "bin_end": 139.3,
            "count": 5701
           },
           {
            "bin_start": 139.3,
            "bin_end": 278.6,
            "count": 6363
           },
           {
            "bin_start": 278.6,
            "bin_end": 417.90000000000003,
            "count": 5958
           },
           {
            "bin_start": 417.90000000000003,
            "bin_end": 557.2,
            "count": 6860
           },
           {
            "bin_start": 557.2,
            "bin_end": 696.5,
            "count": 5929
           },
           {
            "bin_start": 696.5,
            "bin_end": 835.8000000000001,
            "count": 6369
           },
           {
            "bin_start": 835.8000000000001,
            "bin_end": 975.1000000000001,
            "count": 7084
           },
           {
            "bin_start": 975.1000000000001,
            "bin_end": 1114.4,
            "count": 6124
           },
           {
            "bin_start": 1114.4,
            "bin_end": 1253.7,
            "count": 5662
           },
           {
            "bin_start": 1253.7,
            "bin_end": 1393,
            "count": 6830
           }
          ]
         }
        },
        {
         "name": "date",
         "dtype": "datetime64[ns]"
        },
        {
         "name": "quantity",
         "dtype": "int64"
        },
        {
         "name": "_deepnote_index_column",
         "dtype": "int64"
        }
       ],
       "rows": [
        {
         "component_number": 711,
         "date": "2024-12-23T00:00:00.000000",
         "quantity": 2400,
         "_deepnote_index_column": 31297
        },
        {
         "component_number": 711,
         "date": "2025-01-16T00:00:00.000000",
         "quantity": 600,
         "_deepnote_index_column": 31298
        },
        {
         "component_number": 711,
         "date": "2025-01-27T00:00:00.000000",
         "quantity": 1500,
         "_deepnote_index_column": 31299
        },
        {
         "component_number": 711,
         "date": "2025-02-10T00:00:00.000000",
         "quantity": 1400,
         "_deepnote_index_column": 31300
        },
        {
         "component_number": 711,
         "date": "2025-02-24T00:00:00.000000",
         "quantity": 800,
         "_deepnote_index_column": 31301
        },
        {
         "component_number": 0,
         "date": "2022-02-16T00:00:00.000000",
         "quantity": 2,
         "_deepnote_index_column": 0
        },
        {
         "component_number": 1,
         "date": "2022-02-16T00:00:00.000000",
         "quantity": 3,
         "_deepnote_index_column": 1
        },
        {
         "component_number": 2,
         "date": "2022-02-16T00:00:00.000000",
         "quantity": 4,
         "_deepnote_index_column": 2
        },
        {
         "component_number": 3,
         "date": "2022-02-16T00:00:00.000000",
         "quantity": 3,
         "_deepnote_index_column": 3
        },
        {
         "component_number": 4,
         "date": "2022-02-16T00:00:00.000000",
         "quantity": 2,
         "_deepnote_index_column": 4
        }
       ]
      },
      "text/plain": "     component_number       date  quantity\n0                   0 2022-02-16      2297\n34                  1 2022-02-16      1998\n126                 3 2022-02-16      4074\n132                 4 2022-02-16      4842\n138                 5 2022-02-16       406\n..                ...        ...       ...\n0                   0 2022-02-16         2\n1                   1 2022-02-16         3\n2                   2 2022-02-16         4\n3                   3 2022-02-16         3\n4                   4 2022-02-16         2\n\n[62880 rows x 3 columns]",
      "text/html": "<div>\n<style scoped>\n    .dataframe tbody tr th:only-of-type {\n        vertical-align: middle;\n    }\n\n    .dataframe tbody tr th {\n        vertical-align: top;\n    }\n\n    .dataframe thead th {\n        text-align: right;\n    }\n</style>\n<table border=\"1\" class=\"dataframe\">\n  <thead>\n    <tr style=\"text-align: right;\">\n      <th></th>\n      <th>component_number</th>\n      <th>date</th>\n      <th>quantity</th>\n    </tr>\n  </thead>\n  <tbody>\n    <tr>\n      <th>0</th>\n      <td>0</td>\n      <td>2022-02-16</td>\n      <td>2297</td>\n    </tr>\n    <tr>\n      <th>34</th>\n      <td>1</td>\n      <td>2022-02-16</td>\n      <td>1998</td>\n    </tr>\n    <tr>\n      <th>126</th>\n      <td>3</td>\n      <td>2022-02-16</td>\n      <td>4074</td>\n    </tr>\n    <tr>\n      <th>132</th>\n      <td>4</td>\n      <td>2022-02-16</td>\n      <td>4842</td>\n    </tr>\n    <tr>\n      <th>138</th>\n      <td>5</td>\n      <td>2022-02-16</td>\n      <td>406</td>\n    </tr>\n    <tr>\n      <th>...</th>\n      <td>...</td>\n      <td>...</td>\n      <td>...</td>\n    </tr>\n    <tr>\n      <th>0</th>\n      <td>0</td>\n      <td>2022-02-16</td>\n      <td>2</td>\n    </tr>\n    <tr>\n      <th>1</th>\n      <td>1</td>\n      <td>2022-02-16</td>\n      <td>3</td>\n    </tr>\n    <tr>\n      <th>2</th>\n      <td>2</td>\n      <td>2022-02-16</td>\n      <td>4</td>\n    </tr>\n    <tr>\n      <th>3</th>\n      <td>3</td>\n      <td>2022-02-16</td>\n      <td>3</td>\n    </tr>\n    <tr>\n      <th>4</th>\n      <td>4</td>\n      <td>2022-02-16</td>\n      <td>2</td>\n    </tr>\n  </tbody>\n</table>\n<p>62880 rows × 3 columns</p>\n</div>"
     },
     "metadata": {}
    }
   ]
  },
  {
   "cell_type": "code",
   "metadata": {
    "tags": [],
    "deepnote_to_be_reexecuted": false,
    "source_hash": "f47f9abb",
    "execution_start": 1655148914534,
    "execution_millis": 1,
    "cell_id": "00014-62b2c775-6a3a-4e81-b859-f1edd870227c",
    "deepnote_cell_type": "code",
    "deepnote_cell_height": 315
   },
   "source": "def createPeriods(beginDate, endDate, nPeriods, inclusive=False):\n    beginDate = pd.Timestamp(beginDate)\n    endDate = pd.Timestamp(endDate)\n    length = (endDate - beginDate).days\n    lengthPerPeriod = int(length/nPeriods)\n    res = []\n    for i in range(nPeriods-1):\n        addDay = (not inclusive) and (i is not 0)\n        periodBegin =  beginDate + pd.Timedelta(days= i * lengthPerPeriod + addDay)\n        periodEnd = beginDate + pd.Timedelta(days= (i+1) * lengthPerPeriod)\n        res.append((periodBegin, periodEnd))\n    \n    res.append((res[-1][-1] + pd.Timedelta(days=int(not inclusive)), endDate))\n    return res",
   "execution_count": null,
   "outputs": []
  },
  {
   "cell_type": "code",
   "metadata": {
    "tags": [],
    "deepnote_to_be_reexecuted": false,
    "source_hash": "f425a630",
    "execution_start": 1655148917025,
    "execution_millis": 3,
    "cell_id": "00016-61a1684b-b08b-4369-94f7-e5fe31baa24c",
    "deepnote_cell_type": "code",
    "deepnote_cell_height": 135
   },
   "source": "def nBusDays(periodBegin: pd.Timestamp, periodEnd: pd.Timestamp):\n    periodBegin = periodBegin.to_pydatetime().date()\n    periodEnd= periodEnd.to_pydatetime().date()\n    return np.busday_count(periodBegin, periodEnd)",
   "execution_count": null,
   "outputs": []
  },
  {
   "cell_type": "code",
   "metadata": {
    "tags": [],
    "deepnote_to_be_reexecuted": false,
    "source_hash": "43dd4b70",
    "execution_start": 1655148915857,
    "execution_millis": 6,
    "cell_id": "00015-98bb47c6-66c0-4160-8eab-674aa69217e7",
    "deepnote_cell_type": "code",
    "deepnote_cell_height": 99
   },
   "source": "def getBusDaysInPeriod(periodBegin: pd.Timestamp, periodEnd: pd.Timestamp):\n    return list(pd.bdate_range(periodBegin, periodEnd))",
   "execution_count": null,
   "outputs": []
  },
  {
   "cell_type": "code",
   "metadata": {
    "tags": [],
    "deepnote_to_be_reexecuted": false,
    "source_hash": "5348dbf7",
    "execution_start": 1655148918215,
    "execution_millis": 4,
    "cell_id": "00019-f62139e5-62e5-41e1-b795-fbd3e251eef5",
    "deepnote_cell_type": "code",
    "deepnote_cell_height": 153
   },
   "source": "def getComponentsRequired(componentNumber, bom):\n    required = bom[(bom['component_number'] == componentNumber)]\n    if len(required) == 0:\n        return 0\n    return required.set_index(\"article_number\")['quantity']",
   "execution_count": null,
   "outputs": []
  },
  {
   "cell_type": "code",
   "metadata": {
    "tags": [],
    "deepnote_to_be_reexecuted": false,
    "source_hash": "8da1230c",
    "execution_start": 1655197224031,
    "execution_millis": 1,
    "cell_id": "00043-6500c6ea-fafb-471e-9657-fa0b2929ba9e",
    "deepnote_cell_type": "code",
    "deepnote_cell_height": 279
   },
   "source": "def createProductionDf(x, daysInPeriod, articles): #articles = articlesBatch\n    productionDict = {i:_.value() for i,_ in x.items()}\n    productionDf = pd.DataFrame( productionDict.values(), index = productionDict.keys(), columns=['quantity_batch'])\n    productionDf = productionDf.reset_index()\n    productionDf.columns = ['article_number', 'day_nr', 'quantity_batch']\n    productionDf['day'] = productionDf['day_nr'].apply(lambda el: daysInPeriod[el-1])\n    productionDf = productionDf[['day','day_nr','article_number', 'quantity_batch']].sort_values(by=['day_nr','article_number'])\n    productionDf['quantity'] = productionDf['quantity_batch'] * Config.BATCH_SIZE\n    revenue = articles.set_index('article_number')['revenue'].to_dict()\n    productionDf['article_revenue'] = productionDf['article_number'].apply(lambda el: revenue[el])\n    productionDf['revenue_total'] = productionDf['article_revenue'] * productionDf['quantity_batch'] \n    return productionDf[productionDf['quantity'] > 0]",
   "execution_count": null,
   "outputs": []
  },
  {
   "cell_type": "code",
   "metadata": {
    "tags": [],
    "deepnote_to_be_reexecuted": false,
    "source_hash": "43da8a2e",
    "execution_start": 1655197373329,
    "execution_millis": 1,
    "cell_id": "00044-fddd6148-6a04-47d6-97e3-32c8cc3ca5bb",
    "deepnote_cell_type": "code",
    "deepnote_cell_height": 297
   },
   "source": "def getRemainingComponents(productionDf:pd.DataFrame, totalPeriodInventory :pd.Series, bom):\n    #take a productionDf and \n    #productionDf dataframe with columns article_number, quantity_tot\n    #totalPeriodInventory  series with index component number values quantity\n    #productionDfGrouped = productionDf.groupby(by='article_number').sum()['quantity_batch']\n    componentUsage = pd.merge(left=productionDf, right=bom, left_on='article_number', right_on='article_number', how ='left')\n    componentUsage['quantity'] = componentUsage['quantity_batch'] * componentUsage['quantity_y']\n    componentUsage = componentUsage.groupby(by='component_number').sum()['quantity']\n    remainingInventory = totalPeriodInventory.subtract(componentUsage, fill_value=0) \n    print(\"remaininginv\", remainingInventory)\n    #maybe only q>0\n    return remainingInventory\n",
   "execution_count": null,
   "outputs": []
  },
  {
   "cell_type": "code",
   "metadata": {
    "cell_id": "ea6088452cb84ba494d4550f337bbff6",
    "tags": [],
    "deepnote_to_be_reexecuted": false,
    "source_hash": "bb07699a",
    "execution_start": 1655155172872,
    "execution_millis": 0,
    "deepnote_cell_type": "code",
    "deepnote_cell_height": 171
   },
   "source": "def checkWhichArticlesCanBeMade(purchasing, batch):\n    purchasing = purchasing.groupby(by=['component_number']).sum()['quantity']\n    for article in articles['article_number']:\n        bomBatch = bom[bom['article_number'] == article].set_index('component_number')['quantity']\n        diff = (purchasing.subtract(bomBatch, fill_value=0))\n        print(article, \":\\t\", (diff>=0).all(), '\\tMissing', list(diff[diff<0].index))",
   "execution_count": null,
   "outputs": []
  },
  {
   "cell_type": "markdown",
   "source": "### Multi period formulation\n\nP: production capacity per day \\\n$r_i$: revenue article i \\\n$q_{ij}$: Amount of component j needed for article i \\\n$x_{it}$: Quantity produced of article i on day t \\\n$d_{jt}$: Purchasing of component j arriving at the beggining of day t \\\n$T$ total duration of the period \n\n\nObjective: \\\n$Maximize$ $ \\sum_{t=1}^T \\sum_{i=1}^n x_{it}r_{i}$ \\\nst.  \n\n$\\sum_{t'=1}^{t}d_{jt'} - \\sum_{t'=1}^{t} \\sum_{i=1}^nx_{it'}q_{ij} >= 0 \\hspace{20pt} t=1,...,T \\hspace{10pt} j =1,...,m$ \n\n$\\sum_{i=1}^n x_{it} <= P \\hspace{86pt} t=1,...,T $",
   "metadata": {
    "tags": [],
    "cell_id": "00026-56da5beb-a5e8-4f3d-89cb-6455f83dbee9",
    "deepnote_cell_type": "markdown",
    "deepnote_cell_height": 366.921875
   }
  },
  {
   "cell_type": "code",
   "metadata": {
    "tags": [],
    "deepnote_to_be_reexecuted": false,
    "source_hash": "4479bde",
    "execution_start": 1655155261824,
    "execution_millis": 580,
    "cell_id": "00027-4882ee2b-69c5-4810-9c39-62636aa5782a",
    "deepnote_cell_type": "code",
    "deepnote_cell_height": 540,
    "deepnote_output_heights": [
     281
    ]
   },
   "source": "def plotModelSize(T, n, m):\n    nConstraints = [ t*m + t for t in range(T)]\n    nVars = [ t*n for t in range(T)]\n    nVarsInConstraints = [t*(t+1)/2 + t*(t+1)/2 * n + t * n for t in range(T)]\n    sns.lineplot(x= np.arange(0,T), y=  nConstraints, label=\"#constraints\")\n    sns.lineplot(x= np.arange(0,T), y=  nVars, label=\"# vars\")\n    sns.lineplot(x= np.arange(0,T), y=  nVarsInConstraints, label=\"# vars in constraints\")\n    plt.legend()\n    plt.xlabel(\"T (horizon length)\")\nplotModelSize(T=len(productionDays), n = len(articles['article_number'].unique()), m=len(components['component_number'].unique()))",
   "execution_count": null,
   "outputs": [
    {
     "data": {
      "text/plain": "<Figure size 432x288 with 1 Axes>",
      "image/png": "[encoded data removed]"
     },
     "metadata": {
      "needs_background": "light",
      "image/png": {
       "width": 376,
       "height": 279
      }
     },
     "output_type": "display_data"
    }
   ]
  },
  {
   "cell_type": "code",
   "metadata": {
    "tags": [],
    "deepnote_to_be_reexecuted": false,
    "source_hash": "2ad978d4",
    "execution_start": 1655197378915,
    "execution_millis": 2,
    "cell_id": "00028-2fa77c0e-70c7-49c3-827f-a6dbf2319cc2",
    "owner_user_id": "6c347804-6bd9-471a-a1ba-f072c6ca8e0a",
    "deepnote_cell_type": "code",
    "deepnote_cell_height": 531
   },
   "source": "def multiPeriodILP(daysInPeriod, articles, inv: Inventory, bom):\n    model = LpProblem(name='Production', sense=LpMaximize)\n    T = len(daysInPeriod)\n    x = {(i, t): LpVariable(name=f\"x_p_{i},d_{t}\", lowBound=0, upBound=Config.DAY_BATCH_PRODUCTION_CAPACITY, cat=Config.X_CAT) for i in articles['article_number'] for t in range(1,T+1)}\n    print(f\"Multi period ILP for period {daysInPeriod[0]} to {daysInPeriod[-1]}\")\n    print(f\"This entails {T} days: {daysInPeriod}\")\n    #print(f\"Created variables: {x}\")\n    revenue = articles.set_index('article_number')['revenue'].to_dict()\n    #print(revenue)\n    model += lpSum(x[(i,t)] * revenue[i] for i in articles['article_number'] for t in range(1,T+1))\n\n    #Inventory constraints\n    for t, day in enumerate(daysInPeriod,1):\n        #purchasingDay = inv.purchasingForDay(day)\n\n        purchasingUpToDay = inv.purchasingForPeriod(daysInPeriod[0], day)\n\n        for j in allComponents:\n            print(\"\\r\", end=f\"{t},{j}\")\n            articlesComponentUsage = getComponentsRequired(j, bom)\n            model += (purchasingUpToDay[j] - lpSum([x[(i,tt)] * articlesComponentUsage[i] for i in articlesComponentUsage.index for tt in range(1,t+1) ])) >= 0, f\"InvConstraint_day_{t-1}_component_{j}\"\n\n        #Production capacity constraints\n        model += lpSum([x[(i,t)] for i in articles['article_number']]) <= Config.DAY_BATCH_PRODUCTION_CAPACITY\n\n    return model, x",
   "execution_count": null,
   "outputs": []
  },
  {
   "cell_type": "code",
   "metadata": {
    "cell_id": "6919588c48264e5a9b4f9ac1a38d9bdf",
    "tags": [],
    "deepnote_to_be_reexecuted": false,
    "source_hash": "e8cfc4c2",
    "execution_start": 1655197378954,
    "execution_millis": 88607,
    "deepnote_cell_type": "code",
    "deepnote_cell_height": 228.5625
   },
   "source": "periodBegin = pd.Timestamp('2022-02-16')\nperiodEnd = pd.Timestamp('2022-03-01') \ndaysInPeriod = getBusDaysInPeriod(periodBegin, periodEnd)\ninv = Inventory(purchasingProcessed)\nmodel, x = multiPeriodILP(daysInPeriod=daysInPeriod, articles = articlesBatch, inv = inv, bom = bomBatch)",
   "execution_count": null,
   "outputs": [
    {
     "name": "stdout",
     "text": "Multi period ILP for period 2022-02-16 00:00:00 to 2022-03-01 00:00:00\nThis entails 10 days: [Timestamp('2022-02-16 00:00:00', freq='B'), Timestamp('2022-02-17 00:00:00', freq='B'), Timestamp('2022-02-18 00:00:00', freq='B'), Timestamp('2022-02-21 00:00:00', freq='B'), Timestamp('2022-02-22 00:00:00', freq='B'), Timestamp('2022-02-23 00:00:00', freq='B'), Timestamp('2022-02-24 00:00:00', freq='B'), Timestamp('2022-02-25 00:00:00', freq='B'), Timestamp('2022-02-28 00:00:00', freq='B'), Timestamp('2022-03-01 00:00:00', freq='B')]\n10,1393",
     "output_type": "stream"
    }
   ]
  },
  {
   "cell_type": "code",
   "metadata": {
    "tags": [],
    "deepnote_to_be_reexecuted": false,
    "source_hash": "7e126848",
    "execution_start": 1655197520051,
    "execution_millis": 26713,
    "cell_id": "00031-409ff919-a70b-4b9b-9c2f-6d62708375a3",
    "deepnote_cell_type": "code",
    "deepnote_cell_height": 81
   },
   "source": "status = model.solve()",
   "execution_count": null,
   "outputs": []
  },
  {
   "cell_type": "code",
   "metadata": {
    "cell_id": "3c66fc10face4ac1a98edb9d999e2c8c",
    "tags": [],
    "deepnote_to_be_reexecuted": false,
    "source_hash": "63469c95",
    "execution_start": 1655197580916,
    "execution_millis": 3,
    "deepnote_cell_type": "code",
    "deepnote_cell_height": 112.1875
   },
   "source": "print(status, model.objective.value())",
   "execution_count": null,
   "outputs": [
    {
     "name": "stdout",
     "text": "1 988240.0\n",
     "output_type": "stream"
    }
   ]
  },
  {
   "cell_type": "code",
   "metadata": {
    "tags": [],
    "deepnote_to_be_reexecuted": false,
    "source_hash": "51ad7883",
    "execution_start": 1655197584710,
    "execution_millis": 40,
    "cell_id": "00035-4859d306-fc24-4d39-b11b-37b80aa54379",
    "deepnote_cell_type": "code",
    "deepnote_cell_height": 354.4375
   },
   "source": "RI = getRemainingComponents(productionDf, inv.purchasingForPeriod(periodBegin, periodEnd), bom)",
   "execution_count": null,
   "outputs": [
    {
     "name": "stdout",
     "text": "remaininginv component_number\n0        2259.0\n1        1998.0\n2           0.0\n3        4074.0\n4        4804.0\n         ...   \n1389    13186.0\n1390      684.0\n1391     6586.0\n1392        0.0\n1393    13100.0\nName: quantity, Length: 1380, dtype: float64\n",
     "output_type": "stream"
    }
   ]
  },
  {
   "cell_type": "code",
   "metadata": {
    "cell_id": "78fa5a8088d94d0086ef34c0dc6e5a85",
    "tags": [],
    "deepnote_to_be_reexecuted": false,
    "source_hash": "1642a33a",
    "execution_start": 1655197589013,
    "execution_millis": 5,
    "deepnote_cell_type": "code",
    "deepnote_cell_height": 135
   },
   "source": "periodBegin = pd.Timestamp('2022-03-02')\nperiodEnd = pd.Timestamp('2022-03-16') \ndaysInPeriod = getBusDaysInPeriod(periodBegin, periodEnd)\ninv = Inventory(purchasingProcessed[purchasingProcessed['date'].between(periodBegin,periodEnd, inclusive='Both')])",
   "execution_count": null,
   "outputs": []
  },
  {
   "cell_type": "code",
   "metadata": {
    "cell_id": "1438b0a29d744263bd32d2106877fc2a",
    "tags": [],
    "deepnote_to_be_reexecuted": false,
    "source_hash": "5b9a429d",
    "execution_start": 1655155423069,
    "execution_millis": 26,
    "deepnote_cell_type": "code",
    "deepnote_cell_height": 600
   },
   "source": "inv.purchasing",
   "execution_count": null,
   "outputs": [
    {
     "output_type": "execute_result",
     "execution_count": 119,
     "data": {
      "application/vnd.deepnote.dataframe.v3+json": {
       "column_count": 3,
       "row_count": 823,
       "columns": [
        {
         "name": "component_number",
         "dtype": "int64",
         "stats": {
          "unique_count": 525,
          "nan_count": 0,
          "min": "5",
          "max": "1389",
          "histogram": [
           {
            "bin_start": 5,
            "bin_end": 143.4,
            "count": 82
           },
           {
            "bin_start": 143.4,
            "bin_end": 281.8,
            "count": 66
           },
           {
            "bin_start": 281.8,
            "bin_end": 420.20000000000005,
            "count": 77
           },
           {
            "bin_start": 420.20000000000005,
            "bin_end": 558.6,
            "count": 93
           },
           {
            "bin_start": 558.6,
            "bin_end": 697,
            "count": 93
           },
           {
            "bin_start": 697,
            "bin_end": 835.4000000000001,
            "count": 92
           },
           {
            "bin_start": 835.4000000000001,
            "bin_end": 973.8000000000001,
            "count": 66
           },
           {
            "bin_start": 973.8000000000001,
            "bin_end": 1112.2,
            "count": 90
           },
           {
            "bin_start": 1112.2,
            "bin_end": 1250.6000000000001,
            "count": 75
           },
           {
            "bin_start": 1250.6000000000001,
            "bin_end": 1389,
            "count": 89
           }
          ]
         }
        },
        {
         "name": "date",
         "dtype": "datetime64[ns]",
         "stats": {
          "unique_count": 12,
          "nan_count": 0,
          "min": "2022-03-02 00:00:00",
          "max": "2022-03-16 00:00:00",
          "histogram": [
           {
            "bin_start": 1646179200000000000,
            "bin_end": 1646300160000000000,
            "count": 106
           },
           {
            "bin_start": 1646300160000000000,
            "bin_end": 1646421120000000000,
            "count": 67
           },
           {
            "bin_start": 1646421120000000000,
            "bin_end": 1646542080000000000,
            "count": 1
           },
           {
            "bin_start": 1646542080000000000,
            "bin_end": 1646663040000000000,
            "count": 136
           },
           {
            "bin_start": 1646663040000000000,
            "bin_end": 1646784000000000000,
            "count": 44
           },
           {
            "bin_start": 1646784000000000000,
            "bin_end": 1646904960000000000,
            "count": 138
           },
           {
            "bin_start": 1646904960000000000,
            "bin_end": 1647025920000000000,
            "count": 86
           },
           {
            "bin_start": 1647025920000000000,
            "bin_end": 1647146880000000000,
            "count": 0
           },
           {
            "bin_start": 1647146880000000000,
            "bin_end": 1647267840000000000,
            "count": 137
           },
           {
            "bin_start": 1647267840000000000,
            "bin_end": 1647388800000000000,
            "count": 108
           }
          ]
         }
        },
        {
         "name": "quantity",
         "dtype": "int64",
         "stats": {
          "unique_count": 270,
          "nan_count": 0,
          "min": "0",
          "max": "401812",
          "histogram": [
           {
            "bin_start": 0,
            "bin_end": 40181.2,
            "count": 800
           },
           {
            "bin_start": 40181.2,
            "bin_end": 80362.4,
            "count": 16
           },
           {
            "bin_start": 80362.4,
            "bin_end": 120543.59999999999,
            "count": 3
           },
           {
            "bin_start": 120543.59999999999,
            "bin_end": 160724.8,
            "count": 2
           },
           {
            "bin_start": 160724.8,
            "bin_end": 200906,
            "count": 1
           },
           {
            "bin_start": 200906,
            "bin_end": 241087.19999999998,
            "count": 0
           },
           {
            "bin_start": 241087.19999999998,
            "bin_end": 281268.39999999997,
            "count": 0
           },
           {
            "bin_start": 281268.39999999997,
            "bin_end": 321449.6,
            "count": 0
           },
           {
            "bin_start": 321449.6,
            "bin_end": 361630.8,
            "count": 0
           },
           {
            "bin_start": 361630.8,
            "bin_end": 401812,
            "count": 1
           }
          ]
         }
        },
        {
         "name": "_deepnote_index_column",
         "dtype": "int64"
        }
       ],
       "rows": [
        {
         "component_number": 30,
         "date": "2022-03-02T00:00:00.000000",
         "quantity": 1200,
         "_deepnote_index_column": 1075
        },
        {
         "component_number": 90,
         "date": "2022-03-02T00:00:00.000000",
         "quantity": 3000,
         "_deepnote_index_column": 3659
        },
        {
         "component_number": 108,
         "date": "2022-03-02T00:00:00.000000",
         "quantity": 1370,
         "_deepnote_index_column": 4323
        },
        {
         "component_number": 150,
         "date": "2022-03-02T00:00:00.000000",
         "quantity": 775,
         "_deepnote_index_column": 6030
        },
        {
         "component_number": 154,
         "date": "2022-03-02T00:00:00.000000",
         "quantity": 2100,
         "_deepnote_index_column": 6194
        },
        {
         "component_number": 210,
         "date": "2022-03-02T00:00:00.000000",
         "quantity": 3300,
         "_deepnote_index_column": 8566
        },
        {
         "component_number": 220,
         "date": "2022-03-02T00:00:00.000000",
         "quantity": 4000,
         "_deepnote_index_column": 9018
        },
        {
         "component_number": 258,
         "date": "2022-03-02T00:00:00.000000",
         "quantity": 2,
         "_deepnote_index_column": 10940
        },
        {
         "component_number": 289,
         "date": "2022-03-02T00:00:00.000000",
         "quantity": 110,
         "_deepnote_index_column": 12393
        },
        {
         "component_number": 295,
         "date": "2022-03-02T00:00:00.000000",
         "quantity": 1280,
         "_deepnote_index_column": 12582
        }
       ]
      },
      "text/plain": "       component_number       date  quantity\n1075                 30 2022-03-02      1200\n3659                 90 2022-03-02      3000\n4323                108 2022-03-02      1370\n6030                150 2022-03-02       775\n6194                154 2022-03-02      2100\n...                 ...        ...       ...\n56833              1269 2022-03-16     14950\n56940              1272 2022-03-16       750\n59454              1324 2022-03-16      2000\n60646              1347 2022-03-16      1400\n62106              1377 2022-03-16      1500\n\n[823 rows x 3 columns]",
      "text/html": "<div>\n<style scoped>\n    .dataframe tbody tr th:only-of-type {\n        vertical-align: middle;\n    }\n\n    .dataframe tbody tr th {\n        vertical-align: top;\n    }\n\n    .dataframe thead th {\n        text-align: right;\n    }\n</style>\n<table border=\"1\" class=\"dataframe\">\n  <thead>\n    <tr style=\"text-align: right;\">\n      <th></th>\n      <th>component_number</th>\n      <th>date</th>\n      <th>quantity</th>\n    </tr>\n  </thead>\n  <tbody>\n    <tr>\n      <th>1075</th>\n      <td>30</td>\n      <td>2022-03-02</td>\n      <td>1200</td>\n    </tr>\n    <tr>\n      <th>3659</th>\n      <td>90</td>\n      <td>2022-03-02</td>\n      <td>3000</td>\n    </tr>\n    <tr>\n      <th>4323</th>\n      <td>108</td>\n      <td>2022-03-02</td>\n      <td>1370</td>\n    </tr>\n    <tr>\n      <th>6030</th>\n      <td>150</td>\n      <td>2022-03-02</td>\n      <td>775</td>\n    </tr>\n    <tr>\n      <th>6194</th>\n      <td>154</td>\n      <td>2022-03-02</td>\n      <td>2100</td>\n    </tr>\n    <tr>\n      <th>...</th>\n      <td>...</td>\n      <td>...</td>\n      <td>...</td>\n    </tr>\n    <tr>\n      <th>56833</th>\n      <td>1269</td>\n      <td>2022-03-16</td>\n      <td>14950</td>\n    </tr>\n    <tr>\n      <th>56940</th>\n      <td>1272</td>\n      <td>2022-03-16</td>\n      <td>750</td>\n    </tr>\n    <tr>\n      <th>59454</th>\n      <td>1324</td>\n      <td>2022-03-16</td>\n      <td>2000</td>\n    </tr>\n    <tr>\n      <th>60646</th>\n      <td>1347</td>\n      <td>2022-03-16</td>\n      <td>1400</td>\n    </tr>\n    <tr>\n      <th>62106</th>\n      <td>1377</td>\n      <td>2022-03-16</td>\n      <td>1500</td>\n    </tr>\n  </tbody>\n</table>\n<p>823 rows × 3 columns</p>\n</div>"
     },
     "metadata": {}
    }
   ]
  },
  {
   "cell_type": "code",
   "metadata": {
    "cell_id": "6d0562f0d25845d4a13bf2e069dfebd7",
    "tags": [],
    "deepnote_to_be_reexecuted": false,
    "source_hash": "40da087a",
    "execution_start": 1655197593224,
    "execution_millis": 679,
    "deepnote_table_state": {
     "pageSize": 10,
     "pageIndex": 170,
     "filters": [],
     "sortBy": []
    },
    "deepnote_table_loading": false,
    "deepnote_cell_type": "code",
    "deepnote_cell_height": 618
   },
   "source": "inv.add(RI, date=periodBegin)\ninv.purchasing",
   "execution_count": null,
   "outputs": [
    {
     "output_type": "execute_result",
     "execution_count": 160,
     "data": {
      "application/vnd.deepnote.dataframe.v3+json": {
       "column_count": 3,
       "row_count": 2203,
       "columns": [
        {
         "name": "component_number",
         "dtype": "int64",
         "stats": {
          "unique_count": 1380,
          "nan_count": 0,
          "min": "0",
          "max": "1393",
          "histogram": [
           {
            "bin_start": 0,
            "bin_end": 139.3,
            "count": 219
           },
           {
            "bin_start": 139.3,
            "bin_end": 278.6,
            "count": 203
           },
           {
            "bin_start": 278.6,
            "bin_end": 417.90000000000003,
            "count": 214
           },
           {
            "bin_start": 417.90000000000003,
            "bin_end": 557.2,
            "count": 232
           },
           {
            "bin_start": 557.2,
            "bin_end": 696.5,
            "count": 230
           },
           {
            "bin_start": 696.5,
            "bin_end": 835.8000000000001,
            "count": 229
           },
           {
            "bin_start": 835.8000000000001,
            "bin_end": 975.1000000000001,
            "count": 206
           },
           {
            "bin_start": 975.1000000000001,
            "bin_end": 1114.4,
            "count": 229
           },
           {
            "bin_start": 1114.4,
            "bin_end": 1253.7,
            "count": 213
           },
           {
            "bin_start": 1253.7,
            "bin_end": 1393,
            "count": 228
           }
          ]
         }
        },
        {
         "name": "date",
         "dtype": "datetime64[ns]",
         "stats": {
          "unique_count": 12,
          "nan_count": 0,
          "min": "2022-03-02 00:00:00",
          "max": "2022-03-16 00:00:00",
          "histogram": [
           {
            "bin_start": 1646179200000000000,
            "bin_end": 1646300160000000000,
            "count": 1486
           },
           {
            "bin_start": 1646300160000000000,
            "bin_end": 1646421120000000000,
            "count": 67
           },
           {
            "bin_start": 1646421120000000000,
            "bin_end": 1646542080000000000,
            "count": 1
           },
           {
            "bin_start": 1646542080000000000,
            "bin_end": 1646663040000000000,
            "count": 136
           },
           {
            "bin_start": 1646663040000000000,
            "bin_end": 1646784000000000000,
            "count": 44
           },
           {
            "bin_start": 1646784000000000000,
            "bin_end": 1646904960000000000,
            "count": 138
           },
           {
            "bin_start": 1646904960000000000,
            "bin_end": 1647025920000000000,
            "count": 86
           },
           {
            "bin_start": 1647025920000000000,
            "bin_end": 1647146880000000000,
            "count": 0
           },
           {
            "bin_start": 1647146880000000000,
            "bin_end": 1647267840000000000,
            "count": 137
           },
           {
            "bin_start": 1647267840000000000,
            "bin_end": 1647388800000000000,
            "count": 108
           }
          ]
         }
        },
        {
         "name": "quantity",
         "dtype": "float64",
         "stats": {
          "unique_count": 1217,
          "nan_count": 0,
          "min": "-96.0",
          "max": "3301082.0",
          "histogram": [
           {
            "bin_start": -96,
            "bin_end": 330021.8,
            "count": 2193
           },
           {
            "bin_start": 330021.8,
            "bin_end": 660139.6,
            "count": 6
           },
           {
            "bin_start": 660139.6,
            "bin_end": 990257.3999999999,
            "count": 2
           },
           {
            "bin_start": 990257.3999999999,
            "bin_end": 1320375.2,
            "count": 0
           },
           {
            "bin_start": 1320375.2,
            "bin_end": 1650493,
            "count": 0
           },
           {
            "bin_start": 1650493,
            "bin_end": 1980610.7999999998,
            "count": 0
           },
           {
            "bin_start": 1980610.7999999998,
            "bin_end": 2310728.6,
            "count": 0
           },
           {
            "bin_start": 2310728.6,
            "bin_end": 2640846.4,
            "count": 1
           },
           {
            "bin_start": 2640846.4,
            "bin_end": 2970964.1999999997,
            "count": 0
           },
           {
            "bin_start": 2970964.1999999997,
            "bin_end": 3301082,
            "count": 1
           }
          ]
         }
        },
        {
         "name": "_deepnote_index_column",
         "dtype": "int64"
        }
       ],
       "rows": [
        {
         "component_number": 889,
         "date": "2022-03-02T00:00:00.000000",
         "quantity": 32,
         "_deepnote_index_column": 877
        },
        {
         "component_number": 890,
         "date": "2022-03-02T00:00:00.000000",
         "quantity": 0,
         "_deepnote_index_column": 878
        },
        {
         "component_number": 891,
         "date": "2022-03-02T00:00:00.000000",
         "quantity": 0,
         "_deepnote_index_column": 879
        },
        {
         "component_number": 892,
         "date": "2022-03-02T00:00:00.000000",
         "quantity": 1130,
         "_deepnote_index_column": 880
        },
        {
         "component_number": 893,
         "date": "2022-03-02T00:00:00.000000",
         "quantity": 0,
         "_deepnote_index_column": 881
        },
        {
         "component_number": 894,
         "date": "2022-03-02T00:00:00.000000",
         "quantity": 0,
         "_deepnote_index_column": 882
        },
        {
         "component_number": 895,
         "date": "2022-03-02T00:00:00.000000",
         "quantity": 3283,
         "_deepnote_index_column": 883
        },
        {
         "component_number": 896,
         "date": "2022-03-02T00:00:00.000000",
         "quantity": 0,
         "_deepnote_index_column": 884
        },
        {
         "component_number": 897,
         "date": "2022-03-02T00:00:00.000000",
         "quantity": 16681,
         "_deepnote_index_column": 885
        },
        {
         "component_number": 898,
         "date": "2022-03-02T00:00:00.000000",
         "quantity": 102,
         "_deepnote_index_column": 886
        }
       ]
      },
      "text/plain": "      component_number       date  quantity\n1075                30 2022-03-02    1200.0\n3659                90 2022-03-02    3000.0\n4323               108 2022-03-02    1370.0\n6030               150 2022-03-02     775.0\n6194               154 2022-03-02    2100.0\n...                ...        ...       ...\n1375              1389 2022-03-02   13186.0\n1376              1390 2022-03-02     684.0\n1377              1391 2022-03-02    6586.0\n1378              1392 2022-03-02       0.0\n1379              1393 2022-03-02   13100.0\n\n[2203 rows x 3 columns]",
      "text/html": "<div>\n<style scoped>\n    .dataframe tbody tr th:only-of-type {\n        vertical-align: middle;\n    }\n\n    .dataframe tbody tr th {\n        vertical-align: top;\n    }\n\n    .dataframe thead th {\n        text-align: right;\n    }\n</style>\n<table border=\"1\" class=\"dataframe\">\n  <thead>\n    <tr style=\"text-align: right;\">\n      <th></th>\n      <th>component_number</th>\n      <th>date</th>\n      <th>quantity</th>\n    </tr>\n  </thead>\n  <tbody>\n    <tr>\n      <th>1075</th>\n      <td>30</td>\n      <td>2022-03-02</td>\n      <td>1200.0</td>\n    </tr>\n    <tr>\n      <th>3659</th>\n      <td>90</td>\n      <td>2022-03-02</td>\n      <td>3000.0</td>\n    </tr>\n    <tr>\n      <th>4323</th>\n      <td>108</td>\n      <td>2022-03-02</td>\n      <td>1370.0</td>\n    </tr>\n    <tr>\n      <th>6030</th>\n      <td>150</td>\n      <td>2022-03-02</td>\n      <td>775.0</td>\n    </tr>\n    <tr>\n      <th>6194</th>\n      <td>154</td>\n      <td>2022-03-02</td>\n      <td>2100.0</td>\n    </tr>\n    <tr>\n      <th>...</th>\n      <td>...</td>\n      <td>...</td>\n      <td>...</td>\n    </tr>\n    <tr>\n      <th>1375</th>\n      <td>1389</td>\n      <td>2022-03-02</td>\n      <td>13186.0</td>\n    </tr>\n    <tr>\n      <th>1376</th>\n      <td>1390</td>\n      <td>2022-03-02</td>\n      <td>684.0</td>\n    </tr>\n    <tr>\n      <th>1377</th>\n      <td>1391</td>\n      <td>2022-03-02</td>\n      <td>6586.0</td>\n    </tr>\n    <tr>\n      <th>1378</th>\n      <td>1392</td>\n      <td>2022-03-02</td>\n      <td>0.0</td>\n    </tr>\n    <tr>\n      <th>1379</th>\n      <td>1393</td>\n      <td>2022-03-02</td>\n      <td>13100.0</td>\n    </tr>\n  </tbody>\n</table>\n<p>2203 rows × 3 columns</p>\n</div>"
     },
     "metadata": {}
    }
   ]
  },
  {
   "cell_type": "code",
   "metadata": {
    "cell_id": "11f2ae350db049f8ae7cca88269402f2",
    "tags": [],
    "deepnote_to_be_reexecuted": false,
    "source_hash": "f551e24c",
    "execution_start": 1655197599490,
    "execution_millis": 2759,
    "deepnote_cell_type": "code",
    "deepnote_cell_height": 701
   },
   "source": "checkWhichArticlesCanBeMade(inv.purchasing, bom)",
   "execution_count": null,
   "outputs": [
    {
     "name": "stdout",
     "text": "472 :\t True \tMissing []\n434 :\t True \tMissing []\n240 :\t True \tMissing []\n452 :\t False \tMissing [894, 1207]\n107 :\t False \tMissing [1121]\n335 :\t False \tMissing [377]\n484 :\t True \tMissing []\n210 :\t False \tMissing [175, 266, 312, 589, 1006]\n292 :\t False \tMissing [232]\n63 :\t True \tMissing []\n380 :\t False \tMissing [1207]\n108 :\t True \tMissing []\n258 :\t False \tMissing [49, 119, 127, 156, 594, 656, 816]\n459 :\t False \tMissing [894, 1207]\n489 :\t False \tMissing [894, 1207]\n104 :\t True \tMissing []\n91 :\t True \tMissing []\n158 :\t True \tMissing []\n475 :\t True \tMissing []\n242 :\t False \tMissing [31, 112, 132, 151, 177, 211, 213, 214, 280, 329, 346, 368, 375, 396, 425, 595, 621, 661, 680, 691, 754, 763, 795, 816, 825, 855, 890, 896, 950, 966, 1089, 1091, 1098, 1103, 1105, 1122, 1151, 1160, 1170, 1258, 1381, 1387]\n378 :\t False \tMissing [894, 1207]\n203 :\t False \tMissing [31, 49, 119, 151, 156, 214, 261, 271, 272, 359, 412, 436, 594, 595, 604, 656, 691, 741, 754, 763, 779, 795, 816, 825, 855, 984, 1010, 1091, 1122, 1151, 1170, 1306, 1375, 1385]\n206 :\t False \tMissing [175, 266, 589, 699, 1006, 1030]\n448 :\t False \tMissing [635, 775, 894, 921]\n170 :\t False \tMissing [921]\n492 :\t False \tMissing [377]\n176 :\t True \tMissing []\n337 :\t True \tMissing []\n287 :\t True \tMissing []\n286 :\t False \tMissing [31, 49, 100, 119, 151, 214, 261, 271, 272, 359, 412, 436, 594, 595, 604, 615, 656, 691, 741, 763, 779, 795, 816, 825, 855, 984, 1010, 1091, 1122, 1151, 1170, 1306, 1375, 1385]\n331 :\t True \tMissing []\n95 :\t False \tMissing [1121]\n491 :\t False \tMissing [31, 112, 132, 151, 177, 211, 213, 214, 280, 329, 346, 368, 375, 396, 425, 595, 621, 661, 680, 691, 754, 763, 795, 811, 816, 825, 855, 890, 896, 950, 966, 1089, 1091, 1098, 1103, 1105, 1122, 1151, 1160, 1170, 1381, 1387]\n327 :\t False \tMissing [454, 775, 894, 921]\n131 :\t False \tMissing [377]\n4 :\t False \tMissing [894, 1207]\n174 :\t True \tMissing []\n288 :\t False \tMissing [211]\n171 :\t False \tMissing [2, 894, 921, 1374]\n397 :\t False \tMissing [921]\n88 :\t False \tMissing [151, 165, 177, 211, 248, 249, 255, 280, 356, 364, 369, 382, 420, 463, 469, 470, 474, 477, 572, 595, 621, 654, 686, 691, 730, 754, 763, 779, 795, 799, 816, 821, 825, 829, 877, 893, 910, 979, 984, 1060, 1066, 1068, 1091, 1111, 1151, 1160, 1170, 1211, 1279, 1286, 1290, 1306, 1312, 1327, 1371, 1392]\n273 :\t False \tMissing [211]\n432 :\t False \tMissing [921]\n222 :\t False \tMissing [25]\n127 :\t False \tMissing [25, 1007]\n46 :\t True \tMissing []\n247 :\t False \tMissing [921]\n343 :\t False \tMissing [49, 119, 127, 594, 656, 816]\n29 :\t True \tMissing []\n267 :\t False \tMissing [894, 1207]\n447 :\t False \tMissing [175, 266, 589, 1006]\n101 :\t False \tMissing [25]\n329 :\t False \tMissing [921]\n355 :\t False \tMissing [1207]\n237 :\t False \tMissing [377]\n393 :\t False \tMissing [921]\n297 :\t True \tMissing []\n135 :\t False \tMissing [894, 1207]\n457 :\t False \tMissing [79, 89, 349, 446, 722, 883, 894, 1046, 1062, 1121, 1166, 1179, 1307]\n401 :\t False \tMissing [1207]\n467 :\t False \tMissing [894, 921, 994, 1374]\n213 :\t True \tMissing []\n66 :\t True \tMissing []\n103 :\t False \tMissing [921]\n81 :\t False \tMissing [232]\n290 :\t True \tMissing []\n395 :\t False \tMissing [921, 1139, 1374]\n334 :\t False \tMissing [921]\n53 :\t True \tMissing []\n388 :\t False \tMissing [921]\n309 :\t False \tMissing [377]\n24 :\t True \tMissing []\n148 :\t False \tMissing [175, 266, 589, 1006]\n120 :\t False \tMissing [1207]\n333 :\t True \tMissing []\n96 :\t True \tMissing []\n25 :\t True \tMissing []\n493 :\t False \tMissing [10, 25, 262, 333, 355, 434, 703, 708, 786, 894, 1022, 1333]\n450 :\t False \tMissing [635, 921, 1374]\n438 :\t False \tMissing [1040, 1207]\n436 :\t False \tMissing [2, 775, 894, 921]\n261 :\t False \tMissing [25]\n179 :\t False \tMissing [79, 81, 349, 446, 722, 883, 894, 1046, 1062, 1121, 1166, 1179, 1307]\n190 :\t False \tMissing [66, 79, 446, 551, 722, 883, 894, 1046, 1062, 1121, 1166, 1179, 1307]\n302 :\t False \tMissing [31, 83, 112, 132, 151, 177, 211, 213, 214, 280, 329, 368, 375, 396, 516, 595, 621, 661, 680, 691, 707, 754, 763, 770, 779, 790, 795, 816, 825, 855, 896, 966, 1089, 1091, 1098, 1103, 1105, 1116, 1151, 1160, 1170, 1381, 1387]\n462 :\t True \tMissing []\n57 :\t False \tMissing [49, 119, 127, 594, 656, 816, 1132]\n354 :\t True \tMissing []\n427 :\t False \tMissing [1207]\n365 :\t False \tMissing [31, 49, 119, 151, 214, 261, 271, 272, 359, 412, 436, 594, 595, 604, 656, 691, 741, 754, 763, 779, 795, 816, 825, 855, 984, 1010, 1091, 1122, 1151, 1170, 1306, 1375, 1385]\n8 :\t False \tMissing [31, 72, 151, 192, 214, 271, 275, 387, 392, 420, 436, 595, 615, 674, 691, 763, 779, 784, 795, 816, 825, 829, 855, 998, 1089, 1091, 1122, 1151, 1170, 1371, 1375]\n458 :\t False \tMissing [878, 1101, 1121, 1246]\n23 :\t False \tMissing [31, 112, 132, 151, 177, 211, 213, 214, 280, 329, 368, 375, 396, 516, 595, 621, 661, 680, 691, 707, 754, 763, 770, 795, 811, 816, 825, 855, 890, 896, 966, 1089, 1091, 1098, 1103, 1105, 1116, 1122, 1151, 1160, 1170, 1381, 1387]\n7 :\t False \tMissing [1121]\n304 :\t False \tMissing [175, 266, 589, 1006]\n474 :\t False \tMissing [158, 921, 1374]\n367 :\t False \tMissing [1121]\n211 :\t False \tMissing [31, 112, 132, 141, 151, 177, 211, 213, 214, 280, 329, 368, 375, 396, 422, 516, 595, 621, 661, 665, 671, 680, 691, 693, 707, 754, 763, 795, 804, 816, 825, 855, 890, 896, 966, 1034, 1089, 1091, 1098, 1105, 1116, 1122, 1151, 1160, 1170, 1314, 1343, 1381, 1387]\n192 :\t False \tMissing [25]\n169 :\t False \tMissing [1207]\n426 :\t False \tMissing [25]\n181 :\t False \tMissing [49, 119, 127, 594, 656, 816, 1231]\n209 :\t False \tMissing [211]\n349 :\t False \tMissing [2, 775, 894, 921]\n260 :\t True \tMissing []\n301 :\t False \tMissing [151, 165, 177, 211, 248, 280, 369, 382, 420, 463, 474, 477, 484, 572, 595, 621, 654, 667, 686, 691, 730, 754, 763, 779, 795, 816, 825, 829, 877, 979, 984, 1060, 1066, 1068, 1091, 1151, 1160, 1170, 1211, 1279, 1286, 1290, 1306, 1312, 1371, 1392]\n256 :\t False \tMissing [241]\n389 :\t False \tMissing [377]\n13 :\t False \tMissing [894, 1207]\n326 :\t False \tMissing [921]\n117 :\t True \tMissing []\n400 :\t False \tMissing [921]\n313 :\t True \tMissing []\n482 :\t False \tMissing [921]\n147 :\t False \tMissing [25]\n115 :\t False \tMissing [31, 112, 132, 151, 177, 211, 213, 214, 280, 329, 368, 375, 396, 501, 516, 595, 621, 661, 680, 691, 707, 754, 763, 795, 816, 825, 855, 890, 896, 966, 1034, 1089, 1091, 1098, 1103, 1105, 1116, 1122, 1151, 1160, 1170, 1381, 1387]\n277 :\t True \tMissing []\n254 :\t False \tMissing [775, 894, 921, 978]\n232 :\t False \tMissing [921]\n58 :\t False \tMissing [25]\n62 :\t False \tMissing [49, 119, 127, 594, 656, 816]\n12 :\t False \tMissing [270]\n20 :\t False \tMissing [211]\n446 :\t False \tMissing [31, 112, 132, 151, 177, 211, 213, 214, 280, 329, 368, 375, 396, 516, 595, 621, 661, 680, 691, 707, 754, 763, 779, 790, 795, 816, 825, 842, 855, 896, 966, 1034, 1089, 1091, 1098, 1103, 1105, 1116, 1151, 1160, 1170, 1381, 1387]\n481 :\t True \tMissing []\n89 :\t False \tMissing [232]\n314 :\t False \tMissing [1207]\n133 :\t False \tMissing [1207]\n83 :\t False \tMissing [921]\n188 :\t True \tMissing []\n124 :\t True \tMissing []\n153 :\t False \tMissing [158, 775, 894, 921]\n225 :\t False \tMissing [1121]\n207 :\t True \tMissing []\n140 :\t False \tMissing [151, 165, 177, 211, 248, 280, 369, 382, 420, 463, 474, 477, 484, 572, 595, 621, 654, 667, 686, 691, 730, 754, 763, 779, 795, 816, 825, 829, 877, 979, 984, 991, 1060, 1066, 1068, 1091, 1122, 1151, 1160, 1170, 1279, 1286, 1290, 1306, 1371, 1392]\n421 :\t True \tMissing []\n22 :\t False \tMissing [211]\n455 :\t False \tMissing [211]\n48 :\t False \tMissing [49, 119, 127, 594, 656, 816]\n186 :\t False \tMissing [211]\n152 :\t False \tMissing [377]\n137 :\t True \tMissing []\n396 :\t True \tMissing []\n150 :\t False \tMissing [1121]\n180 :\t True \tMissing []\n283 :\t False \tMissing [725]\n51 :\t False \tMissing [175, 266, 589, 699, 1006, 1030]\n323 :\t False \tMissing [921]\n347 :\t False \tMissing [894, 1207]\n55 :\t False \tMissing [2, 775, 921]\n312 :\t False \tMissing [31, 72, 151, 192, 214, 271, 392, 595, 674, 691, 754, 763, 779, 795, 816, 825, 855, 998, 1089, 1091, 1122, 1151, 1170, 1375]\n227 :\t True \tMissing []\n306 :\t False \tMissing [49, 119, 127, 594, 656, 816, 1132]\n10 :\t False \tMissing [49, 119, 127, 156, 594, 656, 816]\n449 :\t False \tMissing [31, 112, 132, 141, 151, 177, 211, 213, 214, 280, 329, 368, 375, 396, 422, 516, 595, 621, 661, 665, 671, 680, 691, 693, 707, 754, 763, 779, 790, 795, 804, 816, 825, 842, 855, 896, 966, 1034, 1089, 1091, 1098, 1105, 1116, 1151, 1160, 1170, 1343, 1381, 1387]\n6 :\t False \tMissing [894, 1207]\n157 :\t False \tMissing [175, 266, 589, 1006]\n404 :\t True \tMissing []\n243 :\t False \tMissing [31, 49, 119, 151, 214, 261, 271, 272, 359, 412, 436, 594, 595, 604, 656, 691, 741, 754, 763, 779, 795, 816, 825, 855, 984, 1010, 1091, 1122, 1151, 1170, 1231, 1306, 1375, 1385]\n68 :\t False \tMissing [894, 1207]\n409 :\t False \tMissing [894, 1207]\n442 :\t False \tMissing [635, 894, 921, 1374]\n341 :\t True \tMissing []\n358 :\t False \tMissing [725]\n250 :\t False \tMissing [31, 112, 132, 141, 151, 177, 211, 213, 214, 280, 329, 368, 375, 396, 422, 516, 538, 595, 621, 661, 665, 671, 680, 691, 693, 707, 754, 763, 770, 779, 790, 795, 804, 816, 825, 855, 896, 966, 1089, 1091, 1098, 1105, 1116, 1151, 1160, 1170, 1343, 1381, 1387]\n345 :\t True \tMissing []\n31 :\t False \tMissing [31, 49, 119, 151, 214, 261, 271, 272, 359, 412, 436, 594, 595, 604, 656, 691, 741, 754, 763, 779, 795, 816, 825, 855, 984, 1010, 1091, 1122, 1151, 1170, 1231, 1306, 1375, 1385]\n199 :\t False \tMissing [1040, 1207]\n391 :\t True \tMissing []\n332 :\t False \tMissing [49, 119, 127, 594, 656, 816, 1132]\n189 :\t False \tMissing [175, 266, 312, 589, 1006]\n379 :\t False \tMissing [49, 119, 127, 594, 656, 816, 1231]\n59 :\t True \tMissing []\n366 :\t False \tMissing [31, 112, 132, 141, 151, 177, 211, 213, 214, 280, 329, 368, 375, 396, 422, 501, 516, 595, 621, 661, 665, 671, 680, 691, 693, 707, 754, 763, 795, 804, 816, 825, 855, 890, 896, 966, 1034, 1089, 1091, 1098, 1105, 1116, 1122, 1151, 1160, 1170, 1343, 1381, 1387]\n183 :\t False \tMissing [158, 894, 921, 1374]\n34 :\t False \tMissing [635, 775, 921]\n435 :\t False \tMissing [894, 1207]\n485 :\t False \tMissing [25, 1007]\n281 :\t False \tMissing [31, 112, 132, 151, 177, 211, 213, 214, 280, 329, 368, 375, 396, 516, 538, 595, 621, 661, 680, 691, 707, 754, 763, 770, 779, 790, 795, 816, 825, 855, 896, 966, 1089, 1091, 1098, 1103, 1105, 1116, 1151, 1160, 1170, 1381, 1387]\n130 :\t False \tMissing [211]\n220 :\t False \tMissing [211]\n118 :\t False \tMissing [66, 79, 446, 722, 766, 883, 894, 1046, 1062, 1121, 1166, 1179, 1307]\n182 :\t True \tMissing []\n178 :\t False \tMissing [31, 83, 112, 132, 141, 151, 177, 211, 213, 214, 280, 329, 368, 375, 396, 422, 516, 595, 621, 661, 665, 671, 680, 691, 693, 707, 754, 763, 770, 779, 790, 795, 804, 816, 825, 855, 896, 966, 1089, 1091, 1098, 1105, 1116, 1151, 1160, 1170, 1343, 1381, 1387]\n377 :\t False \tMissing [1207]\n129 :\t False \tMissing [211]\n61 :\t True \tMissing []\n143 :\t True \tMissing []\n364 :\t False \tMissing [921]\n363 :\t False \tMissing [211]\n185 :\t False \tMissing [921]\n221 :\t True \tMissing []\n478 :\t False \tMissing [49, 119, 127, 156, 594, 656, 816]\n0 :\t False \tMissing [31, 112, 132, 141, 151, 177, 211, 213, 214, 280, 329, 368, 375, 396, 422, 516, 595, 621, 661, 665, 671, 680, 691, 693, 707, 754, 763, 770, 795, 804, 811, 816, 825, 855, 890, 896, 966, 1089, 1091, 1098, 1105, 1116, 1122, 1151, 1160, 1170, 1343, 1381, 1387]\n1 :\t False \tMissing [175, 266, 589, 699, 1006, 1030]\n50 :\t False \tMissing [921]\n246 :\t True \tMissing []\n87 :\t False \tMissing [1121]\n383 :\t True \tMissing []\n407 :\t False \tMissing [225, 775, 894, 921]\n271 :\t False \tMissing [31, 72, 151, 192, 214, 271, 275, 387, 392, 420, 436, 595, 674, 691, 754, 763, 779, 795, 816, 825, 829, 855, 998, 1089, 1091, 1122, 1151, 1170, 1371, 1375]\n423 :\t False \tMissing [211]\n52 :\t True \tMissing []\n244 :\t False \tMissing [31, 112, 132, 151, 177, 211, 213, 214, 280, 329, 368, 375, 396, 516, 595, 621, 661, 680, 691, 707, 754, 763, 795, 816, 825, 855, 890, 896, 966, 1034, 1089, 1091, 1098, 1103, 1105, 1116, 1122, 1151, 1160, 1170, 1258, 1381, 1387]\n488 :\t False \tMissing [211]\n195 :\t False \tMissing [377]\n330 :\t False \tMissing [1121]\n110 :\t True \tMissing []\n468 :\t True \tMissing []\n353 :\t False \tMissing [921]\n372 :\t True \tMissing []\n471 :\t False \tMissing [10, 25, 199, 262, 333, 355, 434, 786, 894, 1022, 1259, 1333]\n224 :\t True \tMissing []\n219 :\t False \tMissing [377]\n429 :\t False \tMissing [1040, 1207]\n291 :\t False \tMissing [1040, 1207]\n357 :\t False \tMissing [211]\n36 :\t False \tMissing [175, 266, 589, 1006]\n486 :\t False \tMissing [775, 894, 921, 994]\n300 :\t True \tMissing []\n128 :\t False \tMissing [10, 25, 262, 333, 355, 434, 708, 786, 849, 894, 1022, 1333]\n60 :\t True \tMissing []\n412 :\t False \tMissing [79, 349, 446, 722, 883, 891, 894, 1046, 1062, 1121, 1166, 1179, 1307]\n82 :\t False \tMissing [921]\n490 :\t True \tMissing []\n75 :\t False \tMissing [921]\n398 :\t False \tMissing [921]\n255 :\t False \tMissing [921]\n151 :\t False \tMissing [25]\n320 :\t False \tMissing [31, 112, 132, 141, 151, 177, 211, 213, 214, 237, 280, 329, 368, 375, 396, 422, 516, 595, 615, 621, 661, 665, 671, 680, 691, 693, 707, 763, 795, 804, 816, 825, 855, 890, 896, 966, 1034, 1089, 1091, 1098, 1105, 1116, 1122, 1151, 1160, 1170, 1258, 1343, 1381, 1387]\n266 :\t False \tMissing [31, 112, 132, 151, 177, 211, 213, 214, 280, 329, 346, 368, 375, 396, 425, 538, 595, 621, 661, 680, 691, 754, 763, 779, 790, 795, 816, 825, 855, 896, 950, 966, 1089, 1091, 1098, 1103, 1105, 1151, 1160, 1170, 1381, 1387]\n324 :\t True \tMissing []\n376 :\t False \tMissing [211]\n97 :\t False \tMissing [49, 119, 127, 594, 656, 816]\n299 :\t False \tMissing [175, 266, 589, 1006]\n305 :\t True \tMissing []\n272 :\t False \tMissing [921]\n382 :\t False \tMissing [1207]\n109 :\t False \tMissing [635, 921, 1374]\n177 :\t False \tMissing [377]\n369 :\t True \tMissing []\n263 :\t False \tMissing [42, 151, 165, 177, 211, 248, 280, 369, 382, 420, 456, 463, 474, 477, 480, 484, 595, 615, 621, 686, 691, 730, 763, 779, 795, 816, 825, 829, 877, 918, 979, 984, 1028, 1060, 1066, 1068, 1091, 1122, 1151, 1160, 1170, 1279, 1286, 1290, 1306, 1371]\n19 :\t False \tMissing [31, 49, 119, 151, 214, 261, 271, 272, 359, 412, 436, 594, 595, 604, 656, 691, 741, 754, 763, 779, 795, 816, 825, 855, 984, 1010, 1091, 1122, 1151, 1170, 1306, 1375, 1385]\n336 :\t False \tMissing [175, 266, 589, 1006]\n156 :\t False \tMissing [377]\n451 :\t False \tMissing [921, 978, 1374]\n387 :\t False \tMissing [211]\n453 :\t False \tMissing [158, 921, 1374]\n11 :\t True \tMissing []\n90 :\t False \tMissing [31, 49, 119, 151, 214, 261, 271, 272, 359, 412, 436, 594, 595, 604, 656, 691, 741, 754, 763, 779, 795, 816, 825, 855, 984, 1010, 1091, 1122, 1132, 1151, 1170, 1306, 1375, 1385]\n216 :\t False \tMissing [31, 72, 151, 214, 271, 275, 387, 392, 420, 436, 595, 674, 691, 754, 763, 779, 795, 816, 825, 829, 855, 925, 998, 1089, 1091, 1122, 1151, 1170, 1371, 1375]\n99 :\t False \tMissing [454, 775, 921]\n325 :\t False \tMissing [31, 49, 119, 151, 214, 261, 271, 272, 359, 412, 436, 594, 595, 604, 656, 691, 741, 754, 763, 779, 795, 816, 825, 855, 984, 1010, 1091, 1122, 1151, 1170, 1306, 1375, 1385]\n414 :\t True \tMissing []\n342 :\t False \tMissing [211, 217, 968, 1092]\n239 :\t True \tMissing []\n360 :\t False \tMissing [25]\n413 :\t False \tMissing [894, 1207]\n420 :\t False \tMissing [921]\n403 :\t False \tMissing [921]\n226 :\t False \tMissing [25]\n248 :\t False \tMissing [775, 894, 921, 1139]\n145 :\t False \tMissing [175, 266, 589, 1006]\n69 :\t False \tMissing [158, 775, 921]\n229 :\t False \tMissing [10, 15, 25, 199, 262, 333, 355, 434, 786, 894, 1022, 1333]\n424 :\t False \tMissing [775, 921, 994]\n54 :\t False \tMissing [31, 49, 100, 119, 151, 214, 261, 271, 272, 359, 412, 436, 594, 595, 604, 615, 656, 691, 741, 763, 779, 795, 816, 825, 855, 984, 1010, 1091, 1122, 1151, 1170, 1306, 1375, 1385]\n374 :\t False \tMissing [377]\n116 :\t False \tMissing [175, 266, 589, 1006]\n316 :\t False \tMissing [921]\n279 :\t True \tMissing []\n126 :\t True \tMissing []\n348 :\t True \tMissing []\n65 :\t True \tMissing []\n208 :\t True \tMissing []\n223 :\t False \tMissing [921]\n317 :\t False \tMissing [270]\n328 :\t False \tMissing [1207]\n77 :\t True \tMissing []\n197 :\t False \tMissing [894, 1207]\n80 :\t False \tMissing [454, 921, 1374]\n276 :\t False \tMissing [42, 151, 165, 177, 211, 248, 249, 280, 364, 369, 382, 420, 463, 469, 470, 474, 477, 595, 607, 615, 621, 654, 686, 691, 730, 763, 779, 794, 795, 799, 816, 825, 829, 877, 893, 910, 918, 979, 984, 1028, 1060, 1066, 1068, 1091, 1111, 1151, 1157, 1160, 1170, 1279, 1286, 1290, 1306, 1312, 1371]\n111 :\t False \tMissing [158, 894, 921, 1374]\n418 :\t False \tMissing [31, 49, 100, 119, 151, 214, 261, 271, 272, 359, 412, 436, 594, 595, 604, 615, 656, 691, 741, 763, 779, 795, 816, 825, 855, 984, 1010, 1091, 1122, 1151, 1170, 1306, 1375, 1385]\n94 :\t False \tMissing [921]\n445 :\t False \tMissing [1121]\n164 :\t True \tMissing []\n456 :\t False \tMissing [211]\n416 :\t False \tMissing [49, 119, 127, 594, 656, 816]\n122 :\t False \tMissing [921]\n73 :\t False \tMissing [921, 994, 1374]\n114 :\t False \tMissing [175, 266, 589, 1006]\n361 :\t True \tMissing []\n2 :\t False \tMissing [42, 151, 165, 177, 211, 248, 280, 369, 382, 420, 463, 474, 477, 480, 484, 595, 615, 621, 686, 691, 730, 763, 779, 795, 816, 825, 829, 875, 877, 918, 979, 984, 1028, 1060, 1066, 1068, 1091, 1151, 1160, 1170, 1279, 1286, 1290, 1306, 1312, 1371]\n217 :\t False \tMissing [31, 72, 151, 214, 271, 275, 387, 392, 420, 436, 522, 595, 674, 691, 754, 763, 779, 795, 816, 825, 829, 855, 998, 1089, 1091, 1122, 1151, 1170, 1371, 1375]\n234 :\t False \tMissing [921]\n265 :\t True \tMissing []\n39 :\t False \tMissing [1121]\n138 :\t False \tMissing [894, 1207]\n433 :\t True \tMissing []\n30 :\t False \tMissing [377]\n26 :\t False \tMissing [79, 81, 349, 446, 722, 883, 894, 1046, 1062, 1121, 1166, 1179, 1307]\n9 :\t False \tMissing [49, 119, 127, 594, 656, 816]\n259 :\t False \tMissing [49, 119, 127, 594, 656, 816, 1132]\n212 :\t False \tMissing [211]\n454 :\t False \tMissing [894, 1207]\n231 :\t True \tMissing []\n38 :\t False \tMissing [921]\n144 :\t True \tMissing []\n162 :\t False \tMissing [921]\n293 :\t False \tMissing [1121]\n262 :\t True \tMissing []\n370 :\t False \tMissing [225, 775, 921]\n42 :\t False \tMissing [31, 112, 132, 141, 151, 177, 211, 213, 214, 280, 329, 368, 375, 396, 422, 516, 595, 621, 661, 665, 671, 680, 691, 693, 707, 754, 763, 770, 795, 804, 811, 816, 825, 855, 890, 896, 966, 1089, 1091, 1098, 1105, 1116, 1122, 1151, 1160, 1170, 1343, 1381, 1387]\n315 :\t False \tMissing [921]\n470 :\t False \tMissing [175, 266, 589, 1006]\n236 :\t False \tMissing [31, 72, 151, 214, 222, 271, 275, 387, 392, 420, 436, 595, 674, 691, 754, 763, 779, 795, 816, 825, 829, 855, 998, 1089, 1091, 1122, 1151, 1170, 1371, 1375]\n238 :\t False \tMissing [1121]\n200 :\t True \tMissing []\n440 :\t False \tMissing [175, 266, 589, 1006]\n339 :\t False \tMissing [1040, 1207]\n28 :\t False \tMissing [225, 921, 1374]\n384 :\t False \tMissing [2, 921, 1374]\n252 :\t False \tMissing [49, 119, 127, 594, 656, 816]\n284 :\t False \tMissing [921]\n245 :\t False \tMissing [211]\n214 :\t False \tMissing [49, 119, 127, 594, 656, 816, 1231]\n47 :\t True \tMissing []\n198 :\t False \tMissing [211]\n406 :\t False \tMissing [25]\n136 :\t False \tMissing [175, 266, 312, 589, 699, 1006, 1030]\n163 :\t False \tMissing [921]\n92 :\t True \tMissing []\n100 :\t False \tMissing [211]\n303 :\t False \tMissing [1121]\n43 :\t False \tMissing [66, 79, 446, 465, 722, 883, 894, 1046, 1062, 1121, 1166, 1179, 1307]\n230 :\t False \tMissing [49, 119, 127, 594, 656, 816]\n45 :\t False \tMissing [211]\n27 :\t False \tMissing [31, 112, 132, 151, 177, 211, 213, 214, 280, 329, 346, 368, 375, 396, 425, 595, 621, 661, 680, 691, 754, 763, 795, 816, 825, 855, 890, 896, 950, 966, 1089, 1091, 1098, 1103, 1105, 1122, 1151, 1160, 1170, 1314, 1381, 1387]\n56 :\t False \tMissing [42, 151, 165, 177, 211, 248, 249, 280, 364, 369, 382, 420, 463, 469, 470, 474, 477, 480, 509, 595, 607, 615, 621, 686, 691, 730, 763, 779, 795, 799, 816, 825, 829, 877, 893, 910, 918, 979, 984, 1028, 1060, 1066, 1068, 1091, 1111, 1122, 1151, 1157, 1160, 1170, 1279, 1286, 1290, 1306, 1371]\n139 :\t False \tMissing [921]\n411 :\t True \tMissing []\n368 :\t True \tMissing []\n269 :\t False \tMissing [921]\n125 :\t False \tMissing [921]\n76 :\t False \tMissing [25]\n253 :\t True \tMissing []\n165 :\t False \tMissing [377]\n41 :\t False \tMissing [921]\n72 :\t False \tMissing [377]\n35 :\t True \tMissing []\n86 :\t False \tMissing [211]\n123 :\t False \tMissing [151, 165, 177, 211, 248, 249, 255, 280, 356, 364, 369, 382, 420, 463, 469, 470, 474, 477, 480, 572, 595, 621, 686, 691, 730, 754, 763, 779, 795, 799, 816, 821, 825, 829, 875, 877, 893, 910, 979, 984, 1060, 1066, 1068, 1091, 1111, 1151, 1160, 1170, 1279, 1286, 1290, 1306, 1312, 1327, 1371, 1392]\n344 :\t False \tMissing [31, 72, 151, 214, 271, 275, 387, 392, 420, 436, 595, 674, 691, 754, 763, 779, 795, 816, 825, 829, 855, 881, 998, 1089, 1091, 1122, 1151, 1170, 1371, 1375]\n439 :\t False \tMissing [894, 1207]\n235 :\t False \tMissing [894, 1207]\n33 :\t True \tMissing []\n428 :\t True \tMissing []\n422 :\t False \tMissing [1207]\n187 :\t False \tMissing [921]\n166 :\t True \tMissing []\n15 :\t False \tMissing [211]\n375 :\t True \tMissing []\n184 :\t False \tMissing [175, 266, 589, 1006]\n381 :\t False \tMissing [25]\n476 :\t False \tMissing [49, 119, 127, 594, 656, 816]\n105 :\t False \tMissing [175, 266, 589, 1006]\n44 :\t True \tMissing []\n168 :\t False \tMissing [921]\n285 :\t False \tMissing [151, 165, 177, 211, 248, 249, 255, 280, 356, 364, 369, 382, 420, 463, 469, 470, 474, 477, 572, 595, 621, 654, 686, 691, 730, 754, 763, 779, 795, 799, 816, 821, 825, 829, 877, 893, 910, 979, 984, 991, 1060, 1066, 1068, 1091, 1111, 1122, 1151, 1160, 1170, 1279, 1286, 1290, 1306, 1327, 1371, 1392]\n410 :\t False \tMissing [175, 266, 312, 589, 1006]\n270 :\t False \tMissing [175, 266, 589, 1006]\n294 :\t False \tMissing [49, 119, 127, 594, 656, 816, 1132]\n17 :\t False \tMissing [25]\n106 :\t False \tMissing [1121]\n274 :\t False \tMissing [175, 266, 589, 1006]\n268 :\t False \tMissing [49, 119, 127, 594, 656, 816]\n289 :\t False \tMissing [921]\n175 :\t False \tMissing [894, 1207]\n5 :\t False \tMissing [211]\n121 :\t False \tMissing [894, 1207]\n444 :\t False \tMissing [79, 349, 446, 553, 722, 883, 894, 1046, 1062, 1121, 1166, 1179, 1307]\n93 :\t False \tMissing [377]\n119 :\t False \tMissing [175, 266, 589, 699, 1006, 1030]\n399 :\t False \tMissing [31, 112, 132, 141, 151, 177, 211, 213, 214, 280, 329, 368, 375, 396, 422, 516, 595, 621, 661, 665, 671, 680, 691, 693, 707, 754, 763, 795, 804, 816, 825, 855, 890, 896, 966, 1034, 1089, 1091, 1098, 1105, 1116, 1122, 1151, 1160, 1170, 1258, 1343, 1381, 1387]\n160 :\t False \tMissing [211]\n79 :\t True \tMissing []\n155 :\t False \tMissing [42, 151, 165, 177, 211, 248, 280, 369, 382, 420, 463, 474, 477, 480, 484, 509, 595, 615, 621, 686, 691, 730, 763, 779, 795, 816, 825, 829, 877, 918, 979, 984, 1028, 1060, 1066, 1068, 1091, 1122, 1151, 1160, 1170, 1279, 1286, 1290, 1306, 1371]\n74 :\t False \tMissing [31, 112, 132, 151, 177, 211, 213, 214, 280, 329, 346, 368, 375, 396, 425, 501, 595, 621, 661, 680, 691, 754, 763, 795, 816, 825, 855, 890, 896, 950, 966, 1089, 1091, 1098, 1103, 1105, 1122, 1151, 1160, 1170, 1381, 1387]\n460 :\t False \tMissing [1121]\n18 :\t True \tMissing []\n67 :\t True \tMissing []\n167 :\t False \tMissing [921]\n319 :\t True \tMissing []\n249 :\t False \tMissing [211]\n194 :\t False \tMissing [211]\n233 :\t False \tMissing [635, 775, 894, 921]\n204 :\t False \tMissing [211]\n296 :\t False \tMissing [31, 72, 151, 192, 214, 271, 275, 387, 392, 420, 436, 595, 615, 674, 691, 763, 779, 784, 795, 816, 825, 829, 855, 998, 1089, 1091, 1122, 1151, 1170, 1371, 1375]\n98 :\t True \tMissing []\n307 :\t False \tMissing [175, 266, 589, 699, 1006, 1030]\n425 :\t False \tMissing [211]\n351 :\t False \tMissing [158, 775, 921]\n202 :\t False \tMissing [175, 266, 589, 1006]\n278 :\t False \tMissing [921]\n461 :\t False \tMissing [31, 72, 151, 214, 271, 275, 387, 392, 420, 436, 593, 595, 674, 691, 754, 763, 779, 795, 816, 825, 829, 855, 998, 1089, 1091, 1122, 1151, 1170, 1371, 1375]\n352 :\t False \tMissing [175, 266, 589, 1006]\n282 :\t False \tMissing [10, 25, 262, 333, 355, 434, 786, 894, 1022, 1233, 1263, 1333]\n102 :\t True \tMissing []\n228 :\t True \tMissing []\n201 :\t True \tMissing []\n321 :\t False \tMissing [158, 775, 894, 921]\n402 :\t False \tMissing [2, 894, 921, 1374]\n371 :\t False \tMissing [151, 165, 177, 211, 248, 280, 369, 382, 420, 456, 463, 474, 477, 480, 484, 572, 595, 621, 667, 686, 691, 730, 754, 763, 779, 795, 816, 825, 829, 877, 979, 984, 1060, 1066, 1068, 1091, 1122, 1151, 1160, 1170, 1279, 1286, 1290, 1306, 1371, 1392]\n390 :\t False \tMissing [377]\n394 :\t False \tMissing [921]\n350 :\t True \tMissing []\n132 :\t False \tMissing [211]\n196 :\t True \tMissing []\n311 :\t False \tMissing [921]\n141 :\t True \tMissing []\n264 :\t False \tMissing [2, 921, 1374]\n466 :\t False \tMissing [31, 112, 132, 151, 177, 211, 213, 214, 280, 329, 346, 368, 375, 396, 425, 595, 621, 661, 680, 691, 754, 763, 779, 790, 795, 816, 825, 842, 855, 896, 950, 966, 1089, 1091, 1098, 1103, 1105, 1151, 1160, 1170, 1381, 1387]\n340 :\t False \tMissing [31, 112, 132, 151, 177, 211, 213, 214, 280, 329, 346, 368, 375, 396, 425, 595, 621, 661, 680, 691, 754, 763, 795, 811, 816, 825, 855, 890, 896, 950, 966, 1089, 1091, 1098, 1103, 1105, 1122, 1151, 1160, 1170, 1381, 1387]\n465 :\t False \tMissing [377]\n172 :\t True \tMissing []\n257 :\t False \tMissing [31, 83, 112, 132, 151, 177, 211, 213, 214, 280, 329, 346, 368, 375, 396, 425, 595, 621, 661, 680, 691, 754, 763, 779, 790, 795, 816, 825, 855, 896, 950, 966, 1089, 1091, 1098, 1103, 1105, 1151, 1160, 1170, 1381, 1387]\n431 :\t True \tMissing []\n298 :\t False \tMissing [211]\n218 :\t False \tMissing [211]\n385 :\t True \tMissing []\n359 :\t False \tMissing [31, 112, 132, 151, 177, 211, 213, 214, 237, 280, 329, 368, 375, 396, 516, 595, 615, 621, 661, 680, 691, 707, 763, 795, 816, 825, 855, 890, 896, 966, 1034, 1089, 1091, 1098, 1103, 1105, 1116, 1122, 1151, 1160, 1170, 1258, 1381, 1387]\n251 :\t True \tMissing []\n205 :\t False \tMissing [1207]\n417 :\t True \tMissing []\n464 :\t False \tMissing [49, 119, 127, 594, 656, 816]\n310 :\t True \tMissing []\n392 :\t False \tMissing [31, 72, 151, 214, 271, 275, 387, 392, 420, 436, 595, 674, 691, 754, 763, 779, 795, 816, 825, 829, 843, 855, 998, 1089, 1091, 1122, 1151, 1170, 1371, 1375]\n71 :\t False \tMissing [31, 49, 100, 119, 151, 214, 261, 271, 272, 359, 412, 436, 594, 595, 604, 615, 656, 691, 741, 763, 779, 795, 816, 825, 855, 984, 1010, 1091, 1122, 1151, 1170, 1306, 1375, 1385]\n463 :\t True \tMissing []\n113 :\t False \tMissing [894, 1207]\n142 :\t False \tMissing [921]\n280 :\t False \tMissing [25]\n479 :\t False \tMissing [31, 72, 151, 192, 214, 271, 392, 595, 674, 691, 754, 763, 779, 795, 816, 825, 855, 998, 1089, 1091, 1122, 1151, 1170, 1375]\n193 :\t True \tMissing []\n149 :\t False \tMissing [921]\n112 :\t False \tMissing [175, 266, 589, 699, 1006, 1030]\n191 :\t False \tMissing [921]\n437 :\t True \tMissing []\n487 :\t False \tMissing [1207]\n386 :\t False \tMissing [921]\n3 :\t False \tMissing [175, 266, 312, 589, 1006]\n308 :\t True \tMissing []\n415 :\t False \tMissing [1121]\n473 :\t False \tMissing [775, 894, 921, 1181]\n494 :\t False \tMissing [921]\n295 :\t False \tMissing [49, 119, 127, 594, 656, 816, 1231]\n443 :\t False \tMissing [775, 921, 1181]\n32 :\t False \tMissing [31, 49, 119, 151, 214, 261, 271, 272, 359, 412, 436, 594, 595, 604, 656, 691, 741, 754, 763, 779, 795, 816, 825, 855, 984, 1010, 1091, 1122, 1151, 1170, 1306, 1375, 1385]\n275 :\t False \tMissing [66, 79, 446, 722, 840, 883, 894, 1046, 1062, 1121, 1166, 1179, 1307]\n173 :\t True \tMissing []\n134 :\t False \tMissing [635, 894, 921, 1374]\n480 :\t False \tMissing [31, 112, 132, 141, 151, 177, 211, 213, 214, 237, 280, 329, 368, 375, 396, 422, 516, 538, 595, 615, 621, 661, 665, 671, 680, 691, 693, 707, 763, 770, 779, 790, 795, 804, 816, 825, 855, 896, 966, 1089, 1091, 1098, 1105, 1116, 1151, 1160, 1170, 1343, 1381, 1387]\n49 :\t True \tMissing []\n318 :\t False \tMissing [921, 1181, 1374]\n159 :\t False \tMissing [894, 1207]\n16 :\t False \tMissing [377]\n362 :\t False \tMissing [49, 119, 127, 594, 656, 816]\n215 :\t False \tMissing [635, 775, 921]\n146 :\t False \tMissing [775, 921, 978]\n408 :\t False \tMissing [25]\n40 :\t False \tMissing [921]\n85 :\t True \tMissing []\n21 :\t False \tMissing [921]\n441 :\t False \tMissing [31, 72, 151, 214, 271, 275, 387, 392, 420, 436, 522, 595, 674, 691, 754, 763, 779, 795, 816, 825, 829, 855, 998, 1089, 1091, 1122, 1151, 1170, 1371, 1375]\n241 :\t False \tMissing [894, 1207]\n322 :\t False \tMissing [894, 1207]\n338 :\t False \tMissing [921]\n84 :\t False \tMissing [31, 72, 151, 192, 214, 271, 275, 387, 392, 420, 436, 595, 674, 691, 754, 763, 779, 795, 816, 825, 829, 855, 998, 1089, 1091, 1122, 1151, 1170, 1371, 1375]\n78 :\t True \tMissing []\n373 :\t False \tMissing [49, 119, 127, 594, 656, 816, 1231]\n64 :\t True \tMissing []\n469 :\t True \tMissing []\n430 :\t True \tMissing []\n14 :\t True \tMissing []\n70 :\t True \tMissing []\n483 :\t False \tMissing [241]\n405 :\t False \tMissing [49, 119, 127, 594, 656, 816]\n356 :\t False \tMissing [175, 266, 589, 1006]\n419 :\t True \tMissing []\n37 :\t False \tMissing [775, 921, 1139]\n161 :\t False \tMissing [2, 775, 921]\n154 :\t False \tMissing [42, 151, 165, 177, 211, 248, 249, 280, 364, 369, 382, 420, 456, 463, 469, 470, 474, 477, 480, 595, 607, 615, 621, 686, 691, 730, 763, 779, 795, 799, 816, 825, 829, 877, 893, 910, 918, 979, 984, 1028, 1060, 1066, 1068, 1091, 1111, 1122, 1151, 1157, 1160, 1170, 1279, 1286, 1290, 1306, 1371]\n346 :\t False \tMissing [377]\n477 :\t True \tMissing []\n",
     "output_type": "stream"
    }
   ]
  },
  {
   "cell_type": "code",
   "metadata": {
    "tags": [],
    "deepnote_to_be_reexecuted": false,
    "source_hash": "3774848a",
    "execution_start": 1655197611052,
    "execution_millis": 96195,
    "cell_id": "00029-4d5aec37-7b15-4e18-9224-2887a69a7346",
    "deepnote_cell_type": "code",
    "deepnote_cell_height": 156.5625
   },
   "source": "model, x = multiPeriodILP(daysInPeriod=daysInPeriod, articles = articlesBatch, inv = inv, bom = bomBatch)",
   "execution_count": null,
   "outputs": [
    {
     "name": "stdout",
     "text": "Multi period ILP for period 2022-03-02 00:00:00 to 2022-03-16 00:00:00\nThis entails 11 days: [Timestamp('2022-03-02 00:00:00', freq='B'), Timestamp('2022-03-03 00:00:00', freq='B'), Timestamp('2022-03-04 00:00:00', freq='B'), Timestamp('2022-03-07 00:00:00', freq='B'), Timestamp('2022-03-08 00:00:00', freq='B'), Timestamp('2022-03-09 00:00:00', freq='B'), Timestamp('2022-03-10 00:00:00', freq='B'), Timestamp('2022-03-11 00:00:00', freq='B'), Timestamp('2022-03-14 00:00:00', freq='B'), Timestamp('2022-03-15 00:00:00', freq='B'), Timestamp('2022-03-16 00:00:00', freq='B')]\n11,1393",
     "output_type": "stream"
    }
   ]
  },
  {
   "cell_type": "code",
   "metadata": {
    "cell_id": "695197bb5c134edfb36ef9ec1ff0c24e",
    "tags": [],
    "deepnote_to_be_reexecuted": false,
    "source_hash": "7e126848",
    "execution_start": 1655197734854,
    "execution_millis": 36412,
    "deepnote_cell_type": "code",
    "deepnote_cell_height": 81
   },
   "source": "status = model.solve()",
   "execution_count": null,
   "outputs": []
  },
  {
   "cell_type": "code",
   "metadata": {
    "tags": [],
    "deepnote_to_be_reexecuted": false,
    "source_hash": "63469c95",
    "execution_start": 1655197771267,
    "execution_millis": 1,
    "cell_id": "00032-8a2d7812-28e8-499a-a09b-f711d65f1e21",
    "deepnote_cell_type": "code",
    "deepnote_cell_height": 112.1875
   },
   "source": "print(status, model.objective.value())",
   "execution_count": null,
   "outputs": [
    {
     "name": "stdout",
     "text": "1 9303984.0\n",
     "output_type": "stream"
    }
   ]
  },
  {
   "cell_type": "code",
   "metadata": {
    "cell_id": "d1a1d306e750459c9b6b4a4930b1e15b",
    "tags": [],
    "deepnote_to_be_reexecuted": false,
    "source_hash": "f413340e",
    "execution_start": 1655197794321,
    "execution_millis": 37,
    "deepnote_cell_type": "code",
    "deepnote_cell_height": 81
   },
   "source": "productionDf = createProductionDf(x, daysInPeriod, articles)",
   "execution_count": null,
   "outputs": []
  },
  {
   "cell_type": "code",
   "metadata": {
    "tags": [],
    "deepnote_to_be_reexecuted": false,
    "source_hash": "cf48a109",
    "execution_start": 1655068529936,
    "execution_millis": 23,
    "cell_id": "00036-17f2debd-5a92-4f5b-be6e-d33983577569",
    "deepnote_cell_type": "code",
    "deepnote_cell_height": 348.4375,
    "deepnote_output_heights": [
     251.4375
    ]
   },
   "source": "Inventory(purchasingProcessed).purchasingForPeriod(periodBegin, periodEnd)",
   "execution_count": null,
   "outputs": [
    {
     "output_type": "execute_result",
     "execution_count": 116,
     "data": {
      "text/plain": "component_number\n0        2297\n1        1998\n2           0\n3        4074\n4        4842\n        ...  \n1389    13462\n1390      691\n1391     6586\n1392        0\n1393    13100\nName: quantity, Length: 1380, dtype: int64"
     },
     "metadata": {}
    }
   ]
  },
  {
   "cell_type": "code",
   "metadata": {
    "tags": [],
    "deepnote_to_be_reexecuted": true,
    "source_hash": "d3235723",
    "cell_id": "00038-d36220ab-ad85-4a1e-9996-701e52afa609",
    "deepnote_cell_type": "code",
    "deepnote_cell_height": 81
   },
   "source": "productionDf.to_csv(\"productionApril\")",
   "execution_count": null,
   "outputs": []
  },
  {
   "cell_type": "code",
   "metadata": {
    "tags": [],
    "deepnote_to_be_reexecuted": false,
    "source_hash": "ae96bc60",
    "execution_start": 1655197801102,
    "execution_millis": 402,
    "cell_id": "00039-33c2d60f-0497-40fe-9511-796d0e442842",
    "deepnote_cell_type": "code",
    "deepnote_cell_height": 460.1875,
    "deepnote_output_heights": [
     21.1875,
     293
    ]
   },
   "source": "productionDf.groupby(by='day').sum()['quantity'].plot()\n",
   "execution_count": null,
   "outputs": [
    {
     "output_type": "execute_result",
     "execution_count": 166,
     "data": {
      "text/plain": "<AxesSubplot:xlabel='day'>"
     },
     "metadata": {}
    },
    {
     "data": {
      "text/plain": "<Figure size 432x288 with 1 Axes>",
      "image/png": "[encoded data removed]"
     },
     "metadata": {
      "needs_background": "light",
      "image/png": {
       "width": 393,
       "height": 291
      }
     },
     "output_type": "display_data"
    }
   ]
  },
  {
   "cell_type": "code",
   "metadata": {
    "tags": [],
    "deepnote_to_be_reexecuted": false,
    "source_hash": "5b3f3c30",
    "execution_start": 1655197806810,
    "execution_millis": 367,
    "cell_id": "00040-0c73f29e-2eb1-490f-b6ab-253a55010fec",
    "deepnote_cell_type": "code",
    "deepnote_cell_height": 442.1875,
    "deepnote_output_heights": [
     21.1875,
     293
    ]
   },
   "source": "productionDf.groupby(by='day').sum()['revenue_total'].plot()",
   "execution_count": null,
   "outputs": [
    {
     "output_type": "execute_result",
     "execution_count": 167,
     "data": {
      "text/plain": "<AxesSubplot:xlabel='day'>"
     },
     "metadata": {}
    },
    {
     "data": {
      "text/plain": "<Figure size 432x288 with 1 Axes>",
      "image/png": "[encoded data removed]"
     },
     "metadata": {
      "needs_background": "light",
      "image/png": {
       "width": 407,
       "height": 291
      }
     },
     "output_type": "display_data"
    }
   ]
  },
  {
   "cell_type": "code",
   "metadata": {
    "tags": [],
    "deepnote_to_be_reexecuted": false,
    "source_hash": "5c43ec5c",
    "execution_start": 1654983523359,
    "execution_millis": 8,
    "cell_id": "00041-120eaf0b-2734-4a13-904f-fccbb700fab1",
    "deepnote_cell_type": "code",
    "deepnote_cell_height": 118.1875,
    "deepnote_output_heights": [
     21.1875
    ]
   },
   "source": "productionDf.groupby(by='day').sum()['revenue_total'].sum()",
   "execution_count": null,
   "outputs": [
    {
     "output_type": "execute_result",
     "execution_count": 24,
     "data": {
      "text/plain": "988240.0"
     },
     "metadata": {}
    }
   ]
  },
  {
   "cell_type": "markdown",
   "source": "### Loop over all periods",
   "metadata": {
    "tags": [],
    "cell_id": "00042-c545fb7e-3745-46b5-8590-06928fc819c6",
    "deepnote_cell_type": "markdown",
    "deepnote_cell_height": 62
   }
  },
  {
   "cell_type": "code",
   "metadata": {
    "tags": [],
    "deepnote_to_be_reexecuted": false,
    "source_hash": "c4306261",
    "execution_start": 1655197814591,
    "execution_millis": 2,
    "cell_id": "00045-c1fa5e94-e457-4f99-9317-b595824d8b05",
    "deepnote_cell_type": "code",
    "deepnote_cell_height": 459
   },
   "source": "def completeHorizonMultiplePeriodILP(periodBegin, periodEnd, articles, purchasing, bom, nPeriods):\n    daysInPeriod = getBusDaysInPeriod(periodBegin, periodEnd)\n    periods = np.array_split(daysInPeriod, nPeriods)\n    productionDfs = []\n    remainingInventory = None\n    for i, period in enumerate(periods):\n        print(f\"Solving for period {i}: {period[0]} - {period[-1]}\")\n        periodPurchasing = purchasing[purchasing['date'].between(period[0], period[-1], inclusive='both')]\n        inv = Inventory(periodPurchasing)\n        print(\"len before addBeginInv\", len(inv.purchasing))\n        inv = inv.add(remainingInventory, date=period[0])\n        print(\"after\", len(inv.purchasing))\n        #print(inv.purchasing)\n        model, x = multiPeriodILP(daysInPeriod=period, articles = articlesBatch, inv = inv, bom = bomBatch)\n        status = model.solve()\n        productionDf = createProductionDf(x, period, articles)\n        print(len(productionDf))\n        print(\"Revenue: \", model.objective.value())\n        remainingInventory = getRemainingComponents(productionDf, inv.purchasingForPeriod(period[0], period[-1]), bom)\n        productionDfs.append(productionDf)\n    completeProductionDf = pd.concat(productionDfs)\n    return completeProductionDf",
   "execution_count": null,
   "outputs": []
  },
  {
   "cell_type": "code",
   "metadata": {
    "tags": [],
    "deepnote_to_be_reexecuted": true,
    "source_hash": "670d6e64",
    "execution_start": 1655197828587,
    "execution_millis": 1587013,
    "cell_id": "00046-34d130bf-b53c-4bb4-9f2d-91eee338cce0",
    "deepnote_cell_type": "code",
    "deepnote_cell_height": 992.375
   },
   "source": "periodBegin = pd.Timestamp('2022-02-16')\nperiodEnd = pd.Timestamp('2022-08-15') \nnPeriods = 7\ncompleteProductionDf = completeHorizonMultiplePeriodILP(periodBegin, periodEnd, articles = articlesBatch, purchasing = purchasingProcessed, bom = bomBatch, nPeriods=nPeriods)",
   "execution_count": null,
   "outputs": [
    {
     "name": "stdout",
     "text": "Solving for period 0: 2022-02-16 00:00:00 - 2022-03-04 00:00:00\nlen before addBeginInv 1329\nafter 1329\nMulti period ILP for period 2022-02-16 00:00:00 to 2022-03-04 00:00:00\nThis entails 13 days: [Timestamp('2022-02-16 00:00:00', freq='B')\n Timestamp('2022-02-17 00:00:00', freq='B')\n Timestamp('2022-02-18 00:00:00', freq='B')\n Timestamp('2022-02-21 00:00:00', freq='B')\n Timestamp('2022-02-22 00:00:00', freq='B')\n Timestamp('2022-02-23 00:00:00', freq='B')\n Timestamp('2022-02-24 00:00:00', freq='B')\n Timestamp('2022-02-25 00:00:00', freq='B')\n Timestamp('2022-02-28 00:00:00', freq='B')\n Timestamp('2022-03-01 00:00:00', freq='B')\n Timestamp('2022-03-02 00:00:00', freq='B')\n Timestamp('2022-03-03 00:00:00', freq='B')\n Timestamp('2022-03-04 00:00:00', freq='B')]\n13,139316\nRevenue:  1906992.0\nremaininginv component_number\n0        2009.0\n1        1998.0\n2           0.0\n3        4074.0\n4        4554.0\n         ...   \n1389    15798.0\n1390      691.0\n1391     6586.0\n1392        0.0\n1393    13100.0\nName: quantity, Length: 1380, dtype: float64\nSolving for period 1: 2022-03-07 00:00:00 - 2022-03-23 00:00:00\nlen before addBeginInv 1087\nafter 2467\nMulti period ILP for period 2022-03-07 00:00:00 to 2022-03-23 00:00:00\nThis entails 13 days: [Timestamp('2022-03-07 00:00:00', freq='B')\n Timestamp('2022-03-08 00:00:00', freq='B')\n Timestamp('2022-03-09 00:00:00', freq='B')\n Timestamp('2022-03-10 00:00:00', freq='B')\n Timestamp('2022-03-11 00:00:00', freq='B')\n Timestamp('2022-03-14 00:00:00', freq='B')\n Timestamp('2022-03-15 00:00:00', freq='B')\n Timestamp('2022-03-16 00:00:00', freq='B')\n Timestamp('2022-03-17 00:00:00', freq='B')\n Timestamp('2022-03-18 00:00:00', freq='B')\n Timestamp('2022-03-21 00:00:00', freq='B')\n Timestamp('2022-03-22 00:00:00', freq='B')\n Timestamp('2022-03-23 00:00:00', freq='B')]\n13,139345\nRevenue:  15558256.0\nremaininginv component_number\n0        1625.0\n1        1998.0\n2           0.0\n3        4074.0\n4        4170.0\n         ...   \n1389    13398.0\n1390      547.0\n1391     6586.0\n1392        0.0\n1393    13100.0\nName: quantity, Length: 1380, dtype: float64\nSolving for period 2: 2022-03-24 00:00:00 - 2022-04-11 00:00:00\nlen before addBeginInv 928\nafter 2308\nMulti period ILP for period 2022-03-24 00:00:00 to 2022-04-11 00:00:00\nThis entails 13 days: [Timestamp('2022-03-24 00:00:00', freq='B')\n Timestamp('2022-03-25 00:00:00', freq='B')\n Timestamp('2022-03-28 00:00:00', freq='B')\n Timestamp('2022-03-29 00:00:00', freq='B')\n Timestamp('2022-03-30 00:00:00', freq='B')\n Timestamp('2022-03-31 00:00:00', freq='B')\n Timestamp('2022-04-01 00:00:00', freq='B')\n Timestamp('2022-04-04 00:00:00', freq='B')\n Timestamp('2022-04-05 00:00:00', freq='B')\n Timestamp('2022-04-06 00:00:00', freq='B')\n Timestamp('2022-04-07 00:00:00', freq='B')\n Timestamp('2022-04-08 00:00:00', freq='B')\n Timestamp('2022-04-11 00:00:00', freq='B')]\n13,1393",
     "output_type": "stream"
    },
    {
     "output_type": "error",
     "ename": "KeyboardInterrupt",
     "evalue": "",
     "traceback": [
      "\u001b[0;31m---------------------------------------------------------------------------\u001b[0m",
      "\u001b[0;31mKeyboardInterrupt\u001b[0m                         Traceback (most recent call last)",
      "\u001b[0;32m<ipython-input-169-ad434f3b48bf>\u001b[0m in \u001b[0;36m<module>\u001b[0;34m\u001b[0m\n\u001b[1;32m      2\u001b[0m \u001b[0mperiodEnd\u001b[0m \u001b[0;34m=\u001b[0m \u001b[0mpd\u001b[0m\u001b[0;34m.\u001b[0m\u001b[0mTimestamp\u001b[0m\u001b[0;34m(\u001b[0m\u001b[0;34m'2022-08-15'\u001b[0m\u001b[0;34m)\u001b[0m\u001b[0;34m\u001b[0m\u001b[0;34m\u001b[0m\u001b[0m\n\u001b[1;32m      3\u001b[0m \u001b[0mnPeriods\u001b[0m \u001b[0;34m=\u001b[0m \u001b[0;36m10\u001b[0m\u001b[0;34m\u001b[0m\u001b[0;34m\u001b[0m\u001b[0m\n\u001b[0;32m----> 4\u001b[0;31m \u001b[0mcompleteProductionDf\u001b[0m \u001b[0;34m=\u001b[0m \u001b[0mcompleteHorizonMultiplePeriodILP\u001b[0m\u001b[0;34m(\u001b[0m\u001b[0mperiodBegin\u001b[0m\u001b[0;34m,\u001b[0m \u001b[0mperiodEnd\u001b[0m\u001b[0;34m,\u001b[0m \u001b[0marticles\u001b[0m \u001b[0;34m=\u001b[0m \u001b[0marticlesBatch\u001b[0m\u001b[0;34m,\u001b[0m \u001b[0mpurchasing\u001b[0m \u001b[0;34m=\u001b[0m \u001b[0mpurchasingProcessed\u001b[0m\u001b[0;34m,\u001b[0m \u001b[0mbom\u001b[0m \u001b[0;34m=\u001b[0m \u001b[0mbomBatch\u001b[0m\u001b[0;34m,\u001b[0m \u001b[0mnPeriods\u001b[0m\u001b[0;34m=\u001b[0m\u001b[0mnPeriods\u001b[0m\u001b[0;34m)\u001b[0m\u001b[0;34m\u001b[0m\u001b[0;34m\u001b[0m\u001b[0m\n\u001b[0m",
      "\u001b[0;32m<ipython-input-168-dfed63f968ed>\u001b[0m in \u001b[0;36mcompleteHorizonMultiplePeriodILP\u001b[0;34m(periodBegin, periodEnd, articles, purchasing, bom, nPeriods)\u001b[0m\n\u001b[1;32m     13\u001b[0m         \u001b[0;31m#print(inv.purchasing)\u001b[0m\u001b[0;34m\u001b[0m\u001b[0;34m\u001b[0m\u001b[0;34m\u001b[0m\u001b[0m\n\u001b[1;32m     14\u001b[0m         \u001b[0mmodel\u001b[0m\u001b[0;34m,\u001b[0m \u001b[0mx\u001b[0m \u001b[0;34m=\u001b[0m \u001b[0mmultiPeriodILP\u001b[0m\u001b[0;34m(\u001b[0m\u001b[0mdaysInPeriod\u001b[0m\u001b[0;34m=\u001b[0m\u001b[0mperiod\u001b[0m\u001b[0;34m,\u001b[0m \u001b[0marticles\u001b[0m \u001b[0;34m=\u001b[0m \u001b[0marticlesBatch\u001b[0m\u001b[0;34m,\u001b[0m \u001b[0minv\u001b[0m \u001b[0;34m=\u001b[0m \u001b[0minv\u001b[0m\u001b[0;34m,\u001b[0m \u001b[0mbom\u001b[0m \u001b[0;34m=\u001b[0m \u001b[0mbomBatch\u001b[0m\u001b[0;34m)\u001b[0m\u001b[0;34m\u001b[0m\u001b[0;34m\u001b[0m\u001b[0m\n\u001b[0;32m---> 15\u001b[0;31m         \u001b[0mstatus\u001b[0m \u001b[0;34m=\u001b[0m \u001b[0mmodel\u001b[0m\u001b[0;34m.\u001b[0m\u001b[0msolve\u001b[0m\u001b[0;34m(\u001b[0m\u001b[0;34m)\u001b[0m\u001b[0;34m\u001b[0m\u001b[0;34m\u001b[0m\u001b[0m\n\u001b[0m\u001b[1;32m     16\u001b[0m         \u001b[0mproductionDf\u001b[0m \u001b[0;34m=\u001b[0m \u001b[0mcreateProductionDf\u001b[0m\u001b[0;34m(\u001b[0m\u001b[0mx\u001b[0m\u001b[0;34m,\u001b[0m \u001b[0mperiod\u001b[0m\u001b[0;34m,\u001b[0m \u001b[0marticles\u001b[0m\u001b[0;34m)\u001b[0m\u001b[0;34m\u001b[0m\u001b[0;34m\u001b[0m\u001b[0m\n\u001b[1;32m     17\u001b[0m         \u001b[0mprint\u001b[0m\u001b[0;34m(\u001b[0m\u001b[0mlen\u001b[0m\u001b[0;34m(\u001b[0m\u001b[0mproductionDf\u001b[0m\u001b[0;34m)\u001b[0m\u001b[0;34m)\u001b[0m\u001b[0;34m\u001b[0m\u001b[0;34m\u001b[0m\u001b[0m\n",
      "\u001b[0;32m~/venv/lib/python3.7/site-packages/pulp/pulp.py\u001b[0m in \u001b[0;36msolve\u001b[0;34m(self, solver, **kwargs)\u001b[0m\n\u001b[1;32m   1911\u001b[0m         \u001b[0;31m# time it\u001b[0m\u001b[0;34m\u001b[0m\u001b[0;34m\u001b[0m\u001b[0;34m\u001b[0m\u001b[0m\n\u001b[1;32m   1912\u001b[0m         \u001b[0mself\u001b[0m\u001b[0;34m.\u001b[0m\u001b[0mstartClock\u001b[0m\u001b[0;34m(\u001b[0m\u001b[0;34m)\u001b[0m\u001b[0;34m\u001b[0m\u001b[0;34m\u001b[0m\u001b[0m\n\u001b[0;32m-> 1913\u001b[0;31m         \u001b[0mstatus\u001b[0m \u001b[0;34m=\u001b[0m \u001b[0msolver\u001b[0m\u001b[0;34m.\u001b[0m\u001b[0mactualSolve\u001b[0m\u001b[0;34m(\u001b[0m\u001b[0mself\u001b[0m\u001b[0;34m,\u001b[0m \u001b[0;34m**\u001b[0m\u001b[0mkwargs\u001b[0m\u001b[0;34m)\u001b[0m\u001b[0;34m\u001b[0m\u001b[0;34m\u001b[0m\u001b[0m\n\u001b[0m\u001b[1;32m   1914\u001b[0m         \u001b[0mself\u001b[0m\u001b[0;34m.\u001b[0m\u001b[0mstopClock\u001b[0m\u001b[0;34m(\u001b[0m\u001b[0;34m)\u001b[0m\u001b[0;34m\u001b[0m\u001b[0;34m\u001b[0m\u001b[0m\n\u001b[1;32m   1915\u001b[0m         \u001b[0mself\u001b[0m\u001b[0;34m.\u001b[0m\u001b[0mrestoreObjective\u001b[0m\u001b[0;34m(\u001b[0m\u001b[0mwasNone\u001b[0m\u001b[0;34m,\u001b[0m \u001b[0mdummyVar\u001b[0m\u001b[0;34m)\u001b[0m\u001b[0;34m\u001b[0m\u001b[0;34m\u001b[0m\u001b[0m\n",
      "\u001b[0;32m~/venv/lib/python3.7/site-packages/pulp/apis/coin_api.py\u001b[0m in \u001b[0;36mactualSolve\u001b[0;34m(self, lp, **kwargs)\u001b[0m\n\u001b[1;32m    135\u001b[0m     \u001b[0;32mdef\u001b[0m \u001b[0mactualSolve\u001b[0m\u001b[0;34m(\u001b[0m\u001b[0mself\u001b[0m\u001b[0;34m,\u001b[0m \u001b[0mlp\u001b[0m\u001b[0;34m,\u001b[0m \u001b[0;34m**\u001b[0m\u001b[0mkwargs\u001b[0m\u001b[0;34m)\u001b[0m\u001b[0;34m:\u001b[0m\u001b[0;34m\u001b[0m\u001b[0;34m\u001b[0m\u001b[0m\n\u001b[1;32m    136\u001b[0m         \u001b[0;34m\"\"\"Solve a well formulated lp problem\"\"\"\u001b[0m\u001b[0;34m\u001b[0m\u001b[0;34m\u001b[0m\u001b[0m\n\u001b[0;32m--> 137\u001b[0;31m         \u001b[0;32mreturn\u001b[0m \u001b[0mself\u001b[0m\u001b[0;34m.\u001b[0m\u001b[0msolve_CBC\u001b[0m\u001b[0;34m(\u001b[0m\u001b[0mlp\u001b[0m\u001b[0;34m,\u001b[0m \u001b[0;34m**\u001b[0m\u001b[0mkwargs\u001b[0m\u001b[0;34m)\u001b[0m\u001b[0;34m\u001b[0m\u001b[0;34m\u001b[0m\u001b[0m\n\u001b[0m\u001b[1;32m    138\u001b[0m \u001b[0;34m\u001b[0m\u001b[0m\n\u001b[1;32m    139\u001b[0m     \u001b[0;32mdef\u001b[0m \u001b[0mavailable\u001b[0m\u001b[0;34m(\u001b[0m\u001b[0mself\u001b[0m\u001b[0;34m)\u001b[0m\u001b[0;34m:\u001b[0m\u001b[0;34m\u001b[0m\u001b[0;34m\u001b[0m\u001b[0m\n",
      "\u001b[0;32m~/venv/lib/python3.7/site-packages/pulp/apis/coin_api.py\u001b[0m in \u001b[0;36msolve_CBC\u001b[0;34m(self, lp, use_mps)\u001b[0m\n\u001b[1;32m    193\u001b[0m         \u001b[0margs\u001b[0m\u001b[0;34m.\u001b[0m\u001b[0mextend\u001b[0m\u001b[0;34m(\u001b[0m\u001b[0mcmds\u001b[0m\u001b[0;34m[\u001b[0m\u001b[0;36m1\u001b[0m\u001b[0;34m:\u001b[0m\u001b[0;34m]\u001b[0m\u001b[0;34m.\u001b[0m\u001b[0msplit\u001b[0m\u001b[0;34m(\u001b[0m\u001b[0;34m)\u001b[0m\u001b[0;34m)\u001b[0m\u001b[0;34m\u001b[0m\u001b[0;34m\u001b[0m\u001b[0m\n\u001b[1;32m    194\u001b[0m         \u001b[0mcbc\u001b[0m \u001b[0;34m=\u001b[0m \u001b[0msubprocess\u001b[0m\u001b[0;34m.\u001b[0m\u001b[0mPopen\u001b[0m\u001b[0;34m(\u001b[0m\u001b[0margs\u001b[0m\u001b[0;34m,\u001b[0m \u001b[0mstdout\u001b[0m\u001b[0;34m=\u001b[0m\u001b[0mpipe\u001b[0m\u001b[0;34m,\u001b[0m \u001b[0mstderr\u001b[0m\u001b[0;34m=\u001b[0m\u001b[0mpipe\u001b[0m\u001b[0;34m,\u001b[0m \u001b[0mstdin\u001b[0m\u001b[0;34m=\u001b[0m\u001b[0mdevnull\u001b[0m\u001b[0;34m)\u001b[0m\u001b[0;34m\u001b[0m\u001b[0;34m\u001b[0m\u001b[0m\n\u001b[0;32m--> 195\u001b[0;31m         \u001b[0;32mif\u001b[0m \u001b[0mcbc\u001b[0m\u001b[0;34m.\u001b[0m\u001b[0mwait\u001b[0m\u001b[0;34m(\u001b[0m\u001b[0;34m)\u001b[0m \u001b[0;34m!=\u001b[0m \u001b[0;36m0\u001b[0m\u001b[0;34m:\u001b[0m\u001b[0;34m\u001b[0m\u001b[0;34m\u001b[0m\u001b[0m\n\u001b[0m\u001b[1;32m    196\u001b[0m             \u001b[0;32mif\u001b[0m \u001b[0mpipe\u001b[0m\u001b[0;34m:\u001b[0m\u001b[0;34m\u001b[0m\u001b[0;34m\u001b[0m\u001b[0m\n\u001b[1;32m    197\u001b[0m                 \u001b[0mpipe\u001b[0m\u001b[0;34m.\u001b[0m\u001b[0mclose\u001b[0m\u001b[0;34m(\u001b[0m\u001b[0;34m)\u001b[0m\u001b[0;34m\u001b[0m\u001b[0;34m\u001b[0m\u001b[0m\n",
      "\u001b[0;32m/usr/local/lib/python3.7/subprocess.py\u001b[0m in \u001b[0;36mwait\u001b[0;34m(self, timeout)\u001b[0m\n\u001b[1;32m   1017\u001b[0m             \u001b[0mendtime\u001b[0m \u001b[0;34m=\u001b[0m \u001b[0m_time\u001b[0m\u001b[0;34m(\u001b[0m\u001b[0;34m)\u001b[0m \u001b[0;34m+\u001b[0m \u001b[0mtimeout\u001b[0m\u001b[0;34m\u001b[0m\u001b[0;34m\u001b[0m\u001b[0m\n\u001b[1;32m   1018\u001b[0m         \u001b[0;32mtry\u001b[0m\u001b[0;34m:\u001b[0m\u001b[0;34m\u001b[0m\u001b[0;34m\u001b[0m\u001b[0m\n\u001b[0;32m-> 1019\u001b[0;31m             \u001b[0;32mreturn\u001b[0m \u001b[0mself\u001b[0m\u001b[0;34m.\u001b[0m\u001b[0m_wait\u001b[0m\u001b[0;34m(\u001b[0m\u001b[0mtimeout\u001b[0m\u001b[0;34m=\u001b[0m\u001b[0mtimeout\u001b[0m\u001b[0;34m)\u001b[0m\u001b[0;34m\u001b[0m\u001b[0;34m\u001b[0m\u001b[0m\n\u001b[0m\u001b[1;32m   1020\u001b[0m         \u001b[0;32mexcept\u001b[0m \u001b[0mKeyboardInterrupt\u001b[0m\u001b[0;34m:\u001b[0m\u001b[0;34m\u001b[0m\u001b[0;34m\u001b[0m\u001b[0m\n\u001b[1;32m   1021\u001b[0m             \u001b[0;31m# https://bugs.python.org/issue25942\u001b[0m\u001b[0;34m\u001b[0m\u001b[0;34m\u001b[0m\u001b[0;34m\u001b[0m\u001b[0m\n",
      "\u001b[0;32m/usr/local/lib/python3.7/subprocess.py\u001b[0m in \u001b[0;36m_wait\u001b[0;34m(self, timeout)\u001b[0m\n\u001b[1;32m   1651\u001b[0m                         \u001b[0;32mif\u001b[0m \u001b[0mself\u001b[0m\u001b[0;34m.\u001b[0m\u001b[0mreturncode\u001b[0m \u001b[0;32mis\u001b[0m \u001b[0;32mnot\u001b[0m \u001b[0;32mNone\u001b[0m\u001b[0;34m:\u001b[0m\u001b[0;34m\u001b[0m\u001b[0;34m\u001b[0m\u001b[0m\n\u001b[1;32m   1652\u001b[0m                             \u001b[0;32mbreak\u001b[0m  \u001b[0;31m# Another thread waited.\u001b[0m\u001b[0;34m\u001b[0m\u001b[0;34m\u001b[0m\u001b[0m\n\u001b[0;32m-> 1653\u001b[0;31m                         \u001b[0;34m(\u001b[0m\u001b[0mpid\u001b[0m\u001b[0;34m,\u001b[0m \u001b[0msts\u001b[0m\u001b[0;34m)\u001b[0m \u001b[0;34m=\u001b[0m \u001b[0mself\u001b[0m\u001b[0;34m.\u001b[0m\u001b[0m_try_wait\u001b[0m\u001b[0;34m(\u001b[0m\u001b[0;36m0\u001b[0m\u001b[0;34m)\u001b[0m\u001b[0;34m\u001b[0m\u001b[0;34m\u001b[0m\u001b[0m\n\u001b[0m\u001b[1;32m   1654\u001b[0m                         \u001b[0;31m# Check the pid and loop as waitpid has been known to\u001b[0m\u001b[0;34m\u001b[0m\u001b[0;34m\u001b[0m\u001b[0;34m\u001b[0m\u001b[0m\n\u001b[1;32m   1655\u001b[0m                         \u001b[0;31m# return 0 even without WNOHANG in odd situations.\u001b[0m\u001b[0;34m\u001b[0m\u001b[0;34m\u001b[0m\u001b[0;34m\u001b[0m\u001b[0m\n",
      "\u001b[0;32m/usr/local/lib/python3.7/subprocess.py\u001b[0m in \u001b[0;36m_try_wait\u001b[0;34m(self, wait_flags)\u001b[0m\n\u001b[1;32m   1609\u001b[0m             \u001b[0;34m\"\"\"All callers to this function MUST hold self._waitpid_lock.\"\"\"\u001b[0m\u001b[0;34m\u001b[0m\u001b[0;34m\u001b[0m\u001b[0m\n\u001b[1;32m   1610\u001b[0m             \u001b[0;32mtry\u001b[0m\u001b[0;34m:\u001b[0m\u001b[0;34m\u001b[0m\u001b[0;34m\u001b[0m\u001b[0m\n\u001b[0;32m-> 1611\u001b[0;31m                 \u001b[0;34m(\u001b[0m\u001b[0mpid\u001b[0m\u001b[0;34m,\u001b[0m \u001b[0msts\u001b[0m\u001b[0;34m)\u001b[0m \u001b[0;34m=\u001b[0m \u001b[0mos\u001b[0m\u001b[0;34m.\u001b[0m\u001b[0mwaitpid\u001b[0m\u001b[0;34m(\u001b[0m\u001b[0mself\u001b[0m\u001b[0;34m.\u001b[0m\u001b[0mpid\u001b[0m\u001b[0;34m,\u001b[0m \u001b[0mwait_flags\u001b[0m\u001b[0;34m)\u001b[0m\u001b[0;34m\u001b[0m\u001b[0;34m\u001b[0m\u001b[0m\n\u001b[0m\u001b[1;32m   1612\u001b[0m             \u001b[0;32mexcept\u001b[0m \u001b[0mChildProcessError\u001b[0m\u001b[0;34m:\u001b[0m\u001b[0;34m\u001b[0m\u001b[0;34m\u001b[0m\u001b[0m\n\u001b[1;32m   1613\u001b[0m                 \u001b[0;31m# This happens if SIGCLD is set to be ignored or waiting\u001b[0m\u001b[0;34m\u001b[0m\u001b[0;34m\u001b[0m\u001b[0;34m\u001b[0m\u001b[0m\n",
      "\u001b[0;31mKeyboardInterrupt\u001b[0m: "
     ]
    },
    {
     "output_type": "error",
     "ename": "KernelInterrupted",
     "evalue": "Execution interrupted by the Jupyter kernel.",
     "traceback": [
      "\u001b[0;31m---------------------------------------------------------------------------\u001b[0m",
      "\u001b[0;31mKernelInterrupted\u001b[0m: Execution interrupted by the Jupyter kernel."
     ]
    }
   ]
  },
  {
   "cell_type": "code",
   "metadata": {
    "tags": [],
    "deepnote_to_be_reexecuted": false,
    "source_hash": "86485c5e",
    "execution_start": 1655159113306,
    "execution_millis": 14,
    "cell_id": "00047-7f5e2e0c-c7e6-4a0f-bde5-48bc7cda64c0",
    "deepnote_cell_type": "code",
    "deepnote_cell_height": 81
   },
   "source": "completeProductionDf.to_csv('completeProduction12dayinterval.csv')",
   "execution_count": null,
   "outputs": []
  },
  {
   "cell_type": "code",
   "metadata": {
    "tags": [],
    "deepnote_to_be_reexecuted": false,
    "source_hash": "a4e148fa",
    "execution_start": 1655159114619,
    "execution_millis": 45,
    "deepnote_table_state": {
     "pageSize": 10,
     "pageIndex": 0,
     "filters": [],
     "sortBy": []
    },
    "deepnote_table_loading": false,
    "cell_id": "00048-4a0b2ee8-00cf-46c6-9650-e7a277f9d5e0",
    "deepnote_cell_type": "code",
    "deepnote_cell_height": 600
   },
   "source": "completeProductionDf",
   "execution_count": null,
   "outputs": [
    {
     "output_type": "execute_result",
     "execution_count": 131,
     "data": {
      "application/vnd.deepnote.dataframe.v3+json": {
       "column_count": 7,
       "row_count": 53,
       "columns": [
        {
         "name": "day",
         "dtype": "datetime64[ns]",
         "stats": {
          "unique_count": 26,
          "nan_count": 0,
          "min": "2022-02-16 00:00:00",
          "max": "2022-06-22 00:00:00",
          "histogram": [
           {
            "bin_start": 1644969600000000000,
            "bin_end": 1646058240000000000,
            "count": 7
           },
           {
            "bin_start": 1646058240000000000,
            "bin_end": 1647146880000000000,
            "count": 9
           },
           {
            "bin_start": 1647146880000000000,
            "bin_end": 1648235520000000000,
            "count": 4
           },
           {
            "bin_start": 1648235520000000000,
            "bin_end": 1649324160000000000,
            "count": 0
           },
           {
            "bin_start": 1649324160000000000,
            "bin_end": 1650412800000000000,
            "count": 2
           },
           {
            "bin_start": 1650412800000000000,
            "bin_end": 1651501440000000000,
            "count": 18
           },
           {
            "bin_start": 1651501440000000000,
            "bin_end": 1652590080000000000,
            "count": 0
           },
           {
            "bin_start": 1652590080000000000,
            "bin_end": 1653678720000000000,
            "count": 0
           },
           {
            "bin_start": 1653678720000000000,
            "bin_end": 1654767360000000000,
            "count": 2
           },
           {
            "bin_start": 1654767360000000000,
            "bin_end": 1655856000000000000,
            "count": 11
           }
          ]
         }
        },
        {
         "name": "day_nr",
         "dtype": "int64",
         "stats": {
          "unique_count": 12,
          "nan_count": 0,
          "min": "1",
          "max": "13",
          "histogram": [
           {
            "bin_start": 1,
            "bin_end": 2.2,
            "count": 2
           },
           {
            "bin_start": 2.2,
            "bin_end": 3.4,
            "count": 1
           },
           {
            "bin_start": 3.4,
            "bin_end": 4.6,
            "count": 0
           },
           {
            "bin_start": 4.6,
            "bin_end": 5.8,
            "count": 1
           },
           {
            "bin_start": 5.8,
            "bin_end": 7,
            "count": 2
           },
           {
            "bin_start": 7,
            "bin_end": 8.2,
            "count": 6
           },
           {
            "bin_start": 8.2,
            "bin_end": 9.4,
            "count": 4
           },
           {
            "bin_start": 9.4,
            "bin_end": 10.6,
            "count": 6
           },
           {
            "bin_start": 10.6,
            "bin_end": 11.799999999999999,
            "count": 9
           },
           {
            "bin_start": 11.799999999999999,
            "bin_end": 13,
            "count": 22
           }
          ]
         }
        },
        {
         "name": "article_number",
         "dtype": "int64",
         "stats": {
          "unique_count": 39,
          "nan_count": 0,
          "min": "4",
          "max": "459",
          "histogram": [
           {
            "bin_start": 4,
            "bin_end": 49.5,
            "count": 6
           },
           {
            "bin_start": 49.5,
            "bin_end": 95,
            "count": 7
           },
           {
            "bin_start": 95,
            "bin_end": 140.5,
            "count": 5
           },
           {
            "bin_start": 140.5,
            "bin_end": 186,
            "count": 6
           },
           {
            "bin_start": 186,
            "bin_end": 231.5,
            "count": 2
           },
           {
            "bin_start": 231.5,
            "bin_end": 277,
            "count": 1
           },
           {
            "bin_start": 277,
            "bin_end": 322.5,
            "count": 8
           },
           {
            "bin_start": 322.5,
            "bin_end": 368,
            "count": 3
           },
           {
            "bin_start": 368,
            "bin_end": 413.5,
            "count": 9
           },
           {
            "bin_start": 413.5,
            "bin_end": 459,
            "count": 6
           }
          ]
         }
        },
        {
         "name": "quantity_batch",
         "dtype": "float64",
         "stats": {
          "unique_count": 30,
          "nan_count": 0,
          "min": "1.0",
          "max": "71.0",
          "histogram": [
           {
            "bin_start": 1,
            "bin_end": 8,
            "count": 23
           },
           {
            "bin_start": 8,
            "bin_end": 15,
            "count": 7
           },
           {
            "bin_start": 15,
            "bin_end": 22,
            "count": 9
           },
           {
            "bin_start": 22,
            "bin_end": 29,
            "count": 4
           },
           {
            "bin_start": 29,
            "bin_end": 36,
            "count": 1
           },
           {
            "bin_start": 36,
            "bin_end": 43,
            "count": 1
           },
           {
            "bin_start": 43,
            "bin_end": 50,
            "count": 5
           },
           {
            "bin_start": 50,
            "bin_end": 57,
            "count": 0
           },
           {
            "bin_start": 57,
            "bin_end": 64,
            "count": 2
           },
           {
            "bin_start": 64,
            "bin_end": 71,
            "count": 1
           }
          ]
         }
        },
        {
         "name": "quantity",
         "dtype": "float64",
         "stats": {
          "unique_count": 30,
          "nan_count": 0,
          "min": "16.0",
          "max": "1136.0",
          "histogram": [
           {
            "bin_start": 16,
            "bin_end": 128,
            "count": 23
           },
           {
            "bin_start": 128,
            "bin_end": 240,
            "count": 7
           },
           {
            "bin_start": 240,
            "bin_end": 352,
            "count": 9
           },
           {
            "bin_start": 352,
            "bin_end": 464,
            "count": 4
           },
           {
            "bin_start": 464,
            "bin_end": 576,
            "count": 1
           },
           {
            "bin_start": 576,
            "bin_end": 688,
            "count": 1
           },
           {
            "bin_start": 688,
            "bin_end": 800,
            "count": 5
           },
           {
            "bin_start": 800,
            "bin_end": 912,
            "count": 0
           },
           {
            "bin_start": 912,
            "bin_end": 1024,
            "count": 2
           },
           {
            "bin_start": 1024,
            "bin_end": 1136,
            "count": 1
           }
          ]
         }
        },
        {
         "name": "article_revenue",
         "dtype": "int64",
         "stats": {
          "unique_count": 37,
          "nan_count": 0,
          "min": "11088",
          "max": "28208",
          "histogram": [
           {
            "bin_start": 11088,
            "bin_end": 12800,
            "count": 2
           },
           {
            "bin_start": 12800,
            "bin_end": 14512,
            "count": 4
           },
           {
            "bin_start": 14512,
            "bin_end": 16224,
            "count": 1
           },
           {
            "bin_start": 16224,
            "bin_end": 17936,
            "count": 2
           },
           {
            "bin_start": 17936,
            "bin_end": 19648,
            "count": 8
           },
           {
            "bin_start": 19648,
            "bin_end": 21360,
            "count": 6
           },
           {
            "bin_start": 21360,
            "bin_end": 23072,
            "count": 8
           },
           {
            "bin_start": 23072,
            "bin_end": 24784,
            "count": 9
           },
           {
            "bin_start": 24784,
            "bin_end": 26496,
            "count": 9
           },
           {
            "bin_start": 26496,
            "bin_end": 28208,
            "count": 4
           }
          ]
         }
        },
        {
         "name": "revenue_total",
         "dtype": "float64",
         "stats": {
          "unique_count": 53,
          "nan_count": 0,
          "min": "234240.0",
          "max": "25300992.0",
          "histogram": [
           {
            "bin_start": 234240,
            "bin_end": 2740915.2,
            "count": 22
           },
           {
            "bin_start": 2740915.2,
            "bin_end": 5247590.4,
            "count": 8
           },
           {
            "bin_start": 5247590.4,
            "bin_end": 7754265.600000001,
            "count": 10
           },
           {
            "bin_start": 7754265.600000001,
            "bin_end": 10260940.8,
            "count": 3
           },
           {
            "bin_start": 10260940.8,
            "bin_end": 12767616,
            "count": 1
           },
           {
            "bin_start": 12767616,
            "bin_end": 15274291.200000001,
            "count": 2
           },
           {
            "bin_start": 15274291.200000001,
            "bin_end": 17780966.400000002,
            "count": 3
           },
           {
            "bin_start": 17780966.400000002,
            "bin_end": 20287641.6,
            "count": 2
           },
           {
            "bin_start": 20287641.6,
            "bin_end": 22794316.8,
            "count": 1
           },
           {
            "bin_start": 22794316.8,
            "bin_end": 25300992,
            "count": 1
           }
          ]
         }
        },
        {
         "name": "_deepnote_index_column",
         "dtype": "int64"
        }
       ],
       "rows": [
        {
         "day": "2022-02-16T00:00:00.000000",
         "day_nr": 1,
         "article_number": 437,
         "quantity_batch": 1,
         "quantity": 16,
         "article_revenue": 19104,
         "revenue_total": 305664,
         "_deepnote_index_column": 5824
        },
        {
         "day": "2022-02-17T00:00:00.000000",
         "day_nr": 2,
         "article_number": 11,
         "quantity_batch": 1,
         "quantity": 16,
         "article_revenue": 16448,
         "revenue_total": 263168,
         "_deepnote_index_column": 3225
        },
        {
         "day": "2022-02-18T00:00:00.000000",
         "day_nr": 3,
         "article_number": 287,
         "quantity_batch": 13,
         "quantity": 208,
         "article_revenue": 21440,
         "revenue_total": 4459520,
         "_deepnote_index_column": 366
        },
        {
         "day": "2022-02-23T00:00:00.000000",
         "day_nr": 6,
         "article_number": 124,
         "quantity_batch": 1,
         "quantity": 16,
         "article_revenue": 16736,
         "revenue_total": 267776,
         "_deepnote_index_column": 1695
        },
        {
         "day": "2022-02-24T00:00:00.000000",
         "day_nr": 7,
         "article_number": 98,
         "quantity_batch": 18,
         "quantity": 288,
         "article_revenue": 20064,
         "revenue_total": 5778432,
         "_deepnote_index_column": 5193
        },
        {
         "day": "2022-02-25T00:00:00.000000",
         "day_nr": 8,
         "article_number": 66,
         "quantity_batch": 1,
         "quantity": 16,
         "article_revenue": 18976,
         "revenue_total": 303616,
         "_deepnote_index_column": 813
        },
        {
         "day": "2022-02-25T00:00:00.000000",
         "day_nr": 8,
         "article_number": 79,
         "quantity_batch": 3,
         "quantity": 48,
         "article_revenue": 24480,
         "revenue_total": 1175040,
         "_deepnote_index_column": 5025
        },
        {
         "day": "2022-03-01T00:00:00.000000",
         "day_nr": 10,
         "article_number": 174,
         "quantity_batch": 1,
         "quantity": 16,
         "article_revenue": 14640,
         "revenue_total": 234240,
         "_deepnote_index_column": 477
        },
        {
         "day": "2022-03-01T00:00:00.000000",
         "day_nr": 10,
         "article_number": 404,
         "quantity_batch": 2,
         "quantity": 32,
         "article_revenue": 19552,
         "revenue_total": 625664,
         "_deepnote_index_column": 2050
        },
        {
         "day": "2022-03-01T00:00:00.000000",
         "day_nr": 10,
         "article_number": 430,
         "quantity_batch": 1,
         "quantity": 16,
         "article_revenue": 26768,
         "revenue_total": 428288,
         "_deepnote_index_column": 6288
        }
       ]
      },
      "text/plain": "            day  day_nr  article_number  quantity_batch  quantity  \\\n5824 2022-02-16       1             437             1.0      16.0   \n3225 2022-02-17       2              11             1.0      16.0   \n366  2022-02-18       3             287            13.0     208.0   \n1695 2022-02-23       6             124             1.0      16.0   \n5193 2022-02-24       7              98            18.0     288.0   \n813  2022-02-25       8              66             1.0      16.0   \n5025 2022-02-25       8              79             3.0      48.0   \n477  2022-03-01      10             174             1.0      16.0   \n2050 2022-03-01      10             404             2.0      32.0   \n6288 2022-03-01      10             430             1.0      16.0   \n1843 2022-03-02      11             137             2.0      32.0   \n5341 2022-03-03      12             201             2.0      32.0   \n4783 2022-03-04      13              44             3.0      48.0   \n1845 2022-03-04      13             137            20.0     320.0   \n376  2022-03-04      13             287            10.0     160.0   \n5654 2022-03-04      13             417             6.0      96.0   \n894  2022-03-21      11              53            16.0     256.0   \n5797 2022-03-23      13             149            25.0     400.0   \n3730 2022-03-23      13             164             2.0      32.0   \n5992 2022-03-23      13             173            23.0     368.0   \n3124 2022-04-18       5             369            43.0     688.0   \n2423 2022-04-19       6              61             4.0      64.0   \n552  2022-04-20       7             432            25.0     400.0   \n631  2022-04-21       8              29            21.0     336.0   \n2932 2022-04-21       8              75            31.0     496.0   \n6157 2022-04-22       9              21            48.0     768.0   \n3063 2022-04-22       9             305            13.0     208.0   \n3128 2022-04-22       9             369             6.0      96.0   \n1451 2022-04-22       9             400             7.0     112.0   \n3064 2022-04-25      10             305            23.0     368.0   \n5456 2022-04-25      10             311            44.0     704.0   \n3129 2022-04-25      10             369             7.0     112.0   \n5106 2022-04-26      11             167             3.0      48.0   \n5457 2022-04-26      11             311            71.0    1136.0   \n2429 2022-04-27      12              61            57.0     912.0   \n3131 2022-04-27      12             369            17.0     272.0   \n636  2022-04-28      13              29            41.0     656.0   \n3132 2022-04-28      13             369            12.0     192.0   \n1455 2022-04-28      13             400            17.0     272.0   \n558  2022-04-28      13             432             4.0      64.0   \n5093 2022-06-01      11              67            19.0     304.0   \n350  2022-06-03      13             176            19.0     304.0   \n5587 2022-06-20      11             218            46.0     736.0   \n647  2022-06-20      11             267             5.0      80.0   \n1648 2022-06-20      11             314            20.0     320.0   \n179  2022-06-20      11             459             3.0      48.0   \n2338 2022-06-21      12             130            11.0     176.0   \n1649 2022-06-21      12             314            49.0     784.0   \n1350 2022-06-21      12             349            13.0     208.0   \n1259 2022-06-21      12             367             1.0      16.0   \n467  2022-06-22      13               4             9.0     144.0   \n1260 2022-06-22      13             367             5.0      80.0   \n2092 2022-06-22      13             409            60.0     960.0   \n\n      article_revenue  revenue_total  \n5824            19104       305664.0  \n3225            16448       263168.0  \n366             21440      4459520.0  \n1695            16736       267776.0  \n5193            20064      5778432.0  \n813             18976       303616.0  \n5025            24480      1175040.0  \n477             14640       234240.0  \n2050            19552       625664.0  \n6288            26768       428288.0  \n1843            25808       825856.0  \n5341            12336       394752.0  \n4783            28208      1353984.0  \n1845            25808      8258560.0  \n376             21440      3430400.0  \n5654            25072      2406912.0  \n894             23408      5992448.0  \n5797            25712     10284800.0  \n3730            11088       354816.0  \n5992            23728      8731904.0  \n3124            25696     17678848.0  \n2423            14416       922624.0  \n552             13392      5356800.0  \n631             19520      6558720.0  \n2932            19648      9745408.0  \n6157            21040     16158720.0  \n3063            17984      3740672.0  \n3128            25696      2466816.0  \n1451            21504      2408448.0  \n3064            17984      6618112.0  \n5456            22272     15679488.0  \n3129            25696      2877952.0  \n5106            22064      1059072.0  \n5457            22272     25300992.0  \n2429            14416     13147392.0  \n3131            25696      6989312.0  \n636             19520     12805120.0  \n3132            25696      4933632.0  \n1455            21504      5849088.0  \n558             13392       857088.0  \n5093            21952      6673408.0  \n350             19984      6075136.0  \n5587            26768     19701248.0  \n647             19808      1584640.0  \n1648            23120      7398400.0  \n179             18960       910080.0  \n2338            19984      3517184.0  \n1649            23120     18126080.0  \n1350            23296      4845568.0  \n1259            24240       387840.0  \n467             28048      4038912.0  \n1260            24240      1939200.0  \n2092            23344     22410240.0  ",
      "text/html": "<div>\n<style scoped>\n    .dataframe tbody tr th:only-of-type {\n        vertical-align: middle;\n    }\n\n    .dataframe tbody tr th {\n        vertical-align: top;\n    }\n\n    .dataframe thead th {\n        text-align: right;\n    }\n</style>\n<table border=\"1\" class=\"dataframe\">\n  <thead>\n    <tr style=\"text-align: right;\">\n      <th></th>\n      <th>day</th>\n      <th>day_nr</th>\n      <th>article_number</th>\n      <th>quantity_batch</th>\n      <th>quantity</th>\n      <th>article_revenue</th>\n      <th>revenue_total</th>\n    </tr>\n  </thead>\n  <tbody>\n    <tr>\n      <th>5824</th>\n      <td>2022-02-16</td>\n      <td>1</td>\n      <td>437</td>\n      <td>1.0</td>\n      <td>16.0</td>\n      <td>19104</td>\n      <td>305664.0</td>\n    </tr>\n    <tr>\n      <th>3225</th>\n      <td>2022-02-17</td>\n      <td>2</td>\n      <td>11</td>\n      <td>1.0</td>\n      <td>16.0</td>\n      <td>16448</td>\n      <td>263168.0</td>\n    </tr>\n    <tr>\n      <th>366</th>\n      <td>2022-02-18</td>\n      <td>3</td>\n      <td>287</td>\n      <td>13.0</td>\n      <td>208.0</td>\n      <td>21440</td>\n      <td>4459520.0</td>\n    </tr>\n    <tr>\n      <th>1695</th>\n      <td>2022-02-23</td>\n      <td>6</td>\n      <td>124</td>\n      <td>1.0</td>\n      <td>16.0</td>\n      <td>16736</td>\n      <td>267776.0</td>\n    </tr>\n    <tr>\n      <th>5193</th>\n      <td>2022-02-24</td>\n      <td>7</td>\n      <td>98</td>\n      <td>18.0</td>\n      <td>288.0</td>\n      <td>20064</td>\n      <td>5778432.0</td>\n    </tr>\n    <tr>\n      <th>813</th>\n      <td>2022-02-25</td>\n      <td>8</td>\n      <td>66</td>\n      <td>1.0</td>\n      <td>16.0</td>\n      <td>18976</td>\n      <td>303616.0</td>\n    </tr>\n    <tr>\n      <th>5025</th>\n      <td>2022-02-25</td>\n      <td>8</td>\n      <td>79</td>\n      <td>3.0</td>\n      <td>48.0</td>\n      <td>24480</td>\n      <td>1175040.0</td>\n    </tr>\n    <tr>\n      <th>477</th>\n      <td>2022-03-01</td>\n      <td>10</td>\n      <td>174</td>\n      <td>1.0</td>\n      <td>16.0</td>\n      <td>14640</td>\n      <td>234240.0</td>\n    </tr>\n    <tr>\n      <th>2050</th>\n      <td>2022-03-01</td>\n      <td>10</td>\n      <td>404</td>\n      <td>2.0</td>\n      <td>32.0</td>\n      <td>19552</td>\n      <td>625664.0</td>\n    </tr>\n    <tr>\n      <th>6288</th>\n      <td>2022-03-01</td>\n      <td>10</td>\n      <td>430</td>\n      <td>1.0</td>\n      <td>16.0</td>\n      <td>26768</td>\n      <td>428288.0</td>\n    </tr>\n    <tr>\n      <th>1843</th>\n      <td>2022-03-02</td>\n      <td>11</td>\n      <td>137</td>\n      <td>2.0</td>\n      <td>32.0</td>\n      <td>25808</td>\n      <td>825856.0</td>\n    </tr>\n    <tr>\n      <th>5341</th>\n      <td>2022-03-03</td>\n      <td>12</td>\n      <td>201</td>\n      <td>2.0</td>\n      <td>32.0</td>\n      <td>12336</td>\n      <td>394752.0</td>\n    </tr>\n    <tr>\n      <th>4783</th>\n      <td>2022-03-04</td>\n      <td>13</td>\n      <td>44</td>\n      <td>3.0</td>\n      <td>48.0</td>\n      <td>28208</td>\n      <td>1353984.0</td>\n    </tr>\n    <tr>\n      <th>1845</th>\n      <td>2022-03-04</td>\n      <td>13</td>\n      <td>137</td>\n      <td>20.0</td>\n      <td>320.0</td>\n      <td>25808</td>\n      <td>8258560.0</td>\n    </tr>\n    <tr>\n      <th>376</th>\n      <td>2022-03-04</td>\n      <td>13</td>\n      <td>287</td>\n      <td>10.0</td>\n      <td>160.0</td>\n      <td>21440</td>\n      <td>3430400.0</td>\n    </tr>\n    <tr>\n      <th>5654</th>\n      <td>2022-03-04</td>\n      <td>13</td>\n      <td>417</td>\n      <td>6.0</td>\n      <td>96.0</td>\n      <td>25072</td>\n      <td>2406912.0</td>\n    </tr>\n    <tr>\n      <th>894</th>\n      <td>2022-03-21</td>\n      <td>11</td>\n      <td>53</td>\n      <td>16.0</td>\n      <td>256.0</td>\n      <td>23408</td>\n      <td>5992448.0</td>\n    </tr>\n    <tr>\n      <th>5797</th>\n      <td>2022-03-23</td>\n      <td>13</td>\n      <td>149</td>\n      <td>25.0</td>\n      <td>400.0</td>\n      <td>25712</td>\n      <td>10284800.0</td>\n    </tr>\n    <tr>\n      <th>3730</th>\n      <td>2022-03-23</td>\n      <td>13</td>\n      <td>164</td>\n      <td>2.0</td>\n      <td>32.0</td>\n      <td>11088</td>\n      <td>354816.0</td>\n    </tr>\n    <tr>\n      <th>5992</th>\n      <td>2022-03-23</td>\n      <td>13</td>\n      <td>173</td>\n      <td>23.0</td>\n      <td>368.0</td>\n      <td>23728</td>\n      <td>8731904.0</td>\n    </tr>\n    <tr>\n      <th>3124</th>\n      <td>2022-04-18</td>\n      <td>5</td>\n      <td>369</td>\n      <td>43.0</td>\n      <td>688.0</td>\n      <td>25696</td>\n      <td>17678848.0</td>\n    </tr>\n    <tr>\n      <th>2423</th>\n      <td>2022-04-19</td>\n      <td>6</td>\n      <td>61</td>\n      <td>4.0</td>\n      <td>64.0</td>\n      <td>14416</td>\n      <td>922624.0</td>\n    </tr>\n    <tr>\n      <th>552</th>\n      <td>2022-04-20</td>\n      <td>7</td>\n      <td>432</td>\n      <td>25.0</td>\n      <td>400.0</td>\n      <td>13392</td>\n      <td>5356800.0</td>\n    </tr>\n    <tr>\n      <th>631</th>\n      <td>2022-04-21</td>\n      <td>8</td>\n      <td>29</td>\n      <td>21.0</td>\n      <td>336.0</td>\n      <td>19520</td>\n      <td>6558720.0</td>\n    </tr>\n    <tr>\n      <th>2932</th>\n      <td>2022-04-21</td>\n      <td>8</td>\n      <td>75</td>\n      <td>31.0</td>\n      <td>496.0</td>\n      <td>19648</td>\n      <td>9745408.0</td>\n    </tr>\n    <tr>\n      <th>6157</th>\n      <td>2022-04-22</td>\n      <td>9</td>\n      <td>21</td>\n      <td>48.0</td>\n      <td>768.0</td>\n      <td>21040</td>\n      <td>16158720.0</td>\n    </tr>\n    <tr>\n      <th>3063</th>\n      <td>2022-04-22</td>\n      <td>9</td>\n      <td>305</td>\n      <td>13.0</td>\n      <td>208.0</td>\n      <td>17984</td>\n      <td>3740672.0</td>\n    </tr>\n    <tr>\n      <th>3128</th>\n      <td>2022-04-22</td>\n      <td>9</td>\n      <td>369</td>\n      <td>6.0</td>\n      <td>96.0</td>\n      <td>25696</td>\n      <td>2466816.0</td>\n    </tr>\n    <tr>\n      <th>1451</th>\n      <td>2022-04-22</td>\n      <td>9</td>\n      <td>400</td>\n      <td>7.0</td>\n      <td>112.0</td>\n      <td>21504</td>\n      <td>2408448.0</td>\n    </tr>\n    <tr>\n      <th>3064</th>\n      <td>2022-04-25</td>\n      <td>10</td>\n      <td>305</td>\n      <td>23.0</td>\n      <td>368.0</td>\n      <td>17984</td>\n      <td>6618112.0</td>\n    </tr>\n    <tr>\n      <th>5456</th>\n      <td>2022-04-25</td>\n      <td>10</td>\n      <td>311</td>\n      <td>44.0</td>\n      <td>704.0</td>\n      <td>22272</td>\n      <td>15679488.0</td>\n    </tr>\n    <tr>\n      <th>3129</th>\n      <td>2022-04-25</td>\n      <td>10</td>\n      <td>369</td>\n      <td>7.0</td>\n      <td>112.0</td>\n      <td>25696</td>\n      <td>2877952.0</td>\n    </tr>\n    <tr>\n      <th>5106</th>\n      <td>2022-04-26</td>\n      <td>11</td>\n      <td>167</td>\n      <td>3.0</td>\n      <td>48.0</td>\n      <td>22064</td>\n      <td>1059072.0</td>\n    </tr>\n    <tr>\n      <th>5457</th>\n      <td>2022-04-26</td>\n      <td>11</td>\n      <td>311</td>\n      <td>71.0</td>\n      <td>1136.0</td>\n      <td>22272</td>\n      <td>25300992.0</td>\n    </tr>\n    <tr>\n      <th>2429</th>\n      <td>2022-04-27</td>\n      <td>12</td>\n      <td>61</td>\n      <td>57.0</td>\n      <td>912.0</td>\n      <td>14416</td>\n      <td>13147392.0</td>\n    </tr>\n    <tr>\n      <th>3131</th>\n      <td>2022-04-27</td>\n      <td>12</td>\n      <td>369</td>\n      <td>17.0</td>\n      <td>272.0</td>\n      <td>25696</td>\n      <td>6989312.0</td>\n    </tr>\n    <tr>\n      <th>636</th>\n      <td>2022-04-28</td>\n      <td>13</td>\n      <td>29</td>\n      <td>41.0</td>\n      <td>656.0</td>\n      <td>19520</td>\n      <td>12805120.0</td>\n    </tr>\n    <tr>\n      <th>3132</th>\n      <td>2022-04-28</td>\n      <td>13</td>\n      <td>369</td>\n      <td>12.0</td>\n      <td>192.0</td>\n      <td>25696</td>\n      <td>4933632.0</td>\n    </tr>\n    <tr>\n      <th>1455</th>\n      <td>2022-04-28</td>\n      <td>13</td>\n      <td>400</td>\n      <td>17.0</td>\n      <td>272.0</td>\n      <td>21504</td>\n      <td>5849088.0</td>\n    </tr>\n    <tr>\n      <th>558</th>\n      <td>2022-04-28</td>\n      <td>13</td>\n      <td>432</td>\n      <td>4.0</td>\n      <td>64.0</td>\n      <td>13392</td>\n      <td>857088.0</td>\n    </tr>\n    <tr>\n      <th>5093</th>\n      <td>2022-06-01</td>\n      <td>11</td>\n      <td>67</td>\n      <td>19.0</td>\n      <td>304.0</td>\n      <td>21952</td>\n      <td>6673408.0</td>\n    </tr>\n    <tr>\n      <th>350</th>\n      <td>2022-06-03</td>\n      <td>13</td>\n      <td>176</td>\n      <td>19.0</td>\n      <td>304.0</td>\n      <td>19984</td>\n      <td>6075136.0</td>\n    </tr>\n    <tr>\n      <th>5587</th>\n      <td>2022-06-20</td>\n      <td>11</td>\n      <td>218</td>\n      <td>46.0</td>\n      <td>736.0</td>\n      <td>26768</td>\n      <td>19701248.0</td>\n    </tr>\n    <tr>\n      <th>647</th>\n      <td>2022-06-20</td>\n      <td>11</td>\n      <td>267</td>\n      <td>5.0</td>\n      <td>80.0</td>\n      <td>19808</td>\n      <td>1584640.0</td>\n    </tr>\n    <tr>\n      <th>1648</th>\n      <td>2022-06-20</td>\n      <td>11</td>\n      <td>314</td>\n      <td>20.0</td>\n      <td>320.0</td>\n      <td>23120</td>\n      <td>7398400.0</td>\n    </tr>\n    <tr>\n      <th>179</th>\n      <td>2022-06-20</td>\n      <td>11</td>\n      <td>459</td>\n      <td>3.0</td>\n      <td>48.0</td>\n      <td>18960</td>\n      <td>910080.0</td>\n    </tr>\n    <tr>\n      <th>2338</th>\n      <td>2022-06-21</td>\n      <td>12</td>\n      <td>130</td>\n      <td>11.0</td>\n      <td>176.0</td>\n      <td>19984</td>\n      <td>3517184.0</td>\n    </tr>\n    <tr>\n      <th>1649</th>\n      <td>2022-06-21</td>\n      <td>12</td>\n      <td>314</td>\n      <td>49.0</td>\n      <td>784.0</td>\n      <td>23120</td>\n      <td>18126080.0</td>\n    </tr>\n    <tr>\n      <th>1350</th>\n      <td>2022-06-21</td>\n      <td>12</td>\n      <td>349</td>\n      <td>13.0</td>\n      <td>208.0</td>\n      <td>23296</td>\n      <td>4845568.0</td>\n    </tr>\n    <tr>\n      <th>1259</th>\n      <td>2022-06-21</td>\n      <td>12</td>\n      <td>367</td>\n      <td>1.0</td>\n      <td>16.0</td>\n      <td>24240</td>\n      <td>387840.0</td>\n    </tr>\n    <tr>\n      <th>467</th>\n      <td>2022-06-22</td>\n      <td>13</td>\n      <td>4</td>\n      <td>9.0</td>\n      <td>144.0</td>\n      <td>28048</td>\n      <td>4038912.0</td>\n    </tr>\n    <tr>\n      <th>1260</th>\n      <td>2022-06-22</td>\n      <td>13</td>\n      <td>367</td>\n      <td>5.0</td>\n      <td>80.0</td>\n      <td>24240</td>\n      <td>1939200.0</td>\n    </tr>\n    <tr>\n      <th>2092</th>\n      <td>2022-06-22</td>\n      <td>13</td>\n      <td>409</td>\n      <td>60.0</td>\n      <td>960.0</td>\n      <td>23344</td>\n      <td>22410240.0</td>\n    </tr>\n  </tbody>\n</table>\n</div>"
     },
     "metadata": {}
    }
   ]
  },
  {
   "cell_type": "code",
   "metadata": {
    "tags": [],
    "deepnote_to_be_reexecuted": false,
    "source_hash": "f7fad974",
    "execution_start": 1655159133344,
    "execution_millis": 7,
    "cell_id": "00049-a95b2dd0-d307-4e13-9a34-0ca9f93cb54b",
    "deepnote_cell_type": "code",
    "deepnote_cell_height": 118.1875,
    "deepnote_output_heights": [
     21.1875
    ]
   },
   "source": "completeProductionDf['revenue_total'].sum()",
   "execution_count": null,
   "outputs": [
    {
     "output_type": "execute_result",
     "execution_count": 131,
     "data": {
      "text/plain": "314638080.0"
     },
     "metadata": {}
    }
   ]
  },
  {
   "cell_type": "code",
   "metadata": {
    "cell_id": "d0a0a81fe811424a8d54efb7ae5a5805",
    "tags": [],
    "deepnote_to_be_reexecuted": false,
    "source_hash": "bcc3aa5d",
    "execution_start": 1655160067776,
    "execution_millis": 5,
    "deepnote_cell_type": "code",
    "deepnote_cell_height": 118.1875,
    "deepnote_output_heights": [
     21.1875
    ]
   },
   "source": "completeProductionDf['quantity'].sum() ",
   "execution_count": null,
   "outputs": [
    {
     "output_type": "execute_result",
     "execution_count": 151,
     "data": {
      "text/plain": "14480.0"
     },
     "metadata": {}
    }
   ]
  },
  {
   "cell_type": "code",
   "metadata": {
    "cell_id": "5198347f487e43e5a7eaddafa3fc2d82",
    "tags": [],
    "deepnote_cell_type": "code",
    "deepnote_cell_height": 84
   },
   "source": "314.638.080.0\n266.938.720.0",
   "execution_count": null,
   "outputs": []
  },
  {
   "cell_type": "code",
   "metadata": {
    "tags": [],
    "deepnote_to_be_reexecuted": false,
    "source_hash": "a6cff97a",
    "execution_start": 1655159321251,
    "execution_millis": 310,
    "cell_id": "00050-52184a81-b88c-4991-8d9a-c69e548eb346",
    "deepnote_cell_type": "code",
    "deepnote_cell_height": 419.1875,
    "deepnote_output_heights": [
     21.1875,
     270
    ]
   },
   "source": "completeProductionDf.groupby(by='day').sum().reindex(productionDays, fill_value=0)['quantity'].plot()",
   "execution_count": null,
   "outputs": [
    {
     "output_type": "execute_result",
     "execution_count": 139,
     "data": {
      "text/plain": "<AxesSubplot:xlabel='day'>"
     },
     "metadata": {}
    },
    {
     "data": {
      "text/plain": "<Figure size 432x288 with 1 Axes>",
      "image/png": "[encoded data removed]"
     },
     "metadata": {
      "needs_background": "light",
      "image/png": {
       "width": 386,
       "height": 268
      }
     },
     "output_type": "display_data"
    }
   ]
  },
  {
   "cell_type": "code",
   "metadata": {
    "tags": [],
    "deepnote_to_be_reexecuted": false,
    "source_hash": "a6d201c",
    "execution_start": 1655059445693,
    "execution_millis": 46,
    "deepnote_table_state": {
     "pageSize": 10,
     "pageIndex": 27,
     "filters": [],
     "sortBy": [
      {
       "id": "article_number",
       "type": "asc"
      }
     ]
    },
    "deepnote_table_loading": false,
    "deepnote_table_invalid": true,
    "cell_id": "00051-40453fce-5e99-43b0-a440-f44e3d0e98e3",
    "deepnote_cell_type": "code",
    "deepnote_cell_height": 695
   },
   "source": "completeProductionDfGrouped = completeProductionDf.groupby(by='article_number').sum()['quantity']\npd.merge(left=completeProductionDfGrouped, right=bom, left_on='article_number', right_on='article_number', how ='left')",
   "execution_count": null,
   "outputs": [
    {
     "output_type": "execute_result",
     "execution_count": 47,
     "data": {
      "application/vnd.deepnote.dataframe.v3+json": {
       "column_count": 6,
       "row_count": 1539,
       "columns": [
        {
         "name": "article_number",
         "dtype": "int64",
         "stats": {
          "unique_count": 14,
          "nan_count": 0,
          "min": "11",
          "max": "437",
          "histogram": [
           {
            "bin_start": 11,
            "bin_end": 53.6,
            "count": 220
           },
           {
            "bin_start": 53.6,
            "bin_end": 96.2,
            "count": 213
           },
           {
            "bin_start": 96.2,
            "bin_end": 138.8,
            "count": 339
           },
           {
            "bin_start": 138.8,
            "bin_end": 181.4,
            "count": 109
           },
           {
            "bin_start": 181.4,
            "bin_end": 224,
            "count": 109
           },
           {
            "bin_start": 224,
            "bin_end": 266.6,
            "count": 0
           },
           {
            "bin_start": 266.6,
            "bin_end": 309.2,
            "count": 111
           },
           {
            "bin_start": 309.2,
            "bin_end": 351.8,
            "count": 0
           },
           {
            "bin_start": 351.8,
            "bin_end": 394.40000000000003,
            "count": 0
           },
           {
            "bin_start": 394.40000000000003,
            "bin_end": 437,
            "count": 438
           }
          ]
         }
        },
        {
         "name": "quantity_x",
         "dtype": "float64",
         "stats": {
          "unique_count": 7,
          "nan_count": 0,
          "min": "16.0",
          "max": "368.0",
          "histogram": [
           {
            "bin_start": 16,
            "bin_end": 51.2,
            "count": 1082
           },
           {
            "bin_start": 51.2,
            "bin_end": 86.4,
            "count": 0
           },
           {
            "bin_start": 86.4,
            "bin_end": 121.60000000000001,
            "count": 113
           },
           {
            "bin_start": 121.60000000000001,
            "bin_end": 156.8,
            "count": 0
           },
           {
            "bin_start": 156.8,
            "bin_end": 192,
            "count": 0
           },
           {
            "bin_start": 192,
            "bin_end": 227.20000000000002,
            "count": 0
           },
           {
            "bin_start": 227.20000000000002,
            "bin_end": 262.40000000000003,
            "count": 0
           },
           {
            "bin_start": 262.40000000000003,
            "bin_end": 297.6,
            "count": 122
           },
           {
            "bin_start": 297.6,
            "bin_end": 332.8,
            "count": 0
           },
           {
            "bin_start": 332.8,
            "bin_end": 368,
            "count": 222
           }
          ]
         }
        },
        {
         "name": "component_number",
         "dtype": "int64",
         "stats": {
          "unique_count": 419,
          "nan_count": 0,
          "min": "0",
          "max": "1389",
          "histogram": [
           {
            "bin_start": 0,
            "bin_end": 138.9,
            "count": 181
           },
           {
            "bin_start": 138.9,
            "bin_end": 277.8,
            "count": 216
           },
           {
            "bin_start": 277.8,
            "bin_end": 416.70000000000005,
            "count": 129
           },
           {
            "bin_start": 416.70000000000005,
            "bin_end": 555.6,
            "count": 166
           },
           {
            "bin_start": 555.6,
            "bin_end": 694.5,
            "count": 150
           },
           {
            "bin_start": 694.5,
            "bin_end": 833.4000000000001,
            "count": 124
           },
           {
            "bin_start": 833.4000000000001,
            "bin_end": 972.3000000000001,
            "count": 108
           },
           {
            "bin_start": 972.3000000000001,
            "bin_end": 1111.2,
            "count": 123
           },
           {
            "bin_start": 1111.2,
            "bin_end": 1250.1000000000001,
            "count": 155
           },
           {
            "bin_start": 1250.1000000000001,
            "bin_end": 1389,
            "count": 187
           }
          ]
         }
        },
        {
         "name": "start_date",
         "dtype": "float64",
         "stats": {
          "unique_count": 116,
          "nan_count": 0,
          "min": "20190128.0",
          "max": "20220701.0",
          "histogram": [
           {
            "bin_start": 20190128,
            "bin_end": 20193185.3,
            "count": 13
           },
           {
            "bin_start": 20193185.3,
            "bin_end": 20196242.6,
            "count": 0
           },
           {
            "bin_start": 20196242.6,
            "bin_end": 20199299.9,
            "count": 0
           },
           {
            "bin_start": 20199299.9,
            "bin_end": 20202357.2,
            "count": 1252
           },
           {
            "bin_start": 20202357.2,
            "bin_end": 20205414.5,
            "count": 0
           },
           {
            "bin_start": 20205414.5,
            "bin_end": 20208471.8,
            "count": 0
           },
           {
            "bin_start": 20208471.8,
            "bin_end": 20211529.1,
            "count": 222
           },
           {
            "bin_start": 20211529.1,
            "bin_end": 20214586.4,
            "count": 0
           },
           {
            "bin_start": 20214586.4,
            "bin_end": 20217643.7,
            "count": 0
           },
           {
            "bin_start": 20217643.7,
            "bin_end": 20220701,
            "count": 52
           }
          ]
         }
        },
        {
         "name": "end_date",
         "dtype": "float64",
         "stats": {
          "unique_count": 4,
          "nan_count": 0,
          "min": "20220530.0",
          "max": "29991231.0",
          "histogram": [
           {
            "bin_start": 20220530,
            "bin_end": 21197600.1,
            "count": 11
           },
           {
            "bin_start": 21197600.1,
            "bin_end": 22174670.2,
            "count": 0
           },
           {
            "bin_start": 22174670.2,
            "bin_end": 23151740.3,
            "count": 0
           },
           {
            "bin_start": 23151740.3,
            "bin_end": 24128810.4,
            "count": 0
           },
           {
            "bin_start": 24128810.4,
            "bin_end": 25105880.5,
            "count": 0
           },
           {
            "bin_start": 25105880.5,
            "bin_end": 26082950.6,
            "count": 0
           },
           {
            "bin_start": 26082950.6,
            "bin_end": 27060020.7,
            "count": 0
           },
           {
            "bin_start": 27060020.7,
            "bin_end": 28037090.8,
            "count": 0
           },
           {
            "bin_start": 28037090.8,
            "bin_end": 29014160.9,
            "count": 0
           },
           {
            "bin_start": 29014160.9,
            "bin_end": 29991231,
            "count": 1528
           }
          ]
         }
        },
        {
         "name": "quantity_y",
         "dtype": "int64",
         "stats": {
          "unique_count": 10,
          "nan_count": 0,
          "min": "1",
          "max": "36",
          "histogram": [
           {
            "bin_start": 1,
            "bin_end": 4.5,
            "count": 1441
           },
           {
            "bin_start": 4.5,
            "bin_end": 8,
            "count": 15
           },
           {
            "bin_start": 8,
            "bin_end": 11.5,
            "count": 13
           },
           {
            "bin_start": 11.5,
            "bin_end": 15,
            "count": 0
           },
           {
            "bin_start": 15,
            "bin_end": 18.5,
            "count": 30
           },
           {
            "bin_start": 18.5,
            "bin_end": 22,
            "count": 0
           },
           {
            "bin_start": 22,
            "bin_end": 25.5,
            "count": 0
           },
           {
            "bin_start": 25.5,
            "bin_end": 29,
            "count": 0
           },
           {
            "bin_start": 29,
            "bin_end": 32.5,
            "count": 0
           },
           {
            "bin_start": 32.5,
            "bin_end": 36,
            "count": 40
           }
          ]
         }
        },
        {
         "name": "_deepnote_index_column",
         "dtype": "int64"
        }
       ],
       "rows": [
        {
         "article_number": 66,
         "quantity_x": 16,
         "component_number": 1209,
         "start_date": 20200715,
         "end_date": 29991231,
         "quantity_y": 1,
         "_deepnote_index_column": 298
        },
        {
         "article_number": 66,
         "quantity_x": 16,
         "component_number": 28,
         "start_date": 20201001,
         "end_date": 29991231,
         "quantity_y": 2,
         "_deepnote_index_column": 310
        },
        {
         "article_number": 66,
         "quantity_x": 16,
         "component_number": 384,
         "start_date": 20200715,
         "end_date": 29991231,
         "quantity_y": 2,
         "_deepnote_index_column": 271
        },
        {
         "article_number": 66,
         "quantity_x": 16,
         "component_number": 334,
         "start_date": 20200715,
         "end_date": 29991231,
         "quantity_y": 1,
         "_deepnote_index_column": 269
        },
        {
         "article_number": 66,
         "quantity_x": 16,
         "component_number": 926,
         "start_date": 20200715,
         "end_date": 29991231,
         "quantity_y": 1,
         "_deepnote_index_column": 241
        },
        {
         "article_number": 66,
         "quantity_x": 16,
         "component_number": 472,
         "start_date": 20200715,
         "end_date": 29991231,
         "quantity_y": 1,
         "_deepnote_index_column": 240
        },
        {
         "article_number": 66,
         "quantity_x": 16,
         "component_number": 11,
         "start_date": 20200715,
         "end_date": 29991231,
         "quantity_y": 1,
         "_deepnote_index_column": 239
        },
        {
         "article_number": 66,
         "quantity_x": 16,
         "component_number": 660,
         "start_date": 20200715,
         "end_date": 29991231,
         "quantity_y": 1,
         "_deepnote_index_column": 238
        },
        {
         "article_number": 66,
         "quantity_x": 16,
         "component_number": 1389,
         "start_date": 20200715,
         "end_date": 29991231,
         "quantity_y": 6,
         "_deepnote_index_column": 237
        },
        {
         "article_number": 66,
         "quantity_x": 16,
         "component_number": 226,
         "start_date": 20200731,
         "end_date": 29991231,
         "quantity_y": 1,
         "_deepnote_index_column": 236
        }
       ]
      },
      "text/plain": "      article_number  quantity_x  component_number  start_date    end_date  \\\n0                 11        16.0              1377  20211207.0  29991231.0   \n1                 11        16.0               110  20200108.0  29991231.0   \n2                 11        16.0              1261  20200714.0  29991231.0   \n3                 11        16.0               696  20200108.0  29991231.0   \n4                 11        16.0              1216  20200108.0  29991231.0   \n...              ...         ...               ...         ...         ...   \n1534             437        16.0              1236  20201127.0  29991231.0   \n1535             437        16.0               473  20220208.0  29991231.0   \n1536             437        16.0               724  20201021.0  29991231.0   \n1537             437        16.0               415  20201021.0  29991231.0   \n1538             437        16.0               210  20201021.0  29991231.0   \n\n      quantity_y  \n0              2  \n1              1  \n2              1  \n3              1  \n4             36  \n...          ...  \n1534           1  \n1535           1  \n1536           1  \n1537           1  \n1538           1  \n\n[1539 rows x 6 columns]",
      "text/html": "<div>\n<style scoped>\n    .dataframe tbody tr th:only-of-type {\n        vertical-align: middle;\n    }\n\n    .dataframe tbody tr th {\n        vertical-align: top;\n    }\n\n    .dataframe thead th {\n        text-align: right;\n    }\n</style>\n<table border=\"1\" class=\"dataframe\">\n  <thead>\n    <tr style=\"text-align: right;\">\n      <th></th>\n      <th>article_number</th>\n      <th>quantity_x</th>\n      <th>component_number</th>\n      <th>start_date</th>\n      <th>end_date</th>\n      <th>quantity_y</th>\n    </tr>\n  </thead>\n  <tbody>\n    <tr>\n      <th>0</th>\n      <td>11</td>\n      <td>16.0</td>\n      <td>1377</td>\n      <td>20211207.0</td>\n      <td>29991231.0</td>\n      <td>2</td>\n    </tr>\n    <tr>\n      <th>1</th>\n      <td>11</td>\n      <td>16.0</td>\n      <td>110</td>\n      <td>20200108.0</td>\n      <td>29991231.0</td>\n      <td>1</td>\n    </tr>\n    <tr>\n      <th>2</th>\n      <td>11</td>\n      <td>16.0</td>\n      <td>1261</td>\n      <td>20200714.0</td>\n      <td>29991231.0</td>\n      <td>1</td>\n    </tr>\n    <tr>\n      <th>3</th>\n      <td>11</td>\n      <td>16.0</td>\n      <td>696</td>\n      <td>20200108.0</td>\n      <td>29991231.0</td>\n      <td>1</td>\n    </tr>\n    <tr>\n      <th>4</th>\n      <td>11</td>\n      <td>16.0</td>\n      <td>1216</td>\n      <td>20200108.0</td>\n      <td>29991231.0</td>\n      <td>36</td>\n    </tr>\n    <tr>\n      <th>...</th>\n      <td>...</td>\n      <td>...</td>\n      <td>...</td>\n      <td>...</td>\n      <td>...</td>\n      <td>...</td>\n    </tr>\n    <tr>\n      <th>1534</th>\n      <td>437</td>\n      <td>16.0</td>\n      <td>1236</td>\n      <td>20201127.0</td>\n      <td>29991231.0</td>\n      <td>1</td>\n    </tr>\n    <tr>\n      <th>1535</th>\n      <td>437</td>\n      <td>16.0</td>\n      <td>473</td>\n      <td>20220208.0</td>\n      <td>29991231.0</td>\n      <td>1</td>\n    </tr>\n    <tr>\n      <th>1536</th>\n      <td>437</td>\n      <td>16.0</td>\n      <td>724</td>\n      <td>20201021.0</td>\n      <td>29991231.0</td>\n      <td>1</td>\n    </tr>\n    <tr>\n      <th>1537</th>\n      <td>437</td>\n      <td>16.0</td>\n      <td>415</td>\n      <td>20201021.0</td>\n      <td>29991231.0</td>\n      <td>1</td>\n    </tr>\n    <tr>\n      <th>1538</th>\n      <td>437</td>\n      <td>16.0</td>\n      <td>210</td>\n      <td>20201021.0</td>\n      <td>29991231.0</td>\n      <td>1</td>\n    </tr>\n  </tbody>\n</table>\n<p>1539 rows × 6 columns</p>\n</div>"
     },
     "metadata": {}
    }
   ]
  },
  {
   "cell_type": "code",
   "metadata": {
    "tags": [],
    "cell_id": "00052-fb23456f-4d30-4e64-b05b-63571abc789f",
    "deepnote_to_be_reexecuted": false,
    "source_hash": "e28539d9",
    "execution_start": 1655159242328,
    "execution_millis": 95,
    "deepnote_cell_type": "code",
    "deepnote_cell_height": 117
   },
   "source": "#comparing to naive\ncomp_prod = pd.read_csv(\"1-year-prod.csv\")\ncomp_rev = pd.read_csv(\"1-year-rev.csv\")",
   "execution_count": null,
   "outputs": []
  },
  {
   "cell_type": "code",
   "metadata": {
    "cell_id": "9c8b6d4951f34d4a9c5d96d48419977c",
    "tags": [],
    "deepnote_to_be_reexecuted": false,
    "source_hash": "7779604e",
    "execution_start": 1655159253915,
    "execution_millis": 6,
    "deepnote_cell_type": "code",
    "deepnote_cell_height": 118.1875,
    "deepnote_output_heights": [
     21.1875
    ]
   },
   "source": "comp_rev['revenue'].sum()",
   "execution_count": null,
   "outputs": [
    {
     "output_type": "execute_result",
     "execution_count": 137,
     "data": {
      "text/plain": "266938720.0"
     },
     "metadata": {}
    }
   ]
  },
  {
   "cell_type": "code",
   "metadata": {
    "cell_id": "370942d031bd4914af2493f26b2a89e9",
    "tags": [],
    "deepnote_to_be_reexecuted": false,
    "source_hash": "f7d48ae3",
    "execution_start": 1655159440473,
    "execution_millis": 1,
    "deepnote_cell_type": "code",
    "deepnote_cell_height": 81
   },
   "source": "comp_prod['date'] = pd.to_datetime(comp_prod['date'])",
   "execution_count": null,
   "outputs": []
  },
  {
   "cell_type": "code",
   "metadata": {
    "cell_id": "2a7e12907235418bb51e1c81d66d0a20",
    "tags": [],
    "deepnote_to_be_reexecuted": false,
    "source_hash": "80261cc6",
    "execution_start": 1655159455781,
    "execution_millis": 356,
    "deepnote_cell_type": "code",
    "deepnote_cell_height": 419.1875,
    "deepnote_output_heights": [
     null,
     270
    ]
   },
   "source": "comp_prod.groupby(by='date').sum().reindex(productionDays, fill_value=0)['quantity'].plot()",
   "execution_count": null,
   "outputs": [
    {
     "output_type": "execute_result",
     "execution_count": 146,
     "data": {
      "text/plain": "<AxesSubplot:xlabel='date'>"
     },
     "metadata": {}
    },
    {
     "data": {
      "text/plain": "<Figure size 432x288 with 1 Axes>",
      "image/png": "[encoded data removed]"
     },
     "metadata": {
      "needs_background": "light",
      "image/png": {
       "width": 379,
       "height": 268
      }
     },
     "output_type": "display_data"
    }
   ]
  },
  {
   "cell_type": "code",
   "metadata": {
    "cell_id": "542b51ef68ca4ac4b50bb8f0aecb09c8",
    "tags": [],
    "deepnote_to_be_reexecuted": false,
    "source_hash": "df0199eb",
    "execution_start": 1655159771414,
    "execution_millis": 600,
    "deepnote_cell_type": "code",
    "deepnote_cell_height": 118.1875,
    "deepnote_output_heights": [
     21.1875
    ]
   },
   "source": "comp_prod['quantity'].sum()",
   "execution_count": null,
   "outputs": [
    {
     "output_type": "execute_result",
     "execution_count": 147,
     "data": {
      "text/plain": "205440"
     },
     "metadata": {}
    }
   ]
  },
  {
   "cell_type": "code",
   "metadata": {
    "cell_id": "f1bfc99448c64713a3dff1f473958501",
    "tags": [],
    "deepnote_cell_type": "code",
    "deepnote_cell_height": 66
   },
   "source": "",
   "execution_count": null,
   "outputs": []
  },
  {
   "cell_type": "markdown",
   "source": "<a style='text-decoration:none;line-height:16px;display:flex;color:#5B5B62;padding:10px;justify-content:end;' href='https://deepnote.com?utm_source=created-in-deepnote-cell&projectId=503941b5-1736-4298-9362-1ed0707166ae' target=\"_blank\">\n<img alt='Created in deepnote.com' style='display:inline;max-height:16px;margin:0px;margin-right:7.5px;' src='data:image/svg+xml;base64,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' > </img>\nCreated in <span style='font-weight:600;margin-left:4px;'>Deepnote</span></a>",
   "metadata": {
    "tags": [],
    "created_in_deepnote_cell": true,
    "deepnote_cell_type": "markdown"
   }
  }
 ],
 "nbformat": 4,
 "nbformat_minor": 2,
 "metadata": {
  "orig_nbformat": 2,
  "deepnote": {},
  "deepnote_notebook_id": "f66f503c-1885-43b1-9469-044f37da7d68",
  "deepnote_execution_queue": []
 }
}